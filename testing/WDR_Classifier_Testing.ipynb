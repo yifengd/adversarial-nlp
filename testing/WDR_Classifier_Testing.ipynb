{
 "cells": [
  {
   "cell_type": "code",
   "source": [
    "!pip install transformers >> /dev/null\n",
    "!pip install pyyaml==5.4.1 >> /dev/null"
   ],
   "metadata": {
    "id": "w_r0jtEbc6RZ"
   },
   "execution_count": null,
   "outputs": []
  },
  {
   "cell_type": "markdown",
   "metadata": {
    "id": "FKRSbmu4Hmag"
   },
   "source": [
    "# Testing classifier\n",
    "\n",
    "This script can be used to test the classifier against any file containing adversarial samples previously generated.\n",
    "\n",
    "Important: exact results reported in the paper cannot be reproduced for datasets that contain more than 250 samples because we used a random sampling process to produce a static local test file. Then, all experiments used that file for faster execution and avoid repeated logits computation. However, this simplified code performs a tail sampling that won't retrieve the same sentences."
   ]
  },
  {
   "cell_type": "code",
   "execution_count": null,
   "metadata": {
    "id": "XAxbz_6GqSkr"
   },
   "outputs": [],
   "source": [
    "import numpy as np\n",
    "import torch\n",
    "from torch.utils.data import Dataset, DataLoader\n",
    "import pandas as pd\n",
    "import os\n",
    "import time\n",
    "import importlib\n",
    "from copy import copy\n",
    "\n",
    "device = torch.device('cuda' if torch.cuda.is_available() else 'cpu')"
   ]
  },
  {
   "cell_type": "markdown",
   "metadata": {
    "id": "gg2VJoGsRXOI"
   },
   "source": [
    "# Loading and transforming data into logits differences\n",
    "\n",
    "The first step is transforming our dataframe into logits differences for each original and adversarial sentence. For this, it is required to execute the model for each sentence with substitutions as explained in the paper."
   ]
  },
  {
   "cell_type": "code",
   "source": [
    "from google.colab import drive\n",
    "drive.mount('/content/drive')"
   ],
   "metadata": {
    "colab": {
     "base_uri": "https://localhost:8080/"
    },
    "id": "wE-FvsXXcJps",
    "outputId": "b39bbe01-30d8-4da9-d780-4d6a4a08f56d"
   },
   "execution_count": null,
   "outputs": [
    {
     "output_type": "stream",
     "name": "stdout",
     "text": [
      "Mounted at /content/drive\n"
     ]
    }
   ]
  },
  {
   "cell_type": "code",
   "execution_count": null,
   "metadata": {
    "id": "KePxPwJIRXOI",
    "colab": {
     "base_uri": "https://localhost:8080/"
    },
    "outputId": "210621aa-9dbf-4537-f874-3dbf67a8a855"
   },
   "outputs": [
    {
     "output_type": "stream",
     "name": "stdout",
     "text": [
      "ag-news_100_styleadv_distilbert.csv\n",
      "ag-news_1000_styleadv_distilbert.csv\n"
     ]
    }
   ],
   "source": [
    "SAMPLES_PATH = '/content/drive/MyDrive/AdversarialXAI/Adversarial Samples'\n",
    "MODEL_PATH = '/content/drive/MyDrive/AdversarialXAI/Classifiers/WDR/agnews_classifier.pickle'\n",
    "\n",
    "# Print available setups for testing\n",
    "for i in os.listdir(SAMPLES_PATH):\n",
    "    if not i.startswith('.'): # Don't print system files\n",
    "        print(i)"
   ]
  },
  {
   "cell_type": "code",
   "execution_count": null,
   "metadata": {
    "id": "zSKDxeQwRXOJ"
   },
   "outputs": [],
   "source": [
    "# Select the analysis configuration\n",
    "test_config = 'ag-news_1000_styleadv_distilbert.csv'"
   ]
  },
  {
   "cell_type": "code",
   "execution_count": null,
   "metadata": {
    "colab": {
     "base_uri": "https://localhost:8080/"
    },
    "id": "gwz2ZjZeRXOJ",
    "outputId": "a4909381-5269-47af-a338-b39402f0b352"
   },
   "outputs": [
    {
     "output_type": "stream",
     "name": "stdout",
     "text": [
      "Model architecture: distilbert\n",
      "Dataset: ag-news\n"
     ]
    }
   ],
   "source": [
    "# Obtain model from test config\n",
    "model_arch = test_config.replace(\".csv\", \"\").split('_')[-1]\n",
    "dataset = test_config.split('_')[0]\n",
    "print(\"Model architecture:\", model_arch)\n",
    "print(\"Dataset:\", dataset)"
   ]
  },
  {
   "cell_type": "code",
   "execution_count": null,
   "metadata": {
    "id": "PzhKgPPZRXOJ"
   },
   "outputs": [],
   "source": [
    "def load_textattack_local_model(model_arch, dataset):\n",
    "    \n",
    "    def load_module_from_file(file_path):\n",
    "        \"\"\"Uses ``importlib`` to dynamically open a file and load an object from\n",
    "        it.\"\"\"\n",
    "        temp_module_name = f\"temp_{time.time()}\"\n",
    "\n",
    "        spec = importlib.util.spec_from_file_location(temp_module_name, file_path)\n",
    "        module = importlib.util.module_from_spec(spec)\n",
    "        spec.loader.exec_module(module)\n",
    "        return module\n",
    "    \n",
    "    m = load_module_from_file(f'../{model_arch}_textattack.py')\n",
    "    model = getattr(m, 'model')\n",
    "    \n",
    "    return model, None    "
   ]
  },
  {
   "cell_type": "code",
   "execution_count": null,
   "metadata": {
    "id": "yS9OK93ZRXOJ"
   },
   "outputs": [],
   "source": [
    "def load_hugging_face_model(model_arch, dataset):\n",
    "    # Import the model used for generating the adversarial samples.\n",
    "    # Correctly, set up imports, model and tokenizer depending on the model you generated the samples on.\n",
    "    \n",
    "    if model_arch == 'distilbert':\n",
    "        from transformers import DistilBertConfig as config, DistilBertTokenizer as tokenizer, AutoModelForSequenceClassification as auto_model\n",
    "    elif model_arch == 'bert':\n",
    "        from transformers import BertConfig as config, BertTokenizer as tokenizer, AutoModelForSequenceClassification as auto_model\n",
    "    \n",
    "    device = torch.device('cuda' if torch.cuda.is_available() else 'cpu')\n",
    "    tokenizer = tokenizer.from_pretrained(f\"textattack/{model_arch}-base-uncased-{dataset}\")\n",
    "    model = auto_model.from_pretrained(f\"textattack/{model_arch}-base-uncased-{dataset}\").to(device)\n",
    "    \n",
    "    return model, tokenizer"
   ]
  },
  {
   "cell_type": "code",
   "execution_count": null,
   "metadata": {
    "id": "LSJN7j5mRXOK"
   },
   "outputs": [],
   "source": [
    "# Models available in hugging-face are executed differently from LSTM and CNN. Choose automatically the configuration and load model + tokenizer.\n",
    "textattack_local_models = ['lstm', 'cnn']\n",
    "\n",
    "if model_arch in textattack_local_models:\n",
    "    hugging_face_model = False\n",
    "    model, tokenizer = load_textattack_local_model(model_arch, dataset)\n",
    "\n",
    "else:\n",
    "    hugging_face_model = True\n",
    "    model, tokenizer = load_hugging_face_model(model_arch, dataset)"
   ]
  },
  {
   "cell_type": "markdown",
   "metadata": {
    "id": "k1XxOsu_4EgE"
   },
   "source": [
    "# Loading data\n",
    "\n",
    "Read into a dataframe your original and adversarial samples."
   ]
  },
  {
   "cell_type": "code",
   "execution_count": null,
   "metadata": {
    "colab": {
     "base_uri": "https://localhost:8080/"
    },
    "id": "WsMs6YrqRXOK",
    "outputId": "07bcfcfa-8106-45c2-8fb2-886da7b64a93"
   },
   "outputs": [
    {
     "output_type": "stream",
     "name": "stdout",
     "text": [
      "(930, 3) Index(['original_text', 'adversarial_text', 'labels'], dtype='object')\n"
     ]
    }
   ],
   "source": [
    "# Read the desired csv file previously generated\n",
    "df = pd.read_csv(f'{SAMPLES_PATH}/{test_config}', index_col=0)\n",
    "\n",
    "print(df.shape, df.columns)"
   ]
  },
  {
   "cell_type": "code",
   "execution_count": null,
   "metadata": {
    "id": "HSJlUCpYRXOL"
   },
   "outputs": [],
   "source": [
    "# Create batches of non-adversarial sentences\n",
    "# For big models such as BERT, we must divide our input in smaller batches.\n",
    "n = 256 # Size of each batch.\n",
    "batches = [list(df.original_text.values)[i:i + n] for i in range(0, len(df.original_text.values), n)]"
   ]
  },
  {
   "cell_type": "code",
   "execution_count": null,
   "metadata": {
    "id": "y7CbI6NdRXOL"
   },
   "outputs": [],
   "source": [
    "# Generate predictions for all non-adversarial sentences in our dataset\n",
    "outputs = []\n",
    "\n",
    "if hugging_face_model is True: # Use tokenizer and hugging face pipeline\n",
    "    for b in batches: \n",
    "        input = tokenizer(b, return_tensors=\"pt\", padding=True, truncation=True).to(device)\n",
    "        with torch.no_grad():\n",
    "            output = model(**input)\n",
    "            outputs.append(output.logits.cpu().numpy())\n",
    "            del input\n",
    "            torch.cuda.empty_cache()\n",
    "\n",
    "else: # Use local model by simply predicting without tokenization\n",
    "    for b in batches: \n",
    "        output = model(b)\n",
    "        outputs.append(output)"
   ]
  },
  {
   "cell_type": "code",
   "execution_count": null,
   "metadata": {
    "id": "PC5OUBCiRXOL"
   },
   "outputs": [],
   "source": [
    "# Obtain non-adversarial predictions\n",
    "outputs_flatten = [item for sublist in outputs for item in sublist]\n",
    "predictions = [np.argmax(i) for i in outputs_flatten]\n",
    "\n",
    "# Include prediction for these classes in our DataFrame\n",
    "df['original_class_predicted'] = predictions"
   ]
  },
  {
   "cell_type": "code",
   "execution_count": null,
   "metadata": {
    "id": "hZhfts5KRXOL"
   },
   "outputs": [],
   "source": [
    "# Strip all null values from dataframe\n",
    "df = df.fillna('')\n",
    "\n",
    "# Repeat process for adversarial sentences\n",
    "n = 256\n",
    "batches = [list(df.adversarial_text.values)[i:i + n] for i in range(0, len(df.adversarial_text.values), n)]"
   ]
  },
  {
   "cell_type": "code",
   "execution_count": null,
   "metadata": {
    "id": "W3rBvyMpRXOL"
   },
   "outputs": [],
   "source": [
    "# Generate predictions for all non-adversarial sentences in our dataset\n",
    "outputs = []\n",
    "\n",
    "if hugging_face_model is True: # Use tokenizer and hugging face pipeline\n",
    "    for b in batches:\n",
    "        input = tokenizer(b, return_tensors=\"pt\", padding=True, truncation=True).to(device)\n",
    "        with torch.no_grad():\n",
    "            output = model(**input)\n",
    "            outputs.append(output.logits.cpu().numpy())\n",
    "            del input\n",
    "            torch.cuda.empty_cache()\n",
    "\n",
    "else: # Use local model by simply predicting without tokenization\n",
    "    for b in batches: \n",
    "        output = model(b)\n",
    "        outputs.append(output)"
   ]
  },
  {
   "cell_type": "code",
   "execution_count": null,
   "metadata": {
    "id": "Jbhiwih6RXOM"
   },
   "outputs": [],
   "source": [
    "# Obtain adversarial predictions\n",
    "outputs_flatten = [item for sublist in outputs for item in sublist]\n",
    "predictions = [np.argmax(i) for i in outputs_flatten]\n",
    "\n",
    "# Include prediction for these classes in our DataFrame\n",
    "df['adversarial_class_predicted'] = predictions"
   ]
  },
  {
   "cell_type": "code",
   "execution_count": null,
   "metadata": {
    "id": "liX1ury1RXOM"
   },
   "outputs": [],
   "source": [
    "# Select only those sentences for which there was actually a change in the prediction\n",
    "correct = df[(df['original_class_predicted'] != df['adversarial_class_predicted'])]"
   ]
  },
  {
   "cell_type": "code",
   "execution_count": null,
   "metadata": {
    "id": "QyoFG2NARXON"
   },
   "outputs": [],
   "source": [
    "# Update dataframe and keep only adversarial samples\n",
    "df = correct"
   ]
  },
  {
   "cell_type": "code",
   "source": [
    "df.head()\n",
    "len(df)"
   ],
   "metadata": {
    "colab": {
     "base_uri": "https://localhost:8080/"
    },
    "id": "SIMxejDUrS_h",
    "outputId": "bcb81711-ad9e-46c3-c283-e51ee8fb8344"
   },
   "execution_count": null,
   "outputs": [
    {
     "output_type": "execute_result",
     "data": {
      "text/plain": [
       "226"
      ]
     },
     "metadata": {},
     "execution_count": 25
    }
   ]
  },
  {
   "cell_type": "markdown",
   "metadata": {
    "id": "wdtXGwKNRXON"
   },
   "source": [
    "# Obtain logits\n",
    "Once we have the predictions and actually adversarial sentences, we generate the logits differences"
   ]
  },
  {
   "cell_type": "code",
   "execution_count": null,
   "metadata": {
    "id": "MgFTTcTbRXON"
   },
   "outputs": [],
   "source": [
    "# For large datasets we keep tail. Head is used for training. This way we ensure no intersection\n",
    "if len(df) > 250:\n",
    "    df = df.tail(250)"
   ]
  },
  {
   "cell_type": "code",
   "execution_count": null,
   "metadata": {
    "id": "47OAgrucRXOO"
   },
   "outputs": [],
   "source": [
    "original_samples = df.original_text.values\n",
    "adversarial_samples = df.adversarial_text.values"
   ]
  },
  {
   "cell_type": "code",
   "execution_count": null,
   "metadata": {
    "id": "vlX96548RXOO"
   },
   "outputs": [],
   "source": [
    "# Concatenate all original samples and their predictions\n",
    "x = np.concatenate((original_samples, adversarial_samples))\n",
    "y = np.concatenate((np.zeros(len(original_samples)), np.ones(len(adversarial_samples))))"
   ]
  },
  {
   "cell_type": "code",
   "execution_count": null,
   "metadata": {
    "id": "bmWwOkCBRXOO"
   },
   "outputs": [],
   "source": [
    "def obtain_logits(samples, batch_size, model, tokenizer):\n",
    "    \"\"\"\n",
    "    For given samples and model, compute prediction logits.\n",
    "    Input data is splitted in batches.\n",
    "    \"\"\"\n",
    "    batches = [samples[i:i + batch_size] for i in range(0, len(samples), batch_size)]\n",
    "    logits = []\n",
    "\n",
    "    for i, b in enumerate(batches):\n",
    "        print(\"{}/{}\".format(i+1, len(batches)))\n",
    "        if hugging_face_model:\n",
    "            with torch.no_grad():\n",
    "                input = tokenizer(list(b), return_tensors=\"pt\", padding=True, truncation=True).to(device)\n",
    "                logits.append(model(**input).logits.cpu().numpy())\n",
    "        else:\n",
    "            logits.append(model(b))\n",
    "\n",
    "    return logits"
   ]
  },
  {
   "cell_type": "code",
   "execution_count": null,
   "metadata": {
    "colab": {
     "base_uri": "https://localhost:8080/"
    },
    "id": "1EUwTgJTRXOP",
    "outputId": "7873450a-5a71-4aee-ccc6-89c72dd89a4c"
   },
   "outputs": [
    {
     "output_type": "stream",
     "name": "stdout",
     "text": [
      "1/1\n"
     ]
    }
   ],
   "source": [
    "# Compute logits for original sentences\n",
    "batch_size = 350\n",
    "original_logits = obtain_logits(original_samples, batch_size, model, tokenizer)\n",
    "original_logits = np.concatenate(original_logits).reshape(-1, original_logits[0].shape[1])"
   ]
  },
  {
   "cell_type": "code",
   "execution_count": null,
   "metadata": {
    "id": "mhqfTkguRXOP"
   },
   "outputs": [],
   "source": [
    "torch.cuda.empty_cache()"
   ]
  },
  {
   "cell_type": "code",
   "execution_count": null,
   "metadata": {
    "colab": {
     "base_uri": "https://localhost:8080/"
    },
    "id": "I65TlI7nRXOP",
    "outputId": "d676bca0-479f-4d59-e816-48e3315c887d"
   },
   "outputs": [
    {
     "output_type": "stream",
     "name": "stdout",
     "text": [
      "1/1\n"
     ]
    }
   ],
   "source": [
    "# Compute logits for adversarial sentences\n",
    "batch_size = 350\n",
    "adversarial_logits = obtain_logits(adversarial_samples, batch_size, model, tokenizer)\n",
    "adversarial_logits = np.concatenate(adversarial_logits).reshape(-1, adversarial_logits[0].shape[1])"
   ]
  },
  {
   "cell_type": "code",
   "execution_count": null,
   "metadata": {
    "id": "5TctGV4SRXOQ"
   },
   "outputs": [],
   "source": [
    "torch.cuda.empty_cache()"
   ]
  },
  {
   "cell_type": "code",
   "execution_count": null,
   "metadata": {
    "id": "wgLl536wRXOQ"
   },
   "outputs": [],
   "source": [
    "# Concatenate all logits\n",
    "logits = np.concatenate((original_logits, adversarial_logits))"
   ]
  },
  {
   "cell_type": "code",
   "execution_count": null,
   "metadata": {
    "id": "0BMxIZbyRXOQ"
   },
   "outputs": [],
   "source": [
    "# Shuffle data\n",
    "import random\n",
    "c = list(zip(x, y, logits))\n",
    "random.shuffle(c)\n",
    "x, y, logits = zip(*c)"
   ]
  },
  {
   "cell_type": "markdown",
   "metadata": {
    "id": "NEe9rNnaRXOQ"
   },
   "source": [
    "## Computing logits difference\n",
    "\n",
    "This is a key step implemented. The main idea is:\n",
    "* For each sentence, replace each word by the `[UNK]` token and compute prediction logits\n",
    "* Using these logits, we can easily compute the saliency of the word as presented in the report.\n",
    "* Then, we sort words by descending saliency.\n",
    "* Finally, compute logits difference for each replacement. This difference is computed as `Logit from class predicted for the whole sentence - Highest remaining logit`\n",
    "\n",
    "More details on these derivations are found in the paper."
   ]
  },
  {
   "cell_type": "code",
   "execution_count": null,
   "metadata": {
    "id": "jXHXPwaORXOR"
   },
   "outputs": [],
   "source": [
    "def compute_logits_difference(x, logits, y, model, tokenizer, idx, max_sentence_size=512):\n",
    "    n_classes = len(logits[idx])\n",
    "    predicted_class = np.argmax(logits[idx]) # Predicted class for whole sentence using previously computed logits\n",
    "    class_logit = logits[idx][predicted_class] # Store this origianl prediction logit\n",
    "\n",
    "    split_sentence = x[idx].split(' ')[:max_sentence_size] # The tokenizer will only consider 512 words so we avoid computing innecessary logits\n",
    "\n",
    "    new_sentences = []\n",
    "\n",
    "    # Here, we replace each word by [UNK] and generate all sentences to consider\n",
    "    for i, word in enumerate(split_sentence):\n",
    "        new_sentence = copy(split_sentence)\n",
    "        new_sentence[i] = '[UNK]'\n",
    "        new_sentence = ' '.join(new_sentence)\n",
    "        new_sentences.append(new_sentence)\n",
    "\n",
    "    # We cannot run more than 350 predictions simultaneously because of resources.\n",
    "    # Split in batches if necessary.\n",
    "    # Compute logits for all replacements.\n",
    "    if len(new_sentences) > 200:\n",
    "        logits = []\n",
    "        batches = [new_sentences[i:i + 200] for i in range(0, len(new_sentences), 200)]\n",
    "        for b in batches:\n",
    "            if hugging_face_model: # Use hugging face predictions\n",
    "                batch = tokenizer(b, return_tensors=\"pt\", padding=True, truncation=True).to(device)\n",
    "                with torch.no_grad():\n",
    "                    logits.append(model(**batch).logits)\n",
    "            else:\n",
    "                logits.append(model(b).to(device))\n",
    "      \n",
    "        if hugging_face_model:\n",
    "            logits = torch.cat(logits)\n",
    "        else:\n",
    "            logits = np.concatenate( logits, axis=0 )\n",
    "            logits = torch.Tensor(logits)\n",
    "    \n",
    "    else: # There's no need to split in batches\n",
    "        if hugging_face_model:\n",
    "            batch = tokenizer(new_sentences, return_tensors=\"pt\", padding=True, truncation=True).to(device)\n",
    "            with torch.no_grad():\n",
    "                logits = model(**batch).logits\n",
    "            del batch\n",
    "        else:\n",
    "            logits = model(new_sentences)\n",
    "            logits = torch.Tensor(logits)\n",
    "\n",
    "\n",
    "    # Compute saliency\n",
    "    saliency = (class_logit - logits[:,predicted_class]).reshape(-1, 1)\n",
    "\n",
    "    # Append to logits for sorting\n",
    "    data = torch.cat((logits, saliency), 1)\n",
    "\n",
    "    # Sort by descending saliency\n",
    "    data = torch.stack(sorted(data, key=lambda a: a[n_classes], reverse=True))\n",
    "\n",
    "    # Remove saliency\n",
    "    data = data[:, :n_classes]\n",
    "\n",
    "    # Fix order: originallly predicted class, other classes\n",
    "    order = [predicted_class] + [i for i in range(n_classes) if i!=predicted_class]\n",
    "    data = torch.index_select(data, 1, torch.LongTensor(order).to(device))\n",
    "\n",
    "    # Compute difference between predicted class (always first column) and higher remaining logit\n",
    "    data = data[:, :1].flatten() - torch.max(data[:, 1:], dim=1).values.flatten()\n",
    "\n",
    "    del saliency\n",
    "    torch.cuda.empty_cache()\n",
    "\n",
    "    # Return only logits difference\n",
    "    return data.reshape(-1, 1), torch.Tensor([y[idx]]).to(device)"
   ]
  },
  {
   "cell_type": "code",
   "execution_count": null,
   "metadata": {
    "id": "w0jiWmfYRXOR"
   },
   "outputs": [],
   "source": [
    "def compute_logits_difference_padding(x, logits, y, model, tokenizer, idx, target_size=512):\n",
    "    \"\"\"\n",
    "    This function provides a wrapper for compute_logits_difference and includes padding to computations.\n",
    "    \"\"\"\n",
    "    data, y = compute_logits_difference(x, logits, y, model, tokenizer, idx, target_size)\n",
    "    data_size = min(512, data.shape[0])\n",
    "    target = torch.zeros(target_size, 1).to(device)\n",
    "    target[:data_size, :] = data\n",
    "\n",
    "    return target, y"
   ]
  },
  {
   "cell_type": "code",
   "execution_count": null,
   "metadata": {
    "id": "hX9l2NiyRXOR"
   },
   "outputs": [],
   "source": [
    "from torch.utils.data import Dataset, DataLoader\n",
    "import sys\n",
    "from torch.autograd import Variable\n",
    "\n",
    "class Text(Dataset):\n",
    "    \"\"\"\n",
    "    Dataloader following torch details. Each time we get an item, we will compute\n",
    "    the logits difference.\n",
    "    \"\"\"\n",
    "    def __init__(self, x , logits, y, model, tokenizer, train=True, max_sentence_size=512):\n",
    "        self.logits = logits\n",
    "        self.y = y\n",
    "        self.x = x\n",
    "        self.model = model\n",
    "        self.tokenizer = tokenizer\n",
    "        self.max_sentence_size = max_sentence_size\n",
    "\n",
    "    def __len__(self):\n",
    "        return len(self.x)\n",
    "\n",
    "    def __getitem__(self, idx):\n",
    "        data, y = compute_logits_difference_padding(self.x, self.logits, self.y, self.model, self.tokenizer, idx, self.max_sentence_size)\n",
    "        data = data[:, :1].unsqueeze(0)\n",
    "\n",
    "        return data, y, self.x[idx]"
   ]
  },
  {
   "cell_type": "code",
   "execution_count": null,
   "metadata": {
    "id": "XEgjt30oRXOR"
   },
   "outputs": [],
   "source": [
    "# Create the dataloader\n",
    "train_ds = Text(x, logits, y, model, tokenizer)\n",
    "train_loader = DataLoader(dataset=train_ds, batch_size=256, shuffle=True)"
   ]
  },
  {
   "cell_type": "code",
   "execution_count": null,
   "metadata": {
    "id": "TJk5oRldRXOR"
   },
   "outputs": [],
   "source": [
    "# Define the target DataFrame to structure our data.\n",
    "# It has a column for each input dimension (up to 512) and \n",
    "# it also includes whether it is adversarial or not (y_label) and the sentence from which the logits where extracted\n",
    "\n",
    "data_test = pd.DataFrame(columns=[i for i in range(512)]+['y_label', 'sentence'])"
   ]
  },
  {
   "cell_type": "code",
   "execution_count": null,
   "metadata": {
    "colab": {
     "base_uri": "https://localhost:8080/"
    },
    "id": "ovTujJdrRXOR",
    "outputId": "e15f6523-6da4-434d-eedf-8b193fada161"
   },
   "outputs": [
    {
     "output_type": "stream",
     "name": "stdout",
     "text": [
      "0/2 - 0.0\n",
      "\n",
      "1/2 - 0.5\n",
      "\n"
     ]
    }
   ],
   "source": [
    "# Generate logits difference by running the loader.\n",
    "for i, (data, y_label, sentence) in enumerate(train_loader):\n",
    "    print(\"{}/{} - {}\\n\".format(i, len(train_loader), i/len(train_loader)))\n",
    "    for v in range(len(data)):\n",
    "        # Structure data and include in dataframe\n",
    "        row = np.append(data[v].cpu().numpy().reshape(1,-1), np.array([y_label[v].item(), sentence[v]]))\n",
    "        data_test = data_test.append(pd.DataFrame([row], columns=list(data_test)), ignore_index=True)"
   ]
  },
  {
   "cell_type": "markdown",
   "metadata": {
    "id": "ApuQeJ_bRXOS"
   },
   "source": [
    "# Perform test\n",
    "Use logits differences to execute the classifier"
   ]
  },
  {
   "cell_type": "code",
   "execution_count": null,
   "metadata": {
    "id": "r9TtDiWhroBe"
   },
   "outputs": [],
   "source": [
    "y_test = data_test['y_label'].astype(float).values\n",
    "x_test = data_test.drop(columns=['y_label', 'sentence']).values"
   ]
  },
  {
   "cell_type": "code",
   "execution_count": null,
   "metadata": {
    "colab": {
     "base_uri": "https://localhost:8080/"
    },
    "id": "htk_TwGLXlcl",
    "outputId": "78445cae-f860-47fe-af0d-158b9b5e7dee"
   },
   "outputs": [
    {
     "output_type": "execute_result",
     "data": {
      "text/plain": [
       "0     today he was taken aback by the fact that he ...\n",
       "1     the US Court of Appeals for the Ninth Circuit...\n",
       "2     police in the coastal city ofSingapore have h...\n",
       "3     joestar writes  quot;mandrakesoft  amp; lacie...\n",
       "4     SOS - senate passes $1.5 billion compensation...\n",
       "Name: sentence, dtype: object"
      ]
     },
     "metadata": {},
     "execution_count": 43
    }
   ],
   "source": [
    "data_test['sentence'].head(5)"
   ]
  },
  {
   "cell_type": "markdown",
   "metadata": {
    "id": "-PV3Oo2hHW9d"
   },
   "source": [
    "# Model and prediction\n",
    "\n",
    "Load model and make predictions"
   ]
  },
  {
   "cell_type": "code",
   "execution_count": null,
   "metadata": {
    "id": "_A9jRI67HY7x",
    "colab": {
     "base_uri": "https://localhost:8080/"
    },
    "outputId": "55a65f40-22a2-48ba-a5c9-5a6a5175e3ee"
   },
   "outputs": [
    {
     "output_type": "stream",
     "name": "stderr",
     "text": [
      "/usr/local/lib/python3.7/dist-packages/sklearn/base.py:338: UserWarning:\n",
      "\n",
      "Trying to unpickle estimator LabelEncoder from version 0.22.2.post1 when using version 1.0.2. This might lead to breaking code or invalid results. Use at your own risk. For more info please refer to:\n",
      "https://scikit-learn.org/stable/modules/model_persistence.html#security-maintainability-limitations\n",
      "\n"
     ]
    }
   ],
   "source": [
    "import pickle\n",
    "\n",
    "model = pickle.load(open(MODEL_PATH, \"rb\"))"
   ]
  },
  {
   "cell_type": "code",
   "execution_count": null,
   "metadata": {
    "id": "IfdT4B1iHtBf"
   },
   "outputs": [],
   "source": [
    "predictions_raw = model.predict_proba(x_test)"
   ]
  },
  {
   "cell_type": "code",
   "execution_count": null,
   "metadata": {
    "colab": {
     "base_uri": "https://localhost:8080/"
    },
    "id": "n1HV72U8HzSI",
    "outputId": "6c513150-21ac-4c48-b4ff-9f2f9201202e"
   },
   "outputs": [
    {
     "output_type": "execute_result",
     "data": {
      "text/plain": [
       "array([[0.8418957 , 0.15810433],\n",
       "       [0.2633857 , 0.7366143 ],\n",
       "       [0.99164456, 0.00835543]], dtype=float32)"
      ]
     },
     "metadata": {},
     "execution_count": 82
    }
   ],
   "source": [
    "predictions_raw[:3]"
   ]
  },
  {
   "cell_type": "code",
   "execution_count": null,
   "metadata": {
    "id": "LheN7dV7IeyM"
   },
   "outputs": [],
   "source": [
    "predictions_raw = predictions_raw[:,1]"
   ]
  },
  {
   "cell_type": "code",
   "execution_count": null,
   "metadata": {
    "id": "AfF2HNN3IndX"
   },
   "outputs": [],
   "source": [
    "predictions = predictions_raw.round()"
   ]
  },
  {
   "cell_type": "code",
   "execution_count": null,
   "metadata": {
    "id": "iTLSBhdMH24K"
   },
   "outputs": [],
   "source": [
    "data_test['y_hat'] = predictions\n",
    "data_test['y_prob'] = predictions_raw\n",
    "data_test['y'] = y_test"
   ]
  },
  {
   "cell_type": "markdown",
   "metadata": {
    "id": "z7HZeFDYAZoH"
   },
   "source": [
    "# Metrics and errors\n",
    "\n",
    "Analyze the results"
   ]
  },
  {
   "cell_type": "code",
   "execution_count": null,
   "metadata": {
    "colab": {
     "base_uri": "https://localhost:8080/"
    },
    "id": "XfiRCst4cidY",
    "outputId": "2b414207-b70c-46fb-c5c1-d8228486ac9b"
   },
   "outputs": [
    {
     "output_type": "execute_result",
     "data": {
      "text/plain": [
       "array([[183,  43],\n",
       "       [ 88, 138]])"
      ]
     },
     "metadata": {},
     "execution_count": 86
    }
   ],
   "source": [
    "from sklearn.metrics import confusion_matrix\n",
    "confusion_matrix(y_test, predictions)"
   ]
  },
  {
   "cell_type": "code",
   "execution_count": null,
   "metadata": {
    "colab": {
     "base_uri": "https://localhost:8080/"
    },
    "id": "pyIP6l488CYo",
    "outputId": "cdbd68f1-f412-4d79-998c-44d2274abbe1"
   },
   "outputs": [
    {
     "output_type": "stream",
     "name": "stdout",
     "text": [
      "              precision    recall  f1-score   support\n",
      "\n",
      "         0.0      0.675     0.810     0.736       226\n",
      "         1.0      0.762     0.611     0.678       226\n",
      "\n",
      "    accuracy                          0.710       452\n",
      "   macro avg      0.719     0.710     0.707       452\n",
      "weighted avg      0.719     0.710     0.707       452\n",
      "\n"
     ]
    }
   ],
   "source": [
    "from sklearn.metrics import classification_report\n",
    "print(classification_report(y_test, predictions, digits=3))"
   ]
  },
  {
   "cell_type": "code",
   "execution_count": null,
   "metadata": {
    "colab": {
     "base_uri": "https://localhost:8080/",
     "height": 445
    },
    "id": "BMtuez3LVVh4",
    "outputId": "7dc96310-6393-48e0-8c67-103da7de8cb9"
   },
   "outputs": [
    {
     "output_type": "execute_result",
     "data": {
      "text/plain": [
       "<matplotlib.axes._subplots.AxesSubplot at 0x7f63ee568090>"
      ]
     },
     "metadata": {},
     "execution_count": 88
    },
    {
     "output_type": "display_data",
     "data": {
      "text/plain": [
       "<Figure size 720x504 with 2 Axes>"
      ],
      "image/png": "[encoded data removed]"
     },
     "metadata": {
      "needs_background": "light"
     }
    }
   ],
   "source": [
    "import matplotlib.pyplot as plt\n",
    "import seaborn as sn\n",
    "plt.figure(figsize = (10,7))\n",
    "sn.heatmap(confusion_matrix(y_test, predictions), annot=True, cmap='Blues', fmt='g',  annot_kws={\"fontsize\":24})"
   ]
  },
  {
   "cell_type": "markdown",
   "metadata": {
    "id": "r6zM88SzJV0m"
   },
   "source": [
    "# Shifting cutoff\n",
    "\n",
    "We tried different values for the decision cutoff value to see whether we could further increase adversarial recall."
   ]
  },
  {
   "cell_type": "code",
   "execution_count": null,
   "metadata": {
    "id": "Gz__4eHAgtBn"
   },
   "outputs": [],
   "source": [
    "new_y_hat = np.where(predictions_raw>0.4, 1, 0)"
   ]
  },
  {
   "cell_type": "code",
   "execution_count": null,
   "metadata": {
    "colab": {
     "base_uri": "https://localhost:8080/"
    },
    "id": "YC224mFZhDmL",
    "outputId": "c41652ec-8966-4d3d-9e38-4c256cbe65be"
   },
   "outputs": [
    {
     "output_type": "execute_result",
     "data": {
      "text/plain": [
       "array([0, 1, 0, 0, 1, 1, 0, 0, 0, 0])"
      ]
     },
     "metadata": {},
     "execution_count": 60
    }
   ],
   "source": [
    "new_y_hat[:10]"
   ]
  },
  {
   "cell_type": "code",
   "execution_count": null,
   "metadata": {
    "colab": {
     "base_uri": "https://localhost:8080/",
     "height": 445
    },
    "id": "R_-geDqBhLET",
    "outputId": "380ee732-8a42-4b27-fd37-99470fd86934"
   },
   "outputs": [
    {
     "output_type": "execute_result",
     "data": {
      "text/plain": [
       "<matplotlib.axes._subplots.AxesSubplot at 0x7f63f14c6410>"
      ]
     },
     "metadata": {},
     "execution_count": 61
    },
    {
     "output_type": "display_data",
     "data": {
      "text/plain": [
       "<Figure size 720x504 with 2 Axes>"
      ],
      "image/png": "[encoded data removed]"
     },
     "metadata": {
      "needs_background": "light"
     }
    }
   ],
   "source": [
    "import matplotlib.pyplot as plt\n",
    "import seaborn as sn\n",
    "plt.figure(figsize = (10,7))\n",
    "sn.heatmap(confusion_matrix(y_test, new_y_hat), annot=True, cmap='Blues', fmt='g',  annot_kws={\"fontsize\":24})"
   ]
  },
  {
   "cell_type": "code",
   "execution_count": null,
   "metadata": {
    "colab": {
     "base_uri": "https://localhost:8080/"
    },
    "id": "smvsakGNhL7v",
    "outputId": "6c4d9b82-179d-4b3a-9c1f-3ac800da43ae"
   },
   "outputs": [
    {
     "output_type": "stream",
     "name": "stdout",
     "text": [
      "              precision    recall  f1-score   support\n",
      "\n",
      "         0.0      0.684     0.765     0.722       226\n",
      "         1.0      0.734     0.646     0.687       226\n",
      "\n",
      "    accuracy                          0.706       452\n",
      "   macro avg      0.709     0.706     0.705       452\n",
      "weighted avg      0.709     0.706     0.705       452\n",
      "\n"
     ]
    }
   ],
   "source": [
    "from sklearn.metrics import classification_report\n",
    "print(classification_report(y_test, new_y_hat, digits=3))"
   ]
  },
  {
   "cell_type": "markdown",
   "metadata": {
    "id": "XeApkl6cJcKK"
   },
   "source": [
    "### 0.3"
   ]
  },
  {
   "cell_type": "code",
   "execution_count": null,
   "metadata": {
    "id": "fyoUhwyBiAYi"
   },
   "outputs": [],
   "source": [
    "new_y_hat = np.where(predictions_raw>0.3, 1, 0)"
   ]
  },
  {
   "cell_type": "code",
   "execution_count": null,
   "metadata": {
    "colab": {
     "base_uri": "https://localhost:8080/"
    },
    "id": "JN3cU2RfiAYi",
    "outputId": "e6590db6-583d-4571-82b4-1ab0ed24f956"
   },
   "outputs": [
    {
     "output_type": "execute_result",
     "data": {
      "text/plain": [
       "array([0, 1, 0, 0, 1, 1, 0, 0, 0, 0])"
      ]
     },
     "metadata": {},
     "execution_count": 64
    }
   ],
   "source": [
    "new_y_hat[:10]"
   ]
  },
  {
   "cell_type": "code",
   "execution_count": null,
   "metadata": {
    "colab": {
     "base_uri": "https://localhost:8080/",
     "height": 445
    },
    "id": "5eKQwbVIiAYk",
    "outputId": "b5da33fb-9b72-4bf9-c338-9e8b6e6f9f40"
   },
   "outputs": [
    {
     "output_type": "execute_result",
     "data": {
      "text/plain": [
       "<matplotlib.axes._subplots.AxesSubplot at 0x7f63ee6dc590>"
      ]
     },
     "metadata": {},
     "execution_count": 65
    },
    {
     "output_type": "display_data",
     "data": {
      "text/plain": [
       "<Figure size 720x504 with 2 Axes>"
      ],
      "image/png": "[encoded data removed]"
     },
     "metadata": {
      "needs_background": "light"
     }
    }
   ],
   "source": [
    "import matplotlib.pyplot as plt\n",
    "import seaborn as sn\n",
    "plt.figure(figsize = (10,7))\n",
    "sn.heatmap(confusion_matrix(y_test, new_y_hat), annot=True, cmap='Blues', fmt='g',  annot_kws={\"fontsize\":24})"
   ]
  },
  {
   "cell_type": "code",
   "execution_count": null,
   "metadata": {
    "colab": {
     "base_uri": "https://localhost:8080/"
    },
    "id": "ut13af-WiAYl",
    "outputId": "484cac39-f34a-491c-9305-c006decc7bc7"
   },
   "outputs": [
    {
     "output_type": "stream",
     "name": "stdout",
     "text": [
      "              precision    recall  f1-score   support\n",
      "\n",
      "         0.0      0.700     0.743     0.721       226\n",
      "         1.0      0.726     0.681     0.703       226\n",
      "\n",
      "    accuracy                          0.712       452\n",
      "   macro avg      0.713     0.712     0.712       452\n",
      "weighted avg      0.713     0.712     0.712       452\n",
      "\n"
     ]
    }
   ],
   "source": [
    "from sklearn.metrics import classification_report\n",
    "print(classification_report(y_test, new_y_hat, digits=3))"
   ]
  },
  {
   "cell_type": "markdown",
   "metadata": {
    "id": "9qZ_LXtgJh94"
   },
   "source": [
    "### 0.15"
   ]
  },
  {
   "cell_type": "code",
   "execution_count": null,
   "metadata": {
    "id": "UfAm5D1bjG3X"
   },
   "outputs": [],
   "source": [
    "new_y_hat = np.where(predictions_raw>0.15, 1, 0)"
   ]
  },
  {
   "cell_type": "code",
   "execution_count": null,
   "metadata": {
    "colab": {
     "base_uri": "https://localhost:8080/"
    },
    "id": "yhPODTkVjG3a",
    "outputId": "2dd30ee9-a82d-4c56-f7d7-65a2451de1a2"
   },
   "outputs": [
    {
     "output_type": "execute_result",
     "data": {
      "text/plain": [
       "array([1, 1, 0, 0, 1, 1, 0, 0, 0, 0])"
      ]
     },
     "metadata": {},
     "execution_count": 68
    }
   ],
   "source": [
    "new_y_hat[:10]"
   ]
  },
  {
   "cell_type": "code",
   "execution_count": null,
   "metadata": {
    "colab": {
     "base_uri": "https://localhost:8080/",
     "height": 445
    },
    "id": "MWf3EfjFjG3c",
    "outputId": "bb58a765-8b12-42bb-eebe-9a0ac0ca36ee"
   },
   "outputs": [
    {
     "output_type": "execute_result",
     "data": {
      "text/plain": [
       "<matplotlib.axes._subplots.AxesSubplot at 0x7f63ee643ed0>"
      ]
     },
     "metadata": {},
     "execution_count": 69
    },
    {
     "output_type": "display_data",
     "data": {
      "text/plain": [
       "<Figure size 720x504 with 2 Axes>"
      ],
      "image/png": "[encoded data removed]"
     },
     "metadata": {
      "needs_background": "light"
     }
    }
   ],
   "source": [
    "import matplotlib.pyplot as plt\n",
    "import seaborn as sn\n",
    "plt.figure(figsize = (10,7))\n",
    "sn.heatmap(confusion_matrix(y_test, new_y_hat), annot=True, cmap='Blues', fmt='g',  annot_kws={\"fontsize\":24})"
   ]
  },
  {
   "cell_type": "code",
   "execution_count": null,
   "metadata": {
    "colab": {
     "base_uri": "https://localhost:8080/"
    },
    "id": "wfi0qsfwjG3d",
    "outputId": "234bc569-aee5-4d70-e8b5-da82097171f3"
   },
   "outputs": [
    {
     "output_type": "stream",
     "name": "stdout",
     "text": [
      "              precision    recall  f1-score   support\n",
      "\n",
      "         0.0      0.718     0.655     0.685       226\n",
      "         1.0      0.683     0.743     0.712       226\n",
      "\n",
      "    accuracy                          0.699       452\n",
      "   macro avg      0.701     0.699     0.699       452\n",
      "weighted avg      0.701     0.699     0.699       452\n",
      "\n"
     ]
    }
   ],
   "source": [
    "from sklearn.metrics import classification_report\n",
    "print(classification_report(y_test, new_y_hat, digits=3))"
   ]
  },
  {
   "cell_type": "markdown",
   "metadata": {
    "id": "LLDuWG8mHJ_q"
   },
   "source": [
    "# Density chart"
   ]
  },
  {
   "cell_type": "code",
   "execution_count": null,
   "metadata": {
    "colab": {
     "base_uri": "https://localhost:8080/",
     "height": 596
    },
    "id": "K_xawsJjF6BU",
    "outputId": "189c7e07-6f23-4969-ec1c-e7faa31a892a"
   },
   "outputs": [
    {
     "output_type": "stream",
     "name": "stderr",
     "text": [
      "/usr/local/lib/python3.7/dist-packages/distributed/config.py:20: YAMLLoadWarning: calling yaml.load() without Loader=... is deprecated, as the default Loader is unsafe. Please read https://msg.pyyaml.org/load for full details.\n",
      "  defaults = yaml.load(f)\n"
     ]
    },
    {
     "output_type": "display_data",
     "data": {
      "text/html": [
       "<html>\n",
       "<head><meta charset=\"utf-8\" /></head>\n",
       "<body>\n",
       "    <div>            <script src=\"https://cdnjs.cloudflare.com/ajax/libs/mathjax/2.7.5/MathJax.js?config=TeX-AMS-MML_SVG\"></script><script type=\"text/javascript\">if (window.MathJax) {MathJax.Hub.Config({SVG: {font: \"STIX-Web\"}});}</script>                <script type=\"text/javascript\">window.PlotlyConfig = {MathJaxConfig: 'local'};</script>\n",
       "        <script src=\"https://cdn.plot.ly/plotly-2.8.3.min.js\"></script>                <div id=\"bf79b163-5ecd-49ec-9534-c3a3b17e86bd\" class=\"plotly-graph-div\" style=\"height:525px; width:100%;\"></div>            <script type=\"text/javascript\">                                    window.PLOTLYENV=window.PLOTLYENV || {};                                    if (document.getElementById(\"bf79b163-5ecd-49ec-9534-c3a3b17e86bd\")) {                    Plotly.newPlot(                        \"bf79b163-5ecd-49ec-9534-c3a3b17e86bd\",                        [{\"legendgroup\":\"Adversarial\",\"marker\":{\"color\":\"#C04000\"},\"mode\":\"lines\",\"name\":\"Adversarial\",\"showlegend\":true,\"x\":[0.0034422576427459717,0.005425396263599396,0.00740853488445282,0.009391673505306244,0.011374812126159668,0.013357950747013092,0.015341089367866515,0.01732422798871994,0.019307366609573363,0.02129050523042679,0.023273643851280213,0.025256782472133636,0.02723992109298706,0.029223059713840486,0.03120619833469391,0.033189336955547336,0.035172475576400755,0.03715561419725418,0.03913875281810761,0.04112189143896103,0.043105030059814455,0.045088168680667874,0.0470713073015213,0.04905444592237473,0.05103758454322815,0.053020723164081573,0.055003861784935,0.05698700040578842,0.058970139026641846,0.06095327764749527,0.0629364162683487,0.06491955488920212,0.06690269351005554,0.06888583213090897,0.07086897075176239,0.07285210937261581,0.07483524799346924,0.07681838661432266,0.07880152523517608,0.0807846638560295,0.08276780247688294,0.08475094109773636,0.08673407971858978,0.08871721833944321,0.09070035696029663,0.09268349558115005,0.09466663420200348,0.0966497728228569,0.09863291144371032,0.10061605006456376,0.10259918868541718,0.1045823273062706,0.10656546592712403,0.10854860454797745,0.11053174316883087,0.1125148817896843,0.11449802041053772,0.11648115903139114,0.11846429765224457,0.120447436273098,0.12243057489395141,0.12441371351480485,0.12639685213565827,0.12837999075651169,0.1303631293773651,0.13234626799821853,0.13432940661907197,0.1363125452399254,0.1382956838607788,0.14027882248163223,0.14226196110248565,0.14424509972333907,0.14622823834419252,0.14821137696504594,0.15019451558589936,0.15217765420675278,0.1541607928276062,0.15614393144845962,0.15812707006931304,0.16011020869016648,0.1620933473110199,0.16407648593187332,0.16605962455272674,0.16804276317358016,0.17002590179443358,0.17200904041528703,0.17399217903614045,0.17597531765699387,0.1779584562778473,0.1799415948987007,0.18192473351955413,0.18390787214040757,0.185891010761261,0.1878741493821144,0.18985728800296783,0.19184042662382125,0.19382356524467467,0.19580670386552812,0.19778984248638154,0.19977298110723496,0.20175611972808838,0.2037392583489418,0.20572239696979522,0.20770553559064864,0.20968867421150209,0.2116718128323555,0.21365495145320892,0.21563809007406234,0.21762122869491576,0.21960436731576918,0.22158750593662263,0.22357064455747605,0.22555378317832947,0.2275369217991829,0.2295200604200363,0.23150319904088973,0.23348633766174318,0.2354694762825966,0.23745261490345002,0.23943575352430344,0.24141889214515685,0.24340203076601027,0.24538516938686372,0.24736830800771714,0.24935144662857056,0.251334585249424,0.2533177238702774,0.2553008624911308,0.25728400111198424,0.25926713973283766,0.2612502783536911,0.2632334169745445,0.265216555595398,0.2671996942162514,0.2691828328371048,0.27116597145795823,0.27314911007881165,0.27513224869966507,0.2771153873205185,0.2790985259413719,0.28108166456222533,0.28306480318307875,0.28504794180393217,0.2870310804247856,0.28901421904563906,0.2909973576664925,0.2929804962873459,0.2949636349081993,0.29694677352905274,0.29892991214990616,0.3009130507707596,0.302896189391613,0.3048793280124664,0.30686246663331984,0.30884560525417326,0.3108287438750267,0.3128118824958801,0.3147950211167336,0.316778159737587,0.3187612983584404,0.32074443697929383,0.32272757560014725,0.3247107142210007,0.3266938528418541,0.3286769914627075,0.33066013008356093,0.33264326870441435,0.33462640732526777,0.3366095459461212,0.33859268456697467,0.3405758231878281,0.3425589618086815,0.3445421004295349,0.34652523905038835,0.34850837767124176,0.3504915162920952,0.3524746549129486,0.354457793533802,0.35644093215465544,0.35842407077550886,0.3604072093963623,0.3623903480172157,0.3643734866380692,0.3663566252589226,0.368339763879776,0.37032290250062944,0.37230604112148286,0.3742891797423363,0.3762723183631897,0.3782554569840431,0.38023859560489653,0.38222173422574995,0.3842048728466034,0.3861880114674568,0.38817115008831027,0.3901542887091637,0.3921374273300171,0.3941205659508705,0.39610370457172395,0.39808684319257737,0.4000699818134308,0.4020531204342842,0.4040362590551376,0.40601939767599105,0.40800253629684446,0.4099856749176979,0.4119688135385513,0.4139519521594048,0.4159350907802582,0.4179182294011116,0.41990136802196504,0.42188450664281846,0.4238676452636719,0.4258507838845253,0.4278339225053787,0.42981706112623214,0.43180019974708556,0.433783338367939,0.4357664769887924,0.43774961560964587,0.4397327542304993,0.4417158928513527,0.44369903147220613,0.44568217009305955,0.44766530871391297,0.4496484473347664,0.4516315859556198,0.4536147245764732,0.45559786319732665,0.45758100181818007,0.4595641404390335,0.4615472790598869,0.4635304176807404,0.4655135563015938,0.4674966949224472,0.46947983354330064,0.47146297216415406,0.4734461107850075,0.4754292494058609,0.4774123880267143,0.47939552664756774,0.48137866526842116,0.4833618038892746,0.485344942510128,0.48732808113098147,0.4893112197518349,0.4912943583726883,0.49327749699354173,0.49526063561439515,0.49724377423524857,0.499226912856102,0.5012100514769554,0.5031931900978088,0.5051763287186622,0.5071594673395157,0.5091426059603691,0.5111257445812225,0.5131088832020759,0.5150920218229293,0.5170751604437828,0.5190582990646362,0.5210414376854896,0.523024576306343,0.5250077149271966,0.52699085354805,0.5289739921689034,0.5309571307897568,0.5329402694106102,0.5349234080314637,0.5369065466523171,0.5388896852731705,0.5408728238940239,0.5428559625148773,0.5448391011357308,0.5468222397565842,0.5488053783774376,0.550788516998291,0.5527716556191444,0.5547547942399979,0.5567379328608513,0.5587210714817047,0.5607042101025581,0.5626873487234115,0.564670487344265,0.5666536259651184,0.5686367645859718,0.5706199032068252,0.5726030418276786,0.5745861804485322,0.5765693190693856,0.578552457690239,0.5805355963110924,0.5825187349319458,0.5845018735527993,0.5864850121736527,0.5884681507945061,0.5904512894153595,0.5924344280362129,0.5944175666570664,0.5964007052779198,0.5983838438987732,0.6003669825196266,0.60235012114048,0.6043332597613335,0.6063163983821869,0.6082995370030403,0.6102826756238937,0.6122658142447471,0.6142489528656006,0.616232091486454,0.6182152301073074,0.6201983687281608,0.6221815073490142,0.6241646459698678,0.6261477845907212,0.6281309232115746,0.630114061832428,0.6320972004532814,0.6340803390741349,0.6360634776949883,0.6380466163158417,0.6400297549366951,0.6420128935575485,0.643996032178402,0.6459791707992554,0.6479623094201088,0.6499454480409622,0.6519285866618156,0.653911725282669,0.6558948639035225,0.6578780025243759,0.6598611411452293,0.6618442797660827,0.6638274183869362,0.6658105570077896,0.667793695628643,0.6697768342494964,0.6717599728703498,0.6737431114912034,0.6757262501120568,0.6777093887329102,0.6796925273537636,0.681675665974617,0.6836588045954705,0.6856419432163239,0.6876250818371773,0.6896082204580307,0.6915913590788841,0.6935744976997376,0.695557636320591,0.6975407749414444,0.6995239135622978,0.7015070521831512,0.7034901908040047,0.7054733294248581,0.7074564680457115,0.7094396066665649,0.7114227452874183,0.7134058839082718,0.7153890225291252,0.7173721611499786,0.719355299770832,0.7213384383916854,0.723321577012539,0.7253047156333924,0.7272878542542458,0.7292709928750992,0.7312541314959526,0.7332372701168061,0.7352204087376595,0.7372035473585129,0.7391866859793663,0.7411698246002197,0.7431529632210732,0.7451361018419266,0.74711924046278,0.7491023790836334,0.7510855177044868,0.7530686563253403,0.7550517949461937,0.7570349335670471,0.7590180721879005,0.7610012108087539,0.7629843494296074,0.7649674880504608,0.7669506266713142,0.7689337652921676,0.770916903913021,0.7729000425338746,0.774883181154728,0.7768663197755814,0.7788494583964348,0.7808325970172882,0.7828157356381417,0.7847988742589951,0.7867820128798485,0.7887651515007019,0.7907482901215553,0.7927314287424088,0.7947145673632622,0.7966977059841156,0.798680844604969,0.8006639832258224,0.8026471218466759,0.8046302604675293,0.8066133990883827,0.8085965377092361,0.8105796763300895,0.812562814950943,0.8145459535717964,0.8165290921926498,0.8185122308135032,0.8204953694343566,0.8224785080552102,0.8244616466760636,0.826444785296917,0.8284279239177704,0.8304110625386238,0.8323942011594773,0.8343773397803307,0.8363604784011841,0.8383436170220375,0.8403267556428909,0.8423098942637444,0.8442930328845978,0.8462761715054512,0.8482593101263046,0.850242448747158,0.8522255873680115,0.8542087259888649,0.8561918646097183,0.8581750032305717,0.8601581418514251,0.8621412804722786,0.864124419093132,0.8661075577139854,0.8680906963348388,0.8700738349556922,0.8720569735765458,0.8740401121973992,0.8760232508182526,0.878006389439106,0.8799895280599594,0.8819726666808129,0.8839558053016663,0.8859389439225197,0.8879220825433731,0.8899052211642265,0.89188835978508,0.8938714984059334,0.8958546370267868,0.8978377756476402,0.8998209142684936,0.9018040528893471,0.9037871915102005,0.9057703301310539,0.9077534687519073,0.9097366073727607,0.9117197459936142,0.9137028846144676,0.915686023235321,0.9176691618561744,0.9196523004770278,0.9216354390978814,0.9236185777187348,0.9256017163395882,0.9275848549604416,0.929567993581295,0.9315511322021485,0.9335342708230019,0.9355174094438553,0.9375005480647087,0.9394836866855621,0.9414668253064156,0.943449963927269,0.9454331025481224,0.9474162411689758,0.9493993797898292,0.9513825184106827,0.9533656570315361,0.9553487956523895,0.9573319342732429,0.9593150728940963,0.9612982115149498,0.9632813501358032,0.9652644887566566,0.96724762737751,0.9692307659983634,0.971213904619217,0.9731970432400704,0.9751801818609238,0.9771633204817772,0.9791464591026307,0.9811295977234841,0.9831127363443375,0.9850958749651909,0.9870790135860443,0.9890621522068977,0.9910452908277512,0.9930284294486046],\"xaxis\":\"x\",\"y\":[0.7849550534999955,0.7885136718921224,0.7919462433952977,0.7952516252394864,0.7984287581020998,0.8014766669675492,0.8043944618919595,0.8071813386720429,0.8098365794172757,0.8123595530246897,0.8147497155557292,0.8170066105147896,0.8191298690292106,0.8211192099306398,0.8229744397378486,0.8246954525412505,0.8262822297894996,0.8277348399787126,0.8290534382450384,0.8302382658613874,0.8312896496393607,0.8322080012374944,0.8329938163771293,0.8336476739673384,0.8341702351404732,0.8345622422000607,0.8348245174828621,0.8349579621370954,0.8349635548188873,0.8348423503091912,0.8345954780534822,0.8342241406266794,0.8337296121258386,0.8331132364932635,0.832376425772771,0.8315206583019513,0.830547476843323,0.8294584866574001,0.8282553535207073,0.8269398016919111,0.8255136118292222,0.8239786188623451,0.8223367098222614,0.8205898216321744,0.8187399388629986,0.8167890914567861,0.8147393524215225,0.8125928355007177,0.8103516928212514,0.8080181125229214,0.8055943163731425,0.8030825573702375,0.8004851173387443,0.797804304520137,0.7950424511623534,0.79220191111144,0.7892850574086535,0.7862942798962519,0.7832319828351918,0.7801005825378939,0.7769025050191463,0.7736401836681979,0.7703160569449896,0.7669325661033947,0.7634921529442866,0.7599972576011488,0.7564503163608532,0.7528537595221599,0.7492100092943699,0.7455214777384965,0.7417905647531959,0.7380196561075925,0.7342111215230624,0.7303673128058792,0.7264905620325598,0.7225831797896144,0.7186474534692909,0.7146856456228026,0.7106999923723926,0.7066927018834958,0.7026659528981156,0.6986218933304392,0.6945626389255841,0.6904902719822448,0.6864068401399324,0.6823143552313058,0.6782147922000794,0.6741100880847745,0.670002141068563,0.6658928095952675,0.6617839115515116,0.6576772235149126,0.6535744800680612,0.6494773731779877,0.6453875516406662,0.6413066205900309,0.6372361410708967,0.6331776296750516,0.6291325582397335,0.6251023536075906,0.6210883974471728,0.617092026132889,0.6131145306833171,0.6091571567566715,0.6052211047021616,0.6013075296659227,0.5974175417501243,0.5935522062238237,0.5897125437840636,0.5858995308656759,0.5821140999982004,0.5783571402082972,0.5746294974659875,0.5709319751730265,0.567265334691685,0.5636302959121908,0.5600275378570688,0.5564576993205809,0.5529213795414812,0.5494191389072651,0.5459514996881226,0.5425189467987446,0.5391219285862129,0.535760857642128,0.5324361116371981,0.5291480341764898,0.5258969356735783,0.5226830942418269,0.5195067566010734,0.516368138998008,0.5132674281385542,0.5102047821305988,0.5071803314354508,0.5041941798264228,0.5012464053529956,0.4983370613090301,0.49546617720356034,0.49263375973271856,0.48983979375140235,0.4870842432433277,0.4843670522881658,0.48168814602449433,0.4790474316073652,0.4764447991593078,0.47388012271366775,0.4713532611492044,0.4688640591149409,0.4664123479443022,0.4639979465576205,0.46162066235215277,0.45928029207880294,0.4569766227047783,0.4547094322614825,0.45247849067697604,0.45028356059240143,0.44812439816181376,0.4460007538349016,0.44391237312213233,0.44185899734191986,0.4398403643494201,0.4378562092466557,0.4359062650736648,0.43399026348045,0.43210793537952547,0.4302590115788991,0.4284432233953849,0.42666030324814885,0.4249099852324527,0.42319200567358345,0.42150610366098856,0.41985202156267226,0.41822950551993765,0.41663830592257994,0.4150781778646827,0.413548881581163,0.41205018286526485,0.4105818534672082,0.40914367147421626,0.40773542167217597,0.4063568958891875,0.4050078933212932,0.4036882208406707,0.4023976932865993,0.4011361337395207,0.39990337377851104,0.39869925372250914,0.397523622855638,0.39637633963696073,0.39525727189503007,0.39416629700757955,0.3931033020667125,0.39206818402994315,0.39106084985744755,0.3900812166358737,0.38912921168906567,0.3882047726760419,0.3873078476765824,0.3864383952647466,0.3855963845706718,0.3847817953309601,0.3839946179279866,0.38323485341843205,0.3825025135513441,0.38179762077602325,0.38112020824002085,0.38047031977751855,0.37984800988836803,0.37925334370803965,0.37868639696873324,0.37814725595189,0.3776360174323361,0.3771527886142741,0.3766976870593408,0.37627084060692484,0.37587238728694655,0.3755024752252755,0.3751612625419667,0.37484891724248764,0.37456561710208464,0.37431154954345475,0.37408691150786477,0.37389190931985294,0.3737267585456575,0.37359168384549385,0.37348691881980733,0.3734127058496227,0.3733692959311072,0.37335694850445866,0.37337593127723584,0.3734265200422281,0.37350899848999114,0.3736236580161394,0.3737707975235085,0.37395072321930195,0.3741637484073175,0.37441019327537683,0.3746903846780616,0.375004655914875,0.37535334650394486,0.3757368019513919,0.3761553735164845,0.37660941797271164,0.37709929736490877,0.3776253787625737,0.37818803400951717,0.3787876394699961,0.37942457577148764,0.38009922754426373,0.38081198315792764,0.38156323445509555,0.3823533764823932,0.38318280721895237,0.38405192730260573,0.38496113975396645,0.38591084969859973,0.38690146408749265,0.38793339141603356,0.389007041441721,0.3901228249008177,0.39128115322418405,0.3924824382525098,0.39372709195118527,0.39501552612504254,0.396348152133205,0.39772538060428075,0.399147621152141,0.40061528209252506,0.4021287701607036,0.4036884902304436,0.4052948450345027,0.40694823488689447,0.4086490574071412,0.4103977072467416,0.41219457581807734,0.41404005102595554,0.4159345170020044,0.41787835384210686,0.41987193734706457,0.42191563876666427,0.42400982454731484,0.42615485608340425,0.4283510894725176,0.43059887527464347,0.43289855827548407,0.4352504772539519,0.43765496475395566,0.4401123468605144,0.4426229429802607,0.44518706562636057,0.4478050202078484,0.4504771048233694,0.45320361005930465,0.4559848187922127,0.4588210059955269,0.4617124385504016,0.46465937506059657,0.46766206567125473,0.4707207518914167,0.47383566642007746,0.4770070329755837,0.48023506612814204,0.483519971135177,0.48686194377927006,0.490261170208375,0.49371782677799836,0.4972320798949941,0.5008040858626057,0.5044339907263975,0.5081219301206344,0.5118680291147201,0.5156724020592418,0.5195351524311563,0.5234563726776578,0.5274361440582375,0.5314745364844156,0.5355716083566595,0.5397274063979349,0.5439419654833794,0.5482153084655295,0.5525474459945751,0.5569383763330741,0.5613880851645675,0.5658965453955486,0.5704637169502118,0.5750895465574447,0.5797739675294935,0.5845168995317713,0.5893182483432773,0.594177905607082,0.5990957485704014,0.6040716398137314,0.6091054269685927,0.6141969424234142,0.6193460030171204,0.6245524097200307,0.6298159473016623,0.6351363839851037,0.6405134710876292,0.6459469426472729,0.6514365150350973,0.6569818865529655,0.662582737016624,0.6682387273239824,0.6739494990084961,0.6797146737776175,0.6855338530363366,0.6914066173958485,0.6973325261674971,0.703311116842133,0.7093419045551324,0.7154243815373437,0.7215580165523169,0.7277422543202078,0.7339765149288204,0.7402601932323205,0.746592658238195,0.7529732524831249,0.7594012913984735,0.7658760626661814,0.7723968255659088,0.7789628103143422,0.785573217397642,0.7922272168980625,0.7989239478158721,0.805662517387722,0.8124420004027193,0.8192614385174829,0.8261198395715476,0.8330161769045381,0.8399493886765833,0.8469183771935072,0.8539220082383787,0.8609591104110713,0.8680284744775015,0.8751288527303203,0.8822589583628039,0.88941746485779,0.896603005393524,0.9038141722683133,0.9110495163459238,0.9183075465236851,0.9255867292252882,0.9328854879202982,0.9402022026723977,0.9475352097184061,0.9548828010801378,0.9622432242111344,0.9696146816803491,0.9769953308948252,0.9843832838633964,0.9917766070034764,0.9991733209929059,1.0065714006688682,1.0139687749758235,1.0213633269643796,1.0287528938429913,1.036135267084316,1.0435081925880296,1.0508693709018202,1.058216457502245,1.0655470631370525,1.0728587542305175,1.0801490533532392,1.0874154397577913,1.0946553499815268,1.101866178517734,1.109045278556261,1.1161899627946228,1.1232975043204936,1.1303651375663903,1.1373900593372357,1.1443694299113643,1.1513003742154262,1.1581799830735275,1.1650053145307802,1.1717733952513627,1.178481221991008,1.1851257631437047,1.1917039603623285,1.1982127302526488,1.2046489661401536,1.2110095399088856,1.217291303911403,1.223491092948786,1.2296057263195168,1.2356320099358327,1.241566738506091,1.2474066977814977,1.2531486668653722,1.2587894205830426,1.2643257319102654,1.2697543744579616,1.2750721250108754,1.280275766117667,1.2853620887297856,1.2903278948863497,1.295170000442123,1.2998852378355608,1.3044704588937581,1.3089225376710225,1.3132383733177218,1.3174148929758338,1.32144905469769,1.3253378503841227,1.3290783087383053,1.3326674982313482,1.3361025300757234,1.3393805612024707,1.3424987972381142,1.3454544954770793,1.348244967845462,1.3508675838518471,1.3533197735209046,1.3555990303054293,1.3577029139724934,1.359629053459327,1.3613751496946016,1.3629389783806976,1.3643183927326628,1.3655113261694771,1.366515794953365,1.3673299007728352,1.3679518332652667,1.3683798724748373,1.3686123912417059,1.3686478575183756,1.368484836609302,1.3681219933298574,1.3675580940808494,1.3667920088349268,1.3658227130312957,1.3646492893752766,1.3632709295393792,1.361686935762678,1.3598967223454432,1.3578998170360856,1.3556958623076585,1.3532846165213022,1.3506659549741789,1.3478398708296246,1.344806475927401,1.341566001472136,1.3381187985981897,1.334465338809406,1.3306062142923665,1.3265421381020024,1.3222739442185514,1.3178025874751316,1.3131291433553234,1.3082548076604184,1.3031808960461537,1.2979088434289996,1.2924402032622322,1.2867766466822634,1.2809199615258975,1.2748720512193674,1.268634933540258,1.2622107392535684,1.2556017106234232,1.2488101998020968],\"yaxis\":\"y\",\"type\":\"scatter\"},{\"legendgroup\":\"Original\",\"marker\":{\"color\":\"#228B22\"},\"mode\":\"lines\",\"name\":\"Original\",\"showlegend\":true,\"x\":[0.004159027710556984,0.0061402272246778005,0.008121426738798617,0.010102626252919435,0.012083825767040252,0.01406502528116107,0.016046224795281887,0.018027424309402705,0.02000862382352352,0.021989823337644338,0.023971022851765156,0.02595222236588597,0.02793342188000679,0.029914621394127608,0.031895820908248426,0.033877020422369244,0.035858219936490056,0.037839419450610874,0.03982061896473169,0.04180181847885251,0.04378301799297333,0.04576421750709415,0.04774541702121496,0.04972661653533578,0.051707816049456595,0.053689015563577414,0.05567021507769823,0.05765141459181905,0.05963261410593987,0.06161381362006068,0.0635950131341815,0.06557621264830232,0.06755741216242313,0.06953861167654395,0.07151981119066476,0.07350101070478558,0.0754822102189064,0.07746340973302722,0.07944460924714804,0.08142580876126886,0.08340700827538967,0.08538820778951049,0.08736940730363131,0.08935060681775213,0.09133180633187293,0.09331300584599375,0.09529420536011457,0.09727540487423539,0.0992566043883562,0.10123780390247702,0.10321900341659784,0.10520020293071866,0.10718140244483948,0.1091626019589603,0.11114380147308112,0.11312500098720193,0.11510620050132275,0.11708740001544356,0.11906859952956438,0.1210497990436852,0.12303099855780601,0.12501219807192682,0.12699339758604766,0.12897459710016845,0.13095579661428927,0.1329369961284101,0.1349181956425309,0.13689939515665173,0.13888059467077254,0.14086179418489336,0.14284299369901418,0.144824193213135,0.14680539272725582,0.14878659224137664,0.15076779175549745,0.15274899126961827,0.1547301907837391,0.1567113902978599,0.15869258981198073,0.16067378932610155,0.16265498884022236,0.16463618835434318,0.166617387868464,0.16859858738258482,0.17057978689670564,0.17256098641082646,0.17454218592494727,0.1765233854390681,0.17850458495318888,0.1804857844673097,0.18246698398143052,0.18444818349555134,0.18642938300967216,0.18841058252379297,0.1903917820379138,0.1923729815520346,0.19435418106615543,0.19633538058027625,0.19831658009439707,0.20029777960851788,0.2022789791226387,0.20426017863675952,0.20624137815088034,0.20822257766500116,0.21020377717912198,0.2121849766932428,0.2141661762073636,0.21614737572148443,0.21812857523560525,0.22010977474972607,0.22209097426384689,0.2240721737779677,0.22605337329208852,0.2280345728062093,0.23001577232033013,0.23199697183445095,0.23397817134857177,0.23595937086269259,0.2379405703768134,0.23992176989093422,0.24190296940505504,0.24388416891917586,0.24586536843329668,0.2478465679474175,0.2498277674615383,0.25180896697565913,0.2537901664897799,0.25577136600390077,0.25775256551802156,0.2597337650321424,0.2617149645462632,0.26369616406038404,0.26567736357450483,0.2676585630886257,0.26963976260274647,0.2716209621168673,0.2736021616309881,0.27558336114510895,0.27756456065922974,0.2795457601733506,0.2815269596874714,0.2835081592015922,0.285489358715713,0.28747055822983386,0.28945175774395465,0.2914329572580755,0.2934141567721963,0.29539535628631713,0.2973765558004379,0.29935775531455877,0.30133895482867956,0.30332015434280035,0.3053013538569212,0.307282553371042,0.30926375288516283,0.3112449523992836,0.31322615191340447,0.31520735142752526,0.3171885509416461,0.3191697504557669,0.32115094996988774,0.32313214948400854,0.3251133489981294,0.32709454851225017,0.329075748026371,0.3310569475404918,0.33303814705461265,0.33501934656873344,0.3370005460828543,0.3389817455969751,0.3409629451110959,0.3429441446252167,0.34492534413933756,0.34690654365345835,0.3488877431675792,0.3508689426817,0.3528501421958208,0.35483134170994163,0.3568125412240624,0.35879374073818326,0.36077494025230405,0.3627561397664249,0.3647373392805457,0.36671853879466654,0.36869973830878733,0.3706809378229082,0.37266213733702896,0.3746433368511498,0.3766245363652706,0.37860573587939145,0.38058693539351224,0.3825681349076331,0.3845493344217539,0.3865305339358747,0.3885117334499955,0.39049293296411636,0.39247413247823715,0.394455331992358,0.3964365315064788,0.39841773102059963,0.4003989305347204,0.4023801300488412,0.40436132956296206,0.40634252907708285,0.4083237285912037,0.4103049281053245,0.41228612761944533,0.4142673271335661,0.41624852664768697,0.41822972616180776,0.4202109256759286,0.4221921251900494,0.42417332470417024,0.42615452421829103,0.4281357237324119,0.43011692324653267,0.4320981227606535,0.4340793222747743,0.43606052178889515,0.43804172130301594,0.4400229208171368,0.4420041203312576,0.4439853198453784,0.4459665193594992,0.44794771887362006,0.44992891838774085,0.45191011790186164,0.4538913174159825,0.4558725169301033,0.4578537164442241,0.4598349159583449,0.46181611547246576,0.46379731498658655,0.4657785145007074,0.4677597140148282,0.46974091352894903,0.4717221130430698,0.47370331255719067,0.47568451207131146,0.4776657115854323,0.4796469110995531,0.48162811061367394,0.48360931012779473,0.4855905096419156,0.48757170915603637,0.4895529086701572,0.491534108184278,0.49351530769839885,0.49549650721251964,0.4974777067266405,0.4994589062407613,0.5014401057548821,0.5034213052690029,0.5054025047831238,0.5073837042972446,0.5093649038113653,0.5113461033254861,0.513327302839607,0.5153085023537278,0.5172897018678486,0.5192709013819694,0.5212521008960903,0.5232333004102111,0.5252144999243319,0.5271956994384527,0.5291768989525736,0.5311580984666944,0.5331392979808152,0.535120497494936,0.5371016970090569,0.5390828965231776,0.5410640960372984,0.5430452955514192,0.5450264950655401,0.5470076945796609,0.5489888940937817,0.5509700936079025,0.5529512931220233,0.5549324926361442,0.556913692150265,0.5588948916643858,0.5608760911785066,0.5628572906926275,0.5648384902067483,0.566819689720869,0.5688008892349898,0.5707820887491107,0.5727632882632315,0.5747444877773523,0.5767256872914731,0.578706886805594,0.5806880863197148,0.5826692858338356,0.5846504853479564,0.5866316848620773,0.5886128843761981,0.5905940838903189,0.5925752834044397,0.5945564829185606,0.5965376824326813,0.5985188819468021,0.6005000814609229,0.6024812809750437,0.6044624804891646,0.6064436800032854,0.6084248795174062,0.610406079031527,0.6123872785456479,0.6143684780597687,0.6163496775738895,0.6183308770880103,0.6203120766021312,0.622293276116252,0.6242744756303727,0.6262556751444935,0.6282368746586144,0.6302180741727352,0.632199273686856,0.6341804732009768,0.6361616727150977,0.6381428722292185,0.6401240717433393,0.6421052712574601,0.644086470771581,0.6460676702857018,0.6480488697998226,0.6500300693139434,0.6520112688280641,0.653992468342185,0.6559736678563058,0.6579548673704266,0.6599360668845474,0.6619172663986683,0.6638984659127891,0.6658796654269099,0.6678608649410307,0.6698420644551516,0.6718232639692724,0.6738044634833932,0.675785662997514,0.6777668625116349,0.6797480620257557,0.6817292615398765,0.6837104610539972,0.6856916605681181,0.6876728600822389,0.6896540595963597,0.6916352591104805,0.6936164586246014,0.6955976581387222,0.697578857652843,0.6995600571669638,0.7015412566810846,0.7035224561952055,0.7055036557093263,0.7074848552234471,0.7094660547375679,0.7114472542516888,0.7134284537658095,0.7154096532799303,0.7173908527940511,0.719372052308172,0.7213532518222928,0.7233344513364136,0.7253156508505344,0.7272968503646553,0.7292780498787761,0.7312592493928969,0.7332404489070177,0.7352216484211386,0.7372028479352594,0.7391840474493802,0.741165246963501,0.7431464464776218,0.7451276459917426,0.7471088455058634,0.7490900450199842,0.751071244534105,0.7530524440482259,0.7550336435623467,0.7570148430764675,0.7589960425905883,0.7609772421047092,0.76295844161883,0.7649396411329508,0.7669208406470716,0.7689020401611925,0.7708832396753132,0.772864439189434,0.7748456387035548,0.7768268382176757,0.7788080377317965,0.7807892372459173,0.7827704367600381,0.784751636274159,0.7867328357882798,0.7887140353024006,0.7906952348165214,0.7926764343306423,0.7946576338447631,0.7966388333588839,0.7986200328730046,0.8006012323871254,0.8025824319012463,0.8045636314153671,0.8065448309294879,0.8085260304436087,0.8105072299577296,0.8124884294718504,0.8144696289859712,0.816450828500092,0.8184320280142129,0.8204132275283337,0.8223944270424545,0.8243756265565753,0.8263568260706962,0.828338025584817,0.8303192250989377,0.8323004246130585,0.8342816241271794,0.8362628236413002,0.838244023155421,0.8402252226695418,0.8422064221836627,0.8441876216977835,0.8461688212119043,0.8481500207260251,0.8501312202401459,0.8521124197542668,0.8540936192683876,0.8560748187825084,0.8580560182966291,0.86003721781075,0.8620184173248708,0.8639996168389916,0.8659808163531124,0.8679620158672333,0.8699432153813541,0.8719244148954749,0.8739056144095957,0.8758868139237166,0.8778680134378374,0.8798492129519582,0.881830412466079,0.8838116119801999,0.8857928114943207,0.8877740110084414,0.8897552105225622,0.8917364100366831,0.8937176095508039,0.8956988090649247,0.8976800085790455,0.8996612080931663,0.9016424076072872,0.903623607121408,0.9056048066355288,0.9075860061496496,0.9095672056637705,0.9115484051778913,0.913529604692012,0.9155108042061328,0.9174920037202537,0.9194732032343745,0.9214544027484953,0.9234356022626161,0.925416801776737,0.9273980012908578,0.9293792008049786,0.9313604003190994,0.9333415998332203,0.9353227993473411,0.9373039988614619,0.9392851983755827,0.9412663978897036,0.9432475974038244,0.9452287969179451,0.9472099964320659,0.9491911959461867,0.9511723954603076,0.9531535949744284,0.9551347944885492,0.95711599400267,0.9590971935167909,0.9610783930309117,0.9630595925450325,0.9650407920591533,0.9670219915732742,0.969003191087395,0.9709843906015158,0.9729655901156365,0.9749467896297574,0.9769279891438782,0.978909188657999,0.9808903881721198,0.9828715876862407,0.9848527872003615,0.9868339867144823,0.9888151862286031,0.990796385742724,0.9927775852568448],\"xaxis\":\"x\",\"y\":[2.350024556845261,2.358338890777075,2.365991655919375,2.372978187441412,2.379294455784331,2.3849370716141314,2.3899032897263233,2.3941910118948053,2.3977987886600753,2.4007258200541735,2.402971955262414,2.404537691224217,2.4054241701780543,2.4056331761576413,2.4051671304492253,2.404029086022077,2.402222720946527,2.399752330816437,2.396622820195033,2.392839693105322,2.388409042588465,2.383337539355444,2.3776324195594385,2.3713014717182292,2.3643530228176606,2.3567959236290914,2.348639533275186,2.3398937030801656,2.330568759741811,2.320675487864061,2.3102251118900567,2.2992292774767527,2.2877000323529932,2.2756498067040205,2.263091393125924,2.2500379261942984,2.236502861691743,2.2224999555393037,2.2080432424771717,2.193147014540006,2.1778257993723455,2.1620943384293803,2.1459675651081396,2.1294605828538002,2.112588643285265,2.0953671243837615,2.0778115087871867,2.059937362232534,2.0417603121874595,2.023296026711198,2.0045601935840294,1.9855684997430663,1.966336611061107,1.9468801525037278,1.9272146886985004,1.9073557049486545,1.8873185887219341,1.8671186116437917,1.8467709120223517,1.8262904779308684,1.8056921308716456,1.7849905100435264,1.7642000572332923,1.7433350023493903,1.7224093496145496,1.701436864432018,1.6804310609381226,1.6594051902520996,1.638372229432158,1.6173448711449123,1.596335514053424,1.575356253927244,1.5544188754761423,1.533534844907206,1.5127153032035012,1.4919710601206118,1.4713125888957692,1.4507500216626803,1.4302931455636418,1.4099513995489035,1.3897338718520271,1.369649298128362,1.3497060602426458,1.3299121856904506,1.3102753476369193,1.2908028655553607,1.2715017064470289,1.252378486622633,1.233439474025172,1.2146905910729509,1.1961374180009077,1.177785196677749,1.1596388348758524,1.1417029109704406,1.1239816790441077,1.1064790743724944,1.089198719266645,1.0721439292474781,1.0553177195276109,1.0387228117758764,1.0223616411398522,1.006236363501893,0.9903488629442778,0.9747007593994663,0.959293416461607,0.9441279493359692,0.9292052329033158,0.914525909876715,0.9000903990288899,0.8858989034686954,0.8719514189460172,0.8582477421649978,0.8447874790862382,0.8315700531992938,0.8185947137476671,0.8058605438891495,0.7933664687752969,0.7811112635346279,0.7690935611449383,0.7573118601811032,0.7457645324255046,0.7344498303292025,0.7233658943128005,0.7125107598969003,0.7018823646528903,0.6914785549657417,0.6812970926013578,0.6713356610718777,0.6615918717932359,0.6520632700301007,0.6427473406241656,0.6336415135025548,0.6247431689639454,0.6160496427407343,0.6075582308363543,0.5992661941375461,0.5911707628021237,0.5832691404233777,0.5755585079729737,0.5680360275247344,0.5606988457623312,0.5535440972744076,0.5465689076412085,0.5397703963172151,0.5331456793147883,0.5266918716941654,0.5204060898656033,0.514285453709722,0.5083270885224864,0.5025281267914612,0.4968857098102884,0.4913969891384693,0.48605912791377204,0.48086930202466344,0.4758247011503411,0.47092252967595777,0.4661600074907207,0.4615343706765638,0.45704287209505756,0.4526827818802357,0.4484513878449049,0.44434599580797185,0.4403639298501684,0.43650253250547855,0.432759164895361,0.4291312068127541,0.42561605676262054,0.4222111319656017,0.4189138683311319,0.41572172040613053,0.41263216130513547,0.4096426826274996,0.4067507943669822,0.4039540248188105,0.4012499204889903,0.39863604601035746,0.39610998406956294,0.3936693353488795,0.3913117184864396,0.38903477005816034,0.3868361445843606,0.38471351456373076,0.3826645705370269,0.3806870211825632,0.37877859344526704,0.3769370327007805,0.3751601029557911,0.37344558708550446,0.3717912871088827,0.3701950245020201,0.3686546405497495,0.36716799673533557,0.36573297516786085,0.3643474790466875,0.3630094331621396,0.3617167844313548,0.3604675024680462,0.3592595801847338,0.3580910344258099,0.3569599066296593,0.3558642635178903,0.35480219780959066,0.35377182895839515,0.3527713039100403,0.35179879787797036,0.35085251513446714,0.34993068981470743,0.34903158673107,0.34815350219496555,0.34729476484342614,0.34645373646765015,0.34562881284067476,0.34481842454136097,0.34402103777185017,0.3432351551656855,0.34245931658380574,0.3416920998956509,0.34093212174266996,0.34017803828156423,0.3394285459046691,0.33868238193493283,0.3379383252930525,0.33719519713438567,0.3364518614533642,0.3357072256532361,0.33496024107905337,0.3342099035119521,0.33345525362286815,0.332695377383972,0.3319294064362125,0.3311565184114997,0.3303759372081873,0.32958693321863936,0.32878882350782557,0.32798097194199505,0.3271627892666527,0.3263337331331767,0.32549330807357485,0.32464106542300236,0.3237766031898212,0.32289956587310614,0.3220096442276538,0.3211065749766746,0.3201901404724912,0.31926016830569964,0.3183165308633695,0.3173591448369964,0.3163879706810298,0.31540301202293713,0.3144043150258505,0.31339196770498357,0.3123660991990871,0.3113268789983263,0.3102745161300467,0.3092092583039992,0.3081313910186607,0.3070412366303834,0.30593915338716166,0.30482553442888805,0.3037008067560132,0.30256543016859166,0.3014198961777379,0.3002647268915549,0.2991004738776449,0.2979277170043229,0.29674706326268835,0.29555914557172797,0.2943646215686257,0.29316417238645165,0.2919585014214311,0.2907483330919392,0.2895344115914006,0.2883174996372163,0.2870983772178366,0.2858778403400526,0.2846566997785656,0.28343577982981644,0.28221591707205235,0.28099795913352194,0.2797827634706616,0.27857119615805853,0.2773641306919208,0.27616244680872,0.27496702932060324,0.2737787669690816,0.2725985512984531,0.27142727555032176,0.2702658335804945,0.26911511879946437,0.2679760231375963,0.2668494360360482,0.26573624346437724,0.2646373269656861,0.2635535627300841,0.26248582069714316,0.2614349636879493,0.2604018465672452,0.2593873154360956,0.25839220685539915,0.2574173471004981,0.25646355144704724,0.25553162348822217,0.25462235448326304,0.2537365227372807,0.2528748930121579,0.2520382159683176,0.2512272276370619,0.2504426489230881,0.24968518513676483,0.2489555255556435,0.24825434301464996,0.2475822935243328,0.24694001591648743,0.24632813151642893,0.24574724384113844,0.2451979383224654,0.24468078205451832,0.24419632356435514,0.2437450926050375,0.2433275999700899,0.24294433732837917,0.24259577707840368,0.2422823722209644,0.24200455624917844,0.24176274305477807,0.24155732684963122,0.24138868210141975,0.24125716348240106,0.24116310583019124,0.2411068241195018,0.24108861344377974,0.24110874900570095,0.24116748611549502,0.24126506019608265,0.24140168679402935,0.2415775615953523,0.2417928604452211,0.24204773937063787,0.24234233460520674,0.24267676261511803,0.2430511201255385,0.24346548414659264,0.24391991199819243,0.2444144413329894,0.244949090156774,0.24552385684567507,0.24613872015957022,0.24679363925115533,0.24748855367015501,0.24822338336221975,0.2489980286620907,0.24981237028065903,0.2506662692855963,0.2515595670752929,0.252492085345861,0.25346362605103795,0.25447397135486366,0.25552288357704517,0.25661010513098237,0.25773535845448736,0.25889834593324973,0.26009874981718806,0.2613362321298387,0.26261043457101824,0.26392097841301093,0.26526746439061644,0.2666494725854057,0.26806656230460274,0.26951827195505884,0.2710041189128135,0.272523599388801,0.27407618829129654,0.2756613390857424,0.27727848365264307,0.2789270321442416,0.2806063728407673,0.28231587200704333,0.2840548737503071,0.2858226998801356,0.28761864977138774,0.28944200023112526,0.29129200537050176,0.2931678964826425,0.2950688819275667,0.2969941470252338,0.29894285395782405,0.30091414168238123,0.30290712585498003,0.3049208987675828,0.3069545292987953,0.30900706287971347,0.3110775214760987,0.3131649035881036,0.3152681842688006,0.31738631516274596,0.3195182245658415,0.32166281750772674,0.32381897585795955,0.32598555845720334,0.3281614012746563,0.33034531759293484,0.3325360982215837,0.3347325117404049,0.3369333047737382,0.3391372022968047,0.3413429079751992,0.3435491045385811,0.34575445418954853,0.3479575990486766,0.35015716163660504,0.35235174539404496,0.35453993524049854,0.35672029817241346,0.3588913839014655,0.36105172553354486,0.3631998402889865,0.3653342302644845,0.367453383237065,0.3695557735103873,0.37163986280357325,0.3737041011826688,0.37574692803472554,0.3777667730844273,0.3797620574530465,0.3817311947594476,0.383672592262709,0.38558465204586384,0.3874657722401152,0.3893143482887911,0.3911287742501778,0.3929074441382556,0.39464875330024674,0.39635109982976,0.39801288601421664,0.39963251981509096,0.40120841637942184,0.4027389995808944,0.4042227035887072,0.40565797446231056,0.4070432717699828,0.4083770702291186,0.40965786136598253,0.41088415519257643,0.41205448189817867,0.4131673935529975,0.4142214658213179,0.4152152996813831,0.4161475231492292,0.4170167930035681,0.41782179650874024,0.41856125313274334,0.41923391625720446,0.4198385748761842,0.42037405528060445,0.42083922272506813,0.421232983073819,0.42155428442255205,0.4218021186927526,0.4219755231952881,0.42207358215990964,0.42209542822738416,0.4220402439009614,0.4219072629539179,0.42169577178997447,0.4214051107533803,0.42103467538556777,0.42058391762529873,0.4200523469493172,0.41943953145059854,0.4187450988513689,0.4179687374481722,0.4171101969863661,0.41616928946153275,0.41514588984543305,0.414039936734238,0.41285143291692106,0.4115804458618443,0.4102271081197068,0.4087916176411955,0.4072742380078323,0.4056752985746859,0.403995194523791,0.4022343868272914,0.40039340211951663,0.3984728324773739,0.3964733351086478,0.3943956319479746,0.39224050916046244,0.3900088165531293,0.38770146689452023,0.3853194351430704,0.38286375758497654,0.38033553088254174,0.37773591103414844,0.37506611224721764,0.37232740572570233,0.36952111837384943,0.36664863141815757,0.36371137894964145,0.360710846388681],\"yaxis\":\"y\",\"type\":\"scatter\"}],                        {\"barmode\":\"overlay\",\"hovermode\":\"closest\",\"legend\":{\"traceorder\":\"reversed\",\"orientation\":\"h\",\"yanchor\":\"middle\",\"y\":1.1,\"xanchor\":\"right\",\"x\":1},\"xaxis\":{\"anchor\":\"y2\",\"domain\":[0.0,1.0],\"zeroline\":false},\"yaxis\":{\"anchor\":\"free\",\"domain\":[0.0,1],\"position\":0.0,\"visible\":false,\"showticklabels\":false},\"template\":{\"data\":{\"bar\":[{\"error_x\":{\"color\":\"#2a3f5f\"},\"error_y\":{\"color\":\"#2a3f5f\"},\"marker\":{\"line\":{\"color\":\"#E5ECF6\",\"width\":0.5},\"pattern\":{\"fillmode\":\"overlay\",\"size\":10,\"solidity\":0.2}},\"type\":\"bar\"}],\"barpolar\":[{\"marker\":{\"line\":{\"color\":\"#E5ECF6\",\"width\":0.5},\"pattern\":{\"fillmode\":\"overlay\",\"size\":10,\"solidity\":0.2}},\"type\":\"barpolar\"}],\"carpet\":[{\"aaxis\":{\"endlinecolor\":\"#2a3f5f\",\"gridcolor\":\"white\",\"linecolor\":\"white\",\"minorgridcolor\":\"white\",\"startlinecolor\":\"#2a3f5f\"},\"baxis\":{\"endlinecolor\":\"#2a3f5f\",\"gridcolor\":\"white\",\"linecolor\":\"white\",\"minorgridcolor\":\"white\",\"startlinecolor\":\"#2a3f5f\"},\"type\":\"carpet\"}],\"choropleth\":[{\"colorbar\":{\"outlinewidth\":0,\"ticks\":\"\"},\"type\":\"choropleth\"}],\"contour\":[{\"colorbar\":{\"outlinewidth\":0,\"ticks\":\"\"},\"colorscale\":[[0.0,\"#0d0887\"],[0.1111111111111111,\"#46039f\"],[0.2222222222222222,\"#7201a8\"],[0.3333333333333333,\"#9c179e\"],[0.4444444444444444,\"#bd3786\"],[0.5555555555555556,\"#d8576b\"],[0.6666666666666666,\"#ed7953\"],[0.7777777777777778,\"#fb9f3a\"],[0.8888888888888888,\"#fdca26\"],[1.0,\"#f0f921\"]],\"type\":\"contour\"}],\"contourcarpet\":[{\"colorbar\":{\"outlinewidth\":0,\"ticks\":\"\"},\"type\":\"contourcarpet\"}],\"heatmap\":[{\"colorbar\":{\"outlinewidth\":0,\"ticks\":\"\"},\"colorscale\":[[0.0,\"#0d0887\"],[0.1111111111111111,\"#46039f\"],[0.2222222222222222,\"#7201a8\"],[0.3333333333333333,\"#9c179e\"],[0.4444444444444444,\"#bd3786\"],[0.5555555555555556,\"#d8576b\"],[0.6666666666666666,\"#ed7953\"],[0.7777777777777778,\"#fb9f3a\"],[0.8888888888888888,\"#fdca26\"],[1.0,\"#f0f921\"]],\"type\":\"heatmap\"}],\"heatmapgl\":[{\"colorbar\":{\"outlinewidth\":0,\"ticks\":\"\"},\"colorscale\":[[0.0,\"#0d0887\"],[0.1111111111111111,\"#46039f\"],[0.2222222222222222,\"#7201a8\"],[0.3333333333333333,\"#9c179e\"],[0.4444444444444444,\"#bd3786\"],[0.5555555555555556,\"#d8576b\"],[0.6666666666666666,\"#ed7953\"],[0.7777777777777778,\"#fb9f3a\"],[0.8888888888888888,\"#fdca26\"],[1.0,\"#f0f921\"]],\"type\":\"heatmapgl\"}],\"histogram\":[{\"marker\":{\"pattern\":{\"fillmode\":\"overlay\",\"size\":10,\"solidity\":0.2}},\"type\":\"histogram\"}],\"histogram2d\":[{\"colorbar\":{\"outlinewidth\":0,\"ticks\":\"\"},\"colorscale\":[[0.0,\"#0d0887\"],[0.1111111111111111,\"#46039f\"],[0.2222222222222222,\"#7201a8\"],[0.3333333333333333,\"#9c179e\"],[0.4444444444444444,\"#bd3786\"],[0.5555555555555556,\"#d8576b\"],[0.6666666666666666,\"#ed7953\"],[0.7777777777777778,\"#fb9f3a\"],[0.8888888888888888,\"#fdca26\"],[1.0,\"#f0f921\"]],\"type\":\"histogram2d\"}],\"histogram2dcontour\":[{\"colorbar\":{\"outlinewidth\":0,\"ticks\":\"\"},\"colorscale\":[[0.0,\"#0d0887\"],[0.1111111111111111,\"#46039f\"],[0.2222222222222222,\"#7201a8\"],[0.3333333333333333,\"#9c179e\"],[0.4444444444444444,\"#bd3786\"],[0.5555555555555556,\"#d8576b\"],[0.6666666666666666,\"#ed7953\"],[0.7777777777777778,\"#fb9f3a\"],[0.8888888888888888,\"#fdca26\"],[1.0,\"#f0f921\"]],\"type\":\"histogram2dcontour\"}],\"mesh3d\":[{\"colorbar\":{\"outlinewidth\":0,\"ticks\":\"\"},\"type\":\"mesh3d\"}],\"parcoords\":[{\"line\":{\"colorbar\":{\"outlinewidth\":0,\"ticks\":\"\"}},\"type\":\"parcoords\"}],\"pie\":[{\"automargin\":true,\"type\":\"pie\"}],\"scatter\":[{\"marker\":{\"colorbar\":{\"outlinewidth\":0,\"ticks\":\"\"}},\"type\":\"scatter\"}],\"scatter3d\":[{\"line\":{\"colorbar\":{\"outlinewidth\":0,\"ticks\":\"\"}},\"marker\":{\"colorbar\":{\"outlinewidth\":0,\"ticks\":\"\"}},\"type\":\"scatter3d\"}],\"scattercarpet\":[{\"marker\":{\"colorbar\":{\"outlinewidth\":0,\"ticks\":\"\"}},\"type\":\"scattercarpet\"}],\"scattergeo\":[{\"marker\":{\"colorbar\":{\"outlinewidth\":0,\"ticks\":\"\"}},\"type\":\"scattergeo\"}],\"scattergl\":[{\"marker\":{\"colorbar\":{\"outlinewidth\":0,\"ticks\":\"\"}},\"type\":\"scattergl\"}],\"scattermapbox\":[{\"marker\":{\"colorbar\":{\"outlinewidth\":0,\"ticks\":\"\"}},\"type\":\"scattermapbox\"}],\"scatterpolar\":[{\"marker\":{\"colorbar\":{\"outlinewidth\":0,\"ticks\":\"\"}},\"type\":\"scatterpolar\"}],\"scatterpolargl\":[{\"marker\":{\"colorbar\":{\"outlinewidth\":0,\"ticks\":\"\"}},\"type\":\"scatterpolargl\"}],\"scatterternary\":[{\"marker\":{\"colorbar\":{\"outlinewidth\":0,\"ticks\":\"\"}},\"type\":\"scatterternary\"}],\"surface\":[{\"colorbar\":{\"outlinewidth\":0,\"ticks\":\"\"},\"colorscale\":[[0.0,\"#0d0887\"],[0.1111111111111111,\"#46039f\"],[0.2222222222222222,\"#7201a8\"],[0.3333333333333333,\"#9c179e\"],[0.4444444444444444,\"#bd3786\"],[0.5555555555555556,\"#d8576b\"],[0.6666666666666666,\"#ed7953\"],[0.7777777777777778,\"#fb9f3a\"],[0.8888888888888888,\"#fdca26\"],[1.0,\"#f0f921\"]],\"type\":\"surface\"}],\"table\":[{\"cells\":{\"fill\":{\"color\":\"#EBF0F8\"},\"line\":{\"color\":\"white\"}},\"header\":{\"fill\":{\"color\":\"#C8D4E3\"},\"line\":{\"color\":\"white\"}},\"type\":\"table\"}]},\"layout\":{\"annotationdefaults\":{\"arrowcolor\":\"#2a3f5f\",\"arrowhead\":0,\"arrowwidth\":1},\"autotypenumbers\":\"strict\",\"coloraxis\":{\"colorbar\":{\"outlinewidth\":0,\"ticks\":\"\"}},\"colorscale\":{\"diverging\":[[0,\"#8e0152\"],[0.1,\"#c51b7d\"],[0.2,\"#de77ae\"],[0.3,\"#f1b6da\"],[0.4,\"#fde0ef\"],[0.5,\"#f7f7f7\"],[0.6,\"#e6f5d0\"],[0.7,\"#b8e186\"],[0.8,\"#7fbc41\"],[0.9,\"#4d9221\"],[1,\"#276419\"]],\"sequential\":[[0.0,\"#0d0887\"],[0.1111111111111111,\"#46039f\"],[0.2222222222222222,\"#7201a8\"],[0.3333333333333333,\"#9c179e\"],[0.4444444444444444,\"#bd3786\"],[0.5555555555555556,\"#d8576b\"],[0.6666666666666666,\"#ed7953\"],[0.7777777777777778,\"#fb9f3a\"],[0.8888888888888888,\"#fdca26\"],[1.0,\"#f0f921\"]],\"sequentialminus\":[[0.0,\"#0d0887\"],[0.1111111111111111,\"#46039f\"],[0.2222222222222222,\"#7201a8\"],[0.3333333333333333,\"#9c179e\"],[0.4444444444444444,\"#bd3786\"],[0.5555555555555556,\"#d8576b\"],[0.6666666666666666,\"#ed7953\"],[0.7777777777777778,\"#fb9f3a\"],[0.8888888888888888,\"#fdca26\"],[1.0,\"#f0f921\"]]},\"colorway\":[\"#636efa\",\"#EF553B\",\"#00cc96\",\"#ab63fa\",\"#FFA15A\",\"#19d3f3\",\"#FF6692\",\"#B6E880\",\"#FF97FF\",\"#FECB52\"],\"font\":{\"color\":\"#2a3f5f\"},\"geo\":{\"bgcolor\":\"white\",\"lakecolor\":\"white\",\"landcolor\":\"#E5ECF6\",\"showlakes\":true,\"showland\":true,\"subunitcolor\":\"white\"},\"hoverlabel\":{\"align\":\"left\"},\"hovermode\":\"closest\",\"mapbox\":{\"style\":\"light\"},\"paper_bgcolor\":\"white\",\"plot_bgcolor\":\"#E5ECF6\",\"polar\":{\"angularaxis\":{\"gridcolor\":\"white\",\"linecolor\":\"white\",\"ticks\":\"\"},\"bgcolor\":\"#E5ECF6\",\"radialaxis\":{\"gridcolor\":\"white\",\"linecolor\":\"white\",\"ticks\":\"\"}},\"scene\":{\"xaxis\":{\"backgroundcolor\":\"#E5ECF6\",\"gridcolor\":\"white\",\"gridwidth\":2,\"linecolor\":\"white\",\"showbackground\":true,\"ticks\":\"\",\"zerolinecolor\":\"white\"},\"yaxis\":{\"backgroundcolor\":\"#E5ECF6\",\"gridcolor\":\"white\",\"gridwidth\":2,\"linecolor\":\"white\",\"showbackground\":true,\"ticks\":\"\",\"zerolinecolor\":\"white\"},\"zaxis\":{\"backgroundcolor\":\"#E5ECF6\",\"gridcolor\":\"white\",\"gridwidth\":2,\"linecolor\":\"white\",\"showbackground\":true,\"ticks\":\"\",\"zerolinecolor\":\"white\"}},\"shapedefaults\":{\"line\":{\"color\":\"#2a3f5f\"}},\"ternary\":{\"aaxis\":{\"gridcolor\":\"white\",\"linecolor\":\"white\",\"ticks\":\"\"},\"baxis\":{\"gridcolor\":\"white\",\"linecolor\":\"white\",\"ticks\":\"\"},\"bgcolor\":\"#E5ECF6\",\"caxis\":{\"gridcolor\":\"white\",\"linecolor\":\"white\",\"ticks\":\"\"}},\"title\":{\"x\":0.05},\"xaxis\":{\"automargin\":true,\"gridcolor\":\"white\",\"linecolor\":\"white\",\"ticks\":\"\",\"title\":{\"standoff\":15},\"zerolinecolor\":\"white\",\"zerolinewidth\":2},\"yaxis\":{\"automargin\":true,\"gridcolor\":\"white\",\"linecolor\":\"white\",\"ticks\":\"\",\"title\":{\"standoff\":15},\"zerolinecolor\":\"white\",\"zerolinewidth\":2}}}},                        {\"responsive\": true}                    ).then(function(){\n",
       "                            \n",
       "var gd = document.getElementById('bf79b163-5ecd-49ec-9534-c3a3b17e86bd');\n",
       "var x = new MutationObserver(function (mutations, observer) {{\n",
       "        var display = window.getComputedStyle(gd).display;\n",
       "        if (!display || display === 'none') {{\n",
       "            console.log([gd, 'removed!']);\n",
       "            Plotly.purge(gd);\n",
       "            observer.disconnect();\n",
       "        }}\n",
       "}});\n",
       "\n",
       "// Listen for the removal of the full notebook cells\n",
       "var notebookContainer = gd.closest('#notebook-container');\n",
       "if (notebookContainer) {{\n",
       "    x.observe(notebookContainer, {childList: true});\n",
       "}}\n",
       "\n",
       "// Listen for the clearing of the current output cell\n",
       "var outputEl = gd.closest('.output');\n",
       "if (outputEl) {{\n",
       "    x.observe(outputEl, {childList: true});\n",
       "}}\n",
       "\n",
       "                        })                };                            </script>        </div>\n",
       "</body>\n",
       "</html>"
      ]
     },
     "metadata": {}
    }
   ],
   "source": [
    "import plotly.figure_factory as ff\n",
    "import numpy as np\n",
    "\n",
    "# Plot the probability density chart\n",
    "probability_dens = pd.DataFrame({'prob': predictions_raw, 'y': y_test})\n",
    "\n",
    "x1 = probability_dens[probability_dens[\"y\"]==1]['prob'].values\n",
    "x2 = probability_dens[probability_dens[\"y\"]==0]['prob'].values\n",
    "\n",
    "hist_data = [x1, x2]\n",
    "\n",
    "group_labels = ['Adversarial', 'Original']\n",
    "colors = ['#C04000', '#228B22']\n",
    "\n",
    "# Create distplot with curve_type set to 'normal'\n",
    "fig = ff.create_distplot(hist_data, group_labels, show_hist=False, colors=colors, show_rug=False)\n",
    "\n",
    "# Add title\n",
    "fig.update_layout(legend=dict(\n",
    "                    orientation=\"h\",\n",
    "                    yanchor=\"middle\",\n",
    "                    y=1.1,\n",
    "                    xanchor=\"right\",\n",
    "                    x=1\n",
    "                ))\n",
    "\n",
    "fig.update_yaxes(visible=False, showticklabels=False)\n",
    "fig.show()"
   ]
  },
  {
   "cell_type": "code",
   "execution_count": null,
   "metadata": {
    "id": "bblTaWdgRXOV"
   },
   "outputs": [],
   "source": [
    ""
   ]
  }
 ],
 "metadata": {
  "accelerator": "GPU",
  "colab": {
   "collapsed_sections": [],
   "machine_shape": "hm",
   "name": "WDR_Classifier_Testing.ipynb",
   "provenance": []
  },
  "kernelspec": {
   "display_name": "Python 3",
   "language": "python",
   "name": "python3"
  },
  "language_info": {
   "codemirror_mode": {
    "name": "ipython",
    "version": 3
   },
   "file_extension": ".py",
   "mimetype": "text/x-python",
   "name": "python",
   "nbconvert_exporter": "python",
   "pygments_lexer": "ipython3",
   "version": "3.8.10"
  }
 },
 "nbformat": 4,
 "nbformat_minor": 0
}