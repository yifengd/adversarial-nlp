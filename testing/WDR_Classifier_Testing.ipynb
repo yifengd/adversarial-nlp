{
  "cells": [
    {
      "cell_type": "code",
      "source": [
        "!pip install transformers >> /dev/null\n",
        "!pip install pyyaml==5.4.1 >> /dev/null"
      ],
      "metadata": {
        "id": "w_r0jtEbc6RZ"
      },
      "execution_count": 1,
      "outputs": []
    },
    {
      "cell_type": "markdown",
      "metadata": {
        "id": "FKRSbmu4Hmag"
      },
      "source": [
        "# Testing classifier\n",
        "\n",
        "This script can be used to test the classifier against any file containing adversarial samples previously generated.\n",
        "\n",
        "Important: exact results reported in the paper cannot be reproduced for datasets that contain more than 250 samples because we used a random sampling process to produce a static local test file. Then, all experiments used that file for faster execution and avoid repeated logits computation. However, this simplified code performs a tail sampling that won't retrieve the same sentences."
      ]
    },
    {
      "cell_type": "code",
      "execution_count": 2,
      "metadata": {
        "id": "XAxbz_6GqSkr"
      },
      "outputs": [],
      "source": [
        "import numpy as np\n",
        "import torch\n",
        "from torch.utils.data import Dataset, DataLoader\n",
        "import pandas as pd\n",
        "import os\n",
        "import time\n",
        "import importlib\n",
        "from copy import copy\n",
        "\n",
        "device = torch.device('cuda' if torch.cuda.is_available() else 'cpu')"
      ]
    },
    {
      "cell_type": "markdown",
      "metadata": {
        "id": "gg2VJoGsRXOI"
      },
      "source": [
        "# Loading and transforming data into logits differences\n",
        "\n",
        "The first step is transforming our dataframe into logits differences for each original and adversarial sentence. For this, it is required to execute the model for each sentence with substitutions as explained in the paper."
      ]
    },
    {
      "cell_type": "code",
      "source": [
        "from google.colab import drive\n",
        "drive.mount('/content/drive')"
      ],
      "metadata": {
        "colab": {
          "base_uri": "https://localhost:8080/"
        },
        "id": "wE-FvsXXcJps",
        "outputId": "09539262-0ae4-4696-8124-7bed9e911f13"
      },
      "execution_count": 3,
      "outputs": [
        {
          "output_type": "stream",
          "name": "stdout",
          "text": [
            "Mounted at /content/drive\n"
          ]
        }
      ]
    },
    {
      "cell_type": "code",
      "execution_count": 4,
      "metadata": {
        "id": "KePxPwJIRXOI",
        "colab": {
          "base_uri": "https://localhost:8080/"
        },
        "outputId": "95f0f901-8a77-4fca-e3a1-2525a8a7a0fa"
      },
      "outputs": [
        {
          "output_type": "stream",
          "name": "stdout",
          "text": [
            "ag-news_100_styleadv_distilbert.csv\n",
            "ag-news_1000_styleadv_distilbert.csv\n",
            "imdb_test_100_styleadv_distilbert.csv\n",
            "imdb_train_200_styleadv_distilbert.csv\n",
            "imdb_train_1000_styleadv_distilbert.csv\n",
            "Older attacks\n",
            "sst2_test_100_styleadv_distilbert.csv\n",
            "sst2_train_2000_styleadv_distilbert.csv\n",
            "sst2_val_100_styleadv_distilbert.csv\n",
            "sst2_val_styleadv_distilbert.csv\n",
            "sst2_pruthi_bert-base-uncased.csv\n"
          ]
        }
      ],
      "source": [
        "SAMPLES_PATH = '/content/drive/MyDrive/AdversarialXAI/Adversarial Samples'\n",
        "MODEL_PATH = '/content/drive/MyDrive/AdversarialXAI/Classifiers/WDR/agnews_classifier.pickle'\n",
        "\n",
        "# Print available setups for testing\n",
        "for i in os.listdir(SAMPLES_PATH):\n",
        "    if not i.startswith('.'): # Don't print system files\n",
        "        print(i)"
      ]
    },
    {
      "cell_type": "code",
      "execution_count": 5,
      "metadata": {
        "id": "zSKDxeQwRXOJ"
      },
      "outputs": [],
      "source": [
        "# Select the analysis configuration\n",
        "test_config = 'sst2_pruthi_bert-base-uncased.csv'"
      ]
    },
    {
      "cell_type": "code",
      "execution_count": 7,
      "metadata": {
        "colab": {
          "base_uri": "https://localhost:8080/"
        },
        "id": "gwz2ZjZeRXOJ",
        "outputId": "5a9040c9-47eb-4526-eab3-6f54c7566e85"
      },
      "outputs": [
        {
          "output_type": "stream",
          "name": "stdout",
          "text": [
            "Model architecture: bert\n",
            "Dataset: SST-2\n"
          ]
        }
      ],
      "source": [
        "# Obtain model from test config\n",
        "model_arch = test_config.replace(\".csv\", \"\").split('_')[-1]\n",
        "dataset = \"SST-2\" # test_config.split('_')[0]\n",
        "\n",
        "model_arch = \"bert\"\n",
        "print(\"Model architecture:\", model_arch)\n",
        "print(\"Dataset:\", dataset)"
      ]
    },
    {
      "cell_type": "code",
      "execution_count": 8,
      "metadata": {
        "id": "PzhKgPPZRXOJ"
      },
      "outputs": [],
      "source": [
        "def load_textattack_local_model(model_arch, dataset):\n",
        "    \n",
        "    def load_module_from_file(file_path):\n",
        "        \"\"\"Uses ``importlib`` to dynamically open a file and load an object from\n",
        "        it.\"\"\"\n",
        "        temp_module_name = f\"temp_{time.time()}\"\n",
        "\n",
        "        spec = importlib.util.spec_from_file_location(temp_module_name, file_path)\n",
        "        module = importlib.util.module_from_spec(spec)\n",
        "        spec.loader.exec_module(module)\n",
        "        return module\n",
        "    \n",
        "    m = load_module_from_file(f'../{model_arch}_textattack.py')\n",
        "    model = getattr(m, 'model')\n",
        "    \n",
        "    return model, None    "
      ]
    },
    {
      "cell_type": "code",
      "execution_count": 9,
      "metadata": {
        "id": "yS9OK93ZRXOJ"
      },
      "outputs": [],
      "source": [
        "def load_hugging_face_model(model_arch, dataset):\n",
        "    # Import the model used for generating the adversarial samples.\n",
        "    # Correctly, set up imports, model and tokenizer depending on the model you generated the samples on.\n",
        "    \n",
        "    if model_arch == 'distilbert':\n",
        "        from transformers import DistilBertConfig as config, DistilBertTokenizer as tokenizer, AutoModelForSequenceClassification as auto_model\n",
        "    elif model_arch == 'bert':\n",
        "        from transformers import BertConfig as config, BertTokenizer as tokenizer, AutoModelForSequenceClassification as auto_model\n",
        "    \n",
        "    device = torch.device('cuda' if torch.cuda.is_available() else 'cpu')\n",
        "    tokenizer = tokenizer.from_pretrained(f\"textattack/{model_arch}-base-uncased-{dataset}\")\n",
        "    model = auto_model.from_pretrained(f\"textattack/{model_arch}-base-uncased-{dataset}\").to(device)\n",
        "    \n",
        "    return model, tokenizer"
      ]
    },
    {
      "cell_type": "code",
      "execution_count": 10,
      "metadata": {
        "id": "LSJN7j5mRXOK",
        "colab": {
          "base_uri": "https://localhost:8080/",
          "height": 177,
          "referenced_widgets": [
            "b7f45cd52a7b4a7585e5de7f487371a3",
            "7e67f883c79c4882bd77d619cb28f361",
            "3bf2a1a340ab4ef28a7f4679adc4a998",
            "239e80077e154df28d3bb4adceb6a620",
            "9701fd6e54874f0ab4a78b71ed3a5d1a",
            "b296007ac6b54ffe8951fad5d42b2e78",
            "da92a4a2a6e84559b1392da1fc31ed01",
            "7119c8eeaaa048dc86405cabbfb56ebd",
            "eec21892c2434f7ea7b4c6c89faa23c9",
            "698a1f28438343ab9f0cedd3c84f8277",
            "c855f4c3c4fc4c058ec0151d6bad1468",
            "1a1608a0886e48188939371a3a5877fe",
            "fa77b70147a042a4bb27e7483760b51b",
            "07aafa43e6bd49bb9d4355de0395ad74",
            "527026560ad5472c929494ae06591c09",
            "522deb2711f7443db6a3bd05cc0e8930",
            "fbddf4998dfa410295e2b9fdf3db9795",
            "a0afc4e7459d41188ff08dc1b3a72f04",
            "b31f746b4f684af68065ceaf1f90ae4a",
            "a03988cc6af14437b6cefc7e69971138",
            "6ecd06f03f084051a8e1fb8020fae507",
            "0e8ffd0588fb415992f07e2e0d45eda0",
            "7f18f5cf7008459b98e6841137867a47",
            "d79ccdedfeeb40988ff9bf1e9543e93a",
            "155ed0a862fa4e1782e766f9a425a24c",
            "a43e161635474ee986529dbcd8fc0d46",
            "c1e35573d60249868ce6151b5cafb702",
            "a33e80fe80064a189261c99764f0dab0",
            "e33197526d644488adb23896d55b4d1e",
            "84e1d9f5d68e4aa1bd96c4f20d5baf71",
            "c48ecfde89e44cbdbec236fd43e4a67a",
            "f703eba0704e4cbfb78161daa0508be0",
            "b0812d1bcdff4d5aaf94608cad996910",
            "79d531ce7b2b4f7cb9da18ec69086edc",
            "6f364101c0d54fa1a4d4c886faf0db49",
            "b71f40b9005c4b28bad9026b90c4ea24",
            "7a56a7cb12fa481bafbdb2061867467f",
            "f5f2a9a4410041c9a789b373065714bb",
            "21e3e8afe3fb422b8cbbbb03ff5fb610",
            "09bb7b255916435a91de17f7fc0cb158",
            "314457b7594a46fbab5f8f4c98df6171",
            "f7784133aa6e47c78d8516fc3f65f468",
            "5a58d5cfb4f145b994ae52037a9b545c",
            "6d16844da09a41eb9d2c5d23a5521786",
            "0518888e54dc4b9d82ab3b7a446540f6",
            "fbfcba43a72348579350dd4e78f39e5f",
            "62ee12cfebf044a88ee1ac2a58ef7342",
            "06f8e62bf46748cfb5c253f6575d7736",
            "0e3d622425704edf931fd63497560824",
            "ee0e88e1f8a7447dafa094cb7afb2a24",
            "ef02c256e7534ea9874a4fb3f7b84d4e",
            "8d3277e814c549a398df8f99addc7bd1",
            "46083f822af842c3a489cd58e33936b3",
            "95f88b7d077d40a081c8db27f8e2300b",
            "e15bea54a36645608a46634cb30b4c0a"
          ]
        },
        "outputId": "c77f68c0-fc6d-469e-81f3-0125bd9f25ad"
      },
      "outputs": [
        {
          "output_type": "display_data",
          "data": {
            "text/plain": [
              "Downloading:   0%|          | 0.00/226k [00:00<?, ?B/s]"
            ],
            "application/vnd.jupyter.widget-view+json": {
              "version_major": 2,
              "version_minor": 0,
              "model_id": "b7f45cd52a7b4a7585e5de7f487371a3"
            }
          },
          "metadata": {}
        },
        {
          "output_type": "display_data",
          "data": {
            "text/plain": [
              "Downloading:   0%|          | 0.00/112 [00:00<?, ?B/s]"
            ],
            "application/vnd.jupyter.widget-view+json": {
              "version_major": 2,
              "version_minor": 0,
              "model_id": "1a1608a0886e48188939371a3a5877fe"
            }
          },
          "metadata": {}
        },
        {
          "output_type": "display_data",
          "data": {
            "text/plain": [
              "Downloading:   0%|          | 0.00/48.0 [00:00<?, ?B/s]"
            ],
            "application/vnd.jupyter.widget-view+json": {
              "version_major": 2,
              "version_minor": 0,
              "model_id": "7f18f5cf7008459b98e6841137867a47"
            }
          },
          "metadata": {}
        },
        {
          "output_type": "display_data",
          "data": {
            "text/plain": [
              "Downloading:   0%|          | 0.00/477 [00:00<?, ?B/s]"
            ],
            "application/vnd.jupyter.widget-view+json": {
              "version_major": 2,
              "version_minor": 0,
              "model_id": "79d531ce7b2b4f7cb9da18ec69086edc"
            }
          },
          "metadata": {}
        },
        {
          "output_type": "display_data",
          "data": {
            "text/plain": [
              "Downloading:   0%|          | 0.00/418M [00:00<?, ?B/s]"
            ],
            "application/vnd.jupyter.widget-view+json": {
              "version_major": 2,
              "version_minor": 0,
              "model_id": "0518888e54dc4b9d82ab3b7a446540f6"
            }
          },
          "metadata": {}
        }
      ],
      "source": [
        "# Models available in hugging-face are executed differently from LSTM and CNN. Choose automatically the configuration and load model + tokenizer.\n",
        "textattack_local_models = ['lstm', 'cnn']\n",
        "\n",
        "if model_arch in textattack_local_models:\n",
        "    hugging_face_model = False\n",
        "    model, tokenizer = load_textattack_local_model(model_arch, dataset)\n",
        "\n",
        "else:\n",
        "    hugging_face_model = True\n",
        "    model, tokenizer = load_hugging_face_model(model_arch, dataset)"
      ]
    },
    {
      "cell_type": "markdown",
      "metadata": {
        "id": "k1XxOsu_4EgE"
      },
      "source": [
        "# Loading data\n",
        "\n",
        "Read into a dataframe your original and adversarial samples."
      ]
    },
    {
      "cell_type": "code",
      "execution_count": 27,
      "metadata": {
        "colab": {
          "base_uri": "https://localhost:8080/"
        },
        "id": "WsMs6YrqRXOK",
        "outputId": "54c8539e-3427-4e68-eb45-b8006fed0bdd"
      },
      "outputs": [
        {
          "output_type": "stream",
          "name": "stdout",
          "text": [
            "(1821, 9) Index(['original_text', 'perturbed_text', 'original_score', 'perturbed_score',\n",
            "       'original_output', 'perturbed_output', 'ground_truth_output',\n",
            "       'num_queries', 'result_type'],\n",
            "      dtype='object')\n"
          ]
        }
      ],
      "source": [
        "# Read the desired csv file previously generated\n",
        "df = pd.read_csv(f'{SAMPLES_PATH}/{test_config}', index_col=False)\n",
        "\n",
        "print(df.shape, df.columns)"
      ]
    },
    {
      "cell_type": "code",
      "source": [
        "# ddf = df.query(\"p_val == 1\")\n",
        "# if 'adversarial_text' not in df.columns:\n",
        "#   df = df.rename(columns={\"perturbed_text\": \"adversarial_text\"})"
      ],
      "metadata": {
        "id": "WJZQl_HB3OuV"
      },
      "execution_count": 29,
      "outputs": []
    },
    {
      "cell_type": "code",
      "source": [
        ""
      ],
      "metadata": {
        "id": "d7jUoEry3VB5"
      },
      "execution_count": 29,
      "outputs": []
    },
    {
      "cell_type": "code",
      "execution_count": 30,
      "metadata": {
        "id": "HSJlUCpYRXOL"
      },
      "outputs": [],
      "source": [
        "# Create batches of non-adversarial sentences\n",
        "# For big models such as BERT, we must divide our input in smaller batches.\n",
        "n = 256 # Size of each batch.\n",
        "batches = [list(df.original_text.values)[i:i + n] for i in range(0, len(df.original_text.values), n)]"
      ]
    },
    {
      "cell_type": "code",
      "execution_count": 31,
      "metadata": {
        "id": "y7CbI6NdRXOL"
      },
      "outputs": [],
      "source": [
        "# Generate predictions for all non-adversarial sentences in our dataset\n",
        "outputs = []\n",
        "\n",
        "if hugging_face_model is True: # Use tokenizer and hugging face pipeline\n",
        "    for b in batches: \n",
        "        input = tokenizer(b, return_tensors=\"pt\", padding=True, truncation=True).to(device)\n",
        "        with torch.no_grad():\n",
        "            output = model(**input)\n",
        "            outputs.append(output.logits.cpu().numpy())\n",
        "            del input\n",
        "            torch.cuda.empty_cache()\n",
        "\n",
        "else: # Use local model by simply predicting without tokenization\n",
        "    for b in batches: \n",
        "        output = model(b)\n",
        "        outputs.append(output)"
      ]
    },
    {
      "cell_type": "code",
      "execution_count": 32,
      "metadata": {
        "id": "PC5OUBCiRXOL"
      },
      "outputs": [],
      "source": [
        "# Obtain non-adversarial predictions\n",
        "outputs_flatten = [item for sublist in outputs for item in sublist]\n",
        "predictions = [np.argmax(i) for i in outputs_flatten]\n",
        "\n",
        "# Include prediction for these classes in our DataFrame\n",
        "df['original_class_predicted'] = predictions"
      ]
    },
    {
      "cell_type": "code",
      "execution_count": 33,
      "metadata": {
        "id": "hZhfts5KRXOL"
      },
      "outputs": [],
      "source": [
        "# Strip all null values from dataframe\n",
        "df = df.fillna('')\n",
        "\n",
        "# Repeat process for adversarial sentences\n",
        "n = 256\n",
        "batches = [list(df.adversarial_text.values)[i:i + n] for i in range(0, len(df.adversarial_text.values), n)]"
      ]
    },
    {
      "cell_type": "code",
      "execution_count": 34,
      "metadata": {
        "id": "W3rBvyMpRXOL"
      },
      "outputs": [],
      "source": [
        "# Generate predictions for all non-adversarial sentences in our dataset\n",
        "outputs = []\n",
        "\n",
        "if hugging_face_model is True: # Use tokenizer and hugging face pipeline\n",
        "    for b in batches:\n",
        "        input = tokenizer(b, return_tensors=\"pt\", padding=True, truncation=True).to(device)\n",
        "        with torch.no_grad():\n",
        "            output = model(**input)\n",
        "            outputs.append(output.logits.cpu().numpy())\n",
        "            del input\n",
        "            torch.cuda.empty_cache()\n",
        "\n",
        "else: # Use local model by simply predicting without tokenization\n",
        "    for b in batches: \n",
        "        output = model(b)\n",
        "        outputs.append(output)"
      ]
    },
    {
      "cell_type": "code",
      "execution_count": 35,
      "metadata": {
        "id": "Jbhiwih6RXOM"
      },
      "outputs": [],
      "source": [
        "# Obtain adversarial predictions\n",
        "outputs_flatten = [item for sublist in outputs for item in sublist]\n",
        "predictions = [np.argmax(i) for i in outputs_flatten]\n",
        "\n",
        "# Include prediction for these classes in our DataFrame\n",
        "df['adversarial_class_predicted'] = predictions"
      ]
    },
    {
      "cell_type": "code",
      "source": [
        "df"
      ],
      "metadata": {
        "colab": {
          "base_uri": "https://localhost:8080/",
          "height": 857
        },
        "id": "vxtan1hL35xu",
        "outputId": "28ba4959-9af0-44c7-ebb7-a22da249f807"
      },
      "execution_count": 36,
      "outputs": [
        {
          "output_type": "execute_result",
          "data": {
            "text/plain": [
              "                                          original_text  \\\n",
              "0          no movement , no yuks , not much of anything   \n",
              "1     a gob of drivel so sickly sweet , even the eag...   \n",
              "2     gangs of new york is an unapologetic mess , wh...   \n",
              "3     we never really feel involved with the story ,...   \n",
              "4                 this is one of polanski 's best films   \n",
              "...                                                 ...   \n",
              "1816  an often deadly boring , strange reading of a ...   \n",
              "1817  the problem with concept films is that if the ...   \n",
              "1818  safe conduct , however ambitious and well inte...   \n",
              "1819  a film made with as little wit , interest , an...   \n",
              "1820  but here 's the real damn it is n't funny , ei...   \n",
              "\n",
              "                                       adversarial_text  original_score  \\\n",
              "0         no movement , no yuks , not muMch of anything        0.005266   \n",
              "1     a gob of drivel so sifkly sweet , even the eag...        0.022394   \n",
              "2     gangs of new york is an unapologetic mezs , wh...        0.001128   \n",
              "3     we neevr really feel involved with the story ,...        0.001667   \n",
              "4                  this is one of polanski 's bst films        0.000644   \n",
              "...                                                 ...             ...   \n",
              "1816  an often deadly bring , strange reading of a c...        0.005835   \n",
              "1817  the probelm with concept films is that if the ...        0.002259   \n",
              "1818  safe conduct , however ambitious and well inte...        0.006003   \n",
              "1819  a film made with as litte wit , interest , and...        0.001025   \n",
              "1820  but here 's the real damn it is n't funZny , e...        0.001004   \n",
              "\n",
              "      perturbed_score  original_output  perturbed_output  ground_truth_output  \\\n",
              "0            0.017786              0.0               0.0                  0.0   \n",
              "1            0.218437              0.0               0.0                  0.0   \n",
              "2            0.004485              0.0               0.0                  0.0   \n",
              "3            0.987937              0.0               1.0                  0.0   \n",
              "4            0.986980              1.0               0.0                  1.0   \n",
              "...               ...              ...               ...                  ...   \n",
              "1816         0.196575              0.0               0.0                  0.0   \n",
              "1817         0.008497              0.0               0.0                  0.0   \n",
              "1818         0.588392              0.0               1.0                  0.0   \n",
              "1819         0.971741              0.0               1.0                  0.0   \n",
              "1820         0.676186              0.0               1.0                  0.0   \n",
              "\n",
              "      num_queries result_type  original_class_predicted  \\\n",
              "0           120.0      Failed                         0   \n",
              "1           368.0      Failed                         0   \n",
              "2           322.0      Failed                         0   \n",
              "3           253.0  Successful                         0   \n",
              "4            85.0  Successful                         1   \n",
              "...           ...         ...                       ...   \n",
              "1816        457.0      Failed                         0   \n",
              "1817        184.0      Failed                         0   \n",
              "1818        343.0  Successful                         0   \n",
              "1819        446.0  Successful                         0   \n",
              "1820         81.0  Successful                         0   \n",
              "\n",
              "      adversarial_class_predicted  \n",
              "0                               0  \n",
              "1                               0  \n",
              "2                               0  \n",
              "3                               1  \n",
              "4                               0  \n",
              "...                           ...  \n",
              "1816                            0  \n",
              "1817                            0  \n",
              "1818                            1  \n",
              "1819                            1  \n",
              "1820                            1  \n",
              "\n",
              "[1821 rows x 11 columns]"
            ],
            "text/html": [
              "\n",
              "  <div id=\"df-5f44678e-04c8-407c-baa9-7c87914ce1bd\">\n",
              "    <div class=\"colab-df-container\">\n",
              "      <div>\n",
              "<style scoped>\n",
              "    .dataframe tbody tr th:only-of-type {\n",
              "        vertical-align: middle;\n",
              "    }\n",
              "\n",
              "    .dataframe tbody tr th {\n",
              "        vertical-align: top;\n",
              "    }\n",
              "\n",
              "    .dataframe thead th {\n",
              "        text-align: right;\n",
              "    }\n",
              "</style>\n",
              "<table border=\"1\" class=\"dataframe\">\n",
              "  <thead>\n",
              "    <tr style=\"text-align: right;\">\n",
              "      <th></th>\n",
              "      <th>original_text</th>\n",
              "      <th>adversarial_text</th>\n",
              "      <th>original_score</th>\n",
              "      <th>perturbed_score</th>\n",
              "      <th>original_output</th>\n",
              "      <th>perturbed_output</th>\n",
              "      <th>ground_truth_output</th>\n",
              "      <th>num_queries</th>\n",
              "      <th>result_type</th>\n",
              "      <th>original_class_predicted</th>\n",
              "      <th>adversarial_class_predicted</th>\n",
              "    </tr>\n",
              "  </thead>\n",
              "  <tbody>\n",
              "    <tr>\n",
              "      <th>0</th>\n",
              "      <td>no movement , no yuks , not much of anything</td>\n",
              "      <td>no movement , no yuks , not muMch of anything</td>\n",
              "      <td>0.005266</td>\n",
              "      <td>0.017786</td>\n",
              "      <td>0.0</td>\n",
              "      <td>0.0</td>\n",
              "      <td>0.0</td>\n",
              "      <td>120.0</td>\n",
              "      <td>Failed</td>\n",
              "      <td>0</td>\n",
              "      <td>0</td>\n",
              "    </tr>\n",
              "    <tr>\n",
              "      <th>1</th>\n",
              "      <td>a gob of drivel so sickly sweet , even the eag...</td>\n",
              "      <td>a gob of drivel so sifkly sweet , even the eag...</td>\n",
              "      <td>0.022394</td>\n",
              "      <td>0.218437</td>\n",
              "      <td>0.0</td>\n",
              "      <td>0.0</td>\n",
              "      <td>0.0</td>\n",
              "      <td>368.0</td>\n",
              "      <td>Failed</td>\n",
              "      <td>0</td>\n",
              "      <td>0</td>\n",
              "    </tr>\n",
              "    <tr>\n",
              "      <th>2</th>\n",
              "      <td>gangs of new york is an unapologetic mess , wh...</td>\n",
              "      <td>gangs of new york is an unapologetic mezs , wh...</td>\n",
              "      <td>0.001128</td>\n",
              "      <td>0.004485</td>\n",
              "      <td>0.0</td>\n",
              "      <td>0.0</td>\n",
              "      <td>0.0</td>\n",
              "      <td>322.0</td>\n",
              "      <td>Failed</td>\n",
              "      <td>0</td>\n",
              "      <td>0</td>\n",
              "    </tr>\n",
              "    <tr>\n",
              "      <th>3</th>\n",
              "      <td>we never really feel involved with the story ,...</td>\n",
              "      <td>we neevr really feel involved with the story ,...</td>\n",
              "      <td>0.001667</td>\n",
              "      <td>0.987937</td>\n",
              "      <td>0.0</td>\n",
              "      <td>1.0</td>\n",
              "      <td>0.0</td>\n",
              "      <td>253.0</td>\n",
              "      <td>Successful</td>\n",
              "      <td>0</td>\n",
              "      <td>1</td>\n",
              "    </tr>\n",
              "    <tr>\n",
              "      <th>4</th>\n",
              "      <td>this is one of polanski 's best films</td>\n",
              "      <td>this is one of polanski 's bst films</td>\n",
              "      <td>0.000644</td>\n",
              "      <td>0.986980</td>\n",
              "      <td>1.0</td>\n",
              "      <td>0.0</td>\n",
              "      <td>1.0</td>\n",
              "      <td>85.0</td>\n",
              "      <td>Successful</td>\n",
              "      <td>1</td>\n",
              "      <td>0</td>\n",
              "    </tr>\n",
              "    <tr>\n",
              "      <th>...</th>\n",
              "      <td>...</td>\n",
              "      <td>...</td>\n",
              "      <td>...</td>\n",
              "      <td>...</td>\n",
              "      <td>...</td>\n",
              "      <td>...</td>\n",
              "      <td>...</td>\n",
              "      <td>...</td>\n",
              "      <td>...</td>\n",
              "      <td>...</td>\n",
              "      <td>...</td>\n",
              "    </tr>\n",
              "    <tr>\n",
              "      <th>1816</th>\n",
              "      <td>an often deadly boring , strange reading of a ...</td>\n",
              "      <td>an often deadly bring , strange reading of a c...</td>\n",
              "      <td>0.005835</td>\n",
              "      <td>0.196575</td>\n",
              "      <td>0.0</td>\n",
              "      <td>0.0</td>\n",
              "      <td>0.0</td>\n",
              "      <td>457.0</td>\n",
              "      <td>Failed</td>\n",
              "      <td>0</td>\n",
              "      <td>0</td>\n",
              "    </tr>\n",
              "    <tr>\n",
              "      <th>1817</th>\n",
              "      <td>the problem with concept films is that if the ...</td>\n",
              "      <td>the probelm with concept films is that if the ...</td>\n",
              "      <td>0.002259</td>\n",
              "      <td>0.008497</td>\n",
              "      <td>0.0</td>\n",
              "      <td>0.0</td>\n",
              "      <td>0.0</td>\n",
              "      <td>184.0</td>\n",
              "      <td>Failed</td>\n",
              "      <td>0</td>\n",
              "      <td>0</td>\n",
              "    </tr>\n",
              "    <tr>\n",
              "      <th>1818</th>\n",
              "      <td>safe conduct , however ambitious and well inte...</td>\n",
              "      <td>safe conduct , however ambitious and well inte...</td>\n",
              "      <td>0.006003</td>\n",
              "      <td>0.588392</td>\n",
              "      <td>0.0</td>\n",
              "      <td>1.0</td>\n",
              "      <td>0.0</td>\n",
              "      <td>343.0</td>\n",
              "      <td>Successful</td>\n",
              "      <td>0</td>\n",
              "      <td>1</td>\n",
              "    </tr>\n",
              "    <tr>\n",
              "      <th>1819</th>\n",
              "      <td>a film made with as little wit , interest , an...</td>\n",
              "      <td>a film made with as litte wit , interest , and...</td>\n",
              "      <td>0.001025</td>\n",
              "      <td>0.971741</td>\n",
              "      <td>0.0</td>\n",
              "      <td>1.0</td>\n",
              "      <td>0.0</td>\n",
              "      <td>446.0</td>\n",
              "      <td>Successful</td>\n",
              "      <td>0</td>\n",
              "      <td>1</td>\n",
              "    </tr>\n",
              "    <tr>\n",
              "      <th>1820</th>\n",
              "      <td>but here 's the real damn it is n't funny , ei...</td>\n",
              "      <td>but here 's the real damn it is n't funZny , e...</td>\n",
              "      <td>0.001004</td>\n",
              "      <td>0.676186</td>\n",
              "      <td>0.0</td>\n",
              "      <td>1.0</td>\n",
              "      <td>0.0</td>\n",
              "      <td>81.0</td>\n",
              "      <td>Successful</td>\n",
              "      <td>0</td>\n",
              "      <td>1</td>\n",
              "    </tr>\n",
              "  </tbody>\n",
              "</table>\n",
              "<p>1821 rows × 11 columns</p>\n",
              "</div>\n",
              "      <button class=\"colab-df-convert\" onclick=\"convertToInteractive('df-5f44678e-04c8-407c-baa9-7c87914ce1bd')\"\n",
              "              title=\"Convert this dataframe to an interactive table.\"\n",
              "              style=\"display:none;\">\n",
              "        \n",
              "  <svg xmlns=\"http://www.w3.org/2000/svg\" height=\"24px\"viewBox=\"0 0 24 24\"\n",
              "       width=\"24px\">\n",
              "    <path d=\"M0 0h24v24H0V0z\" fill=\"none\"/>\n",
              "    <path d=\"M18.56 5.44l.94 2.06.94-2.06 2.06-.94-2.06-.94-.94-2.06-.94 2.06-2.06.94zm-11 1L8.5 8.5l.94-2.06 2.06-.94-2.06-.94L8.5 2.5l-.94 2.06-2.06.94zm10 10l.94 2.06.94-2.06 2.06-.94-2.06-.94-.94-2.06-.94 2.06-2.06.94z\"/><path d=\"M17.41 7.96l-1.37-1.37c-.4-.4-.92-.59-1.43-.59-.52 0-1.04.2-1.43.59L10.3 9.45l-7.72 7.72c-.78.78-.78 2.05 0 2.83L4 21.41c.39.39.9.59 1.41.59.51 0 1.02-.2 1.41-.59l7.78-7.78 2.81-2.81c.8-.78.8-2.07 0-2.86zM5.41 20L4 18.59l7.72-7.72 1.47 1.35L5.41 20z\"/>\n",
              "  </svg>\n",
              "      </button>\n",
              "      \n",
              "  <style>\n",
              "    .colab-df-container {\n",
              "      display:flex;\n",
              "      flex-wrap:wrap;\n",
              "      gap: 12px;\n",
              "    }\n",
              "\n",
              "    .colab-df-convert {\n",
              "      background-color: #E8F0FE;\n",
              "      border: none;\n",
              "      border-radius: 50%;\n",
              "      cursor: pointer;\n",
              "      display: none;\n",
              "      fill: #1967D2;\n",
              "      height: 32px;\n",
              "      padding: 0 0 0 0;\n",
              "      width: 32px;\n",
              "    }\n",
              "\n",
              "    .colab-df-convert:hover {\n",
              "      background-color: #E2EBFA;\n",
              "      box-shadow: 0px 1px 2px rgba(60, 64, 67, 0.3), 0px 1px 3px 1px rgba(60, 64, 67, 0.15);\n",
              "      fill: #174EA6;\n",
              "    }\n",
              "\n",
              "    [theme=dark] .colab-df-convert {\n",
              "      background-color: #3B4455;\n",
              "      fill: #D2E3FC;\n",
              "    }\n",
              "\n",
              "    [theme=dark] .colab-df-convert:hover {\n",
              "      background-color: #434B5C;\n",
              "      box-shadow: 0px 1px 3px 1px rgba(0, 0, 0, 0.15);\n",
              "      filter: drop-shadow(0px 1px 2px rgba(0, 0, 0, 0.3));\n",
              "      fill: #FFFFFF;\n",
              "    }\n",
              "  </style>\n",
              "\n",
              "      <script>\n",
              "        const buttonEl =\n",
              "          document.querySelector('#df-5f44678e-04c8-407c-baa9-7c87914ce1bd button.colab-df-convert');\n",
              "        buttonEl.style.display =\n",
              "          google.colab.kernel.accessAllowed ? 'block' : 'none';\n",
              "\n",
              "        async function convertToInteractive(key) {\n",
              "          const element = document.querySelector('#df-5f44678e-04c8-407c-baa9-7c87914ce1bd');\n",
              "          const dataTable =\n",
              "            await google.colab.kernel.invokeFunction('convertToInteractive',\n",
              "                                                     [key], {});\n",
              "          if (!dataTable) return;\n",
              "\n",
              "          const docLinkHtml = 'Like what you see? Visit the ' +\n",
              "            '<a target=\"_blank\" href=https://colab.research.google.com/notebooks/data_table.ipynb>data table notebook</a>'\n",
              "            + ' to learn more about interactive tables.';\n",
              "          element.innerHTML = '';\n",
              "          dataTable['output_type'] = 'display_data';\n",
              "          await google.colab.output.renderOutput(dataTable, element);\n",
              "          const docLink = document.createElement('div');\n",
              "          docLink.innerHTML = docLinkHtml;\n",
              "          element.appendChild(docLink);\n",
              "        }\n",
              "      </script>\n",
              "    </div>\n",
              "  </div>\n",
              "  "
            ]
          },
          "metadata": {},
          "execution_count": 36
        }
      ]
    },
    {
      "cell_type": "code",
      "execution_count": 38,
      "metadata": {
        "id": "liX1ury1RXOM"
      },
      "outputs": [],
      "source": [
        "# Select only those sentences for which there was actually a change in the prediction\n",
        "correct = df[(df['original_class_predicted'] != df['adversarial_class_predicted'])]\n",
        "if \"p_val\" in df.columns:\n",
        "  assert len(correct) == len(df.query(\"p_val == 1\"))"
      ]
    },
    {
      "cell_type": "code",
      "execution_count": 39,
      "metadata": {
        "id": "QyoFG2NARXON"
      },
      "outputs": [],
      "source": [
        "# Update dataframe and keep only adversarial samples\n",
        "df = correct"
      ]
    },
    {
      "cell_type": "code",
      "source": [
        "# df.head()\n",
        "len(df)\n",
        "df"
      ],
      "metadata": {
        "colab": {
          "base_uri": "https://localhost:8080/",
          "height": 874
        },
        "id": "SIMxejDUrS_h",
        "outputId": "fb9768b5-a2bf-4c79-f717-81c7a520489b"
      },
      "execution_count": 40,
      "outputs": [
        {
          "output_type": "execute_result",
          "data": {
            "text/plain": [
              "                                          original_text  \\\n",
              "3     we never really feel involved with the story ,...   \n",
              "4                 this is one of polanski 's best films   \n",
              "6     acting , particularly by tambor , almost makes...   \n",
              "7     the movie exists for its soccer action and its...   \n",
              "8     arnold 's jump from little screen to big will ...   \n",
              "...                                                 ...   \n",
              "1812  lrb a rrb hollywood sheen bedevils the film fr...   \n",
              "1814       blade ii is more enjoyable than the original   \n",
              "1818  safe conduct , however ambitious and well inte...   \n",
              "1819  a film made with as little wit , interest , an...   \n",
              "1820  but here 's the real damn it is n't funny , ei...   \n",
              "\n",
              "                                       adversarial_text  original_score  \\\n",
              "3     we neevr really feel involved with the story ,...        0.001667   \n",
              "4                  this is one of polanski 's bst films        0.000644   \n",
              "6     acting , particularly by tambor , aljost makes...        0.095160   \n",
              "7     the movie exists for its soccer action and its...        0.000532   \n",
              "8     arnold 's jump from little screen to big will ...        0.039787   \n",
              "...                                                 ...             ...   \n",
              "1812  lrb a rrb hollywood sheen bedevils the film fr...        0.004160   \n",
              "1814       blade ii is more ennoyable than the original        0.000648   \n",
              "1818  safe conduct , however ambitious and well inte...        0.006003   \n",
              "1819  a film made with as litte wit , interest , and...        0.001025   \n",
              "1820  but here 's the real damn it is n't funZny , e...        0.001004   \n",
              "\n",
              "      perturbed_score  original_output  perturbed_output  ground_truth_output  \\\n",
              "3            0.987937              0.0               1.0                  0.0   \n",
              "4            0.986980              1.0               0.0                  1.0   \n",
              "6            0.586214              0.0               1.0                  0.0   \n",
              "7            0.949870              1.0               0.0                  1.0   \n",
              "8            0.998977              0.0               1.0                  0.0   \n",
              "...               ...              ...               ...                  ...   \n",
              "1812         0.988022              1.0               0.0                  1.0   \n",
              "1814         0.691177              1.0               0.0                  1.0   \n",
              "1818         0.588392              0.0               1.0                  0.0   \n",
              "1819         0.971741              0.0               1.0                  0.0   \n",
              "1820         0.676186              0.0               1.0                  0.0   \n",
              "\n",
              "      num_queries result_type  original_class_predicted  \\\n",
              "3           253.0  Successful                         0   \n",
              "4            85.0  Successful                         1   \n",
              "6           501.0  Successful                         0   \n",
              "7           152.0  Successful                         1   \n",
              "8           171.0  Successful                         0   \n",
              "...           ...         ...                       ...   \n",
              "1812        403.0  Successful                         1   \n",
              "1814        126.0  Successful                         1   \n",
              "1818        343.0  Successful                         0   \n",
              "1819        446.0  Successful                         0   \n",
              "1820         81.0  Successful                         0   \n",
              "\n",
              "      adversarial_class_predicted  \n",
              "3                               1  \n",
              "4                               0  \n",
              "6                               1  \n",
              "7                               0  \n",
              "8                               1  \n",
              "...                           ...  \n",
              "1812                            0  \n",
              "1814                            0  \n",
              "1818                            1  \n",
              "1819                            1  \n",
              "1820                            1  \n",
              "\n",
              "[712 rows x 11 columns]"
            ],
            "text/html": [
              "\n",
              "  <div id=\"df-dad11fca-0c05-40a6-b845-ea5d1bb2988f\">\n",
              "    <div class=\"colab-df-container\">\n",
              "      <div>\n",
              "<style scoped>\n",
              "    .dataframe tbody tr th:only-of-type {\n",
              "        vertical-align: middle;\n",
              "    }\n",
              "\n",
              "    .dataframe tbody tr th {\n",
              "        vertical-align: top;\n",
              "    }\n",
              "\n",
              "    .dataframe thead th {\n",
              "        text-align: right;\n",
              "    }\n",
              "</style>\n",
              "<table border=\"1\" class=\"dataframe\">\n",
              "  <thead>\n",
              "    <tr style=\"text-align: right;\">\n",
              "      <th></th>\n",
              "      <th>original_text</th>\n",
              "      <th>adversarial_text</th>\n",
              "      <th>original_score</th>\n",
              "      <th>perturbed_score</th>\n",
              "      <th>original_output</th>\n",
              "      <th>perturbed_output</th>\n",
              "      <th>ground_truth_output</th>\n",
              "      <th>num_queries</th>\n",
              "      <th>result_type</th>\n",
              "      <th>original_class_predicted</th>\n",
              "      <th>adversarial_class_predicted</th>\n",
              "    </tr>\n",
              "  </thead>\n",
              "  <tbody>\n",
              "    <tr>\n",
              "      <th>3</th>\n",
              "      <td>we never really feel involved with the story ,...</td>\n",
              "      <td>we neevr really feel involved with the story ,...</td>\n",
              "      <td>0.001667</td>\n",
              "      <td>0.987937</td>\n",
              "      <td>0.0</td>\n",
              "      <td>1.0</td>\n",
              "      <td>0.0</td>\n",
              "      <td>253.0</td>\n",
              "      <td>Successful</td>\n",
              "      <td>0</td>\n",
              "      <td>1</td>\n",
              "    </tr>\n",
              "    <tr>\n",
              "      <th>4</th>\n",
              "      <td>this is one of polanski 's best films</td>\n",
              "      <td>this is one of polanski 's bst films</td>\n",
              "      <td>0.000644</td>\n",
              "      <td>0.986980</td>\n",
              "      <td>1.0</td>\n",
              "      <td>0.0</td>\n",
              "      <td>1.0</td>\n",
              "      <td>85.0</td>\n",
              "      <td>Successful</td>\n",
              "      <td>1</td>\n",
              "      <td>0</td>\n",
              "    </tr>\n",
              "    <tr>\n",
              "      <th>6</th>\n",
              "      <td>acting , particularly by tambor , almost makes...</td>\n",
              "      <td>acting , particularly by tambor , aljost makes...</td>\n",
              "      <td>0.095160</td>\n",
              "      <td>0.586214</td>\n",
              "      <td>0.0</td>\n",
              "      <td>1.0</td>\n",
              "      <td>0.0</td>\n",
              "      <td>501.0</td>\n",
              "      <td>Successful</td>\n",
              "      <td>0</td>\n",
              "      <td>1</td>\n",
              "    </tr>\n",
              "    <tr>\n",
              "      <th>7</th>\n",
              "      <td>the movie exists for its soccer action and its...</td>\n",
              "      <td>the movie exists for its soccer action and its...</td>\n",
              "      <td>0.000532</td>\n",
              "      <td>0.949870</td>\n",
              "      <td>1.0</td>\n",
              "      <td>0.0</td>\n",
              "      <td>1.0</td>\n",
              "      <td>152.0</td>\n",
              "      <td>Successful</td>\n",
              "      <td>1</td>\n",
              "      <td>0</td>\n",
              "    </tr>\n",
              "    <tr>\n",
              "      <th>8</th>\n",
              "      <td>arnold 's jump from little screen to big will ...</td>\n",
              "      <td>arnold 's jump from little screen to big will ...</td>\n",
              "      <td>0.039787</td>\n",
              "      <td>0.998977</td>\n",
              "      <td>0.0</td>\n",
              "      <td>1.0</td>\n",
              "      <td>0.0</td>\n",
              "      <td>171.0</td>\n",
              "      <td>Successful</td>\n",
              "      <td>0</td>\n",
              "      <td>1</td>\n",
              "    </tr>\n",
              "    <tr>\n",
              "      <th>...</th>\n",
              "      <td>...</td>\n",
              "      <td>...</td>\n",
              "      <td>...</td>\n",
              "      <td>...</td>\n",
              "      <td>...</td>\n",
              "      <td>...</td>\n",
              "      <td>...</td>\n",
              "      <td>...</td>\n",
              "      <td>...</td>\n",
              "      <td>...</td>\n",
              "      <td>...</td>\n",
              "    </tr>\n",
              "    <tr>\n",
              "      <th>1812</th>\n",
              "      <td>lrb a rrb hollywood sheen bedevils the film fr...</td>\n",
              "      <td>lrb a rrb hollywood sheen bedevils the film fr...</td>\n",
              "      <td>0.004160</td>\n",
              "      <td>0.988022</td>\n",
              "      <td>1.0</td>\n",
              "      <td>0.0</td>\n",
              "      <td>1.0</td>\n",
              "      <td>403.0</td>\n",
              "      <td>Successful</td>\n",
              "      <td>1</td>\n",
              "      <td>0</td>\n",
              "    </tr>\n",
              "    <tr>\n",
              "      <th>1814</th>\n",
              "      <td>blade ii is more enjoyable than the original</td>\n",
              "      <td>blade ii is more ennoyable than the original</td>\n",
              "      <td>0.000648</td>\n",
              "      <td>0.691177</td>\n",
              "      <td>1.0</td>\n",
              "      <td>0.0</td>\n",
              "      <td>1.0</td>\n",
              "      <td>126.0</td>\n",
              "      <td>Successful</td>\n",
              "      <td>1</td>\n",
              "      <td>0</td>\n",
              "    </tr>\n",
              "    <tr>\n",
              "      <th>1818</th>\n",
              "      <td>safe conduct , however ambitious and well inte...</td>\n",
              "      <td>safe conduct , however ambitious and well inte...</td>\n",
              "      <td>0.006003</td>\n",
              "      <td>0.588392</td>\n",
              "      <td>0.0</td>\n",
              "      <td>1.0</td>\n",
              "      <td>0.0</td>\n",
              "      <td>343.0</td>\n",
              "      <td>Successful</td>\n",
              "      <td>0</td>\n",
              "      <td>1</td>\n",
              "    </tr>\n",
              "    <tr>\n",
              "      <th>1819</th>\n",
              "      <td>a film made with as little wit , interest , an...</td>\n",
              "      <td>a film made with as litte wit , interest , and...</td>\n",
              "      <td>0.001025</td>\n",
              "      <td>0.971741</td>\n",
              "      <td>0.0</td>\n",
              "      <td>1.0</td>\n",
              "      <td>0.0</td>\n",
              "      <td>446.0</td>\n",
              "      <td>Successful</td>\n",
              "      <td>0</td>\n",
              "      <td>1</td>\n",
              "    </tr>\n",
              "    <tr>\n",
              "      <th>1820</th>\n",
              "      <td>but here 's the real damn it is n't funny , ei...</td>\n",
              "      <td>but here 's the real damn it is n't funZny , e...</td>\n",
              "      <td>0.001004</td>\n",
              "      <td>0.676186</td>\n",
              "      <td>0.0</td>\n",
              "      <td>1.0</td>\n",
              "      <td>0.0</td>\n",
              "      <td>81.0</td>\n",
              "      <td>Successful</td>\n",
              "      <td>0</td>\n",
              "      <td>1</td>\n",
              "    </tr>\n",
              "  </tbody>\n",
              "</table>\n",
              "<p>712 rows × 11 columns</p>\n",
              "</div>\n",
              "      <button class=\"colab-df-convert\" onclick=\"convertToInteractive('df-dad11fca-0c05-40a6-b845-ea5d1bb2988f')\"\n",
              "              title=\"Convert this dataframe to an interactive table.\"\n",
              "              style=\"display:none;\">\n",
              "        \n",
              "  <svg xmlns=\"http://www.w3.org/2000/svg\" height=\"24px\"viewBox=\"0 0 24 24\"\n",
              "       width=\"24px\">\n",
              "    <path d=\"M0 0h24v24H0V0z\" fill=\"none\"/>\n",
              "    <path d=\"M18.56 5.44l.94 2.06.94-2.06 2.06-.94-2.06-.94-.94-2.06-.94 2.06-2.06.94zm-11 1L8.5 8.5l.94-2.06 2.06-.94-2.06-.94L8.5 2.5l-.94 2.06-2.06.94zm10 10l.94 2.06.94-2.06 2.06-.94-2.06-.94-.94-2.06-.94 2.06-2.06.94z\"/><path d=\"M17.41 7.96l-1.37-1.37c-.4-.4-.92-.59-1.43-.59-.52 0-1.04.2-1.43.59L10.3 9.45l-7.72 7.72c-.78.78-.78 2.05 0 2.83L4 21.41c.39.39.9.59 1.41.59.51 0 1.02-.2 1.41-.59l7.78-7.78 2.81-2.81c.8-.78.8-2.07 0-2.86zM5.41 20L4 18.59l7.72-7.72 1.47 1.35L5.41 20z\"/>\n",
              "  </svg>\n",
              "      </button>\n",
              "      \n",
              "  <style>\n",
              "    .colab-df-container {\n",
              "      display:flex;\n",
              "      flex-wrap:wrap;\n",
              "      gap: 12px;\n",
              "    }\n",
              "\n",
              "    .colab-df-convert {\n",
              "      background-color: #E8F0FE;\n",
              "      border: none;\n",
              "      border-radius: 50%;\n",
              "      cursor: pointer;\n",
              "      display: none;\n",
              "      fill: #1967D2;\n",
              "      height: 32px;\n",
              "      padding: 0 0 0 0;\n",
              "      width: 32px;\n",
              "    }\n",
              "\n",
              "    .colab-df-convert:hover {\n",
              "      background-color: #E2EBFA;\n",
              "      box-shadow: 0px 1px 2px rgba(60, 64, 67, 0.3), 0px 1px 3px 1px rgba(60, 64, 67, 0.15);\n",
              "      fill: #174EA6;\n",
              "    }\n",
              "\n",
              "    [theme=dark] .colab-df-convert {\n",
              "      background-color: #3B4455;\n",
              "      fill: #D2E3FC;\n",
              "    }\n",
              "\n",
              "    [theme=dark] .colab-df-convert:hover {\n",
              "      background-color: #434B5C;\n",
              "      box-shadow: 0px 1px 3px 1px rgba(0, 0, 0, 0.15);\n",
              "      filter: drop-shadow(0px 1px 2px rgba(0, 0, 0, 0.3));\n",
              "      fill: #FFFFFF;\n",
              "    }\n",
              "  </style>\n",
              "\n",
              "      <script>\n",
              "        const buttonEl =\n",
              "          document.querySelector('#df-dad11fca-0c05-40a6-b845-ea5d1bb2988f button.colab-df-convert');\n",
              "        buttonEl.style.display =\n",
              "          google.colab.kernel.accessAllowed ? 'block' : 'none';\n",
              "\n",
              "        async function convertToInteractive(key) {\n",
              "          const element = document.querySelector('#df-dad11fca-0c05-40a6-b845-ea5d1bb2988f');\n",
              "          const dataTable =\n",
              "            await google.colab.kernel.invokeFunction('convertToInteractive',\n",
              "                                                     [key], {});\n",
              "          if (!dataTable) return;\n",
              "\n",
              "          const docLinkHtml = 'Like what you see? Visit the ' +\n",
              "            '<a target=\"_blank\" href=https://colab.research.google.com/notebooks/data_table.ipynb>data table notebook</a>'\n",
              "            + ' to learn more about interactive tables.';\n",
              "          element.innerHTML = '';\n",
              "          dataTable['output_type'] = 'display_data';\n",
              "          await google.colab.output.renderOutput(dataTable, element);\n",
              "          const docLink = document.createElement('div');\n",
              "          docLink.innerHTML = docLinkHtml;\n",
              "          element.appendChild(docLink);\n",
              "        }\n",
              "      </script>\n",
              "    </div>\n",
              "  </div>\n",
              "  "
            ]
          },
          "metadata": {},
          "execution_count": 40
        }
      ]
    },
    {
      "cell_type": "markdown",
      "metadata": {
        "id": "wdtXGwKNRXON"
      },
      "source": [
        "# Obtain logits\n",
        "Once we have the predictions and actually adversarial sentences, we generate the logits differences"
      ]
    },
    {
      "cell_type": "code",
      "execution_count": 41,
      "metadata": {
        "id": "MgFTTcTbRXON"
      },
      "outputs": [],
      "source": [
        "# For large datasets we keep tail. Head is used for training. This way we ensure no intersection\n",
        "if len(df) > 250:\n",
        "    df = df.tail(250)"
      ]
    },
    {
      "cell_type": "code",
      "execution_count": 42,
      "metadata": {
        "id": "47OAgrucRXOO"
      },
      "outputs": [],
      "source": [
        "original_samples = df.original_text.values\n",
        "adversarial_samples = df.adversarial_text.values"
      ]
    },
    {
      "cell_type": "code",
      "execution_count": 43,
      "metadata": {
        "id": "vlX96548RXOO"
      },
      "outputs": [],
      "source": [
        "# Concatenate all original samples and their predictions\n",
        "x = np.concatenate((original_samples, adversarial_samples))\n",
        "y = np.concatenate((np.zeros(len(original_samples)), np.ones(len(adversarial_samples))))"
      ]
    },
    {
      "cell_type": "code",
      "execution_count": 44,
      "metadata": {
        "id": "bmWwOkCBRXOO"
      },
      "outputs": [],
      "source": [
        "def obtain_logits(samples, batch_size, model, tokenizer):\n",
        "    \"\"\"\n",
        "    For given samples and model, compute prediction logits.\n",
        "    Input data is splitted in batches.\n",
        "    \"\"\"\n",
        "    batches = [samples[i:i + batch_size] for i in range(0, len(samples), batch_size)]\n",
        "    logits = []\n",
        "\n",
        "    for i, b in enumerate(batches):\n",
        "        print(\"{}/{}\".format(i+1, len(batches)))\n",
        "        if hugging_face_model:\n",
        "            with torch.no_grad():\n",
        "                input = tokenizer(list(b), return_tensors=\"pt\", padding=True, truncation=True).to(device)\n",
        "                logits.append(model(**input).logits.cpu().numpy())\n",
        "        else:\n",
        "            logits.append(model(b))\n",
        "\n",
        "    return logits"
      ]
    },
    {
      "cell_type": "code",
      "execution_count": 45,
      "metadata": {
        "colab": {
          "base_uri": "https://localhost:8080/"
        },
        "id": "1EUwTgJTRXOP",
        "outputId": "cf2d6b2a-7a10-478d-bd16-cf142e2d5d55"
      },
      "outputs": [
        {
          "output_type": "stream",
          "name": "stdout",
          "text": [
            "1/1\n"
          ]
        }
      ],
      "source": [
        "# Compute logits for original sentences\n",
        "batch_size = 350\n",
        "original_logits = obtain_logits(original_samples, batch_size, model, tokenizer)\n",
        "original_logits = np.concatenate(original_logits).reshape(-1, original_logits[0].shape[1])"
      ]
    },
    {
      "cell_type": "code",
      "execution_count": 46,
      "metadata": {
        "id": "mhqfTkguRXOP"
      },
      "outputs": [],
      "source": [
        "torch.cuda.empty_cache()"
      ]
    },
    {
      "cell_type": "code",
      "execution_count": 47,
      "metadata": {
        "colab": {
          "base_uri": "https://localhost:8080/"
        },
        "id": "I65TlI7nRXOP",
        "outputId": "9dabcb60-232a-4aba-bb2e-d07865041d48"
      },
      "outputs": [
        {
          "output_type": "stream",
          "name": "stdout",
          "text": [
            "1/1\n"
          ]
        }
      ],
      "source": [
        "# Compute logits for adversarial sentences\n",
        "batch_size = 350\n",
        "adversarial_logits = obtain_logits(adversarial_samples, batch_size, model, tokenizer)\n",
        "adversarial_logits = np.concatenate(adversarial_logits).reshape(-1, adversarial_logits[0].shape[1])"
      ]
    },
    {
      "cell_type": "code",
      "execution_count": 48,
      "metadata": {
        "id": "5TctGV4SRXOQ"
      },
      "outputs": [],
      "source": [
        "torch.cuda.empty_cache()"
      ]
    },
    {
      "cell_type": "code",
      "execution_count": 49,
      "metadata": {
        "id": "wgLl536wRXOQ"
      },
      "outputs": [],
      "source": [
        "# Concatenate all logits\n",
        "logits = np.concatenate((original_logits, adversarial_logits))"
      ]
    },
    {
      "cell_type": "code",
      "execution_count": 50,
      "metadata": {
        "id": "0BMxIZbyRXOQ"
      },
      "outputs": [],
      "source": [
        "# Shuffle data\n",
        "import random\n",
        "c = list(zip(x, y, logits))\n",
        "random.shuffle(c)\n",
        "x, y, logits = zip(*c)"
      ]
    },
    {
      "cell_type": "markdown",
      "metadata": {
        "id": "NEe9rNnaRXOQ"
      },
      "source": [
        "## Computing logits difference\n",
        "\n",
        "This is a key step implemented. The main idea is:\n",
        "* For each sentence, replace each word by the `[UNK]` token and compute prediction logits\n",
        "* Using these logits, we can easily compute the saliency of the word as presented in the report.\n",
        "* Then, we sort words by descending saliency.\n",
        "* Finally, compute logits difference for each replacement. This difference is computed as `Logit from class predicted for the whole sentence - Highest remaining logit`\n",
        "\n",
        "More details on these derivations are found in the paper."
      ]
    },
    {
      "cell_type": "code",
      "execution_count": 51,
      "metadata": {
        "id": "jXHXPwaORXOR"
      },
      "outputs": [],
      "source": [
        "def compute_logits_difference(x, logits, y, model, tokenizer, idx, max_sentence_size=512):\n",
        "    n_classes = len(logits[idx])\n",
        "    predicted_class = np.argmax(logits[idx]) # Predicted class for whole sentence using previously computed logits\n",
        "    class_logit = logits[idx][predicted_class] # Store this origianl prediction logit\n",
        "\n",
        "    split_sentence = x[idx].split(' ')[:max_sentence_size] # The tokenizer will only consider 512 words so we avoid computing innecessary logits\n",
        "\n",
        "    new_sentences = []\n",
        "\n",
        "    # Here, we replace each word by [UNK] and generate all sentences to consider\n",
        "    for i, word in enumerate(split_sentence):\n",
        "        new_sentence = copy(split_sentence)\n",
        "        new_sentence[i] = '[UNK]'\n",
        "        new_sentence = ' '.join(new_sentence)\n",
        "        new_sentences.append(new_sentence)\n",
        "\n",
        "    # We cannot run more than 350 predictions simultaneously because of resources.\n",
        "    # Split in batches if necessary.\n",
        "    # Compute logits for all replacements.\n",
        "    if len(new_sentences) > 200:\n",
        "        logits = []\n",
        "        batches = [new_sentences[i:i + 200] for i in range(0, len(new_sentences), 200)]\n",
        "        for b in batches:\n",
        "            if hugging_face_model: # Use hugging face predictions\n",
        "                batch = tokenizer(b, return_tensors=\"pt\", padding=True, truncation=True).to(device)\n",
        "                with torch.no_grad():\n",
        "                    logits.append(model(**batch).logits)\n",
        "            else:\n",
        "                logits.append(model(b).to(device))\n",
        "      \n",
        "        if hugging_face_model:\n",
        "            logits = torch.cat(logits)\n",
        "        else:\n",
        "            logits = np.concatenate( logits, axis=0 )\n",
        "            logits = torch.Tensor(logits)\n",
        "    \n",
        "    else: # There's no need to split in batches\n",
        "        if hugging_face_model:\n",
        "            batch = tokenizer(new_sentences, return_tensors=\"pt\", padding=True, truncation=True).to(device)\n",
        "            with torch.no_grad():\n",
        "                logits = model(**batch).logits\n",
        "            del batch\n",
        "        else:\n",
        "            logits = model(new_sentences)\n",
        "            logits = torch.Tensor(logits)\n",
        "\n",
        "\n",
        "    # Compute saliency\n",
        "    saliency = (class_logit - logits[:,predicted_class]).reshape(-1, 1)\n",
        "\n",
        "    # Append to logits for sorting\n",
        "    data = torch.cat((logits, saliency), 1)\n",
        "\n",
        "    # Sort by descending saliency\n",
        "    data = torch.stack(sorted(data, key=lambda a: a[n_classes], reverse=True))\n",
        "\n",
        "    # Remove saliency\n",
        "    data = data[:, :n_classes]\n",
        "\n",
        "    # Fix order: originallly predicted class, other classes\n",
        "    order = [predicted_class] + [i for i in range(n_classes) if i!=predicted_class]\n",
        "    data = torch.index_select(data, 1, torch.LongTensor(order).to(device))\n",
        "\n",
        "    # Compute difference between predicted class (always first column) and higher remaining logit\n",
        "    data = data[:, :1].flatten() - torch.max(data[:, 1:], dim=1).values.flatten()\n",
        "\n",
        "    del saliency\n",
        "    torch.cuda.empty_cache()\n",
        "\n",
        "    # Return only logits difference\n",
        "    return data.reshape(-1, 1), torch.Tensor([y[idx]]).to(device)"
      ]
    },
    {
      "cell_type": "code",
      "execution_count": 52,
      "metadata": {
        "id": "w0jiWmfYRXOR"
      },
      "outputs": [],
      "source": [
        "def compute_logits_difference_padding(x, logits, y, model, tokenizer, idx, target_size=512):\n",
        "    \"\"\"\n",
        "    This function provides a wrapper for compute_logits_difference and includes padding to computations.\n",
        "    \"\"\"\n",
        "    data, y = compute_logits_difference(x, logits, y, model, tokenizer, idx, target_size)\n",
        "    data_size = min(512, data.shape[0])\n",
        "    target = torch.zeros(target_size, 1).to(device)\n",
        "    target[:data_size, :] = data\n",
        "\n",
        "    return target, y"
      ]
    },
    {
      "cell_type": "code",
      "execution_count": 53,
      "metadata": {
        "id": "hX9l2NiyRXOR"
      },
      "outputs": [],
      "source": [
        "from torch.utils.data import Dataset, DataLoader\n",
        "import sys\n",
        "from torch.autograd import Variable\n",
        "\n",
        "class Text(Dataset):\n",
        "    \"\"\"\n",
        "    Dataloader following torch details. Each time we get an item, we will compute\n",
        "    the logits difference.\n",
        "    \"\"\"\n",
        "    def __init__(self, x , logits, y, model, tokenizer, train=True, max_sentence_size=512):\n",
        "        self.logits = logits\n",
        "        self.y = y\n",
        "        self.x = x\n",
        "        self.model = model\n",
        "        self.tokenizer = tokenizer\n",
        "        self.max_sentence_size = max_sentence_size\n",
        "\n",
        "    def __len__(self):\n",
        "        return len(self.x)\n",
        "\n",
        "    def __getitem__(self, idx):\n",
        "        data, y = compute_logits_difference_padding(self.x, self.logits, self.y, self.model, self.tokenizer, idx, self.max_sentence_size)\n",
        "        data = data[:, :1].unsqueeze(0)\n",
        "\n",
        "        return data, y, self.x[idx]"
      ]
    },
    {
      "cell_type": "code",
      "execution_count": 54,
      "metadata": {
        "id": "XEgjt30oRXOR"
      },
      "outputs": [],
      "source": [
        "# Create the dataloader\n",
        "train_ds = Text(x, logits, y, model, tokenizer)\n",
        "train_loader = DataLoader(dataset=train_ds, batch_size=256, shuffle=True)"
      ]
    },
    {
      "cell_type": "code",
      "execution_count": 55,
      "metadata": {
        "id": "TJk5oRldRXOR"
      },
      "outputs": [],
      "source": [
        "# Define the target DataFrame to structure our data.\n",
        "# It has a column for each input dimension (up to 512) and \n",
        "# it also includes whether it is adversarial or not (y_label) and the sentence from which the logits where extracted\n",
        "\n",
        "data_test = pd.DataFrame(columns=[i for i in range(512)]+['y_label', 'sentence'])"
      ]
    },
    {
      "cell_type": "code",
      "execution_count": 56,
      "metadata": {
        "colab": {
          "base_uri": "https://localhost:8080/"
        },
        "id": "ovTujJdrRXOR",
        "outputId": "bead7786-856e-4d4f-94c0-0e76497a8cf5"
      },
      "outputs": [
        {
          "output_type": "stream",
          "name": "stdout",
          "text": [
            "0/2 - 0.0\n",
            "\n",
            "1/2 - 0.5\n",
            "\n"
          ]
        }
      ],
      "source": [
        "# Generate logits difference by running the loader.\n",
        "for i, (data, y_label, sentence) in enumerate(train_loader):\n",
        "    print(\"{}/{} - {}\\n\".format(i, len(train_loader), i/len(train_loader)))\n",
        "    for v in range(len(data)):\n",
        "        # Structure data and include in dataframe\n",
        "        row = np.append(data[v].cpu().numpy().reshape(1,-1), np.array([y_label[v].item(), sentence[v]]))\n",
        "        data_test = data_test.append(pd.DataFrame([row], columns=list(data_test)), ignore_index=True)"
      ]
    },
    {
      "cell_type": "markdown",
      "metadata": {
        "id": "ApuQeJ_bRXOS"
      },
      "source": [
        "# Perform test\n",
        "Use logits differences to execute the classifier"
      ]
    },
    {
      "cell_type": "code",
      "execution_count": 57,
      "metadata": {
        "id": "r9TtDiWhroBe"
      },
      "outputs": [],
      "source": [
        "y_test = data_test['y_label'].astype(float).values\n",
        "x_test = data_test.drop(columns=['y_label', 'sentence']).values"
      ]
    },
    {
      "cell_type": "code",
      "source": [
        "x_test"
      ],
      "metadata": {
        "id": "e1ozCL3PASyC",
        "outputId": "43cb58f4-c672-40d0-94c7-0ca144b8a70e",
        "colab": {
          "base_uri": "https://localhost:8080/"
        }
      },
      "execution_count": 58,
      "outputs": [
        {
          "output_type": "execute_result",
          "data": {
            "text/plain": [
              "array([['2.4774957', '3.1422303', '4.172214', ..., '0.0', '0.0', '0.0'],\n",
              "       ['1.158636', '6.1092725', '6.3706994', ..., '0.0', '0.0', '0.0'],\n",
              "       ['-0.21594009', '5.737946', '6.2402472', ..., '0.0', '0.0', '0.0'],\n",
              "       ...,\n",
              "       ['2.2137723', '3.1778932', '3.7834954', ..., '0.0', '0.0', '0.0'],\n",
              "       ['-1.0583954', '-0.9948504', '0.22546539', ..., '0.0', '0.0',\n",
              "        '0.0'],\n",
              "       ['-1.9010477', '-1.2888677', '-1.1362349', ..., '0.0', '0.0',\n",
              "        '0.0']], dtype=object)"
            ]
          },
          "metadata": {},
          "execution_count": 58
        }
      ]
    },
    {
      "cell_type": "code",
      "execution_count": 59,
      "metadata": {
        "colab": {
          "base_uri": "https://localhost:8080/"
        },
        "id": "htk_TwGLXlcl",
        "outputId": "379cf309-dc5f-4da0-e33b-87aa819b7860"
      },
      "outputs": [
        {
          "output_type": "execute_result",
          "data": {
            "text/plain": [
              "0    a great comedy filmmaker knows great comedy ne...\n",
              "1    legendary irish writer brendan behan 's memoir...\n",
              "2                           i hated every minute of it\n",
              "3                  does n't amoint to much of anything\n",
              "4    a swewt natured reconsideration of one of san ...\n",
              "Name: sentence, dtype: object"
            ]
          },
          "metadata": {},
          "execution_count": 59
        }
      ],
      "source": [
        "data_test['sentence'].head(5)"
      ]
    },
    {
      "cell_type": "markdown",
      "metadata": {
        "id": "-PV3Oo2hHW9d"
      },
      "source": [
        "# Model and prediction\n",
        "\n",
        "Load model and make predictions"
      ]
    },
    {
      "cell_type": "code",
      "execution_count": 60,
      "metadata": {
        "id": "_A9jRI67HY7x",
        "colab": {
          "base_uri": "https://localhost:8080/"
        },
        "outputId": "6322e5e4-030e-45d3-c236-ccd62d4af5b7"
      },
      "outputs": [
        {
          "output_type": "stream",
          "name": "stderr",
          "text": [
            "/usr/local/lib/python3.7/dist-packages/sklearn/base.py:338: UserWarning: Trying to unpickle estimator LabelEncoder from version 0.22.2.post1 when using version 1.0.2. This might lead to breaking code or invalid results. Use at your own risk. For more info please refer to:\n",
            "https://scikit-learn.org/stable/modules/model_persistence.html#security-maintainability-limitations\n",
            "  UserWarning,\n"
          ]
        }
      ],
      "source": [
        "import pickle\n",
        "\n",
        "model = pickle.load(open(MODEL_PATH, \"rb\"))"
      ]
    },
    {
      "cell_type": "code",
      "execution_count": 61,
      "metadata": {
        "id": "IfdT4B1iHtBf"
      },
      "outputs": [],
      "source": [
        "predictions_raw = model.predict_proba(x_test)"
      ]
    },
    {
      "cell_type": "code",
      "execution_count": 62,
      "metadata": {
        "colab": {
          "base_uri": "https://localhost:8080/"
        },
        "id": "n1HV72U8HzSI",
        "outputId": "9e63cac0-9204-46d7-deed-f4a0ea21e616"
      },
      "outputs": [
        {
          "output_type": "execute_result",
          "data": {
            "text/plain": [
              "array([[0.99699   , 0.00300998],\n",
              "       [0.99175566, 0.00824432],\n",
              "       [0.92228454, 0.07771547]], dtype=float32)"
            ]
          },
          "metadata": {},
          "execution_count": 62
        }
      ],
      "source": [
        "predictions_raw[:3]"
      ]
    },
    {
      "cell_type": "code",
      "execution_count": 63,
      "metadata": {
        "id": "LheN7dV7IeyM"
      },
      "outputs": [],
      "source": [
        "predictions_raw = predictions_raw[:,1]"
      ]
    },
    {
      "cell_type": "code",
      "execution_count": 64,
      "metadata": {
        "id": "AfF2HNN3IndX"
      },
      "outputs": [],
      "source": [
        "predictions = predictions_raw.round()"
      ]
    },
    {
      "cell_type": "code",
      "execution_count": 65,
      "metadata": {
        "id": "iTLSBhdMH24K"
      },
      "outputs": [],
      "source": [
        "data_test['y_hat'] = predictions\n",
        "data_test['y_prob'] = predictions_raw\n",
        "data_test['y'] = y_test"
      ]
    },
    {
      "cell_type": "markdown",
      "metadata": {
        "id": "z7HZeFDYAZoH"
      },
      "source": [
        "# Metrics and errors\n",
        "\n",
        "Analyze the results"
      ]
    },
    {
      "cell_type": "code",
      "execution_count": 66,
      "metadata": {
        "colab": {
          "base_uri": "https://localhost:8080/"
        },
        "id": "XfiRCst4cidY",
        "outputId": "fc159aff-fb3c-465e-bf5c-7f1406ca0eee"
      },
      "outputs": [
        {
          "output_type": "execute_result",
          "data": {
            "text/plain": [
              "array([[198,  52],\n",
              "       [124, 126]])"
            ]
          },
          "metadata": {},
          "execution_count": 66
        }
      ],
      "source": [
        "from sklearn.metrics import confusion_matrix\n",
        "confusion_matrix(y_test, predictions)"
      ]
    },
    {
      "cell_type": "code",
      "execution_count": 67,
      "metadata": {
        "colab": {
          "base_uri": "https://localhost:8080/"
        },
        "id": "pyIP6l488CYo",
        "outputId": "fa6beaa1-f384-4767-9c0c-9bdea0baf42d"
      },
      "outputs": [
        {
          "output_type": "stream",
          "name": "stdout",
          "text": [
            "              precision    recall  f1-score   support\n",
            "\n",
            "         0.0      0.615     0.792     0.692       250\n",
            "         1.0      0.708     0.504     0.589       250\n",
            "\n",
            "    accuracy                          0.648       500\n",
            "   macro avg      0.661     0.648     0.641       500\n",
            "weighted avg      0.661     0.648     0.641       500\n",
            "\n"
          ]
        }
      ],
      "source": [
        "from sklearn.metrics import classification_report\n",
        "print(classification_report(y_test, predictions, digits=3))"
      ]
    },
    {
      "cell_type": "code",
      "execution_count": 68,
      "metadata": {
        "colab": {
          "base_uri": "https://localhost:8080/",
          "height": 445
        },
        "id": "BMtuez3LVVh4",
        "outputId": "6c018fc7-aaa2-4881-c941-2993ac2b7c83"
      },
      "outputs": [
        {
          "output_type": "execute_result",
          "data": {
            "text/plain": [
              "<matplotlib.axes._subplots.AxesSubplot at 0x7efd6c6614d0>"
            ]
          },
          "metadata": {},
          "execution_count": 68
        },
        {
          "output_type": "display_data",
          "data": {
            "text/plain": [
              "<Figure size 720x504 with 2 Axes>"
            ],
            "image/png": "[encoded data removed]"
          },
          "metadata": {
            "needs_background": "light"
          }
        }
      ],
      "source": [
        "import matplotlib.pyplot as plt\n",
        "import seaborn as sn\n",
        "plt.figure(figsize = (10,7))\n",
        "sn.heatmap(confusion_matrix(y_test, predictions), annot=True, cmap='Blues', fmt='g',  annot_kws={\"fontsize\":24})"
      ]
    },
    {
      "cell_type": "markdown",
      "metadata": {
        "id": "r6zM88SzJV0m"
      },
      "source": [
        "# Shifting cutoff\n",
        "\n",
        "We tried different values for the decision cutoff value to see whether we could further increase adversarial recall."
      ]
    },
    {
      "cell_type": "code",
      "execution_count": 69,
      "metadata": {
        "id": "Gz__4eHAgtBn"
      },
      "outputs": [],
      "source": [
        "new_y_hat = np.where(predictions_raw>0.4, 1, 0)"
      ]
    },
    {
      "cell_type": "code",
      "execution_count": 70,
      "metadata": {
        "colab": {
          "base_uri": "https://localhost:8080/"
        },
        "id": "YC224mFZhDmL",
        "outputId": "6f9dd9eb-a5f4-4948-c3d9-3640b50e2c65"
      },
      "outputs": [
        {
          "output_type": "execute_result",
          "data": {
            "text/plain": [
              "array([0, 0, 0, 1, 0, 0, 0, 0, 1, 1])"
            ]
          },
          "metadata": {},
          "execution_count": 70
        }
      ],
      "source": [
        "new_y_hat[:10]"
      ]
    },
    {
      "cell_type": "code",
      "execution_count": 71,
      "metadata": {
        "colab": {
          "base_uri": "https://localhost:8080/",
          "height": 445
        },
        "id": "R_-geDqBhLET",
        "outputId": "ca67d5d4-7955-417d-eeef-de5010ccbdd3"
      },
      "outputs": [
        {
          "output_type": "execute_result",
          "data": {
            "text/plain": [
              "<matplotlib.axes._subplots.AxesSubplot at 0x7efd330988d0>"
            ]
          },
          "metadata": {},
          "execution_count": 71
        },
        {
          "output_type": "display_data",
          "data": {
            "text/plain": [
              "<Figure size 720x504 with 2 Axes>"
            ],
            "image/png": "[encoded data removed]"
          },
          "metadata": {
            "needs_background": "light"
          }
        }
      ],
      "source": [
        "import matplotlib.pyplot as plt\n",
        "import seaborn as sn\n",
        "plt.figure(figsize = (10,7))\n",
        "sn.heatmap(confusion_matrix(y_test, new_y_hat), annot=True, cmap='Blues', fmt='g',  annot_kws={\"fontsize\":24})"
      ]
    },
    {
      "cell_type": "code",
      "execution_count": 72,
      "metadata": {
        "colab": {
          "base_uri": "https://localhost:8080/"
        },
        "id": "smvsakGNhL7v",
        "outputId": "0c312c2a-f610-4e0f-ea8b-9050aa4d50f7"
      },
      "outputs": [
        {
          "output_type": "stream",
          "name": "stdout",
          "text": [
            "              precision    recall  f1-score   support\n",
            "\n",
            "         0.0      0.627     0.788     0.699       250\n",
            "         1.0      0.715     0.532     0.610       250\n",
            "\n",
            "    accuracy                          0.660       500\n",
            "   macro avg      0.671     0.660     0.654       500\n",
            "weighted avg      0.671     0.660     0.654       500\n",
            "\n"
          ]
        }
      ],
      "source": [
        "from sklearn.metrics import classification_report\n",
        "print(classification_report(y_test, new_y_hat, digits=3))"
      ]
    },
    {
      "cell_type": "markdown",
      "metadata": {
        "id": "XeApkl6cJcKK"
      },
      "source": [
        "### 0.3"
      ]
    },
    {
      "cell_type": "code",
      "execution_count": 73,
      "metadata": {
        "id": "fyoUhwyBiAYi"
      },
      "outputs": [],
      "source": [
        "new_y_hat = np.where(predictions_raw>0.3, 1, 0)"
      ]
    },
    {
      "cell_type": "code",
      "execution_count": 74,
      "metadata": {
        "colab": {
          "base_uri": "https://localhost:8080/"
        },
        "id": "JN3cU2RfiAYi",
        "outputId": "cb97efdb-59c7-49f7-cd4c-88da4cf854e8"
      },
      "outputs": [
        {
          "output_type": "execute_result",
          "data": {
            "text/plain": [
              "array([0, 0, 0, 1, 0, 0, 0, 0, 1, 1])"
            ]
          },
          "metadata": {},
          "execution_count": 74
        }
      ],
      "source": [
        "new_y_hat[:10]"
      ]
    },
    {
      "cell_type": "code",
      "execution_count": 75,
      "metadata": {
        "colab": {
          "base_uri": "https://localhost:8080/",
          "height": 445
        },
        "id": "5eKQwbVIiAYk",
        "outputId": "dd0ac3c7-e00d-401d-eecf-a3ecdc4e7359"
      },
      "outputs": [
        {
          "output_type": "execute_result",
          "data": {
            "text/plain": [
              "<matplotlib.axes._subplots.AxesSubplot at 0x7efd33040e10>"
            ]
          },
          "metadata": {},
          "execution_count": 75
        },
        {
          "output_type": "display_data",
          "data": {
            "text/plain": [
              "<Figure size 720x504 with 2 Axes>"
            ],
            "image/png": "[encoded data removed]"
          },
          "metadata": {
            "needs_background": "light"
          }
        }
      ],
      "source": [
        "import matplotlib.pyplot as plt\n",
        "import seaborn as sn\n",
        "plt.figure(figsize = (10,7))\n",
        "sn.heatmap(confusion_matrix(y_test, new_y_hat), annot=True, cmap='Blues', fmt='g',  annot_kws={\"fontsize\":24})"
      ]
    },
    {
      "cell_type": "code",
      "execution_count": 76,
      "metadata": {
        "colab": {
          "base_uri": "https://localhost:8080/"
        },
        "id": "ut13af-WiAYl",
        "outputId": "0c543796-841a-4a4a-a0c8-57732922fbe6"
      },
      "outputs": [
        {
          "output_type": "stream",
          "name": "stdout",
          "text": [
            "              precision    recall  f1-score   support\n",
            "\n",
            "         0.0      0.633     0.752     0.687       250\n",
            "         1.0      0.695     0.564     0.623       250\n",
            "\n",
            "    accuracy                          0.658       500\n",
            "   macro avg      0.664     0.658     0.655       500\n",
            "weighted avg      0.664     0.658     0.655       500\n",
            "\n"
          ]
        }
      ],
      "source": [
        "from sklearn.metrics import classification_report\n",
        "print(classification_report(y_test, new_y_hat, digits=3))"
      ]
    },
    {
      "cell_type": "markdown",
      "metadata": {
        "id": "9qZ_LXtgJh94"
      },
      "source": [
        "### 0.15"
      ]
    },
    {
      "cell_type": "code",
      "execution_count": 77,
      "metadata": {
        "id": "UfAm5D1bjG3X"
      },
      "outputs": [],
      "source": [
        "new_y_hat = np.where(predictions_raw>0.15, 1, 0)"
      ]
    },
    {
      "cell_type": "code",
      "execution_count": 78,
      "metadata": {
        "colab": {
          "base_uri": "https://localhost:8080/"
        },
        "id": "yhPODTkVjG3a",
        "outputId": "3b0e696e-8ac6-45e9-9a43-880987605100"
      },
      "outputs": [
        {
          "output_type": "execute_result",
          "data": {
            "text/plain": [
              "array([0, 0, 0, 1, 1, 0, 0, 0, 1, 1])"
            ]
          },
          "metadata": {},
          "execution_count": 78
        }
      ],
      "source": [
        "new_y_hat[:10]"
      ]
    },
    {
      "cell_type": "code",
      "execution_count": 79,
      "metadata": {
        "colab": {
          "base_uri": "https://localhost:8080/",
          "height": 445
        },
        "id": "MWf3EfjFjG3c",
        "outputId": "f3afe0ed-30ac-435c-9463-7f061245252f"
      },
      "outputs": [
        {
          "output_type": "execute_result",
          "data": {
            "text/plain": [
              "<matplotlib.axes._subplots.AxesSubplot at 0x7efd32f77b90>"
            ]
          },
          "metadata": {},
          "execution_count": 79
        },
        {
          "output_type": "display_data",
          "data": {
            "text/plain": [
              "<Figure size 720x504 with 2 Axes>"
            ],
            "image/png": "[encoded data removed]"
          },
          "metadata": {
            "needs_background": "light"
          }
        }
      ],
      "source": [
        "import matplotlib.pyplot as plt\n",
        "import seaborn as sn\n",
        "plt.figure(figsize = (10,7))\n",
        "sn.heatmap(confusion_matrix(y_test, new_y_hat), annot=True, cmap='Blues', fmt='g',  annot_kws={\"fontsize\":24})"
      ]
    },
    {
      "cell_type": "code",
      "execution_count": 80,
      "metadata": {
        "colab": {
          "base_uri": "https://localhost:8080/"
        },
        "id": "wfi0qsfwjG3d",
        "outputId": "bff28a3b-c79e-4d2b-99c7-a7e684536052"
      },
      "outputs": [
        {
          "output_type": "stream",
          "name": "stdout",
          "text": [
            "              precision    recall  f1-score   support\n",
            "\n",
            "         0.0      0.668     0.700     0.684       250\n",
            "         1.0      0.685     0.652     0.668       250\n",
            "\n",
            "    accuracy                          0.676       500\n",
            "   macro avg      0.676     0.676     0.676       500\n",
            "weighted avg      0.676     0.676     0.676       500\n",
            "\n"
          ]
        }
      ],
      "source": [
        "from sklearn.metrics import classification_report\n",
        "print(classification_report(y_test, new_y_hat, digits=3))"
      ]
    },
    {
      "cell_type": "markdown",
      "metadata": {
        "id": "LLDuWG8mHJ_q"
      },
      "source": [
        "# Density chart"
      ]
    },
    {
      "cell_type": "code",
      "execution_count": 63,
      "metadata": {
        "colab": {
          "base_uri": "https://localhost:8080/",
          "height": 596
        },
        "id": "K_xawsJjF6BU",
        "outputId": "587f19e6-a1df-4220-e1b8-eb287f80dd09"
      },
      "outputs": [
        {
          "output_type": "stream",
          "name": "stderr",
          "text": [
            "/usr/local/lib/python3.7/dist-packages/distributed/config.py:20: YAMLLoadWarning: calling yaml.load() without Loader=... is deprecated, as the default Loader is unsafe. Please read https://msg.pyyaml.org/load for full details.\n",
            "  defaults = yaml.load(f)\n"
          ]
        },
        {
          "output_type": "display_data",
          "data": {
            "text/html": [
              "<html>\n",
              "<head><meta charset=\"utf-8\" /></head>\n",
              "<body>\n",
              "    <div>            <script src=\"https://cdnjs.cloudflare.com/ajax/libs/mathjax/2.7.5/MathJax.js?config=TeX-AMS-MML_SVG\"></script><script type=\"text/javascript\">if (window.MathJax) {MathJax.Hub.Config({SVG: {font: \"STIX-Web\"}});}</script>                <script type=\"text/javascript\">window.PlotlyConfig = {MathJaxConfig: 'local'};</script>\n",
              "        <script src=\"https://cdn.plot.ly/plotly-2.8.3.min.js\"></script>                <div id=\"d4699516-e499-4700-a160-6fa065890860\" class=\"plotly-graph-div\" style=\"height:525px; width:100%;\"></div>            <script type=\"text/javascript\">                                    window.PLOTLYENV=window.PLOTLYENV || {};                                    if (document.getElementById(\"d4699516-e499-4700-a160-6fa065890860\")) {                    Plotly.newPlot(                        \"d4699516-e499-4700-a160-6fa065890860\",                        [{\"legendgroup\":\"Adversarial\",\"marker\":{\"color\":\"#C04000\"},\"mode\":\"lines\",\"name\":\"Adversarial\",\"showlegend\":true,\"x\":[0.004179669078439474,0.006159065634943545,0.008138462191447616,0.010117858747951687,0.012097255304455757,0.014076651860959829,0.0160560484174639,0.01803544497396797,0.02001484153047204,0.02199423808697611,0.023973634643480183,0.025953031199984253,0.027932427756488323,0.029911824312992392,0.031891220869496466,0.03387061742600053,0.035850013982504605,0.03782941053900868,0.039808807095512745,0.04178820365201682,0.04376760020852089,0.04574699676502496,0.04772639332152903,0.049705789878033105,0.05168518643453717,0.053664582991041244,0.05564397954754531,0.057623376104049384,0.05960277266055346,0.061582169217057524,0.06356156577356159,0.06554096233006568,0.06752035888656974,0.06949975544307381,0.07147915199957788,0.07345854855608196,0.07543794511258602,0.07741734166909009,0.07939673822559416,0.08137613478209824,0.08335553133860231,0.08533492789510637,0.08731432445161044,0.08929372100811452,0.09127311756461859,0.09325251412112266,0.09523191067762674,0.0972113072341308,0.09919070379063487,0.10117010034713894,0.10314949690364301,0.10512889346014709,0.10710829001665115,0.10908768657315522,0.1110670831296593,0.11304647968616337,0.11502587624266744,0.11700527279917151,0.11898466935567557,0.12096406591217965,0.12294346246868372,0.1249228590251878,0.12690225558169188,0.1288816521381959,0.1308610486947,0.1328404452512041,0.13481984180770815,0.1367992383642122,0.1387786349207163,0.14075803147722035,0.14273742803372444,0.1447168245902285,0.14669622114673256,0.14867561770323665,0.1506550142597407,0.1526344108162448,0.15461380737274885,0.1565932039292529,0.158572600485757,0.16055199704226106,0.16253139359876514,0.1645107901552692,0.16649018671177326,0.16846958326827735,0.1704489798247814,0.1724283763812855,0.17440777293778956,0.17638716949429362,0.1783665660507977,0.18034596260730176,0.18232535916380585,0.1843047557203099,0.186284152276814,0.18826354883331806,0.19024294538982212,0.1922223419463262,0.19420173850283026,0.19618113505933435,0.1981605316158384,0.20013992817234247,0.20211932472884656,0.20409872128535061,0.2060781178418547,0.20805751439835876,0.21003691095486282,0.2120163075113669,0.21399570406787097,0.21597510062437505,0.21795449718087911,0.21993389373738317,0.22191329029388726,0.22389268685039132,0.2258720834068954,0.22785147996339947,0.22983087651990355,0.2318102730764076,0.23378966963291167,0.23576906618941576,0.23774846274591982,0.2397278593024239,0.24170725585892797,0.24368665241543203,0.2456660489719361,0.24764544552844017,0.24962484208494426,0.2516042386414483,0.25358363519795235,0.25556303175445644,0.2575424283109605,0.2595218248674646,0.2615012214239687,0.26348061798047273,0.2654600145369768,0.2674394110934809,0.26941880764998494,0.271398204206489,0.2733776007629931,0.27535699731949714,0.27733639387600123,0.2793157904325053,0.2812951869890094,0.28327458354551344,0.2852539801020175,0.2872333766585216,0.28921277321502564,0.29119216977152973,0.2931715663280338,0.29515096288453785,0.29713035944104194,0.299109755997546,0.3010891525540501,0.30306854911055414,0.30504794566705823,0.3070273422235623,0.30900673878006635,0.31098613533657044,0.3129655318930745,0.3149449284495786,0.31692432500608264,0.31890372156258673,0.3208831181190908,0.32286251467559485,0.32484191123209893,0.326821307788603,0.32880070434510705,0.33078010090161114,0.3327594974581152,0.3347388940146193,0.33671829057112335,0.33869768712762743,0.3406770836841315,0.34265648024063555,0.34463587679713964,0.3466152733536437,0.34859466991014776,0.35057406646665185,0.35255346302315593,0.35453285957966,0.35651225613616405,0.35849165269266814,0.3604710492491722,0.36245044580567626,0.36442984236218035,0.36640923891868443,0.3683886354751885,0.37036803203169255,0.37234742858819664,0.3743268251447007,0.37630622170120476,0.37828561825770884,0.38026501481421293,0.38224441137071696,0.38422380792722105,0.38620320448372514,0.3881826010402292,0.39016199759673326,0.39214139415323734,0.39412079070974143,0.39610018726624546,0.39807958382274955,0.40005898037925364,0.4020383769357577,0.40401777349226176,0.40599717004876584,0.40797656660526993,0.40995596316177396,0.41193535971827805,0.41391475627478214,0.41589415283128617,0.41787354938779026,0.41985294594429434,0.42183234250079843,0.42381173905730246,0.42579113561380655,0.42777053217031064,0.42974992872681467,0.43172932528331875,0.43370872183982284,0.4356881183963269,0.43766751495283096,0.43964691150933505,0.44162630806583913,0.44360570462234317,0.44558510117884725,0.44756449773535134,0.4495438942918554,0.45152329084835946,0.45350268740486355,0.45548208396136763,0.45746148051787167,0.45944087707437575,0.46142027363087984,0.46339967018738387,0.46537906674388796,0.46735846330039205,0.4693378598568961,0.47131725641340017,0.47329665296990425,0.47527604952640834,0.47725544608291237,0.47923484263941646,0.48121423919592055,0.4831936357524246,0.48517303230892866,0.48715242886543275,0.4891318254219368,0.49111122197844087,0.49309061853494496,0.49507001509144904,0.4970494116479531,0.49902880820445716,0.5010082047609612,0.5029876013174652,0.5049669978739694,0.5069463944304734,0.5089257909869775,0.5109051875434816,0.5128845840999856,0.5148639806564898,0.5168433772129938,0.5188227737694979,0.520802170326002,0.522781566882506,0.5247609634390101,0.5267403599955142,0.5287197565520182,0.5306991531085223,0.5326785496650264,0.5346579462215304,0.5366373427780345,0.5386167393345386,0.5405961358910426,0.5425755324475467,0.5445549290040508,0.5465343255605548,0.548513722117059,0.550493118673563,0.5524725152300671,0.5544519117865712,0.5564313083430752,0.5584107048995793,0.5603901014560834,0.5623694980125874,0.5643488945690915,0.5663282911255956,0.5683076876820996,0.5702870842386037,0.5722664807951078,0.5742458773516118,0.576225273908116,0.57820467046462,0.580184067021124,0.5821634635776282,0.5841428601341322,0.5861222566906362,0.5881016532471404,0.5900810498036444,0.5920604463601485,0.5940398429166526,0.5960192394731566,0.5979986360296607,0.5999780325861648,0.6019574291426688,0.603936825699173,0.605916222255677,0.607895618812181,0.6098750153686852,0.6118544119251892,0.6138338084816932,0.6158132050381974,0.6177926015947014,0.6197719981512054,0.6217513947077096,0.6237307912642136,0.6257101878207177,0.6276895843772218,0.6296689809337258,0.63164837749023,0.633627774046734,0.635607170603238,0.6375865671597422,0.6395659637162462,0.6415453602727502,0.6435247568292544,0.6455041533857584,0.6474835499422624,0.6494629464987666,0.6514423430552706,0.6534217396117746,0.6554011361682788,0.6573805327247828,0.659359929281287,0.661339325837791,0.663318722394295,0.6652981189507992,0.6672775155073032,0.6692569120638072,0.6712363086203114,0.6732157051768154,0.6751951017333194,0.6771744982898236,0.6791538948463276,0.6811332914028316,0.6831126879593358,0.6850920845158398,0.6870714810723438,0.689050877628848,0.691030274185352,0.693009670741856,0.6949890672983602,0.6969684638548642,0.6989478604113684,0.7009272569678724,0.7029066535243764,0.7048860500808806,0.7068654466373846,0.7088448431938886,0.7108242397503928,0.7128036363068968,0.7147830328634008,0.716762429419905,0.718741825976409,0.720721222532913,0.7227006190894172,0.7246800156459212,0.7266594122024252,0.7286388087589294,0.7306182053154334,0.7325976018719376,0.7345769984284416,0.7365563949849456,0.7385357915414498,0.7405151880979538,0.7424945846544578,0.744473981210962,0.746453377767466,0.74843277432397,0.7504121708804742,0.7523915674369782,0.7543709639934822,0.7563503605499864,0.7583297571064904,0.7603091536629945,0.7622885502194986,0.7642679467760026,0.7662473433325068,0.7682267398890108,0.7702061364455148,0.772185533002019,0.774164929558523,0.776144326115027,0.7781237226715312,0.7801031192280352,0.7820825157845392,0.7840619123410434,0.7860413088975474,0.7880207054540515,0.7900001020105556,0.7919794985670596,0.7939588951235637,0.7959382916800678,0.7979176882365718,0.799897084793076,0.80187648134958,0.803855877906084,0.8058352744625882,0.8078146710190922,0.8097940675755962,0.8117734641321004,0.8137528606886044,0.8157322572451084,0.8177116538016126,0.8196910503581166,0.8216704469146207,0.8236498434711248,0.8256292400276288,0.8276086365841329,0.829588033140637,0.831567429697141,0.8335468262536451,0.8355262228101492,0.8375056193666532,0.8394850159231574,0.8414644124796614,0.8434438090361654,0.8454232055926696,0.8474026021491736,0.8493819987056777,0.8513613952621818,0.8533407918186858,0.8553201883751899,0.857299584931694,0.859278981488198,0.8612583780447021,0.8632377746012062,0.8652171711577102,0.8671965677142143,0.8691759642707184,0.8711553608272224,0.8731347573837266,0.8751141539402306,0.8770935504967347,0.8790729470532388,0.8810523436097428,0.8830317401662469,0.885011136722751,0.886990533279255,0.8889699298357591,0.8909493263922632,0.8929287229487672,0.8949081195052713,0.8968875160617754,0.8988669126182794,0.9008463091747835,0.9028257057312876,0.9048051022877917,0.9067844988442958,0.9087638954007998,0.9107432919573039,0.912722688513808,0.914702085070312,0.9166814816268161,0.9186608781833202,0.9206402747398242,0.9226196712963283,0.9245990678528324,0.9265784644093364,0.9285578609658405,0.9305372575223446,0.9325166540788487,0.9344960506353527,0.9364754471918568,0.9384548437483609,0.9404342403048649,0.942413636861369,0.9443930334178731,0.9463724299743772,0.9483518265308812,0.9503312230873853,0.9523106196438894,0.9542900162003934,0.9562694127568975,0.9582488093134016,0.9602282058699056,0.9622076024264097,0.9641869989829138,0.9661663955394179,0.9681457920959219,0.970125188652426,0.9721045852089301,0.9740839817654341,0.9760633783219382,0.9780427748784423,0.9800221714349464,0.9820015679914504,0.9839809645479545,0.9859603611044586,0.9879397576609626,0.9899191542174667,0.9918985507739708],\"xaxis\":\"x\",\"y\":[1.1167157616685253,1.120173597189427,1.1234608489002729,1.1265764218120342,1.129519313581835,1.1322886152599292,1.1348835119522562,1.1373032833978607,1.1395473044606155,1.1416150455347118,1.1435060728635773,1.1452200487719224,1.1467567318107867,1.1481159768155071,1.1492977348767084,1.1503020532244461,1.1511290750258325,1.1517790390965066,1.1522522795264514,1.1525492252207996,1.1526703993562966,1.152616418754274,1.1523879931710532,1.151985924506787,1.1514111059338732,1.1506645209461892,1.149747242330404,1.1486604310608335,1.1474053351193232,1.1459832882417518,1.144395708592794,1.1426440973707725,1.1407300373443694,1.1386551913231326,1.1364213005637815,1.1340301831143418,1.1314837320982463,1.1287839139405782,1.1259327665387144,1.1229323973796597,1.1197849816064154,1.1164927600358183,1.1130580371302474,1.1094831789257107,1.1057706109188485,1.1019228159153691,1.0979423318425254,1.0938317495282563,1.0895937104495736,1.0852309044528776,1.0807460674488643,1.0761419790846667,1.0714214603959038,1.0665873714413339,1.0616426089227657,1.0565901037928773,1.0514328188536324,1.0461737463479022,1.0408159055469115,1.0353623403361307,1.0298161168021758,1.0241803208232547,1.0184580556656873,1.0126524395889624,1.006766603461798,1.000803688391558,0.9947668433694518,0.9886592229337339,0.982483984853253,0.9762442878334776,0.9699432892472096,0.9635841428920456,0.9571699967766123,0.950703990937596,0.9441892552894051,0.9376289075083732,0.9310260509532289,0.9243837726235763,0.9177051411580023,0.9109932048733673,0.9042509898467981,0.8974814980417796,0.8906877054796927,0.8838725604580745,0.8770389818167829,0.8701898572531784,0.8633280416873808,0.8564563556785367,0.8495775838929945,0.8426944736251868,0.8358097333719727,0.8289260314610414,0.822045994734012,0.8151722072846912,0.8083072092529201,0.8014534956743713,0.7946135153865633,0.7877896699912952,0.7809843128736454,0.7741997482775792,0.7674382304381673,0.760701962770343,0.7539930971140454,0.7473137330355499,0.7406659171847211,0.7340516427078286,0.7274728487155817,0.7209314198058792,0.7144291856408069,0.7079679205773088,0.7015493433509132,0.6951751168118554,0.6888468477128833,0.6825660865479998,0.6763343274413051,0.670153008085133,0.6640235097265714,0.6579471572014479,0.6519252190148364,0.6459589074670562,0.64004937882419,0.6341977335320257,0.628405016472352,0.6226722172605266,0.6170002705831567,0.6113900565747575,0.6058424012322287,0.6003580768659598,0.5949378025863569,0.5895822448246063,0.58429201788643,0.5790676845376175,0.5739097566201009,0.5688186956973323,0.5637949137277197,0.558838773764878,0.5539505906834719,0.5491306319293818,0.5443791182929856,0.53969622470432,0.5350820810488918,0.5305367730029381,0.5260603428869451,0.521652790536196,0.5173140741872293,0.5130441113789938,0.5088427798675864,0.5047099185534282,0.5006453284197799,0.4966487734814829,0.492719981742882,0.4888586461638425,0.485064425632868,0.48133694594627935,0.4776758007924855,0.474080552740375,0.470550734230907,0.46708584857095603,0.46368537092856177,0.4603487493286895,0.45707540564868293,0.4538647366125887,0.4507161147835766,0.44762888955369234,0.44460238813022024,0.441635916517937,0.438728760496604,0.4358801865930322,0.4330894430470938,0.43035576077110693,0.4276783543020021,0.42505642274574823,0.42248915071350873,0.41997570924904176,0.4175152567469023,0.41510693986097236,0.4127498944029447,0.41044324623035155,0.4081861121237872,0.40597760065298394,0.403816813031428,0.4017028439592314,0.39963478245398654,0.3976117126693652,0.39563271470123146,0.3936968653810895,0.39180323905665276,0.389950908359413,0.3881389449590375,0.38636642030450286,0.3846324063518454,0.3829359762784476,0.38127620518380795,0.37965217077673313,0.3780629540489223,0.37650763993493724,0.37498531795854434,0.3734950828654485,0.37203603524245255,0.3706072821230682,0.3692079375796448,0.36783712330208024,0.36649396916317944,0.36517761377076957,0.36388720500664895,0.3626219005524899,0.3613808684028126,0.36016328736514985,0.358968347547542,0.357795250833503,0.35664321134459764,0.35551145589079874,0.3543992244087691,0.3533057703882442,0.3522303612866787,0.351172278932337,0.3501308199160002,0.34910529597146794,0.34809503434504574,0.34709937815420144,0.3461176867355643,0.345149335982478,0.34419371867227205,0.3432502447834523,0.3423183418030054,0.34139745502397784,0.34048704783355094,0.339586601991762,0.3386956179010822,0.337813614867004,0.33694013134983397,0.33607472520785875,0.33521697393204175,0.33436647487243115,0.3335228454564261,0.3326857233990662,0.33185476690548016,0.33102965486565156,0.3302100870416252,0.32939578424729377,0.328586488520885,0.32778196329026077,0.3269819935311432,0.326186385918368,0.3253949689702482,0.3246075931861396,0.3238241311772838,0.32304447779098394,0.32226855022818063,0.3214962881544645,0.3207276538045641,0.3199626320803376,0.31920123064227773,0.3184434799945346,0.31768943356345597,0.3169391677696125,0.3161927820932951,0.31545039913342804,0.31471216465985435,0.3139782476589189,0.31324884037228484,0.3125241583288792,0.3118044403698742,0.31108994866658984,0.31038096873119164,0.3096778094200336,0.30898080292951524,0.3082903047842661,0.30760669381750205,0.3069303721433457,0.30626176512092407,0.3056013213100259,0.30494951241808654,0.3043068332382764,0.30367380157843077,0.3030509581805698,0.3024388666307332,0.3018381132588459,0.3012493070283274,0.3006730794151316,0.3001100842759135,0.2995609977049934,0.2990265178797863,0.29850736489436125,0.29800428058077416,0.297518028317824,0.2970493928268596,0.29659917995428087,0.29616821644034363,0.295757349673891,0.2953674474326357,0.29499939760858657,0.2946541079182382,0.2943325055971261,0.29403553707834923,0.2937641676546673,0.2935193811237666,0.2933021794163134,0.29311358220638817,0.2929546265039246,0.29282636622874886,0.2927298717658636,0.2926662295015791,0.29263654134014166,0.292641924200491,0.2926835094928089,0.2927624425745069,0.29287988218534466,0.2930369998613537,0.2932349793272749,0.293475015867229,0.2937583156733477,0.29408609517212897,0.2944595803282819,0.29488000592585245,0.2953486148264532,0.29586665720443117,0.29643538975883116,0.2970560749020539,0.29772997992511663,0.29845837613946224,0.2992425379952926,0.30008374217642214,0.3009832666717007,0.30194238982305843,0.3029623893502949,0.3040445413527299,0.3051901192879066,0.3064003929275544,0.3076766272910615,0.3090200815567467,0.31043200795126596,0.3119136506175184,0.3134662444614797,0.31509101397840017,0.3167891720588884,0.3185619187754157,0.3204104401498342,0.3223359069025441,0.32433947318399403,0.32642227528924656,0.3285854303563731,0.3308300350495182,0.3331571642274886,0.33556786959879387,0.3380631783640976,0.3406440918470977,0.34331158411489454,0.34606660058894456,0.3489100566477695,0.35184283622260815,0.3548657903872585,0.35797973594340793,0.36118545400277685,0.3644836885674579,0.36787514510988395,0.3713604891538625,0.37494034485820527,0.378615293604486,0.3823858725905021,0.38625257343106323,0.39021584076776433,0.39427607088941957,0.39843361036487995,0.4026887546899779,0.4070417469503833,0.4114927765021625,0.41604197767186746,0.4206894284780026,0.42543514937574173,0.43027910202675806,0.4352211880960891,0.4402612480779213,0.44539906015222713,0.4506343390741764,0.4559667350982335,0.4613958329388939,0.46692115076996094,0.47254213926429117,0.4782581806759362,0.48406858796653646,0.48997260397790904,0.4959694006526467,0.5020580783045993,0.5082376649410538,0.5145071156383973,0.5208653119730392,0.527311061509299,0.5338430973459665,0.5404600777231697,0.5471605856911604,0.5539431288425601,0.5608061391095808,0.5677479726276614,0.574766909666911,0.5818611546326772,0.589028836136523,0.5962680071387839,0.6035766451638458,0.6109526525891791,0.6183938570091246,0.6258980116742934,0.6334627960074137,0.6410858161963419,0.6487646058648783,0.6564966268219153,0.6642792698893987,0.6721098558094378,0.6799856362308335,0.6879037947751756,0.6958614481825838,0.7038556475370304,0.7118833795711049,0.7199415680499609,0.7280270752340854,0.7361367034204153,0.7442671965612148,0.7524152419600321,0.7605774720439203,0.7687504662110191,0.7769307527524543,0.785114810847427,0.7932990726302497,0.8014799253279413,0.8096537134669417,0.8178167411473212,0.8259652743828405,0.834095543505018,0.8422037456293159,0.8502860471814402,0.8583385864816114,0.8663574763846134,0.8743388069732891,0.882278648303065,0.8901730531950027,0.8980180600747641,0.9058096958548066,0.9135439788570231,0.9212169217729728,0.9288245346587374,0.9363628279614256,0.9438278155742035,0.9512155179166832,0.9585219650374935,0.965743199735694,0.9728752806977348,0.9799142856465423,0.9868563144993077,0.9936974925305101,1.0004339735366121,1.007061942998951,1.0135776212411642,1.0199772665776274,1.0262571784492514,1.0324137005429963,1.0384432238915202,1.0443421899492822,1.0501070936414967,1.0557344863823062,1.0612209790585878,1.066563244975792,1.07175802276228,1.076802119228618,1.0816924121783515,1.0864258531668358,1.090999470204701,1.0954103704026255,1.0996557425541638,1.1037328596533653,1.1076390813440906,1.1113718562979202,1.114928724517681,1.1183073195636957,1.1215053706999063,1.1245207049572057,1.127351249111287,1.129995031572559,1.132450184185649,1.134714943936269,1.1367876545631639,1.1386667680731595,1.1403508461573213,1.141838561506394,1.1431286990238558,1.144220156935025,1.1451119477907385,1.145803199364397,1.1462931554411435,1.1465811764982048,1.1466667402754993,1.1465494422358098,1.146228995913904,1.1457052331541935,1.1449781042366143,1.1440476778906008,1.1429141411971502,1.141577799379105,1.1400390754799903,1.1382985099318035,1.136356760012379],\"yaxis\":\"y\",\"type\":\"scatter\"},{\"legendgroup\":\"Original\",\"marker\":{\"color\":\"#228B22\"},\"mode\":\"lines\",\"name\":\"Original\",\"showlegend\":true,\"x\":[0.004179669078439474,0.006161266238428652,0.00814286339841783,0.01012446055840701,0.012106057718396186,0.014087654878385364,0.016069252038374546,0.018050849198363722,0.0200324463583529,0.022014043518342078,0.023995640678331254,0.025977237838320434,0.027958834998309614,0.02994043215829879,0.03192202931828797,0.033903626478277146,0.03588522363826632,0.037866820798255506,0.03984841795824468,0.04183001511823386,0.043811612278223035,0.04579320943821222,0.047774806598201394,0.04975640375819057,0.051738000918179754,0.05371959807816893,0.055701195238158106,0.05768279239814728,0.059664389558136466,0.06164598671812564,0.06362758387811482,0.065609181038104,0.06759077819809317,0.06957237535808235,0.07155397251807154,0.07353556967806071,0.07551716683804989,0.07749876399803907,0.07948036115802824,0.08146195831801742,0.0834435554780066,0.08542515263799579,0.08740674979798496,0.08938834695797414,0.09136994411796331,0.09335154127795249,0.09533313843794167,0.09731473559793084,0.09929633275792003,0.10127792991790921,0.10325952707789839,0.10524112423788756,0.10722272139787674,0.10920431855786591,0.11118591571785509,0.11316751287784427,0.11514911003783346,0.11713070719782263,0.11911230435781181,0.12109390151780099,0.12307549867779016,0.12505709583777935,0.12703869299776852,0.1290202901577577,0.13100188731774687,0.13298348447773606,0.13496508163772522,0.1369466787977144,0.1389282759577036,0.14090987311769276,0.14289147027768195,0.14487306743767112,0.1468546645976603,0.14883626175764947,0.15081785891763866,0.15279945607762785,0.154781053237617,0.1567626503976062,0.15874424755759536,0.16072584471758455,0.16270744187757372,0.1646890390375629,0.1666706361975521,0.16865223335754126,0.17063383051753045,0.1726154276775196,0.1745970248375088,0.17657862199749796,0.17856021915748715,0.18054181631747634,0.1825234134774655,0.1845050106374547,0.18648660779744386,0.18846820495743305,0.1904498021174222,0.1924313992774114,0.1944129964374006,0.19639459359738975,0.19837619075737895,0.2003577879173681,0.2023393850773573,0.20432098223734646,0.20630257939733565,0.20828417655732484,0.210265773717314,0.2122473708773032,0.21422896803729236,0.21621056519728155,0.2181921623572707,0.2201737595172599,0.22215535667724906,0.22413695383723825,0.22611855099722744,0.2281001481572166,0.2300817453172058,0.23206334247719496,0.23404493963718415,0.2360265367971733,0.2380081339571625,0.2399897311171517,0.24197132827714085,0.24395292543713004,0.2459345225971192,0.2479161197571084,0.24989771691709756,0.25187931407708675,0.25386091123707594,0.2558425083970651,0.25782410555705426,0.25980570271704345,0.26178729987703264,0.26376889703702183,0.26575049419701097,0.26773209135700016,0.26971368851698935,0.27169528567697854,0.2736768828369677,0.27565847999695686,0.27764007715694605,0.27962167431693524,0.28160327147692443,0.2835848686369136,0.28556646579690276,0.28754806295689195,0.28952966011688114,0.29151125727687033,0.29349285443685946,0.29547445159684865,0.29745604875683784,0.29943764591682703,0.3014192430768162,0.30340084023680536,0.30538243739679455,0.30736403455678374,0.30934563171677293,0.3113272288767621,0.31330882603675125,0.31529042319674044,0.31727202035672963,0.3192536175167188,0.32123521467670796,0.32321681183669715,0.32519840899668634,0.32718000615667553,0.3291616033166647,0.33114320047665385,0.33312479763664304,0.33510639479663223,0.3370879919566214,0.33906958911661056,0.34105118627659975,0.34303278343658894,0.34501438059657813,0.3469959777565673,0.34897757491655645,0.35095917207654564,0.35294076923653483,0.354922366396524,0.3569039635565132,0.35888556071650235,0.36086715787649154,0.36284875503648073,0.3648303521964699,0.36681194935645905,0.36879354651644825,0.37077514367643744,0.3727567408364266,0.3747383379964158,0.37671993515640495,0.37870153231639414,0.38068312947638333,0.3826647266363725,0.3846463237963617,0.38662792095635085,0.38860951811634004,0.3905911152763292,0.3925727124363184,0.39455430959630755,0.39653590675629674,0.39851750391628593,0.4004991010762751,0.4024806982362643,0.40446229539625345,0.40644389255624264,0.4084254897162318,0.410407086876221,0.4123886840362102,0.41437028119619934,0.41635187835618853,0.4183334755161777,0.4203150726761669,0.42229666983615605,0.42427826699614524,0.4262598641561344,0.4282414613161236,0.4302230584761128,0.43220465563610194,0.43418625279609113,0.4361678499560803,0.4381494471160695,0.44013104427605865,0.44211264143604784,0.444094238596037,0.4460758357560262,0.4480574329160154,0.45003903007600454,0.45202062723599373,0.4540022243959829,0.4559838215559721,0.4579654187159613,0.45994701587595044,0.46192861303593963,0.4639102101959288,0.465891807355918,0.46787340451590714,0.46985500167589633,0.4718365988358855,0.4738181959958747,0.4757997931558639,0.47778139031585304,0.47976298747584223,0.4817445846358314,0.4837261817958206,0.4857077789558098,0.48768937611579893,0.4896709732757881,0.4916525704357773,0.4936341675957665,0.49561576475575564,0.49759736191574483,0.499578959075734,0.5015605562357233,0.5035421533957124,0.5055237505557015,0.5075053477156908,0.5094869448756799,0.511468542035669,0.5134501391956583,0.5154317363556474,0.5174133335156367,0.5193949306756258,0.521376527835615,0.5233581249956042,0.5253397221555933,0.5273213193155825,0.5293029164755717,0.5312845136355608,0.5332661107955501,0.5352477079555392,0.5372293051155284,0.5392109022755176,0.5411924994355067,0.543174096595496,0.5451556937554851,0.5471372909154743,0.5491188880754635,0.5511004852354526,0.5530820823954419,0.555063679555431,0.5570452767154201,0.5590268738754094,0.5610084710353985,0.5629900681953878,0.5649716653553769,0.566953262515366,0.5689348596753553,0.5709164568353444,0.5728980539953337,0.5748796511553228,0.5768612483153119,0.5788428454753012,0.5808244426352903,0.5828060397952795,0.5847876369552687,0.5867692341152578,0.5887508312752471,0.5907324284352362,0.5927140255952253,0.5946956227552146,0.5966772199152037,0.598658817075193,0.6006404142351821,0.6026220113951712,0.6046036085551605,0.6065852057151496,0.6085668028751389,0.610548400035128,0.6125299971951171,0.6145115943551064,0.6164931915150955,0.6184747886750848,0.6204563858350739,0.622437982995063,0.6244195801550523,0.6264011773150414,0.6283827744750305,0.6303643716350198,0.6323459687950089,0.6343275659549982,0.6363091631149873,0.6382907602749764,0.6402723574349657,0.6422539545949548,0.6442355517549441,0.6462171489149332,0.6481987460749223,0.6501803432349116,0.6521619403949007,0.65414353755489,0.6561251347148791,0.6581067318748682,0.6600883290348575,0.6620699261948466,0.6640515233548359,0.666033120514825,0.6680147176748141,0.6699963148348034,0.6719779119947925,0.6739595091547816,0.6759411063147709,0.67792270347476,0.6799043006347493,0.6818858977947384,0.6838674949547275,0.6858490921147168,0.6878306892747059,0.6898122864346952,0.6917938835946843,0.6937754807546734,0.6957570779146627,0.6977386750746518,0.6997202722346411,0.7017018693946302,0.7036834665546193,0.7056650637146086,0.7076466608745977,0.709628258034587,0.7116098551945761,0.7135914523545652,0.7155730495145545,0.7175546466745436,0.7195362438345329,0.721517840994522,0.7234994381545111,0.7254810353145004,0.7274626324744895,0.7294442296344786,0.7314258267944679,0.733407423954457,0.7353890211144463,0.7373706182744354,0.7393522154344245,0.7413338125944138,0.7433154097544029,0.7452970069143922,0.7472786040743813,0.7492602012343704,0.7512417983943597,0.7532233955543488,0.755204992714338,0.7571865898743272,0.7591681870343163,0.7611497841943056,0.7631313813542947,0.765112978514284,0.7670945756742731,0.7690761728342622,0.7710577699942515,0.7730393671542406,0.7750209643142297,0.777002561474219,0.7789841586342081,0.7809657557941974,0.7829473529541865,0.7849289501141756,0.7869105472741649,0.788892144434154,0.7908737415941433,0.7928553387541324,0.7948369359141215,0.7968185330741108,0.7988001302340999,0.8007817273940891,0.8027633245540783,0.8047449217140674,0.8067265188740567,0.8087081160340458,0.810689713194035,0.8126713103540242,0.8146529075140133,0.8166345046740026,0.8186161018339917,0.8205976989939809,0.8225792961539701,0.8245608933139592,0.8265424904739485,0.8285240876339376,0.8305056847939267,0.832487281953916,0.8344688791139051,0.8364504762738943,0.8384320734338835,0.8404136705938726,0.8423952677538619,0.844376864913851,0.8463584620738402,0.8483400592338294,0.8503216563938185,0.8523032535538078,0.8542848507137969,0.8562664478737861,0.8582480450337753,0.8602296421937644,0.8622112393537537,0.8641928365137428,0.866174433673732,0.8681560308337212,0.8701376279937103,0.8721192251536996,0.8741008223136887,0.8760824194736778,0.8780640166336671,0.8800456137936562,0.8820272109536454,0.8840088081136346,0.8859904052736237,0.887972002433613,0.8899535995936021,0.8919351967535913,0.8939167939135805,0.8958983910735696,0.8978799882335589,0.899861585393548,0.9018431825535372,0.9038247797135264,0.9058063768735155,0.9077879740335048,0.9097695711934939,0.9117511683534831,0.9137327655134723,0.9157143626734614,0.9176959598334506,0.9196775569934398,0.9216591541534289,0.9236407513134182,0.9256223484734073,0.9276039456333965,0.9295855427933857,0.9315671399533748,0.9335487371133641,0.9355303342733532,0.9375119314333424,0.9394935285933316,0.9414751257533207,0.94345672291331,0.9454383200732991,0.9474199172332883,0.9494015143932775,0.9513831115532666,0.9533647087132558,0.955346305873245,0.9573279030332342,0.9593095001932234,0.9612910973532125,0.9632726945132017,0.9652542916731909,0.9672358888331801,0.9692174859931693,0.9711990831531584,0.9731806803131476,0.9751622774731368,0.9771438746331259,0.9791254717931152,0.9811070689531043,0.9830886661130935,0.9850702632730827,0.9870518604330718,0.989033457593061,0.9910150547530502,0.9929966519130394],\"xaxis\":\"x\",\"y\":[0.8084453856016421,0.8112362144276061,0.8138957793305472,0.8164231265774635,0.8188173801142002,0.8210777423158706,0.8232034946615135,0.8251939983321764,0.8270486947317053,0.8287671059296575,0.8303488350258263,0.8317935664360058,0.833101066098703,0.8342711816026412,0.8353038422349743,0.8361990589502797,0.8369569242604578,0.837577612045837,0.8380613772877992,0.8384085557234667,0.8386195634229638,0.8386948962899898,0.8386351294864652,0.8384409167821402,0.8381129898301515,0.837652157369633,0.8370593043565218,0.8363353910238716,0.8354814518730185,0.8344985945970389,0.8333879989380766,0.832150915480114,0.8307886643789215,0.8293026340309481,0.8276942796830069,0.8259651219846703,0.8241167454853824,0.8221507970783138,0.8200689843930891,0.8178730741395519,0.8155648904047692,0.8131463129055728,0.8106192751989292,0.8079857628524894,0.8052478115777268,0.802407505328057,0.7994669743644354,0.796428393290839,0.7932939790622097,0.790065988967304,0.786746718589001,0.7833384997446141,0.7798436984087075,0.7762647126209896,0.7726039703817854,0.768863927537644,0.7650470656595582,0.7611558899163225,0.7571929269454948,0.7531607227244147,0.7490618404437097,0.7448988583856941,0.740674367810005,0.7363909708488242,0.7320512784139602,0.7276579081180382,0.7232134822119939,0.7187206255410123,0.7141819635210314,0.7096001201378144,0.7049777159706032,0.7003173662422769,0.695621678897852,0.6908932527131503,0.6861346754353665,0.6813485219571626,0.6765373525259449,0.6717037109897882,0.6668501230815056,0.6619790947422083,0.6570931104856889,0.6521946318048224,0.6472860956211745,0.6423699127788615,0.63744846658367,0.632524111388367,0.6275991712250184,0.6226759384850988,0.6177566726480772,0.6128435990590635,0.6079389077560845,0.6030447523474057,0.5981632489393006,0.5932964751145589,0.5884464689619596,0.5836152281568777,0.5788047090930768,0.5740168260657378,0.5692534505056209,0.564516410264268,0.5598074889500366,0.5551284253146948,0.5504809126902794,0.5458665984758103,0.5412870836734283,0.5367439224734417,0.5322386218877456,0.5277726414309822,0.5233473928487838,0.5189642398923934,0.5146244981389027,0.5103294348562882,0.5060802689124306,0.5018781707271934,0.49772426226667854,0.4936196170786622,0.4895652603682468,0.48556216911270195,0.48161127221443206,0.4777134506910199,0.4738695379012282,0.4700803198058563,0.4663465352623072,0.4626688763517261,0.459047988737528,0.45548447205416254,0.4519788803249105,0.44853172240754496,0.44514346246664505,0.4418145204713678,0.43854527271751287,0.4353360523726349,0.4321871500430735,0.42909881436167197,0.4260712525950425,0.4231046312692023,0.4201990768124312,0.4173546762142185,0.41457147769917296,0.4118494914147925,0.40918869013201453,0.4065890099574735,0.4040503510564224,0.4015725783853078,0.3991555224329804,0.3967989799695939,0.39450271480222393,0.3922664585363011,0.39008991134196347,0.3879727427244617,0.385914592297796,0.3839150705607653,0.38197375967467206,0.3800902142419351,0.3782639620848997,0.37649450502417564,0.3747813196558479,0.3731238581269608,0.3715215489086861,0.3699737975666323,0.3684799875277787,0.3670394808435636,0.36565161894865594,0.36431572341501833,0.3630310967008601,0.36179702289413274,0.36061276845024626,0.35947758292371484,0.35839069969347126,0.357351336681615,0.35635869706540074,0.35541196998228397,0.3545103312278834,0.35365294394674035,0.35283895931578274,0.35206751722042307,0.3513377469232562,0.35064876772532455,0.34999968961997086,0.349389613939289,0.3488176339932322,0.348282835701431,0.34778429821782536,0.347321094548194,0.34689229216071366,0.34649695358968624,0.3461341370325723,0.3458028969405054,0.34550228460246435,0.3452313487232848,0.3449891359957201,0.344774691666749,0.34458706009835677,0.34442528532300654,0.3442884115940394,0.3441754839312324,0.3440855486617604,0.34401765395680084,0.3439708503640302,0.3439441913362577,0.34393673375644934,0.3439475384593763,0.3439756707501468,0.3440202009198592,0.34408020475860884,0.34415476406609896,0.34424296716006847,0.3443439093827776,0.34445669360575465,0.3445804307330265,0.34471424020302593,0.3448572504893746,0.3450085996007278,0.3451674355798406,0.3453329170020459,0.34550421347326493,0.34568050612771756,0.3458609881254373,0.34604486514972344,0.3462313559046263,0.34641969261254796,0.3466091215120362,0.3467989033558359,0.3469883139092328,0.3471766444487217,0.34736320226101924,0.34754731114240633,0.347728311898395,0.3479055628436738,0.3480784403022883,0.34824633910798525,0.3484086731046385,0.3485648756466537,0.3487144000992341,0.3488567203383696,0.34899133125040865,0.3491177492310226,0.34923551268340297,0.3493441825154601,0.34944334263582916,0.34953260044842893,0.3496115873453266,0.34967995919763495,0.3497373968441585,0.34978360657748353,0.34981832062718476,0.34984129763982996,0.34985232315540526,0.34985121007981446,0.3498377991530625,0.34981195941271476,0.34977358865222685,0.3497226138737208,0.3496589917347437,0.34958270898857036,0.3494937829175729,0.3493922617591544,0.3492782251237732,0.3491517844045225,0.34901308317774526,0.34886229759415555,0.34869963675989535,0.3485253431069818,0.3483396927525565,0.34814299584636116,0.3479355969058377,0.34771787513823976,0.34749024474915124,0.3472531552367746,0.34700709167135313,0.3467525749590903,0.34649016208990274,0.346220446368353,0.34594405762709396,0.3456616624221403,0.34537396420930205,0.3450817035010786,0.344785658003328,0.3444866427310157,0.3441855101023391,0.34388315001052355,0.34358048987259127,0.34327849465437804,0.34297816687111055,0.34268054656281083,0.3423867112438362,0.3420977758258325,0.34181489251339925,0.34153925067176183,0.3412720766657446,0.3410146336693516,0.34076822144525853,0.3405341760935376,0.34031386976892225,0.3401087103659556,0.3399201411713481,0.3397496404829028,0.33959872119435913,0.33946893034553227,0.33936184863712926,0.33927908990964406,0.3392223005857502,0.33919315907561726,0.33919337514460907,0.33922468924282834,0.3392888717960107,0.3393877224572683,0.33952306931923903,0.3396967680861893,0.33991070120567324,0.3401667769593617,0.34046692851269256,0.34081311292302247,0.34120731010599425,0.34165152175986485,0.34214777024757925,0.34269809743642,0.3433045634950753,0.34396924564804493,0.3446942368873205,0.34548164464132536,0.34633358940115766,0.3472522033042046,0.34823962867527575,0.3492980165254163,0.3504295250086495,0.3516363178369272,0.35292056265363314,0.35428442936603616,0.3557300884371501,0.3572597091375211,0.3588754577575156,0.36057949578075066,0.36237397801937254,0.3642610507119551,0.36624284958483805,0.3683214978778372,0.3704991043352657,0.3727777611633308,0.37515954195500717,0.3776464995835684,0.3802406640660341,0.38294404039785973,0.3857586063602669,0.3886863103016871,0.3917290688948706,0.3948887648712758,0.3981672447344355,0.40156631645407814,0.405087747142834,0.40873326071745125,0.4125045355465147,0.41640320208672066,0.4204308405098531,0.42458897832265574,0.42887908798189095,0.43330258450690695,0.43786082309215335,0.44255509672209664,0.44738663379109306,0.4523565957308175,0.45746607464791555,0.4627160909745957,0.4681075911349465,0.4736414452298113,0.4793184447430887,0.4851393002724151,0.491104639287171,0.4972150039168561,0.5034708487728733,0.5098725388068045,0.5164203472083176,0.5231144533458302,0.5299549407531048,0.5369417951649773,0.5440749026053964,0.5513540475310115,0.5587789110335034,0.566349069103892,0.5740639909620261,0.581923037454457,0.5899254595239051,0.5980703967534462,0.606356875988609,0.6147838100404687,0.6233499964728261,0.632054116476492,0.6408947338336808,0.649870293975456,0.6589791231350679,0.6682194276000369,0.6775892930656869,0.6870866840928302,0.6967094436721436,0.7064552928977689,0.7163218307525133,0.7263065340069542,0.7364067572346569,0.7466197329455766,0.7569425718396122,0.7673722631821612,0.7779056753034022,0.7885395562228751,0.7992705344008176,0.8100951196175618,0.8210097039821405,0.8320105630711149,0.8430938571984831,0.8542556328173226,0.8654918240537268,0.8767982543733696,0.888170638380857,0.8996045837519313,0.911095593298263,0.9226390671645622,0.9342303051573998,0.9458645092050317,0.957536785947324,0.9692421494546288,0.9809755240743423,0.992731747403633,1.0045055733866464,1.0162916755343043,1.0280846502646195,1.0398790203612494,1.0516692385478235,1.0634496911753564,1.0752147020199383,1.086958536187624,1.0986754041233016,1.1103594657201095,1.1220048345258382,1.1336055820424924,1.1451557421151022,1.1566493154056148,1.1680802739476126,1.1794425657773686,1.1907301196366624,1.2019368497425331,1.2130566606191233,1.2240834519865027,1.2350111237013117,1.245833580743904,1.2565447382465649,1.267138526557189,1.2776088963328724,1.2879498236575713,1.2981553151780012,1.308219413251904,1.3181362011026108,1.3278998079738908,1.3375044142789427,1.3469442567373686,1.3562136334939527,1.3653069092129868,1.374218520141911,1.3829429791380368,1.3914748806520685,1.3998089056622338,1.4079398265527499,1.4158625119305228,1.423571931373856,1.431063160107167,1.4383313835956102,1.4453719020537446,1.452180134862299,1.458751624887301,1.465082042695924,1.4711671906634531,1.4770030069659297,1.4825855694532293,1.4879110993973417,1.4929759651108934,1.4977766854310148,1.5023099330638836,1.506572537785443,1.5105614894939314,1.5142739411101118,1.5177072113212609,1.5208587871651407,1.5237263264504721,1.5263076600106136,1.528600793787279,1.5306039107415559,1.53231537258952,1.5337337213601026,1.5348576807730845,1.5356861574352891,1.5362182418534094,1.5364532092619996,1.5363905202656039,1.5360298212940662,1.5353709448704915,1.5344139096914808,1.5331589205195557,1.5316063678879739,1.529756827618391,1.5276110601520425,1.5251700096954597,1.5224348031818964],\"yaxis\":\"y\",\"type\":\"scatter\"}],                        {\"barmode\":\"overlay\",\"hovermode\":\"closest\",\"legend\":{\"traceorder\":\"reversed\",\"orientation\":\"h\",\"yanchor\":\"middle\",\"y\":1.1,\"xanchor\":\"right\",\"x\":1},\"xaxis\":{\"anchor\":\"y2\",\"domain\":[0.0,1.0],\"zeroline\":false},\"yaxis\":{\"anchor\":\"free\",\"domain\":[0.0,1],\"position\":0.0,\"visible\":false,\"showticklabels\":false},\"template\":{\"data\":{\"bar\":[{\"error_x\":{\"color\":\"#2a3f5f\"},\"error_y\":{\"color\":\"#2a3f5f\"},\"marker\":{\"line\":{\"color\":\"#E5ECF6\",\"width\":0.5},\"pattern\":{\"fillmode\":\"overlay\",\"size\":10,\"solidity\":0.2}},\"type\":\"bar\"}],\"barpolar\":[{\"marker\":{\"line\":{\"color\":\"#E5ECF6\",\"width\":0.5},\"pattern\":{\"fillmode\":\"overlay\",\"size\":10,\"solidity\":0.2}},\"type\":\"barpolar\"}],\"carpet\":[{\"aaxis\":{\"endlinecolor\":\"#2a3f5f\",\"gridcolor\":\"white\",\"linecolor\":\"white\",\"minorgridcolor\":\"white\",\"startlinecolor\":\"#2a3f5f\"},\"baxis\":{\"endlinecolor\":\"#2a3f5f\",\"gridcolor\":\"white\",\"linecolor\":\"white\",\"minorgridcolor\":\"white\",\"startlinecolor\":\"#2a3f5f\"},\"type\":\"carpet\"}],\"choropleth\":[{\"colorbar\":{\"outlinewidth\":0,\"ticks\":\"\"},\"type\":\"choropleth\"}],\"contour\":[{\"colorbar\":{\"outlinewidth\":0,\"ticks\":\"\"},\"colorscale\":[[0.0,\"#0d0887\"],[0.1111111111111111,\"#46039f\"],[0.2222222222222222,\"#7201a8\"],[0.3333333333333333,\"#9c179e\"],[0.4444444444444444,\"#bd3786\"],[0.5555555555555556,\"#d8576b\"],[0.6666666666666666,\"#ed7953\"],[0.7777777777777778,\"#fb9f3a\"],[0.8888888888888888,\"#fdca26\"],[1.0,\"#f0f921\"]],\"type\":\"contour\"}],\"contourcarpet\":[{\"colorbar\":{\"outlinewidth\":0,\"ticks\":\"\"},\"type\":\"contourcarpet\"}],\"heatmap\":[{\"colorbar\":{\"outlinewidth\":0,\"ticks\":\"\"},\"colorscale\":[[0.0,\"#0d0887\"],[0.1111111111111111,\"#46039f\"],[0.2222222222222222,\"#7201a8\"],[0.3333333333333333,\"#9c179e\"],[0.4444444444444444,\"#bd3786\"],[0.5555555555555556,\"#d8576b\"],[0.6666666666666666,\"#ed7953\"],[0.7777777777777778,\"#fb9f3a\"],[0.8888888888888888,\"#fdca26\"],[1.0,\"#f0f921\"]],\"type\":\"heatmap\"}],\"heatmapgl\":[{\"colorbar\":{\"outlinewidth\":0,\"ticks\":\"\"},\"colorscale\":[[0.0,\"#0d0887\"],[0.1111111111111111,\"#46039f\"],[0.2222222222222222,\"#7201a8\"],[0.3333333333333333,\"#9c179e\"],[0.4444444444444444,\"#bd3786\"],[0.5555555555555556,\"#d8576b\"],[0.6666666666666666,\"#ed7953\"],[0.7777777777777778,\"#fb9f3a\"],[0.8888888888888888,\"#fdca26\"],[1.0,\"#f0f921\"]],\"type\":\"heatmapgl\"}],\"histogram\":[{\"marker\":{\"pattern\":{\"fillmode\":\"overlay\",\"size\":10,\"solidity\":0.2}},\"type\":\"histogram\"}],\"histogram2d\":[{\"colorbar\":{\"outlinewidth\":0,\"ticks\":\"\"},\"colorscale\":[[0.0,\"#0d0887\"],[0.1111111111111111,\"#46039f\"],[0.2222222222222222,\"#7201a8\"],[0.3333333333333333,\"#9c179e\"],[0.4444444444444444,\"#bd3786\"],[0.5555555555555556,\"#d8576b\"],[0.6666666666666666,\"#ed7953\"],[0.7777777777777778,\"#fb9f3a\"],[0.8888888888888888,\"#fdca26\"],[1.0,\"#f0f921\"]],\"type\":\"histogram2d\"}],\"histogram2dcontour\":[{\"colorbar\":{\"outlinewidth\":0,\"ticks\":\"\"},\"colorscale\":[[0.0,\"#0d0887\"],[0.1111111111111111,\"#46039f\"],[0.2222222222222222,\"#7201a8\"],[0.3333333333333333,\"#9c179e\"],[0.4444444444444444,\"#bd3786\"],[0.5555555555555556,\"#d8576b\"],[0.6666666666666666,\"#ed7953\"],[0.7777777777777778,\"#fb9f3a\"],[0.8888888888888888,\"#fdca26\"],[1.0,\"#f0f921\"]],\"type\":\"histogram2dcontour\"}],\"mesh3d\":[{\"colorbar\":{\"outlinewidth\":0,\"ticks\":\"\"},\"type\":\"mesh3d\"}],\"parcoords\":[{\"line\":{\"colorbar\":{\"outlinewidth\":0,\"ticks\":\"\"}},\"type\":\"parcoords\"}],\"pie\":[{\"automargin\":true,\"type\":\"pie\"}],\"scatter\":[{\"marker\":{\"colorbar\":{\"outlinewidth\":0,\"ticks\":\"\"}},\"type\":\"scatter\"}],\"scatter3d\":[{\"line\":{\"colorbar\":{\"outlinewidth\":0,\"ticks\":\"\"}},\"marker\":{\"colorbar\":{\"outlinewidth\":0,\"ticks\":\"\"}},\"type\":\"scatter3d\"}],\"scattercarpet\":[{\"marker\":{\"colorbar\":{\"outlinewidth\":0,\"ticks\":\"\"}},\"type\":\"scattercarpet\"}],\"scattergeo\":[{\"marker\":{\"colorbar\":{\"outlinewidth\":0,\"ticks\":\"\"}},\"type\":\"scattergeo\"}],\"scattergl\":[{\"marker\":{\"colorbar\":{\"outlinewidth\":0,\"ticks\":\"\"}},\"type\":\"scattergl\"}],\"scattermapbox\":[{\"marker\":{\"colorbar\":{\"outlinewidth\":0,\"ticks\":\"\"}},\"type\":\"scattermapbox\"}],\"scatterpolar\":[{\"marker\":{\"colorbar\":{\"outlinewidth\":0,\"ticks\":\"\"}},\"type\":\"scatterpolar\"}],\"scatterpolargl\":[{\"marker\":{\"colorbar\":{\"outlinewidth\":0,\"ticks\":\"\"}},\"type\":\"scatterpolargl\"}],\"scatterternary\":[{\"marker\":{\"colorbar\":{\"outlinewidth\":0,\"ticks\":\"\"}},\"type\":\"scatterternary\"}],\"surface\":[{\"colorbar\":{\"outlinewidth\":0,\"ticks\":\"\"},\"colorscale\":[[0.0,\"#0d0887\"],[0.1111111111111111,\"#46039f\"],[0.2222222222222222,\"#7201a8\"],[0.3333333333333333,\"#9c179e\"],[0.4444444444444444,\"#bd3786\"],[0.5555555555555556,\"#d8576b\"],[0.6666666666666666,\"#ed7953\"],[0.7777777777777778,\"#fb9f3a\"],[0.8888888888888888,\"#fdca26\"],[1.0,\"#f0f921\"]],\"type\":\"surface\"}],\"table\":[{\"cells\":{\"fill\":{\"color\":\"#EBF0F8\"},\"line\":{\"color\":\"white\"}},\"header\":{\"fill\":{\"color\":\"#C8D4E3\"},\"line\":{\"color\":\"white\"}},\"type\":\"table\"}]},\"layout\":{\"annotationdefaults\":{\"arrowcolor\":\"#2a3f5f\",\"arrowhead\":0,\"arrowwidth\":1},\"autotypenumbers\":\"strict\",\"coloraxis\":{\"colorbar\":{\"outlinewidth\":0,\"ticks\":\"\"}},\"colorscale\":{\"diverging\":[[0,\"#8e0152\"],[0.1,\"#c51b7d\"],[0.2,\"#de77ae\"],[0.3,\"#f1b6da\"],[0.4,\"#fde0ef\"],[0.5,\"#f7f7f7\"],[0.6,\"#e6f5d0\"],[0.7,\"#b8e186\"],[0.8,\"#7fbc41\"],[0.9,\"#4d9221\"],[1,\"#276419\"]],\"sequential\":[[0.0,\"#0d0887\"],[0.1111111111111111,\"#46039f\"],[0.2222222222222222,\"#7201a8\"],[0.3333333333333333,\"#9c179e\"],[0.4444444444444444,\"#bd3786\"],[0.5555555555555556,\"#d8576b\"],[0.6666666666666666,\"#ed7953\"],[0.7777777777777778,\"#fb9f3a\"],[0.8888888888888888,\"#fdca26\"],[1.0,\"#f0f921\"]],\"sequentialminus\":[[0.0,\"#0d0887\"],[0.1111111111111111,\"#46039f\"],[0.2222222222222222,\"#7201a8\"],[0.3333333333333333,\"#9c179e\"],[0.4444444444444444,\"#bd3786\"],[0.5555555555555556,\"#d8576b\"],[0.6666666666666666,\"#ed7953\"],[0.7777777777777778,\"#fb9f3a\"],[0.8888888888888888,\"#fdca26\"],[1.0,\"#f0f921\"]]},\"colorway\":[\"#636efa\",\"#EF553B\",\"#00cc96\",\"#ab63fa\",\"#FFA15A\",\"#19d3f3\",\"#FF6692\",\"#B6E880\",\"#FF97FF\",\"#FECB52\"],\"font\":{\"color\":\"#2a3f5f\"},\"geo\":{\"bgcolor\":\"white\",\"lakecolor\":\"white\",\"landcolor\":\"#E5ECF6\",\"showlakes\":true,\"showland\":true,\"subunitcolor\":\"white\"},\"hoverlabel\":{\"align\":\"left\"},\"hovermode\":\"closest\",\"mapbox\":{\"style\":\"light\"},\"paper_bgcolor\":\"white\",\"plot_bgcolor\":\"#E5ECF6\",\"polar\":{\"angularaxis\":{\"gridcolor\":\"white\",\"linecolor\":\"white\",\"ticks\":\"\"},\"bgcolor\":\"#E5ECF6\",\"radialaxis\":{\"gridcolor\":\"white\",\"linecolor\":\"white\",\"ticks\":\"\"}},\"scene\":{\"xaxis\":{\"backgroundcolor\":\"#E5ECF6\",\"gridcolor\":\"white\",\"gridwidth\":2,\"linecolor\":\"white\",\"showbackground\":true,\"ticks\":\"\",\"zerolinecolor\":\"white\"},\"yaxis\":{\"backgroundcolor\":\"#E5ECF6\",\"gridcolor\":\"white\",\"gridwidth\":2,\"linecolor\":\"white\",\"showbackground\":true,\"ticks\":\"\",\"zerolinecolor\":\"white\"},\"zaxis\":{\"backgroundcolor\":\"#E5ECF6\",\"gridcolor\":\"white\",\"gridwidth\":2,\"linecolor\":\"white\",\"showbackground\":true,\"ticks\":\"\",\"zerolinecolor\":\"white\"}},\"shapedefaults\":{\"line\":{\"color\":\"#2a3f5f\"}},\"ternary\":{\"aaxis\":{\"gridcolor\":\"white\",\"linecolor\":\"white\",\"ticks\":\"\"},\"baxis\":{\"gridcolor\":\"white\",\"linecolor\":\"white\",\"ticks\":\"\"},\"bgcolor\":\"#E5ECF6\",\"caxis\":{\"gridcolor\":\"white\",\"linecolor\":\"white\",\"ticks\":\"\"}},\"title\":{\"x\":0.05},\"xaxis\":{\"automargin\":true,\"gridcolor\":\"white\",\"linecolor\":\"white\",\"ticks\":\"\",\"title\":{\"standoff\":15},\"zerolinecolor\":\"white\",\"zerolinewidth\":2},\"yaxis\":{\"automargin\":true,\"gridcolor\":\"white\",\"linecolor\":\"white\",\"ticks\":\"\",\"title\":{\"standoff\":15},\"zerolinecolor\":\"white\",\"zerolinewidth\":2}}}},                        {\"responsive\": true}                    ).then(function(){\n",
              "                            \n",
              "var gd = document.getElementById('d4699516-e499-4700-a160-6fa065890860');\n",
              "var x = new MutationObserver(function (mutations, observer) {{\n",
              "        var display = window.getComputedStyle(gd).display;\n",
              "        if (!display || display === 'none') {{\n",
              "            console.log([gd, 'removed!']);\n",
              "            Plotly.purge(gd);\n",
              "            observer.disconnect();\n",
              "        }}\n",
              "}});\n",
              "\n",
              "// Listen for the removal of the full notebook cells\n",
              "var notebookContainer = gd.closest('#notebook-container');\n",
              "if (notebookContainer) {{\n",
              "    x.observe(notebookContainer, {childList: true});\n",
              "}}\n",
              "\n",
              "// Listen for the clearing of the current output cell\n",
              "var outputEl = gd.closest('.output');\n",
              "if (outputEl) {{\n",
              "    x.observe(outputEl, {childList: true});\n",
              "}}\n",
              "\n",
              "                        })                };                            </script>        </div>\n",
              "</body>\n",
              "</html>"
            ]
          },
          "metadata": {}
        }
      ],
      "source": [
        "import plotly.figure_factory as ff\n",
        "import numpy as np\n",
        "\n",
        "# Plot the probability density chart\n",
        "probability_dens = pd.DataFrame({'prob': predictions_raw, 'y': y_test})\n",
        "\n",
        "x1 = probability_dens[probability_dens[\"y\"]==1]['prob'].values\n",
        "x2 = probability_dens[probability_dens[\"y\"]==0]['prob'].values\n",
        "\n",
        "hist_data = [x1, x2]\n",
        "\n",
        "group_labels = ['Adversarial', 'Original']\n",
        "colors = ['#C04000', '#228B22']\n",
        "\n",
        "# Create distplot with curve_type set to 'normal'\n",
        "fig = ff.create_distplot(hist_data, group_labels, show_hist=False, colors=colors, show_rug=False)\n",
        "\n",
        "# Add title\n",
        "fig.update_layout(legend=dict(\n",
        "                    orientation=\"h\",\n",
        "                    yanchor=\"middle\",\n",
        "                    y=1.1,\n",
        "                    xanchor=\"right\",\n",
        "                    x=1\n",
        "                ))\n",
        "\n",
        "fig.update_yaxes(visible=False, showticklabels=False)\n",
        "fig.show()"
      ]
    },
    {
      "cell_type": "code",
      "execution_count": null,
      "metadata": {
        "id": "bblTaWdgRXOV"
      },
      "outputs": [],
      "source": [
        ""
      ]
    }
  ],
  "metadata": {
    "accelerator": "GPU",
    "colab": {
      "collapsed_sections": [],
      "machine_shape": "hm",
      "name": "WDR_Classifier_Testing.ipynb",
      "provenance": []
    },
    "kernelspec": {
      "display_name": "Python 3",
      "language": "python",
      "name": "python3"
    },
    "language_info": {
      "codemirror_mode": {
        "name": "ipython",
        "version": 3
      },
      "file_extension": ".py",
      "mimetype": "text/x-python",
      "name": "python",
      "nbconvert_exporter": "python",
      "pygments_lexer": "ipython3",
      "version": "3.8.10"
    },
    "widgets": {
      "application/vnd.jupyter.widget-state+json": {
        "b7f45cd52a7b4a7585e5de7f487371a3": {
          "model_module": "@jupyter-widgets/controls",
          "model_name": "HBoxModel",
          "model_module_version": "1.5.0",
          "state": {
            "_dom_classes": [],
            "_model_module": "@jupyter-widgets/controls",
            "_model_module_version": "1.5.0",
            "_model_name": "HBoxModel",
            "_view_count": null,
            "_view_module": "@jupyter-widgets/controls",
            "_view_module_version": "1.5.0",
            "_view_name": "HBoxView",
            "box_style": "",
            "children": [
              "IPY_MODEL_7e67f883c79c4882bd77d619cb28f361",
              "IPY_MODEL_3bf2a1a340ab4ef28a7f4679adc4a998",
              "IPY_MODEL_239e80077e154df28d3bb4adceb6a620"
            ],
            "layout": "IPY_MODEL_9701fd6e54874f0ab4a78b71ed3a5d1a"
          }
        },
        "7e67f883c79c4882bd77d619cb28f361": {
          "model_module": "@jupyter-widgets/controls",
          "model_name": "HTMLModel",
          "model_module_version": "1.5.0",
          "state": {
            "_dom_classes": [],
            "_model_module": "@jupyter-widgets/controls",
            "_model_module_version": "1.5.0",
            "_model_name": "HTMLModel",
            "_view_count": null,
            "_view_module": "@jupyter-widgets/controls",
            "_view_module_version": "1.5.0",
            "_view_name": "HTMLView",
            "description": "",
            "description_tooltip": null,
            "layout": "IPY_MODEL_b296007ac6b54ffe8951fad5d42b2e78",
            "placeholder": "​",
            "style": "IPY_MODEL_da92a4a2a6e84559b1392da1fc31ed01",
            "value": "Downloading: 100%"
          }
        },
        "3bf2a1a340ab4ef28a7f4679adc4a998": {
          "model_module": "@jupyter-widgets/controls",
          "model_name": "FloatProgressModel",
          "model_module_version": "1.5.0",
          "state": {
            "_dom_classes": [],
            "_model_module": "@jupyter-widgets/controls",
            "_model_module_version": "1.5.0",
            "_model_name": "FloatProgressModel",
            "_view_count": null,
            "_view_module": "@jupyter-widgets/controls",
            "_view_module_version": "1.5.0",
            "_view_name": "ProgressView",
            "bar_style": "success",
            "description": "",
            "description_tooltip": null,
            "layout": "IPY_MODEL_7119c8eeaaa048dc86405cabbfb56ebd",
            "max": 231508,
            "min": 0,
            "orientation": "horizontal",
            "style": "IPY_MODEL_eec21892c2434f7ea7b4c6c89faa23c9",
            "value": 231508
          }
        },
        "239e80077e154df28d3bb4adceb6a620": {
          "model_module": "@jupyter-widgets/controls",
          "model_name": "HTMLModel",
          "model_module_version": "1.5.0",
          "state": {
            "_dom_classes": [],
            "_model_module": "@jupyter-widgets/controls",
            "_model_module_version": "1.5.0",
            "_model_name": "HTMLModel",
            "_view_count": null,
            "_view_module": "@jupyter-widgets/controls",
            "_view_module_version": "1.5.0",
            "_view_name": "HTMLView",
            "description": "",
            "description_tooltip": null,
            "layout": "IPY_MODEL_698a1f28438343ab9f0cedd3c84f8277",
            "placeholder": "​",
            "style": "IPY_MODEL_c855f4c3c4fc4c058ec0151d6bad1468",
            "value": " 226k/226k [00:00&lt;00:00, 854kB/s]"
          }
        },
        "9701fd6e54874f0ab4a78b71ed3a5d1a": {
          "model_module": "@jupyter-widgets/base",
          "model_name": "LayoutModel",
          "model_module_version": "1.2.0",
          "state": {
            "_model_module": "@jupyter-widgets/base",
            "_model_module_version": "1.2.0",
            "_model_name": "LayoutModel",
            "_view_count": null,
            "_view_module": "@jupyter-widgets/base",
            "_view_module_version": "1.2.0",
            "_view_name": "LayoutView",
            "align_content": null,
            "align_items": null,
            "align_self": null,
            "border": null,
            "bottom": null,
            "display": null,
            "flex": null,
            "flex_flow": null,
            "grid_area": null,
            "grid_auto_columns": null,
            "grid_auto_flow": null,
            "grid_auto_rows": null,
            "grid_column": null,
            "grid_gap": null,
            "grid_row": null,
            "grid_template_areas": null,
            "grid_template_columns": null,
            "grid_template_rows": null,
            "height": null,
            "justify_content": null,
            "justify_items": null,
            "left": null,
            "margin": null,
            "max_height": null,
            "max_width": null,
            "min_height": null,
            "min_width": null,
            "object_fit": null,
            "object_position": null,
            "order": null,
            "overflow": null,
            "overflow_x": null,
            "overflow_y": null,
            "padding": null,
            "right": null,
            "top": null,
            "visibility": null,
            "width": null
          }
        },
        "b296007ac6b54ffe8951fad5d42b2e78": {
          "model_module": "@jupyter-widgets/base",
          "model_name": "LayoutModel",
          "model_module_version": "1.2.0",
          "state": {
            "_model_module": "@jupyter-widgets/base",
            "_model_module_version": "1.2.0",
            "_model_name": "LayoutModel",
            "_view_count": null,
            "_view_module": "@jupyter-widgets/base",
            "_view_module_version": "1.2.0",
            "_view_name": "LayoutView",
            "align_content": null,
            "align_items": null,
            "align_self": null,
            "border": null,
            "bottom": null,
            "display": null,
            "flex": null,
            "flex_flow": null,
            "grid_area": null,
            "grid_auto_columns": null,
            "grid_auto_flow": null,
            "grid_auto_rows": null,
            "grid_column": null,
            "grid_gap": null,
            "grid_row": null,
            "grid_template_areas": null,
            "grid_template_columns": null,
            "grid_template_rows": null,
            "height": null,
            "justify_content": null,
            "justify_items": null,
            "left": null,
            "margin": null,
            "max_height": null,
            "max_width": null,
            "min_height": null,
            "min_width": null,
            "object_fit": null,
            "object_position": null,
            "order": null,
            "overflow": null,
            "overflow_x": null,
            "overflow_y": null,
            "padding": null,
            "right": null,
            "top": null,
            "visibility": null,
            "width": null
          }
        },
        "da92a4a2a6e84559b1392da1fc31ed01": {
          "model_module": "@jupyter-widgets/controls",
          "model_name": "DescriptionStyleModel",
          "model_module_version": "1.5.0",
          "state": {
            "_model_module": "@jupyter-widgets/controls",
            "_model_module_version": "1.5.0",
            "_model_name": "DescriptionStyleModel",
            "_view_count": null,
            "_view_module": "@jupyter-widgets/base",
            "_view_module_version": "1.2.0",
            "_view_name": "StyleView",
            "description_width": ""
          }
        },
        "7119c8eeaaa048dc86405cabbfb56ebd": {
          "model_module": "@jupyter-widgets/base",
          "model_name": "LayoutModel",
          "model_module_version": "1.2.0",
          "state": {
            "_model_module": "@jupyter-widgets/base",
            "_model_module_version": "1.2.0",
            "_model_name": "LayoutModel",
            "_view_count": null,
            "_view_module": "@jupyter-widgets/base",
            "_view_module_version": "1.2.0",
            "_view_name": "LayoutView",
            "align_content": null,
            "align_items": null,
            "align_self": null,
            "border": null,
            "bottom": null,
            "display": null,
            "flex": null,
            "flex_flow": null,
            "grid_area": null,
            "grid_auto_columns": null,
            "grid_auto_flow": null,
            "grid_auto_rows": null,
            "grid_column": null,
            "grid_gap": null,
            "grid_row": null,
            "grid_template_areas": null,
            "grid_template_columns": null,
            "grid_template_rows": null,
            "height": null,
            "justify_content": null,
            "justify_items": null,
            "left": null,
            "margin": null,
            "max_height": null,
            "max_width": null,
            "min_height": null,
            "min_width": null,
            "object_fit": null,
            "object_position": null,
            "order": null,
            "overflow": null,
            "overflow_x": null,
            "overflow_y": null,
            "padding": null,
            "right": null,
            "top": null,
            "visibility": null,
            "width": null
          }
        },
        "eec21892c2434f7ea7b4c6c89faa23c9": {
          "model_module": "@jupyter-widgets/controls",
          "model_name": "ProgressStyleModel",
          "model_module_version": "1.5.0",
          "state": {
            "_model_module": "@jupyter-widgets/controls",
            "_model_module_version": "1.5.0",
            "_model_name": "ProgressStyleModel",
            "_view_count": null,
            "_view_module": "@jupyter-widgets/base",
            "_view_module_version": "1.2.0",
            "_view_name": "StyleView",
            "bar_color": null,
            "description_width": ""
          }
        },
        "698a1f28438343ab9f0cedd3c84f8277": {
          "model_module": "@jupyter-widgets/base",
          "model_name": "LayoutModel",
          "model_module_version": "1.2.0",
          "state": {
            "_model_module": "@jupyter-widgets/base",
            "_model_module_version": "1.2.0",
            "_model_name": "LayoutModel",
            "_view_count": null,
            "_view_module": "@jupyter-widgets/base",
            "_view_module_version": "1.2.0",
            "_view_name": "LayoutView",
            "align_content": null,
            "align_items": null,
            "align_self": null,
            "border": null,
            "bottom": null,
            "display": null,
            "flex": null,
            "flex_flow": null,
            "grid_area": null,
            "grid_auto_columns": null,
            "grid_auto_flow": null,
            "grid_auto_rows": null,
            "grid_column": null,
            "grid_gap": null,
            "grid_row": null,
            "grid_template_areas": null,
            "grid_template_columns": null,
            "grid_template_rows": null,
            "height": null,
            "justify_content": null,
            "justify_items": null,
            "left": null,
            "margin": null,
            "max_height": null,
            "max_width": null,
            "min_height": null,
            "min_width": null,
            "object_fit": null,
            "object_position": null,
            "order": null,
            "overflow": null,
            "overflow_x": null,
            "overflow_y": null,
            "padding": null,
            "right": null,
            "top": null,
            "visibility": null,
            "width": null
          }
        },
        "c855f4c3c4fc4c058ec0151d6bad1468": {
          "model_module": "@jupyter-widgets/controls",
          "model_name": "DescriptionStyleModel",
          "model_module_version": "1.5.0",
          "state": {
            "_model_module": "@jupyter-widgets/controls",
            "_model_module_version": "1.5.0",
            "_model_name": "DescriptionStyleModel",
            "_view_count": null,
            "_view_module": "@jupyter-widgets/base",
            "_view_module_version": "1.2.0",
            "_view_name": "StyleView",
            "description_width": ""
          }
        },
        "1a1608a0886e48188939371a3a5877fe": {
          "model_module": "@jupyter-widgets/controls",
          "model_name": "HBoxModel",
          "model_module_version": "1.5.0",
          "state": {
            "_dom_classes": [],
            "_model_module": "@jupyter-widgets/controls",
            "_model_module_version": "1.5.0",
            "_model_name": "HBoxModel",
            "_view_count": null,
            "_view_module": "@jupyter-widgets/controls",
            "_view_module_version": "1.5.0",
            "_view_name": "HBoxView",
            "box_style": "",
            "children": [
              "IPY_MODEL_fa77b70147a042a4bb27e7483760b51b",
              "IPY_MODEL_07aafa43e6bd49bb9d4355de0395ad74",
              "IPY_MODEL_527026560ad5472c929494ae06591c09"
            ],
            "layout": "IPY_MODEL_522deb2711f7443db6a3bd05cc0e8930"
          }
        },
        "fa77b70147a042a4bb27e7483760b51b": {
          "model_module": "@jupyter-widgets/controls",
          "model_name": "HTMLModel",
          "model_module_version": "1.5.0",
          "state": {
            "_dom_classes": [],
            "_model_module": "@jupyter-widgets/controls",
            "_model_module_version": "1.5.0",
            "_model_name": "HTMLModel",
            "_view_count": null,
            "_view_module": "@jupyter-widgets/controls",
            "_view_module_version": "1.5.0",
            "_view_name": "HTMLView",
            "description": "",
            "description_tooltip": null,
            "layout": "IPY_MODEL_fbddf4998dfa410295e2b9fdf3db9795",
            "placeholder": "​",
            "style": "IPY_MODEL_a0afc4e7459d41188ff08dc1b3a72f04",
            "value": "Downloading: 100%"
          }
        },
        "07aafa43e6bd49bb9d4355de0395ad74": {
          "model_module": "@jupyter-widgets/controls",
          "model_name": "FloatProgressModel",
          "model_module_version": "1.5.0",
          "state": {
            "_dom_classes": [],
            "_model_module": "@jupyter-widgets/controls",
            "_model_module_version": "1.5.0",
            "_model_name": "FloatProgressModel",
            "_view_count": null,
            "_view_module": "@jupyter-widgets/controls",
            "_view_module_version": "1.5.0",
            "_view_name": "ProgressView",
            "bar_style": "success",
            "description": "",
            "description_tooltip": null,
            "layout": "IPY_MODEL_b31f746b4f684af68065ceaf1f90ae4a",
            "max": 112,
            "min": 0,
            "orientation": "horizontal",
            "style": "IPY_MODEL_a03988cc6af14437b6cefc7e69971138",
            "value": 112
          }
        },
        "527026560ad5472c929494ae06591c09": {
          "model_module": "@jupyter-widgets/controls",
          "model_name": "HTMLModel",
          "model_module_version": "1.5.0",
          "state": {
            "_dom_classes": [],
            "_model_module": "@jupyter-widgets/controls",
            "_model_module_version": "1.5.0",
            "_model_name": "HTMLModel",
            "_view_count": null,
            "_view_module": "@jupyter-widgets/controls",
            "_view_module_version": "1.5.0",
            "_view_name": "HTMLView",
            "description": "",
            "description_tooltip": null,
            "layout": "IPY_MODEL_6ecd06f03f084051a8e1fb8020fae507",
            "placeholder": "​",
            "style": "IPY_MODEL_0e8ffd0588fb415992f07e2e0d45eda0",
            "value": " 112/112 [00:00&lt;00:00, 3.11kB/s]"
          }
        },
        "522deb2711f7443db6a3bd05cc0e8930": {
          "model_module": "@jupyter-widgets/base",
          "model_name": "LayoutModel",
          "model_module_version": "1.2.0",
          "state": {
            "_model_module": "@jupyter-widgets/base",
            "_model_module_version": "1.2.0",
            "_model_name": "LayoutModel",
            "_view_count": null,
            "_view_module": "@jupyter-widgets/base",
            "_view_module_version": "1.2.0",
            "_view_name": "LayoutView",
            "align_content": null,
            "align_items": null,
            "align_self": null,
            "border": null,
            "bottom": null,
            "display": null,
            "flex": null,
            "flex_flow": null,
            "grid_area": null,
            "grid_auto_columns": null,
            "grid_auto_flow": null,
            "grid_auto_rows": null,
            "grid_column": null,
            "grid_gap": null,
            "grid_row": null,
            "grid_template_areas": null,
            "grid_template_columns": null,
            "grid_template_rows": null,
            "height": null,
            "justify_content": null,
            "justify_items": null,
            "left": null,
            "margin": null,
            "max_height": null,
            "max_width": null,
            "min_height": null,
            "min_width": null,
            "object_fit": null,
            "object_position": null,
            "order": null,
            "overflow": null,
            "overflow_x": null,
            "overflow_y": null,
            "padding": null,
            "right": null,
            "top": null,
            "visibility": null,
            "width": null
          }
        },
        "fbddf4998dfa410295e2b9fdf3db9795": {
          "model_module": "@jupyter-widgets/base",
          "model_name": "LayoutModel",
          "model_module_version": "1.2.0",
          "state": {
            "_model_module": "@jupyter-widgets/base",
            "_model_module_version": "1.2.0",
            "_model_name": "LayoutModel",
            "_view_count": null,
            "_view_module": "@jupyter-widgets/base",
            "_view_module_version": "1.2.0",
            "_view_name": "LayoutView",
            "align_content": null,
            "align_items": null,
            "align_self": null,
            "border": null,
            "bottom": null,
            "display": null,
            "flex": null,
            "flex_flow": null,
            "grid_area": null,
            "grid_auto_columns": null,
            "grid_auto_flow": null,
            "grid_auto_rows": null,
            "grid_column": null,
            "grid_gap": null,
            "grid_row": null,
            "grid_template_areas": null,
            "grid_template_columns": null,
            "grid_template_rows": null,
            "height": null,
            "justify_content": null,
            "justify_items": null,
            "left": null,
            "margin": null,
            "max_height": null,
            "max_width": null,
            "min_height": null,
            "min_width": null,
            "object_fit": null,
            "object_position": null,
            "order": null,
            "overflow": null,
            "overflow_x": null,
            "overflow_y": null,
            "padding": null,
            "right": null,
            "top": null,
            "visibility": null,
            "width": null
          }
        },
        "a0afc4e7459d41188ff08dc1b3a72f04": {
          "model_module": "@jupyter-widgets/controls",
          "model_name": "DescriptionStyleModel",
          "model_module_version": "1.5.0",
          "state": {
            "_model_module": "@jupyter-widgets/controls",
            "_model_module_version": "1.5.0",
            "_model_name": "DescriptionStyleModel",
            "_view_count": null,
            "_view_module": "@jupyter-widgets/base",
            "_view_module_version": "1.2.0",
            "_view_name": "StyleView",
            "description_width": ""
          }
        },
        "b31f746b4f684af68065ceaf1f90ae4a": {
          "model_module": "@jupyter-widgets/base",
          "model_name": "LayoutModel",
          "model_module_version": "1.2.0",
          "state": {
            "_model_module": "@jupyter-widgets/base",
            "_model_module_version": "1.2.0",
            "_model_name": "LayoutModel",
            "_view_count": null,
            "_view_module": "@jupyter-widgets/base",
            "_view_module_version": "1.2.0",
            "_view_name": "LayoutView",
            "align_content": null,
            "align_items": null,
            "align_self": null,
            "border": null,
            "bottom": null,
            "display": null,
            "flex": null,
            "flex_flow": null,
            "grid_area": null,
            "grid_auto_columns": null,
            "grid_auto_flow": null,
            "grid_auto_rows": null,
            "grid_column": null,
            "grid_gap": null,
            "grid_row": null,
            "grid_template_areas": null,
            "grid_template_columns": null,
            "grid_template_rows": null,
            "height": null,
            "justify_content": null,
            "justify_items": null,
            "left": null,
            "margin": null,
            "max_height": null,
            "max_width": null,
            "min_height": null,
            "min_width": null,
            "object_fit": null,
            "object_position": null,
            "order": null,
            "overflow": null,
            "overflow_x": null,
            "overflow_y": null,
            "padding": null,
            "right": null,
            "top": null,
            "visibility": null,
            "width": null
          }
        },
        "a03988cc6af14437b6cefc7e69971138": {
          "model_module": "@jupyter-widgets/controls",
          "model_name": "ProgressStyleModel",
          "model_module_version": "1.5.0",
          "state": {
            "_model_module": "@jupyter-widgets/controls",
            "_model_module_version": "1.5.0",
            "_model_name": "ProgressStyleModel",
            "_view_count": null,
            "_view_module": "@jupyter-widgets/base",
            "_view_module_version": "1.2.0",
            "_view_name": "StyleView",
            "bar_color": null,
            "description_width": ""
          }
        },
        "6ecd06f03f084051a8e1fb8020fae507": {
          "model_module": "@jupyter-widgets/base",
          "model_name": "LayoutModel",
          "model_module_version": "1.2.0",
          "state": {
            "_model_module": "@jupyter-widgets/base",
            "_model_module_version": "1.2.0",
            "_model_name": "LayoutModel",
            "_view_count": null,
            "_view_module": "@jupyter-widgets/base",
            "_view_module_version": "1.2.0",
            "_view_name": "LayoutView",
            "align_content": null,
            "align_items": null,
            "align_self": null,
            "border": null,
            "bottom": null,
            "display": null,
            "flex": null,
            "flex_flow": null,
            "grid_area": null,
            "grid_auto_columns": null,
            "grid_auto_flow": null,
            "grid_auto_rows": null,
            "grid_column": null,
            "grid_gap": null,
            "grid_row": null,
            "grid_template_areas": null,
            "grid_template_columns": null,
            "grid_template_rows": null,
            "height": null,
            "justify_content": null,
            "justify_items": null,
            "left": null,
            "margin": null,
            "max_height": null,
            "max_width": null,
            "min_height": null,
            "min_width": null,
            "object_fit": null,
            "object_position": null,
            "order": null,
            "overflow": null,
            "overflow_x": null,
            "overflow_y": null,
            "padding": null,
            "right": null,
            "top": null,
            "visibility": null,
            "width": null
          }
        },
        "0e8ffd0588fb415992f07e2e0d45eda0": {
          "model_module": "@jupyter-widgets/controls",
          "model_name": "DescriptionStyleModel",
          "model_module_version": "1.5.0",
          "state": {
            "_model_module": "@jupyter-widgets/controls",
            "_model_module_version": "1.5.0",
            "_model_name": "DescriptionStyleModel",
            "_view_count": null,
            "_view_module": "@jupyter-widgets/base",
            "_view_module_version": "1.2.0",
            "_view_name": "StyleView",
            "description_width": ""
          }
        },
        "7f18f5cf7008459b98e6841137867a47": {
          "model_module": "@jupyter-widgets/controls",
          "model_name": "HBoxModel",
          "model_module_version": "1.5.0",
          "state": {
            "_dom_classes": [],
            "_model_module": "@jupyter-widgets/controls",
            "_model_module_version": "1.5.0",
            "_model_name": "HBoxModel",
            "_view_count": null,
            "_view_module": "@jupyter-widgets/controls",
            "_view_module_version": "1.5.0",
            "_view_name": "HBoxView",
            "box_style": "",
            "children": [
              "IPY_MODEL_d79ccdedfeeb40988ff9bf1e9543e93a",
              "IPY_MODEL_155ed0a862fa4e1782e766f9a425a24c",
              "IPY_MODEL_a43e161635474ee986529dbcd8fc0d46"
            ],
            "layout": "IPY_MODEL_c1e35573d60249868ce6151b5cafb702"
          }
        },
        "d79ccdedfeeb40988ff9bf1e9543e93a": {
          "model_module": "@jupyter-widgets/controls",
          "model_name": "HTMLModel",
          "model_module_version": "1.5.0",
          "state": {
            "_dom_classes": [],
            "_model_module": "@jupyter-widgets/controls",
            "_model_module_version": "1.5.0",
            "_model_name": "HTMLModel",
            "_view_count": null,
            "_view_module": "@jupyter-widgets/controls",
            "_view_module_version": "1.5.0",
            "_view_name": "HTMLView",
            "description": "",
            "description_tooltip": null,
            "layout": "IPY_MODEL_a33e80fe80064a189261c99764f0dab0",
            "placeholder": "​",
            "style": "IPY_MODEL_e33197526d644488adb23896d55b4d1e",
            "value": "Downloading: 100%"
          }
        },
        "155ed0a862fa4e1782e766f9a425a24c": {
          "model_module": "@jupyter-widgets/controls",
          "model_name": "FloatProgressModel",
          "model_module_version": "1.5.0",
          "state": {
            "_dom_classes": [],
            "_model_module": "@jupyter-widgets/controls",
            "_model_module_version": "1.5.0",
            "_model_name": "FloatProgressModel",
            "_view_count": null,
            "_view_module": "@jupyter-widgets/controls",
            "_view_module_version": "1.5.0",
            "_view_name": "ProgressView",
            "bar_style": "success",
            "description": "",
            "description_tooltip": null,
            "layout": "IPY_MODEL_84e1d9f5d68e4aa1bd96c4f20d5baf71",
            "max": 48,
            "min": 0,
            "orientation": "horizontal",
            "style": "IPY_MODEL_c48ecfde89e44cbdbec236fd43e4a67a",
            "value": 48
          }
        },
        "a43e161635474ee986529dbcd8fc0d46": {
          "model_module": "@jupyter-widgets/controls",
          "model_name": "HTMLModel",
          "model_module_version": "1.5.0",
          "state": {
            "_dom_classes": [],
            "_model_module": "@jupyter-widgets/controls",
            "_model_module_version": "1.5.0",
            "_model_name": "HTMLModel",
            "_view_count": null,
            "_view_module": "@jupyter-widgets/controls",
            "_view_module_version": "1.5.0",
            "_view_name": "HTMLView",
            "description": "",
            "description_tooltip": null,
            "layout": "IPY_MODEL_f703eba0704e4cbfb78161daa0508be0",
            "placeholder": "​",
            "style": "IPY_MODEL_b0812d1bcdff4d5aaf94608cad996910",
            "value": " 48.0/48.0 [00:00&lt;00:00, 1.86kB/s]"
          }
        },
        "c1e35573d60249868ce6151b5cafb702": {
          "model_module": "@jupyter-widgets/base",
          "model_name": "LayoutModel",
          "model_module_version": "1.2.0",
          "state": {
            "_model_module": "@jupyter-widgets/base",
            "_model_module_version": "1.2.0",
            "_model_name": "LayoutModel",
            "_view_count": null,
            "_view_module": "@jupyter-widgets/base",
            "_view_module_version": "1.2.0",
            "_view_name": "LayoutView",
            "align_content": null,
            "align_items": null,
            "align_self": null,
            "border": null,
            "bottom": null,
            "display": null,
            "flex": null,
            "flex_flow": null,
            "grid_area": null,
            "grid_auto_columns": null,
            "grid_auto_flow": null,
            "grid_auto_rows": null,
            "grid_column": null,
            "grid_gap": null,
            "grid_row": null,
            "grid_template_areas": null,
            "grid_template_columns": null,
            "grid_template_rows": null,
            "height": null,
            "justify_content": null,
            "justify_items": null,
            "left": null,
            "margin": null,
            "max_height": null,
            "max_width": null,
            "min_height": null,
            "min_width": null,
            "object_fit": null,
            "object_position": null,
            "order": null,
            "overflow": null,
            "overflow_x": null,
            "overflow_y": null,
            "padding": null,
            "right": null,
            "top": null,
            "visibility": null,
            "width": null
          }
        },
        "a33e80fe80064a189261c99764f0dab0": {
          "model_module": "@jupyter-widgets/base",
          "model_name": "LayoutModel",
          "model_module_version": "1.2.0",
          "state": {
            "_model_module": "@jupyter-widgets/base",
            "_model_module_version": "1.2.0",
            "_model_name": "LayoutModel",
            "_view_count": null,
            "_view_module": "@jupyter-widgets/base",
            "_view_module_version": "1.2.0",
            "_view_name": "LayoutView",
            "align_content": null,
            "align_items": null,
            "align_self": null,
            "border": null,
            "bottom": null,
            "display": null,
            "flex": null,
            "flex_flow": null,
            "grid_area": null,
            "grid_auto_columns": null,
            "grid_auto_flow": null,
            "grid_auto_rows": null,
            "grid_column": null,
            "grid_gap": null,
            "grid_row": null,
            "grid_template_areas": null,
            "grid_template_columns": null,
            "grid_template_rows": null,
            "height": null,
            "justify_content": null,
            "justify_items": null,
            "left": null,
            "margin": null,
            "max_height": null,
            "max_width": null,
            "min_height": null,
            "min_width": null,
            "object_fit": null,
            "object_position": null,
            "order": null,
            "overflow": null,
            "overflow_x": null,
            "overflow_y": null,
            "padding": null,
            "right": null,
            "top": null,
            "visibility": null,
            "width": null
          }
        },
        "e33197526d644488adb23896d55b4d1e": {
          "model_module": "@jupyter-widgets/controls",
          "model_name": "DescriptionStyleModel",
          "model_module_version": "1.5.0",
          "state": {
            "_model_module": "@jupyter-widgets/controls",
            "_model_module_version": "1.5.0",
            "_model_name": "DescriptionStyleModel",
            "_view_count": null,
            "_view_module": "@jupyter-widgets/base",
            "_view_module_version": "1.2.0",
            "_view_name": "StyleView",
            "description_width": ""
          }
        },
        "84e1d9f5d68e4aa1bd96c4f20d5baf71": {
          "model_module": "@jupyter-widgets/base",
          "model_name": "LayoutModel",
          "model_module_version": "1.2.0",
          "state": {
            "_model_module": "@jupyter-widgets/base",
            "_model_module_version": "1.2.0",
            "_model_name": "LayoutModel",
            "_view_count": null,
            "_view_module": "@jupyter-widgets/base",
            "_view_module_version": "1.2.0",
            "_view_name": "LayoutView",
            "align_content": null,
            "align_items": null,
            "align_self": null,
            "border": null,
            "bottom": null,
            "display": null,
            "flex": null,
            "flex_flow": null,
            "grid_area": null,
            "grid_auto_columns": null,
            "grid_auto_flow": null,
            "grid_auto_rows": null,
            "grid_column": null,
            "grid_gap": null,
            "grid_row": null,
            "grid_template_areas": null,
            "grid_template_columns": null,
            "grid_template_rows": null,
            "height": null,
            "justify_content": null,
            "justify_items": null,
            "left": null,
            "margin": null,
            "max_height": null,
            "max_width": null,
            "min_height": null,
            "min_width": null,
            "object_fit": null,
            "object_position": null,
            "order": null,
            "overflow": null,
            "overflow_x": null,
            "overflow_y": null,
            "padding": null,
            "right": null,
            "top": null,
            "visibility": null,
            "width": null
          }
        },
        "c48ecfde89e44cbdbec236fd43e4a67a": {
          "model_module": "@jupyter-widgets/controls",
          "model_name": "ProgressStyleModel",
          "model_module_version": "1.5.0",
          "state": {
            "_model_module": "@jupyter-widgets/controls",
            "_model_module_version": "1.5.0",
            "_model_name": "ProgressStyleModel",
            "_view_count": null,
            "_view_module": "@jupyter-widgets/base",
            "_view_module_version": "1.2.0",
            "_view_name": "StyleView",
            "bar_color": null,
            "description_width": ""
          }
        },
        "f703eba0704e4cbfb78161daa0508be0": {
          "model_module": "@jupyter-widgets/base",
          "model_name": "LayoutModel",
          "model_module_version": "1.2.0",
          "state": {
            "_model_module": "@jupyter-widgets/base",
            "_model_module_version": "1.2.0",
            "_model_name": "LayoutModel",
            "_view_count": null,
            "_view_module": "@jupyter-widgets/base",
            "_view_module_version": "1.2.0",
            "_view_name": "LayoutView",
            "align_content": null,
            "align_items": null,
            "align_self": null,
            "border": null,
            "bottom": null,
            "display": null,
            "flex": null,
            "flex_flow": null,
            "grid_area": null,
            "grid_auto_columns": null,
            "grid_auto_flow": null,
            "grid_auto_rows": null,
            "grid_column": null,
            "grid_gap": null,
            "grid_row": null,
            "grid_template_areas": null,
            "grid_template_columns": null,
            "grid_template_rows": null,
            "height": null,
            "justify_content": null,
            "justify_items": null,
            "left": null,
            "margin": null,
            "max_height": null,
            "max_width": null,
            "min_height": null,
            "min_width": null,
            "object_fit": null,
            "object_position": null,
            "order": null,
            "overflow": null,
            "overflow_x": null,
            "overflow_y": null,
            "padding": null,
            "right": null,
            "top": null,
            "visibility": null,
            "width": null
          }
        },
        "b0812d1bcdff4d5aaf94608cad996910": {
          "model_module": "@jupyter-widgets/controls",
          "model_name": "DescriptionStyleModel",
          "model_module_version": "1.5.0",
          "state": {
            "_model_module": "@jupyter-widgets/controls",
            "_model_module_version": "1.5.0",
            "_model_name": "DescriptionStyleModel",
            "_view_count": null,
            "_view_module": "@jupyter-widgets/base",
            "_view_module_version": "1.2.0",
            "_view_name": "StyleView",
            "description_width": ""
          }
        },
        "79d531ce7b2b4f7cb9da18ec69086edc": {
          "model_module": "@jupyter-widgets/controls",
          "model_name": "HBoxModel",
          "model_module_version": "1.5.0",
          "state": {
            "_dom_classes": [],
            "_model_module": "@jupyter-widgets/controls",
            "_model_module_version": "1.5.0",
            "_model_name": "HBoxModel",
            "_view_count": null,
            "_view_module": "@jupyter-widgets/controls",
            "_view_module_version": "1.5.0",
            "_view_name": "HBoxView",
            "box_style": "",
            "children": [
              "IPY_MODEL_6f364101c0d54fa1a4d4c886faf0db49",
              "IPY_MODEL_b71f40b9005c4b28bad9026b90c4ea24",
              "IPY_MODEL_7a56a7cb12fa481bafbdb2061867467f"
            ],
            "layout": "IPY_MODEL_f5f2a9a4410041c9a789b373065714bb"
          }
        },
        "6f364101c0d54fa1a4d4c886faf0db49": {
          "model_module": "@jupyter-widgets/controls",
          "model_name": "HTMLModel",
          "model_module_version": "1.5.0",
          "state": {
            "_dom_classes": [],
            "_model_module": "@jupyter-widgets/controls",
            "_model_module_version": "1.5.0",
            "_model_name": "HTMLModel",
            "_view_count": null,
            "_view_module": "@jupyter-widgets/controls",
            "_view_module_version": "1.5.0",
            "_view_name": "HTMLView",
            "description": "",
            "description_tooltip": null,
            "layout": "IPY_MODEL_21e3e8afe3fb422b8cbbbb03ff5fb610",
            "placeholder": "​",
            "style": "IPY_MODEL_09bb7b255916435a91de17f7fc0cb158",
            "value": "Downloading: 100%"
          }
        },
        "b71f40b9005c4b28bad9026b90c4ea24": {
          "model_module": "@jupyter-widgets/controls",
          "model_name": "FloatProgressModel",
          "model_module_version": "1.5.0",
          "state": {
            "_dom_classes": [],
            "_model_module": "@jupyter-widgets/controls",
            "_model_module_version": "1.5.0",
            "_model_name": "FloatProgressModel",
            "_view_count": null,
            "_view_module": "@jupyter-widgets/controls",
            "_view_module_version": "1.5.0",
            "_view_name": "ProgressView",
            "bar_style": "success",
            "description": "",
            "description_tooltip": null,
            "layout": "IPY_MODEL_314457b7594a46fbab5f8f4c98df6171",
            "max": 477,
            "min": 0,
            "orientation": "horizontal",
            "style": "IPY_MODEL_f7784133aa6e47c78d8516fc3f65f468",
            "value": 477
          }
        },
        "7a56a7cb12fa481bafbdb2061867467f": {
          "model_module": "@jupyter-widgets/controls",
          "model_name": "HTMLModel",
          "model_module_version": "1.5.0",
          "state": {
            "_dom_classes": [],
            "_model_module": "@jupyter-widgets/controls",
            "_model_module_version": "1.5.0",
            "_model_name": "HTMLModel",
            "_view_count": null,
            "_view_module": "@jupyter-widgets/controls",
            "_view_module_version": "1.5.0",
            "_view_name": "HTMLView",
            "description": "",
            "description_tooltip": null,
            "layout": "IPY_MODEL_5a58d5cfb4f145b994ae52037a9b545c",
            "placeholder": "​",
            "style": "IPY_MODEL_6d16844da09a41eb9d2c5d23a5521786",
            "value": " 477/477 [00:00&lt;00:00, 17.2kB/s]"
          }
        },
        "f5f2a9a4410041c9a789b373065714bb": {
          "model_module": "@jupyter-widgets/base",
          "model_name": "LayoutModel",
          "model_module_version": "1.2.0",
          "state": {
            "_model_module": "@jupyter-widgets/base",
            "_model_module_version": "1.2.0",
            "_model_name": "LayoutModel",
            "_view_count": null,
            "_view_module": "@jupyter-widgets/base",
            "_view_module_version": "1.2.0",
            "_view_name": "LayoutView",
            "align_content": null,
            "align_items": null,
            "align_self": null,
            "border": null,
            "bottom": null,
            "display": null,
            "flex": null,
            "flex_flow": null,
            "grid_area": null,
            "grid_auto_columns": null,
            "grid_auto_flow": null,
            "grid_auto_rows": null,
            "grid_column": null,
            "grid_gap": null,
            "grid_row": null,
            "grid_template_areas": null,
            "grid_template_columns": null,
            "grid_template_rows": null,
            "height": null,
            "justify_content": null,
            "justify_items": null,
            "left": null,
            "margin": null,
            "max_height": null,
            "max_width": null,
            "min_height": null,
            "min_width": null,
            "object_fit": null,
            "object_position": null,
            "order": null,
            "overflow": null,
            "overflow_x": null,
            "overflow_y": null,
            "padding": null,
            "right": null,
            "top": null,
            "visibility": null,
            "width": null
          }
        },
        "21e3e8afe3fb422b8cbbbb03ff5fb610": {
          "model_module": "@jupyter-widgets/base",
          "model_name": "LayoutModel",
          "model_module_version": "1.2.0",
          "state": {
            "_model_module": "@jupyter-widgets/base",
            "_model_module_version": "1.2.0",
            "_model_name": "LayoutModel",
            "_view_count": null,
            "_view_module": "@jupyter-widgets/base",
            "_view_module_version": "1.2.0",
            "_view_name": "LayoutView",
            "align_content": null,
            "align_items": null,
            "align_self": null,
            "border": null,
            "bottom": null,
            "display": null,
            "flex": null,
            "flex_flow": null,
            "grid_area": null,
            "grid_auto_columns": null,
            "grid_auto_flow": null,
            "grid_auto_rows": null,
            "grid_column": null,
            "grid_gap": null,
            "grid_row": null,
            "grid_template_areas": null,
            "grid_template_columns": null,
            "grid_template_rows": null,
            "height": null,
            "justify_content": null,
            "justify_items": null,
            "left": null,
            "margin": null,
            "max_height": null,
            "max_width": null,
            "min_height": null,
            "min_width": null,
            "object_fit": null,
            "object_position": null,
            "order": null,
            "overflow": null,
            "overflow_x": null,
            "overflow_y": null,
            "padding": null,
            "right": null,
            "top": null,
            "visibility": null,
            "width": null
          }
        },
        "09bb7b255916435a91de17f7fc0cb158": {
          "model_module": "@jupyter-widgets/controls",
          "model_name": "DescriptionStyleModel",
          "model_module_version": "1.5.0",
          "state": {
            "_model_module": "@jupyter-widgets/controls",
            "_model_module_version": "1.5.0",
            "_model_name": "DescriptionStyleModel",
            "_view_count": null,
            "_view_module": "@jupyter-widgets/base",
            "_view_module_version": "1.2.0",
            "_view_name": "StyleView",
            "description_width": ""
          }
        },
        "314457b7594a46fbab5f8f4c98df6171": {
          "model_module": "@jupyter-widgets/base",
          "model_name": "LayoutModel",
          "model_module_version": "1.2.0",
          "state": {
            "_model_module": "@jupyter-widgets/base",
            "_model_module_version": "1.2.0",
            "_model_name": "LayoutModel",
            "_view_count": null,
            "_view_module": "@jupyter-widgets/base",
            "_view_module_version": "1.2.0",
            "_view_name": "LayoutView",
            "align_content": null,
            "align_items": null,
            "align_self": null,
            "border": null,
            "bottom": null,
            "display": null,
            "flex": null,
            "flex_flow": null,
            "grid_area": null,
            "grid_auto_columns": null,
            "grid_auto_flow": null,
            "grid_auto_rows": null,
            "grid_column": null,
            "grid_gap": null,
            "grid_row": null,
            "grid_template_areas": null,
            "grid_template_columns": null,
            "grid_template_rows": null,
            "height": null,
            "justify_content": null,
            "justify_items": null,
            "left": null,
            "margin": null,
            "max_height": null,
            "max_width": null,
            "min_height": null,
            "min_width": null,
            "object_fit": null,
            "object_position": null,
            "order": null,
            "overflow": null,
            "overflow_x": null,
            "overflow_y": null,
            "padding": null,
            "right": null,
            "top": null,
            "visibility": null,
            "width": null
          }
        },
        "f7784133aa6e47c78d8516fc3f65f468": {
          "model_module": "@jupyter-widgets/controls",
          "model_name": "ProgressStyleModel",
          "model_module_version": "1.5.0",
          "state": {
            "_model_module": "@jupyter-widgets/controls",
            "_model_module_version": "1.5.0",
            "_model_name": "ProgressStyleModel",
            "_view_count": null,
            "_view_module": "@jupyter-widgets/base",
            "_view_module_version": "1.2.0",
            "_view_name": "StyleView",
            "bar_color": null,
            "description_width": ""
          }
        },
        "5a58d5cfb4f145b994ae52037a9b545c": {
          "model_module": "@jupyter-widgets/base",
          "model_name": "LayoutModel",
          "model_module_version": "1.2.0",
          "state": {
            "_model_module": "@jupyter-widgets/base",
            "_model_module_version": "1.2.0",
            "_model_name": "LayoutModel",
            "_view_count": null,
            "_view_module": "@jupyter-widgets/base",
            "_view_module_version": "1.2.0",
            "_view_name": "LayoutView",
            "align_content": null,
            "align_items": null,
            "align_self": null,
            "border": null,
            "bottom": null,
            "display": null,
            "flex": null,
            "flex_flow": null,
            "grid_area": null,
            "grid_auto_columns": null,
            "grid_auto_flow": null,
            "grid_auto_rows": null,
            "grid_column": null,
            "grid_gap": null,
            "grid_row": null,
            "grid_template_areas": null,
            "grid_template_columns": null,
            "grid_template_rows": null,
            "height": null,
            "justify_content": null,
            "justify_items": null,
            "left": null,
            "margin": null,
            "max_height": null,
            "max_width": null,
            "min_height": null,
            "min_width": null,
            "object_fit": null,
            "object_position": null,
            "order": null,
            "overflow": null,
            "overflow_x": null,
            "overflow_y": null,
            "padding": null,
            "right": null,
            "top": null,
            "visibility": null,
            "width": null
          }
        },
        "6d16844da09a41eb9d2c5d23a5521786": {
          "model_module": "@jupyter-widgets/controls",
          "model_name": "DescriptionStyleModel",
          "model_module_version": "1.5.0",
          "state": {
            "_model_module": "@jupyter-widgets/controls",
            "_model_module_version": "1.5.0",
            "_model_name": "DescriptionStyleModel",
            "_view_count": null,
            "_view_module": "@jupyter-widgets/base",
            "_view_module_version": "1.2.0",
            "_view_name": "StyleView",
            "description_width": ""
          }
        },
        "0518888e54dc4b9d82ab3b7a446540f6": {
          "model_module": "@jupyter-widgets/controls",
          "model_name": "HBoxModel",
          "model_module_version": "1.5.0",
          "state": {
            "_dom_classes": [],
            "_model_module": "@jupyter-widgets/controls",
            "_model_module_version": "1.5.0",
            "_model_name": "HBoxModel",
            "_view_count": null,
            "_view_module": "@jupyter-widgets/controls",
            "_view_module_version": "1.5.0",
            "_view_name": "HBoxView",
            "box_style": "",
            "children": [
              "IPY_MODEL_fbfcba43a72348579350dd4e78f39e5f",
              "IPY_MODEL_62ee12cfebf044a88ee1ac2a58ef7342",
              "IPY_MODEL_06f8e62bf46748cfb5c253f6575d7736"
            ],
            "layout": "IPY_MODEL_0e3d622425704edf931fd63497560824"
          }
        },
        "fbfcba43a72348579350dd4e78f39e5f": {
          "model_module": "@jupyter-widgets/controls",
          "model_name": "HTMLModel",
          "model_module_version": "1.5.0",
          "state": {
            "_dom_classes": [],
            "_model_module": "@jupyter-widgets/controls",
            "_model_module_version": "1.5.0",
            "_model_name": "HTMLModel",
            "_view_count": null,
            "_view_module": "@jupyter-widgets/controls",
            "_view_module_version": "1.5.0",
            "_view_name": "HTMLView",
            "description": "",
            "description_tooltip": null,
            "layout": "IPY_MODEL_ee0e88e1f8a7447dafa094cb7afb2a24",
            "placeholder": "​",
            "style": "IPY_MODEL_ef02c256e7534ea9874a4fb3f7b84d4e",
            "value": "Downloading: 100%"
          }
        },
        "62ee12cfebf044a88ee1ac2a58ef7342": {
          "model_module": "@jupyter-widgets/controls",
          "model_name": "FloatProgressModel",
          "model_module_version": "1.5.0",
          "state": {
            "_dom_classes": [],
            "_model_module": "@jupyter-widgets/controls",
            "_model_module_version": "1.5.0",
            "_model_name": "FloatProgressModel",
            "_view_count": null,
            "_view_module": "@jupyter-widgets/controls",
            "_view_module_version": "1.5.0",
            "_view_name": "ProgressView",
            "bar_style": "success",
            "description": "",
            "description_tooltip": null,
            "layout": "IPY_MODEL_8d3277e814c549a398df8f99addc7bd1",
            "max": 437985387,
            "min": 0,
            "orientation": "horizontal",
            "style": "IPY_MODEL_46083f822af842c3a489cd58e33936b3",
            "value": 437985387
          }
        },
        "06f8e62bf46748cfb5c253f6575d7736": {
          "model_module": "@jupyter-widgets/controls",
          "model_name": "HTMLModel",
          "model_module_version": "1.5.0",
          "state": {
            "_dom_classes": [],
            "_model_module": "@jupyter-widgets/controls",
            "_model_module_version": "1.5.0",
            "_model_name": "HTMLModel",
            "_view_count": null,
            "_view_module": "@jupyter-widgets/controls",
            "_view_module_version": "1.5.0",
            "_view_name": "HTMLView",
            "description": "",
            "description_tooltip": null,
            "layout": "IPY_MODEL_95f88b7d077d40a081c8db27f8e2300b",
            "placeholder": "​",
            "style": "IPY_MODEL_e15bea54a36645608a46634cb30b4c0a",
            "value": " 418M/418M [00:07&lt;00:00, 45.8MB/s]"
          }
        },
        "0e3d622425704edf931fd63497560824": {
          "model_module": "@jupyter-widgets/base",
          "model_name": "LayoutModel",
          "model_module_version": "1.2.0",
          "state": {
            "_model_module": "@jupyter-widgets/base",
            "_model_module_version": "1.2.0",
            "_model_name": "LayoutModel",
            "_view_count": null,
            "_view_module": "@jupyter-widgets/base",
            "_view_module_version": "1.2.0",
            "_view_name": "LayoutView",
            "align_content": null,
            "align_items": null,
            "align_self": null,
            "border": null,
            "bottom": null,
            "display": null,
            "flex": null,
            "flex_flow": null,
            "grid_area": null,
            "grid_auto_columns": null,
            "grid_auto_flow": null,
            "grid_auto_rows": null,
            "grid_column": null,
            "grid_gap": null,
            "grid_row": null,
            "grid_template_areas": null,
            "grid_template_columns": null,
            "grid_template_rows": null,
            "height": null,
            "justify_content": null,
            "justify_items": null,
            "left": null,
            "margin": null,
            "max_height": null,
            "max_width": null,
            "min_height": null,
            "min_width": null,
            "object_fit": null,
            "object_position": null,
            "order": null,
            "overflow": null,
            "overflow_x": null,
            "overflow_y": null,
            "padding": null,
            "right": null,
            "top": null,
            "visibility": null,
            "width": null
          }
        },
        "ee0e88e1f8a7447dafa094cb7afb2a24": {
          "model_module": "@jupyter-widgets/base",
          "model_name": "LayoutModel",
          "model_module_version": "1.2.0",
          "state": {
            "_model_module": "@jupyter-widgets/base",
            "_model_module_version": "1.2.0",
            "_model_name": "LayoutModel",
            "_view_count": null,
            "_view_module": "@jupyter-widgets/base",
            "_view_module_version": "1.2.0",
            "_view_name": "LayoutView",
            "align_content": null,
            "align_items": null,
            "align_self": null,
            "border": null,
            "bottom": null,
            "display": null,
            "flex": null,
            "flex_flow": null,
            "grid_area": null,
            "grid_auto_columns": null,
            "grid_auto_flow": null,
            "grid_auto_rows": null,
            "grid_column": null,
            "grid_gap": null,
            "grid_row": null,
            "grid_template_areas": null,
            "grid_template_columns": null,
            "grid_template_rows": null,
            "height": null,
            "justify_content": null,
            "justify_items": null,
            "left": null,
            "margin": null,
            "max_height": null,
            "max_width": null,
            "min_height": null,
            "min_width": null,
            "object_fit": null,
            "object_position": null,
            "order": null,
            "overflow": null,
            "overflow_x": null,
            "overflow_y": null,
            "padding": null,
            "right": null,
            "top": null,
            "visibility": null,
            "width": null
          }
        },
        "ef02c256e7534ea9874a4fb3f7b84d4e": {
          "model_module": "@jupyter-widgets/controls",
          "model_name": "DescriptionStyleModel",
          "model_module_version": "1.5.0",
          "state": {
            "_model_module": "@jupyter-widgets/controls",
            "_model_module_version": "1.5.0",
            "_model_name": "DescriptionStyleModel",
            "_view_count": null,
            "_view_module": "@jupyter-widgets/base",
            "_view_module_version": "1.2.0",
            "_view_name": "StyleView",
            "description_width": ""
          }
        },
        "8d3277e814c549a398df8f99addc7bd1": {
          "model_module": "@jupyter-widgets/base",
          "model_name": "LayoutModel",
          "model_module_version": "1.2.0",
          "state": {
            "_model_module": "@jupyter-widgets/base",
            "_model_module_version": "1.2.0",
            "_model_name": "LayoutModel",
            "_view_count": null,
            "_view_module": "@jupyter-widgets/base",
            "_view_module_version": "1.2.0",
            "_view_name": "LayoutView",
            "align_content": null,
            "align_items": null,
            "align_self": null,
            "border": null,
            "bottom": null,
            "display": null,
            "flex": null,
            "flex_flow": null,
            "grid_area": null,
            "grid_auto_columns": null,
            "grid_auto_flow": null,
            "grid_auto_rows": null,
            "grid_column": null,
            "grid_gap": null,
            "grid_row": null,
            "grid_template_areas": null,
            "grid_template_columns": null,
            "grid_template_rows": null,
            "height": null,
            "justify_content": null,
            "justify_items": null,
            "left": null,
            "margin": null,
            "max_height": null,
            "max_width": null,
            "min_height": null,
            "min_width": null,
            "object_fit": null,
            "object_position": null,
            "order": null,
            "overflow": null,
            "overflow_x": null,
            "overflow_y": null,
            "padding": null,
            "right": null,
            "top": null,
            "visibility": null,
            "width": null
          }
        },
        "46083f822af842c3a489cd58e33936b3": {
          "model_module": "@jupyter-widgets/controls",
          "model_name": "ProgressStyleModel",
          "model_module_version": "1.5.0",
          "state": {
            "_model_module": "@jupyter-widgets/controls",
            "_model_module_version": "1.5.0",
            "_model_name": "ProgressStyleModel",
            "_view_count": null,
            "_view_module": "@jupyter-widgets/base",
            "_view_module_version": "1.2.0",
            "_view_name": "StyleView",
            "bar_color": null,
            "description_width": ""
          }
        },
        "95f88b7d077d40a081c8db27f8e2300b": {
          "model_module": "@jupyter-widgets/base",
          "model_name": "LayoutModel",
          "model_module_version": "1.2.0",
          "state": {
            "_model_module": "@jupyter-widgets/base",
            "_model_module_version": "1.2.0",
            "_model_name": "LayoutModel",
            "_view_count": null,
            "_view_module": "@jupyter-widgets/base",
            "_view_module_version": "1.2.0",
            "_view_name": "LayoutView",
            "align_content": null,
            "align_items": null,
            "align_self": null,
            "border": null,
            "bottom": null,
            "display": null,
            "flex": null,
            "flex_flow": null,
            "grid_area": null,
            "grid_auto_columns": null,
            "grid_auto_flow": null,
            "grid_auto_rows": null,
            "grid_column": null,
            "grid_gap": null,
            "grid_row": null,
            "grid_template_areas": null,
            "grid_template_columns": null,
            "grid_template_rows": null,
            "height": null,
            "justify_content": null,
            "justify_items": null,
            "left": null,
            "margin": null,
            "max_height": null,
            "max_width": null,
            "min_height": null,
            "min_width": null,
            "object_fit": null,
            "object_position": null,
            "order": null,
            "overflow": null,
            "overflow_x": null,
            "overflow_y": null,
            "padding": null,
            "right": null,
            "top": null,
            "visibility": null,
            "width": null
          }
        },
        "e15bea54a36645608a46634cb30b4c0a": {
          "model_module": "@jupyter-widgets/controls",
          "model_name": "DescriptionStyleModel",
          "model_module_version": "1.5.0",
          "state": {
            "_model_module": "@jupyter-widgets/controls",
            "_model_module_version": "1.5.0",
            "_model_name": "DescriptionStyleModel",
            "_view_count": null,
            "_view_module": "@jupyter-widgets/base",
            "_view_module_version": "1.2.0",
            "_view_name": "StyleView",
            "description_width": ""
          }
        }
      }
    }
  },
  "nbformat": 4,
  "nbformat_minor": 0
}