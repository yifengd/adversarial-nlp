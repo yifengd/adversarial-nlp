{
  "cells": [
    {
      "cell_type": "code",
      "source": [
        "!pip install transformers >> /dev/null\n",
        "!pip install pyyaml==5.4.1 >> /dev/null"
      ],
      "metadata": {
        "id": "w_r0jtEbc6RZ"
      },
      "execution_count": 1,
      "outputs": []
    },
    {
      "cell_type": "markdown",
      "metadata": {
        "id": "FKRSbmu4Hmag"
      },
      "source": [
        "# Testing classifier\n",
        "\n",
        "This script can be used to test the classifier against any file containing adversarial samples previously generated.\n",
        "\n",
        "Important: exact results reported in the paper cannot be reproduced for datasets that contain more than 250 samples because we used a random sampling process to produce a static local test file. Then, all experiments used that file for faster execution and avoid repeated logits computation. However, this simplified code performs a tail sampling that won't retrieve the same sentences."
      ]
    },
    {
      "cell_type": "code",
      "execution_count": 2,
      "metadata": {
        "id": "XAxbz_6GqSkr"
      },
      "outputs": [],
      "source": [
        "import numpy as np\n",
        "import torch\n",
        "from torch.utils.data import Dataset, DataLoader\n",
        "import pandas as pd\n",
        "import os\n",
        "import time\n",
        "import importlib\n",
        "from copy import copy\n",
        "\n",
        "device = torch.device('cuda' if torch.cuda.is_available() else 'cpu')"
      ]
    },
    {
      "cell_type": "markdown",
      "metadata": {
        "id": "gg2VJoGsRXOI"
      },
      "source": [
        "# Loading and transforming data into logits differences\n",
        "\n",
        "The first step is transforming our dataframe into logits differences for each original and adversarial sentence. For this, it is required to execute the model for each sentence with substitutions as explained in the paper."
      ]
    },
    {
      "cell_type": "code",
      "source": [
        "from google.colab import drive\n",
        "drive.mount('/content/drive')"
      ],
      "metadata": {
        "colab": {
          "base_uri": "https://localhost:8080/"
        },
        "id": "wE-FvsXXcJps",
        "outputId": "4f1c8396-78d4-4983-94c3-a012f6c85c4a"
      },
      "execution_count": 3,
      "outputs": [
        {
          "output_type": "stream",
          "name": "stdout",
          "text": [
            "Mounted at /content/drive\n"
          ]
        }
      ]
    },
    {
      "cell_type": "code",
      "execution_count": 4,
      "metadata": {
        "id": "KePxPwJIRXOI",
        "colab": {
          "base_uri": "https://localhost:8080/"
        },
        "outputId": "33c4e576-15ec-4595-9085-d3d5af95d176"
      },
      "outputs": [
        {
          "output_type": "stream",
          "name": "stdout",
          "text": [
            "ag-news_100_styleadv_distilbert.csv\n",
            "ag-news_1000_styleadv_distilbert.csv\n",
            "imdb_test_100_styleadv_distilbert.csv\n",
            "imdb_train_200_styleadv_distilbert.csv\n",
            "imdb_train_1000_styleadv_distilbert.csv\n",
            "Older attacks\n",
            "sst2_test_100_styleadv_distilbert.csv\n",
            "sst2_train_2000_styleadv_distilbert.csv\n",
            "sst2_val_100_styleadv_distilbert.csv\n",
            "sst2_val_styleadv_distilbert.csv\n"
          ]
        }
      ],
      "source": [
        "SAMPLES_PATH = '/content/drive/MyDrive/AdversarialXAI/Adversarial Samples'\n",
        "MODEL_PATH = '/content/drive/MyDrive/AdversarialXAI/Classifiers/WDR/agnews_classifier.pickle'\n",
        "\n",
        "# Print available setups for testing\n",
        "for i in os.listdir(SAMPLES_PATH):\n",
        "    if not i.startswith('.'): # Don't print system files\n",
        "        print(i)"
      ]
    },
    {
      "cell_type": "code",
      "execution_count": 61,
      "metadata": {
        "id": "zSKDxeQwRXOJ"
      },
      "outputs": [],
      "source": [
        "# Select the analysis configuration\n",
        "test_config = 'sst2_val_styleadv_distilbert.csv'"
      ]
    },
    {
      "cell_type": "code",
      "execution_count": 62,
      "metadata": {
        "colab": {
          "base_uri": "https://localhost:8080/"
        },
        "id": "gwz2ZjZeRXOJ",
        "outputId": "f35d8e95-8ef1-4704-e397-d1d5b2a59408"
      },
      "outputs": [
        {
          "output_type": "stream",
          "name": "stdout",
          "text": [
            "Model architecture: distilbert\n",
            "Dataset: SST-2\n"
          ]
        }
      ],
      "source": [
        "# Obtain model from test config\n",
        "model_arch = test_config.replace(\".csv\", \"\").split('_')[-1]\n",
        "dataset = \"SST-2\" # test_config.split('_')[0]\n",
        "print(\"Model architecture:\", model_arch)\n",
        "print(\"Dataset:\", dataset)"
      ]
    },
    {
      "cell_type": "code",
      "execution_count": 63,
      "metadata": {
        "id": "PzhKgPPZRXOJ"
      },
      "outputs": [],
      "source": [
        "def load_textattack_local_model(model_arch, dataset):\n",
        "    \n",
        "    def load_module_from_file(file_path):\n",
        "        \"\"\"Uses ``importlib`` to dynamically open a file and load an object from\n",
        "        it.\"\"\"\n",
        "        temp_module_name = f\"temp_{time.time()}\"\n",
        "\n",
        "        spec = importlib.util.spec_from_file_location(temp_module_name, file_path)\n",
        "        module = importlib.util.module_from_spec(spec)\n",
        "        spec.loader.exec_module(module)\n",
        "        return module\n",
        "    \n",
        "    m = load_module_from_file(f'../{model_arch}_textattack.py')\n",
        "    model = getattr(m, 'model')\n",
        "    \n",
        "    return model, None    "
      ]
    },
    {
      "cell_type": "code",
      "execution_count": 64,
      "metadata": {
        "id": "yS9OK93ZRXOJ"
      },
      "outputs": [],
      "source": [
        "def load_hugging_face_model(model_arch, dataset):\n",
        "    # Import the model used for generating the adversarial samples.\n",
        "    # Correctly, set up imports, model and tokenizer depending on the model you generated the samples on.\n",
        "    \n",
        "    if model_arch == 'distilbert':\n",
        "        from transformers import DistilBertConfig as config, DistilBertTokenizer as tokenizer, AutoModelForSequenceClassification as auto_model\n",
        "    elif model_arch == 'bert':\n",
        "        from transformers import BertConfig as config, BertTokenizer as tokenizer, AutoModelForSequenceClassification as auto_model\n",
        "    \n",
        "    device = torch.device('cuda' if torch.cuda.is_available() else 'cpu')\n",
        "    tokenizer = tokenizer.from_pretrained(f\"textattack/{model_arch}-base-uncased-{dataset}\")\n",
        "    model = auto_model.from_pretrained(f\"textattack/{model_arch}-base-uncased-{dataset}\").to(device)\n",
        "    \n",
        "    return model, tokenizer"
      ]
    },
    {
      "cell_type": "code",
      "execution_count": 65,
      "metadata": {
        "id": "LSJN7j5mRXOK"
      },
      "outputs": [],
      "source": [
        "# Models available in hugging-face are executed differently from LSTM and CNN. Choose automatically the configuration and load model + tokenizer.\n",
        "textattack_local_models = ['lstm', 'cnn']\n",
        "\n",
        "if model_arch in textattack_local_models:\n",
        "    hugging_face_model = False\n",
        "    model, tokenizer = load_textattack_local_model(model_arch, dataset)\n",
        "\n",
        "else:\n",
        "    hugging_face_model = True\n",
        "    model, tokenizer = load_hugging_face_model(model_arch, dataset)"
      ]
    },
    {
      "cell_type": "markdown",
      "metadata": {
        "id": "k1XxOsu_4EgE"
      },
      "source": [
        "# Loading data\n",
        "\n",
        "Read into a dataframe your original and adversarial samples."
      ]
    },
    {
      "cell_type": "code",
      "execution_count": 76,
      "metadata": {
        "colab": {
          "base_uri": "https://localhost:8080/"
        },
        "id": "WsMs6YrqRXOK",
        "outputId": "17a8426d-c68a-451c-865f-fcd54a8539f7"
      },
      "outputs": [
        {
          "output_type": "stream",
          "name": "stdout",
          "text": [
            "(688, 4) Index(['p_val', 'original_text', 'adversarial_text', 'labels'], dtype='object')\n"
          ]
        }
      ],
      "source": [
        "# Read the desired csv file previously generated\n",
        "df = pd.read_csv(f'{SAMPLES_PATH}/{test_config}', index_col=False)\n",
        "\n",
        "print(df.shape, df.columns)"
      ]
    },
    {
      "cell_type": "code",
      "source": [
        "# ddf = df.query(\"p_val == 1\")"
      ],
      "metadata": {
        "id": "WJZQl_HB3OuV"
      },
      "execution_count": 77,
      "outputs": []
    },
    {
      "cell_type": "code",
      "source": [
        "# ddf"
      ],
      "metadata": {
        "id": "d7jUoEry3VB5",
        "outputId": "c035044f-9658-474e-ada1-fb074869c927",
        "colab": {
          "base_uri": "https://localhost:8080/",
          "height": 961
        }
      },
      "execution_count": 79,
      "outputs": [
        {
          "output_type": "execute_result",
          "data": {
            "text/plain": [
              "     p_val                                      original_text  \\\n",
              "0        1   too often , the viewer is n't reacting to hum...   \n",
              "1        1   in the end , we are left with something like ...   \n",
              "4        1   the movie achieves as great an impact by keep...   \n",
              "5        1   in all , this is a watchable movie that 's no...   \n",
              "6        1   once the 50 year old benigni appears as the t...   \n",
              "..     ...                                                ...   \n",
              "670      1   if there 's one thing this world needs less o...   \n",
              "675      1                      good film , but very glum .     \n",
              "677      1   ... plays like somebody spliced random moment...   \n",
              "678      1   for each chuckle there are at least 10 comple...   \n",
              "682      1   a science-fiction pastiche so lacking in orig...   \n",
              "\n",
              "                                      adversarial_text  labels  \n",
              "0     the viewer often responds to humor, but they ...       0  \n",
              "1     as long as we don't get any insight into gay ...       0  \n",
              "4     in fact, the film will achieve the greatest i...       1  \n",
              "5     that's a movie that's not really a memorable ...       0  \n",
              "6     when the 50-year-old benigni returns as the m...       0  \n",
              "..                                                 ...     ...  \n",
              "670   people who don't pass the entrance exam can w...       0  \n",
              "675     good movie, but the film was very depressing.        1  \n",
              "677   ... as the strangest scenes of a classic rock...       0  \n",
              "678   there are at least 10 missing in every laugh,...       0  \n",
              "682   the science fiction of the pastiche is a clic...       0  \n",
              "\n",
              "[388 rows x 4 columns]"
            ],
            "text/html": [
              "\n",
              "  <div id=\"df-1f4146da-3e71-4f2d-beeb-8cc0891496e1\">\n",
              "    <div class=\"colab-df-container\">\n",
              "      <div>\n",
              "<style scoped>\n",
              "    .dataframe tbody tr th:only-of-type {\n",
              "        vertical-align: middle;\n",
              "    }\n",
              "\n",
              "    .dataframe tbody tr th {\n",
              "        vertical-align: top;\n",
              "    }\n",
              "\n",
              "    .dataframe thead th {\n",
              "        text-align: right;\n",
              "    }\n",
              "</style>\n",
              "<table border=\"1\" class=\"dataframe\">\n",
              "  <thead>\n",
              "    <tr style=\"text-align: right;\">\n",
              "      <th></th>\n",
              "      <th>p_val</th>\n",
              "      <th>original_text</th>\n",
              "      <th>adversarial_text</th>\n",
              "      <th>labels</th>\n",
              "    </tr>\n",
              "  </thead>\n",
              "  <tbody>\n",
              "    <tr>\n",
              "      <th>0</th>\n",
              "      <td>1</td>\n",
              "      <td>too often , the viewer is n't reacting to hum...</td>\n",
              "      <td>the viewer often responds to humor, but they ...</td>\n",
              "      <td>0</td>\n",
              "    </tr>\n",
              "    <tr>\n",
              "      <th>1</th>\n",
              "      <td>1</td>\n",
              "      <td>in the end , we are left with something like ...</td>\n",
              "      <td>as long as we don't get any insight into gay ...</td>\n",
              "      <td>0</td>\n",
              "    </tr>\n",
              "    <tr>\n",
              "      <th>4</th>\n",
              "      <td>1</td>\n",
              "      <td>the movie achieves as great an impact by keep...</td>\n",
              "      <td>in fact, the film will achieve the greatest i...</td>\n",
              "      <td>1</td>\n",
              "    </tr>\n",
              "    <tr>\n",
              "      <th>5</th>\n",
              "      <td>1</td>\n",
              "      <td>in all , this is a watchable movie that 's no...</td>\n",
              "      <td>that's a movie that's not really a memorable ...</td>\n",
              "      <td>0</td>\n",
              "    </tr>\n",
              "    <tr>\n",
              "      <th>6</th>\n",
              "      <td>1</td>\n",
              "      <td>once the 50 year old benigni appears as the t...</td>\n",
              "      <td>when the 50-year-old benigni returns as the m...</td>\n",
              "      <td>0</td>\n",
              "    </tr>\n",
              "    <tr>\n",
              "      <th>...</th>\n",
              "      <td>...</td>\n",
              "      <td>...</td>\n",
              "      <td>...</td>\n",
              "      <td>...</td>\n",
              "    </tr>\n",
              "    <tr>\n",
              "      <th>670</th>\n",
              "      <td>1</td>\n",
              "      <td>if there 's one thing this world needs less o...</td>\n",
              "      <td>people who don't pass the entrance exam can w...</td>\n",
              "      <td>0</td>\n",
              "    </tr>\n",
              "    <tr>\n",
              "      <th>675</th>\n",
              "      <td>1</td>\n",
              "      <td>good film , but very glum .</td>\n",
              "      <td>good movie, but the film was very depressing.</td>\n",
              "      <td>1</td>\n",
              "    </tr>\n",
              "    <tr>\n",
              "      <th>677</th>\n",
              "      <td>1</td>\n",
              "      <td>... plays like somebody spliced random moment...</td>\n",
              "      <td>... as the strangest scenes of a classic rock...</td>\n",
              "      <td>0</td>\n",
              "    </tr>\n",
              "    <tr>\n",
              "      <th>678</th>\n",
              "      <td>1</td>\n",
              "      <td>for each chuckle there are at least 10 comple...</td>\n",
              "      <td>there are at least 10 missing in every laugh,...</td>\n",
              "      <td>0</td>\n",
              "    </tr>\n",
              "    <tr>\n",
              "      <th>682</th>\n",
              "      <td>1</td>\n",
              "      <td>a science-fiction pastiche so lacking in orig...</td>\n",
              "      <td>the science fiction of the pastiche is a clic...</td>\n",
              "      <td>0</td>\n",
              "    </tr>\n",
              "  </tbody>\n",
              "</table>\n",
              "<p>388 rows × 4 columns</p>\n",
              "</div>\n",
              "      <button class=\"colab-df-convert\" onclick=\"convertToInteractive('df-1f4146da-3e71-4f2d-beeb-8cc0891496e1')\"\n",
              "              title=\"Convert this dataframe to an interactive table.\"\n",
              "              style=\"display:none;\">\n",
              "        \n",
              "  <svg xmlns=\"http://www.w3.org/2000/svg\" height=\"24px\"viewBox=\"0 0 24 24\"\n",
              "       width=\"24px\">\n",
              "    <path d=\"M0 0h24v24H0V0z\" fill=\"none\"/>\n",
              "    <path d=\"M18.56 5.44l.94 2.06.94-2.06 2.06-.94-2.06-.94-.94-2.06-.94 2.06-2.06.94zm-11 1L8.5 8.5l.94-2.06 2.06-.94-2.06-.94L8.5 2.5l-.94 2.06-2.06.94zm10 10l.94 2.06.94-2.06 2.06-.94-2.06-.94-.94-2.06-.94 2.06-2.06.94z\"/><path d=\"M17.41 7.96l-1.37-1.37c-.4-.4-.92-.59-1.43-.59-.52 0-1.04.2-1.43.59L10.3 9.45l-7.72 7.72c-.78.78-.78 2.05 0 2.83L4 21.41c.39.39.9.59 1.41.59.51 0 1.02-.2 1.41-.59l7.78-7.78 2.81-2.81c.8-.78.8-2.07 0-2.86zM5.41 20L4 18.59l7.72-7.72 1.47 1.35L5.41 20z\"/>\n",
              "  </svg>\n",
              "      </button>\n",
              "      \n",
              "  <style>\n",
              "    .colab-df-container {\n",
              "      display:flex;\n",
              "      flex-wrap:wrap;\n",
              "      gap: 12px;\n",
              "    }\n",
              "\n",
              "    .colab-df-convert {\n",
              "      background-color: #E8F0FE;\n",
              "      border: none;\n",
              "      border-radius: 50%;\n",
              "      cursor: pointer;\n",
              "      display: none;\n",
              "      fill: #1967D2;\n",
              "      height: 32px;\n",
              "      padding: 0 0 0 0;\n",
              "      width: 32px;\n",
              "    }\n",
              "\n",
              "    .colab-df-convert:hover {\n",
              "      background-color: #E2EBFA;\n",
              "      box-shadow: 0px 1px 2px rgba(60, 64, 67, 0.3), 0px 1px 3px 1px rgba(60, 64, 67, 0.15);\n",
              "      fill: #174EA6;\n",
              "    }\n",
              "\n",
              "    [theme=dark] .colab-df-convert {\n",
              "      background-color: #3B4455;\n",
              "      fill: #D2E3FC;\n",
              "    }\n",
              "\n",
              "    [theme=dark] .colab-df-convert:hover {\n",
              "      background-color: #434B5C;\n",
              "      box-shadow: 0px 1px 3px 1px rgba(0, 0, 0, 0.15);\n",
              "      filter: drop-shadow(0px 1px 2px rgba(0, 0, 0, 0.3));\n",
              "      fill: #FFFFFF;\n",
              "    }\n",
              "  </style>\n",
              "\n",
              "      <script>\n",
              "        const buttonEl =\n",
              "          document.querySelector('#df-1f4146da-3e71-4f2d-beeb-8cc0891496e1 button.colab-df-convert');\n",
              "        buttonEl.style.display =\n",
              "          google.colab.kernel.accessAllowed ? 'block' : 'none';\n",
              "\n",
              "        async function convertToInteractive(key) {\n",
              "          const element = document.querySelector('#df-1f4146da-3e71-4f2d-beeb-8cc0891496e1');\n",
              "          const dataTable =\n",
              "            await google.colab.kernel.invokeFunction('convertToInteractive',\n",
              "                                                     [key], {});\n",
              "          if (!dataTable) return;\n",
              "\n",
              "          const docLinkHtml = 'Like what you see? Visit the ' +\n",
              "            '<a target=\"_blank\" href=https://colab.research.google.com/notebooks/data_table.ipynb>data table notebook</a>'\n",
              "            + ' to learn more about interactive tables.';\n",
              "          element.innerHTML = '';\n",
              "          dataTable['output_type'] = 'display_data';\n",
              "          await google.colab.output.renderOutput(dataTable, element);\n",
              "          const docLink = document.createElement('div');\n",
              "          docLink.innerHTML = docLinkHtml;\n",
              "          element.appendChild(docLink);\n",
              "        }\n",
              "      </script>\n",
              "    </div>\n",
              "  </div>\n",
              "  "
            ]
          },
          "metadata": {},
          "execution_count": 79
        }
      ]
    },
    {
      "cell_type": "code",
      "execution_count": 80,
      "metadata": {
        "id": "HSJlUCpYRXOL"
      },
      "outputs": [],
      "source": [
        "# Create batches of non-adversarial sentences\n",
        "# For big models such as BERT, we must divide our input in smaller batches.\n",
        "n = 256 # Size of each batch.\n",
        "batches = [list(df.original_text.values)[i:i + n] for i in range(0, len(df.original_text.values), n)]"
      ]
    },
    {
      "cell_type": "code",
      "execution_count": 81,
      "metadata": {
        "id": "y7CbI6NdRXOL"
      },
      "outputs": [],
      "source": [
        "# Generate predictions for all non-adversarial sentences in our dataset\n",
        "outputs = []\n",
        "\n",
        "if hugging_face_model is True: # Use tokenizer and hugging face pipeline\n",
        "    for b in batches: \n",
        "        input = tokenizer(b, return_tensors=\"pt\", padding=True, truncation=True).to(device)\n",
        "        with torch.no_grad():\n",
        "            output = model(**input)\n",
        "            outputs.append(output.logits.cpu().numpy())\n",
        "            del input\n",
        "            torch.cuda.empty_cache()\n",
        "\n",
        "else: # Use local model by simply predicting without tokenization\n",
        "    for b in batches: \n",
        "        output = model(b)\n",
        "        outputs.append(output)"
      ]
    },
    {
      "cell_type": "code",
      "execution_count": 82,
      "metadata": {
        "id": "PC5OUBCiRXOL"
      },
      "outputs": [],
      "source": [
        "# Obtain non-adversarial predictions\n",
        "outputs_flatten = [item for sublist in outputs for item in sublist]\n",
        "predictions = [np.argmax(i) for i in outputs_flatten]\n",
        "\n",
        "# Include prediction for these classes in our DataFrame\n",
        "df['original_class_predicted'] = predictions"
      ]
    },
    {
      "cell_type": "code",
      "execution_count": 83,
      "metadata": {
        "id": "hZhfts5KRXOL"
      },
      "outputs": [],
      "source": [
        "# Strip all null values from dataframe\n",
        "df = df.fillna('')\n",
        "\n",
        "# Repeat process for adversarial sentences\n",
        "n = 256\n",
        "batches = [list(df.adversarial_text.values)[i:i + n] for i in range(0, len(df.adversarial_text.values), n)]"
      ]
    },
    {
      "cell_type": "code",
      "execution_count": 84,
      "metadata": {
        "id": "W3rBvyMpRXOL"
      },
      "outputs": [],
      "source": [
        "# Generate predictions for all non-adversarial sentences in our dataset\n",
        "outputs = []\n",
        "\n",
        "if hugging_face_model is True: # Use tokenizer and hugging face pipeline\n",
        "    for b in batches:\n",
        "        input = tokenizer(b, return_tensors=\"pt\", padding=True, truncation=True).to(device)\n",
        "        with torch.no_grad():\n",
        "            output = model(**input)\n",
        "            outputs.append(output.logits.cpu().numpy())\n",
        "            del input\n",
        "            torch.cuda.empty_cache()\n",
        "\n",
        "else: # Use local model by simply predicting without tokenization\n",
        "    for b in batches: \n",
        "        output = model(b)\n",
        "        outputs.append(output)"
      ]
    },
    {
      "cell_type": "code",
      "execution_count": 85,
      "metadata": {
        "id": "Jbhiwih6RXOM"
      },
      "outputs": [],
      "source": [
        "# Obtain adversarial predictions\n",
        "outputs_flatten = [item for sublist in outputs for item in sublist]\n",
        "predictions = [np.argmax(i) for i in outputs_flatten]\n",
        "\n",
        "# Include prediction for these classes in our DataFrame\n",
        "df['adversarial_class_predicted'] = predictions"
      ]
    },
    {
      "cell_type": "code",
      "source": [
        "df"
      ],
      "metadata": {
        "id": "vxtan1hL35xu",
        "outputId": "41fcd39b-e647-43cc-fb4a-b6c88efdbd34",
        "colab": {
          "base_uri": "https://localhost:8080/",
          "height": 582
        }
      },
      "execution_count": 86,
      "outputs": [
        {
          "output_type": "execute_result",
          "data": {
            "text/plain": [
              "     p_val                                      original_text  \\\n",
              "0        1   too often , the viewer is n't reacting to hum...   \n",
              "1        1   in the end , we are left with something like ...   \n",
              "2       -1   no telegraphing is too obvious or simplistic ...   \n",
              "3       -1           a gorgeous , witty , seductive movie .     \n",
              "4        1   the movie achieves as great an impact by keep...   \n",
              "..     ...                                                ...   \n",
              "683     -1   at its worst , it implodes in a series of ver...   \n",
              "684     -1   unfortunately , it 's not silly fun unless yo...   \n",
              "685     -1   dragonfly has no atmosphere , no tension -- n...   \n",
              "686     -1   it provides the grand , intelligent entertain...   \n",
              "687     -1   ... a fun little timewaster , helped especial...   \n",
              "\n",
              "                                      adversarial_text  labels  \\\n",
              "0     the viewer often responds to humor, but they ...       0   \n",
              "1     as long as we don't get any insight into gay ...       0   \n",
              "2     no telegraphing is too obvious or simplistic ...       0   \n",
              "3             a gorgeous , witty , seductive movie .         1   \n",
              "4     in fact, the film will achieve the greatest i...       1   \n",
              "..                                                 ...     ...   \n",
              "683   at its worst , it implodes in a series of ver...       0   \n",
              "684   unfortunately , it 's not silly fun unless yo...       0   \n",
              "685   dragonfly has no atmosphere , no tension -- n...       0   \n",
              "686   it provides the grand , intelligent entertain...       1   \n",
              "687   ... a fun little timewaster , helped especial...       1   \n",
              "\n",
              "     original_class_predicted  adversarial_class_predicted  \n",
              "0                           0                            0  \n",
              "1                           0                            0  \n",
              "2                           1                            1  \n",
              "3                           0                            0  \n",
              "4                           0                            0  \n",
              "..                        ...                          ...  \n",
              "683                         0                            0  \n",
              "684                         0                            0  \n",
              "685                         0                            0  \n",
              "686                         1                            1  \n",
              "687                         0                            0  \n",
              "\n",
              "[688 rows x 6 columns]"
            ],
            "text/html": [
              "\n",
              "  <div id=\"df-b9e5a915-03b7-4b18-a213-10751b644883\">\n",
              "    <div class=\"colab-df-container\">\n",
              "      <div>\n",
              "<style scoped>\n",
              "    .dataframe tbody tr th:only-of-type {\n",
              "        vertical-align: middle;\n",
              "    }\n",
              "\n",
              "    .dataframe tbody tr th {\n",
              "        vertical-align: top;\n",
              "    }\n",
              "\n",
              "    .dataframe thead th {\n",
              "        text-align: right;\n",
              "    }\n",
              "</style>\n",
              "<table border=\"1\" class=\"dataframe\">\n",
              "  <thead>\n",
              "    <tr style=\"text-align: right;\">\n",
              "      <th></th>\n",
              "      <th>p_val</th>\n",
              "      <th>original_text</th>\n",
              "      <th>adversarial_text</th>\n",
              "      <th>labels</th>\n",
              "      <th>original_class_predicted</th>\n",
              "      <th>adversarial_class_predicted</th>\n",
              "    </tr>\n",
              "  </thead>\n",
              "  <tbody>\n",
              "    <tr>\n",
              "      <th>0</th>\n",
              "      <td>1</td>\n",
              "      <td>too often , the viewer is n't reacting to hum...</td>\n",
              "      <td>the viewer often responds to humor, but they ...</td>\n",
              "      <td>0</td>\n",
              "      <td>0</td>\n",
              "      <td>0</td>\n",
              "    </tr>\n",
              "    <tr>\n",
              "      <th>1</th>\n",
              "      <td>1</td>\n",
              "      <td>in the end , we are left with something like ...</td>\n",
              "      <td>as long as we don't get any insight into gay ...</td>\n",
              "      <td>0</td>\n",
              "      <td>0</td>\n",
              "      <td>0</td>\n",
              "    </tr>\n",
              "    <tr>\n",
              "      <th>2</th>\n",
              "      <td>-1</td>\n",
              "      <td>no telegraphing is too obvious or simplistic ...</td>\n",
              "      <td>no telegraphing is too obvious or simplistic ...</td>\n",
              "      <td>0</td>\n",
              "      <td>1</td>\n",
              "      <td>1</td>\n",
              "    </tr>\n",
              "    <tr>\n",
              "      <th>3</th>\n",
              "      <td>-1</td>\n",
              "      <td>a gorgeous , witty , seductive movie .</td>\n",
              "      <td>a gorgeous , witty , seductive movie .</td>\n",
              "      <td>1</td>\n",
              "      <td>0</td>\n",
              "      <td>0</td>\n",
              "    </tr>\n",
              "    <tr>\n",
              "      <th>4</th>\n",
              "      <td>1</td>\n",
              "      <td>the movie achieves as great an impact by keep...</td>\n",
              "      <td>in fact, the film will achieve the greatest i...</td>\n",
              "      <td>1</td>\n",
              "      <td>0</td>\n",
              "      <td>0</td>\n",
              "    </tr>\n",
              "    <tr>\n",
              "      <th>...</th>\n",
              "      <td>...</td>\n",
              "      <td>...</td>\n",
              "      <td>...</td>\n",
              "      <td>...</td>\n",
              "      <td>...</td>\n",
              "      <td>...</td>\n",
              "    </tr>\n",
              "    <tr>\n",
              "      <th>683</th>\n",
              "      <td>-1</td>\n",
              "      <td>at its worst , it implodes in a series of ver...</td>\n",
              "      <td>at its worst , it implodes in a series of ver...</td>\n",
              "      <td>0</td>\n",
              "      <td>0</td>\n",
              "      <td>0</td>\n",
              "    </tr>\n",
              "    <tr>\n",
              "      <th>684</th>\n",
              "      <td>-1</td>\n",
              "      <td>unfortunately , it 's not silly fun unless yo...</td>\n",
              "      <td>unfortunately , it 's not silly fun unless yo...</td>\n",
              "      <td>0</td>\n",
              "      <td>0</td>\n",
              "      <td>0</td>\n",
              "    </tr>\n",
              "    <tr>\n",
              "      <th>685</th>\n",
              "      <td>-1</td>\n",
              "      <td>dragonfly has no atmosphere , no tension -- n...</td>\n",
              "      <td>dragonfly has no atmosphere , no tension -- n...</td>\n",
              "      <td>0</td>\n",
              "      <td>0</td>\n",
              "      <td>0</td>\n",
              "    </tr>\n",
              "    <tr>\n",
              "      <th>686</th>\n",
              "      <td>-1</td>\n",
              "      <td>it provides the grand , intelligent entertain...</td>\n",
              "      <td>it provides the grand , intelligent entertain...</td>\n",
              "      <td>1</td>\n",
              "      <td>1</td>\n",
              "      <td>1</td>\n",
              "    </tr>\n",
              "    <tr>\n",
              "      <th>687</th>\n",
              "      <td>-1</td>\n",
              "      <td>... a fun little timewaster , helped especial...</td>\n",
              "      <td>... a fun little timewaster , helped especial...</td>\n",
              "      <td>1</td>\n",
              "      <td>0</td>\n",
              "      <td>0</td>\n",
              "    </tr>\n",
              "  </tbody>\n",
              "</table>\n",
              "<p>688 rows × 6 columns</p>\n",
              "</div>\n",
              "      <button class=\"colab-df-convert\" onclick=\"convertToInteractive('df-b9e5a915-03b7-4b18-a213-10751b644883')\"\n",
              "              title=\"Convert this dataframe to an interactive table.\"\n",
              "              style=\"display:none;\">\n",
              "        \n",
              "  <svg xmlns=\"http://www.w3.org/2000/svg\" height=\"24px\"viewBox=\"0 0 24 24\"\n",
              "       width=\"24px\">\n",
              "    <path d=\"M0 0h24v24H0V0z\" fill=\"none\"/>\n",
              "    <path d=\"M18.56 5.44l.94 2.06.94-2.06 2.06-.94-2.06-.94-.94-2.06-.94 2.06-2.06.94zm-11 1L8.5 8.5l.94-2.06 2.06-.94-2.06-.94L8.5 2.5l-.94 2.06-2.06.94zm10 10l.94 2.06.94-2.06 2.06-.94-2.06-.94-.94-2.06-.94 2.06-2.06.94z\"/><path d=\"M17.41 7.96l-1.37-1.37c-.4-.4-.92-.59-1.43-.59-.52 0-1.04.2-1.43.59L10.3 9.45l-7.72 7.72c-.78.78-.78 2.05 0 2.83L4 21.41c.39.39.9.59 1.41.59.51 0 1.02-.2 1.41-.59l7.78-7.78 2.81-2.81c.8-.78.8-2.07 0-2.86zM5.41 20L4 18.59l7.72-7.72 1.47 1.35L5.41 20z\"/>\n",
              "  </svg>\n",
              "      </button>\n",
              "      \n",
              "  <style>\n",
              "    .colab-df-container {\n",
              "      display:flex;\n",
              "      flex-wrap:wrap;\n",
              "      gap: 12px;\n",
              "    }\n",
              "\n",
              "    .colab-df-convert {\n",
              "      background-color: #E8F0FE;\n",
              "      border: none;\n",
              "      border-radius: 50%;\n",
              "      cursor: pointer;\n",
              "      display: none;\n",
              "      fill: #1967D2;\n",
              "      height: 32px;\n",
              "      padding: 0 0 0 0;\n",
              "      width: 32px;\n",
              "    }\n",
              "\n",
              "    .colab-df-convert:hover {\n",
              "      background-color: #E2EBFA;\n",
              "      box-shadow: 0px 1px 2px rgba(60, 64, 67, 0.3), 0px 1px 3px 1px rgba(60, 64, 67, 0.15);\n",
              "      fill: #174EA6;\n",
              "    }\n",
              "\n",
              "    [theme=dark] .colab-df-convert {\n",
              "      background-color: #3B4455;\n",
              "      fill: #D2E3FC;\n",
              "    }\n",
              "\n",
              "    [theme=dark] .colab-df-convert:hover {\n",
              "      background-color: #434B5C;\n",
              "      box-shadow: 0px 1px 3px 1px rgba(0, 0, 0, 0.15);\n",
              "      filter: drop-shadow(0px 1px 2px rgba(0, 0, 0, 0.3));\n",
              "      fill: #FFFFFF;\n",
              "    }\n",
              "  </style>\n",
              "\n",
              "      <script>\n",
              "        const buttonEl =\n",
              "          document.querySelector('#df-b9e5a915-03b7-4b18-a213-10751b644883 button.colab-df-convert');\n",
              "        buttonEl.style.display =\n",
              "          google.colab.kernel.accessAllowed ? 'block' : 'none';\n",
              "\n",
              "        async function convertToInteractive(key) {\n",
              "          const element = document.querySelector('#df-b9e5a915-03b7-4b18-a213-10751b644883');\n",
              "          const dataTable =\n",
              "            await google.colab.kernel.invokeFunction('convertToInteractive',\n",
              "                                                     [key], {});\n",
              "          if (!dataTable) return;\n",
              "\n",
              "          const docLinkHtml = 'Like what you see? Visit the ' +\n",
              "            '<a target=\"_blank\" href=https://colab.research.google.com/notebooks/data_table.ipynb>data table notebook</a>'\n",
              "            + ' to learn more about interactive tables.';\n",
              "          element.innerHTML = '';\n",
              "          dataTable['output_type'] = 'display_data';\n",
              "          await google.colab.output.renderOutput(dataTable, element);\n",
              "          const docLink = document.createElement('div');\n",
              "          docLink.innerHTML = docLinkHtml;\n",
              "          element.appendChild(docLink);\n",
              "        }\n",
              "      </script>\n",
              "    </div>\n",
              "  </div>\n",
              "  "
            ]
          },
          "metadata": {},
          "execution_count": 86
        }
      ]
    },
    {
      "cell_type": "code",
      "execution_count": 87,
      "metadata": {
        "id": "liX1ury1RXOM",
        "outputId": "08cf6fba-d942-4163-ad40-c895c34120ca",
        "colab": {
          "base_uri": "https://localhost:8080/",
          "height": 198
        }
      },
      "outputs": [
        {
          "output_type": "error",
          "ename": "AssertionError",
          "evalue": "ignored",
          "traceback": [
            "\u001b[0;31m---------------------------------------------------------------------------\u001b[0m",
            "\u001b[0;31mAssertionError\u001b[0m                            Traceback (most recent call last)",
            "\u001b[0;32m<ipython-input-87-17b26fc4e035>\u001b[0m in \u001b[0;36m<module>\u001b[0;34m()\u001b[0m\n\u001b[1;32m      1\u001b[0m \u001b[0;31m# Select only those sentences for which there was actually a change in the prediction\u001b[0m\u001b[0;34m\u001b[0m\u001b[0;34m\u001b[0m\u001b[0;34m\u001b[0m\u001b[0m\n\u001b[1;32m      2\u001b[0m \u001b[0mcorrect\u001b[0m \u001b[0;34m=\u001b[0m \u001b[0mdf\u001b[0m\u001b[0;34m[\u001b[0m\u001b[0;34m(\u001b[0m\u001b[0mdf\u001b[0m\u001b[0;34m[\u001b[0m\u001b[0;34m'original_class_predicted'\u001b[0m\u001b[0;34m]\u001b[0m \u001b[0;34m!=\u001b[0m \u001b[0mdf\u001b[0m\u001b[0;34m[\u001b[0m\u001b[0;34m'adversarial_class_predicted'\u001b[0m\u001b[0;34m]\u001b[0m\u001b[0;34m)\u001b[0m\u001b[0;34m]\u001b[0m\u001b[0;34m\u001b[0m\u001b[0;34m\u001b[0m\u001b[0m\n\u001b[0;32m----> 3\u001b[0;31m \u001b[0;32massert\u001b[0m \u001b[0mlen\u001b[0m\u001b[0;34m(\u001b[0m\u001b[0mcorrect\u001b[0m\u001b[0;34m)\u001b[0m \u001b[0;34m==\u001b[0m \u001b[0mlen\u001b[0m\u001b[0;34m(\u001b[0m\u001b[0mdf\u001b[0m\u001b[0;34m.\u001b[0m\u001b[0mquery\u001b[0m\u001b[0;34m(\u001b[0m\u001b[0;34m\"p_val == 1\"\u001b[0m\u001b[0;34m)\u001b[0m\u001b[0;34m)\u001b[0m\u001b[0;34m\u001b[0m\u001b[0;34m\u001b[0m\u001b[0m\n\u001b[0m",
            "\u001b[0;31mAssertionError\u001b[0m: "
          ]
        }
      ],
      "source": [
        "# Select only those sentences for which there was actually a change in the prediction\n",
        "correct = df[(df['original_class_predicted'] != df['adversarial_class_predicted'])]\n",
        "assert len(correct) == len(df.query(\"p_val == 1\"))"
      ]
    },
    {
      "cell_type": "code",
      "execution_count": 88,
      "metadata": {
        "id": "QyoFG2NARXON"
      },
      "outputs": [],
      "source": [
        "# Update dataframe and keep only adversarial samples\n",
        "df = correct"
      ]
    },
    {
      "cell_type": "code",
      "source": [
        "# df.head()\n",
        "len(df)\n",
        "df"
      ],
      "metadata": {
        "colab": {
          "base_uri": "https://localhost:8080/",
          "height": 1217
        },
        "id": "SIMxejDUrS_h",
        "outputId": "7eb2e29c-0b7b-4e7b-ec82-1011cdd96c11"
      },
      "execution_count": 89,
      "outputs": [
        {
          "output_type": "execute_result",
          "data": {
            "text/plain": [
              "     p_val                                      original_text  \\\n",
              "7        1   charles ' entertaining film chronicles seinfe...   \n",
              "11       1   the director knows how to apply textural glos...   \n",
              "15       1   it 's a work by an artist so in control of bo...   \n",
              "27       1                    funny but perilously slight .     \n",
              "31       1   sustains its dreamlike glide through a succes...   \n",
              "..     ...                                                ...   \n",
              "631      1   macdowell , whose wifty southern charm has an...   \n",
              "639      1   for anyone unfamiliar with pentacostal practi...   \n",
              "649      1   portentous and pretentious , the weight of wa...   \n",
              "656      1   ... is an arthritic attempt at directing by c...   \n",
              "677      1   ... plays like somebody spliced random moment...   \n",
              "\n",
              "                                      adversarial_text  labels  \\\n",
              "7     in this film, which chronicles the return of ...       1   \n",
              "11    the director knows how to apply the paintbrus...       0   \n",
              "15    it's an artist who controls the medium and th...       1   \n",
              "27              strange, but it's a little dangerous.        1   \n",
              "31    not to mention Rebecca romijn-stamos, the mos...       0   \n",
              "..                                                 ...     ...   \n",
              "631   MacDowell, the wily Southern charm of the Wes...       1   \n",
              "639   it's a eye-opener for anyone who doesn't know...       1   \n",
              "649   it's ominous and pretentious, with the proper...       0   \n",
              "656   ... that Callie Khouri is a strong attempt to...       0   \n",
              "677   ... as the strangest scenes of a classic rock...       0   \n",
              "\n",
              "     original_class_predicted  adversarial_class_predicted  \n",
              "7                           1                            0  \n",
              "11                          1                            0  \n",
              "15                          1                            0  \n",
              "27                          1                            0  \n",
              "31                          0                            1  \n",
              "..                        ...                          ...  \n",
              "631                         1                            0  \n",
              "639                         0                            1  \n",
              "649                         1                            0  \n",
              "656                         1                            0  \n",
              "677                         1                            0  \n",
              "\n",
              "[100 rows x 6 columns]"
            ],
            "text/html": [
              "\n",
              "  <div id=\"df-ad4ea722-7d00-4810-b26d-d3065d23a411\">\n",
              "    <div class=\"colab-df-container\">\n",
              "      <div>\n",
              "<style scoped>\n",
              "    .dataframe tbody tr th:only-of-type {\n",
              "        vertical-align: middle;\n",
              "    }\n",
              "\n",
              "    .dataframe tbody tr th {\n",
              "        vertical-align: top;\n",
              "    }\n",
              "\n",
              "    .dataframe thead th {\n",
              "        text-align: right;\n",
              "    }\n",
              "</style>\n",
              "<table border=\"1\" class=\"dataframe\">\n",
              "  <thead>\n",
              "    <tr style=\"text-align: right;\">\n",
              "      <th></th>\n",
              "      <th>p_val</th>\n",
              "      <th>original_text</th>\n",
              "      <th>adversarial_text</th>\n",
              "      <th>labels</th>\n",
              "      <th>original_class_predicted</th>\n",
              "      <th>adversarial_class_predicted</th>\n",
              "    </tr>\n",
              "  </thead>\n",
              "  <tbody>\n",
              "    <tr>\n",
              "      <th>7</th>\n",
              "      <td>1</td>\n",
              "      <td>charles ' entertaining film chronicles seinfe...</td>\n",
              "      <td>in this film, which chronicles the return of ...</td>\n",
              "      <td>1</td>\n",
              "      <td>1</td>\n",
              "      <td>0</td>\n",
              "    </tr>\n",
              "    <tr>\n",
              "      <th>11</th>\n",
              "      <td>1</td>\n",
              "      <td>the director knows how to apply textural glos...</td>\n",
              "      <td>the director knows how to apply the paintbrus...</td>\n",
              "      <td>0</td>\n",
              "      <td>1</td>\n",
              "      <td>0</td>\n",
              "    </tr>\n",
              "    <tr>\n",
              "      <th>15</th>\n",
              "      <td>1</td>\n",
              "      <td>it 's a work by an artist so in control of bo...</td>\n",
              "      <td>it's an artist who controls the medium and th...</td>\n",
              "      <td>1</td>\n",
              "      <td>1</td>\n",
              "      <td>0</td>\n",
              "    </tr>\n",
              "    <tr>\n",
              "      <th>27</th>\n",
              "      <td>1</td>\n",
              "      <td>funny but perilously slight .</td>\n",
              "      <td>strange, but it's a little dangerous.</td>\n",
              "      <td>1</td>\n",
              "      <td>1</td>\n",
              "      <td>0</td>\n",
              "    </tr>\n",
              "    <tr>\n",
              "      <th>31</th>\n",
              "      <td>1</td>\n",
              "      <td>sustains its dreamlike glide through a succes...</td>\n",
              "      <td>not to mention Rebecca romijn-stamos, the mos...</td>\n",
              "      <td>0</td>\n",
              "      <td>0</td>\n",
              "      <td>1</td>\n",
              "    </tr>\n",
              "    <tr>\n",
              "      <th>...</th>\n",
              "      <td>...</td>\n",
              "      <td>...</td>\n",
              "      <td>...</td>\n",
              "      <td>...</td>\n",
              "      <td>...</td>\n",
              "      <td>...</td>\n",
              "    </tr>\n",
              "    <tr>\n",
              "      <th>631</th>\n",
              "      <td>1</td>\n",
              "      <td>macdowell , whose wifty southern charm has an...</td>\n",
              "      <td>MacDowell, the wily Southern charm of the Wes...</td>\n",
              "      <td>1</td>\n",
              "      <td>1</td>\n",
              "      <td>0</td>\n",
              "    </tr>\n",
              "    <tr>\n",
              "      <th>639</th>\n",
              "      <td>1</td>\n",
              "      <td>for anyone unfamiliar with pentacostal practi...</td>\n",
              "      <td>it's a eye-opener for anyone who doesn't know...</td>\n",
              "      <td>1</td>\n",
              "      <td>0</td>\n",
              "      <td>1</td>\n",
              "    </tr>\n",
              "    <tr>\n",
              "      <th>649</th>\n",
              "      <td>1</td>\n",
              "      <td>portentous and pretentious , the weight of wa...</td>\n",
              "      <td>it's ominous and pretentious, with the proper...</td>\n",
              "      <td>0</td>\n",
              "      <td>1</td>\n",
              "      <td>0</td>\n",
              "    </tr>\n",
              "    <tr>\n",
              "      <th>656</th>\n",
              "      <td>1</td>\n",
              "      <td>... is an arthritic attempt at directing by c...</td>\n",
              "      <td>... that Callie Khouri is a strong attempt to...</td>\n",
              "      <td>0</td>\n",
              "      <td>1</td>\n",
              "      <td>0</td>\n",
              "    </tr>\n",
              "    <tr>\n",
              "      <th>677</th>\n",
              "      <td>1</td>\n",
              "      <td>... plays like somebody spliced random moment...</td>\n",
              "      <td>... as the strangest scenes of a classic rock...</td>\n",
              "      <td>0</td>\n",
              "      <td>1</td>\n",
              "      <td>0</td>\n",
              "    </tr>\n",
              "  </tbody>\n",
              "</table>\n",
              "<p>100 rows × 6 columns</p>\n",
              "</div>\n",
              "      <button class=\"colab-df-convert\" onclick=\"convertToInteractive('df-ad4ea722-7d00-4810-b26d-d3065d23a411')\"\n",
              "              title=\"Convert this dataframe to an interactive table.\"\n",
              "              style=\"display:none;\">\n",
              "        \n",
              "  <svg xmlns=\"http://www.w3.org/2000/svg\" height=\"24px\"viewBox=\"0 0 24 24\"\n",
              "       width=\"24px\">\n",
              "    <path d=\"M0 0h24v24H0V0z\" fill=\"none\"/>\n",
              "    <path d=\"M18.56 5.44l.94 2.06.94-2.06 2.06-.94-2.06-.94-.94-2.06-.94 2.06-2.06.94zm-11 1L8.5 8.5l.94-2.06 2.06-.94-2.06-.94L8.5 2.5l-.94 2.06-2.06.94zm10 10l.94 2.06.94-2.06 2.06-.94-2.06-.94-.94-2.06-.94 2.06-2.06.94z\"/><path d=\"M17.41 7.96l-1.37-1.37c-.4-.4-.92-.59-1.43-.59-.52 0-1.04.2-1.43.59L10.3 9.45l-7.72 7.72c-.78.78-.78 2.05 0 2.83L4 21.41c.39.39.9.59 1.41.59.51 0 1.02-.2 1.41-.59l7.78-7.78 2.81-2.81c.8-.78.8-2.07 0-2.86zM5.41 20L4 18.59l7.72-7.72 1.47 1.35L5.41 20z\"/>\n",
              "  </svg>\n",
              "      </button>\n",
              "      \n",
              "  <style>\n",
              "    .colab-df-container {\n",
              "      display:flex;\n",
              "      flex-wrap:wrap;\n",
              "      gap: 12px;\n",
              "    }\n",
              "\n",
              "    .colab-df-convert {\n",
              "      background-color: #E8F0FE;\n",
              "      border: none;\n",
              "      border-radius: 50%;\n",
              "      cursor: pointer;\n",
              "      display: none;\n",
              "      fill: #1967D2;\n",
              "      height: 32px;\n",
              "      padding: 0 0 0 0;\n",
              "      width: 32px;\n",
              "    }\n",
              "\n",
              "    .colab-df-convert:hover {\n",
              "      background-color: #E2EBFA;\n",
              "      box-shadow: 0px 1px 2px rgba(60, 64, 67, 0.3), 0px 1px 3px 1px rgba(60, 64, 67, 0.15);\n",
              "      fill: #174EA6;\n",
              "    }\n",
              "\n",
              "    [theme=dark] .colab-df-convert {\n",
              "      background-color: #3B4455;\n",
              "      fill: #D2E3FC;\n",
              "    }\n",
              "\n",
              "    [theme=dark] .colab-df-convert:hover {\n",
              "      background-color: #434B5C;\n",
              "      box-shadow: 0px 1px 3px 1px rgba(0, 0, 0, 0.15);\n",
              "      filter: drop-shadow(0px 1px 2px rgba(0, 0, 0, 0.3));\n",
              "      fill: #FFFFFF;\n",
              "    }\n",
              "  </style>\n",
              "\n",
              "      <script>\n",
              "        const buttonEl =\n",
              "          document.querySelector('#df-ad4ea722-7d00-4810-b26d-d3065d23a411 button.colab-df-convert');\n",
              "        buttonEl.style.display =\n",
              "          google.colab.kernel.accessAllowed ? 'block' : 'none';\n",
              "\n",
              "        async function convertToInteractive(key) {\n",
              "          const element = document.querySelector('#df-ad4ea722-7d00-4810-b26d-d3065d23a411');\n",
              "          const dataTable =\n",
              "            await google.colab.kernel.invokeFunction('convertToInteractive',\n",
              "                                                     [key], {});\n",
              "          if (!dataTable) return;\n",
              "\n",
              "          const docLinkHtml = 'Like what you see? Visit the ' +\n",
              "            '<a target=\"_blank\" href=https://colab.research.google.com/notebooks/data_table.ipynb>data table notebook</a>'\n",
              "            + ' to learn more about interactive tables.';\n",
              "          element.innerHTML = '';\n",
              "          dataTable['output_type'] = 'display_data';\n",
              "          await google.colab.output.renderOutput(dataTable, element);\n",
              "          const docLink = document.createElement('div');\n",
              "          docLink.innerHTML = docLinkHtml;\n",
              "          element.appendChild(docLink);\n",
              "        }\n",
              "      </script>\n",
              "    </div>\n",
              "  </div>\n",
              "  "
            ]
          },
          "metadata": {},
          "execution_count": 89
        }
      ]
    },
    {
      "cell_type": "markdown",
      "metadata": {
        "id": "wdtXGwKNRXON"
      },
      "source": [
        "# Obtain logits\n",
        "Once we have the predictions and actually adversarial sentences, we generate the logits differences"
      ]
    },
    {
      "cell_type": "code",
      "execution_count": 21,
      "metadata": {
        "id": "MgFTTcTbRXON"
      },
      "outputs": [],
      "source": [
        "# For large datasets we keep tail. Head is used for training. This way we ensure no intersection\n",
        "if len(df) > 250:\n",
        "    df = df.tail(250)"
      ]
    },
    {
      "cell_type": "code",
      "execution_count": 22,
      "metadata": {
        "id": "47OAgrucRXOO"
      },
      "outputs": [],
      "source": [
        "original_samples = df.original_text.values\n",
        "adversarial_samples = df.adversarial_text.values"
      ]
    },
    {
      "cell_type": "code",
      "execution_count": 23,
      "metadata": {
        "id": "vlX96548RXOO"
      },
      "outputs": [],
      "source": [
        "# Concatenate all original samples and their predictions\n",
        "x = np.concatenate((original_samples, adversarial_samples))\n",
        "y = np.concatenate((np.zeros(len(original_samples)), np.ones(len(adversarial_samples))))"
      ]
    },
    {
      "cell_type": "code",
      "execution_count": 24,
      "metadata": {
        "id": "bmWwOkCBRXOO"
      },
      "outputs": [],
      "source": [
        "def obtain_logits(samples, batch_size, model, tokenizer):\n",
        "    \"\"\"\n",
        "    For given samples and model, compute prediction logits.\n",
        "    Input data is splitted in batches.\n",
        "    \"\"\"\n",
        "    batches = [samples[i:i + batch_size] for i in range(0, len(samples), batch_size)]\n",
        "    logits = []\n",
        "\n",
        "    for i, b in enumerate(batches):\n",
        "        print(\"{}/{}\".format(i+1, len(batches)))\n",
        "        if hugging_face_model:\n",
        "            with torch.no_grad():\n",
        "                input = tokenizer(list(b), return_tensors=\"pt\", padding=True, truncation=True).to(device)\n",
        "                logits.append(model(**input).logits.cpu().numpy())\n",
        "        else:\n",
        "            logits.append(model(b))\n",
        "\n",
        "    return logits"
      ]
    },
    {
      "cell_type": "code",
      "execution_count": 25,
      "metadata": {
        "colab": {
          "base_uri": "https://localhost:8080/"
        },
        "id": "1EUwTgJTRXOP",
        "outputId": "a610b998-ecab-4eb1-9825-bf5a9808305b"
      },
      "outputs": [
        {
          "output_type": "stream",
          "name": "stdout",
          "text": [
            "1/1\n"
          ]
        }
      ],
      "source": [
        "# Compute logits for original sentences\n",
        "batch_size = 350\n",
        "original_logits = obtain_logits(original_samples, batch_size, model, tokenizer)\n",
        "original_logits = np.concatenate(original_logits).reshape(-1, original_logits[0].shape[1])"
      ]
    },
    {
      "cell_type": "code",
      "execution_count": 26,
      "metadata": {
        "id": "mhqfTkguRXOP"
      },
      "outputs": [],
      "source": [
        "torch.cuda.empty_cache()"
      ]
    },
    {
      "cell_type": "code",
      "execution_count": 27,
      "metadata": {
        "colab": {
          "base_uri": "https://localhost:8080/"
        },
        "id": "I65TlI7nRXOP",
        "outputId": "6c644089-0cc8-4764-9fc0-472bf5fccc93"
      },
      "outputs": [
        {
          "output_type": "stream",
          "name": "stdout",
          "text": [
            "1/1\n"
          ]
        }
      ],
      "source": [
        "# Compute logits for adversarial sentences\n",
        "batch_size = 350\n",
        "adversarial_logits = obtain_logits(adversarial_samples, batch_size, model, tokenizer)\n",
        "adversarial_logits = np.concatenate(adversarial_logits).reshape(-1, adversarial_logits[0].shape[1])"
      ]
    },
    {
      "cell_type": "code",
      "execution_count": 28,
      "metadata": {
        "id": "5TctGV4SRXOQ"
      },
      "outputs": [],
      "source": [
        "torch.cuda.empty_cache()"
      ]
    },
    {
      "cell_type": "code",
      "execution_count": 29,
      "metadata": {
        "id": "wgLl536wRXOQ"
      },
      "outputs": [],
      "source": [
        "# Concatenate all logits\n",
        "logits = np.concatenate((original_logits, adversarial_logits))"
      ]
    },
    {
      "cell_type": "code",
      "execution_count": 30,
      "metadata": {
        "id": "0BMxIZbyRXOQ"
      },
      "outputs": [],
      "source": [
        "# Shuffle data\n",
        "import random\n",
        "c = list(zip(x, y, logits))\n",
        "random.shuffle(c)\n",
        "x, y, logits = zip(*c)"
      ]
    },
    {
      "cell_type": "markdown",
      "metadata": {
        "id": "NEe9rNnaRXOQ"
      },
      "source": [
        "## Computing logits difference\n",
        "\n",
        "This is a key step implemented. The main idea is:\n",
        "* For each sentence, replace each word by the `[UNK]` token and compute prediction logits\n",
        "* Using these logits, we can easily compute the saliency of the word as presented in the report.\n",
        "* Then, we sort words by descending saliency.\n",
        "* Finally, compute logits difference for each replacement. This difference is computed as `Logit from class predicted for the whole sentence - Highest remaining logit`\n",
        "\n",
        "More details on these derivations are found in the paper."
      ]
    },
    {
      "cell_type": "code",
      "execution_count": 31,
      "metadata": {
        "id": "jXHXPwaORXOR"
      },
      "outputs": [],
      "source": [
        "def compute_logits_difference(x, logits, y, model, tokenizer, idx, max_sentence_size=512):\n",
        "    n_classes = len(logits[idx])\n",
        "    predicted_class = np.argmax(logits[idx]) # Predicted class for whole sentence using previously computed logits\n",
        "    class_logit = logits[idx][predicted_class] # Store this origianl prediction logit\n",
        "\n",
        "    split_sentence = x[idx].split(' ')[:max_sentence_size] # The tokenizer will only consider 512 words so we avoid computing innecessary logits\n",
        "\n",
        "    new_sentences = []\n",
        "\n",
        "    # Here, we replace each word by [UNK] and generate all sentences to consider\n",
        "    for i, word in enumerate(split_sentence):\n",
        "        new_sentence = copy(split_sentence)\n",
        "        new_sentence[i] = '[UNK]'\n",
        "        new_sentence = ' '.join(new_sentence)\n",
        "        new_sentences.append(new_sentence)\n",
        "\n",
        "    # We cannot run more than 350 predictions simultaneously because of resources.\n",
        "    # Split in batches if necessary.\n",
        "    # Compute logits for all replacements.\n",
        "    if len(new_sentences) > 200:\n",
        "        logits = []\n",
        "        batches = [new_sentences[i:i + 200] for i in range(0, len(new_sentences), 200)]\n",
        "        for b in batches:\n",
        "            if hugging_face_model: # Use hugging face predictions\n",
        "                batch = tokenizer(b, return_tensors=\"pt\", padding=True, truncation=True).to(device)\n",
        "                with torch.no_grad():\n",
        "                    logits.append(model(**batch).logits)\n",
        "            else:\n",
        "                logits.append(model(b).to(device))\n",
        "      \n",
        "        if hugging_face_model:\n",
        "            logits = torch.cat(logits)\n",
        "        else:\n",
        "            logits = np.concatenate( logits, axis=0 )\n",
        "            logits = torch.Tensor(logits)\n",
        "    \n",
        "    else: # There's no need to split in batches\n",
        "        if hugging_face_model:\n",
        "            batch = tokenizer(new_sentences, return_tensors=\"pt\", padding=True, truncation=True).to(device)\n",
        "            with torch.no_grad():\n",
        "                logits = model(**batch).logits\n",
        "            del batch\n",
        "        else:\n",
        "            logits = model(new_sentences)\n",
        "            logits = torch.Tensor(logits)\n",
        "\n",
        "\n",
        "    # Compute saliency\n",
        "    saliency = (class_logit - logits[:,predicted_class]).reshape(-1, 1)\n",
        "\n",
        "    # Append to logits for sorting\n",
        "    data = torch.cat((logits, saliency), 1)\n",
        "\n",
        "    # Sort by descending saliency\n",
        "    data = torch.stack(sorted(data, key=lambda a: a[n_classes], reverse=True))\n",
        "\n",
        "    # Remove saliency\n",
        "    data = data[:, :n_classes]\n",
        "\n",
        "    # Fix order: originallly predicted class, other classes\n",
        "    order = [predicted_class] + [i for i in range(n_classes) if i!=predicted_class]\n",
        "    data = torch.index_select(data, 1, torch.LongTensor(order).to(device))\n",
        "\n",
        "    # Compute difference between predicted class (always first column) and higher remaining logit\n",
        "    data = data[:, :1].flatten() - torch.max(data[:, 1:], dim=1).values.flatten()\n",
        "\n",
        "    del saliency\n",
        "    torch.cuda.empty_cache()\n",
        "\n",
        "    # Return only logits difference\n",
        "    return data.reshape(-1, 1), torch.Tensor([y[idx]]).to(device)"
      ]
    },
    {
      "cell_type": "code",
      "execution_count": 32,
      "metadata": {
        "id": "w0jiWmfYRXOR"
      },
      "outputs": [],
      "source": [
        "def compute_logits_difference_padding(x, logits, y, model, tokenizer, idx, target_size=512):\n",
        "    \"\"\"\n",
        "    This function provides a wrapper for compute_logits_difference and includes padding to computations.\n",
        "    \"\"\"\n",
        "    data, y = compute_logits_difference(x, logits, y, model, tokenizer, idx, target_size)\n",
        "    data_size = min(512, data.shape[0])\n",
        "    target = torch.zeros(target_size, 1).to(device)\n",
        "    target[:data_size, :] = data\n",
        "\n",
        "    return target, y"
      ]
    },
    {
      "cell_type": "code",
      "execution_count": 33,
      "metadata": {
        "id": "hX9l2NiyRXOR"
      },
      "outputs": [],
      "source": [
        "from torch.utils.data import Dataset, DataLoader\n",
        "import sys\n",
        "from torch.autograd import Variable\n",
        "\n",
        "class Text(Dataset):\n",
        "    \"\"\"\n",
        "    Dataloader following torch details. Each time we get an item, we will compute\n",
        "    the logits difference.\n",
        "    \"\"\"\n",
        "    def __init__(self, x , logits, y, model, tokenizer, train=True, max_sentence_size=512):\n",
        "        self.logits = logits\n",
        "        self.y = y\n",
        "        self.x = x\n",
        "        self.model = model\n",
        "        self.tokenizer = tokenizer\n",
        "        self.max_sentence_size = max_sentence_size\n",
        "\n",
        "    def __len__(self):\n",
        "        return len(self.x)\n",
        "\n",
        "    def __getitem__(self, idx):\n",
        "        data, y = compute_logits_difference_padding(self.x, self.logits, self.y, self.model, self.tokenizer, idx, self.max_sentence_size)\n",
        "        data = data[:, :1].unsqueeze(0)\n",
        "\n",
        "        return data, y, self.x[idx]"
      ]
    },
    {
      "cell_type": "code",
      "execution_count": 34,
      "metadata": {
        "id": "XEgjt30oRXOR"
      },
      "outputs": [],
      "source": [
        "# Create the dataloader\n",
        "train_ds = Text(x, logits, y, model, tokenizer)\n",
        "train_loader = DataLoader(dataset=train_ds, batch_size=256, shuffle=True)"
      ]
    },
    {
      "cell_type": "code",
      "execution_count": 35,
      "metadata": {
        "id": "TJk5oRldRXOR"
      },
      "outputs": [],
      "source": [
        "# Define the target DataFrame to structure our data.\n",
        "# It has a column for each input dimension (up to 512) and \n",
        "# it also includes whether it is adversarial or not (y_label) and the sentence from which the logits where extracted\n",
        "\n",
        "data_test = pd.DataFrame(columns=[i for i in range(512)]+['y_label', 'sentence'])"
      ]
    },
    {
      "cell_type": "code",
      "execution_count": 36,
      "metadata": {
        "colab": {
          "base_uri": "https://localhost:8080/"
        },
        "id": "ovTujJdrRXOR",
        "outputId": "9e099ecf-8ab9-4b1e-fe82-540812a0da22"
      },
      "outputs": [
        {
          "output_type": "stream",
          "name": "stdout",
          "text": [
            "0/1 - 0.0\n",
            "\n"
          ]
        }
      ],
      "source": [
        "# Generate logits difference by running the loader.\n",
        "for i, (data, y_label, sentence) in enumerate(train_loader):\n",
        "    print(\"{}/{} - {}\\n\".format(i, len(train_loader), i/len(train_loader)))\n",
        "    for v in range(len(data)):\n",
        "        # Structure data and include in dataframe\n",
        "        row = np.append(data[v].cpu().numpy().reshape(1,-1), np.array([y_label[v].item(), sentence[v]]))\n",
        "        data_test = data_test.append(pd.DataFrame([row], columns=list(data_test)), ignore_index=True)"
      ]
    },
    {
      "cell_type": "markdown",
      "metadata": {
        "id": "ApuQeJ_bRXOS"
      },
      "source": [
        "# Perform test\n",
        "Use logits differences to execute the classifier"
      ]
    },
    {
      "cell_type": "code",
      "execution_count": 37,
      "metadata": {
        "id": "r9TtDiWhroBe"
      },
      "outputs": [],
      "source": [
        "y_test = data_test['y_label'].astype(float).values\n",
        "x_test = data_test.drop(columns=['y_label', 'sentence']).values"
      ]
    },
    {
      "cell_type": "code",
      "execution_count": 38,
      "metadata": {
        "colab": {
          "base_uri": "https://localhost:8080/"
        },
        "id": "htk_TwGLXlcl",
        "outputId": "5639f1d3-82d8-43e7-e42d-22674f0a0cdf"
      },
      "outputs": [
        {
          "output_type": "execute_result",
          "data": {
            "text/plain": [
              "0     zhang ... has done an amazing job of getting ...\n",
              "1     nine queens is not only a terrifying and dang...\n",
              "2     so devoid of any kind of intelligible story t...\n",
              "3     it's not a peckish ornery potpourri of a rich...\n",
              "4     but the power of these ( subjects ) is obscur...\n",
              "Name: sentence, dtype: object"
            ]
          },
          "metadata": {},
          "execution_count": 38
        }
      ],
      "source": [
        "data_test['sentence'].head(5)"
      ]
    },
    {
      "cell_type": "markdown",
      "metadata": {
        "id": "-PV3Oo2hHW9d"
      },
      "source": [
        "# Model and prediction\n",
        "\n",
        "Load model and make predictions"
      ]
    },
    {
      "cell_type": "code",
      "execution_count": 39,
      "metadata": {
        "id": "_A9jRI67HY7x",
        "colab": {
          "base_uri": "https://localhost:8080/"
        },
        "outputId": "88369df2-ffec-44e0-97bf-5271afa87f51"
      },
      "outputs": [
        {
          "output_type": "stream",
          "name": "stderr",
          "text": [
            "/usr/local/lib/python3.7/dist-packages/sklearn/base.py:338: UserWarning: Trying to unpickle estimator LabelEncoder from version 0.22.2.post1 when using version 1.0.2. This might lead to breaking code or invalid results. Use at your own risk. For more info please refer to:\n",
            "https://scikit-learn.org/stable/modules/model_persistence.html#security-maintainability-limitations\n",
            "  UserWarning,\n"
          ]
        }
      ],
      "source": [
        "import pickle\n",
        "\n",
        "model = pickle.load(open(MODEL_PATH, \"rb\"))"
      ]
    },
    {
      "cell_type": "code",
      "execution_count": 40,
      "metadata": {
        "id": "IfdT4B1iHtBf"
      },
      "outputs": [],
      "source": [
        "predictions_raw = model.predict_proba(x_test)"
      ]
    },
    {
      "cell_type": "code",
      "execution_count": 41,
      "metadata": {
        "colab": {
          "base_uri": "https://localhost:8080/"
        },
        "id": "n1HV72U8HzSI",
        "outputId": "2d814e6c-4cbb-49a2-df41-6947c43871fd"
      },
      "outputs": [
        {
          "output_type": "execute_result",
          "data": {
            "text/plain": [
              "array([[0.77353257, 0.22646743],\n",
              "       [0.96731156, 0.03268846],\n",
              "       [0.9835267 , 0.01647329]], dtype=float32)"
            ]
          },
          "metadata": {},
          "execution_count": 41
        }
      ],
      "source": [
        "predictions_raw[:3]"
      ]
    },
    {
      "cell_type": "code",
      "execution_count": 42,
      "metadata": {
        "id": "LheN7dV7IeyM"
      },
      "outputs": [],
      "source": [
        "predictions_raw = predictions_raw[:,1]"
      ]
    },
    {
      "cell_type": "code",
      "execution_count": 43,
      "metadata": {
        "id": "AfF2HNN3IndX"
      },
      "outputs": [],
      "source": [
        "predictions = predictions_raw.round()"
      ]
    },
    {
      "cell_type": "code",
      "execution_count": 44,
      "metadata": {
        "id": "iTLSBhdMH24K"
      },
      "outputs": [],
      "source": [
        "data_test['y_hat'] = predictions\n",
        "data_test['y_prob'] = predictions_raw\n",
        "data_test['y'] = y_test"
      ]
    },
    {
      "cell_type": "markdown",
      "metadata": {
        "id": "z7HZeFDYAZoH"
      },
      "source": [
        "# Metrics and errors\n",
        "\n",
        "Analyze the results"
      ]
    },
    {
      "cell_type": "code",
      "execution_count": 45,
      "metadata": {
        "colab": {
          "base_uri": "https://localhost:8080/"
        },
        "id": "XfiRCst4cidY",
        "outputId": "44481fec-aad7-4e67-bfe3-ffce1045d0bf"
      },
      "outputs": [
        {
          "output_type": "execute_result",
          "data": {
            "text/plain": [
              "array([[21, 79],\n",
              "       [65, 35]])"
            ]
          },
          "metadata": {},
          "execution_count": 45
        }
      ],
      "source": [
        "from sklearn.metrics import confusion_matrix\n",
        "confusion_matrix(y_test, predictions)"
      ]
    },
    {
      "cell_type": "code",
      "execution_count": 46,
      "metadata": {
        "colab": {
          "base_uri": "https://localhost:8080/"
        },
        "id": "pyIP6l488CYo",
        "outputId": "366b580b-d35c-4553-ada2-bd59230299c3"
      },
      "outputs": [
        {
          "output_type": "stream",
          "name": "stdout",
          "text": [
            "              precision    recall  f1-score   support\n",
            "\n",
            "         0.0      0.244     0.210     0.226       100\n",
            "         1.0      0.307     0.350     0.327       100\n",
            "\n",
            "    accuracy                          0.280       200\n",
            "   macro avg      0.276     0.280     0.276       200\n",
            "weighted avg      0.276     0.280     0.276       200\n",
            "\n"
          ]
        }
      ],
      "source": [
        "from sklearn.metrics import classification_report\n",
        "print(classification_report(y_test, predictions, digits=3))"
      ]
    },
    {
      "cell_type": "code",
      "execution_count": 47,
      "metadata": {
        "colab": {
          "base_uri": "https://localhost:8080/",
          "height": 445
        },
        "id": "BMtuez3LVVh4",
        "outputId": "1fd445a7-2139-45f0-9e03-f813b0d1c3a9"
      },
      "outputs": [
        {
          "output_type": "execute_result",
          "data": {
            "text/plain": [
              "<matplotlib.axes._subplots.AxesSubplot at 0x7fe7c33949d0>"
            ]
          },
          "metadata": {},
          "execution_count": 47
        },
        {
          "output_type": "display_data",
          "data": {
            "text/plain": [
              "<Figure size 720x504 with 2 Axes>"
            ],
            "image/png": "[encoded data removed]"
          },
          "metadata": {
            "needs_background": "light"
          }
        }
      ],
      "source": [
        "import matplotlib.pyplot as plt\n",
        "import seaborn as sn\n",
        "plt.figure(figsize = (10,7))\n",
        "sn.heatmap(confusion_matrix(y_test, predictions), annot=True, cmap='Blues', fmt='g',  annot_kws={\"fontsize\":24})"
      ]
    },
    {
      "cell_type": "markdown",
      "metadata": {
        "id": "r6zM88SzJV0m"
      },
      "source": [
        "# Shifting cutoff\n",
        "\n",
        "We tried different values for the decision cutoff value to see whether we could further increase adversarial recall."
      ]
    },
    {
      "cell_type": "code",
      "execution_count": 48,
      "metadata": {
        "id": "Gz__4eHAgtBn"
      },
      "outputs": [],
      "source": [
        "new_y_hat = np.where(predictions_raw>0.4, 1, 0)"
      ]
    },
    {
      "cell_type": "code",
      "execution_count": 49,
      "metadata": {
        "colab": {
          "base_uri": "https://localhost:8080/"
        },
        "id": "YC224mFZhDmL",
        "outputId": "1c9e517c-93a4-48ab-da7c-e6b23cf02f10"
      },
      "outputs": [
        {
          "output_type": "execute_result",
          "data": {
            "text/plain": [
              "array([0, 0, 0, 1, 1, 0, 1, 1, 1, 1])"
            ]
          },
          "metadata": {},
          "execution_count": 49
        }
      ],
      "source": [
        "new_y_hat[:10]"
      ]
    },
    {
      "cell_type": "code",
      "execution_count": 50,
      "metadata": {
        "colab": {
          "base_uri": "https://localhost:8080/",
          "height": 445
        },
        "id": "R_-geDqBhLET",
        "outputId": "4a25410c-3470-4448-dc32-a28ea9eb0e0e"
      },
      "outputs": [
        {
          "output_type": "execute_result",
          "data": {
            "text/plain": [
              "<matplotlib.axes._subplots.AxesSubplot at 0x7fe7c24f25d0>"
            ]
          },
          "metadata": {},
          "execution_count": 50
        },
        {
          "output_type": "display_data",
          "data": {
            "text/plain": [
              "<Figure size 720x504 with 2 Axes>"
            ],
            "image/png": "[encoded data removed]"
          },
          "metadata": {
            "needs_background": "light"
          }
        }
      ],
      "source": [
        "import matplotlib.pyplot as plt\n",
        "import seaborn as sn\n",
        "plt.figure(figsize = (10,7))\n",
        "sn.heatmap(confusion_matrix(y_test, new_y_hat), annot=True, cmap='Blues', fmt='g',  annot_kws={\"fontsize\":24})"
      ]
    },
    {
      "cell_type": "code",
      "execution_count": 51,
      "metadata": {
        "colab": {
          "base_uri": "https://localhost:8080/"
        },
        "id": "smvsakGNhL7v",
        "outputId": "6dd9382a-272a-43fc-e469-ba925a14049a"
      },
      "outputs": [
        {
          "output_type": "stream",
          "name": "stdout",
          "text": [
            "              precision    recall  f1-score   support\n",
            "\n",
            "         0.0      0.241     0.190     0.212       100\n",
            "         1.0      0.331     0.400     0.362       100\n",
            "\n",
            "    accuracy                          0.295       200\n",
            "   macro avg      0.286     0.295     0.287       200\n",
            "weighted avg      0.286     0.295     0.287       200\n",
            "\n"
          ]
        }
      ],
      "source": [
        "from sklearn.metrics import classification_report\n",
        "print(classification_report(y_test, new_y_hat, digits=3))"
      ]
    },
    {
      "cell_type": "markdown",
      "metadata": {
        "id": "XeApkl6cJcKK"
      },
      "source": [
        "### 0.3"
      ]
    },
    {
      "cell_type": "code",
      "execution_count": 52,
      "metadata": {
        "id": "fyoUhwyBiAYi"
      },
      "outputs": [],
      "source": [
        "new_y_hat = np.where(predictions_raw>0.3, 1, 0)"
      ]
    },
    {
      "cell_type": "code",
      "execution_count": 53,
      "metadata": {
        "colab": {
          "base_uri": "https://localhost:8080/"
        },
        "id": "JN3cU2RfiAYi",
        "outputId": "1c6a262f-860c-460d-f541-a91f85e21129"
      },
      "outputs": [
        {
          "output_type": "execute_result",
          "data": {
            "text/plain": [
              "array([0, 0, 0, 1, 1, 0, 1, 1, 1, 1])"
            ]
          },
          "metadata": {},
          "execution_count": 53
        }
      ],
      "source": [
        "new_y_hat[:10]"
      ]
    },
    {
      "cell_type": "code",
      "execution_count": 54,
      "metadata": {
        "colab": {
          "base_uri": "https://localhost:8080/",
          "height": 445
        },
        "id": "5eKQwbVIiAYk",
        "outputId": "b72ca8fe-c8d1-475d-992f-9b79b162b955"
      },
      "outputs": [
        {
          "output_type": "execute_result",
          "data": {
            "text/plain": [
              "<matplotlib.axes._subplots.AxesSubplot at 0x7fe79e748450>"
            ]
          },
          "metadata": {},
          "execution_count": 54
        },
        {
          "output_type": "display_data",
          "data": {
            "text/plain": [
              "<Figure size 720x504 with 2 Axes>"
            ],
            "image/png": "[encoded data removed]"
          },
          "metadata": {
            "needs_background": "light"
          }
        }
      ],
      "source": [
        "import matplotlib.pyplot as plt\n",
        "import seaborn as sn\n",
        "plt.figure(figsize = (10,7))\n",
        "sn.heatmap(confusion_matrix(y_test, new_y_hat), annot=True, cmap='Blues', fmt='g',  annot_kws={\"fontsize\":24})"
      ]
    },
    {
      "cell_type": "code",
      "execution_count": 55,
      "metadata": {
        "colab": {
          "base_uri": "https://localhost:8080/"
        },
        "id": "ut13af-WiAYl",
        "outputId": "b3a37f01-1db6-4bce-95aa-3626ec4e7c1e"
      },
      "outputs": [
        {
          "output_type": "stream",
          "name": "stdout",
          "text": [
            "              precision    recall  f1-score   support\n",
            "\n",
            "         0.0      0.243     0.180     0.207       100\n",
            "         1.0      0.349     0.440     0.389       100\n",
            "\n",
            "    accuracy                          0.310       200\n",
            "   macro avg      0.296     0.310     0.298       200\n",
            "weighted avg      0.296     0.310     0.298       200\n",
            "\n"
          ]
        }
      ],
      "source": [
        "from sklearn.metrics import classification_report\n",
        "print(classification_report(y_test, new_y_hat, digits=3))"
      ]
    },
    {
      "cell_type": "markdown",
      "metadata": {
        "id": "9qZ_LXtgJh94"
      },
      "source": [
        "### 0.15"
      ]
    },
    {
      "cell_type": "code",
      "execution_count": 56,
      "metadata": {
        "id": "UfAm5D1bjG3X"
      },
      "outputs": [],
      "source": [
        "new_y_hat = np.where(predictions_raw>0.15, 1, 0)"
      ]
    },
    {
      "cell_type": "code",
      "execution_count": 57,
      "metadata": {
        "colab": {
          "base_uri": "https://localhost:8080/"
        },
        "id": "yhPODTkVjG3a",
        "outputId": "8feaec98-2116-45dc-da04-eef8987c9c2d"
      },
      "outputs": [
        {
          "output_type": "execute_result",
          "data": {
            "text/plain": [
              "array([1, 0, 0, 1, 1, 0, 1, 1, 1, 1])"
            ]
          },
          "metadata": {},
          "execution_count": 57
        }
      ],
      "source": [
        "new_y_hat[:10]"
      ]
    },
    {
      "cell_type": "code",
      "execution_count": 58,
      "metadata": {
        "colab": {
          "base_uri": "https://localhost:8080/",
          "height": 445
        },
        "id": "MWf3EfjFjG3c",
        "outputId": "6e982ac9-9057-438e-c302-25c00188d1bc"
      },
      "outputs": [
        {
          "output_type": "execute_result",
          "data": {
            "text/plain": [
              "<matplotlib.axes._subplots.AxesSubplot at 0x7fe79e6be750>"
            ]
          },
          "metadata": {},
          "execution_count": 58
        },
        {
          "output_type": "display_data",
          "data": {
            "text/plain": [
              "<Figure size 720x504 with 2 Axes>"
            ],
            "image/png": "[encoded data removed]"
          },
          "metadata": {
            "needs_background": "light"
          }
        }
      ],
      "source": [
        "import matplotlib.pyplot as plt\n",
        "import seaborn as sn\n",
        "plt.figure(figsize = (10,7))\n",
        "sn.heatmap(confusion_matrix(y_test, new_y_hat), annot=True, cmap='Blues', fmt='g',  annot_kws={\"fontsize\":24})"
      ]
    },
    {
      "cell_type": "code",
      "execution_count": 59,
      "metadata": {
        "colab": {
          "base_uri": "https://localhost:8080/"
        },
        "id": "wfi0qsfwjG3d",
        "outputId": "61cbbbc8-df4e-407c-a3bf-b4713801cc9e"
      },
      "outputs": [
        {
          "output_type": "stream",
          "name": "stdout",
          "text": [
            "              precision    recall  f1-score   support\n",
            "\n",
            "         0.0      0.246     0.160     0.194       100\n",
            "         1.0      0.378     0.510     0.434       100\n",
            "\n",
            "    accuracy                          0.335       200\n",
            "   macro avg      0.312     0.335     0.314       200\n",
            "weighted avg      0.312     0.335     0.314       200\n",
            "\n"
          ]
        }
      ],
      "source": [
        "from sklearn.metrics import classification_report\n",
        "print(classification_report(y_test, new_y_hat, digits=3))"
      ]
    },
    {
      "cell_type": "markdown",
      "metadata": {
        "id": "LLDuWG8mHJ_q"
      },
      "source": [
        "# Density chart"
      ]
    },
    {
      "cell_type": "code",
      "execution_count": 60,
      "metadata": {
        "colab": {
          "base_uri": "https://localhost:8080/",
          "height": 596
        },
        "id": "K_xawsJjF6BU",
        "outputId": "773bceef-d204-463b-fc64-ed01b42b6ba4"
      },
      "outputs": [
        {
          "output_type": "stream",
          "name": "stderr",
          "text": [
            "/usr/local/lib/python3.7/dist-packages/distributed/config.py:20: YAMLLoadWarning: calling yaml.load() without Loader=... is deprecated, as the default Loader is unsafe. Please read https://msg.pyyaml.org/load for full details.\n",
            "  defaults = yaml.load(f)\n"
          ]
        },
        {
          "output_type": "display_data",
          "data": {
            "text/html": [
              "<html>\n",
              "<head><meta charset=\"utf-8\" /></head>\n",
              "<body>\n",
              "    <div>            <script src=\"https://cdnjs.cloudflare.com/ajax/libs/mathjax/2.7.5/MathJax.js?config=TeX-AMS-MML_SVG\"></script><script type=\"text/javascript\">if (window.MathJax) {MathJax.Hub.Config({SVG: {font: \"STIX-Web\"}});}</script>                <script type=\"text/javascript\">window.PlotlyConfig = {MathJaxConfig: 'local'};</script>\n",
              "        <script src=\"https://cdn.plot.ly/plotly-2.8.3.min.js\"></script>                <div id=\"a1d1d706-cbba-42c0-9e0c-aafc5dd3ce0b\" class=\"plotly-graph-div\" style=\"height:525px; width:100%;\"></div>            <script type=\"text/javascript\">                                    window.PLOTLYENV=window.PLOTLYENV || {};                                    if (document.getElementById(\"a1d1d706-cbba-42c0-9e0c-aafc5dd3ce0b\")) {                    Plotly.newPlot(                        \"a1d1d706-cbba-42c0-9e0c-aafc5dd3ce0b\",                        [{\"legendgroup\":\"Adversarial\",\"marker\":{\"color\":\"#C04000\"},\"mode\":\"lines\",\"name\":\"Adversarial\",\"showlegend\":true,\"x\":[0.005362642463296652,0.007331333906389773,0.009300025349482894,0.011268716792576015,0.013237408235669136,0.015206099678762257,0.017174791121855378,0.0191434825649485,0.02111217400804162,0.02308086545113474,0.025049556894227862,0.027018248337320982,0.028986939780414105,0.030955631223507224,0.03292432266660035,0.03489301410969346,0.03686170555278659,0.03883039699587971,0.04079908843897283,0.042767779882065954,0.04473647132515907,0.04670516276825219,0.04867385421134531,0.05064254565443844,0.05261123709753156,0.05457992854062468,0.056548619983717796,0.05851731142681092,0.06048600286990404,0.06245469431299716,0.06442338575609027,0.06639207719918341,0.06836076864227653,0.07032946008536965,0.07229815152846276,0.07426684297155589,0.076235534414649,0.07820422585774213,0.08017291730083526,0.08214160874392837,0.0841103001870215,0.08607899163011462,0.08804768307320773,0.09001637451630086,0.09198506595939397,0.0939537574024871,0.09592244884558022,0.09789114028867334,0.09985983173176646,0.10182852317485959,0.1037972146179527,0.10576590606104583,0.10773459750413894,0.10970328894723207,0.11167198039032519,0.1136406718334183,0.11560936327651143,0.11757805471960456,0.11954674616269767,0.1215154376057908,0.12348412904888391,0.12545282049197704,0.12742151193507018,0.12939020337816326,0.1313588948212564,0.1333275862643495,0.13529627770744265,0.13726496915053576,0.13923366059362888,0.14120235203672202,0.14317104347981513,0.14513973492290824,0.14710842636600135,0.1490771178090945,0.1510458092521876,0.15301450069528072,0.15498319213837386,0.15695188358146697,0.15892057502456008,0.16088926646765322,0.16285795791074634,0.16482664935383945,0.1667953407969326,0.1687640322400257,0.17073272368311881,0.17270141512621195,0.17467010656930507,0.17663879801239818,0.1786074894554913,0.18057618089858443,0.18254487234167754,0.18451356378477066,0.1864822552278638,0.1884509466709569,0.19041963811405002,0.19238832955714316,0.19435702100023627,0.1963257124433294,0.19829440388642253,0.20026309532951564,0.20223178677260875,0.2042004782157019,0.206169169658795,0.20813786110188812,0.21010655254498123,0.21207524398807437,0.21404393543116748,0.2160126268742606,0.21798131831735373,0.21995000976044685,0.22191870120353996,0.2238873926466331,0.2258560840897262,0.22782477553281932,0.22979346697591246,0.23176215841900558,0.2337308498620987,0.23569954130519183,0.23766823274828494,0.23963692419137805,0.24160561563447117,0.2435743070775643,0.24554299852065742,0.24751168996375053,0.24948038140684367,0.2514490728499368,0.25341776429302987,0.255386455736123,0.25735514717921615,0.2593238386223093,0.2612925300654024,0.2632612215084955,0.26522991295158865,0.26719860439468174,0.2691672958377749,0.271135987280868,0.2731046787239611,0.27507337016705424,0.2770420616101474,0.27901075305324047,0.2809794444963336,0.2829481359394267,0.28491682738251983,0.286885518825613,0.28885421026870606,0.2908229017117992,0.29279159315489234,0.2947602845979854,0.29672897604107856,0.2986976674841717,0.3006663589272648,0.3026350503703579,0.30460374181345107,0.30657243325654415,0.3085411246996373,0.31050981614273043,0.3124785075858235,0.31444719902891666,0.3164158904720098,0.3183845819151029,0.320353273358196,0.32232196480128916,0.32429065624438225,0.3262593476874754,0.3282280391305685,0.3301967305736616,0.33216542201675475,0.3341341134598479,0.336102804902941,0.3380714963460341,0.34004018778912726,0.34200887923222034,0.3439775706753135,0.34594626211840657,0.3479149535614997,0.34988364500459285,0.35185233644768593,0.35382102789077907,0.3557897193338722,0.3577584107769653,0.35972710222005844,0.3616957936631516,0.36366448510624466,0.3656331765493378,0.36760186799243094,0.369570559435524,0.37153925087861717,0.3735079423217103,0.3754766337648034,0.37744532520789653,0.37941401665098967,0.38138270809408276,0.3833513995371759,0.38532009098026904,0.3872887824233621,0.38925747386645526,0.3912261653095484,0.3931948567526415,0.3951635481957346,0.39713223963882777,0.39910093108192085,0.401069622525014,0.40303831396810713,0.4050070054112002,0.40697569685429336,0.40894438829738644,0.4109130797404796,0.4128817711835727,0.4148504626266658,0.41681915406975895,0.4187878455128521,0.42075653695594517,0.4227252283990383,0.42469391984213145,0.42666261128522454,0.4286313027283177,0.4305999941714108,0.4325686856145039,0.43453737705759704,0.4365060685006902,0.43847475994378327,0.4404434513868764,0.44241214282996955,0.44438083427306263,0.44634952571615577,0.4483182171592489,0.450286908602342,0.45225560004543514,0.4542242914885283,0.45619298293162136,0.4581616743747145,0.46013036581780764,0.4620990572609007,0.46406774870399387,0.466036440147087,0.4680051315901801,0.46997382303327323,0.4719425144763663,0.47391120591945946,0.4758798973625526,0.4778485888056457,0.4798172802487388,0.48178597169183196,0.48375466313492504,0.4857233545780182,0.4876920460211113,0.4896607374642044,0.49162942890729755,0.4935981203503907,0.4955668117934838,0.4975355032365769,0.49950419467967005,0.5014728861227631,0.5034415775658563,0.5054102690089494,0.5073789604520426,0.5093476518951356,0.5113163433382287,0.5132850347813219,0.515253726224415,0.5172224176675081,0.5191911091106013,0.5211598005536944,0.5231284919967875,0.5250971834398807,0.5270658748829737,0.5290345663260668,0.53100325776916,0.5329719492122531,0.5349406406553462,0.5369093320984394,0.5388780235415325,0.5408467149846256,0.5428154064277187,0.5447840978708118,0.5467527893139049,0.5487214807569981,0.5506901722000912,0.5526588636431843,0.5546275550862775,0.5565962465293706,0.5585649379724636,0.5605336294155567,0.5625023208586499,0.564471012301743,0.5664397037448361,0.5684083951879293,0.5703770866310224,0.5723457780741155,0.5743144695172087,0.5762831609603017,0.5782518524033948,0.580220543846488,0.5821892352895811,0.5841579267326742,0.5861266181757674,0.5880953096188605,0.5900640010619536,0.5920326925050468,0.5940013839481398,0.5959700753912329,0.5979387668343261,0.5999074582774192,0.6018761497205123,0.6038448411636055,0.6058135326066986,0.6077822240497917,0.6097509154928848,0.6117196069359779,0.613688298379071,0.6156569898221642,0.6176256812652573,0.6195943727083504,0.6215630641514436,0.6235317555945367,0.6255004470376297,0.6274691384807229,0.629437829923816,0.6314065213669091,0.6333752128100023,0.6353439042530954,0.6373125956961885,0.6392812871392817,0.6412499785823748,0.6432186700254678,0.645187361468561,0.6471560529116541,0.6491247443547472,0.6510934357978404,0.6530621272409335,0.6550308186840266,0.6569995101271198,0.6589682015702129,0.6609368930133059,0.6629055844563991,0.6648742758994922,0.6668429673425853,0.6688116587856785,0.6707803502287716,0.6727490416718647,0.6747177331149579,0.676686424558051,0.678655116001144,0.6806238074442372,0.6825924988873303,0.6845611903304234,0.6865298817735165,0.6884985732166097,0.6904672646597028,0.6924359561027958,0.694404647545889,0.6963733389889821,0.6983420304320752,0.7003107218751684,0.7022794133182615,0.7042481047613546,0.7062167962044478,0.7081854876475409,0.7101541790906339,0.7121228705337271,0.7140915619768202,0.7160602534199133,0.7180289448630065,0.7199976363060996,0.7219663277491927,0.7239350191922859,0.725903710635379,0.727872402078472,0.7298410935215652,0.7318097849646583,0.7337784764077514,0.7357471678508446,0.7377158592939377,0.7396845507370308,0.741653242180124,0.743621933623217,0.7455906250663101,0.7475593165094033,0.7495280079524964,0.7514966993955895,0.7534653908386827,0.7554340822817758,0.7574027737248689,0.7593714651679621,0.7613401566110551,0.7633088480541482,0.7652775394972414,0.7672462309403345,0.7692149223834276,0.7711836138265208,0.7731523052696139,0.775120996712707,0.7770896881558002,0.7790583795988932,0.7810270710419863,0.7829957624850795,0.7849644539281726,0.7869331453712657,0.7889018368143589,0.790870528257452,0.792839219700545,0.7948079111436382,0.7967766025867313,0.7987452940298244,0.8007139854729176,0.8026826769160107,0.8046513683591038,0.8066200598021969,0.8085887512452901,0.8105574426883831,0.8125261341314762,0.8144948255745694,0.8164635170176625,0.8184322084607556,0.8204008999038488,0.8223695913469419,0.824338282790035,0.8263069742331282,0.8282756656762212,0.8302443571193143,0.8322130485624075,0.8341817400055006,0.8361504314485937,0.8381191228916869,0.84008781433478,0.842056505777873,0.8440251972209663,0.8459938886640593,0.8479625801071524,0.8499312715502456,0.8518999629933387,0.8538686544364318,0.855837345879525,0.8578060373226181,0.8597747287657111,0.8617434202088043,0.8637121116518974,0.8656808030949905,0.8676494945380837,0.8696181859811768,0.8715868774242699,0.8735555688673631,0.8755242603104562,0.8774929517535492,0.8794616431966424,0.8814303346397355,0.8833990260828286,0.8853677175259218,0.8873364089690149,0.889305100412108,0.8912737918552012,0.8932424832982943,0.8952111747413873,0.8971798661844805,0.8991485576275736,0.9011172490706667,0.9030859405137599,0.905054631956853,0.9070233233999461,0.9089920148430393,0.9109607062861323,0.9129293977292254,0.9148980891723186,0.9168667806154117,0.9188354720585048,0.920804163501598,0.9227728549446911,0.9247415463877842,0.9267102378308774,0.9286789292739704,0.9306476207170635,0.9326163121601566,0.9345850036032498,0.9365536950463429,0.938522386489436,0.9404910779325292,0.9424597693756223,0.9444284608187153,0.9463971522618085,0.9483658437049016,0.9503345351479947,0.9523032265910879,0.954271918034181,0.9562406094772741,0.9582093009203673,0.9601779923634604,0.9621466838065534,0.9641153752496466,0.9660840666927397,0.9680527581358328,0.970021449578926,0.9719901410220191,0.9739588324651122,0.9759275239082054,0.9778962153512984,0.9798649067943915,0.9818335982374847,0.9838022896805778,0.9857709811236709,0.9877396725667641],\"xaxis\":\"x\",\"y\":[1.2556830983991885,1.2590212816918733,1.2622065311668857,1.2652381387323284,1.2681154660927851,1.2708379451167091,1.2734050781504382,1.275816438278532,1.2780716695302108,1.2801704870317259,1.282112677104537,1.2838980973092355,1.2855266764352287,1.2869984144362112,1.2883133823115769,1.2894717219338967,1.2904736458227308,1.2913194368650254,1.2920094479824606,1.292544101746124,1.2929238899389732,1.293149373066585,1.2932211798167585,1.2931400064685705,1.2929066162515543,1.292521838655719,1.2919865686931675,1.2913017661121164,1.29046845456422,1.2894877207260411,1.288360713375683,1.2870886424255383,1.2856727779122261,1.2841144489447633,1.2824150426121284,1.2805760028513447,1.2785988292773003,1.276485075975535,1.2742363502592366,1.2718543113917766,1.2693406692760818,1.2666971831122218,1.2639256600245667,1.2610279536599551,1.2580059627582694,1.2548616296968857,1.2515969390104715,1.2482139158876013,1.2447146246457148,1.241101167185906,1.2373756814291101,1.233540339735171,1.229597347306396,1.2255489405770974,1.2213973855907043,1.2171449763659972,1.2127940332540101,1.2083469012871777,1.2038059485222532,1.199173564378571,1.1944521579731717,1.189644156454327,1.1847520033349952,1.1797781568276957,1.1747250881823117,1.1695952800282852,1.1643912247226795,1.1591154227055325,1.1537703808639377,1.1483586109062396,1.1428826277477173,1.1373449479091235,1.131748087929369,1.126094562793691,1.120386884378526,1.1146275599143627,1.1088190904677586,1.1029639694436915,1.097064681109402,1.0911236991408118,1.085143485192603,1.0791264874929745,1.0730751394640945,1.0669918583691815,1.0608790439871507,1.054739077315701,1.0485743193036772,1.0423871096135162,1.0361797654145348,1.0299545802077654,1.0237138226830411,1.0174597356089297,1.0111945347561502,1.004920407854988,0.9986395135872344,0.9923539806131156,0.9860659066336354,0.979777357488701,0.9734903662913971,0.9672069325986818,0.9609290216187715,0.9546585634554349,0.9483974523893621,0.9421475461967413,0.935910665505154,0.9296885931868154,0.9234830737892046,0.9172958130030352,0.9111284771675306,0.9049826928128798,0.8988600462397638,0.8927620831357632,0.8866903082284573,0.8806461849749583,0.8746311352876313,0.8686465392956698,0.8626937351422143,0.856774018816629,0.8508886440215487,0.8450388220742795,0.8392257218420758,0.8334504697108512,0.8277141495867822,0.8220178029303059,0.816362428821939,0.8107489840593574,0.8051783832851338,0.7996514991445213,0.7941691624726481,0.7887321625104678,0.7833412471488006,0.7779971231997856,0.7727004566950242,0.767451873209736,0.7622519582121644,0.7571012574375325,0.7520002772857721,0.7469494852422895,0.7419493103210004,0.7370001435288663,0.732102338351141,0.7272562112565767,0.7224620422217721,0.7177200752739001,0.7130305190510116,0.708393547379133,0.7038092998653633,0.6992778825061815,0.694799368310182,0.6903737979344484,0.6860011803337874,0.6816814934220433,0.6774146847447289,0.6732006721621981,0.669039344542608,0.6649305624639231,0.6608741589242015,0.6568699400594521,0.6529176858683202,0.6490171509428947,0.6451680652049295,0.6413701346467892,0.637623042076432,0.6339264478657679,0.6302799907017291,0.6266832883394099,0.6231359383566468,0.6196375189094251,0.6161875894875001,0.6127856916696548,0.6094313498780153,0.6061240721308647,0.6028633507934136,0.5996486633260012,0.5964794730292071,0.593355229785386,0.5902753707961371,0.5872393213152454,0.5842464953766456,0.5812962965169763,0.5783881184923012,0.5755213459886046,0.572695355325669,0.5699095151539668,0.5671631871442125,0.564455726669239,0.5617864834778712,0.5591548023604964,0.5565600238060301,0.5540014846500128,0.5514785187135663,0.5489904574329688,0.5465366304796101,0.5441163663701192,0.5417289930664532,0.539373838565755,0.5370502314798148,0.5347575016039597,0.5324949804752335,0.5302620019197142,0.5280579025888661,0.5258820224847887,0.5237337054742847,0.5216122997916401,0.5195171585300475,0.5174476401216026,0.5154031088058169,0.5133829350865979,0.5113864961776622,0.5094131764363505,0.5074623677858279,0.5055334701256579,0.5036258917307465,0.501739049638668,0.49987237002537716,0.4980252885693337,0.4961972508040693,0.49438771245922336,0.4925961397900918,0.490822009895739,0.48906481102571325,0.4873240428754336,0.4855992168703032,0.48388985643861415,0.48219549727331595,0.4805156875827244,0.4788499883302358,0.47719797346314324,0.47555923013062446,0.47393335889099353,0.4723199739083035,0.47071870313838626,0.4691291885044293,0.46755108606217144,0.4659840661548216,0.4644278135577896,0.4628820276133279,0.4613464223551816,0.4598207266233386,0.45830468416898273,0.45679805374974186,0.455300609215328,0.45381213958366984,0.4523324491076248,0.45086135733236843,0.44939869914355945,0.44794432480636,0.44649809999541606,0.44505990581587324,0.44362963881552586,0.4422072109881816,0.440792549768322,0.4393855980171469,0.43798631400007887,0.4365946713558079,0.4352106590569513,0.43383428136240043,0.43246555776143264,0.43110452290964985,0.4297512265568156,0.428405733466655,0.4270681233286789,0.4257384906620947,0.4244169447118577,0.42310360933692526,0.4217986228907627,0.4205021380941527,0.41921432190036123,0.4179353553527024,0.41666543343455376,0.41540476491185874,0.41415357216816223,0.41291209103222226,0.4116805705982259,0.41045927303865964,0.4092484734098574,0.40804845945026996,0.4068595313714819,0.40568200164201396,0.4045161947639369,0.40336244704233065,0.40222110634761793,0.4010925318708017,0.39997709387163527,0.3988751734197572,0.3977871621288146,0.39671346188361334,0.39565448456031627,0.3946106517397291,0.39358239441369797,0.39257015268465995,0.39157437545837426,0.3905955201298762,0.38963405226268405,0.38869044526130975,0.38776518003710636,0.3868587446674992,0.38597163404865414,0.38510434954162376,0.3842573986120323,0.38343129446335433,0.38262655566384757,0.3818437057672022,0.38108327292698313,0.3803457895049246,0.3796317916731732,0.3789418190105417,0.3782764140928789,0.3776361220776374,0.377021490282741,0.37643306775985724,0.3758714048621836,0.37533705280686314,0.3748305632321566,0.3743524877494902,0.37390337749053104,0.3734837826494156,0.373094252020295,0.37273533253035007,0.3724075687684385,0.3721115025095519,0.37184767223525855,0.37161661265032847,0.37141885419572557,0.37125492255818426,0.3711253381765766,0.3710306157452928,0.3709712637148692,0.3709477837900974,0.37096067042586933,0.3710104103210052,0.3710974819103422,0.3712223548553449,0.37138548953353123,0.3715873365270016,0.37182833611036686,0.37210891773839705,0.372429499533695,0.37279048777473217,0.37319227638457714,0.3736352464206584,0.3741197655659252,0.3746461876217463,0.37521485200293864,0.37582608323528316,0.3764801904559219,0.37717746691702636,0.37791818949313144,0.3787026181925465,0.3795309956732505,0.3804035467636953,0.3813204779889366,0.3822819771025269,0.38328821262460694,0.38433933338663206,0.3854354680831861,0.38657672483132743,0.38776319073792526,0.3889949314754424,0.3902719908666239,0.3915943904785549,0.39296212922655804,0.3943751829883895,0.39583350422920577,0.3973370216377709,0.3988856397743708,0.40047923873089825,0.40211767380358643,0.40380077517884244,0.4055283476326548,0.4073001702440257,0.40911599612288996,0.4109755521529704,0.4128785387500164,0.41482462963586647,0.4168134716287712,0.41884468445040596,0.4209178605499901,0.42303256494593433,0.42518833508540504,0.4273846807222209,0.4296210838134427,0.4318969984350502,0.4342118507170551,0.43656503879840397,0.4389559328020082,0.44138387483022307,0.44384817898108375,0.44634813138559676,0.4488829902663569,0.4514519860177604,0.4540543213080565,0.45668917120346,0.4593556833145444,0.4620529779651016,0.4647801483836365,0.46753626091765543,0.47032035527087784,0.4731314447634798,0.4759685166154632,0.47883053225321404,0.48171642763930006,0.4846251136255257,0.48755547632924695,0.49050637753292514,0.4934766551068627,0.49646512345505805,0.4994705739840805,0.5024917755948418,0.505527475197118,0.5085763982466557,0.511637249304656,0.5147087126194234,0.5177894527299262,0.5208781150909904,0.5239733267198385,0.5270736968636416,0.5301778176877204,0.5332842649840495,0.5363915988996242,0.5394983646842962,0.5426030934575964,0.5457043029940871,0.5488004985267247,0.5518901735677209,0.5549718107463287,0.5580438826630008,0.5611048527593048,0.5641531762029738,0.5671873007874593,0.570205667845305,0.5732067131746604,0.5761888679782264,0.5791505598138985,0.5820902135563599,0.5850062523688623,0.5878970986843995,0.5907611751954771,0.593596905851655,0.59640271686403,0.5991770377158071,0.6019183021780882,0.6046249493300164,0.6072954245823716,0.6099281807037207,0.6125216788482173,0.615074389584123,0.6175847939221314,0.6200513843425431,0.6224726658203779,0.6248471568474476,0.6271733904504627,0.6294499152042131,0.6316752962388651,0.633848116240427,0.6359669764434311,0.6380304976148704,0.640037321028458,0.6419861094282527,0.6438755479807202,0.6457043452142964,0.647471233945528,0.6491749721908822,0.6508143440633107,0.6523881606526903,0.653895260889247,0.6553345123891046,0.656704812281107,0.6580050880140708,0.659234298143664,0.6603914330980964,0.6614755159218502,0.6624856029966871,0.6634207847391902,0.66428018627413,0.6650629680829515,0.6657683266267264,0.6663954949429056,0.6669437432152752,0.667412379316509,0.6678007493227597,0.6681082379997497,0.6683342692598572,0.6684783065897227,0.6685398534479159,0.6685184536322744,0.6684136916164958,0.6682251928556642,0.6679526240603674,0.6675956934391312,0.6671541509089246,0.6666277882734927,0.6660164393693635,0.6653199801793569,0.6645383289134921,0.6636714460572051,0.6627193343868383,0.6616820389523872,0.6605596470275301,0.659352288026998],\"yaxis\":\"y\",\"type\":\"scatter\"},{\"legendgroup\":\"Original\",\"marker\":{\"color\":\"#228B22\"},\"mode\":\"lines\",\"name\":\"Original\",\"showlegend\":true,\"x\":[0.005362642463296652,0.007337462694384157,0.009312282925471663,0.011287103156559168,0.013261923387646675,0.01523674361873418,0.017211563849821684,0.019186384080909193,0.0211612043119967,0.023136024543084204,0.02511084477417171,0.027085665005259215,0.02906048523634672,0.031035305467434226,0.033010125698521735,0.03498494592960924,0.036959766160696746,0.03893458639178425,0.040909406622871756,0.04288422685395926,0.04485904708504677,0.04683386731613427,0.04880868754722178,0.050783507778309284,0.05275832800939679,0.054733148240484294,0.0567079684715718,0.05868278870265931,0.06065760893374682,0.06263242916483433,0.06460724939592183,0.06658206962700933,0.06855688985809684,0.07053171008918434,0.07250653032027185,0.07448135055135935,0.07645617078244686,0.07843099101353437,0.08040581124462187,0.08238063147570938,0.08435545170679688,0.0863302719378844,0.0883050921689719,0.0902799124000594,0.0922547326311469,0.09422955286223442,0.09620437309332192,0.09817919332440943,0.10015401355549693,0.10212883378658444,0.10410365401767194,0.10607847424875945,0.10805329447984695,0.11002811471093446,0.11200293494202197,0.11397775517310947,0.11595257540419698,0.11792739563528448,0.119902215866372,0.12187703609745949,0.123851856328547,0.1258266765596345,0.127801496790722,0.12977631702180953,0.13175113725289703,0.13372595748398453,0.13570077771507202,0.13767559794615955,0.13965041817724705,0.14162523840833455,0.14360005863942205,0.14557487887050957,0.14754969910159707,0.14952451933268457,0.1514993395637721,0.1534741597948596,0.1554489800259471,0.1574238002570346,0.15939862048812212,0.16137344071920962,0.16334826095029711,0.1653230811813846,0.16729790141247214,0.16927272164355964,0.17124754187464714,0.17322236210573463,0.17519718233682216,0.17717200256790966,0.17914682279899716,0.18112164303008466,0.18309646326117218,0.18507128349225968,0.18704610372334718,0.1890209239544347,0.1909957441855222,0.1929705644166097,0.1949453846476972,0.19692020487878473,0.19889502510987223,0.20086984534095972,0.20284466557204722,0.20481948580313475,0.20679430603422225,0.20876912626530975,0.21074394649639724,0.21271876672748477,0.21469358695857227,0.21666840718965977,0.2186432274207473,0.2206180476518348,0.2225928678829223,0.2245676881140098,0.22654250834509732,0.2285173285761848,0.2304921488072723,0.2324669690383598,0.23444178926944734,0.23641660950053484,0.23839142973162233,0.24036624996270983,0.24234107019379736,0.24431589042488486,0.24629071065597236,0.24826553088705985,0.25024035111814735,0.2522151713492349,0.2541899915803224,0.2561648118114099,0.2581396320424974,0.26011445227358493,0.2620892725046724,0.2640640927357599,0.2660389129668474,0.2680137331979349,0.26998855342902245,0.2719633736601099,0.27393819389119745,0.27591301412228497,0.27788783435337244,0.27986265458445997,0.28183747481554744,0.28381229504663497,0.2857871152777225,0.28776193550880996,0.2897367557398975,0.291711575970985,0.2936863962020725,0.29566121643316,0.29763603666424754,0.299610856895335,0.30158567712642254,0.30356049735751,0.30553531758859753,0.30751013781968506,0.30948495805077253,0.31145977828186006,0.3134345985129476,0.31540941874403505,0.3173842389751226,0.31935905920621005,0.3213338794372976,0.3233086996683851,0.3252835198994726,0.3272583401305601,0.3292331603616476,0.3312079805927351,0.3331828008238226,0.33515762105491015,0.3371324412859976,0.33910726151708515,0.3410820817481726,0.34305690197926014,0.34503172221034767,0.34700654244143514,0.34898136267252267,0.3509561829036102,0.35293100313469766,0.3549058233657852,0.35688064359687266,0.3588554638279602,0.3608302840590477,0.3628051042901352,0.3647799245212227,0.36675474475231024,0.3687295649833977,0.37070438521448523,0.37267920544557276,0.37465402567666023,0.37662884590774776,0.3786036661388352,0.38057848636992275,0.3825533066010103,0.38452812683209775,0.3865029470631853,0.3884777672942728,0.3904525875253603,0.3924274077564478,0.3944022279875353,0.3963770482186228,0.3983518684497103,0.4003266886807978,0.4023015089118853,0.40427632914297285,0.4062511493740603,0.40822596960514784,0.41020078983623537,0.41217561006732284,0.41415043029841037,0.41612525052949784,0.41810007076058536,0.4200748909916729,0.42204971122276036,0.4240245314538479,0.4259993516849354,0.4279741719160229,0.4299489921471104,0.43192381237819794,0.4338986326092854,0.43587345284037293,0.4378482730714604,0.43982309330254793,0.44179791353363546,0.4437727337647229,0.44574755399581045,0.447722374226898,0.44969719445798545,0.451672014689073,0.45364683492016045,0.455621655151248,0.4575964753823355,0.45957129561342297,0.4615461158445105,0.463520936075598,0.4654957563066855,0.467470576537773,0.46944539676886055,0.471420216999948,0.47339503723103554,0.475369857462123,0.47734467769321054,0.47931949792429807,0.48129431815538554,0.48326913838647306,0.4852439586175606,0.48721877884864806,0.4891935990797356,0.49116841931082306,0.4931432395419106,0.4951180597729981,0.4970928800040856,0.4990677002351731,0.5010425204662606,0.5030173406973482,0.5049921609284356,0.5069669811595231,0.5089418013906106,0.5109166216216982,0.5128914418527857,0.5148662620838732,0.5168410823149606,0.5188159025460481,0.5207907227771357,0.5227655430082232,0.5247403632393107,0.5267151834703981,0.5286900037014857,0.5306648239325732,0.5326396441636607,0.5346144643947482,0.5365892846258358,0.5385641048569232,0.5405389250880107,0.5425137453190982,0.5444885655501858,0.5464633857812733,0.5484382060123607,0.5504130262434482,0.5523878464745358,0.5543626667056233,0.5563374869367108,0.5583123071677982,0.5602871273988858,0.5622619476299733,0.5642367678610608,0.5662115880921483,0.5681864083232359,0.5701612285543233,0.5721360487854108,0.5741108690164983,0.5760856892475859,0.5780605094786734,0.5800353297097608,0.5820101499408483,0.5839849701719358,0.5859597904030234,0.5879346106341109,0.5899094308651984,0.5918842510962858,0.5938590713273734,0.5958338915584609,0.5978087117895484,0.599783532020636,0.6017583522517234,0.6037331724828109,0.6057079927138984,0.6076828129449859,0.6096576331760735,0.611632453407161,0.6136072736382484,0.6155820938693359,0.6175569141004235,0.619531734331511,0.6215065545625985,0.6234813747936859,0.6254561950247735,0.627431015255861,0.6294058354869485,0.631380655718036,0.6333554759491234,0.635330296180211,0.6373051164112985,0.639279936642386,0.6412547568734736,0.6432295771045611,0.6452043973356485,0.647179217566736,0.6491540377978235,0.6511288580289111,0.6531036782599986,0.655078498491086,0.6570533187221735,0.6590281389532611,0.6610029591843486,0.6629777794154361,0.6649525996465236,0.6669274198776111,0.6689022401086986,0.6708770603397861,0.6728518805708736,0.6748267008019612,0.6768015210330486,0.6787763412641361,0.6807511614952236,0.6827259817263112,0.6847008019573987,0.6866756221884862,0.6886504424195736,0.6906252626506612,0.6926000828817487,0.6945749031128362,0.6965497233439237,0.6985245435750111,0.7004993638060987,0.7024741840371862,0.7044490042682737,0.7064238244993613,0.7083986447304487,0.7103734649615362,0.7123482851926237,0.7143231054237112,0.7162979256547988,0.7182727458858863,0.7202475661169737,0.7222223863480612,0.7241972065791488,0.7261720268102363,0.7281468470413238,0.7301216672724112,0.7320964875034988,0.7340713077345863,0.7360461279656738,0.7380209481967613,0.7399957684278489,0.7419705886589363,0.7439454088900238,0.7459202291211113,0.7478950493521989,0.7498698695832864,0.7518446898143738,0.7538195100454613,0.7557943302765489,0.7577691505076364,0.7597439707387239,0.7617187909698114,0.7636936112008988,0.7656684314319864,0.7676432516630739,0.7696180718941614,0.771592892125249,0.7735677123563364,0.7755425325874239,0.7775173528185114,0.779492173049599,0.7814669932806865,0.783441813511774,0.7854166337428614,0.7873914539739489,0.7893662742050365,0.791341094436124,0.7933159146672115,0.7952907348982989,0.7972655551293865,0.799240375360474,0.8012151955915615,0.803190015822649,0.8051648360537365,0.807139656284824,0.8091144765159115,0.811089296746999,0.8130641169780866,0.8150389372091741,0.8170137574402615,0.818988577671349,0.8209633979024366,0.8229382181335241,0.8249130383646116,0.826887858595699,0.8288626788267865,0.8308374990578741,0.8328123192889616,0.8347871395200491,0.8367619597511367,0.8387367799822241,0.8407116002133116,0.8426864204443991,0.8446612406754866,0.8466360609065742,0.8486108811376616,0.8505857013687491,0.8525605215998366,0.8545353418309242,0.8565101620620117,0.8584849822930992,0.8604598025241866,0.8624346227552742,0.8644094429863617,0.8663842632174492,0.8683590834485367,0.8703339036796242,0.8723087239107117,0.8742835441417992,0.8762583643728867,0.8782331846039743,0.8802080048350617,0.8821828250661492,0.8841576452972367,0.8861324655283243,0.8881072857594118,0.8900821059904993,0.8920569262215867,0.8940317464526742,0.8960065666837618,0.8979813869148493,0.8999562071459368,0.9019310273770242,0.9039058476081118,0.9058806678391993,0.9078554880702868,0.9098303083013743,0.9118051285324619,0.9137799487635493,0.9157547689946368,0.9177295892257243,0.9197044094568119,0.9216792296878994,0.9236540499189868,0.9256288701500743,0.9276036903811619,0.9295785106122494,0.9315533308433369,0.9335281510744244,0.9355029713055119,0.9374777915365994,0.9394526117676869,0.9414274319987744,0.943402252229862,0.9453770724609494,0.9473518926920369,0.9493267129231244,0.951301533154212,0.9532763533852995,0.9552511736163869,0.9572259938474744,0.959200814078562,0.9611756343096495,0.963150454540737,0.9651252747718245,0.9671000950029119,0.9690749152339995,0.971049735465087,0.9730245556961745,0.974999375927262,0.9769741961583495,0.978949016389437,0.9809238366205245,0.982898656851612,0.9848734770826996,0.9868482973137871,0.9888231175448745,0.990797937775962],\"xaxis\":\"x\",\"y\":[0.4532206613638641,0.4542039538692601,0.45511652792318286,0.4559581547299112,0.4567286445087717,0.45742784662062286,0.4580556496589684,0.45861198150566734,0.45909680935119296,0.45951013967948673,0.4598520182174664,0.46012252984931107,0.4603217984956761,0.46044998695805056,0.46050729672849966,0.4604939677650856,0.46041027823330755,0.4602565442139212,0.46003311937758073,0.4597403946267339,0.4593787977052967,0.4589487927766233,0.4584508799703634,0.45788559489880526,0.45725350814336746,0.4565552247119173,0.4557913834676254,0.4549626565301223,0.4540697486497243,0.4531133965555501,0.45209436827835353,0.45101346244896073,0.4498715075731771,0.44866936128410634,0.4474079095728001,0.44608806599821443,0.4447107708774376,0.44327699045720276,0.4417877160676859,0.4402439632596279,0.4386467709258222,0.43699720040801093,0.43529633459027073,0.43354527697994993,0.43174515077723324,0.4298970979344277,0.42800227820605463,0.4260618681908235,0.42407706036660553,0.42204906211946075,0.419979094767835,0.41786839258298464,0.4157182018067178,0.4135297796675136,0.41130439339607616,0.4090433192413792,0.4067478414882225,0.40441925147734314,0.402058846629073,0.39966792947153995,0.39724780667439713,0.39479978808902005,0.3923251857961296,0.3898253131617405,0.3873014839023434,0.38475501116019045,0.3821872065895262,0.37959937945460714,0.37699283574028764,0.37436887727596413,0.3717288008736157,0.36907389748066494,0.36640545134834335,0.3637247392162337,0.3610330295136165,0.35833158157822415,0.3556216448929802,0.3529044583412621,0.3501812494812039,0.34745323383951904,0.34472161422528935,0.34198758006414837,0.3392523067532321,0.3365169550372755,0.3337826704061498,0.33105058251416236,0.3283218046213664,0.3255974330571127,0.32287854670604693,0.3201662065167276,0.31746145503299117,0.3147653159481923,0.31207879368238456,0.3094028729825057,0.3067385185455866,0.30408667466497763,0.30144826489956694,0.2988241917659301,0.2962153364533262,0.29362255856143527,0.2910466958606986,0.28848856407510687,0.28594895668725945,0.2834286447654788,0.2809283768127691,0.2784488786373693,0.2759908532446252,0.2735549807499123,0.2711419183122898,0.2687523000885761,0.2663867372075025,0.2640458177635962,0.261730106830415,0.2594401464927671,0.257176455897506,0.25493953132249936,0.2527298462633563,0.25054785153747544,0.24839397540498226,0.2462686237061038,0.24417218001452887,0.24210500580628652,0.24006744064367866,0.2380598023737909,0.2360823873411012,0.23413547061370882,0.23221930622269457,0.23033412741412607,0.2284801469132181,0.22665755720016315,0.22486653079713725,0.22310722056599414,0.22137976001616555,0.2196842636222732,0.2180208271509777,0.21638952799658437,0.21479042552492508,0.21322356142505494,0.21168896006828766,0.21018662887411946,0.2087165586825777,0.20727872413255904,0.2058730840457001,0.20449958181536476,0.20315814580031052,0.20184868972262152,0.20057111306949965,0.19932530149851077,0.19811112724590296,0.19692844953760524,0.195777115002544,0.19465695808790998,0.1935678014760309,0.19250945650249993,0.19148172357523963,0.19048439259417355,0.18951724337120246,0.18858004605018513,0.1876725615266347,0.18679454186686392,0.1859457307263026,0.18512586376674575,0.1843346690722831,0.18357186756368585,0.1828371734110256,0.18213029444432452,0.18145093256203362,0.18079878413716158,0.18017354042087236,0.1795748879433976,0.17900250891210243,0.17845608160657445,0.17793528077059612,0.17743977800088925,0.17696924213251722,0.176523339620852,0.17610173492001316,0.1757040908577047,0.17533006900638085,0.1749793300506828,0.1746515341510981,0.17434634130380525,0.17406341169667097,0.17380240606138317,0.17356298602170486,0.17334481443784905,0.17314755574697555,0.17297087629982796,0.17281444469352938,0.1726779321005648,0.17256101259399004,0.1724633634689083,0.1723846655602647,0.17232460355701776,0.17228286631274933,0.17225914715278234,0.1722531441778851,0.17226456056463782,0.17229310486255056,0.17233849128802403,0.17240044001524507,0.17247867746412043,0.17257293658535036,0.17268295714274867,0.17280848599292198,0.17294927736241822,0.1731050931224645,0.1732757030614069,0.17346088515497854,0.17366042583451116,0.17387412025321702,0.17410177255066203,0.17434319611555557,0.17459821384697602,0.17486665841416213,0.17514837251498275,0.17544320913321562,0.1757510317947449,0.17607171482280054,0.1764051435923502,0.17675121478375427,0.1771098366357944,0.17748092919817512,0.17786442458359833,0.17826026721950713,0.17866841409958334,0.17908883503508446,0.17952151290609286,0.17996644391275068,0.18042363782653928,0.1808931182416552,0.18137492282653442,0.18186910357555552,0.18237572706095256,0.18289487468495316,0.1834266429321492,0.18397114362209915,0.1845285041621408,0.1850988678003942,0.18568239387890983,0.18627925808691392,0.18688965271408176,0.1875137869037632,0.1881518869060625,0.18880419633067042,0.18947097639931879,0.1901525061977212,0.19084908292684807,0.19156102215335827,0.19228865805900489,0.19303234368880878,0.19379245119777327,0.19456937209590686,0.1953635174912875,0.19617531833089916,0.1970052256389375,0.19785371075227728,0.19872126555276381,0.19960840269597455,0.20051565583608494,0.201443579846438,0.20239275103541482,0.2033637673571683,0.20435724861677382,0.20537383666932452,0.20641419561248156,0.20747901197197122,0.2085689948794973,0.20968487624252524,0.21082741090536797,0.21199737680098812,0.21319557509291565,0.21442283030665774,0.2156799904499595,0.21696792712126445,0.21828753560569875,0.21963973495789,0.22102546807091883,0.2224457017306852,0.22390142665495344,0.22539365751633508,0.22692343294844677,0.228491815534479,0.23009989177739087,0.23174877205094646,0.23343959053079277,0.23517350510477114,0.23695169726166113,0.23877537195752715,0.24064575745886044,0.24256410516168875,0.24453168938583053,0.24654980714347205,0.24861977788125103,0.2507429431950239,0.2529206665165074,0.2551543327709913,0.25744534800532276,0.25979513898537826,0.26220515276224465,0.26467685620635156,0.26721173550881017,0.26981129564922113,0.27247705982925985,0.2752105688713273,0.27801338058162384,0.2808870690769916,0.2838332240749152,0.2868534501461003,0.2899493659290753,0.29312260330629014,0.2963748065412387,0.29970763137614537,0.3031227440898145,0.3066218205152749,0.31020654501688827,0.3138786094266536,0.31763971193946766,0.3214915559671607,0.325435848951181,0.32947430113384374,0.33360862428812466,0.33784053040603507,0.34217173034566517,0.34660393243705445,0.3511388410470989,0.3557781551037805,0.3605235665800598,0.3653767589378416,0.3703394055324996,0.37541316797850255,0.3805996944767709,0.38590061810444487,0.39131755506784655,0.3968521029194616,0.4025058387398652,0.4082803172855848,0.41417706910395896,0.420197598616155,0.4263433821695524,0.4326158660608077,0.43901646453097476,0.4455465577341406,0.4522074896811189,0.4590005661598087,0.4659270526339234,0.4729881721218532,0.4801851030575164,0.48751897713511494,0.494990877139804,0.5026018347663451,0.5103528284278945,0.5182447810571386,0.5262785579020625,0.5344549643187355,0.5427747435634953,0.5512385745870583,0.5598470698330826,0.5686007730438071,0.5775001570754297,0.5865456217259486,0.5957374915782487,0.605076013861247,0.6145613563319824,0.6241936051815471,0.6339727629678281,0.6438987465780416,0.6539713852240746,0.6641904184737094,0.6745554943207587,0.6850661672972562,0.6957218966307855,0.7065220444500658,0.7174658740419404,0.7285525481628934,0.7397811274082121,0.7511505686419352,0.7626597234906978,0.7743073369045436,0.7860920457878211,0.7980123777031534,0.8100667496515531,0.8222534669316185,0.8345707220807567,0.8470165939013408,0.8595890465745945,0.8722859288650289,0.8851049734180925,0.8980437961537224,0.911099895758335,0.9242706532777661,0.9375533318135422,0.9509450763248132,0.9644429135381801,0.9780437519674882,0.9917443820456545,1.0055414763703965,1.0194315900656643,1.0334111612604426,1.0474765116864577,1.0616238473962298,1.0758492596027118,1.0901487256417057,1.104518110058012,1.118953165816212,1.1334495356367624,1.1480027534579735,1.1626082460242635,1.1772613346009253,1.1919572368155196,1.2066910686257377,1.2214578464135804,1.2362524892053328,1.2510698210168185,1.2659045733231367,1.2807513876519339,1.2956048182991362,1.310459335165801,1.3253093267146838,1.3401491030448056,1.3549728990822822,1.369774877885353,1.3845491340614686,1.3992896972940991,1.4139905359767218,1.4286455609513047,1.443248629348429,1.4577935485260252,1.4722740801034944,1.486683944087906,1.5010168230886962,1.5152663666172443,1.5294261954674504,1.5434899061733787,1.5574510755398048,1.5713032652414245,1.5850400264863318,1.5986549047392071,1.6121414444995914,1.6254931941304585,1.6387037107321836,1.6517665650569413,1.6646753464584165,1.6774236678716392,1.6900051708176587,1.702413530427715,1.7146424604814523,1.7266857184536921,1.7385371105641865,1.7501904968247615,1.7616397960782044,1.7728789910231575,1.7839021332193747,1.7947033480675527,1.8052768397580166,1.8156168961825232,1.8257178938033984,1.8355743024743643,1.8451806902072605,1.8545317278790805,1.863622193873625,1.8724469786522568,1.881001089248178,1.8892796536788288,1.8972779252709964,1.9049912868933563,1.912415255091233,1.919545484118485,1.926377769861522,1.9329080536505565,1.9391324259533462,1.9450471299468193,1.9506485649620604,1.955933289798332,1.96089802590197,1.965539660406061,1.9698552490271122,1.9738420188149608,1.9774973707524544,1.9808188822015396,1.983804309192642,1.986451588554386,1.9887588398809048,1.990724367334183,1.9923466612791492,1.9936243997493244,1.994556449741172,1.9951418683354496,1.9953799036440802,1.9952699955812934,1.9948117764580584,1.9940050713989859,1.9928498985811105,1.9913464692943044,1.989495187823128,1.9872966511503065,1.9847516484821548,1.9818611605965788,1.9786263590144215,1.9750486049952345],\"yaxis\":\"y\",\"type\":\"scatter\"}],                        {\"barmode\":\"overlay\",\"hovermode\":\"closest\",\"legend\":{\"traceorder\":\"reversed\",\"orientation\":\"h\",\"yanchor\":\"middle\",\"y\":1.1,\"xanchor\":\"right\",\"x\":1},\"xaxis\":{\"anchor\":\"y2\",\"domain\":[0.0,1.0],\"zeroline\":false},\"yaxis\":{\"anchor\":\"free\",\"domain\":[0.0,1],\"position\":0.0,\"visible\":false,\"showticklabels\":false},\"template\":{\"data\":{\"bar\":[{\"error_x\":{\"color\":\"#2a3f5f\"},\"error_y\":{\"color\":\"#2a3f5f\"},\"marker\":{\"line\":{\"color\":\"#E5ECF6\",\"width\":0.5},\"pattern\":{\"fillmode\":\"overlay\",\"size\":10,\"solidity\":0.2}},\"type\":\"bar\"}],\"barpolar\":[{\"marker\":{\"line\":{\"color\":\"#E5ECF6\",\"width\":0.5},\"pattern\":{\"fillmode\":\"overlay\",\"size\":10,\"solidity\":0.2}},\"type\":\"barpolar\"}],\"carpet\":[{\"aaxis\":{\"endlinecolor\":\"#2a3f5f\",\"gridcolor\":\"white\",\"linecolor\":\"white\",\"minorgridcolor\":\"white\",\"startlinecolor\":\"#2a3f5f\"},\"baxis\":{\"endlinecolor\":\"#2a3f5f\",\"gridcolor\":\"white\",\"linecolor\":\"white\",\"minorgridcolor\":\"white\",\"startlinecolor\":\"#2a3f5f\"},\"type\":\"carpet\"}],\"choropleth\":[{\"colorbar\":{\"outlinewidth\":0,\"ticks\":\"\"},\"type\":\"choropleth\"}],\"contour\":[{\"colorbar\":{\"outlinewidth\":0,\"ticks\":\"\"},\"colorscale\":[[0.0,\"#0d0887\"],[0.1111111111111111,\"#46039f\"],[0.2222222222222222,\"#7201a8\"],[0.3333333333333333,\"#9c179e\"],[0.4444444444444444,\"#bd3786\"],[0.5555555555555556,\"#d8576b\"],[0.6666666666666666,\"#ed7953\"],[0.7777777777777778,\"#fb9f3a\"],[0.8888888888888888,\"#fdca26\"],[1.0,\"#f0f921\"]],\"type\":\"contour\"}],\"contourcarpet\":[{\"colorbar\":{\"outlinewidth\":0,\"ticks\":\"\"},\"type\":\"contourcarpet\"}],\"heatmap\":[{\"colorbar\":{\"outlinewidth\":0,\"ticks\":\"\"},\"colorscale\":[[0.0,\"#0d0887\"],[0.1111111111111111,\"#46039f\"],[0.2222222222222222,\"#7201a8\"],[0.3333333333333333,\"#9c179e\"],[0.4444444444444444,\"#bd3786\"],[0.5555555555555556,\"#d8576b\"],[0.6666666666666666,\"#ed7953\"],[0.7777777777777778,\"#fb9f3a\"],[0.8888888888888888,\"#fdca26\"],[1.0,\"#f0f921\"]],\"type\":\"heatmap\"}],\"heatmapgl\":[{\"colorbar\":{\"outlinewidth\":0,\"ticks\":\"\"},\"colorscale\":[[0.0,\"#0d0887\"],[0.1111111111111111,\"#46039f\"],[0.2222222222222222,\"#7201a8\"],[0.3333333333333333,\"#9c179e\"],[0.4444444444444444,\"#bd3786\"],[0.5555555555555556,\"#d8576b\"],[0.6666666666666666,\"#ed7953\"],[0.7777777777777778,\"#fb9f3a\"],[0.8888888888888888,\"#fdca26\"],[1.0,\"#f0f921\"]],\"type\":\"heatmapgl\"}],\"histogram\":[{\"marker\":{\"pattern\":{\"fillmode\":\"overlay\",\"size\":10,\"solidity\":0.2}},\"type\":\"histogram\"}],\"histogram2d\":[{\"colorbar\":{\"outlinewidth\":0,\"ticks\":\"\"},\"colorscale\":[[0.0,\"#0d0887\"],[0.1111111111111111,\"#46039f\"],[0.2222222222222222,\"#7201a8\"],[0.3333333333333333,\"#9c179e\"],[0.4444444444444444,\"#bd3786\"],[0.5555555555555556,\"#d8576b\"],[0.6666666666666666,\"#ed7953\"],[0.7777777777777778,\"#fb9f3a\"],[0.8888888888888888,\"#fdca26\"],[1.0,\"#f0f921\"]],\"type\":\"histogram2d\"}],\"histogram2dcontour\":[{\"colorbar\":{\"outlinewidth\":0,\"ticks\":\"\"},\"colorscale\":[[0.0,\"#0d0887\"],[0.1111111111111111,\"#46039f\"],[0.2222222222222222,\"#7201a8\"],[0.3333333333333333,\"#9c179e\"],[0.4444444444444444,\"#bd3786\"],[0.5555555555555556,\"#d8576b\"],[0.6666666666666666,\"#ed7953\"],[0.7777777777777778,\"#fb9f3a\"],[0.8888888888888888,\"#fdca26\"],[1.0,\"#f0f921\"]],\"type\":\"histogram2dcontour\"}],\"mesh3d\":[{\"colorbar\":{\"outlinewidth\":0,\"ticks\":\"\"},\"type\":\"mesh3d\"}],\"parcoords\":[{\"line\":{\"colorbar\":{\"outlinewidth\":0,\"ticks\":\"\"}},\"type\":\"parcoords\"}],\"pie\":[{\"automargin\":true,\"type\":\"pie\"}],\"scatter\":[{\"marker\":{\"colorbar\":{\"outlinewidth\":0,\"ticks\":\"\"}},\"type\":\"scatter\"}],\"scatter3d\":[{\"line\":{\"colorbar\":{\"outlinewidth\":0,\"ticks\":\"\"}},\"marker\":{\"colorbar\":{\"outlinewidth\":0,\"ticks\":\"\"}},\"type\":\"scatter3d\"}],\"scattercarpet\":[{\"marker\":{\"colorbar\":{\"outlinewidth\":0,\"ticks\":\"\"}},\"type\":\"scattercarpet\"}],\"scattergeo\":[{\"marker\":{\"colorbar\":{\"outlinewidth\":0,\"ticks\":\"\"}},\"type\":\"scattergeo\"}],\"scattergl\":[{\"marker\":{\"colorbar\":{\"outlinewidth\":0,\"ticks\":\"\"}},\"type\":\"scattergl\"}],\"scattermapbox\":[{\"marker\":{\"colorbar\":{\"outlinewidth\":0,\"ticks\":\"\"}},\"type\":\"scattermapbox\"}],\"scatterpolar\":[{\"marker\":{\"colorbar\":{\"outlinewidth\":0,\"ticks\":\"\"}},\"type\":\"scatterpolar\"}],\"scatterpolargl\":[{\"marker\":{\"colorbar\":{\"outlinewidth\":0,\"ticks\":\"\"}},\"type\":\"scatterpolargl\"}],\"scatterternary\":[{\"marker\":{\"colorbar\":{\"outlinewidth\":0,\"ticks\":\"\"}},\"type\":\"scatterternary\"}],\"surface\":[{\"colorbar\":{\"outlinewidth\":0,\"ticks\":\"\"},\"colorscale\":[[0.0,\"#0d0887\"],[0.1111111111111111,\"#46039f\"],[0.2222222222222222,\"#7201a8\"],[0.3333333333333333,\"#9c179e\"],[0.4444444444444444,\"#bd3786\"],[0.5555555555555556,\"#d8576b\"],[0.6666666666666666,\"#ed7953\"],[0.7777777777777778,\"#fb9f3a\"],[0.8888888888888888,\"#fdca26\"],[1.0,\"#f0f921\"]],\"type\":\"surface\"}],\"table\":[{\"cells\":{\"fill\":{\"color\":\"#EBF0F8\"},\"line\":{\"color\":\"white\"}},\"header\":{\"fill\":{\"color\":\"#C8D4E3\"},\"line\":{\"color\":\"white\"}},\"type\":\"table\"}]},\"layout\":{\"annotationdefaults\":{\"arrowcolor\":\"#2a3f5f\",\"arrowhead\":0,\"arrowwidth\":1},\"autotypenumbers\":\"strict\",\"coloraxis\":{\"colorbar\":{\"outlinewidth\":0,\"ticks\":\"\"}},\"colorscale\":{\"diverging\":[[0,\"#8e0152\"],[0.1,\"#c51b7d\"],[0.2,\"#de77ae\"],[0.3,\"#f1b6da\"],[0.4,\"#fde0ef\"],[0.5,\"#f7f7f7\"],[0.6,\"#e6f5d0\"],[0.7,\"#b8e186\"],[0.8,\"#7fbc41\"],[0.9,\"#4d9221\"],[1,\"#276419\"]],\"sequential\":[[0.0,\"#0d0887\"],[0.1111111111111111,\"#46039f\"],[0.2222222222222222,\"#7201a8\"],[0.3333333333333333,\"#9c179e\"],[0.4444444444444444,\"#bd3786\"],[0.5555555555555556,\"#d8576b\"],[0.6666666666666666,\"#ed7953\"],[0.7777777777777778,\"#fb9f3a\"],[0.8888888888888888,\"#fdca26\"],[1.0,\"#f0f921\"]],\"sequentialminus\":[[0.0,\"#0d0887\"],[0.1111111111111111,\"#46039f\"],[0.2222222222222222,\"#7201a8\"],[0.3333333333333333,\"#9c179e\"],[0.4444444444444444,\"#bd3786\"],[0.5555555555555556,\"#d8576b\"],[0.6666666666666666,\"#ed7953\"],[0.7777777777777778,\"#fb9f3a\"],[0.8888888888888888,\"#fdca26\"],[1.0,\"#f0f921\"]]},\"colorway\":[\"#636efa\",\"#EF553B\",\"#00cc96\",\"#ab63fa\",\"#FFA15A\",\"#19d3f3\",\"#FF6692\",\"#B6E880\",\"#FF97FF\",\"#FECB52\"],\"font\":{\"color\":\"#2a3f5f\"},\"geo\":{\"bgcolor\":\"white\",\"lakecolor\":\"white\",\"landcolor\":\"#E5ECF6\",\"showlakes\":true,\"showland\":true,\"subunitcolor\":\"white\"},\"hoverlabel\":{\"align\":\"left\"},\"hovermode\":\"closest\",\"mapbox\":{\"style\":\"light\"},\"paper_bgcolor\":\"white\",\"plot_bgcolor\":\"#E5ECF6\",\"polar\":{\"angularaxis\":{\"gridcolor\":\"white\",\"linecolor\":\"white\",\"ticks\":\"\"},\"bgcolor\":\"#E5ECF6\",\"radialaxis\":{\"gridcolor\":\"white\",\"linecolor\":\"white\",\"ticks\":\"\"}},\"scene\":{\"xaxis\":{\"backgroundcolor\":\"#E5ECF6\",\"gridcolor\":\"white\",\"gridwidth\":2,\"linecolor\":\"white\",\"showbackground\":true,\"ticks\":\"\",\"zerolinecolor\":\"white\"},\"yaxis\":{\"backgroundcolor\":\"#E5ECF6\",\"gridcolor\":\"white\",\"gridwidth\":2,\"linecolor\":\"white\",\"showbackground\":true,\"ticks\":\"\",\"zerolinecolor\":\"white\"},\"zaxis\":{\"backgroundcolor\":\"#E5ECF6\",\"gridcolor\":\"white\",\"gridwidth\":2,\"linecolor\":\"white\",\"showbackground\":true,\"ticks\":\"\",\"zerolinecolor\":\"white\"}},\"shapedefaults\":{\"line\":{\"color\":\"#2a3f5f\"}},\"ternary\":{\"aaxis\":{\"gridcolor\":\"white\",\"linecolor\":\"white\",\"ticks\":\"\"},\"baxis\":{\"gridcolor\":\"white\",\"linecolor\":\"white\",\"ticks\":\"\"},\"bgcolor\":\"#E5ECF6\",\"caxis\":{\"gridcolor\":\"white\",\"linecolor\":\"white\",\"ticks\":\"\"}},\"title\":{\"x\":0.05},\"xaxis\":{\"automargin\":true,\"gridcolor\":\"white\",\"linecolor\":\"white\",\"ticks\":\"\",\"title\":{\"standoff\":15},\"zerolinecolor\":\"white\",\"zerolinewidth\":2},\"yaxis\":{\"automargin\":true,\"gridcolor\":\"white\",\"linecolor\":\"white\",\"ticks\":\"\",\"title\":{\"standoff\":15},\"zerolinecolor\":\"white\",\"zerolinewidth\":2}}}},                        {\"responsive\": true}                    ).then(function(){\n",
              "                            \n",
              "var gd = document.getElementById('a1d1d706-cbba-42c0-9e0c-aafc5dd3ce0b');\n",
              "var x = new MutationObserver(function (mutations, observer) {{\n",
              "        var display = window.getComputedStyle(gd).display;\n",
              "        if (!display || display === 'none') {{\n",
              "            console.log([gd, 'removed!']);\n",
              "            Plotly.purge(gd);\n",
              "            observer.disconnect();\n",
              "        }}\n",
              "}});\n",
              "\n",
              "// Listen for the removal of the full notebook cells\n",
              "var notebookContainer = gd.closest('#notebook-container');\n",
              "if (notebookContainer) {{\n",
              "    x.observe(notebookContainer, {childList: true});\n",
              "}}\n",
              "\n",
              "// Listen for the clearing of the current output cell\n",
              "var outputEl = gd.closest('.output');\n",
              "if (outputEl) {{\n",
              "    x.observe(outputEl, {childList: true});\n",
              "}}\n",
              "\n",
              "                        })                };                            </script>        </div>\n",
              "</body>\n",
              "</html>"
            ]
          },
          "metadata": {}
        }
      ],
      "source": [
        "import plotly.figure_factory as ff\n",
        "import numpy as np\n",
        "\n",
        "# Plot the probability density chart\n",
        "probability_dens = pd.DataFrame({'prob': predictions_raw, 'y': y_test})\n",
        "\n",
        "x1 = probability_dens[probability_dens[\"y\"]==1]['prob'].values\n",
        "x2 = probability_dens[probability_dens[\"y\"]==0]['prob'].values\n",
        "\n",
        "hist_data = [x1, x2]\n",
        "\n",
        "group_labels = ['Adversarial', 'Original']\n",
        "colors = ['#C04000', '#228B22']\n",
        "\n",
        "# Create distplot with curve_type set to 'normal'\n",
        "fig = ff.create_distplot(hist_data, group_labels, show_hist=False, colors=colors, show_rug=False)\n",
        "\n",
        "# Add title\n",
        "fig.update_layout(legend=dict(\n",
        "                    orientation=\"h\",\n",
        "                    yanchor=\"middle\",\n",
        "                    y=1.1,\n",
        "                    xanchor=\"right\",\n",
        "                    x=1\n",
        "                ))\n",
        "\n",
        "fig.update_yaxes(visible=False, showticklabels=False)\n",
        "fig.show()"
      ]
    },
    {
      "cell_type": "code",
      "execution_count": null,
      "metadata": {
        "id": "bblTaWdgRXOV"
      },
      "outputs": [],
      "source": [
        ""
      ]
    }
  ],
  "metadata": {
    "accelerator": "GPU",
    "colab": {
      "collapsed_sections": [],
      "machine_shape": "hm",
      "name": "WDR_Classifier_Testing.ipynb",
      "provenance": []
    },
    "kernelspec": {
      "display_name": "Python 3",
      "language": "python",
      "name": "python3"
    },
    "language_info": {
      "codemirror_mode": {
        "name": "ipython",
        "version": 3
      },
      "file_extension": ".py",
      "mimetype": "text/x-python",
      "name": "python",
      "nbconvert_exporter": "python",
      "pygments_lexer": "ipython3",
      "version": "3.8.10"
    }
  },
  "nbformat": 4,
  "nbformat_minor": 0
}