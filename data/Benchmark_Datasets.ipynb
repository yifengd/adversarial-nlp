{
  "nbformat": 4,
  "nbformat_minor": 0,
  "metadata": {
    "colab": {
      "name": "Benchmark Datasets",
      "provenance": [],
      "collapsed_sections": [],
      "mount_file_id": "1tk7qzdYWDLpnTbwPmahN1Gn03j3dxWgH",
      "authorship_tag": "ABX9TyNhNAwmKj3l71g7Po4RuCYO",
      "include_colab_link": true
    },
    "kernelspec": {
      "name": "python3",
      "display_name": "Python 3"
    },
    "language_info": {
      "name": "python"
    }
  },
  "cells": [
    {
      "cell_type": "markdown",
      "metadata": {
        "id": "view-in-github",
        "colab_type": "text"
      },
      "source": [
        "<a href=\"https://colab.research.google.com/github/yifengd/adversarial-nlp/blob/main/data/Benchmark_Datasets.ipynb\" target=\"_parent\"><img src=\"https://colab.research.google.com/assets/colab-badge.svg\" alt=\"Open In Colab\"/></a>"
      ]
    },
    {
      "cell_type": "markdown",
      "source": [
        "# Benchmark Dataset preprocessing"
      ],
      "metadata": {
        "id": "KcUx_YEkrkS_"
      }
    },
    {
      "cell_type": "code",
      "source": [
        "from google.colab import drive\n",
        "drive.mount('/content/drive')"
      ],
      "metadata": {
        "id": "0TJEXI3NsIVg"
      },
      "execution_count": null,
      "outputs": []
    },
    {
      "cell_type": "code",
      "execution_count": 1,
      "metadata": {
        "colab": {
          "base_uri": "https://localhost:8080/"
        },
        "id": "JAnC_TjJrjo7",
        "outputId": "dd557984-1787-4e37-dac8-5ceec2ceb384"
      },
      "outputs": [
        {
          "output_type": "stream",
          "name": "stdout",
          "text": [
            "(1821, 9) Index(['original_text', 'perturbed_text', 'original_score', 'perturbed_score',\n",
            "       'original_output', 'perturbed_output', 'ground_truth_output',\n",
            "       'num_queries', 'result_type'],\n",
            "      dtype='object')\n"
          ]
        }
      ],
      "source": [
        "import pandas as pd\n",
        "\n",
        "DATASET_PATH = \"/content/drive/MyDrive/AdversarialXAI/Adversarial Samples/Raw from benchmark/bert-base-uncased-sst2_pruthi.csv\"\n",
        "\n",
        "df = pd.read_csv(DATASET_PATH, index_col=False)\n",
        "\n",
        "print(df.shape, df.columns)"
      ]
    },
    {
      "cell_type": "code",
      "source": [
        "df = df.rename(columns={\"perturbed_text\": \"adversarial_text\"})"
      ],
      "metadata": {
        "id": "HnQeMeOUs4Uq"
      },
      "execution_count": 2,
      "outputs": []
    },
    {
      "cell_type": "code",
      "source": [
        "print(df.shape, df.columns)"
      ],
      "metadata": {
        "colab": {
          "base_uri": "https://localhost:8080/"
        },
        "id": "NXznDIR2s-kL",
        "outputId": "fd3c0d5e-405e-4780-ab64-ded1f321e460"
      },
      "execution_count": 3,
      "outputs": [
        {
          "output_type": "stream",
          "name": "stdout",
          "text": [
            "(1821, 9) Index(['original_text', 'adversarial_text', 'original_score',\n",
            "       'perturbed_score', 'original_output', 'perturbed_output',\n",
            "       'ground_truth_output', 'num_queries', 'result_type'],\n",
            "      dtype='object')\n"
          ]
        }
      ]
    },
    {
      "cell_type": "code",
      "source": [
        "df = df.replace(to_replace=\"\\[\\[\", value=\"\", regex=True)\n",
        "df = df.replace(to_replace=\"\\]\\]\", value=\"\", regex=True)"
      ],
      "metadata": {
        "id": "pz2GUmJus_9u"
      },
      "execution_count": 7,
      "outputs": []
    },
    {
      "cell_type": "code",
      "source": [
        "df"
      ],
      "metadata": {
        "colab": {
          "base_uri": "https://localhost:8080/",
          "height": 857
        },
        "id": "yrYWzQxguV2x",
        "outputId": "85a77e44-b3b5-49d1-afc2-8463105c3388"
      },
      "execution_count": 8,
      "outputs": [
        {
          "output_type": "execute_result",
          "data": {
            "text/plain": [
              "                                          original_text  \\\n",
              "0          no movement , no yuks , not much of anything   \n",
              "1     a gob of drivel so sickly sweet , even the eag...   \n",
              "2     gangs of new york is an unapologetic mess , wh...   \n",
              "3     we never really feel involved with the story ,...   \n",
              "4                 this is one of polanski 's best films   \n",
              "...                                                 ...   \n",
              "1816  an often deadly boring , strange reading of a ...   \n",
              "1817  the problem with concept films is that if the ...   \n",
              "1818  safe conduct , however ambitious and well inte...   \n",
              "1819  a film made with as little wit , interest , an...   \n",
              "1820  but here 's the real damn it is n't funny , ei...   \n",
              "\n",
              "                                       adversarial_text  original_score  \\\n",
              "0         no movement , no yuks , not muMch of anything        0.005266   \n",
              "1     a gob of drivel so sifkly sweet , even the eag...        0.022394   \n",
              "2     gangs of new york is an unapologetic mezs , wh...        0.001128   \n",
              "3     we neevr really feel involved with the story ,...        0.001667   \n",
              "4                  this is one of polanski 's bst films        0.000644   \n",
              "...                                                 ...             ...   \n",
              "1816  an often deadly bring , strange reading of a c...        0.005835   \n",
              "1817  the probelm with concept films is that if the ...        0.002259   \n",
              "1818  safe conduct , however ambitious and well inte...        0.006003   \n",
              "1819  a film made with as litte wit , interest , and...        0.001025   \n",
              "1820  but here 's the real damn it is n't funZny , e...        0.001004   \n",
              "\n",
              "      perturbed_score  original_output  perturbed_output  ground_truth_output  \\\n",
              "0            0.017786              0.0               0.0                  0.0   \n",
              "1            0.218437              0.0               0.0                  0.0   \n",
              "2            0.004485              0.0               0.0                  0.0   \n",
              "3            0.987937              0.0               1.0                  0.0   \n",
              "4            0.986980              1.0               0.0                  1.0   \n",
              "...               ...              ...               ...                  ...   \n",
              "1816         0.196575              0.0               0.0                  0.0   \n",
              "1817         0.008497              0.0               0.0                  0.0   \n",
              "1818         0.588392              0.0               1.0                  0.0   \n",
              "1819         0.971741              0.0               1.0                  0.0   \n",
              "1820         0.676186              0.0               1.0                  0.0   \n",
              "\n",
              "      num_queries result_type  \n",
              "0           120.0      Failed  \n",
              "1           368.0      Failed  \n",
              "2           322.0      Failed  \n",
              "3           253.0  Successful  \n",
              "4            85.0  Successful  \n",
              "...           ...         ...  \n",
              "1816        457.0      Failed  \n",
              "1817        184.0      Failed  \n",
              "1818        343.0  Successful  \n",
              "1819        446.0  Successful  \n",
              "1820         81.0  Successful  \n",
              "\n",
              "[1821 rows x 9 columns]"
            ],
            "text/html": [
              "\n",
              "  <div id=\"df-fe09d5df-8750-4b89-b79c-bbd8a1f99975\">\n",
              "    <div class=\"colab-df-container\">\n",
              "      <div>\n",
              "<style scoped>\n",
              "    .dataframe tbody tr th:only-of-type {\n",
              "        vertical-align: middle;\n",
              "    }\n",
              "\n",
              "    .dataframe tbody tr th {\n",
              "        vertical-align: top;\n",
              "    }\n",
              "\n",
              "    .dataframe thead th {\n",
              "        text-align: right;\n",
              "    }\n",
              "</style>\n",
              "<table border=\"1\" class=\"dataframe\">\n",
              "  <thead>\n",
              "    <tr style=\"text-align: right;\">\n",
              "      <th></th>\n",
              "      <th>original_text</th>\n",
              "      <th>adversarial_text</th>\n",
              "      <th>original_score</th>\n",
              "      <th>perturbed_score</th>\n",
              "      <th>original_output</th>\n",
              "      <th>perturbed_output</th>\n",
              "      <th>ground_truth_output</th>\n",
              "      <th>num_queries</th>\n",
              "      <th>result_type</th>\n",
              "    </tr>\n",
              "  </thead>\n",
              "  <tbody>\n",
              "    <tr>\n",
              "      <th>0</th>\n",
              "      <td>no movement , no yuks , not much of anything</td>\n",
              "      <td>no movement , no yuks , not muMch of anything</td>\n",
              "      <td>0.005266</td>\n",
              "      <td>0.017786</td>\n",
              "      <td>0.0</td>\n",
              "      <td>0.0</td>\n",
              "      <td>0.0</td>\n",
              "      <td>120.0</td>\n",
              "      <td>Failed</td>\n",
              "    </tr>\n",
              "    <tr>\n",
              "      <th>1</th>\n",
              "      <td>a gob of drivel so sickly sweet , even the eag...</td>\n",
              "      <td>a gob of drivel so sifkly sweet , even the eag...</td>\n",
              "      <td>0.022394</td>\n",
              "      <td>0.218437</td>\n",
              "      <td>0.0</td>\n",
              "      <td>0.0</td>\n",
              "      <td>0.0</td>\n",
              "      <td>368.0</td>\n",
              "      <td>Failed</td>\n",
              "    </tr>\n",
              "    <tr>\n",
              "      <th>2</th>\n",
              "      <td>gangs of new york is an unapologetic mess , wh...</td>\n",
              "      <td>gangs of new york is an unapologetic mezs , wh...</td>\n",
              "      <td>0.001128</td>\n",
              "      <td>0.004485</td>\n",
              "      <td>0.0</td>\n",
              "      <td>0.0</td>\n",
              "      <td>0.0</td>\n",
              "      <td>322.0</td>\n",
              "      <td>Failed</td>\n",
              "    </tr>\n",
              "    <tr>\n",
              "      <th>3</th>\n",
              "      <td>we never really feel involved with the story ,...</td>\n",
              "      <td>we neevr really feel involved with the story ,...</td>\n",
              "      <td>0.001667</td>\n",
              "      <td>0.987937</td>\n",
              "      <td>0.0</td>\n",
              "      <td>1.0</td>\n",
              "      <td>0.0</td>\n",
              "      <td>253.0</td>\n",
              "      <td>Successful</td>\n",
              "    </tr>\n",
              "    <tr>\n",
              "      <th>4</th>\n",
              "      <td>this is one of polanski 's best films</td>\n",
              "      <td>this is one of polanski 's bst films</td>\n",
              "      <td>0.000644</td>\n",
              "      <td>0.986980</td>\n",
              "      <td>1.0</td>\n",
              "      <td>0.0</td>\n",
              "      <td>1.0</td>\n",
              "      <td>85.0</td>\n",
              "      <td>Successful</td>\n",
              "    </tr>\n",
              "    <tr>\n",
              "      <th>...</th>\n",
              "      <td>...</td>\n",
              "      <td>...</td>\n",
              "      <td>...</td>\n",
              "      <td>...</td>\n",
              "      <td>...</td>\n",
              "      <td>...</td>\n",
              "      <td>...</td>\n",
              "      <td>...</td>\n",
              "      <td>...</td>\n",
              "    </tr>\n",
              "    <tr>\n",
              "      <th>1816</th>\n",
              "      <td>an often deadly boring , strange reading of a ...</td>\n",
              "      <td>an often deadly bring , strange reading of a c...</td>\n",
              "      <td>0.005835</td>\n",
              "      <td>0.196575</td>\n",
              "      <td>0.0</td>\n",
              "      <td>0.0</td>\n",
              "      <td>0.0</td>\n",
              "      <td>457.0</td>\n",
              "      <td>Failed</td>\n",
              "    </tr>\n",
              "    <tr>\n",
              "      <th>1817</th>\n",
              "      <td>the problem with concept films is that if the ...</td>\n",
              "      <td>the probelm with concept films is that if the ...</td>\n",
              "      <td>0.002259</td>\n",
              "      <td>0.008497</td>\n",
              "      <td>0.0</td>\n",
              "      <td>0.0</td>\n",
              "      <td>0.0</td>\n",
              "      <td>184.0</td>\n",
              "      <td>Failed</td>\n",
              "    </tr>\n",
              "    <tr>\n",
              "      <th>1818</th>\n",
              "      <td>safe conduct , however ambitious and well inte...</td>\n",
              "      <td>safe conduct , however ambitious and well inte...</td>\n",
              "      <td>0.006003</td>\n",
              "      <td>0.588392</td>\n",
              "      <td>0.0</td>\n",
              "      <td>1.0</td>\n",
              "      <td>0.0</td>\n",
              "      <td>343.0</td>\n",
              "      <td>Successful</td>\n",
              "    </tr>\n",
              "    <tr>\n",
              "      <th>1819</th>\n",
              "      <td>a film made with as little wit , interest , an...</td>\n",
              "      <td>a film made with as litte wit , interest , and...</td>\n",
              "      <td>0.001025</td>\n",
              "      <td>0.971741</td>\n",
              "      <td>0.0</td>\n",
              "      <td>1.0</td>\n",
              "      <td>0.0</td>\n",
              "      <td>446.0</td>\n",
              "      <td>Successful</td>\n",
              "    </tr>\n",
              "    <tr>\n",
              "      <th>1820</th>\n",
              "      <td>but here 's the real damn it is n't funny , ei...</td>\n",
              "      <td>but here 's the real damn it is n't funZny , e...</td>\n",
              "      <td>0.001004</td>\n",
              "      <td>0.676186</td>\n",
              "      <td>0.0</td>\n",
              "      <td>1.0</td>\n",
              "      <td>0.0</td>\n",
              "      <td>81.0</td>\n",
              "      <td>Successful</td>\n",
              "    </tr>\n",
              "  </tbody>\n",
              "</table>\n",
              "<p>1821 rows × 9 columns</p>\n",
              "</div>\n",
              "      <button class=\"colab-df-convert\" onclick=\"convertToInteractive('df-fe09d5df-8750-4b89-b79c-bbd8a1f99975')\"\n",
              "              title=\"Convert this dataframe to an interactive table.\"\n",
              "              style=\"display:none;\">\n",
              "        \n",
              "  <svg xmlns=\"http://www.w3.org/2000/svg\" height=\"24px\"viewBox=\"0 0 24 24\"\n",
              "       width=\"24px\">\n",
              "    <path d=\"M0 0h24v24H0V0z\" fill=\"none\"/>\n",
              "    <path d=\"M18.56 5.44l.94 2.06.94-2.06 2.06-.94-2.06-.94-.94-2.06-.94 2.06-2.06.94zm-11 1L8.5 8.5l.94-2.06 2.06-.94-2.06-.94L8.5 2.5l-.94 2.06-2.06.94zm10 10l.94 2.06.94-2.06 2.06-.94-2.06-.94-.94-2.06-.94 2.06-2.06.94z\"/><path d=\"M17.41 7.96l-1.37-1.37c-.4-.4-.92-.59-1.43-.59-.52 0-1.04.2-1.43.59L10.3 9.45l-7.72 7.72c-.78.78-.78 2.05 0 2.83L4 21.41c.39.39.9.59 1.41.59.51 0 1.02-.2 1.41-.59l7.78-7.78 2.81-2.81c.8-.78.8-2.07 0-2.86zM5.41 20L4 18.59l7.72-7.72 1.47 1.35L5.41 20z\"/>\n",
              "  </svg>\n",
              "      </button>\n",
              "      \n",
              "  <style>\n",
              "    .colab-df-container {\n",
              "      display:flex;\n",
              "      flex-wrap:wrap;\n",
              "      gap: 12px;\n",
              "    }\n",
              "\n",
              "    .colab-df-convert {\n",
              "      background-color: #E8F0FE;\n",
              "      border: none;\n",
              "      border-radius: 50%;\n",
              "      cursor: pointer;\n",
              "      display: none;\n",
              "      fill: #1967D2;\n",
              "      height: 32px;\n",
              "      padding: 0 0 0 0;\n",
              "      width: 32px;\n",
              "    }\n",
              "\n",
              "    .colab-df-convert:hover {\n",
              "      background-color: #E2EBFA;\n",
              "      box-shadow: 0px 1px 2px rgba(60, 64, 67, 0.3), 0px 1px 3px 1px rgba(60, 64, 67, 0.15);\n",
              "      fill: #174EA6;\n",
              "    }\n",
              "\n",
              "    [theme=dark] .colab-df-convert {\n",
              "      background-color: #3B4455;\n",
              "      fill: #D2E3FC;\n",
              "    }\n",
              "\n",
              "    [theme=dark] .colab-df-convert:hover {\n",
              "      background-color: #434B5C;\n",
              "      box-shadow: 0px 1px 3px 1px rgba(0, 0, 0, 0.15);\n",
              "      filter: drop-shadow(0px 1px 2px rgba(0, 0, 0, 0.3));\n",
              "      fill: #FFFFFF;\n",
              "    }\n",
              "  </style>\n",
              "\n",
              "      <script>\n",
              "        const buttonEl =\n",
              "          document.querySelector('#df-fe09d5df-8750-4b89-b79c-bbd8a1f99975 button.colab-df-convert');\n",
              "        buttonEl.style.display =\n",
              "          google.colab.kernel.accessAllowed ? 'block' : 'none';\n",
              "\n",
              "        async function convertToInteractive(key) {\n",
              "          const element = document.querySelector('#df-fe09d5df-8750-4b89-b79c-bbd8a1f99975');\n",
              "          const dataTable =\n",
              "            await google.colab.kernel.invokeFunction('convertToInteractive',\n",
              "                                                     [key], {});\n",
              "          if (!dataTable) return;\n",
              "\n",
              "          const docLinkHtml = 'Like what you see? Visit the ' +\n",
              "            '<a target=\"_blank\" href=https://colab.research.google.com/notebooks/data_table.ipynb>data table notebook</a>'\n",
              "            + ' to learn more about interactive tables.';\n",
              "          element.innerHTML = '';\n",
              "          dataTable['output_type'] = 'display_data';\n",
              "          await google.colab.output.renderOutput(dataTable, element);\n",
              "          const docLink = document.createElement('div');\n",
              "          docLink.innerHTML = docLinkHtml;\n",
              "          element.appendChild(docLink);\n",
              "        }\n",
              "      </script>\n",
              "    </div>\n",
              "  </div>\n",
              "  "
            ]
          },
          "metadata": {},
          "execution_count": 8
        }
      ]
    },
    {
      "cell_type": "code",
      "source": [
        "# only for pruthi since they forgot\n",
        "\n",
        "df_train = df[:1300]\n",
        "df_val = df[1300:1550]\n",
        "df_test = df[1500:]"
      ],
      "metadata": {
        "id": "Sdj4CZCfuWQ-"
      },
      "execution_count": 14,
      "outputs": []
    },
    {
      "cell_type": "code",
      "source": [
        "df_train.to_csv(\"/content/drive/MyDrive/AdversarialXAI/Adversarial Samples/sst2_pruthi_bert-base-uncased_train.csv\", index=False)\n",
        "df_val.to_csv(\"/content/drive/MyDrive/AdversarialXAI/Adversarial Samples/sst2_pruthi_bert-base-uncased_val.csv\", index=False)\n",
        "df_test.to_csv(\"/content/drive/MyDrive/AdversarialXAI/Adversarial Samples/sst2_pruthi_bert-base-uncased_test.csv\", index=False)"
      ],
      "metadata": {
        "id": "ZtYVOLSxvIMr"
      },
      "execution_count": 17,
      "outputs": []
    },
    {
      "cell_type": "code",
      "source": [
        ""
      ],
      "metadata": {
        "id": "YXP9MgasvJCs"
      },
      "execution_count": null,
      "outputs": []
    }
  ]
}