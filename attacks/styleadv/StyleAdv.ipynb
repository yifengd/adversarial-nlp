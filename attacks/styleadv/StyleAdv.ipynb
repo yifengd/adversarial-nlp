{
  "cells": [
    {
      "cell_type": "markdown",
      "metadata": {
        "id": "view-in-github",
        "colab_type": "text"
      },
      "source": [
        "<a href=\"https://colab.research.google.com/github/yifengd/adversarial-nlp/blob/main/attacks/styleadv/StyleAdv.ipynb\" target=\"_parent\"><img src=\"https://colab.research.google.com/assets/colab-badge.svg\" alt=\"Open In Colab\"/></a>"
      ]
    },
    {
      "cell_type": "markdown",
      "metadata": {
        "id": "dtg1NaVCjE1G"
      },
      "source": [
        "# StyleAdv attack\n",
        "\n",
        "Prerequisites: You need to add the pre-trained [style transfer models](https://drive.google.com/drive/folders/12ImHH2kJKw1Vs3rDUSRytP3DZYcHdsZw?usp=sharing) (by https://github.com/martiansideofthemoon/style-transfer-paraphrase) to your Google Drive.\n",
        "\n",
        "Add a shortcut to your Google Drive under /My Drive/style_transfer_paraphrase"
      ]
    },
    {
      "cell_type": "code",
      "execution_count": null,
      "metadata": {
        "colab": {
          "background_save": true,
          "base_uri": "https://localhost:8080/"
        },
        "id": "LB44hyb6pw2C",
        "outputId": "bb026ea9-1304-4a9e-81a5-4a805478b075"
      },
      "outputs": [
        {
          "name": "stdout",
          "output_type": "stream",
          "text": [
            "Cloning into 'StyleAttack'...\n",
            "remote: Enumerating objects: 399, done.\u001b[K\n",
            "remote: Counting objects: 100% (19/19), done.\u001b[K\n",
            "remote: Compressing objects: 100% (19/19), done.\u001b[K\n",
            "remote: Total 399 (delta 7), reused 0 (delta 0), pack-reused 380\u001b[K\n",
            "Receiving objects: 100% (399/399), 58.50 MiB | 20.74 MiB/s, done.\n",
            "Resolving deltas: 100% (112/112), done.\n"
          ]
        }
      ],
      "source": [
        "!git clone https://github.com/yifengd/StyleAttack.git\n",
        "!pip install transformers >> /dev/null\n"
      ]
    },
    {
      "cell_type": "code",
      "execution_count": null,
      "metadata": {
        "colab": {
          "background_save": true,
          "base_uri": "https://localhost:8080/"
        },
        "id": "cNN16cpU9fjz",
        "outputId": "478cfc5b-9b1b-4bd9-9530-e7698d792f47"
      },
      "outputs": [
        {
          "name": "stdout",
          "output_type": "stream",
          "text": [
            "Already up to date.\n"
          ]
        }
      ],
      "source": [
        "!git -C /content/StyleAttack pull"
      ]
    },
    {
      "cell_type": "code",
      "execution_count": null,
      "metadata": {
        "colab": {
          "base_uri": "https://localhost:8080/"
        },
        "id": "INEARxoXqzN5",
        "outputId": "a898ce60-6785-4df5-80b1-afddb8e8fc6c"
      },
      "outputs": [
        {
          "name": "stdout",
          "output_type": "stream",
          "text": [
            "Mounted at /content/drive\n"
          ]
        }
      ],
      "source": [
        "# Mount on Google Drive File System\n",
        "from google.colab import drive\n",
        "drive.mount('/content/drive')"
      ]
    },
    {
      "cell_type": "code",
      "execution_count": null,
      "metadata": {
        "id": "axRyKcTCpQN_"
      },
      "outputs": [],
      "source": [
        "# import pandas as pd\n",
        "# df = pd.read_table(\"/content/StyleAttack/data/clean/ag/dev.tsv\",sep='\\t')\n",
        "\n",
        "# df = df.head(2000)\n",
        "\n",
        "# df.to_csv(\"/content/StyleAttack/data/clean/ag/dev_2000.tsv\", index=False, sep='\\t')"
      ]
    },
    {
      "cell_type": "code",
      "execution_count": null,
      "metadata": {
        "colab": {
          "base_uri": "https://localhost:8080/"
        },
        "id": "EJJHXYT6Pg5Q",
        "outputId": "cea1c3b4-3442-480b-a3d2-86462013405c"
      },
      "outputs": [
        {
          "name": "stdout",
          "output_type": "stream",
          "text": [
            "False\n"
          ]
        }
      ],
      "source": [
        "# import pandas as pd\n",
        "# df = pd.read_table(\"/content/drive/MyDrive/AdversarialXAI/Adversarial Samples/sst2_val_pruthi_bert.csv\", sep=',')\n",
        "\n",
        "# df = df.rename(columns={\"original_output\": \"original_class\", \"perturbed_output\": \"adversarial_class\", \"result_type\": \"success\"})\n",
        "\n",
        "# df['original_class'] = df['original_class'].map({0.0: 0, 1.0: 1})\n",
        "# df['adversarial_class'] = df['adversarial_class'].map({0.0: 0, 1.0: 1})\n",
        "\n",
        "# # df['success'] = df['success'].map({'Failed': 0, 'Successful': 1})\n",
        "\n",
        "# print(df.isnull().values.any())\n",
        "\n",
        "# df.to_csv(\"/content/drive/MyDrive/AdversarialXAI/Adversarial Samples/sst2_val_pruthi_bert_NEW.csv\", index=False)"
      ]
    },
    {
      "cell_type": "code",
      "execution_count": null,
      "metadata": {
        "colab": {
          "base_uri": "https://localhost:8080/"
        },
        "id": "70uA_MIv7V11",
        "outputId": "7bbae7b4-9833-4308-9926-a8eed70c0726"
      },
      "outputs": [
        {
          "name": "stdout",
          "output_type": "stream",
          "text": [
            "/content/StyleAttack/experiments\n",
            "Some weights of the model checkpoint at /content/drive/MyDrive/style_transfer_paraphrase/models/paraphraser_gpt2_large were not used when initializing GPT2LMHeadModel: ['transformer.extra_embedding_project.weight', 'transformer.extra_embedding_project.bias']\n",
            "- This IS expected if you are initializing GPT2LMHeadModel from the checkpoint of a model trained on another task or with another architecture (e.g. initializing a BertForSequenceClassification model from a BertForPreTraining model).\n",
            "- This IS NOT expected if you are initializing GPT2LMHeadModel from the checkpoint of a model that you expect to be exactly identical (initializing a BertForSequenceClassification model from a BertForSequenceClassification model).\n",
            "  0% 0/1000 [00:00<?, ?it/s]/content/StyleAttack/experiments/style_paraphrase/inference_utils.py:95: UserWarning: Creating a tensor from a list of numpy.ndarrays is extremely slow. Please consider converting the list to a single numpy.ndarray with numpy.array() before converting to a tensor. (Triggered internally at  ../torch/csrc/utils/tensor_new.cpp:201.)\n",
            "  gpt2_sentences=torch.tensor([inst.sentence for inst in instances]).to(args.device),\n",
            "100% 1000/1000 [35:23<00:00,  2.12s/it]\n"
          ]
        }
      ],
      "source": [
        "%cd /content/StyleAttack/experiments\n",
        "\n",
        "# INPUT_PATH = \"../data/clean/ag/dev_2000.tsv\"\n",
        "INPUT_PATH = \"/content/drive/MyDrive/AdversarialXAI/Raw\\ data/imdb_train_1000.tsv\"\n",
        "\n",
        "MODEL_NAME = \"textattack/distilbert-base-uncased-imdb\"\n",
        "# MODEL_NAME = \"textattack/bert-base-uncased-SST-2\" \n",
        "# MODEL_NAME = \"textattack/distilbert-base-uncased-ag-news\"\n",
        "\n",
        "MODEL_TYPE = \"distilbert-base-uncased\"\n",
        "\n",
        "cmd = \" \".join([\"python\",\n",
        "              \"attack.py\",\n",
        "              \"--model_name\", MODEL_NAME,\n",
        "              \"--bert_type\", MODEL_TYPE,\n",
        "              \"--orig_file_path\", INPUT_PATH,\n",
        "              \"--model_dir\", \"/content/drive/MyDrive/style_transfer_paraphrase/models/paraphraser_gpt2_large\",\n",
        "              \"--output_file_path\", \"/content/record_100.log\"\n",
        "])\n",
        "\n",
        "!{cmd}\n"
      ]
    },
    {
      "cell_type": "code",
      "execution_count": null,
      "metadata": {
        "id": "o2aIcYcZsRr0"
      },
      "outputs": [],
      "source": [
        "\n",
        "# !CUDA_VISIBLE_DEVICES=0 python attack.py --model_name textattack/distilbert-base-uncased-ag-news --bert_type distilbert-base-uncased --orig_file_path ../data/clean/ag/test_100.tsv --model_dir /content/drive/MyDrive/style_transfer_paraphrase/models/paraphraser_gpt2_large --output_file_path /content/record_100.log\n"
      ]
    },
    {
      "cell_type": "code",
      "execution_count": null,
      "metadata": {
        "id": "ugo7pLObpB1w"
      },
      "outputs": [],
      "source": [
        "import pandas as pd\n",
        "\n",
        "# dfs = []\n",
        "\n",
        "# for label in label_set:\n",
        "#   out_file = f'/content/record_100_{label}.log'\n",
        "#   df = pd.read_table(out_file,sep='\\t')\n",
        "#   dfs.append(df)\n",
        "\n",
        "# df = pd.concat(dfs, ignore_index=True)\n",
        "\n",
        "# df"
      ]
    },
    {
      "cell_type": "code",
      "execution_count": null,
      "metadata": {
        "id": "zXdhJtbSPeFV"
      },
      "outputs": [],
      "source": []
    },
    {
      "cell_type": "code",
      "execution_count": null,
      "metadata": {
        "colab": {
          "base_uri": "https://localhost:8080/",
          "height": 538
        },
        "id": "RyyQ5Pt4pB16",
        "outputId": "7150cfcf-88b9-4c46-ce2c-e4e1da6fed9d"
      },
      "outputs": [
        {
          "name": "stdout",
          "output_type": "stream",
          "text": [
            "Index(['p_val ', ' orig_sent ', ' adv_sent ', ' original_class ',\n",
            "       ' adversarial_class'],\n",
            "      dtype='object')\n",
            "Index(['success', 'original_text', 'adversarial_text', ' original_class ',\n",
            "       ' adversarial_class'],\n",
            "      dtype='object')\n",
            "958\n"
          ]
        },
        {
          "data": {
            "text/html": [
              "\n",
              "  <div id=\"df-f16229ab-88b0-4fdd-8f98-9dc308c516b3\">\n",
              "    <div class=\"colab-df-container\">\n",
              "      <div>\n",
              "<style scoped>\n",
              "    .dataframe tbody tr th:only-of-type {\n",
              "        vertical-align: middle;\n",
              "    }\n",
              "\n",
              "    .dataframe tbody tr th {\n",
              "        vertical-align: top;\n",
              "    }\n",
              "\n",
              "    .dataframe thead th {\n",
              "        text-align: right;\n",
              "    }\n",
              "</style>\n",
              "<table border=\"1\" class=\"dataframe\">\n",
              "  <thead>\n",
              "    <tr style=\"text-align: right;\">\n",
              "      <th></th>\n",
              "      <th>success</th>\n",
              "      <th>original_text</th>\n",
              "      <th>adversarial_text</th>\n",
              "      <th>original_class</th>\n",
              "      <th>adversarial_class</th>\n",
              "    </tr>\n",
              "  </thead>\n",
              "  <tbody>\n",
              "    <tr>\n",
              "      <th>0</th>\n",
              "      <td>1</td>\n",
              "      <td>If you love cult 70's Sci-fi the way I do, or...</td>\n",
              "      <td>it's a movie that's like a \"Repo Man\" or \"Buc...</td>\n",
              "      <td>1</td>\n",
              "      <td>0</td>\n",
              "    </tr>\n",
              "    <tr>\n",
              "      <th>1</th>\n",
              "      <td>1</td>\n",
              "      <td>I am a huge fan of Simon Pegg and have watche...</td>\n",
              "      <td>I'm a huge fan of Simon Pegg, and I've seen h...</td>\n",
              "      <td>1</td>\n",
              "      <td>0</td>\n",
              "    </tr>\n",
              "    <tr>\n",
              "      <th>2</th>\n",
              "      <td>-1</td>\n",
              "      <td>Brown of Harvard is a hard movie to pin down....</td>\n",
              "      <td>Brown of Harvard is a hard movie to pin down....</td>\n",
              "      <td>1</td>\n",
              "      <td>1</td>\n",
              "    </tr>\n",
              "    <tr>\n",
              "      <th>3</th>\n",
              "      <td>1</td>\n",
              "      <td>From director Barbet Schroder (Reversal of Fo...</td>\n",
              "      <td>after my study, I noticed that he's really co...</td>\n",
              "      <td>0</td>\n",
              "      <td>1</td>\n",
              "    </tr>\n",
              "    <tr>\n",
              "      <th>4</th>\n",
              "      <td>1</td>\n",
              "      <td>This is a candidate for the single most disap...</td>\n",
              "      <td>I've never had a worse movie, and the best di...</td>\n",
              "      <td>0</td>\n",
              "      <td>1</td>\n",
              "    </tr>\n",
              "    <tr>\n",
              "      <th>...</th>\n",
              "      <td>...</td>\n",
              "      <td>...</td>\n",
              "      <td>...</td>\n",
              "      <td>...</td>\n",
              "      <td>...</td>\n",
              "    </tr>\n",
              "    <tr>\n",
              "      <th>953</th>\n",
              "      <td>1</td>\n",
              "      <td>The Wicker Man, starring Nicolas Cage, is by ...</td>\n",
              "      <td>the movie, however, is not a great movie, but...</td>\n",
              "      <td>0</td>\n",
              "      <td>1</td>\n",
              "    </tr>\n",
              "    <tr>\n",
              "      <th>954</th>\n",
              "      <td>1</td>\n",
              "      <td>Can Scarcely Imagine a Better Movie Than This...</td>\n",
              "      <td>no one can do anything to me, like a better m...</td>\n",
              "      <td>1</td>\n",
              "      <td>0</td>\n",
              "    </tr>\n",
              "    <tr>\n",
              "      <th>955</th>\n",
              "      <td>1</td>\n",
              "      <td>Alright if you want to go see this movie just...</td>\n",
              "      <td>just give us the money, I'll give you the sam...</td>\n",
              "      <td>0</td>\n",
              "      <td>1</td>\n",
              "    </tr>\n",
              "    <tr>\n",
              "      <th>956</th>\n",
              "      <td>1</td>\n",
              "      <td>This movie is pretty good. Half a year ago, i...</td>\n",
              "      <td>I bought it for $15, but I thought it was a m...</td>\n",
              "      <td>1</td>\n",
              "      <td>0</td>\n",
              "    </tr>\n",
              "    <tr>\n",
              "      <th>957</th>\n",
              "      <td>1</td>\n",
              "      <td>I thought this was a very clunky, uninvolving...</td>\n",
              "      <td>it was a fairly complicated, uninviting versi...</td>\n",
              "      <td>0</td>\n",
              "      <td>1</td>\n",
              "    </tr>\n",
              "  </tbody>\n",
              "</table>\n",
              "<p>958 rows × 5 columns</p>\n",
              "</div>\n",
              "      <button class=\"colab-df-convert\" onclick=\"convertToInteractive('df-f16229ab-88b0-4fdd-8f98-9dc308c516b3')\"\n",
              "              title=\"Convert this dataframe to an interactive table.\"\n",
              "              style=\"display:none;\">\n",
              "        \n",
              "  <svg xmlns=\"http://www.w3.org/2000/svg\" height=\"24px\"viewBox=\"0 0 24 24\"\n",
              "       width=\"24px\">\n",
              "    <path d=\"M0 0h24v24H0V0z\" fill=\"none\"/>\n",
              "    <path d=\"M18.56 5.44l.94 2.06.94-2.06 2.06-.94-2.06-.94-.94-2.06-.94 2.06-2.06.94zm-11 1L8.5 8.5l.94-2.06 2.06-.94-2.06-.94L8.5 2.5l-.94 2.06-2.06.94zm10 10l.94 2.06.94-2.06 2.06-.94-2.06-.94-.94-2.06-.94 2.06-2.06.94z\"/><path d=\"M17.41 7.96l-1.37-1.37c-.4-.4-.92-.59-1.43-.59-.52 0-1.04.2-1.43.59L10.3 9.45l-7.72 7.72c-.78.78-.78 2.05 0 2.83L4 21.41c.39.39.9.59 1.41.59.51 0 1.02-.2 1.41-.59l7.78-7.78 2.81-2.81c.8-.78.8-2.07 0-2.86zM5.41 20L4 18.59l7.72-7.72 1.47 1.35L5.41 20z\"/>\n",
              "  </svg>\n",
              "      </button>\n",
              "      \n",
              "  <style>\n",
              "    .colab-df-container {\n",
              "      display:flex;\n",
              "      flex-wrap:wrap;\n",
              "      gap: 12px;\n",
              "    }\n",
              "\n",
              "    .colab-df-convert {\n",
              "      background-color: #E8F0FE;\n",
              "      border: none;\n",
              "      border-radius: 50%;\n",
              "      cursor: pointer;\n",
              "      display: none;\n",
              "      fill: #1967D2;\n",
              "      height: 32px;\n",
              "      padding: 0 0 0 0;\n",
              "      width: 32px;\n",
              "    }\n",
              "\n",
              "    .colab-df-convert:hover {\n",
              "      background-color: #E2EBFA;\n",
              "      box-shadow: 0px 1px 2px rgba(60, 64, 67, 0.3), 0px 1px 3px 1px rgba(60, 64, 67, 0.15);\n",
              "      fill: #174EA6;\n",
              "    }\n",
              "\n",
              "    [theme=dark] .colab-df-convert {\n",
              "      background-color: #3B4455;\n",
              "      fill: #D2E3FC;\n",
              "    }\n",
              "\n",
              "    [theme=dark] .colab-df-convert:hover {\n",
              "      background-color: #434B5C;\n",
              "      box-shadow: 0px 1px 3px 1px rgba(0, 0, 0, 0.15);\n",
              "      filter: drop-shadow(0px 1px 2px rgba(0, 0, 0, 0.3));\n",
              "      fill: #FFFFFF;\n",
              "    }\n",
              "  </style>\n",
              "\n",
              "      <script>\n",
              "        const buttonEl =\n",
              "          document.querySelector('#df-f16229ab-88b0-4fdd-8f98-9dc308c516b3 button.colab-df-convert');\n",
              "        buttonEl.style.display =\n",
              "          google.colab.kernel.accessAllowed ? 'block' : 'none';\n",
              "\n",
              "        async function convertToInteractive(key) {\n",
              "          const element = document.querySelector('#df-f16229ab-88b0-4fdd-8f98-9dc308c516b3');\n",
              "          const dataTable =\n",
              "            await google.colab.kernel.invokeFunction('convertToInteractive',\n",
              "                                                     [key], {});\n",
              "          if (!dataTable) return;\n",
              "\n",
              "          const docLinkHtml = 'Like what you see? Visit the ' +\n",
              "            '<a target=\"_blank\" href=https://colab.research.google.com/notebooks/data_table.ipynb>data table notebook</a>'\n",
              "            + ' to learn more about interactive tables.';\n",
              "          element.innerHTML = '';\n",
              "          dataTable['output_type'] = 'display_data';\n",
              "          await google.colab.output.renderOutput(dataTable, element);\n",
              "          const docLink = document.createElement('div');\n",
              "          docLink.innerHTML = docLinkHtml;\n",
              "          element.appendChild(docLink);\n",
              "        }\n",
              "      </script>\n",
              "    </div>\n",
              "  </div>\n",
              "  "
            ],
            "text/plain": [
              "     success                                      original_text  \\\n",
              "0          1   If you love cult 70's Sci-fi the way I do, or...   \n",
              "1          1   I am a huge fan of Simon Pegg and have watche...   \n",
              "2         -1   Brown of Harvard is a hard movie to pin down....   \n",
              "3          1   From director Barbet Schroder (Reversal of Fo...   \n",
              "4          1   This is a candidate for the single most disap...   \n",
              "..       ...                                                ...   \n",
              "953        1   The Wicker Man, starring Nicolas Cage, is by ...   \n",
              "954        1   Can Scarcely Imagine a Better Movie Than This...   \n",
              "955        1   Alright if you want to go see this movie just...   \n",
              "956        1   This movie is pretty good. Half a year ago, i...   \n",
              "957        1   I thought this was a very clunky, uninvolving...   \n",
              "\n",
              "                                      adversarial_text   original_class   \\\n",
              "0     it's a movie that's like a \"Repo Man\" or \"Buc...                 1   \n",
              "1     I'm a huge fan of Simon Pegg, and I've seen h...                 1   \n",
              "2     Brown of Harvard is a hard movie to pin down....                 1   \n",
              "3     after my study, I noticed that he's really co...                 0   \n",
              "4     I've never had a worse movie, and the best di...                 0   \n",
              "..                                                 ...               ...   \n",
              "953   the movie, however, is not a great movie, but...                 0   \n",
              "954   no one can do anything to me, like a better m...                 1   \n",
              "955   just give us the money, I'll give you the sam...                 0   \n",
              "956   I bought it for $15, but I thought it was a m...                 1   \n",
              "957   it was a fairly complicated, uninviting versi...                 0   \n",
              "\n",
              "      adversarial_class  \n",
              "0                     0  \n",
              "1                     0  \n",
              "2                     1  \n",
              "3                     1  \n",
              "4                     1  \n",
              "..                  ...  \n",
              "953                   1  \n",
              "954                   0  \n",
              "955                   1  \n",
              "956                   0  \n",
              "957                   1  \n",
              "\n",
              "[958 rows x 5 columns]"
            ]
          },
          "execution_count": 30,
          "metadata": {},
          "output_type": "execute_result"
        }
      ],
      "source": [
        "out_file = f'/content/record_100.log'\n",
        "df = pd.read_table(out_file,sep='\\t')\n",
        "\n",
        "print(df.columns)\n",
        "\n",
        "df = df.rename(columns={\" orig_sent \": \"original_text\", \" adv_sent \": \"adversarial_text\", 'p_val ': 'success', ' original_class': 'original_class',\n",
        "                        'adversarial_class': 'adversarial_class'})\n",
        "print(df.columns)\n",
        "\n",
        "print(len(df))\n",
        "\n",
        "df\n"
      ]
    },
    {
      "cell_type": "code",
      "execution_count": null,
      "metadata": {
        "id": "V_dDmoftFtms"
      },
      "outputs": [],
      "source": [
        "# df.query(\"p_val == 1\")"
      ]
    },
    {
      "cell_type": "code",
      "execution_count": null,
      "metadata": {
        "id": "jSaOWk_FpB16"
      },
      "outputs": [],
      "source": [
        "import os\n",
        "\n",
        "out_name = \"imdb_train_1000_styleadv_distilbert_NEW.csv\"\n",
        "\n",
        "out_dir = '/content/drive/MyDrive/AdversarialXAI/Adversarial Samples/'\n",
        "if not os.path.exists(out_dir):\n",
        "    os.mkdir(out_dir)\n",
        "\n",
        "df.to_csv(os.path.join(out_dir, out_name), index=False)"
      ]
    },
    {
      "cell_type": "code",
      "execution_count": null,
      "metadata": {
        "colab": {
          "base_uri": "https://localhost:8080/",
          "height": 130
        },
        "id": "bAkrmPu9mYiL",
        "outputId": "c0554325-4f28-4f02-f0f4-07681b3e2a9d"
      },
      "outputs": [
        {
          "ename": "SyntaxError",
          "evalue": "ignored",
          "output_type": "error",
          "traceback": [
            "\u001b[0;36m  File \u001b[0;32m\"<ipython-input-33-4b37ef281455>\"\u001b[0;36m, line \u001b[0;32m1\u001b[0m\n\u001b[0;31m    |\u001b[0m\n\u001b[0m    ^\u001b[0m\n\u001b[0;31mSyntaxError\u001b[0m\u001b[0;31m:\u001b[0m invalid syntax\n"
          ]
        }
      ],
      "source": []
    },
    {
      "cell_type": "code",
      "execution_count": null,
      "metadata": {
        "id": "HL9b_ZTCZUlK"
      },
      "outputs": [],
      "source": []
    }
  ],
  "metadata": {
    "accelerator": "GPU",
    "colab": {
      "collapsed_sections": [],
      "name": "Copy of StyleAdv",
      "provenance": [],
      "include_colab_link": true
    },
    "kernelspec": {
      "display_name": "Python 3",
      "name": "python3"
    },
    "language_info": {
      "name": "python"
    }
  },
  "nbformat": 4,
  "nbformat_minor": 0
}