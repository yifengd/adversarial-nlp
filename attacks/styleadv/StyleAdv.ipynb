{
  "nbformat": 4,
  "nbformat_minor": 0,
  "metadata": {
    "colab": {
      "name": "StyleAdv",
      "provenance": [],
      "collapsed_sections": []
    },
    "kernelspec": {
      "name": "python3",
      "display_name": "Python 3"
    },
    "language_info": {
      "name": "python"
    },
    "accelerator": "GPU"
  },
  "cells": [
    {
      "cell_type": "markdown",
      "source": [
        "# StyleAdv attack\n",
        "\n",
        "Prerequisites: You need to add the pre-trained [style transfer models](https://drive.google.com/drive/folders/12ImHH2kJKw1Vs3rDUSRytP3DZYcHdsZw?usp=sharing) (by https://github.com/martiansideofthemoon/style-transfer-paraphrase) to your Google Drive.\n",
        "\n",
        "Add a shortcut to your Google Drive under /My Drive/style_transfer_paraphrase"
      ],
      "metadata": {
        "id": "dtg1NaVCjE1G"
      }
    },
    {
      "cell_type": "code",
      "execution_count": 1,
      "metadata": {
        "colab": {
          "base_uri": "https://localhost:8080/"
        },
        "id": "LB44hyb6pw2C",
        "outputId": "b19b4ccc-d0d1-47c5-bd89-5da3089ed740"
      },
      "outputs": [
        {
          "output_type": "stream",
          "name": "stdout",
          "text": [
            "Cloning into 'StyleAttack'...\n",
            "remote: Enumerating objects: 376, done.\u001b[K\n",
            "remote: Counting objects: 100% (28/28), done.\u001b[K\n",
            "remote: Compressing objects: 100% (17/17), done.\u001b[K\n",
            "remote: Total 376 (delta 13), reused 26 (delta 11), pack-reused 348\u001b[K\n",
            "Receiving objects: 100% (376/376), 58.34 MiB | 18.18 MiB/s, done.\n",
            "Resolving deltas: 100% (103/103), done.\n"
          ]
        }
      ],
      "source": [
        "!git clone https://github.com/yifengd/StyleAttack.git\n",
        "!pip install transformers >> /dev/null\n"
      ]
    },
    {
      "cell_type": "code",
      "source": [
        "!git -C /content/StyleAttack pull"
      ],
      "metadata": {
        "colab": {
          "base_uri": "https://localhost:8080/"
        },
        "id": "cNN16cpU9fjz",
        "outputId": "b6ec380b-464e-480b-937e-80e7234a5c94"
      },
      "execution_count": 80,
      "outputs": [
        {
          "output_type": "stream",
          "name": "stdout",
          "text": [
            "remote: Enumerating objects: 7, done.\u001b[K\n",
            "remote: Counting objects:  14% (1/7)\u001b[K\rremote: Counting objects:  28% (2/7)\u001b[K\rremote: Counting objects:  42% (3/7)\u001b[K\rremote: Counting objects:  57% (4/7)\u001b[K\rremote: Counting objects:  71% (5/7)\u001b[K\rremote: Counting objects:  85% (6/7)\u001b[K\rremote: Counting objects: 100% (7/7)\u001b[K\rremote: Counting objects: 100% (7/7), done.\u001b[K\n",
            "remote: Compressing objects:  25% (1/4)\u001b[K\rremote: Compressing objects:  50% (2/4)\u001b[K\rremote: Compressing objects:  75% (3/4)\u001b[K\rremote: Compressing objects: 100% (4/4)\u001b[K\rremote: Compressing objects: 100% (4/4), done.\u001b[K\n",
            "remote: Total 4 (delta 3), reused 0 (delta 0), pack-reused 0\u001b[K\n",
            "Unpacking objects:  25% (1/4)   \rUnpacking objects:  50% (2/4)   \rUnpacking objects:  75% (3/4)   \rUnpacking objects: 100% (4/4)   \rUnpacking objects: 100% (4/4), done.\n",
            "From https://github.com/yifengd/StyleAttack\n",
            "   a2ede33..fd13a52  main       -> origin/main\n",
            "Updating a2ede33..fd13a52\n",
            "Fast-forward\n",
            " experiments/attack.py | 3 \u001b[32m+++\u001b[m\n",
            " 1 file changed, 3 insertions(+)\n"
          ]
        }
      ]
    },
    {
      "cell_type": "code",
      "source": [
        "# Mount on Google Drive File System\n",
        "from google.colab import drive\n",
        "drive.mount('/content/drive')"
      ],
      "metadata": {
        "colab": {
          "base_uri": "https://localhost:8080/"
        },
        "id": "INEARxoXqzN5",
        "outputId": "be117c3f-4057-48dd-f73d-124921c944df"
      },
      "execution_count": 3,
      "outputs": [
        {
          "output_type": "stream",
          "name": "stdout",
          "text": [
            "Drive already mounted at /content/drive; to attempt to forcibly remount, call drive.mount(\"/content/drive\", force_remount=True).\n"
          ]
        }
      ]
    },
    {
      "cell_type": "code",
      "source": [
        "%cd /content/StyleAttack/experiments\n",
        "\n",
        "cmd = \" \".join([\"python\",\n",
        "              \"attack.py\",\n",
        "              \"--model_name\", \"textattack/distilbert-base-uncased-ag-news\",\n",
        "              \"--bert_type\", \"distilbert-base-uncased\",\n",
        "              \"--orig_file_path\", \"../data/clean/ag/test_100.tsv\",\n",
        "              \"--model_dir\", \"/content/drive/MyDrive/style_transfer_paraphrase/models/paraphraser_gpt2_large\",\n",
        "              \"--output_file_path\", \"/content/record_100.log\"\n",
        "])\n",
        "\n",
        "!{cmd}\n"
      ],
      "metadata": {
        "colab": {
          "base_uri": "https://localhost:8080/"
        },
        "id": "70uA_MIv7V11",
        "outputId": "7dc533ff-75f7-4a70-99b7-cc9dcb9ec6cf"
      },
      "execution_count": 81,
      "outputs": [
        {
          "output_type": "stream",
          "name": "stdout",
          "text": [
            "/content/StyleAttack/experiments\n",
            "Some weights of the model checkpoint at /content/drive/MyDrive/style_transfer_paraphrase/models/paraphraser_gpt2_large were not used when initializing GPT2LMHeadModel: ['transformer.extra_embedding_project.bias', 'transformer.extra_embedding_project.weight']\n",
            "- This IS expected if you are initializing GPT2LMHeadModel from the checkpoint of a model trained on another task or with another architecture (e.g. initializing a BertForSequenceClassification model from a BertForPreTraining model).\n",
            "- This IS NOT expected if you are initializing GPT2LMHeadModel from the checkpoint of a model that you expect to be exactly identical (initializing a BertForSequenceClassification model from a BertForSequenceClassification model).\n",
            "  0% 0/99 [00:00<?, ?it/s]/content/StyleAttack/experiments/style_paraphrase/inference_utils.py:95: UserWarning: Creating a tensor from a list of numpy.ndarrays is extremely slow. Please consider converting the list to a single numpy.ndarray with numpy.array() before converting to a tensor. (Triggered internally at  ../torch/csrc/utils/tensor_new.cpp:210.)\n",
            "  gpt2_sentences=torch.tensor([inst.sentence for inst in instances]).to(args.device),\n",
            "100% 99/99 [03:00<00:00,  1.83s/it]\n"
          ]
        }
      ]
    },
    {
      "cell_type": "code",
      "source": [
        "\n",
        "# !CUDA_VISIBLE_DEVICES=0 python attack.py --model_name textattack/distilbert-base-uncased-ag-news --bert_type distilbert-base-uncased --orig_file_path ../data/clean/ag/test_100.tsv --model_dir /content/drive/MyDrive/style_transfer_paraphrase/models/paraphraser_gpt2_large --output_file_path /content/record_100.log\n"
      ],
      "metadata": {
        "id": "o2aIcYcZsRr0"
      },
      "execution_count": 82,
      "outputs": []
    },
    {
      "cell_type": "code",
      "source": [
        "import pandas as pd\n",
        "\n",
        "# dfs = []\n",
        "\n",
        "# for label in label_set:\n",
        "#   out_file = f'/content/record_100_{label}.log'\n",
        "#   df = pd.read_table(out_file,sep='\\t')\n",
        "#   dfs.append(df)\n",
        "\n",
        "# df = pd.concat(dfs, ignore_index=True)\n",
        "\n",
        "# df"
      ],
      "metadata": {
        "id": "ugo7pLObpB1w"
      },
      "execution_count": 83,
      "outputs": []
    },
    {
      "cell_type": "code",
      "source": [
        "out_file = f'/content/record_100.log'\n",
        "df = pd.read_table(out_file,sep='\\t')\n",
        "\n",
        "print(df.columns)\n",
        "\n",
        "df = df.rename(columns={\" orig_sent \": \"original_text\", \" adv_sent \": \"adversarial_text\", 'p_val ': 'p_val', ' labels': 'labels'})\n",
        "print(df.columns)\n",
        "\n",
        "print(len(df))\n",
        "\n",
        "df\n"
      ],
      "metadata": {
        "colab": {
          "base_uri": "https://localhost:8080/",
          "height": 470
        },
        "outputId": "f5d0315d-9b82-48b5-8100-b56073f08464",
        "id": "RyyQ5Pt4pB16"
      },
      "execution_count": 84,
      "outputs": [
        {
          "output_type": "stream",
          "name": "stdout",
          "text": [
            "Index(['p_val ', ' orig_sent ', ' adv_sent ', ' labels'], dtype='object')\n",
            "Index(['p_val', 'original_text', 'adversarial_text', 'labels'], dtype='object')\n",
            "87\n"
          ]
        },
        {
          "output_type": "execute_result",
          "data": {
            "text/plain": [
              "    p_val                                      original_text  \\\n",
              "0      -1   unions representing workers at turner   newal...   \n",
              "1      -1   space.com - toronto, canada -- a second\\team ...   \n",
              "2      -1   ap - a company founded by a chemistry researc...   \n",
              "3      -1   ap - southern california's smog-fighting agen...   \n",
              "4      -1   the british department for education and skil...   \n",
              "..    ...                                                ...   \n",
              "82      1   olympic champion kostas kederis today left ho...   \n",
              "83     -1   newcastle, england (ap) - england coach sven-...   \n",
              "84     -1   newcastle, england (ap) - striker emile heske...   \n",
              "85     -1   new york (reuters) - staples inc. &lt;a href=...   \n",
              "86     -1   aghdad, iraq, aug. 17  a delegation of iraqis...   \n",
              "\n",
              "                                     adversarial_text  labels  \n",
              "0    unions representing workers at turner   newal...       2  \n",
              "1    space.com - toronto, canada -- a second\\team ...       3  \n",
              "2    ap - a company founded by a chemistry researc...       3  \n",
              "3    ap - southern california's smog-fighting agen...       3  \n",
              "4    the british department for education and skil...       3  \n",
              "..                                                ...     ...  \n",
              "82   today he was taken out of the hospital and se...       1  \n",
              "83   newcastle, england (ap) - england coach sven-...       1  \n",
              "84   newcastle, england (ap) - striker emile heske...       1  \n",
              "85   new york (reuters) - staples inc. &lt;a href=...       2  \n",
              "86   aghdad, iraq, aug. 17  a delegation of iraqis...       0  \n",
              "\n",
              "[87 rows x 4 columns]"
            ],
            "text/html": [
              "\n",
              "  <div id=\"df-c399d356-541b-4675-800c-0fa0bd4cc478\">\n",
              "    <div class=\"colab-df-container\">\n",
              "      <div>\n",
              "<style scoped>\n",
              "    .dataframe tbody tr th:only-of-type {\n",
              "        vertical-align: middle;\n",
              "    }\n",
              "\n",
              "    .dataframe tbody tr th {\n",
              "        vertical-align: top;\n",
              "    }\n",
              "\n",
              "    .dataframe thead th {\n",
              "        text-align: right;\n",
              "    }\n",
              "</style>\n",
              "<table border=\"1\" class=\"dataframe\">\n",
              "  <thead>\n",
              "    <tr style=\"text-align: right;\">\n",
              "      <th></th>\n",
              "      <th>p_val</th>\n",
              "      <th>original_text</th>\n",
              "      <th>adversarial_text</th>\n",
              "      <th>labels</th>\n",
              "    </tr>\n",
              "  </thead>\n",
              "  <tbody>\n",
              "    <tr>\n",
              "      <th>0</th>\n",
              "      <td>-1</td>\n",
              "      <td>unions representing workers at turner   newal...</td>\n",
              "      <td>unions representing workers at turner   newal...</td>\n",
              "      <td>2</td>\n",
              "    </tr>\n",
              "    <tr>\n",
              "      <th>1</th>\n",
              "      <td>-1</td>\n",
              "      <td>space.com - toronto, canada -- a second\\team ...</td>\n",
              "      <td>space.com - toronto, canada -- a second\\team ...</td>\n",
              "      <td>3</td>\n",
              "    </tr>\n",
              "    <tr>\n",
              "      <th>2</th>\n",
              "      <td>-1</td>\n",
              "      <td>ap - a company founded by a chemistry researc...</td>\n",
              "      <td>ap - a company founded by a chemistry researc...</td>\n",
              "      <td>3</td>\n",
              "    </tr>\n",
              "    <tr>\n",
              "      <th>3</th>\n",
              "      <td>-1</td>\n",
              "      <td>ap - southern california's smog-fighting agen...</td>\n",
              "      <td>ap - southern california's smog-fighting agen...</td>\n",
              "      <td>3</td>\n",
              "    </tr>\n",
              "    <tr>\n",
              "      <th>4</th>\n",
              "      <td>-1</td>\n",
              "      <td>the british department for education and skil...</td>\n",
              "      <td>the british department for education and skil...</td>\n",
              "      <td>3</td>\n",
              "    </tr>\n",
              "    <tr>\n",
              "      <th>...</th>\n",
              "      <td>...</td>\n",
              "      <td>...</td>\n",
              "      <td>...</td>\n",
              "      <td>...</td>\n",
              "    </tr>\n",
              "    <tr>\n",
              "      <th>82</th>\n",
              "      <td>1</td>\n",
              "      <td>olympic champion kostas kederis today left ho...</td>\n",
              "      <td>today he was taken out of the hospital and se...</td>\n",
              "      <td>1</td>\n",
              "    </tr>\n",
              "    <tr>\n",
              "      <th>83</th>\n",
              "      <td>-1</td>\n",
              "      <td>newcastle, england (ap) - england coach sven-...</td>\n",
              "      <td>newcastle, england (ap) - england coach sven-...</td>\n",
              "      <td>1</td>\n",
              "    </tr>\n",
              "    <tr>\n",
              "      <th>84</th>\n",
              "      <td>-1</td>\n",
              "      <td>newcastle, england (ap) - striker emile heske...</td>\n",
              "      <td>newcastle, england (ap) - striker emile heske...</td>\n",
              "      <td>1</td>\n",
              "    </tr>\n",
              "    <tr>\n",
              "      <th>85</th>\n",
              "      <td>-1</td>\n",
              "      <td>new york (reuters) - staples inc. &amp;lt;a href=...</td>\n",
              "      <td>new york (reuters) - staples inc. &amp;lt;a href=...</td>\n",
              "      <td>2</td>\n",
              "    </tr>\n",
              "    <tr>\n",
              "      <th>86</th>\n",
              "      <td>-1</td>\n",
              "      <td>aghdad, iraq, aug. 17  a delegation of iraqis...</td>\n",
              "      <td>aghdad, iraq, aug. 17  a delegation of iraqis...</td>\n",
              "      <td>0</td>\n",
              "    </tr>\n",
              "  </tbody>\n",
              "</table>\n",
              "<p>87 rows × 4 columns</p>\n",
              "</div>\n",
              "      <button class=\"colab-df-convert\" onclick=\"convertToInteractive('df-c399d356-541b-4675-800c-0fa0bd4cc478')\"\n",
              "              title=\"Convert this dataframe to an interactive table.\"\n",
              "              style=\"display:none;\">\n",
              "        \n",
              "  <svg xmlns=\"http://www.w3.org/2000/svg\" height=\"24px\"viewBox=\"0 0 24 24\"\n",
              "       width=\"24px\">\n",
              "    <path d=\"M0 0h24v24H0V0z\" fill=\"none\"/>\n",
              "    <path d=\"M18.56 5.44l.94 2.06.94-2.06 2.06-.94-2.06-.94-.94-2.06-.94 2.06-2.06.94zm-11 1L8.5 8.5l.94-2.06 2.06-.94-2.06-.94L8.5 2.5l-.94 2.06-2.06.94zm10 10l.94 2.06.94-2.06 2.06-.94-2.06-.94-.94-2.06-.94 2.06-2.06.94z\"/><path d=\"M17.41 7.96l-1.37-1.37c-.4-.4-.92-.59-1.43-.59-.52 0-1.04.2-1.43.59L10.3 9.45l-7.72 7.72c-.78.78-.78 2.05 0 2.83L4 21.41c.39.39.9.59 1.41.59.51 0 1.02-.2 1.41-.59l7.78-7.78 2.81-2.81c.8-.78.8-2.07 0-2.86zM5.41 20L4 18.59l7.72-7.72 1.47 1.35L5.41 20z\"/>\n",
              "  </svg>\n",
              "      </button>\n",
              "      \n",
              "  <style>\n",
              "    .colab-df-container {\n",
              "      display:flex;\n",
              "      flex-wrap:wrap;\n",
              "      gap: 12px;\n",
              "    }\n",
              "\n",
              "    .colab-df-convert {\n",
              "      background-color: #E8F0FE;\n",
              "      border: none;\n",
              "      border-radius: 50%;\n",
              "      cursor: pointer;\n",
              "      display: none;\n",
              "      fill: #1967D2;\n",
              "      height: 32px;\n",
              "      padding: 0 0 0 0;\n",
              "      width: 32px;\n",
              "    }\n",
              "\n",
              "    .colab-df-convert:hover {\n",
              "      background-color: #E2EBFA;\n",
              "      box-shadow: 0px 1px 2px rgba(60, 64, 67, 0.3), 0px 1px 3px 1px rgba(60, 64, 67, 0.15);\n",
              "      fill: #174EA6;\n",
              "    }\n",
              "\n",
              "    [theme=dark] .colab-df-convert {\n",
              "      background-color: #3B4455;\n",
              "      fill: #D2E3FC;\n",
              "    }\n",
              "\n",
              "    [theme=dark] .colab-df-convert:hover {\n",
              "      background-color: #434B5C;\n",
              "      box-shadow: 0px 1px 3px 1px rgba(0, 0, 0, 0.15);\n",
              "      filter: drop-shadow(0px 1px 2px rgba(0, 0, 0, 0.3));\n",
              "      fill: #FFFFFF;\n",
              "    }\n",
              "  </style>\n",
              "\n",
              "      <script>\n",
              "        const buttonEl =\n",
              "          document.querySelector('#df-c399d356-541b-4675-800c-0fa0bd4cc478 button.colab-df-convert');\n",
              "        buttonEl.style.display =\n",
              "          google.colab.kernel.accessAllowed ? 'block' : 'none';\n",
              "\n",
              "        async function convertToInteractive(key) {\n",
              "          const element = document.querySelector('#df-c399d356-541b-4675-800c-0fa0bd4cc478');\n",
              "          const dataTable =\n",
              "            await google.colab.kernel.invokeFunction('convertToInteractive',\n",
              "                                                     [key], {});\n",
              "          if (!dataTable) return;\n",
              "\n",
              "          const docLinkHtml = 'Like what you see? Visit the ' +\n",
              "            '<a target=\"_blank\" href=https://colab.research.google.com/notebooks/data_table.ipynb>data table notebook</a>'\n",
              "            + ' to learn more about interactive tables.';\n",
              "          element.innerHTML = '';\n",
              "          dataTable['output_type'] = 'display_data';\n",
              "          await google.colab.output.renderOutput(dataTable, element);\n",
              "          const docLink = document.createElement('div');\n",
              "          docLink.innerHTML = docLinkHtml;\n",
              "          element.appendChild(docLink);\n",
              "        }\n",
              "      </script>\n",
              "    </div>\n",
              "  </div>\n",
              "  "
            ]
          },
          "metadata": {},
          "execution_count": 84
        }
      ]
    },
    {
      "cell_type": "code",
      "source": [
        "# df.query(\"p_val == 1\")"
      ],
      "metadata": {
        "id": "V_dDmoftFtms"
      },
      "execution_count": 85,
      "outputs": []
    },
    {
      "cell_type": "code",
      "source": [
        "import os\n",
        "\n",
        "out_name = \"ag-news_100_styleadv_distilbert.csv\"\n",
        "\n",
        "out_dir = '/content/drive/MyDrive/AdversarialXAI/Adversarial Samples/'\n",
        "if not os.path.exists(out_dir):\n",
        "    os.mkdir(out_dir)\n",
        "\n",
        "df.to_csv(os.path.join(out_dir, out_name), index=False)"
      ],
      "metadata": {
        "id": "jSaOWk_FpB16"
      },
      "execution_count": 86,
      "outputs": []
    },
    {
      "cell_type": "code",
      "source": [
        ""
      ],
      "metadata": {
        "id": "bAkrmPu9mYiL"
      },
      "execution_count": null,
      "outputs": []
    }
  ]
}