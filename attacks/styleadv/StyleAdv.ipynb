{
  "nbformat": 4,
  "nbformat_minor": 0,
  "metadata": {
    "colab": {
      "name": "StyleAdv",
      "provenance": [],
      "collapsed_sections": []
    },
    "kernelspec": {
      "name": "python3",
      "display_name": "Python 3"
    },
    "language_info": {
      "name": "python"
    },
    "accelerator": "GPU"
  },
  "cells": [
    {
      "cell_type": "markdown",
      "source": [
        "# StyleAdv attack\n",
        "\n",
        "Prerequisites: You need to add the pre-trained [style transfer models](https://drive.google.com/drive/folders/12ImHH2kJKw1Vs3rDUSRytP3DZYcHdsZw?usp=sharing) (by https://github.com/martiansideofthemoon/style-transfer-paraphrase) to your Google Drive.\n",
        "\n",
        "Add a shortcut to your Google Drive under /My Drive/style_transfer_paraphrase"
      ],
      "metadata": {
        "id": "dtg1NaVCjE1G"
      }
    },
    {
      "cell_type": "code",
      "execution_count": 1,
      "metadata": {
        "colab": {
          "base_uri": "https://localhost:8080/"
        },
        "id": "LB44hyb6pw2C",
        "outputId": "c2002c38-b7db-4a65-90d1-4c95e09e415d"
      },
      "outputs": [
        {
          "output_type": "stream",
          "name": "stdout",
          "text": [
            "Cloning into 'StyleAttack'...\n",
            "remote: Enumerating objects: 388, done.\u001b[K\n",
            "remote: Counting objects: 100% (8/8), done.\u001b[K\n",
            "remote: Compressing objects: 100% (8/8), done.\u001b[K\n",
            "remote: Total 388 (delta 3), reused 0 (delta 0), pack-reused 380\u001b[K\n",
            "Receiving objects: 100% (388/388), 58.35 MiB | 18.98 MiB/s, done.\n",
            "Resolving deltas: 100% (108/108), done.\n"
          ]
        }
      ],
      "source": [
        "!git clone https://github.com/yifengd/StyleAttack.git\n",
        "!pip install transformers >> /dev/null\n"
      ]
    },
    {
      "cell_type": "code",
      "source": [
        "!git -C /content/StyleAttack pull"
      ],
      "metadata": {
        "colab": {
          "base_uri": "https://localhost:8080/"
        },
        "id": "cNN16cpU9fjz",
        "outputId": "1df7adb7-2594-4f2f-e017-87fdb2f72ebb"
      },
      "execution_count": 2,
      "outputs": [
        {
          "output_type": "stream",
          "name": "stdout",
          "text": [
            "Already up to date.\n"
          ]
        }
      ]
    },
    {
      "cell_type": "code",
      "source": [
        "# Mount on Google Drive File System\n",
        "from google.colab import drive\n",
        "drive.mount('/content/drive')"
      ],
      "metadata": {
        "colab": {
          "base_uri": "https://localhost:8080/"
        },
        "id": "INEARxoXqzN5",
        "outputId": "cb576861-9ba0-43f5-af58-ce0eef3d8e77"
      },
      "execution_count": 3,
      "outputs": [
        {
          "output_type": "stream",
          "name": "stdout",
          "text": [
            "Mounted at /content/drive\n"
          ]
        }
      ]
    },
    {
      "cell_type": "code",
      "source": [
        "%cd /content/StyleAttack/experiments\n",
        "\n",
        "# INPUT_PATH = \"../data/clean/ag/test_100.tsv\"\n",
        "INPUT_PATH = \"/content/drive/MyDrive/AdversarialXAI/Raw\\ data/sst2_val_100.tsv\"\n",
        "\n",
        "# MODEL_NAME = \"textattack/distilbert-base-uncased-imdb\"\n",
        "MODEL_NAME = \"textattack/distilbert-base-uncased-SST-2\" # Note this model is on huggingface but not listed on the textattack website\n",
        "\n",
        "cmd = \" \".join([\"python\",\n",
        "              \"attack.py\",\n",
        "              \"--model_name\", MODEL_NAME,\n",
        "              \"--bert_type\", \"distilbert-base-cased\",\n",
        "              \"--orig_file_path\", INPUT_PATH,\n",
        "              \"--model_dir\", \"/content/drive/MyDrive/style_transfer_paraphrase/models/paraphraser_gpt2_large\",\n",
        "              \"--output_file_path\", \"/content/record_100.log\"\n",
        "])\n",
        "\n",
        "!{cmd}\n"
      ],
      "metadata": {
        "colab": {
          "base_uri": "https://localhost:8080/"
        },
        "id": "70uA_MIv7V11",
        "outputId": "a43e77c3-aece-49be-d6ee-ba85a4f2dd5d"
      },
      "execution_count": null,
      "outputs": [
        {
          "output_type": "stream",
          "name": "stdout",
          "text": [
            "/content/StyleAttack/experiments\n",
            "Downloading: 100% 486/486 [00:00<00:00, 651kB/s]\n",
            "Downloading: 100% 255M/255M [00:06<00:00, 39.8MB/s]\n",
            "Downloading: 100% 29.0/29.0 [00:00<00:00, 34.9kB/s]\n",
            "Downloading: 100% 411/411 [00:00<00:00, 450kB/s]\n",
            "Downloading: 100% 208k/208k [00:00<00:00, 1.80MB/s]\n",
            "Downloading: 100% 426k/426k [00:00<00:00, 2.95MB/s]\n"
          ]
        }
      ]
    },
    {
      "cell_type": "code",
      "source": [
        "\n",
        "# !CUDA_VISIBLE_DEVICES=0 python attack.py --model_name textattack/distilbert-base-uncased-ag-news --bert_type distilbert-base-uncased --orig_file_path ../data/clean/ag/test_100.tsv --model_dir /content/drive/MyDrive/style_transfer_paraphrase/models/paraphraser_gpt2_large --output_file_path /content/record_100.log\n"
      ],
      "metadata": {
        "id": "o2aIcYcZsRr0"
      },
      "execution_count": null,
      "outputs": []
    },
    {
      "cell_type": "code",
      "source": [
        "import pandas as pd\n",
        "\n",
        "# dfs = []\n",
        "\n",
        "# for label in label_set:\n",
        "#   out_file = f'/content/record_100_{label}.log'\n",
        "#   df = pd.read_table(out_file,sep='\\t')\n",
        "#   dfs.append(df)\n",
        "\n",
        "# df = pd.concat(dfs, ignore_index=True)\n",
        "\n",
        "# df"
      ],
      "metadata": {
        "id": "ugo7pLObpB1w"
      },
      "execution_count": null,
      "outputs": []
    },
    {
      "cell_type": "code",
      "source": [
        "out_file = f'/content/record_100.log'\n",
        "df = pd.read_table(out_file,sep='\\t')\n",
        "\n",
        "print(df.columns)\n",
        "\n",
        "df = df.rename(columns={\" orig_sent \": \"original_text\", \" adv_sent \": \"adversarial_text\", 'p_val ': 'p_val', ' labels': 'labels'})\n",
        "print(df.columns)\n",
        "\n",
        "print(len(df))\n",
        "\n",
        "df\n"
      ],
      "metadata": {
        "colab": {
          "base_uri": "https://localhost:8080/",
          "height": 470
        },
        "outputId": "27cca470-d8ec-40dd-ede1-73a8ea87fce1",
        "id": "RyyQ5Pt4pB16"
      },
      "execution_count": null,
      "outputs": [
        {
          "output_type": "stream",
          "name": "stdout",
          "text": [
            "Index(['p_val ', ' orig_sent ', ' adv_sent ', ' labels'], dtype='object')\n",
            "Index(['p_val', 'original_text', 'adversarial_text', 'labels'], dtype='object')\n",
            "93\n"
          ]
        },
        {
          "output_type": "execute_result",
          "data": {
            "text/plain": [
              "    p_val                                      original_text  \\\n",
              "0      -1   1891: Stalwart, morally upright military doct...   \n",
              "1      -1   Robert Cummings, Laraine Day and Jean Muir st...   \n",
              "2      -1   When Precious Bane aired in America, I was st...   \n",
              "3       1   This film is terribly bad. Kevin Spacey is a ...   \n",
              "4       1   OK i have seen Hershall Gordon Lewis movies b...   \n",
              "..    ...                                                ...   \n",
              "88     -1   I will not spoil your surprise by mentioning ...   \n",
              "89      1   A gem from Japan, where so many of the world'...   \n",
              "90     -1   From the opening drum hit of \"We're Gonna Gro...   \n",
              "91     -1   Not since J. Michael Straczynski's Babylon 5,...   \n",
              "92      1   I actually enjoyed Tycus, if not for much mor...   \n",
              "\n",
              "                                     adversarial_text  labels  \n",
              "0    1891: Stalwart, morally upright military doct...       1  \n",
              "1    Robert Cummings, Laraine Day and Jean Muir st...       1  \n",
              "2    When Precious Bane aired in America, I was st...       1  \n",
              "3    he's really bad, but he's really good at LA C...       0  \n",
              "4    I've seen Hershall Gordon Lewis films before,...       0  \n",
              "..                                                ...     ...  \n",
              "88   I will not spoil your surprise by mentioning ...       0  \n",
              "89   in the film, which is being made by the best ...       1  \n",
              "90   From the opening drum hit of \"We're Gonna Gro...       1  \n",
              "91   Not since J. Michael Straczynski's Babylon 5,...       1  \n",
              "92   as far as I'm concerned, the real Dennis Hopp...       0  \n",
              "\n",
              "[93 rows x 4 columns]"
            ],
            "text/html": [
              "\n",
              "  <div id=\"df-e30c758d-8c50-4adc-8915-6f2ad327d484\">\n",
              "    <div class=\"colab-df-container\">\n",
              "      <div>\n",
              "<style scoped>\n",
              "    .dataframe tbody tr th:only-of-type {\n",
              "        vertical-align: middle;\n",
              "    }\n",
              "\n",
              "    .dataframe tbody tr th {\n",
              "        vertical-align: top;\n",
              "    }\n",
              "\n",
              "    .dataframe thead th {\n",
              "        text-align: right;\n",
              "    }\n",
              "</style>\n",
              "<table border=\"1\" class=\"dataframe\">\n",
              "  <thead>\n",
              "    <tr style=\"text-align: right;\">\n",
              "      <th></th>\n",
              "      <th>p_val</th>\n",
              "      <th>original_text</th>\n",
              "      <th>adversarial_text</th>\n",
              "      <th>labels</th>\n",
              "    </tr>\n",
              "  </thead>\n",
              "  <tbody>\n",
              "    <tr>\n",
              "      <th>0</th>\n",
              "      <td>-1</td>\n",
              "      <td>1891: Stalwart, morally upright military doct...</td>\n",
              "      <td>1891: Stalwart, morally upright military doct...</td>\n",
              "      <td>1</td>\n",
              "    </tr>\n",
              "    <tr>\n",
              "      <th>1</th>\n",
              "      <td>-1</td>\n",
              "      <td>Robert Cummings, Laraine Day and Jean Muir st...</td>\n",
              "      <td>Robert Cummings, Laraine Day and Jean Muir st...</td>\n",
              "      <td>1</td>\n",
              "    </tr>\n",
              "    <tr>\n",
              "      <th>2</th>\n",
              "      <td>-1</td>\n",
              "      <td>When Precious Bane aired in America, I was st...</td>\n",
              "      <td>When Precious Bane aired in America, I was st...</td>\n",
              "      <td>1</td>\n",
              "    </tr>\n",
              "    <tr>\n",
              "      <th>3</th>\n",
              "      <td>1</td>\n",
              "      <td>This film is terribly bad. Kevin Spacey is a ...</td>\n",
              "      <td>he's really bad, but he's really good at LA C...</td>\n",
              "      <td>0</td>\n",
              "    </tr>\n",
              "    <tr>\n",
              "      <th>4</th>\n",
              "      <td>1</td>\n",
              "      <td>OK i have seen Hershall Gordon Lewis movies b...</td>\n",
              "      <td>I've seen Hershall Gordon Lewis films before,...</td>\n",
              "      <td>0</td>\n",
              "    </tr>\n",
              "    <tr>\n",
              "      <th>...</th>\n",
              "      <td>...</td>\n",
              "      <td>...</td>\n",
              "      <td>...</td>\n",
              "      <td>...</td>\n",
              "    </tr>\n",
              "    <tr>\n",
              "      <th>88</th>\n",
              "      <td>-1</td>\n",
              "      <td>I will not spoil your surprise by mentioning ...</td>\n",
              "      <td>I will not spoil your surprise by mentioning ...</td>\n",
              "      <td>0</td>\n",
              "    </tr>\n",
              "    <tr>\n",
              "      <th>89</th>\n",
              "      <td>1</td>\n",
              "      <td>A gem from Japan, where so many of the world'...</td>\n",
              "      <td>in the film, which is being made by the best ...</td>\n",
              "      <td>1</td>\n",
              "    </tr>\n",
              "    <tr>\n",
              "      <th>90</th>\n",
              "      <td>-1</td>\n",
              "      <td>From the opening drum hit of \"We're Gonna Gro...</td>\n",
              "      <td>From the opening drum hit of \"We're Gonna Gro...</td>\n",
              "      <td>1</td>\n",
              "    </tr>\n",
              "    <tr>\n",
              "      <th>91</th>\n",
              "      <td>-1</td>\n",
              "      <td>Not since J. Michael Straczynski's Babylon 5,...</td>\n",
              "      <td>Not since J. Michael Straczynski's Babylon 5,...</td>\n",
              "      <td>1</td>\n",
              "    </tr>\n",
              "    <tr>\n",
              "      <th>92</th>\n",
              "      <td>1</td>\n",
              "      <td>I actually enjoyed Tycus, if not for much mor...</td>\n",
              "      <td>as far as I'm concerned, the real Dennis Hopp...</td>\n",
              "      <td>0</td>\n",
              "    </tr>\n",
              "  </tbody>\n",
              "</table>\n",
              "<p>93 rows × 4 columns</p>\n",
              "</div>\n",
              "      <button class=\"colab-df-convert\" onclick=\"convertToInteractive('df-e30c758d-8c50-4adc-8915-6f2ad327d484')\"\n",
              "              title=\"Convert this dataframe to an interactive table.\"\n",
              "              style=\"display:none;\">\n",
              "        \n",
              "  <svg xmlns=\"http://www.w3.org/2000/svg\" height=\"24px\"viewBox=\"0 0 24 24\"\n",
              "       width=\"24px\">\n",
              "    <path d=\"M0 0h24v24H0V0z\" fill=\"none\"/>\n",
              "    <path d=\"M18.56 5.44l.94 2.06.94-2.06 2.06-.94-2.06-.94-.94-2.06-.94 2.06-2.06.94zm-11 1L8.5 8.5l.94-2.06 2.06-.94-2.06-.94L8.5 2.5l-.94 2.06-2.06.94zm10 10l.94 2.06.94-2.06 2.06-.94-2.06-.94-.94-2.06-.94 2.06-2.06.94z\"/><path d=\"M17.41 7.96l-1.37-1.37c-.4-.4-.92-.59-1.43-.59-.52 0-1.04.2-1.43.59L10.3 9.45l-7.72 7.72c-.78.78-.78 2.05 0 2.83L4 21.41c.39.39.9.59 1.41.59.51 0 1.02-.2 1.41-.59l7.78-7.78 2.81-2.81c.8-.78.8-2.07 0-2.86zM5.41 20L4 18.59l7.72-7.72 1.47 1.35L5.41 20z\"/>\n",
              "  </svg>\n",
              "      </button>\n",
              "      \n",
              "  <style>\n",
              "    .colab-df-container {\n",
              "      display:flex;\n",
              "      flex-wrap:wrap;\n",
              "      gap: 12px;\n",
              "    }\n",
              "\n",
              "    .colab-df-convert {\n",
              "      background-color: #E8F0FE;\n",
              "      border: none;\n",
              "      border-radius: 50%;\n",
              "      cursor: pointer;\n",
              "      display: none;\n",
              "      fill: #1967D2;\n",
              "      height: 32px;\n",
              "      padding: 0 0 0 0;\n",
              "      width: 32px;\n",
              "    }\n",
              "\n",
              "    .colab-df-convert:hover {\n",
              "      background-color: #E2EBFA;\n",
              "      box-shadow: 0px 1px 2px rgba(60, 64, 67, 0.3), 0px 1px 3px 1px rgba(60, 64, 67, 0.15);\n",
              "      fill: #174EA6;\n",
              "    }\n",
              "\n",
              "    [theme=dark] .colab-df-convert {\n",
              "      background-color: #3B4455;\n",
              "      fill: #D2E3FC;\n",
              "    }\n",
              "\n",
              "    [theme=dark] .colab-df-convert:hover {\n",
              "      background-color: #434B5C;\n",
              "      box-shadow: 0px 1px 3px 1px rgba(0, 0, 0, 0.15);\n",
              "      filter: drop-shadow(0px 1px 2px rgba(0, 0, 0, 0.3));\n",
              "      fill: #FFFFFF;\n",
              "    }\n",
              "  </style>\n",
              "\n",
              "      <script>\n",
              "        const buttonEl =\n",
              "          document.querySelector('#df-e30c758d-8c50-4adc-8915-6f2ad327d484 button.colab-df-convert');\n",
              "        buttonEl.style.display =\n",
              "          google.colab.kernel.accessAllowed ? 'block' : 'none';\n",
              "\n",
              "        async function convertToInteractive(key) {\n",
              "          const element = document.querySelector('#df-e30c758d-8c50-4adc-8915-6f2ad327d484');\n",
              "          const dataTable =\n",
              "            await google.colab.kernel.invokeFunction('convertToInteractive',\n",
              "                                                     [key], {});\n",
              "          if (!dataTable) return;\n",
              "\n",
              "          const docLinkHtml = 'Like what you see? Visit the ' +\n",
              "            '<a target=\"_blank\" href=https://colab.research.google.com/notebooks/data_table.ipynb>data table notebook</a>'\n",
              "            + ' to learn more about interactive tables.';\n",
              "          element.innerHTML = '';\n",
              "          dataTable['output_type'] = 'display_data';\n",
              "          await google.colab.output.renderOutput(dataTable, element);\n",
              "          const docLink = document.createElement('div');\n",
              "          docLink.innerHTML = docLinkHtml;\n",
              "          element.appendChild(docLink);\n",
              "        }\n",
              "      </script>\n",
              "    </div>\n",
              "  </div>\n",
              "  "
            ]
          },
          "metadata": {},
          "execution_count": 14
        }
      ]
    },
    {
      "cell_type": "code",
      "source": [
        "# df.query(\"p_val == 1\")"
      ],
      "metadata": {
        "id": "V_dDmoftFtms"
      },
      "execution_count": null,
      "outputs": []
    },
    {
      "cell_type": "code",
      "source": [
        "import os\n",
        "\n",
        "out_name = \"sst2_val_100_styleadv_distilbert.csv\"\n",
        "\n",
        "out_dir = '/content/drive/MyDrive/AdversarialXAI/Adversarial Samples/'\n",
        "if not os.path.exists(out_dir):\n",
        "    os.mkdir(out_dir)\n",
        "\n",
        "df.to_csv(os.path.join(out_dir, out_name), index=False)"
      ],
      "metadata": {
        "id": "jSaOWk_FpB16"
      },
      "execution_count": null,
      "outputs": []
    },
    {
      "cell_type": "code",
      "source": [
        ""
      ],
      "metadata": {
        "id": "bAkrmPu9mYiL"
      },
      "execution_count": null,
      "outputs": []
    }
  ]
}