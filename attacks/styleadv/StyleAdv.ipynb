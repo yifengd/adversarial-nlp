{
  "nbformat": 4,
  "nbformat_minor": 0,
  "metadata": {
    "colab": {
      "name": "StyleAdv",
      "provenance": [],
      "collapsed_sections": []
    },
    "kernelspec": {
      "name": "python3",
      "display_name": "Python 3"
    },
    "language_info": {
      "name": "python"
    },
    "accelerator": "GPU"
  },
  "cells": [
    {
      "cell_type": "markdown",
      "source": [
        "# StyleAdv attack"
      ],
      "metadata": {
        "id": "dtg1NaVCjE1G"
      }
    },
    {
      "cell_type": "code",
      "execution_count": null,
      "metadata": {
        "colab": {
          "base_uri": "https://localhost:8080/"
        },
        "id": "LB44hyb6pw2C",
        "outputId": "c7761b17-abcc-4200-da75-8f4c649b7ef3"
      },
      "outputs": [
        {
          "output_type": "stream",
          "name": "stdout",
          "text": [
            "Cloning into 'StyleAttack'...\n",
            "remote: Enumerating objects: 370, done.\u001b[K\n",
            "remote: Counting objects: 100% (22/22), done.\u001b[K\n",
            "remote: Compressing objects: 100% (15/15), done.\u001b[K\n",
            "remote: Total 370 (delta 10), reused 19 (delta 7), pack-reused 348\u001b[K\n",
            "Receiving objects: 100% (370/370), 58.27 MiB | 23.88 MiB/s, done.\n",
            "Resolving deltas: 100% (100/100), done.\n"
          ]
        }
      ],
      "source": [
        "!git clone https://github.com/yifengd/StyleAttack.git\n",
        "!pip install transformers >> /dev/null\n"
      ]
    },
    {
      "cell_type": "code",
      "source": [
        "!git -C /content/StyleAttack pull"
      ],
      "metadata": {
        "colab": {
          "base_uri": "https://localhost:8080/"
        },
        "id": "cNN16cpU9fjz",
        "outputId": "056d6a69-d966-4040-e8b8-5cebf144c688"
      },
      "execution_count": null,
      "outputs": [
        {
          "output_type": "stream",
          "name": "stdout",
          "text": [
            "remote: Enumerating objects: 6, done.\u001b[K\n",
            "remote: Counting objects:  16% (1/6)\u001b[K\rremote: Counting objects:  33% (2/6)\u001b[K\rremote: Counting objects:  50% (3/6)\u001b[K\rremote: Counting objects:  66% (4/6)\u001b[K\rremote: Counting objects:  83% (5/6)\u001b[K\rremote: Counting objects: 100% (6/6)\u001b[K\rremote: Counting objects: 100% (6/6), done.\u001b[K\n",
            "remote: Compressing objects:  25% (1/4)\u001b[K\rremote: Compressing objects:  50% (2/4)\u001b[K\rremote: Compressing objects:  75% (3/4)\u001b[K\rremote: Compressing objects: 100% (4/4)\u001b[K\rremote: Compressing objects: 100% (4/4), done.\u001b[K\n",
            "Unpacking objects:  16% (1/6)   \rUnpacking objects:  33% (2/6)   \rUnpacking objects:  50% (3/6)   \rUnpacking objects:  66% (4/6)   \rUnpacking objects:  83% (5/6)   \rremote: Total 6 (delta 2), reused 6 (delta 2), pack-reused 0\u001b[K\n",
            "Unpacking objects: 100% (6/6)   \rUnpacking objects: 100% (6/6), done.\n",
            "From https://github.com/yifengd/StyleAttack\n",
            "   c81a687..2236dc3  main       -> origin/main\n",
            "Updating c81a687..2236dc3\n",
            "Fast-forward\n",
            " data/clean/ag/test_1000.tsv | 1000 \u001b[32m+++++++++++++++++++++++++++++++++++++++++++\u001b[m\n",
            " 1 file changed, 1000 insertions(+)\n",
            " create mode 100644 data/clean/ag/test_1000.tsv\n"
          ]
        }
      ]
    },
    {
      "cell_type": "code",
      "source": [
        "# Mount on Google Drive File System\n",
        "from google.colab import drive\n",
        "drive.mount('/content/drive')"
      ],
      "metadata": {
        "colab": {
          "base_uri": "https://localhost:8080/"
        },
        "id": "INEARxoXqzN5",
        "outputId": "31a911ae-e692-4ea0-b582-da409098bc37"
      },
      "execution_count": null,
      "outputs": [
        {
          "output_type": "stream",
          "name": "stdout",
          "text": [
            "Drive already mounted at /content/drive; to attempt to forcibly remount, call drive.mount(\"/content/drive\", force_remount=True).\n"
          ]
        }
      ]
    },
    {
      "cell_type": "code",
      "source": [
        "%cd /content/StyleAttack/experiments\n",
        "!CUDA_VISIBLE_DEVICES=0 python attack.py --model_name  textattack/distilbert-base-uncased-ag-news --bert_type distilbert-base-uncased --orig_file_path ../data/clean/ag/test_1000.tsv --model_dir /content/drive/MyDrive/style_transfer_paraphrase/models/paraphraser_gpt2_large --output_file_path /content/drive/MyDrive/record_1000.log\n"
      ],
      "metadata": {
        "colab": {
          "base_uri": "https://localhost:8080/"
        },
        "id": "o2aIcYcZsRr0",
        "outputId": "98842333-38de-4a64-beee-4ddbcdace9bc"
      },
      "execution_count": null,
      "outputs": [
        {
          "output_type": "stream",
          "name": "stdout",
          "text": [
            "/content/StyleAttack/experiments\n",
            "Some weights of the model checkpoint at /content/drive/MyDrive/style_transfer_paraphrase/models/paraphraser_gpt2_large were not used when initializing GPT2LMHeadModel: ['transformer.extra_embedding_project.bias', 'transformer.extra_embedding_project.weight']\n",
            "- This IS expected if you are initializing GPT2LMHeadModel from the checkpoint of a model trained on another task or with another architecture (e.g. initializing a BertForSequenceClassification model from a BertForPreTraining model).\n",
            "- This IS NOT expected if you are initializing GPT2LMHeadModel from the checkpoint of a model that you expect to be exactly identical (initializing a BertForSequenceClassification model from a BertForSequenceClassification model).\n",
            "  0% 0/999 [00:00<?, ?it/s]/content/StyleAttack/experiments/style_paraphrase/inference_utils.py:95: UserWarning: Creating a tensor from a list of numpy.ndarrays is extremely slow. Please consider converting the list to a single numpy.ndarray with numpy.array() before converting to a tensor. (Triggered internally at  ../torch/csrc/utils/tensor_new.cpp:210.)\n",
            "  gpt2_sentences=torch.tensor([inst.sentence for inst in instances]).to(args.device),\n",
            "100% 999/999 [08:37<00:00,  1.93it/s]\n"
          ]
        }
      ]
    },
    {
      "cell_type": "code",
      "source": [
        "import pandas as pd \n",
        "tsv_file = '/content/drive/MyDrive/record_1000.log'\n",
        "csv_table = pd.read_table(tsv_file,sep='\\t')\n",
        "csv_table.columns"
      ],
      "metadata": {
        "colab": {
          "base_uri": "https://localhost:8080/"
        },
        "outputId": "b5d034d8-9350-4e69-bebb-e453996104de",
        "id": "ugo7pLObpB1w"
      },
      "execution_count": null,
      "outputs": [
        {
          "output_type": "execute_result",
          "data": {
            "text/plain": [
              "Index(['p_val ', ' orig_sent ', ' adv_sent ', ' labels'], dtype='object')"
            ]
          },
          "metadata": {},
          "execution_count": 22
        }
      ]
    },
    {
      "cell_type": "code",
      "source": [
        "csv_table = csv_table.rename(columns={\" orig_sent \": \"original_text\", \" adv_sent \": \"adversarial_text\"})\n",
        "csv_table.columns"
      ],
      "metadata": {
        "colab": {
          "base_uri": "https://localhost:8080/"
        },
        "outputId": "193b6754-9bfe-4045-858c-da2865c2e8a0",
        "id": "RyyQ5Pt4pB16"
      },
      "execution_count": null,
      "outputs": [
        {
          "output_type": "execute_result",
          "data": {
            "text/plain": [
              "Index(['p_val ', 'original_text', 'adversarial_text', ' labels'], dtype='object')"
            ]
          },
          "metadata": {},
          "execution_count": 23
        }
      ]
    },
    {
      "cell_type": "code",
      "source": [
        "csv_table.to_csv('/content/drive/MyDrive/Colab Notebooks/ExplainableAI/ag-news_1000_styleadv_distilbert.csv', index=False)"
      ],
      "metadata": {
        "id": "jSaOWk_FpB16"
      },
      "execution_count": null,
      "outputs": []
    },
    {
      "cell_type": "code",
      "source": [
        ""
      ],
      "metadata": {
        "id": "bAkrmPu9mYiL"
      },
      "execution_count": null,
      "outputs": []
    }
  ]
}