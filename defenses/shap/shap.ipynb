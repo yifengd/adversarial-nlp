{
  "cells": [
    {
      "cell_type": "code",
      "execution_count": null,
      "metadata": {
        "colab": {
          "base_uri": "https://localhost:8080/"
        },
        "id": "nGIVzrF1xrZg",
        "outputId": "abd0d75f-3de8-4126-f4ff-bf292f0b16d0"
      },
      "outputs": [],
      "source": [
        "! git clone https://[TOKEN]]@github.com/yifengd/adversarial-nlp.git"
      ]
    },
    {
      "cell_type": "code",
      "execution_count": null,
      "metadata": {
        "colab": {
          "base_uri": "https://localhost:8080/"
        },
        "id": "V-h9dllg1BFQ",
        "outputId": "00399020-8a9a-4e97-8590-4a513667ffdf"
      },
      "outputs": [],
      "source": [
        "!cd adversarial-nlp && git pull"
      ]
    },
    {
      "cell_type": "code",
      "execution_count": 7,
      "metadata": {
        "id": "wbvaR9QZyVj7"
      },
      "outputs": [],
      "source": [
        "!pip install -r adversarial-nlp/defenses/shap/requirements.txt -q"
      ]
    },
    {
      "cell_type": "markdown",
      "metadata": {},
      "source": [
        "## SHAP Value Calculation"
      ]
    },
    {
      "cell_type": "code",
      "execution_count": null,
      "metadata": {
        "colab": {
          "base_uri": "https://localhost:8080/"
        },
        "id": "DoW3fPNax-uv",
        "outputId": "14a5c0b1-8e5d-412a-8250-d2615f4356e7"
      },
      "outputs": [],
      "source": [
        "!python /content/adversarial-nlp/defenses/shap/shap_values/cli.py \\\n",
        "        --model_name textattack/bert-base-uncased-SST-2 \\\n",
        "        --bert_type bert-base-uncased \\\n",
        "        --num_sentences 10 \\\n",
        "        --attack_file_path /content/adversarial-nlp/data/styleadv/style_attack.tsv \\\n",
        "        --output_file_path /content/adversarial-nlp/data/shap/"
      ]
    },
    {
      "cell_type": "markdown",
      "metadata": {
        "id": "iFzCuU9UHmtD"
      },
      "source": [
        "## Adversarial discriminator"
      ]
    },
    {
      "cell_type": "code",
      "execution_count": null,
      "metadata": {
        "colab": {
          "base_uri": "https://localhost:8080/"
        },
        "id": "cSp2FD_IBbR4",
        "outputId": "8de3a2a0-da70-42c0-f598-7cf1d47b1527"
      },
      "outputs": [],
      "source": [
        "!python /content/adversarial-nlp/defenses/shap/detector/cli.py \\\n",
        "        --shap_files_path /content/adversarial-nlp/data/shap/"
      ]
    }
  ],
  "metadata": {
    "accelerator": "GPU",
    "colab": {
      "machine_shape": "hm",
      "name": "yifengd/adversarial-nlp.ipynb",
      "provenance": []
    },
    "kernelspec": {
      "display_name": "Python 3",
      "name": "python3"
    },
    "language_info": {
      "name": "python"
    }
  },
  "nbformat": 4,
  "nbformat_minor": 0
}
