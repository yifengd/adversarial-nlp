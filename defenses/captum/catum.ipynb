{
  "cells": [
    {
      "cell_type": "markdown",
      "metadata": {
        "id": "R8LfM1aIkXi8"
      },
      "source": [
        "# Based on: Explain Attacking BERT models using CAptum\n",
        "\n",
        "Captum is a PyTorch library to explain neural networks\n",
        "Here we show a minimal example using Captum to explain BERT models from TextAttack"
      ]
    },
    {
      "cell_type": "markdown",
      "metadata": {
        "id": "ChpotvAVkXjO"
      },
      "source": [
        "[![Open Notebook in Colab](https://colab.research.google.com/assets/colab-badge.svg)](https://colab.research.google.com/github/yifengd/adversarial-nlp/defenses/captum/catum.ipynb)\n",
        "\n",
        "[![Original Code on GitHub](https://img.shields.io/badge/github-view%20source-black.svg)](https://github.com/QData/TextAttack/blob/master/docs/2notebook/Example_5_Explain_BERT.ipynb)"
      ]
    },
    {
      "cell_type": "code",
      "source": [
        "!pip install textattack[tensorflow] tensorflow_text==2.10.0b2 captum -q"
      ],
      "metadata": {
        "id": "hnmSJ9wzstDa"
      },
      "execution_count": 2,
      "outputs": []
    },
    {
      "cell_type": "code",
      "execution_count": 1,
      "metadata": {
        "id": "5CMINr0OkXjU"
      },
      "outputs": [],
      "source": [
        "import torch\n",
        "from copy import deepcopy\n",
        "import pandas as pd\n",
        "import numpy as np\n",
        "import sklearn\n",
        "import matplotlib.pyplot as plt\n",
        "%matplotlib inline\n",
        "from textattack.datasets import HuggingFaceDataset\n",
        "from textattack.models.wrappers import HuggingFaceModelWrapper\n",
        "from textattack.models.wrappers import ModelWrapper\n",
        "from transformers import AutoModelForSequenceClassification, AutoTokenizer"
      ]
    },
    {
      "cell_type": "code",
      "execution_count": 2,
      "metadata": {
        "colab": {
          "base_uri": "https://localhost:8080/"
        },
        "id": "LfCIkViJkXjX",
        "outputId": "beb33f90-7ac8-4b39-b008-779b65ccd56b"
      },
      "outputs": [
        {
          "output_type": "stream",
          "name": "stdout",
          "text": [
            "Using accelerator cuda:0\n"
          ]
        }
      ],
      "source": [
        "if torch.cuda.is_available():\n",
        "    device = torch.device(\"cuda:0\")\n",
        "else: \n",
        "    device = torch.device(\"cpu\")\n",
        "    \n",
        "print(f\"Using accelerator {device}\")"
      ]
    },
    {
      "cell_type": "markdown",
      "source": [
        "## Configure Model and Dataset"
      ],
      "metadata": {
        "id": "dBVf-QDnLifu"
      }
    },
    {
      "cell_type": "code",
      "execution_count": 3,
      "metadata": {
        "colab": {
          "base_uri": "https://localhost:8080/"
        },
        "id": "wq4Te1nmkXjY",
        "outputId": "77639d79-36f9-446e-bb83-94a6239945fb"
      },
      "outputs": [
        {
          "output_type": "stream",
          "name": "stderr",
          "text": [
            "Using custom data configuration default\n",
            "Reusing dataset ag_news (/root/.cache/huggingface/datasets/ag_news/default/0.0.0/fb5c5e74a110037311ef5e904583ce9f8b9fbc1354290f97b4929f01b3f48b1a)\n",
            "textattack: Loading \u001b[94mdatasets\u001b[0m dataset \u001b[94mag_news\u001b[0m, split \u001b[94mtrain\u001b[0m.\n"
          ]
        }
      ],
      "source": [
        "dataset = HuggingFaceDataset(\"ag_news\", None, \"train\")\n",
        "original_model = AutoModelForSequenceClassification.from_pretrained(\"textattack/bert-base-uncased-ag-news\")\n",
        "original_tokenizer = AutoTokenizer.from_pretrained(\"textattack/bert-base-uncased-ag-news\")\n",
        "model = HuggingFaceModelWrapper(original_model,original_tokenizer)"
      ]
    },
    {
      "cell_type": "markdown",
      "source": [
        "## Perform TextAttack"
      ],
      "metadata": {
        "id": "oDznrwV4Kh6Y"
      }
    },
    {
      "cell_type": "code",
      "execution_count": 16,
      "metadata": {
        "colab": {
          "base_uri": "https://localhost:8080/"
        },
        "id": "PebvHtSokXja",
        "outputId": "b6774c9c-0fa9-4aa0-9377-f8afd50c2f59"
      },
      "outputs": [
        {
          "output_type": "stream",
          "name": "stderr",
          "text": [
            "textattack: Unknown if model of class <class 'transformers.models.bert.modeling_bert.BertForSequenceClassification'> compatible with goal function <class 'textattack.goal_functions.classification.untargeted_classification.UntargetedClassification'>.\n"
          ]
        }
      ],
      "source": [
        "from textattack.attack_recipes import PWWSRen2019\n",
        "attack = PWWSRen2019.build(model)"
      ]
    },
    {
      "cell_type": "code",
      "execution_count": 23,
      "metadata": {
        "colab": {
          "base_uri": "https://localhost:8080/"
        },
        "id": "NMhOiNr3k-R8",
        "outputId": "7dd21d7f-b8ab-4ac6-d228-df508db33fa4"
      },
      "outputs": [
        {
          "output_type": "stream",
          "name": "stderr",
          "text": [
            "textattack: Running 1 worker(s) on 1 GPU(s).\n",
            "textattack: Worklist size: 100\n",
            "textattack: Worklist candidate size: 119900\n",
            "\n",
            "  0%|          | 0/100 [00:00<?, ?it/s]\u001b[A\n",
            "  1%|          | 1/100 [00:11<18:24, 11.15s/it]\u001b[A\n",
            "[Succeeded / Failed / Skipped / Total] 1 / 0 / 0 / 1:   1%|          | 1/100 [00:11<18:26, 11.17s/it]\u001b[A"
          ]
        },
        {
          "output_type": "stream",
          "name": "stdout",
          "text": [
            "--------------------------------------------- Result 1 ---------------------------------------------\n",
            "[[Business (96%)]] --> [[Sci/tech (68%)]]\n",
            "\n",
            "Wall St. [[Bears]] Claw Back Into the [[Black]] (Reuters) Reuters - Short-sellers, Wall Street's [[dwindling]]\\[[band]] of ultra-cynics, are [[seeing]] [[green]] again.\n",
            "\n",
            "Wall St. [[suffer]] Claw Back Into the [[lightlessness]] (Reuters) Reuters - Short-sellers, Wall Street's [[dwindle]]\\[[isthmus]] of ultra-cynics, are [[examine]] [[greenish]] again.\n"
          ]
        },
        {
          "output_type": "stream",
          "name": "stderr",
          "text": [
            "\n",
            "[Succeeded / Failed / Skipped / Total] 1 / 0 / 0 / 1:   2%|▏         | 2/100 [00:16<13:35,  8.33s/it]\u001b[A\n",
            "[Succeeded / Failed / Skipped / Total] 2 / 0 / 0 / 2:   2%|▏         | 2/100 [00:16<13:36,  8.33s/it]\u001b[A"
          ]
        },
        {
          "output_type": "stream",
          "name": "stdout",
          "text": [
            "--------------------------------------------- Result 2 ---------------------------------------------\n",
            "[[Business (100%)]] --> [[Sci/tech (50%)]]\n",
            "\n",
            "Carlyle Looks Toward Commercial Aerospace (Reuters) Reuters - Private [[investment]] firm Carlyle Group,\\which has a reputation for [[making]] well-timed and occasionally\\controversial plays in the [[defense]] industry, has quietly [[placed]]\\its bets on another part of the market.\n",
            "\n",
            "Carlyle Looks Toward Commercial Aerospace (Reuters) Reuters - Private [[investiture]] firm Carlyle Group,\\which has a reputation for [[ca-ca]] well-timed and occasionally\\controversial plays in the [[denial]] industry, has quietly [[site]]\\its bets on another part of the market.\n"
          ]
        },
        {
          "output_type": "stream",
          "name": "stderr",
          "text": [
            "\n",
            "[Succeeded / Failed / Skipped / Total] 2 / 0 / 0 / 2:   3%|▎         | 3/100 [00:20<11:16,  6.97s/it]\u001b[A\n",
            "[Succeeded / Failed / Skipped / Total] 3 / 0 / 0 / 3:   3%|▎         | 3/100 [00:20<11:16,  6.98s/it]\u001b[A"
          ]
        },
        {
          "output_type": "stream",
          "name": "stdout",
          "text": [
            "--------------------------------------------- Result 3 ---------------------------------------------\n",
            "[[Business (100%)]] --> [[Sci/tech (100%)]]\n",
            "\n",
            "Oil and Economy [[Cloud]] Stocks' Outlook (Reuters) Reuters - Soaring crude prices plus worries\\about the economy and the outlook for [[earnings]] are expected to\\hang over the [[stock]] market next week during the depth of the\\summer doldrums.\n",
            "\n",
            "Oil and Economy [[swarm]] Stocks' Outlook (Reuters) Reuters - Soaring crude prices plus worries\\about the economy and the outlook for [[lucre]] are expected to\\hang over the [[gillyflower]] market next week during the depth of the\\summer doldrums.\n"
          ]
        },
        {
          "output_type": "stream",
          "name": "stderr",
          "text": [
            "\n",
            "[Succeeded / Failed / Skipped / Total] 3 / 0 / 0 / 3:   4%|▍         | 4/100 [00:25<10:11,  6.37s/it]\u001b[A\n",
            "[Succeeded / Failed / Skipped / Total] 4 / 0 / 0 / 4:   4%|▍         | 4/100 [00:25<10:11,  6.37s/it]\u001b[A"
          ]
        },
        {
          "output_type": "stream",
          "name": "stdout",
          "text": [
            "--------------------------------------------- Result 4 ---------------------------------------------\n",
            "[[Business (78%)]] --> [[World (58%)]]\n",
            "\n",
            "Iraq [[Halts]] Oil Exports from Main Southern Pipeline (Reuters) Reuters - Authorities have halted oil export\\[[flows]] from the main pipeline in southern [[Iraq]] after\\intelligence showed a rebel militia could [[strike]]\\infrastructure, an oil official said on Saturday.\n",
            "\n",
            "Iraq [[kibosh]] Oil Exports from Main Southern Pipeline (Reuters) Reuters - Authorities have halted oil export\\[[hang]] from the main pipeline in southern [[Irak]] after\\intelligence showed a rebel militia could [[fall]]\\infrastructure, an oil official said on Saturday.\n"
          ]
        },
        {
          "output_type": "stream",
          "name": "stderr",
          "text": [
            "\n",
            "[Succeeded / Failed / Skipped / Total] 4 / 0 / 0 / 4:   5%|▌         | 5/100 [00:30<09:38,  6.08s/it]\u001b[A\n",
            "[Succeeded / Failed / Skipped / Total] 5 / 0 / 0 / 5:   5%|▌         | 5/100 [00:30<09:38,  6.09s/it]\u001b[A"
          ]
        },
        {
          "output_type": "stream",
          "name": "stdout",
          "text": [
            "--------------------------------------------- Result 5 ---------------------------------------------\n",
            "[[Business (99%)]] --> [[World (82%)]]\n",
            "\n",
            "Oil prices soar to all-time record, posing new menace to [[US]] [[economy]] (AFP) AFP - Tearaway world oil prices, toppling records and straining wallets, present a new economic menace barely three months before the US presidential elections.\n",
            "\n",
            "Oil prices soar to all-time record, posing new menace to [[uranium]] [[thriftiness]] (AFP) AFP - Tearaway world oil prices, toppling records and straining wallets, present a new economic menace barely three months before the US presidential elections.\n"
          ]
        },
        {
          "output_type": "stream",
          "name": "stderr",
          "text": [
            "\n",
            "[Succeeded / Failed / Skipped / Total] 5 / 0 / 0 / 5:   6%|▌         | 6/100 [00:38<10:00,  6.38s/it]\u001b[A\n",
            "[Succeeded / Failed / Skipped / Total] 6 / 0 / 0 / 6:   6%|▌         | 6/100 [00:38<10:00,  6.39s/it]\u001b[A"
          ]
        },
        {
          "output_type": "stream",
          "name": "stdout",
          "text": [
            "--------------------------------------------- Result 6 ---------------------------------------------\n",
            "[[Business (100%)]] --> [[Sci/tech (55%)]]\n",
            "\n",
            "[[Stocks]] [[End]] [[Up]], But Near Year Lows (Reuters) Reuters - [[Stocks]] [[ended]] slightly higher on Friday\\but [[stayed]] [[near]] [[lows]] for the year as [[oil]] prices surged past  #36;[[46]]\\a [[barrel]], [[offsetting]] a [[positive]] [[outlook]] from computer [[maker]]\\Dell Inc. (DELL.O)\n",
            "\n",
            "[[stock]] [[terminate]] [[up]], But Near Year Lows (Reuters) Reuters - [[inventory]] [[terminate]] slightly higher on Friday\\but [[continue]] [[virtually]] [[moo]] for the year as [[embrocate]] prices surged past  #36;[[xlvi]]\\a [[drum]], [[cancel]] a [[incontrovertible]] [[mindset]] from computer [[Creator]]\\Dell Inc. (DELL.O)\n"
          ]
        },
        {
          "output_type": "stream",
          "name": "stderr",
          "text": [
            "\n",
            "[Succeeded / Failed / Skipped / Total] 6 / 0 / 0 / 6:   7%|▋         | 7/100 [00:43<09:41,  6.25s/it]\u001b[A\n",
            "[Succeeded / Failed / Skipped / Total] 7 / 0 / 0 / 7:   7%|▋         | 7/100 [00:43<09:41,  6.25s/it]\u001b[A"
          ]
        },
        {
          "output_type": "stream",
          "name": "stdout",
          "text": [
            "--------------------------------------------- Result 7 ---------------------------------------------\n",
            "[[Business (100%)]] --> [[World (76%)]]\n",
            "\n",
            "Money Funds [[Fell]] in [[Latest]] [[Week]] (AP) AP - [[Assets]] of the nation's retail money [[market]] [[mutual]] funds [[fell]] by  #36;1.17 [[billion]] in the latest week to  #36;849.98 [[trillion]], the Investment Company [[Institute]] [[said]] Thursday.\n",
            "\n",
            "Money Funds [[hide]] in [[up-to-the-minute]] [[hebdomad]] (AP) AP - [[asset]] of the nation's retail money [[commercialise]] [[common]] funds [[cruel]] by  #36;1.17 [[gazillion]] in the latest week to  #36;849.98 [[1000000000000]], the Investment Company [[constitute]] [[state]] Thursday.\n"
          ]
        },
        {
          "output_type": "stream",
          "name": "stderr",
          "text": [
            "\n",
            "[Succeeded / Failed / Skipped / Total] 7 / 0 / 0 / 7:   8%|▊         | 8/100 [00:50<09:44,  6.35s/it]\u001b[A\n",
            "[Succeeded / Failed / Skipped / Total] 8 / 0 / 0 / 8:   8%|▊         | 8/100 [00:50<09:44,  6.36s/it]\u001b[A"
          ]
        },
        {
          "output_type": "stream",
          "name": "stdout",
          "text": [
            "--------------------------------------------- Result 8 ---------------------------------------------\n",
            "[[Business (100%)]] --> [[World (76%)]]\n",
            "\n",
            "[[Fed]] [[minutes]] [[show]] [[dissent]] over inflation (USATODAY.com) USATODAY.com - Retail sales [[bounced]] [[back]] a bit in July, and [[new]] claims for jobless [[benefits]] fell [[last]] [[week]], the government said Thursday, indicating the economy is [[improving]] from a midsummer slump.\n",
            "\n",
            "[[eat]] [[hour]] [[testify]] [[protest]] over inflation (USATODAY.com) USATODAY.com - Retail sales [[bound]] [[hind]] a bit in July, and [[young]] claims for jobless [[welfare]] fell [[death]] [[workweek]], the government said Thursday, indicating the economy is [[amend]] from a midsummer slump.\n"
          ]
        },
        {
          "output_type": "stream",
          "name": "stderr",
          "text": [
            "\n",
            "[Succeeded / Failed / Skipped / Total] 8 / 0 / 0 / 8:   9%|▉         | 9/100 [00:57<09:41,  6.39s/it]\u001b[A\n",
            "[Succeeded / Failed / Skipped / Total] 9 / 0 / 0 / 9:   9%|▉         | 9/100 [00:57<09:41,  6.39s/it]\u001b[A"
          ]
        },
        {
          "output_type": "stream",
          "name": "stdout",
          "text": [
            "--------------------------------------------- Result 9 ---------------------------------------------\n",
            "[[Business (100%)]] --> [[Sci/tech (100%)]]\n",
            "\n",
            "Safety [[Net]] (Forbes.com) Forbes.com - After earning a PH.D. in Sociology, Danny Bazil Riley started to work as the general manager at a commercial real estate firm at an annual base salary of  #36;70,000. Soon after, a financial planner stopped by his desk to drop off brochures about insurance benefits available through his employer. But, at 32, \"buying insurance was the furthest thing from my mind,\" says Riley.\n",
            "\n",
            "Safety [[cyberspace]] (Forbes.com) Forbes.com - After earning a PH.D. in Sociology, Danny Bazil Riley started to work as the general manager at a commercial real estate firm at an annual base salary of  #36;70,000. Soon after, a financial planner stopped by his desk to drop off brochures about insurance benefits available through his employer. But, at 32, \"buying insurance was the furthest thing from my mind,\" says Riley.\n"
          ]
        },
        {
          "output_type": "stream",
          "name": "stderr",
          "text": [
            "\n",
            "[Succeeded / Failed / Skipped / Total] 9 / 0 / 0 / 9:  10%|█         | 10/100 [01:01<09:10,  6.12s/it]\u001b[A\n",
            "[Succeeded / Failed / Skipped / Total] 10 / 0 / 0 / 10:  10%|█         | 10/100 [01:01<09:10,  6.12s/it]\u001b[A"
          ]
        },
        {
          "output_type": "stream",
          "name": "stdout",
          "text": [
            "--------------------------------------------- Result 10 ---------------------------------------------\n",
            "[[Business (100%)]] --> [[World (71%)]]\n",
            "\n",
            "Wall St. Bears [[Claw]] Back Into the Black  [[NEW]] YORK (Reuters) - Short-sellers, Wall Street's dwindling  band of ultra-cynics, are seeing green again.\n",
            "\n",
            "Wall St. Bears [[chela]] Back Into the Black  [[novel]] YORK (Reuters) - Short-sellers, Wall Street's dwindling  band of ultra-cynics, are seeing green again.\n"
          ]
        },
        {
          "output_type": "stream",
          "name": "stderr",
          "text": [
            "\n",
            "[Succeeded / Failed / Skipped / Total] 10 / 0 / 0 / 10:  11%|█         | 11/100 [01:07<09:03,  6.11s/it]\u001b[A\n",
            "[Succeeded / Failed / Skipped / Total] 11 / 0 / 0 / 11:  11%|█         | 11/100 [01:07<09:03,  6.11s/it]\u001b[A"
          ]
        },
        {
          "output_type": "stream",
          "name": "stdout",
          "text": [
            "--------------------------------------------- Result 11 ---------------------------------------------\n",
            "[[Business (100%)]] --> [[Sci/tech (75%)]]\n",
            "\n",
            "[[Oil]] and Economy [[Cloud]] Stocks' Outlook  NEW YORK (Reuters) - [[Soaring]] crude [[prices]] plus [[worries]]  about the economy and the outlook for [[earnings]] are [[expected]] to  [[hang]] over the [[stock]] [[market]] [[next]] week during the depth of the  summer [[doldrums]].\n",
            "\n",
            "[[embrocate]] and Economy [[mist]] Stocks' Outlook  NEW YORK (Reuters) - [[sailplane]] crude [[terms]] plus [[concern]]  about the economy and the outlook for [[salary]] are [[await]] to  [[attend]] over the [[breed]] [[commercialise]] [[future]] week during the depth of the  summer [[stagnancy]].\n"
          ]
        },
        {
          "output_type": "stream",
          "name": "stderr",
          "text": [
            "\n",
            "[Succeeded / Failed / Skipped / Total] 11 / 0 / 0 / 11:  12%|█▏        | 12/100 [01:13<09:02,  6.16s/it]\u001b[A\n",
            "[Succeeded / Failed / Skipped / Total] 12 / 0 / 0 / 12:  12%|█▏        | 12/100 [01:13<09:02,  6.16s/it]\u001b[A"
          ]
        },
        {
          "output_type": "stream",
          "name": "stdout",
          "text": [
            "--------------------------------------------- Result 12 ---------------------------------------------\n",
            "[[Business (100%)]] --> [[World (69%)]]\n",
            "\n",
            "No [[Need]] for OPEC to [[Pump]] More-Iran Gov  TEHRAN (Reuters) - OPEC can do nothing to douse scorching  [[oil]] [[prices]] when markets are already oversupplied by [[2]].8 million  [[barrels]] per [[day]] (bpd) of crude, Iran's OPEC governor [[said]]  Saturday, [[warning]] that [[prices]] could [[fall]] sharply.\n",
            "\n",
            "No [[demand]] for OPEC to [[heart]] More-Iran Gov  TEHRAN (Reuters) - OPEC can do nothing to douse scorching  [[crude]] [[toll]] when markets are already oversupplied by [[two]].8 million  [[drum]] per [[daylight]] (bpd) of crude, Iran's OPEC governor [[read]]  Saturday, [[admonish]] that [[damage]] could [[nightfall]] sharply.\n"
          ]
        },
        {
          "output_type": "stream",
          "name": "stderr",
          "text": [
            "\n",
            "[Succeeded / Failed / Skipped / Total] 12 / 0 / 0 / 12:  13%|█▎        | 13/100 [01:18<08:42,  6.01s/it]\u001b[A\n",
            "[Succeeded / Failed / Skipped / Total] 12 / 1 / 0 / 13:  13%|█▎        | 13/100 [01:18<08:42,  6.01s/it]\u001b[A"
          ]
        },
        {
          "output_type": "stream",
          "name": "stdout",
          "text": [
            "--------------------------------------------- Result 13 ---------------------------------------------\n",
            "[[Business (100%)]] --> [[[FAILED]]]\n",
            "\n",
            "Non-OPEC Nations Should Up Output-Purnomo  JAKARTA (Reuters) - Non-OPEC oil exporters should consider  increasing output to cool record crude prices, OPEC President  Purnomo Yusgiantoro said on Sunday.\n"
          ]
        },
        {
          "output_type": "stream",
          "name": "stderr",
          "text": [
            "\n",
            "[Succeeded / Failed / Skipped / Total] 12 / 1 / 0 / 13:  14%|█▍        | 14/100 [01:24<08:36,  6.01s/it]\u001b[A\n",
            "[Succeeded / Failed / Skipped / Total] 13 / 1 / 0 / 14:  14%|█▍        | 14/100 [01:24<08:36,  6.01s/it]\u001b[A"
          ]
        },
        {
          "output_type": "stream",
          "name": "stdout",
          "text": [
            "--------------------------------------------- Result 14 ---------------------------------------------\n",
            "[[Business (99%)]] --> [[Sci/tech (91%)]]\n",
            "\n",
            "Google IPO Auction Off to Rocky Start  WASHINGTON/NEW YORK (Reuters) - The auction for Google  Inc.'s highly anticipated initial public [[offering]] [[got]] off to a  rocky start on Friday after the Web search company sidestepped  a bullet from U.S. securities regulators.\n",
            "\n",
            "Google IPO Auction Off to Rocky Start  WASHINGTON/NEW YORK (Reuters) - The auction for Google  Inc.'s highly anticipated initial public [[volunteer]] [[scram]] off to a  rocky start on Friday after the Web search company sidestepped  a bullet from U.S. securities regulators.\n"
          ]
        },
        {
          "output_type": "stream",
          "name": "stderr",
          "text": [
            "\n",
            "[Succeeded / Failed / Skipped / Total] 13 / 1 / 0 / 14:  15%|█▌        | 15/100 [01:33<08:51,  6.25s/it]\u001b[A\n",
            "[Succeeded / Failed / Skipped / Total] 14 / 1 / 0 / 15:  15%|█▌        | 15/100 [01:33<08:51,  6.25s/it]\u001b[A"
          ]
        },
        {
          "output_type": "stream",
          "name": "stdout",
          "text": [
            "--------------------------------------------- Result 15 ---------------------------------------------\n",
            "[[Business (100%)]] --> [[World (62%)]]\n",
            "\n",
            "Dollar [[Falls]] Broadly on Record [[Trade]] [[Gap]]  [[NEW]] YORK (Reuters) - The dollar tumbled broadly on Friday  after data [[showing]] a [[record]] [[U]].[[S]]. [[trade]] deficit in June [[cast]]  fresh doubts on the economy's recovery and its ability to draw  foreign capital to fund the [[growing]] gap.\n",
            "\n",
            "Dollar [[strike]] Broadly on Record [[patronage]] [[col]]  [[novel]] YORK (Reuters) - The dollar tumbled broadly on Friday  after data [[depict]] a [[commemorate]] [[uranium]].[[mho]]. [[switch]] deficit in June [[stamp]]  fresh doubts on the economy's recovery and its ability to draw  foreign capital to fund the [[development]] gap.\n"
          ]
        },
        {
          "output_type": "stream",
          "name": "stderr",
          "text": [
            "\n",
            "[Succeeded / Failed / Skipped / Total] 14 / 1 / 0 / 15:  16%|█▌        | 16/100 [01:36<08:25,  6.01s/it]\u001b[A\n",
            "[Succeeded / Failed / Skipped / Total] 15 / 1 / 0 / 16:  16%|█▌        | 16/100 [01:36<08:25,  6.01s/it]\u001b[A"
          ]
        },
        {
          "output_type": "stream",
          "name": "stdout",
          "text": [
            "--------------------------------------------- Result 16 ---------------------------------------------\n",
            "[[Business (100%)]] --> [[World (97%)]]\n",
            "\n",
            "Rescuing an [[Old]] [[Saver]] If you think you [[may]] need to help your elderly relatives with their finances, don't be shy about having the money [[talk]] -- soon.\n",
            "\n",
            "Rescuing an [[quondam]] [[rescuer]] If you think you [[whitethorn]] need to help your elderly relatives with their finances, don't be shy about having the money [[verbalise]] -- soon.\n"
          ]
        },
        {
          "output_type": "stream",
          "name": "stderr",
          "text": [
            "\n",
            "[Succeeded / Failed / Skipped / Total] 15 / 1 / 0 / 16:  17%|█▋        | 17/100 [01:39<08:07,  5.87s/it]\u001b[A\n",
            "[Succeeded / Failed / Skipped / Total] 16 / 1 / 0 / 17:  17%|█▋        | 17/100 [01:39<08:07,  5.87s/it]\u001b[A"
          ]
        },
        {
          "output_type": "stream",
          "name": "stdout",
          "text": [
            "--------------------------------------------- Result 17 ---------------------------------------------\n",
            "[[Business (100%)]] --> [[World (56%)]]\n",
            "\n",
            "[[Kids]] Rule for Back-to-School The [[purchasing]] power of [[kids]] is a big part of why the back-to-school [[season]] has become such a huge marketing phenomenon.\n",
            "\n",
            "[[banter]] Rule for Back-to-School The [[buy]] power of [[child]] is a big part of why the back-to-school [[flavour]] has become such a huge marketing phenomenon.\n"
          ]
        },
        {
          "output_type": "stream",
          "name": "stderr",
          "text": [
            "\n",
            "[Succeeded / Failed / Skipped / Total] 16 / 1 / 0 / 17:  18%|█▊        | 18/100 [01:50<08:24,  6.16s/it]\u001b[A\n",
            "[Succeeded / Failed / Skipped / Total] 16 / 2 / 0 / 18:  18%|█▊        | 18/100 [01:50<08:24,  6.16s/it]\u001b[A"
          ]
        },
        {
          "output_type": "stream",
          "name": "stdout",
          "text": [
            "--------------------------------------------- Result 18 ---------------------------------------------\n",
            "[[Business (100%)]] --> [[[FAILED]]]\n",
            "\n",
            "In a Down Market, Head Toward Value Funds There is little cause for celebration in the stock market these days, but investors in value-focused mutual funds have reason to feel a bit smug -- if only because they've lost less than the folks who stuck with growth.\n"
          ]
        },
        {
          "output_type": "stream",
          "name": "stderr",
          "text": [
            "\n",
            "[Succeeded / Failed / Skipped / Total] 16 / 2 / 0 / 18:  19%|█▉        | 19/100 [01:54<08:06,  6.01s/it]\u001b[A\n",
            "[Succeeded / Failed / Skipped / Total] 17 / 2 / 0 / 19:  19%|█▉        | 19/100 [01:54<08:06,  6.01s/it]\u001b[A"
          ]
        },
        {
          "output_type": "stream",
          "name": "stdout",
          "text": [
            "--------------------------------------------- Result 19 ---------------------------------------------\n",
            "[[Business (100%)]] --> [[World (99%)]]\n",
            "\n",
            "US trade deficit swells in June The [[US]] trade deficit has exploded 19 to a record \\$55.8bn as oil costs drove imports higher, according to a latest figures.\n",
            "\n",
            "US trade deficit swells in June The [[uranium]] trade deficit has exploded 19 to a record \\$55.8bn as oil costs drove imports higher, according to a latest figures.\n"
          ]
        },
        {
          "output_type": "stream",
          "name": "stderr",
          "text": [
            "\n",
            "[Succeeded / Failed / Skipped / Total] 17 / 2 / 0 / 19:  20%|██        | 20/100 [01:57<07:49,  5.87s/it]\u001b[A\n",
            "[Succeeded / Failed / Skipped / Total] 18 / 2 / 0 / 20:  20%|██        | 20/100 [01:57<07:49,  5.87s/it]\u001b[A"
          ]
        },
        {
          "output_type": "stream",
          "name": "stdout",
          "text": [
            "--------------------------------------------- Result 20 ---------------------------------------------\n",
            "[[Business (94%)]] --> [[World (100%)]]\n",
            "\n",
            "Shell 'could be target for Total' Oil giant [[Shell]] could be bracing itself for a takeover attempt, possibly from French rival Total, a  press report claims.\n",
            "\n",
            "Shell 'could be target for Total' Oil giant [[blast]] could be bracing itself for a takeover attempt, possibly from French rival Total, a  press report claims.\n"
          ]
        },
        {
          "output_type": "stream",
          "name": "stderr",
          "text": [
            "\n",
            "[Succeeded / Failed / Skipped / Total] 18 / 2 / 0 / 20:  21%|██        | 21/100 [02:00<07:31,  5.72s/it]\u001b[A\n",
            "[Succeeded / Failed / Skipped / Total] 19 / 2 / 0 / 21:  21%|██        | 21/100 [02:00<07:32,  5.72s/it]\u001b[A"
          ]
        },
        {
          "output_type": "stream",
          "name": "stdout",
          "text": [
            "--------------------------------------------- Result 21 ---------------------------------------------\n",
            "[[Business (99%)]] --> [[Sci/tech (64%)]]\n",
            "\n",
            "Google IPO [[faces]] Playboy slip-up The bidding gets underway for Google's public offering, despite last-minute worries over an interview with its bosses in Playboy magazine.\n",
            "\n",
            "Google IPO [[font]] Playboy slip-up The bidding gets underway for Google's public offering, despite last-minute worries over an interview with its bosses in Playboy magazine.\n"
          ]
        },
        {
          "output_type": "stream",
          "name": "stderr",
          "text": [
            "\n",
            "[Succeeded / Failed / Skipped / Total] 19 / 2 / 0 / 21:  22%|██▏       | 22/100 [02:06<07:27,  5.73s/it]\u001b[A\n",
            "[Succeeded / Failed / Skipped / Total] 19 / 3 / 0 / 22:  22%|██▏       | 22/100 [02:06<07:27,  5.73s/it]\u001b[A"
          ]
        },
        {
          "output_type": "stream",
          "name": "stdout",
          "text": [
            "--------------------------------------------- Result 22 ---------------------------------------------\n",
            "[[Business (100%)]] --> [[[FAILED]]]\n",
            "\n",
            "Eurozone economy keeps growing Official figures show the 12-nation eurozone economy continues to grow, but there are warnings it may slow down later in the year.\n"
          ]
        },
        {
          "output_type": "stream",
          "name": "stderr",
          "text": [
            "\n",
            "[Succeeded / Failed / Skipped / Total] 19 / 3 / 0 / 22:  23%|██▎       | 23/100 [02:09<07:11,  5.61s/it]\u001b[A\n",
            "[Succeeded / Failed / Skipped / Total] 20 / 3 / 0 / 23:  23%|██▎       | 23/100 [02:09<07:11,  5.61s/it]\u001b[A"
          ]
        },
        {
          "output_type": "stream",
          "name": "stdout",
          "text": [
            "--------------------------------------------- Result 23 ---------------------------------------------\n",
            "[[Business (95%)]] --> [[World (66%)]]\n",
            "\n",
            "Expansion slows in Japan Economic [[growth]] in [[Japan]] slows down as the [[country]] experiences a [[drop]] in domestic and [[corporate]] spending.\n",
            "\n",
            "Expansion slows in Japan Economic [[development]] in [[Nihon]] slows down as the [[land]] experiences a [[shed]] in domestic and [[corporal]] spending.\n"
          ]
        },
        {
          "output_type": "stream",
          "name": "stderr",
          "text": [
            "\n",
            "[Succeeded / Failed / Skipped / Total] 20 / 3 / 0 / 23:  24%|██▍       | 24/100 [02:15<07:07,  5.63s/it]\u001b[A\n",
            "[Succeeded / Failed / Skipped / Total] 21 / 3 / 0 / 24:  24%|██▍       | 24/100 [02:15<07:07,  5.63s/it]\u001b[A"
          ]
        },
        {
          "output_type": "stream",
          "name": "stdout",
          "text": [
            "--------------------------------------------- Result 24 ---------------------------------------------\n",
            "[[Business (100%)]] --> [[World (81%)]]\n",
            "\n",
            "Rand [[falls]] on [[shock]] SA rate cut Interest rates are [[trimmed]] to 7.5 by the [[South]] African central [[bank]],  but the [[lack]] of warning [[hits]] the rand and surprises [[markets]].\n",
            "\n",
            "Rand [[capitulation]] on [[offend]] SA rate cut Interest rates are [[dress]] to 7.5 by the [[Confederacy]] African central [[swear]],  but the [[miss]] of warning [[tally]] the rand and surprises [[commercialise]].\n"
          ]
        },
        {
          "output_type": "stream",
          "name": "stderr",
          "text": [
            "\n",
            "[Succeeded / Failed / Skipped / Total] 21 / 3 / 0 / 24:  25%|██▌       | 25/100 [02:18<06:55,  5.55s/it]\u001b[A\n",
            "[Succeeded / Failed / Skipped / Total] 22 / 3 / 0 / 25:  25%|██▌       | 25/100 [02:18<06:55,  5.55s/it]\u001b[A"
          ]
        },
        {
          "output_type": "stream",
          "name": "stdout",
          "text": [
            "--------------------------------------------- Result 25 ---------------------------------------------\n",
            "[[Business (100%)]] --> [[Sci/tech (61%)]]\n",
            "\n",
            "Car prices down across the board The cost of buying both new and second [[hand]] cars fell sharply over the past five years, a new survey has found.\n",
            "\n",
            "Car prices down across the board The cost of buying both new and second [[script]] cars fell sharply over the past five years, a new survey has found.\n"
          ]
        },
        {
          "output_type": "stream",
          "name": "stderr",
          "text": [
            "\n",
            "[Succeeded / Failed / Skipped / Total] 22 / 3 / 0 / 25:  26%|██▌       | 26/100 [02:25<06:52,  5.58s/it]\u001b[A\n",
            "[Succeeded / Failed / Skipped / Total] 23 / 3 / 0 / 26:  26%|██▌       | 26/100 [02:25<06:52,  5.58s/it]\u001b[A"
          ]
        },
        {
          "output_type": "stream",
          "name": "stdout",
          "text": [
            "--------------------------------------------- Result 26 ---------------------------------------------\n",
            "[[Business (97%)]] --> [[World (37%)]]\n",
            "\n",
            "South Korea lowers interest rates South Korea's central bank [[cuts]] [[interest]] rates by a [[quarter]] [[percentage]] point to 3.5 in a [[bid]] to [[drive]] growth in the economy.\n",
            "\n",
            "South Korea lowers interest rates South Korea's central bank [[reduce]] [[interestingness]] rates by a [[tail]] [[share]] point to 3.5 in a [[offer]] to [[get]] growth in the economy.\n"
          ]
        },
        {
          "output_type": "stream",
          "name": "stderr",
          "text": [
            "\n",
            "[Succeeded / Failed / Skipped / Total] 23 / 3 / 0 / 26:  27%|██▋       | 27/100 [02:28<06:40,  5.49s/it]\u001b[A\n",
            "[Succeeded / Failed / Skipped / Total] 24 / 3 / 0 / 27:  27%|██▋       | 27/100 [02:28<06:40,  5.49s/it]\u001b[A"
          ]
        },
        {
          "output_type": "stream",
          "name": "stdout",
          "text": [
            "--------------------------------------------- Result 27 ---------------------------------------------\n",
            "[[Business (98%)]] --> [[Sci/tech (97%)]]\n",
            "\n",
            "Google auction begins on Friday An auction of shares in Google, the web [[search]] engine which could be [[floated]] for as much as \\$36bn, takes place on Friday.\n",
            "\n",
            "Google auction begins on Friday An auction of shares in Google, the web [[explore]] engine which could be [[swim]] for as much as \\$36bn, takes place on Friday.\n"
          ]
        },
        {
          "output_type": "stream",
          "name": "stderr",
          "text": [
            "\n",
            "[Succeeded / Failed / Skipped / Total] 24 / 3 / 0 / 27:  28%|██▊       | 28/100 [02:32<06:31,  5.44s/it]\u001b[A\n",
            "[Succeeded / Failed / Skipped / Total] 25 / 3 / 0 / 28:  28%|██▊       | 28/100 [02:32<06:31,  5.44s/it]\u001b[A"
          ]
        },
        {
          "output_type": "stream",
          "name": "stdout",
          "text": [
            "--------------------------------------------- Result 28 ---------------------------------------------\n",
            "[[Business (98%)]] --> [[Sci/tech (50%)]]\n",
            "\n",
            "HP shares tumble on profit [[news]] Hewlett-Packard [[shares]] [[fall]] after disappointing third-quarter profits, while the firm warns the final quarter will also fall short of expectations.\n",
            "\n",
            "HP shares tumble on profit [[word]] Hewlett-Packard [[deal]] [[precipitate]] after disappointing third-quarter profits, while the firm warns the final quarter will also fall short of expectations.\n"
          ]
        },
        {
          "output_type": "stream",
          "name": "stderr",
          "text": [
            "\n",
            "[Succeeded / Failed / Skipped / Total] 25 / 3 / 0 / 28:  29%|██▉       | 29/100 [02:37<06:24,  5.42s/it]\u001b[A\n",
            "[Succeeded / Failed / Skipped / Total] 26 / 3 / 0 / 29:  29%|██▉       | 29/100 [02:37<06:24,  5.42s/it]\u001b[A"
          ]
        },
        {
          "output_type": "stream",
          "name": "stdout",
          "text": [
            "--------------------------------------------- Result 29 ---------------------------------------------\n",
            "[[Business (100%)]] --> [[World (67%)]]\n",
            "\n",
            "[[Mauritian]] textile [[firm]] cuts [[jobs]] One of the [[oldest]] textile operators on the Indian Ocean island of Mauritius [[last]] [[week]] shut seven factories and cut 900 jobs.\n",
            "\n",
            "[[Mauritanian]] textile [[firmly]] cuts [[task]] One of the [[sometime]] textile operators on the Indian Ocean island of Mauritius [[endure]] [[workweek]] shut seven factories and cut 900 jobs.\n"
          ]
        },
        {
          "output_type": "stream",
          "name": "stderr",
          "text": [
            "\n",
            "[Succeeded / Failed / Skipped / Total] 26 / 3 / 0 / 29:  30%|███       | 30/100 [02:39<06:12,  5.32s/it]\u001b[A\n",
            "[Succeeded / Failed / Skipped / Total] 27 / 3 / 0 / 30:  30%|███       | 30/100 [02:39<06:12,  5.32s/it]\u001b[A"
          ]
        },
        {
          "output_type": "stream",
          "name": "stdout",
          "text": [
            "--------------------------------------------- Result 30 ---------------------------------------------\n",
            "[[Business (99%)]] --> [[World (74%)]]\n",
            "\n",
            "[[Chad]] seeks refugee aid from IMF [[Chad]] [[asks]] the IMF for a loan to [[pay]] for [[looking]] after more than [[100]],000 refugees from conflict-torn Darfur in [[western]] [[Sudan]].\n",
            "\n",
            "[[Tchad]] seeks refugee aid from IMF [[Tchad]] [[need]] the IMF for a loan to [[yield]] for [[search]] after more than [[C]],000 refugees from conflict-torn Darfur in [[westerly]] [[Soudan]].\n"
          ]
        },
        {
          "output_type": "stream",
          "name": "stderr",
          "text": [
            "\n",
            "[Succeeded / Failed / Skipped / Total] 27 / 3 / 0 / 30:  31%|███       | 31/100 [02:43<06:04,  5.29s/it]\u001b[A\n",
            "[Succeeded / Failed / Skipped / Total] 28 / 3 / 0 / 31:  31%|███       | 31/100 [02:43<06:04,  5.29s/it]\u001b[A"
          ]
        },
        {
          "output_type": "stream",
          "name": "stdout",
          "text": [
            "--------------------------------------------- Result 31 ---------------------------------------------\n",
            "[[Business (96%)]] --> [[World (98%)]]\n",
            "\n",
            "Japan nuclear firm shuts plants The [[company]] [[running]] the Japanese nuclear plant hit by a fatal accident is to close its reactors for safety checks.\n",
            "\n",
            "Japan nuclear firm shuts plants The [[party]] [[campaign]] the Japanese nuclear plant hit by a fatal accident is to close its reactors for safety checks.\n"
          ]
        },
        {
          "output_type": "stream",
          "name": "stderr",
          "text": [
            "\n",
            "[Succeeded / Failed / Skipped / Total] 28 / 3 / 0 / 31:  32%|███▏      | 32/100 [02:46<05:54,  5.21s/it]\u001b[A\n",
            "[Succeeded / Failed / Skipped / Total] 29 / 3 / 0 / 32:  32%|███▏      | 32/100 [02:46<05:54,  5.21s/it]\u001b[A"
          ]
        },
        {
          "output_type": "stream",
          "name": "stdout",
          "text": [
            "--------------------------------------------- Result 32 ---------------------------------------------\n",
            "[[Business (100%)]] --> [[Sci/tech (100%)]]\n",
            "\n",
            "Veteran inventor in market [[float]] Trevor Baylis, the veteran inventor famous for creating the Freeplay clockwork [[radio]], is planning to float his [[company]] on the [[stock]] market.\n",
            "\n",
            "Veteran inventor in market [[swim]] Trevor Baylis, the veteran inventor famous for creating the Freeplay clockwork [[wireless]], is planning to float his [[society]] on the [[timeworn]] market.\n"
          ]
        },
        {
          "output_type": "stream",
          "name": "stderr",
          "text": [
            "\n",
            "[Succeeded / Failed / Skipped / Total] 29 / 3 / 0 / 32:  33%|███▎      | 33/100 [02:51<05:48,  5.20s/it]\u001b[A\n",
            "[Succeeded / Failed / Skipped / Total] 30 / 3 / 0 / 33:  33%|███▎      | 33/100 [02:51<05:48,  5.20s/it]\u001b[A"
          ]
        },
        {
          "output_type": "stream",
          "name": "stdout",
          "text": [
            "--------------------------------------------- Result 33 ---------------------------------------------\n",
            "[[Business (100%)]] --> [[Sci/tech (97%)]]\n",
            "\n",
            "Saudi Arabia to [[open]] up [[oil]] [[taps]] Saudi Arabia says it is [[ready]] to push an extra 1.3 million [[barrels]] a day of oil into the market, to help reverse surging prices.\n",
            "\n",
            "Saudi Arabia to [[outdoors]] up [[embrocate]] [[hydrant]] Saudi Arabia says it is [[cook]] to push an extra 1.3 million [[drum]] a day of oil into the market, to help reverse surging prices.\n"
          ]
        },
        {
          "output_type": "stream",
          "name": "stderr",
          "text": [
            "\n",
            "[Succeeded / Failed / Skipped / Total] 30 / 3 / 0 / 33:  34%|███▍      | 34/100 [02:55<05:40,  5.16s/it]\u001b[A\n",
            "[Succeeded / Failed / Skipped / Total] 31 / 3 / 0 / 34:  34%|███▍      | 34/100 [02:55<05:40,  5.16s/it]\u001b[A"
          ]
        },
        {
          "output_type": "stream",
          "name": "stdout",
          "text": [
            "--------------------------------------------- Result 34 ---------------------------------------------\n",
            "[[Business (100%)]] --> [[Sci/tech (58%)]]\n",
            "\n",
            "Saudi phone sector gets \\$1bn [[lift]] A group [[led]] by the UAE's Etisalat plans to spend \\$1bn (544m) on expansion after winning two mobile phone licences in Saudi Arabia.\n",
            "\n",
            "Saudi phone sector gets \\$1bn [[rhytidectomy]] A group [[conduct]] by the UAE's Etisalat plans to spend \\$1bn (544m) on expansion after winning two mobile phone licences in Saudi Arabia.\n"
          ]
        },
        {
          "output_type": "stream",
          "name": "stderr",
          "text": [
            "\n",
            "[Succeeded / Failed / Skipped / Total] 31 / 3 / 0 / 34:  35%|███▌      | 35/100 [02:58<05:30,  5.09s/it]\u001b[A\n",
            "[Succeeded / Failed / Skipped / Total] 32 / 3 / 0 / 35:  35%|███▌      | 35/100 [02:58<05:30,  5.09s/it]\u001b[A"
          ]
        },
        {
          "output_type": "stream",
          "name": "stdout",
          "text": [
            "--------------------------------------------- Result 35 ---------------------------------------------\n",
            "[[Business (100%)]] --> [[Sci/tech (97%)]]\n",
            "\n",
            "Indians fill rail [[skills]] shortage Network Rail flies in specialist Indian engineers to work on the West Coast Mainline because of a UK skills shortage.\n",
            "\n",
            "Indians fill rail [[science]] shortage Network Rail flies in specialist Indian engineers to work on the West Coast Mainline because of a UK skills shortage.\n"
          ]
        },
        {
          "output_type": "stream",
          "name": "stderr",
          "text": [
            "\n",
            "[Succeeded / Failed / Skipped / Total] 32 / 3 / 0 / 35:  36%|███▌      | 36/100 [03:01<05:22,  5.04s/it]\u001b[A\n",
            "[Succeeded / Failed / Skipped / Total] 33 / 3 / 0 / 36:  36%|███▌      | 36/100 [03:01<05:22,  5.04s/it]\u001b[A"
          ]
        },
        {
          "output_type": "stream",
          "name": "stdout",
          "text": [
            "--------------------------------------------- Result 36 ---------------------------------------------\n",
            "[[Business (100%)]] --> [[Sci/tech (85%)]]\n",
            "\n",
            "Steady as they [[go]] BEDFORD -- Scientists at NitroMed Inc. hope their experimental drugs will cure heart disease someday. But lately their focus has been on more mundane matters.\n",
            "\n",
            "Steady as they [[locomote]] BEDFORD -- Scientists at NitroMed Inc. hope their experimental drugs will cure heart disease someday. But lately their focus has been on more mundane matters.\n"
          ]
        },
        {
          "output_type": "stream",
          "name": "stderr",
          "text": [
            "\n",
            "[Succeeded / Failed / Skipped / Total] 33 / 3 / 0 / 36:  37%|███▋      | 37/100 [03:05<05:15,  5.01s/it]\u001b[A\n",
            "[Succeeded / Failed / Skipped / Total] 34 / 3 / 0 / 37:  37%|███▋      | 37/100 [03:05<05:15,  5.01s/it]\u001b[A"
          ]
        },
        {
          "output_type": "stream",
          "name": "stdout",
          "text": [
            "--------------------------------------------- Result 37 ---------------------------------------------\n",
            "[[Business (95%)]] --> [[Sci/tech (72%)]]\n",
            "\n",
            "Google IPO: Type in 'confusing,' 'secrecy' I've submitted my bid to buy shares of Google Inc. in the computer search company's [[giant]] auction-style initial public [[offering]]. That could turn out to be the good news or the bad news.\n",
            "\n",
            "Google IPO: Type in 'confusing,' 'secrecy' I've submitted my bid to buy shares of Google Inc. in the computer search company's [[hulk]] auction-style initial public [[volunteer]]. That could turn out to be the good news or the bad news.\n"
          ]
        },
        {
          "output_type": "stream",
          "name": "stderr",
          "text": [
            "\n",
            "[Succeeded / Failed / Skipped / Total] 34 / 3 / 0 / 37:  38%|███▊      | 38/100 [03:10<05:11,  5.02s/it]\u001b[A\n",
            "[Succeeded / Failed / Skipped / Total] 35 / 3 / 0 / 38:  38%|███▊      | 38/100 [03:10<05:11,  5.02s/it]\u001b[A"
          ]
        },
        {
          "output_type": "stream",
          "name": "stdout",
          "text": [
            "--------------------------------------------- Result 38 ---------------------------------------------\n",
            "[[Business (100%)]] --> [[Sports (40%)]]\n",
            "\n",
            "[[A]] [[bargain]] hunter's paradise [[Massachusetts]] [[bargain]] [[hunters]] showed up in [[droves]] and [[shopped]] hard on yesterday's sales tax holiday, buying everything from treadmills and snow blowers to candles and chandeliers, and crediting the 5-percent tax break with [[bringing]] them into the [[stores]].\n",
            "\n",
            "[[axerophthol]] [[steal]] hunter's paradise [[Massachuset]] [[dicker]] [[huntsman]] showed up in [[horde]] and [[shit]] hard on yesterday's sales tax holiday, buying everything from treadmills and snow blowers to candles and chandeliers, and crediting the 5-percent tax break with [[impart]] them into the [[memory]].\n"
          ]
        },
        {
          "output_type": "stream",
          "name": "stderr",
          "text": [
            "\n",
            "[Succeeded / Failed / Skipped / Total] 35 / 3 / 0 / 38:  39%|███▉      | 39/100 [03:16<05:07,  5.04s/it]\u001b[A\n",
            "[Succeeded / Failed / Skipped / Total] 36 / 3 / 0 / 39:  39%|███▉      | 39/100 [03:16<05:07,  5.04s/it]\u001b[A"
          ]
        },
        {
          "output_type": "stream",
          "name": "stdout",
          "text": [
            "--------------------------------------------- Result 39 ---------------------------------------------\n",
            "[[Business (100%)]] --> [[Sci/tech (50%)]]\n",
            "\n",
            "Researchers seek to untangle the [[e-mail]] thread [[E-mail]] is a victim of its own success. That's the conclusion of IBM Corp. [[researchers]] in Cambridge, who have spent nearly a decade conducting [[field]] tests at IBM and other companies about how employees work and use electronic mail. It's clear to them that e-mail has become the Internet's [[killer]] application.\n",
            "\n",
            "Researchers seek to untangle the [[email]] thread [[email]] is a victim of its own success. That's the conclusion of IBM Corp. [[investigator]] in Cambridge, who have spent nearly a decade conducting [[champaign]] tests at IBM and other companies about how employees work and use electronic mail. It's clear to them that e-mail has become the Internet's [[slayer]] application.\n"
          ]
        },
        {
          "output_type": "stream",
          "name": "stderr",
          "text": [
            "\n",
            "[Succeeded / Failed / Skipped / Total] 36 / 3 / 0 / 39:  40%|████      | 40/100 [03:24<05:06,  5.12s/it]\u001b[A\n",
            "[Succeeded / Failed / Skipped / Total] 37 / 3 / 0 / 40:  40%|████      | 40/100 [03:24<05:06,  5.12s/it]\u001b[A"
          ]
        },
        {
          "output_type": "stream",
          "name": "stdout",
          "text": [
            "--------------------------------------------- Result 40 ---------------------------------------------\n",
            "[[Business (100%)]] --> [[Sci/tech (93%)]]\n",
            "\n",
            "Microsoft Corp. 2.0: a kinder corporate [[culture]] Even a genius can mess up. [[Bill]] Gates was a brilliant technologist when he cofounded Microsoft , but as he guided it to greatness in both size and historical consequence, he blundered. He terrorized underlings with his temper and parceled out praise like Scrooge gave to charity. Only the lash inspired the necessary aggressiveness to beat the competition, he [[thought]].\n",
            "\n",
            "Microsoft Corp. 2.0: a kinder corporate [[civilisation]] Even a genius can mess up. [[broadsheet]] Gates was a brilliant technologist when he cofounded Microsoft , but as he guided it to greatness in both size and historical consequence, he blundered. He terrorized underlings with his temper and parceled out praise like Scrooge gave to charity. Only the lash inspired the necessary aggressiveness to beat the competition, he [[recollect]].\n"
          ]
        },
        {
          "output_type": "stream",
          "name": "stderr",
          "text": [
            "\n",
            "[Succeeded / Failed / Skipped / Total] 37 / 3 / 0 / 40:  41%|████      | 41/100 [03:29<05:01,  5.12s/it]\u001b[A\n",
            "[Succeeded / Failed / Skipped / Total] 38 / 3 / 0 / 41:  41%|████      | 41/100 [03:29<05:01,  5.12s/it]\u001b[A"
          ]
        },
        {
          "output_type": "stream",
          "name": "stdout",
          "text": [
            "--------------------------------------------- Result 41 ---------------------------------------------\n",
            "[[Business (100%)]] --> [[Sci/tech (77%)]]\n",
            "\n",
            "Letters Target the [[abusers]] of legal weapons We can all share the [[outrage]], [[expressed]] by columnist Steve Bailey (''Summer Sizzler, quot; Aug. 11), at the killings in the city's poor [[neighborhoods]]. But there's no need to share his ignorance. He [[argues]] for renewal of the so-called assault weapon ban, [[claiming]] that otherwise, ''UZIs and AK-47s could again be flooding the streets. quot; His ...\n",
            "\n",
            "Letters Target the [[abuser]] of legal weapons We can all share the [[desecrate]], [[extract]] by columnist Steve Bailey (''Summer Sizzler, quot; Aug. 11), at the killings in the city's poor [[locality]]. But there's no need to share his ignorance. He [[reason]] for renewal of the so-called assault weapon ban, [[take]] that otherwise, ''UZIs and AK-47s could again be flooding the streets. quot; His ...\n"
          ]
        },
        {
          "output_type": "stream",
          "name": "stderr",
          "text": [
            "\n",
            "[Succeeded / Failed / Skipped / Total] 38 / 3 / 0 / 41:  42%|████▏     | 42/100 [03:33<04:54,  5.08s/it]\u001b[A\n",
            "[Succeeded / Failed / Skipped / Total] 39 / 3 / 0 / 42:  42%|████▏     | 42/100 [03:33<04:54,  5.08s/it]\u001b[A"
          ]
        },
        {
          "output_type": "stream",
          "name": "stdout",
          "text": [
            "--------------------------------------------- Result 42 ---------------------------------------------\n",
            "[[Business (100%)]] --> [[World (58%)]]\n",
            "\n",
            "Somewhere between gleam and gloom President Bush has been saying that the [[US]] economy has ''turned the corner. quot; Democratic presidential candidate Senator John F. Kerry, in the wake of this month's poor jobs [[report]], quipped that it was more like a U-turn.\n",
            "\n",
            "Somewhere between gleam and gloom President Bush has been saying that the [[uranium]] economy has ''turned the corner. quot; Democratic presidential candidate Senator John F. Kerry, in the wake of this month's poor jobs [[cover]], quipped that it was more like a U-turn.\n"
          ]
        },
        {
          "output_type": "stream",
          "name": "stderr",
          "text": [
            "\n",
            "[Succeeded / Failed / Skipped / Total] 39 / 3 / 0 / 42:  43%|████▎     | 43/100 [03:37<04:47,  5.05s/it]\u001b[A\n",
            "[Succeeded / Failed / Skipped / Total] 40 / 3 / 0 / 43:  43%|████▎     | 43/100 [03:37<04:47,  5.05s/it]\u001b[A"
          ]
        },
        {
          "output_type": "stream",
          "name": "stdout",
          "text": [
            "--------------------------------------------- Result 43 ---------------------------------------------\n",
            "[[Business (100%)]] --> [[Sci/tech (84%)]]\n",
            "\n",
            "Technology [[company]] sues five ex-employees  [[A]] Marlborough-based technology [[company]] is suing five former employees, including three senior managers, for allegedly conspiring against their employer while working on opening a competing business.\n",
            "\n",
            "Technology [[caller]] sues five ex-employees  [[axerophthol]] Marlborough-based technology [[companionship]] is suing five former employees, including three senior managers, for allegedly conspiring against their employer while working on opening a competing business.\n"
          ]
        },
        {
          "output_type": "stream",
          "name": "stderr",
          "text": [
            "\n",
            "[Succeeded / Failed / Skipped / Total] 40 / 3 / 0 / 43:  44%|████▍     | 44/100 [03:44<04:45,  5.10s/it]\u001b[A\n",
            "[Succeeded / Failed / Skipped / Total] 41 / 3 / 0 / 44:  44%|████▍     | 44/100 [03:44<04:45,  5.10s/it]\u001b[A"
          ]
        },
        {
          "output_type": "stream",
          "name": "stdout",
          "text": [
            "--------------------------------------------- Result 44 ---------------------------------------------\n",
            "[[Business (100%)]] --> [[Sports (70%)]]\n",
            "\n",
            "Grant to aid Lynn [[Central]] Square Central Square in Lynn should be looking a bit brighter. New sidewalks, curbs, fences, lights, landscaping, and road improvements are planned for the Gateway [[Artisan]] [[Block]], a key [[area]] of the square, with \\$830,000 in state grant money given to Lynn last [[week]].\n",
            "\n",
            "Grant to aid Lynn [[primal]] Square Central Square in Lynn should be looking a bit brighter. New sidewalks, curbs, fences, lights, landscaping, and road improvements are planned for the Gateway [[journeyman]] [[embarrass]], a key [[field]] of the square, with \\$830,000 in state grant money given to Lynn last [[hebdomad]].\n"
          ]
        },
        {
          "output_type": "stream",
          "name": "stderr",
          "text": [
            "\n",
            "[Succeeded / Failed / Skipped / Total] 41 / 3 / 0 / 44:  45%|████▌     | 45/100 [03:52<04:43,  5.16s/it]\u001b[A\n",
            "[Succeeded / Failed / Skipped / Total] 42 / 3 / 0 / 45:  45%|████▌     | 45/100 [03:52<04:43,  5.16s/it]\u001b[A"
          ]
        },
        {
          "output_type": "stream",
          "name": "stdout",
          "text": [
            "--------------------------------------------- Result 45 ---------------------------------------------\n",
            "[[Business (100%)]] --> [[Sports (53%)]]\n",
            "\n",
            "State grant to aid Lynn; [[Bank]] gives Salem \\$10k Central [[Square]] in Lynn should be looking a bit brighter. New sidewalks, curbs, fences, lights, landscaping, and road improvements are planned for the Gateway Artisan Block, a key [[area]] of the square, with \\$830,000 in state grant money given to Lynn last week.\n",
            "\n",
            "State grant to aid Lynn; [[swear]] gives Salem \\$10k Central [[lame]] in Lynn should be looking a bit brighter. New sidewalks, curbs, fences, lights, landscaping, and road improvements are planned for the Gateway Artisan Block, a key [[field]] of the square, with \\$830,000 in state grant money given to Lynn last week.\n"
          ]
        },
        {
          "output_type": "stream",
          "name": "stderr",
          "text": [
            "\n",
            "[Succeeded / Failed / Skipped / Total] 42 / 3 / 0 / 45:  46%|████▌     | 46/100 [03:55<04:36,  5.12s/it]\u001b[A\n",
            "[Succeeded / Failed / Skipped / Total] 43 / 3 / 0 / 46:  46%|████▌     | 46/100 [03:55<04:36,  5.12s/it]\u001b[A"
          ]
        },
        {
          "output_type": "stream",
          "name": "stdout",
          "text": [
            "--------------------------------------------- Result 46 ---------------------------------------------\n",
            "[[Business (100%)]] --> [[Sci/tech (90%)]]\n",
            "\n",
            "[[A]] New Legal Chapter for a 90's Flameout A lawsuit against Gary Winnick, the former chief of [[Global]] [[Crossing]], refocuses attention on what Mr. Winnick knew about his company's finances as it imploded.\n",
            "\n",
            "[[axerophthol]] New Legal Chapter for a 90's Flameout A lawsuit against Gary Winnick, the former chief of [[planetary]] [[thwart]], refocuses attention on what Mr. Winnick knew about his company's finances as it imploded.\n"
          ]
        },
        {
          "output_type": "stream",
          "name": "stderr",
          "text": [
            "\n",
            "[Succeeded / Failed / Skipped / Total] 43 / 3 / 0 / 46:  47%|████▋     | 47/100 [03:57<04:27,  5.05s/it]\u001b[A\n",
            "[Succeeded / Failed / Skipped / Total] 44 / 3 / 0 / 47:  47%|████▋     | 47/100 [03:57<04:27,  5.05s/it]\u001b[A"
          ]
        },
        {
          "output_type": "stream",
          "name": "stdout",
          "text": [
            "--------------------------------------------- Result 47 ---------------------------------------------\n",
            "[[Business (95%)]] --> [[World (92%)]]\n",
            "\n",
            "Will Russia, the [[Oil]] Superpower, Flex Its Muscles? Russia is again emerging as a superpower - but the reason has less to do with nuclear weapons than with oil.\n",
            "\n",
            "Will Russia, the [[anele]] Superpower, Flex Its Muscles? Russia is again emerging as a superpower - but the reason has less to do with nuclear weapons than with oil.\n"
          ]
        },
        {
          "output_type": "stream",
          "name": "stderr",
          "text": [
            "\n",
            "[Succeeded / Failed / Skipped / Total] 44 / 3 / 0 / 47:  48%|████▊     | 48/100 [04:02<04:22,  5.05s/it]\u001b[A\n",
            "[Succeeded / Failed / Skipped / Total] 45 / 3 / 0 / 48:  48%|████▊     | 48/100 [04:02<04:22,  5.05s/it]\u001b[A"
          ]
        },
        {
          "output_type": "stream",
          "name": "stdout",
          "text": [
            "--------------------------------------------- Result 48 ---------------------------------------------\n",
            "[[Business (94%)]] --> [[Sci/tech (56%)]]\n",
            "\n",
            "[[Switching]] Titles, if Not Gears, at Dell Kevin B. Rollins, the new chief executive of Dell, talks about Dell's transitory slip in customer service, and why he sees a broader technology recovery taking place.\n",
            "\n",
            "[[flip-flop]] Titles, if Not Gears, at Dell Kevin B. Rollins, the new chief executive of Dell, talks about Dell's transitory slip in customer service, and why he sees a broader technology recovery taking place.\n"
          ]
        },
        {
          "output_type": "stream",
          "name": "stderr",
          "text": [
            "\n",
            "[Succeeded / Failed / Skipped / Total] 45 / 3 / 0 / 48:  49%|████▉     | 49/100 [04:07<04:17,  5.04s/it]\u001b[A\n",
            "[Succeeded / Failed / Skipped / Total] 46 / 3 / 0 / 49:  49%|████▉     | 49/100 [04:07<04:17,  5.04s/it]\u001b[A"
          ]
        },
        {
          "output_type": "stream",
          "name": "stdout",
          "text": [
            "--------------------------------------------- Result 49 ---------------------------------------------\n",
            "[[Business (100%)]] --> [[World (51%)]]\n",
            "\n",
            "For Sale: The Ultimate Status Symbol With the country in [[need]] of cash and rich people [[dying]] to [[show]] off their wealth, Mr. Stein [[proposes]] a [[unique]] solution: having the [[government]] sell [[titles]] of nobility.\n",
            "\n",
            "For Sale: The Ultimate Status Symbol With the country in [[demand]] of cash and rich people [[choke]] to [[depict]] off their wealth, Mr. Stein [[suggest]] a [[unequaled]] solution: having the [[authorities]] sell [[entitle]] of nobility.\n"
          ]
        },
        {
          "output_type": "stream",
          "name": "stderr",
          "text": [
            "\n",
            "[Succeeded / Failed / Skipped / Total] 46 / 3 / 0 / 49:  50%|█████     | 50/100 [04:10<04:10,  5.00s/it]\u001b[A\n",
            "[Succeeded / Failed / Skipped / Total] 47 / 3 / 0 / 50:  50%|█████     | 50/100 [04:10<04:10,  5.00s/it]\u001b[A"
          ]
        },
        {
          "output_type": "stream",
          "name": "stdout",
          "text": [
            "--------------------------------------------- Result 50 ---------------------------------------------\n",
            "[[Business (100%)]] --> [[Sci/tech (99%)]]\n",
            "\n",
            "Quality Gets Swept Away Quality Distribution is hammered after reporting a large loss for the [[second]] quarter.\n",
            "\n",
            "Quality Gets Swept Away Quality Distribution is hammered after reporting a large loss for the [[bit]] quarter.\n"
          ]
        },
        {
          "output_type": "stream",
          "name": "stderr",
          "text": [
            "\n",
            "[Succeeded / Failed / Skipped / Total] 47 / 3 / 0 / 50:  51%|█████     | 51/100 [04:13<04:03,  4.98s/it]\u001b[A\n",
            "[Succeeded / Failed / Skipped / Total] 48 / 3 / 0 / 51:  51%|█████     | 51/100 [04:13<04:03,  4.98s/it]\u001b[A"
          ]
        },
        {
          "output_type": "stream",
          "name": "stdout",
          "text": [
            "--------------------------------------------- Result 51 ---------------------------------------------\n",
            "[[Business (100%)]] --> [[Sci/tech (69%)]]\n",
            "\n",
            "[[Making]] Your Insurer Pay If Hurricane Charley blows your house down, how can you make your insurance company pay?\n",
            "\n",
            "[[ca-ca]] Your Insurer Pay If Hurricane Charley blows your house down, how can you make your insurance company pay?\n"
          ]
        },
        {
          "output_type": "stream",
          "name": "stderr",
          "text": [
            "\n",
            "[Succeeded / Failed / Skipped / Total] 48 / 3 / 0 / 51:  52%|█████▏    | 52/100 [04:16<03:56,  4.92s/it]\u001b[A\n",
            "[Succeeded / Failed / Skipped / Total] 49 / 3 / 0 / 52:  52%|█████▏    | 52/100 [04:16<03:56,  4.92s/it]\u001b[A"
          ]
        },
        {
          "output_type": "stream",
          "name": "stdout",
          "text": [
            "--------------------------------------------- Result 52 ---------------------------------------------\n",
            "[[Business (100%)]] --> [[Sci/tech (90%)]]\n",
            "\n",
            "Delightful Dell The company's results show that it's not [[grim]] all over tech world. Just all of it that isn't Dell.\n",
            "\n",
            "Delightful Dell The company's results show that it's not [[sorry]] all over tech world. Just all of it that isn't Dell.\n"
          ]
        },
        {
          "output_type": "stream",
          "name": "stderr",
          "text": [
            "\n",
            "[Succeeded / Failed / Skipped / Total] 49 / 3 / 0 / 52:  53%|█████▎    | 53/100 [04:19<03:49,  4.89s/it]\u001b[A\n",
            "[Succeeded / Failed / Skipped / Total] 50 / 3 / 0 / 53:  53%|█████▎    | 53/100 [04:19<03:49,  4.89s/it]\u001b[A"
          ]
        },
        {
          "output_type": "stream",
          "name": "stdout",
          "text": [
            "--------------------------------------------- Result 53 ---------------------------------------------\n",
            "[[Business (100%)]] --> [[Sports (93%)]]\n",
            "\n",
            "Chrysler's Bling [[King]] After a tough year, Detroit's [[troubled]] carmaker is back -- thanks to a maverick [[designer]] and a car that is dazzling the hip-hop crowd\n",
            "\n",
            "Chrysler's Bling [[world-beater]] After a tough year, Detroit's [[upset]] carmaker is back -- thanks to a maverick [[intriguer]] and a car that is dazzling the hip-hop crowd\n"
          ]
        },
        {
          "output_type": "stream",
          "name": "stderr",
          "text": [
            "\n",
            "[Succeeded / Failed / Skipped / Total] 50 / 3 / 0 / 53:  54%|█████▍    | 54/100 [04:22<03:43,  4.85s/it]\u001b[A\n",
            "[Succeeded / Failed / Skipped / Total] 51 / 3 / 0 / 54:  54%|█████▍    | 54/100 [04:22<03:43,  4.86s/it]\u001b[A"
          ]
        },
        {
          "output_type": "stream",
          "name": "stdout",
          "text": [
            "--------------------------------------------- Result 54 ---------------------------------------------\n",
            "[[Business (100%)]] --> [[Sports (92%)]]\n",
            "\n",
            "What's Cool In the Pool ... ... And Hot On the Deck Americans are spending more on tricking out the places where they swim. Here's a look at the new wave of [[accessories]]\n",
            "\n",
            "What's Cool In the Pool ... ... And Hot On the Deck Americans are spending more on tricking out the places where they swim. Here's a look at the new wave of [[appurtenance]]\n"
          ]
        },
        {
          "output_type": "stream",
          "name": "stderr",
          "text": [
            "\n",
            "[Succeeded / Failed / Skipped / Total] 51 / 3 / 0 / 54:  55%|█████▌    | 55/100 [04:24<03:36,  4.81s/it]\u001b[A\n",
            "[Succeeded / Failed / Skipped / Total] 52 / 3 / 0 / 55:  55%|█████▌    | 55/100 [04:24<03:36,  4.81s/it]\u001b[A"
          ]
        },
        {
          "output_type": "stream",
          "name": "stdout",
          "text": [
            "--------------------------------------------- Result 55 ---------------------------------------------\n",
            "[[Business (100%)]] --> [[Sports (80%)]]\n",
            "\n",
            "The Age of [[Doom]] In 1993 six [[geeks]] had a digital nightmare that changed the culture. It's about to get far creepier\n",
            "\n",
            "The Age of [[designate]] In 1993 six [[oddball]] had a digital nightmare that changed the culture. It's about to get far creepier\n"
          ]
        },
        {
          "output_type": "stream",
          "name": "stderr",
          "text": [
            "\n",
            "[Succeeded / Failed / Skipped / Total] 52 / 3 / 0 / 55:  56%|█████▌    | 56/100 [04:26<03:29,  4.75s/it]\u001b[A\n",
            "[Succeeded / Failed / Skipped / Total] 53 / 3 / 0 / 56:  56%|█████▌    | 56/100 [04:26<03:29,  4.75s/it]\u001b[A"
          ]
        },
        {
          "output_type": "stream",
          "name": "stdout",
          "text": [
            "--------------------------------------------- Result 56 ---------------------------------------------\n",
            "[[Business (99%)]] --> [[Sci/tech (96%)]]\n",
            "\n",
            "Hip Hop's Online [[Shop]] Celebrity fashion is booming. These webpreneurs are bringing it to main street\n",
            "\n",
            "Hip Hop's Online [[browse]] Celebrity fashion is booming. These webpreneurs are bringing it to main street\n"
          ]
        },
        {
          "output_type": "stream",
          "name": "stderr",
          "text": [
            "\n",
            "[Succeeded / Failed / Skipped / Total] 53 / 3 / 0 / 56:  57%|█████▋    | 57/100 [04:28<03:22,  4.70s/it]\u001b[A\n",
            "[Succeeded / Failed / Skipped / Total] 54 / 3 / 0 / 57:  57%|█████▋    | 57/100 [04:28<03:22,  4.70s/it]\u001b[A"
          ]
        },
        {
          "output_type": "stream",
          "name": "stdout",
          "text": [
            "--------------------------------------------- Result 57 ---------------------------------------------\n",
            "[[Business (100%)]] --> [[Sci/tech (48%)]]\n",
            "\n",
            "Stoking the Steamroller No other recording artist can channel American middle-class [[tastes]] quite [[like]] Chip Davis and his best-selling band\n",
            "\n",
            "Stoking the Steamroller No other recording artist can channel American middle-class [[sample]] quite [[comparable]] Chip Davis and his best-selling band\n"
          ]
        },
        {
          "output_type": "stream",
          "name": "stderr",
          "text": [
            "\n",
            "[Succeeded / Failed / Skipped / Total] 54 / 3 / 0 / 57:  58%|█████▊    | 58/100 [04:32<03:17,  4.69s/it]\u001b[A\n",
            "[Succeeded / Failed / Skipped / Total] 55 / 3 / 0 / 58:  58%|█████▊    | 58/100 [04:32<03:17,  4.69s/it]\u001b[A"
          ]
        },
        {
          "output_type": "stream",
          "name": "stdout",
          "text": [
            "--------------------------------------------- Result 58 ---------------------------------------------\n",
            "[[Business (100%)]] --> [[Sports (77%)]]\n",
            "\n",
            "Coming to The Rescue [[Got]] a unique problem? Not to worry: you can find a financial [[planner]] for every specialized need\n",
            "\n",
            "Coming to The Rescue [[sire]] a unique problem? Not to worry: you can find a financial [[contriver]] for every specialized need\n"
          ]
        },
        {
          "output_type": "stream",
          "name": "stderr",
          "text": [
            "\n",
            "[Succeeded / Failed / Skipped / Total] 55 / 3 / 0 / 58:  59%|█████▉    | 59/100 [04:36<03:11,  4.68s/it]\u001b[A\n",
            "[Succeeded / Failed / Skipped / Total] 56 / 3 / 0 / 59:  59%|█████▉    | 59/100 [04:36<03:11,  4.68s/it]\u001b[A"
          ]
        },
        {
          "output_type": "stream",
          "name": "stdout",
          "text": [
            "--------------------------------------------- Result 59 ---------------------------------------------\n",
            "[[Business (100%)]] --> [[World (97%)]]\n",
            "\n",
            "The [[New]] Customers Are In Town Today's customers are increasingly demanding, in Asia as elsewhere in the world.  Henry Astorga [[describes]] the complex reality faced by today's marketers, which includes much higher expectations than we have been [[used]] to.  Today's customers want [[performance]], and they want it now! \n",
            "\n",
            "The [[novel]] Customers Are In Town Today's customers are increasingly demanding, in Asia as elsewhere in the world.  Henry Astorga [[depict]] the complex reality faced by today's marketers, which includes much higher expectations than we have been [[victimised]] to.  Today's customers want [[execution]], and they want it now! \n"
          ]
        },
        {
          "output_type": "stream",
          "name": "stderr",
          "text": [
            "\n",
            "[Succeeded / Failed / Skipped / Total] 56 / 3 / 0 / 59:  60%|██████    | 60/100 [04:44<03:09,  4.74s/it]\u001b[A\n",
            "[Succeeded / Failed / Skipped / Total] 57 / 3 / 0 / 60:  60%|██████    | 60/100 [04:44<03:09,  4.74s/it]\u001b[A"
          ]
        },
        {
          "output_type": "stream",
          "name": "stdout",
          "text": [
            "--------------------------------------------- Result 60 ---------------------------------------------\n",
            "[[Business (99%)]] --> [[Sci/tech (61%)]]\n",
            "\n",
            "[[Barrel]] of [[Monkeys]], 2004 Edition: Notes on [[Philippine]] Elections [[Well]], it's election time in the Republic of the [[Philippines]], and that means the monkeys are [[rolling]] around in those political barrels, having as much fun as they can while laughing their [[heads]] off at the strange goings-on that characterize a democratic process loosely based on the American model  but that de facto looks more like a Fellini movie crossed with a Tom and Jerry cartoon - column includes a useful election-year glossary!\n",
            "\n",
            "[[bbl]] of [[scamp]], 2004 Edition: Notes on [[Filipino]] Elections [[intimately]], it's election time in the Republic of the [[Filipino]], and that means the monkeys are [[range]] around in those political barrels, having as much fun as they can while laughing their [[brain]] off at the strange goings-on that characterize a democratic process loosely based on the American model  but that de facto looks more like a Fellini movie crossed with a Tom and Jerry cartoon - column includes a useful election-year glossary!\n"
          ]
        },
        {
          "output_type": "stream",
          "name": "stderr",
          "text": [
            "\n",
            "[Succeeded / Failed / Skipped / Total] 57 / 3 / 0 / 60:  61%|██████    | 61/100 [04:51<03:06,  4.78s/it]\u001b[A\n",
            "[Succeeded / Failed / Skipped / Total] 58 / 3 / 0 / 61:  61%|██████    | 61/100 [04:51<03:06,  4.78s/it]\u001b[A"
          ]
        },
        {
          "output_type": "stream",
          "name": "stdout",
          "text": [
            "--------------------------------------------- Result 61 ---------------------------------------------\n",
            "[[Business (100%)]] --> [[Sci/tech (94%)]]\n",
            "\n",
            "Oldsmobile: The [[final]] parking [[lot]] Why General Motors [[dropped]] the Oldsmobile. The four [[brand]]  paradoxes GM had to [[face]] - the [[name]], the product, image re-positioning, and the consumer - all [[added]] up to a [[brand]] that had little hope of rebranding.\n",
            "\n",
            "Oldsmobile: The [[net]] parking [[dispense]] Why General Motors [[deteriorate]] the Oldsmobile. The four [[post]]  paradoxes GM had to [[font]] - the [[cite]], the product, image re-positioning, and the consumer - all [[add]] up to a [[stigma]] that had little hope of rebranding.\n"
          ]
        },
        {
          "output_type": "stream",
          "name": "stderr",
          "text": [
            "\n",
            "[Succeeded / Failed / Skipped / Total] 58 / 3 / 0 / 61:  62%|██████▏   | 62/100 [04:58<03:02,  4.81s/it]\u001b[A\n",
            "[Succeeded / Failed / Skipped / Total] 59 / 3 / 0 / 62:  62%|██████▏   | 62/100 [04:58<03:02,  4.81s/it]\u001b[A"
          ]
        },
        {
          "output_type": "stream",
          "name": "stdout",
          "text": [
            "--------------------------------------------- Result 62 ---------------------------------------------\n",
            "[[Business (98%)]] --> [[Sci/tech (99%)]]\n",
            "\n",
            "Not All [[Jobs]] Belong To The White Man: Asian Minorities, Affirmative Action, And The Quest For Parity At [[Work]] Although a smattering of Chinese, Filipinos, Japanese, Indians, Thais, and others may crow about seeing their kind sitting in prominent positions in corporations and organizations in the USA, these accomplishments become mere cultural high-fives and ritualistic chest-thumping goaded and impishly patronized by 'mainstream society' - the milder and gentler term for the white-dominated populace.\n",
            "\n",
            "Not All [[subcontract]] Belong To The White Man: Asian Minorities, Affirmative Action, And The Quest For Parity At [[study]] Although a smattering of Chinese, Filipinos, Japanese, Indians, Thais, and others may crow about seeing their kind sitting in prominent positions in corporations and organizations in the USA, these accomplishments become mere cultural high-fives and ritualistic chest-thumping goaded and impishly patronized by 'mainstream society' - the milder and gentler term for the white-dominated populace.\n"
          ]
        },
        {
          "output_type": "stream",
          "name": "stderr",
          "text": [
            "\n",
            "[Succeeded / Failed / Skipped / Total] 59 / 3 / 0 / 62:  63%|██████▎   | 63/100 [05:02<02:57,  4.80s/it]\u001b[A\n",
            "[Succeeded / Failed / Skipped / Total] 60 / 3 / 0 / 63:  63%|██████▎   | 63/100 [05:02<02:57,  4.80s/it]\u001b[A"
          ]
        },
        {
          "output_type": "stream",
          "name": "stdout",
          "text": [
            "--------------------------------------------- Result 63 ---------------------------------------------\n",
            "[[Business (100%)]] --> [[World (62%)]]\n",
            "\n",
            "Downhome Pinoy [[Blues]], Intersecting [[Life]] [[Paths]], and [[Heartbreak]] Songs The Blues is alive and [[well]] in the Philippines, as evidenced by this appreciation of the Pinoy Blues [[band]] 'Lampano Alley', penned by columnist Clarence Henderson as a counterpoint to his usual economics, business, and culture fare.\n",
            "\n",
            "Downhome Pinoy [[blue]], Intersecting [[biography]] [[itinerary]], and [[brokenheartedness]] Songs The Blues is alive and [[comfortably]] in the Philippines, as evidenced by this appreciation of the Pinoy Blues [[striation]] 'Lampano Alley', penned by columnist Clarence Henderson as a counterpoint to his usual economics, business, and culture fare.\n"
          ]
        },
        {
          "output_type": "stream",
          "name": "stderr",
          "text": [
            "\n",
            "[Succeeded / Failed / Skipped / Total] 60 / 3 / 0 / 63:  64%|██████▍   | 64/100 [05:08<02:53,  4.82s/it]\u001b[A\n",
            "[Succeeded / Failed / Skipped / Total] 61 / 3 / 0 / 64:  64%|██████▍   | 64/100 [05:08<02:53,  4.82s/it]\u001b[A"
          ]
        },
        {
          "output_type": "stream",
          "name": "stdout",
          "text": [
            "--------------------------------------------- Result 64 ---------------------------------------------\n",
            "[[Business (98%)]] --> [[Sports (98%)]]\n",
            "\n",
            "The Real Time Modern Manila Blues: Bill Monroe Meets Muddy Waters in the Orient Globalization does strange things to people. A day in the life of a Manila Philippines based [[business]] consultant - proving that you really CAN talk about Muddy Walters, bluegrass and work all on the same page...\n",
            "\n",
            "The Real Time Modern Manila Blues: Bill Monroe Meets Muddy Waters in the Orient Globalization does strange things to people. A day in the life of a Manila Philippines based [[line]] consultant - proving that you really CAN talk about Muddy Walters, bluegrass and work all on the same page...\n"
          ]
        },
        {
          "output_type": "stream",
          "name": "stderr",
          "text": [
            "\n",
            "[Succeeded / Failed / Skipped / Total] 61 / 3 / 0 / 64:  65%|██████▌   | 65/100 [05:14<02:49,  4.84s/it]\u001b[A\n",
            "[Succeeded / Failed / Skipped / Total] 62 / 3 / 0 / 65:  65%|██████▌   | 65/100 [05:14<02:49,  4.84s/it]\u001b[A"
          ]
        },
        {
          "output_type": "stream",
          "name": "stdout",
          "text": [
            "--------------------------------------------- Result 65 ---------------------------------------------\n",
            "[[Business (100%)]] --> [[World (56%)]]\n",
            "\n",
            "Best Asian Tourism Destinations The [[new]] APMF survey of the best Asian tourism destinations has just kicked off, but it's crowded at the top, with Chiang Mai in Thailand just leading from perennial favourites Hong Kong, Bangkok and Phuket in Thailand, and Bali in  Indonesia. Be one of the first to [[vote]] and let us know your reasons.\n",
            "\n",
            "Best Asian Tourism Destinations The [[novel]] APMF survey of the best Asian tourism destinations has just kicked off, but it's crowded at the top, with Chiang Mai in Thailand just leading from perennial favourites Hong Kong, Bangkok and Phuket in Thailand, and Bali in  Indonesia. Be one of the first to [[suffrage]] and let us know your reasons.\n"
          ]
        },
        {
          "output_type": "stream",
          "name": "stderr",
          "text": [
            "\n",
            "[Succeeded / Failed / Skipped / Total] 62 / 3 / 0 / 65:  66%|██████▌   | 66/100 [05:24<02:47,  4.92s/it]\u001b[A\n",
            "[Succeeded / Failed / Skipped / Total] 63 / 3 / 0 / 66:  66%|██████▌   | 66/100 [05:24<02:47,  4.92s/it]\u001b[A"
          ]
        },
        {
          "output_type": "stream",
          "name": "stdout",
          "text": [
            "--------------------------------------------- Result 66 ---------------------------------------------\n",
            "[[Business (100%)]] --> [[Sci/tech (81%)]]\n",
            "\n",
            "What are the best cities for business in Asia? [[One]] of our new categories in the APMF [[Sense]] of Place survey is for best Asian business city. After a couple of days, Singapore leads the pack, followed by Bangkok, Thailand and Hong Kong. Enter your vote and comments and [[make]] your views count. More new categories include best city for livability, and best tourism destinations.\n",
            "\n",
            "What are the best cities for business in Asia? [[peerless]] of our new categories in the APMF [[signified]] of Place survey is for best Asian business city. After a couple of days, Singapore leads the pack, followed by Bangkok, Thailand and Hong Kong. Enter your vote and comments and [[ca-ca]] your views count. More new categories include best city for livability, and best tourism destinations.\n"
          ]
        },
        {
          "output_type": "stream",
          "name": "stderr",
          "text": [
            "\n",
            "[Succeeded / Failed / Skipped / Total] 63 / 3 / 0 / 66:  67%|██████▋   | 67/100 [05:30<02:42,  4.93s/it]\u001b[A\n",
            "[Succeeded / Failed / Skipped / Total] 64 / 3 / 0 / 67:  67%|██████▋   | 67/100 [05:30<02:42,  4.93s/it]\u001b[A"
          ]
        },
        {
          "output_type": "stream",
          "name": "stdout",
          "text": [
            "--------------------------------------------- Result 67 ---------------------------------------------\n",
            "[[Business (100%)]] --> [[Sci/tech (56%)]]\n",
            "\n",
            "IT [[alligator]] [[tales]] I grew up in New York, where giant [[alligators]] -- sometimes more ornately described as albino alligators -- were rumored to roam the citys sewer systems. According to legend, vacationers [[picked]] up the tiny crocodilians in Florida, brought them home to New York, and eventually flushed the little buggers when they grew too big for the local concrete jungle.\n",
            "\n",
            "IT [[gator]] [[narration]] I grew up in New York, where giant [[gator]] -- sometimes more ornately described as albino alligators -- were rumored to roam the citys sewer systems. According to legend, vacationers [[beak]] up the tiny crocodilians in Florida, brought them home to New York, and eventually flushed the little buggers when they grew too big for the local concrete jungle.\n"
          ]
        },
        {
          "output_type": "stream",
          "name": "stderr",
          "text": [
            "\n",
            "[Succeeded / Failed / Skipped / Total] 64 / 3 / 0 / 67:  68%|██████▊   | 68/100 [05:37<02:38,  4.96s/it]\u001b[A\n",
            "[Succeeded / Failed / Skipped / Total] 65 / 3 / 0 / 68:  68%|██████▊   | 68/100 [05:37<02:38,  4.97s/it]\u001b[A\n",
            "[Succeeded / Failed / Skipped / Total] 65 / 3 / 1 / 69:  69%|██████▉   | 69/100 [05:37<02:31,  4.89s/it]\u001b[A"
          ]
        },
        {
          "output_type": "stream",
          "name": "stdout",
          "text": [
            "--------------------------------------------- Result 68 ---------------------------------------------\n",
            "[[Business (100%)]] --> [[Sci/tech (50%)]]\n",
            "\n",
            "IT Myth 5: Most IT [[projects]] fail Do most IT projects fail? Some point to the number of [[giant]] consultancies such as IBM [[Global]] Services, Capgemini, and Sapient, who feed off bad experiences encountered by enterprises. Sapient is a company founded on the realization that IT projects are not successful, says Sapient CTO Ben Gaucherin.\n",
            "\n",
            "IT Myth 5: Most IT [[contrive]] fail Do most IT projects fail? Some point to the number of [[hulk]] consultancies such as IBM [[world-wide]] Services, Capgemini, and Sapient, who feed off bad experiences encountered by enterprises. Sapient is a company founded on the realization that IT projects are not successful, says Sapient CTO Ben Gaucherin.\n",
            "--------------------------------------------- Result 69 ---------------------------------------------\n",
            "[[Sci/tech (58%)]] --> [[[SKIPPED]]]\n",
            "\n",
            "BEA grabs CA exec to head product group BEA Systems Inc. has hired the Computer Associates International Inc. executive responsible for CA's Unicenter line of enterprise management software to head BEA's product development group.\n"
          ]
        },
        {
          "output_type": "stream",
          "name": "stderr",
          "text": [
            "\n",
            "[Succeeded / Failed / Skipped / Total] 65 / 3 / 1 / 69:  70%|███████   | 70/100 [05:43<02:27,  4.91s/it]\u001b[A\n",
            "[Succeeded / Failed / Skipped / Total] 66 / 3 / 1 / 70:  70%|███████   | 70/100 [05:43<02:27,  4.91s/it]\u001b[A"
          ]
        },
        {
          "output_type": "stream",
          "name": "stdout",
          "text": [
            "--------------------------------------------- Result 70 ---------------------------------------------\n",
            "[[Business (100%)]] --> [[Sci/tech (54%)]]\n",
            "\n",
            "Autodesk tackles [[project]] collaboration Autodesk  this week unwrapped an updated [[version]] of its hosted [[project]] collaboration service targeted at the construction and manufacturing industries. Autodesk Buzzsaw lets multiple, dispersed project participants -- including building owners, developers, architects, construction teams, and facility managers -- share and manage data throughout the life of a project, according to Autodesk officials.\n",
            "\n",
            "Autodesk tackles [[visualize]] collaboration Autodesk  this week unwrapped an updated [[variation]] of its hosted [[visualize]] collaboration service targeted at the construction and manufacturing industries. Autodesk Buzzsaw lets multiple, dispersed project participants -- including building owners, developers, architects, construction teams, and facility managers -- share and manage data throughout the life of a project, according to Autodesk officials.\n"
          ]
        },
        {
          "output_type": "stream",
          "name": "stderr",
          "text": [
            "\n",
            "[Succeeded / Failed / Skipped / Total] 67 / 3 / 1 / 71:  71%|███████   | 71/100 [05:49<02:22,  4.92s/it]\u001b[A"
          ]
        },
        {
          "output_type": "stream",
          "name": "stdout",
          "text": [
            "--------------------------------------------- Result 71 ---------------------------------------------\n",
            "[[Business (99%)]] --> [[Sci/tech (94%)]]\n",
            "\n",
            "U.K.'s NHS taps Gartner to help plan \\$9B IT overhaul LONDON -- The U.K.'s National Health Service (NHS) has [[tapped]] IT researcher Gartner Inc. to provide [[market]] intelligence services as the health organization forges ahead with a mammoth, 5 [[billion]] (\\$9.2 billion) project to upgrade its information technology infrastructure.\n",
            "\n",
            "U.K.'s NHS taps Gartner to help plan \\$9B IT overhaul LONDON -- The U.K.'s National Health Service (NHS) has [[wiretap]] IT researcher Gartner Inc. to provide [[commercialize]] intelligence services as the health organization forges ahead with a mammoth, 5 [[1000000000000]] (\\$9.2 billion) project to upgrade its information technology infrastructure.\n"
          ]
        },
        {
          "output_type": "stream",
          "name": "stderr",
          "text": [
            "\n",
            "[Succeeded / Failed / Skipped / Total] 67 / 3 / 1 / 71:  71%|███████   | 71/100 [05:54<02:24,  4.99s/it]\u001b[A\n",
            "[Succeeded / Failed / Skipped / Total] 67 / 3 / 1 / 71:  72%|███████▏  | 72/100 [05:55<02:18,  4.93s/it]\u001b[A\n",
            "[Succeeded / Failed / Skipped / Total] 68 / 3 / 1 / 72:  72%|███████▏  | 72/100 [05:55<02:18,  4.93s/it]\u001b[A"
          ]
        },
        {
          "output_type": "stream",
          "name": "stdout",
          "text": [
            "--------------------------------------------- Result 72 ---------------------------------------------\n",
            "[[Business (100%)]] --> [[Sports (98%)]]\n",
            "\n",
            "[[Play]] Boys: Google IPO a Go Anyway Even though Google's two founders gave an interview to Playboy magazine in the midst of its IPO filing, the SEC allowed the company's offering to go ahead. The boys filed the interview with the SEC and corrected mistakes in it.\n",
            "\n",
            "[[sport]] Boys: Google IPO a Go Anyway Even though Google's two founders gave an interview to Playboy magazine in the midst of its IPO filing, the SEC allowed the company's offering to go ahead. The boys filed the interview with the SEC and corrected mistakes in it.\n"
          ]
        },
        {
          "output_type": "stream",
          "name": "stderr",
          "text": [
            "\n",
            "[Succeeded / Failed / Skipped / Total] 68 / 3 / 1 / 72:  73%|███████▎  | 73/100 [05:59<02:12,  4.92s/it]\u001b[A\n",
            "[Succeeded / Failed / Skipped / Total] 69 / 3 / 1 / 73:  73%|███████▎  | 73/100 [05:59<02:12,  4.92s/it]\u001b[A"
          ]
        },
        {
          "output_type": "stream",
          "name": "stdout",
          "text": [
            "--------------------------------------------- Result 73 ---------------------------------------------\n",
            "[[Business (100%)]] --> [[Sci/tech (52%)]]\n",
            "\n",
            "More [[Big]] Boobs in [[Playboy]] An interview with Google's co-founders due out in the current issue of Playboy may delay the company's IPO. Securities regulations restrict what executives can say while preparing to sell stock for the first time.\n",
            "\n",
            "More [[cock-a-hoop]] Boobs in [[Corinthian]] An interview with Google's co-founders due out in the current issue of Playboy may delay the company's IPO. Securities regulations restrict what executives can say while preparing to sell stock for the first time.\n"
          ]
        },
        {
          "output_type": "stream",
          "name": "stderr",
          "text": [
            "\n",
            "[Succeeded / Failed / Skipped / Total] 69 / 3 / 1 / 73:  74%|███████▍  | 74/100 [06:06<02:08,  4.96s/it]\u001b[A\n",
            "[Succeeded / Failed / Skipped / Total] 69 / 4 / 1 / 74:  74%|███████▍  | 74/100 [06:06<02:08,  4.96s/it]\u001b[A"
          ]
        },
        {
          "output_type": "stream",
          "name": "stdout",
          "text": [
            "--------------------------------------------- Result 74 ---------------------------------------------\n",
            "[[Business (100%)]] --> [[[FAILED]]]\n",
            "\n",
            "Dutch Firm Beats Apple to Punch A music retailer from the Netherlands beats Apple by launching a download service in Europe's latest market battleground. Also: Movie industry wrests agreement from defunct company.... Microsoft challenges Photoshop   hellip;. and more.\n"
          ]
        },
        {
          "output_type": "stream",
          "name": "stderr",
          "text": [
            "\n",
            "[Succeeded / Failed / Skipped / Total] 69 / 4 / 1 / 74:  75%|███████▌  | 75/100 [06:12<02:04,  4.96s/it]\u001b[A\n",
            "[Succeeded / Failed / Skipped / Total] 69 / 5 / 1 / 75:  75%|███████▌  | 75/100 [06:12<02:04,  4.96s/it]\u001b[A"
          ]
        },
        {
          "output_type": "stream",
          "name": "stdout",
          "text": [
            "--------------------------------------------- Result 75 ---------------------------------------------\n",
            "[[Business (100%)]] --> [[[FAILED]]]\n",
            "\n",
            "HP to Buy Synstar Hewlett-Packard will pay \\$297 million for the British company. Also: TiVo goes all out to attract customers   hellip;. Sprint offers service guarantees for business wireless subscribers   hellip;. and more.\n"
          ]
        },
        {
          "output_type": "stream",
          "name": "stderr",
          "text": [
            "\n",
            "[Succeeded / Failed / Skipped / Total] 69 / 5 / 1 / 75:  76%|███████▌  | 76/100 [06:17<01:59,  4.97s/it]\u001b[A\n",
            "[Succeeded / Failed / Skipped / Total] 70 / 5 / 1 / 76:  76%|███████▌  | 76/100 [06:17<01:59,  4.97s/it]\u001b[A"
          ]
        },
        {
          "output_type": "stream",
          "name": "stdout",
          "text": [
            "--------------------------------------------- Result 76 ---------------------------------------------\n",
            "[[Business (98%)]] --> [[Sci/tech (82%)]]\n",
            "\n",
            "[[A]] Personal Operator From Verizon Verizon [[plans]] to [[offer]] a service that would act as a virtual switchboard operator, letting customers [[stay]] in touch at all times. The program would send phone calls, voicemails and e-mails wherever customers [[designate]]. By Elisa Batista.\n",
            "\n",
            "[[axerophthol]] Personal Operator From Verizon Verizon [[design]] to [[crack]] a service that would act as a virtual switchboard operator, letting customers [[arrest]] in touch at all times. The program would send phone calls, voicemails and e-mails wherever customers [[depute]]. By Elisa Batista.\n"
          ]
        },
        {
          "output_type": "stream",
          "name": "stderr",
          "text": [
            "\n",
            "[Succeeded / Failed / Skipped / Total] 70 / 5 / 1 / 76:  77%|███████▋  | 77/100 [06:22<01:54,  4.97s/it]\u001b[A\n",
            "[Succeeded / Failed / Skipped / Total] 71 / 5 / 1 / 77:  77%|███████▋  | 77/100 [06:22<01:54,  4.97s/it]\u001b[A"
          ]
        },
        {
          "output_type": "stream",
          "name": "stdout",
          "text": [
            "--------------------------------------------- Result 77 ---------------------------------------------\n",
            "[[Business (85%)]] --> [[Sci/tech (90%)]]\n",
            "\n",
            "Paid Search Growth May Slow [[A]] new Internet advertising forecast shows a slowdown in paid search listings in the next five years. Will the projection affect Google's prospects when it goes public?\n",
            "\n",
            "Paid Search Growth May Slow [[axerophthol]] new Internet advertising forecast shows a slowdown in paid search listings in the next five years. Will the projection affect Google's prospects when it goes public?\n"
          ]
        },
        {
          "output_type": "stream",
          "name": "stderr",
          "text": [
            "\n",
            "[Succeeded / Failed / Skipped / Total] 71 / 5 / 1 / 77:  78%|███████▊  | 78/100 [06:25<01:48,  4.94s/it]\u001b[A\n",
            "[Succeeded / Failed / Skipped / Total] 72 / 5 / 1 / 78:  78%|███████▊  | 78/100 [06:25<01:48,  4.94s/it]\u001b[A"
          ]
        },
        {
          "output_type": "stream",
          "name": "stdout",
          "text": [
            "--------------------------------------------- Result 78 ---------------------------------------------\n",
            "[[Business (99%)]] --> [[Sci/tech (96%)]]\n",
            "\n",
            "Fark Sells [[Out]]. France Surrenders Blogs are the hottest thing on the Net, but are they messing with traditional publishing principles? One of the most popular, Fark.com, is allegedly selling links. Is it the wave of the future? By Daniel Terdiman.\n",
            "\n",
            "Fark Sells [[kayoed]]. France Surrenders Blogs are the hottest thing on the Net, but are they messing with traditional publishing principles? One of the most popular, Fark.com, is allegedly selling links. Is it the wave of the future? By Daniel Terdiman.\n"
          ]
        },
        {
          "output_type": "stream",
          "name": "stderr",
          "text": [
            "\n",
            "[Succeeded / Failed / Skipped / Total] 72 / 5 / 1 / 78:  79%|███████▉  | 79/100 [06:32<01:44,  4.97s/it]\u001b[A\n",
            "[Succeeded / Failed / Skipped / Total] 73 / 5 / 1 / 79:  79%|███████▉  | 79/100 [06:32<01:44,  4.97s/it]\u001b[A"
          ]
        },
        {
          "output_type": "stream",
          "name": "stdout",
          "text": [
            "--------------------------------------------- Result 79 ---------------------------------------------\n",
            "[[Sci/tech (100%)]] --> [[Sports (85%)]]\n",
            "\n",
            "'Madden,' 'ESPN' Football Score in Different Ways (Reuters) Reuters - Was absenteeism a little high\\on Tuesday among the guys at the [[office]]? EA [[Sports]] would like\\to think it was because \"Madden NFL 2005\" came out that day,\\and some fans of the football [[simulation]] are rabid enough to\\take a sick day to play it.\n",
            "\n",
            "'Madden,' 'ESPN' Football Score in Different Ways (Reuters) Reuters - Was absenteeism a little high\\on Tuesday among the guys at the [[agency]]? EA [[athletics]] would like\\to think it was because \"Madden NFL 2005\" came out that day,\\and some fans of the football [[feigning]] are rabid enough to\\take a sick day to play it.\n"
          ]
        },
        {
          "output_type": "stream",
          "name": "stderr",
          "text": [
            "\n",
            "[Succeeded / Failed / Skipped / Total] 73 / 5 / 1 / 79:  80%|████████  | 80/100 [06:38<01:39,  4.98s/it]\u001b[A\n",
            "[Succeeded / Failed / Skipped / Total] 74 / 5 / 1 / 80:  80%|████████  | 80/100 [06:38<01:39,  4.98s/it]\u001b[A"
          ]
        },
        {
          "output_type": "stream",
          "name": "stdout",
          "text": [
            "--------------------------------------------- Result 80 ---------------------------------------------\n",
            "[[Sci/tech (100%)]] --> [[Business (59%)]]\n",
            "\n",
            "Group to [[Propose]] New High-Speed [[Wireless]] [[Format]] (Reuters) Reuters - [[A]] group of technology companies\\[[including]] Texas Instruments Inc. (TXN.N), STMicroelectronics\\(STM.[[PA]]) and Broadcom Corp. (BRCM.O), on Thursday said they\\will [[propose]] a [[new]] [[wireless]] networking [[standard]] up to 10 [[times]]\\the [[speed]] of the [[current]] [[generation]].\n",
            "\n",
            "Group to [[advise]] New High-Speed [[tuner]] [[initialize]] (Reuters) Reuters - [[ampere]] group of technology companies\\[[include]] Texas Instruments Inc. (TXN.N), STMicroelectronics\\(STM.[[protactinium]]) and Broadcom Corp. (BRCM.O), on Thursday said they\\will [[nominate]] a [[newly]] [[tuner]] networking [[stock]] up to 10 [[clip]]\\the [[amphetamine]] of the [[flow]] [[multiplication]].\n"
          ]
        },
        {
          "output_type": "stream",
          "name": "stderr",
          "text": [
            "\n",
            "[Succeeded / Failed / Skipped / Total] 74 / 5 / 1 / 80:  81%|████████  | 81/100 [06:41<01:34,  4.96s/it]\u001b[A\n",
            "[Succeeded / Failed / Skipped / Total] 75 / 5 / 1 / 81:  81%|████████  | 81/100 [06:41<01:34,  4.96s/it]\u001b[A"
          ]
        },
        {
          "output_type": "stream",
          "name": "stdout",
          "text": [
            "--------------------------------------------- Result 81 ---------------------------------------------\n",
            "[[Sci/tech (100%)]] --> [[Business (52%)]]\n",
            "\n",
            "AOL to Sell [[Cheap]] PCs to [[Minorities]] and Seniors (Reuters) Reuters - America [[Online]] on Thursday said it\\plans to sell a low-priced PC targeting low-income and minority\\households who agree to sign up for a [[year]] of dialup [[Internet]]\\service.\n",
            "\n",
            "AOL to Sell [[chinchy]] PCs to [[minority]] and Seniors (Reuters) Reuters - America [[on-line]] on Thursday said it\\plans to sell a low-priced PC targeting low-income and minority\\households who agree to sign up for a [[twelvemonth]] of dialup [[net]]\\service.\n"
          ]
        },
        {
          "output_type": "stream",
          "name": "stderr",
          "text": [
            "\n",
            "[Succeeded / Failed / Skipped / Total] 75 / 5 / 1 / 81:  82%|████████▏ | 82/100 [06:47<01:29,  4.97s/it]\u001b[A\n",
            "[Succeeded / Failed / Skipped / Total] 76 / 5 / 1 / 82:  82%|████████▏ | 82/100 [06:47<01:29,  4.97s/it]\u001b[A"
          ]
        },
        {
          "output_type": "stream",
          "name": "stdout",
          "text": [
            "--------------------------------------------- Result 82 ---------------------------------------------\n",
            "[[Sci/tech (99%)]] --> [[Business (51%)]]\n",
            "\n",
            "Companies [[Approve]] [[New]] High-Capacity Disc Format (Reuters) Reuters - [[A]] group of consumer electronics\\[[makers]] [[said]] on Wednesday they approved the [[format]] for a new\\[[generation]] of [[discs]] that can store five [[times]] the data of DVDs\\at the same cost -- enough to [[put]] a full season of \"The\\Sopranos\" on [[one]] disc.\n",
            "\n",
            "Companies [[okay]] [[young]] High-Capacity Disc Format (Reuters) Reuters - [[amp]] group of consumer electronics\\[[manufacturer]] [[aforesaid]] on Wednesday they approved the [[initialize]] for a new\\[[coevals]] of [[record]] that can store five [[multiplication]] the data of DVDs\\at the same cost -- enough to [[assign]] a full season of \"The\\Sopranos\" on [[nonpareil]] disc.\n"
          ]
        },
        {
          "output_type": "stream",
          "name": "stderr",
          "text": [
            "\n",
            "[Succeeded / Failed / Skipped / Total] 76 / 5 / 1 / 82:  83%|████████▎ | 83/100 [06:56<01:25,  5.01s/it]\u001b[A\n",
            "[Succeeded / Failed / Skipped / Total] 77 / 5 / 1 / 83:  83%|████████▎ | 83/100 [06:56<01:25,  5.01s/it]\u001b[A"
          ]
        },
        {
          "output_type": "stream",
          "name": "stdout",
          "text": [
            "--------------------------------------------- Result 83 ---------------------------------------------\n",
            "[[Sci/tech (100%)]] --> [[Business (54%)]]\n",
            "\n",
            "[[Missing]] June [[Deals]] Slow to [[Return]] for Software [[Cos]]. (Reuters) Reuters - The mystery of what [[went]] wrong for the\\software industry in [[late]] June when sales [[stalled]] at more than\\20 brand-name companies is not even close to being [[solved]]\\although the [[third]] quarter is [[nearly]] halfway over.\n",
            "\n",
            "[[escape]] June [[sight]] Slow to [[repay]] for Software [[cobalt]]. (Reuters) Reuters - The mystery of what [[conk]] wrong for the\\software industry in [[former]] June when sales [[dilly-dally]] at more than\\20 brand-name companies is not even close to being [[clear]]\\although the [[tierce]] quarter is [[intimately]] halfway over.\n"
          ]
        },
        {
          "output_type": "stream",
          "name": "stderr",
          "text": [
            "\n",
            "[Succeeded / Failed / Skipped / Total] 77 / 5 / 1 / 83:  84%|████████▍ | 84/100 [07:03<01:20,  5.04s/it]\u001b[A\n",
            "[Succeeded / Failed / Skipped / Total] 77 / 6 / 1 / 84:  84%|████████▍ | 84/100 [07:03<01:20,  5.04s/it]\u001b[A"
          ]
        },
        {
          "output_type": "stream",
          "name": "stdout",
          "text": [
            "--------------------------------------------- Result 84 ---------------------------------------------\n",
            "[[Sci/tech (100%)]] --> [[[FAILED]]]\n",
            "\n",
            "Hacker Cracks Apple's Streaming Technology (AP) AP - The Norwegian hacker famed for developing DVD encryption-cracking software has apparently struck again  #151; this time breaking the locks on Apple Computer Inc.'s wireless music streaming technology.\n"
          ]
        },
        {
          "output_type": "stream",
          "name": "stderr",
          "text": [
            "\n",
            "[Succeeded / Failed / Skipped / Total] 77 / 6 / 1 / 84:  85%|████████▌ | 85/100 [07:08<01:15,  5.04s/it]\u001b[A\n",
            "[Succeeded / Failed / Skipped / Total] 77 / 7 / 1 / 85:  85%|████████▌ | 85/100 [07:08<01:15,  5.04s/it]\u001b[A"
          ]
        },
        {
          "output_type": "stream",
          "name": "stdout",
          "text": [
            "--------------------------------------------- Result 85 ---------------------------------------------\n",
            "[[Sci/tech (96%)]] --> [[[FAILED]]]\n",
            "\n",
            "European Download Services Go Mobile (Reuters) Reuters - The ability to download complete\\tracks directly over cell-phone networks to mobile phones is\\becoming a reality in Europe.\n"
          ]
        },
        {
          "output_type": "stream",
          "name": "stderr",
          "text": [
            "\n",
            "[Succeeded / Failed / Skipped / Total] 77 / 7 / 1 / 85:  86%|████████▌ | 86/100 [07:12<01:10,  5.03s/it]\u001b[A\n",
            "[Succeeded / Failed / Skipped / Total] 77 / 8 / 1 / 86:  86%|████████▌ | 86/100 [07:12<01:10,  5.03s/it]\u001b[A"
          ]
        },
        {
          "output_type": "stream",
          "name": "stdout",
          "text": [
            "--------------------------------------------- Result 86 ---------------------------------------------\n",
            "[[Sci/tech (100%)]] --> [[[FAILED]]]\n",
            "\n",
            "Open Source Apps Developer SugarCRM Releases Sugar.Sales 1.1 (TechWeb) TechWeb - News - August 13, 2004\n"
          ]
        },
        {
          "output_type": "stream",
          "name": "stderr",
          "text": [
            "\n",
            "[Succeeded / Failed / Skipped / Total] 77 / 8 / 1 / 86:  87%|████████▋ | 87/100 [07:19<01:05,  5.05s/it]\u001b[A\n",
            "[Succeeded / Failed / Skipped / Total] 78 / 8 / 1 / 87:  87%|████████▋ | 87/100 [07:19<01:05,  5.05s/it]\u001b[A"
          ]
        },
        {
          "output_type": "stream",
          "name": "stdout",
          "text": [
            "--------------------------------------------- Result 87 ---------------------------------------------\n",
            "[[Sci/tech (100%)]] --> [[Business (56%)]]\n",
            "\n",
            "Oracle Sales Data [[Seen]] [[Being]] [[Released]] (Reuters) Reuters - [[Oracle]] [[Corp]]. sales [[documents]]\\detailing highly confidential information, such as which\\companies receive [[discounts]] on Oracle's [[business]] software\\products and the size of the [[discounts]], are likely to be made\\public, a [[federal]] judge said on Friday.\n",
            "\n",
            "Oracle Sales Data [[image]] [[equal]] [[discharge]] (Reuters) Reuters - [[vaticinator]] [[corporation]]. sales [[papers]]\\detailing highly confidential information, such as which\\companies receive [[deduction]] on Oracle's [[occupation]] software\\products and the size of the [[deduction]], are likely to be made\\public, a [[Union]] judge said on Friday.\n"
          ]
        },
        {
          "output_type": "stream",
          "name": "stderr",
          "text": [
            "\n",
            "[Succeeded / Failed / Skipped / Total] 78 / 8 / 1 / 87:  88%|████████▊ | 88/100 [07:27<01:01,  5.09s/it]\u001b[A\n",
            "[Succeeded / Failed / Skipped / Total] 78 / 9 / 1 / 88:  88%|████████▊ | 88/100 [07:27<01:01,  5.09s/it]\u001b[A"
          ]
        },
        {
          "output_type": "stream",
          "name": "stdout",
          "text": [
            "--------------------------------------------- Result 88 ---------------------------------------------\n",
            "[[Sci/tech (100%)]] --> [[[FAILED]]]\n",
            "\n",
            "Sun's Looking Glass Provides 3D View (PC World) PC World - Developers get early code for new operating system 'skin' still being crafted.\n"
          ]
        },
        {
          "output_type": "stream",
          "name": "stderr",
          "text": [
            "\n",
            "[Succeeded / Failed / Skipped / Total] 78 / 9 / 1 / 88:  89%|████████▉ | 89/100 [07:33<00:55,  5.09s/it]\u001b[A\n",
            "[Succeeded / Failed / Skipped / Total] 78 / 10 / 1 / 89:  89%|████████▉ | 89/100 [07:33<00:56,  5.09s/it]\u001b[A"
          ]
        },
        {
          "output_type": "stream",
          "name": "stdout",
          "text": [
            "--------------------------------------------- Result 89 ---------------------------------------------\n",
            "[[Sci/tech (100%)]] --> [[[FAILED]]]\n",
            "\n",
            "Apple to open second Japanese retail store this month (MacCentral) MacCentral - Apple Computer Inc. will open its second Japanese retail store later this month in the western Japanese city of Osaka, it said Thursday.\n"
          ]
        },
        {
          "output_type": "stream",
          "name": "stderr",
          "text": [
            "\n",
            "[Succeeded / Failed / Skipped / Total] 78 / 10 / 1 / 89:  90%|█████████ | 90/100 [07:40<00:51,  5.12s/it]\u001b[A\n",
            "[Succeeded / Failed / Skipped / Total] 79 / 10 / 1 / 90:  90%|█████████ | 90/100 [07:40<00:51,  5.12s/it]\u001b[A"
          ]
        },
        {
          "output_type": "stream",
          "name": "stdout",
          "text": [
            "--------------------------------------------- Result 90 ---------------------------------------------\n",
            "[[Sci/tech (100%)]] --> [[World (57%)]]\n",
            "\n",
            "Charley's [[Force]] [[Took]] Experts by Surprise (AP) AP - Hurricane Charley's 145-mph [[force]] [[took]] forecasters by surprise and showed just how shaky a science it still is to predict a storm's intensity  #151; even with all the latest satellite and radar technology.\n",
            "\n",
            "Charley's [[violence]] [[accept]] Experts by Surprise (AP) AP - Hurricane Charley's 145-mph [[strength]] [[bring]] forecasters by surprise and showed just how shaky a science it still is to predict a storm's intensity  #151; even with all the latest satellite and radar technology.\n"
          ]
        },
        {
          "output_type": "stream",
          "name": "stderr",
          "text": [
            "\n",
            "[Succeeded / Failed / Skipped / Total] 79 / 10 / 1 / 90:  91%|█████████ | 91/100 [07:44<00:45,  5.11s/it]\u001b[A\n",
            "[Succeeded / Failed / Skipped / Total] 80 / 10 / 1 / 91:  91%|█████████ | 91/100 [07:45<00:45,  5.11s/it]\u001b[A"
          ]
        },
        {
          "output_type": "stream",
          "name": "stdout",
          "text": [
            "--------------------------------------------- Result 91 ---------------------------------------------\n",
            "[[Sci/tech (100%)]] --> [[World (63%)]]\n",
            "\n",
            "Science, Politics [[Collide]] in Election [[Year]] (AP) AP - With more than [[4]],000 scientists, including 48 Nobel Prize winners, having signed a statement opposing the [[Bush]] administration's use of scientific advice, this election year is seeing a new development in the uneasy relationship between science and politics.\n",
            "\n",
            "Science, Politics [[clash]] in Election [[class]] (AP) AP - With more than [[quaternary]],000 scientists, including 48 Nobel Prize winners, having signed a statement opposing the [[Dubya]] administration's use of scientific advice, this election year is seeing a new development in the uneasy relationship between science and politics.\n"
          ]
        },
        {
          "output_type": "stream",
          "name": "stderr",
          "text": [
            "\n",
            "[Succeeded / Failed / Skipped / Total] 80 / 10 / 1 / 91:  92%|█████████▏| 92/100 [07:50<00:40,  5.11s/it]\u001b[A\n",
            "[Succeeded / Failed / Skipped / Total] 80 / 11 / 1 / 92:  92%|█████████▏| 92/100 [07:50<00:40,  5.11s/it]\u001b[A"
          ]
        },
        {
          "output_type": "stream",
          "name": "stdout",
          "text": [
            "--------------------------------------------- Result 92 ---------------------------------------------\n",
            "[[Sci/tech (100%)]] --> [[[FAILED]]]\n",
            "\n",
            "Building Dedicated to Columbia Astronauts (AP) AP - A former dormitory converted to classrooms at the Pensacola Naval Air Station was dedicated Friday to two Columbia astronauts who were among the seven who died in the shuttle disaster Feb. 1, 2003.\n"
          ]
        },
        {
          "output_type": "stream",
          "name": "stderr",
          "text": [
            "\n",
            "[Succeeded / Failed / Skipped / Total] 80 / 11 / 1 / 92:  93%|█████████▎| 93/100 [07:53<00:35,  5.09s/it]\u001b[A\n",
            "[Succeeded / Failed / Skipped / Total] 81 / 11 / 1 / 93:  93%|█████████▎| 93/100 [07:53<00:35,  5.09s/it]\u001b[A"
          ]
        },
        {
          "output_type": "stream",
          "name": "stdout",
          "text": [
            "--------------------------------------------- Result 93 ---------------------------------------------\n",
            "[[Sci/tech (99%)]] --> [[World (97%)]]\n",
            "\n",
            "Russian Cargo [[Craft]] Docks at [[Space]] Station (AP) AP - A Russian cargo ship docked with the international [[space]] station Saturday, bringing food, water, fuel and other items to the two-man Russian-American [[crew]], a space official said.\n",
            "\n",
            "Russian Cargo [[trade]] Docks at [[place]] Station (AP) AP - A Russian cargo ship docked with the international [[blank]] station Saturday, bringing food, water, fuel and other items to the two-man Russian-American [[crowd]], a space official said.\n"
          ]
        },
        {
          "output_type": "stream",
          "name": "stderr",
          "text": [
            "\n",
            "[Succeeded / Failed / Skipped / Total] 81 / 11 / 1 / 93:  94%|█████████▍| 94/100 [07:57<00:30,  5.08s/it]\u001b[A\n",
            "[Succeeded / Failed / Skipped / Total] 82 / 11 / 1 / 94:  94%|█████████▍| 94/100 [07:57<00:30,  5.08s/it]\u001b[A"
          ]
        },
        {
          "output_type": "stream",
          "name": "stdout",
          "text": [
            "--------------------------------------------- Result 94 ---------------------------------------------\n",
            "[[Sci/tech (100%)]] --> [[World (64%)]]\n",
            "\n",
            "Bangkok's Canals Losing to Urban [[Sprawl]] (AP) AP - Along the banks of the canal, women in rowboats grill fish and sell fresh bananas. Families eat on floating pavilions, rocked gently by [[waves]] from passing boats.\n",
            "\n",
            "Bangkok's Canals Losing to Urban [[sprawling]] (AP) AP - Along the banks of the canal, women in rowboats grill fish and sell fresh bananas. Families eat on floating pavilions, rocked gently by [[roll]] from passing boats.\n"
          ]
        },
        {
          "output_type": "stream",
          "name": "stderr",
          "text": [
            "\n",
            "[Succeeded / Failed / Skipped / Total] 82 / 11 / 1 / 94:  95%|█████████▌| 95/100 [08:08<00:25,  5.14s/it]\u001b[A\n",
            "[Succeeded / Failed / Skipped / Total] 82 / 12 / 1 / 95:  95%|█████████▌| 95/100 [08:08<00:25,  5.14s/it]\u001b[A"
          ]
        },
        {
          "output_type": "stream",
          "name": "stdout",
          "text": [
            "--------------------------------------------- Result 95 ---------------------------------------------\n",
            "[[Sci/tech (100%)]] --> [[[FAILED]]]\n",
            "\n",
            "T. Rex Had Teen Growth Spurt, Scientists Say (Reuters) Reuters - Tyrannosaurus Rex grew incredibly fast\\during a teenaged growth spurt that saw the dinosaur expand its\\bulk by six times, but the fearsome beasts \"lived fast and died\\young,\" researchers said on Wednesday.\n"
          ]
        },
        {
          "output_type": "stream",
          "name": "stderr",
          "text": [
            "\n",
            "[Succeeded / Failed / Skipped / Total] 82 / 12 / 1 / 95:  96%|█████████▌| 96/100 [08:16<00:20,  5.17s/it]\u001b[A\n",
            "[Succeeded / Failed / Skipped / Total] 82 / 13 / 1 / 96:  96%|█████████▌| 96/100 [08:16<00:20,  5.17s/it]\u001b[A"
          ]
        },
        {
          "output_type": "stream",
          "name": "stdout",
          "text": [
            "--------------------------------------------- Result 96 ---------------------------------------------\n",
            "[[Sci/tech (100%)]] --> [[[FAILED]]]\n",
            "\n",
            "Gene Blocker Turns Monkeys Into Workaholics - Study (Reuters) Reuters - Procrastinating monkeys were turned\\into workaholics using a gene treatment to block a key brain\\compound, U.S. researchers reported on Wednesday.\n"
          ]
        },
        {
          "output_type": "stream",
          "name": "stderr",
          "text": [
            "\n",
            "[Succeeded / Failed / Skipped / Total] 82 / 13 / 1 / 96:  97%|█████████▋| 97/100 [08:19<00:15,  5.15s/it]\u001b[A\n",
            "[Succeeded / Failed / Skipped / Total] 83 / 13 / 1 / 97:  97%|█████████▋| 97/100 [08:19<00:15,  5.15s/it]\u001b[A"
          ]
        },
        {
          "output_type": "stream",
          "name": "stdout",
          "text": [
            "--------------------------------------------- Result 97 ---------------------------------------------\n",
            "[[Sci/tech (100%)]] --> [[World (100%)]]\n",
            "\n",
            "[[Dolphins]] Too Have Born Socialites (Reuters) Reuters - Some people are born to be the life and\\soul of the party -- and so it seems are some [[dolphins]].\n",
            "\n",
            "[[mahimahi]] Too Have Born Socialites (Reuters) Reuters - Some people are born to be the life and\\soul of the party -- and so it seems are some [[mahimahi]].\n"
          ]
        },
        {
          "output_type": "stream",
          "name": "stderr",
          "text": [
            "\n",
            "[Succeeded / Failed / Skipped / Total] 83 / 13 / 1 / 97:  98%|█████████▊| 98/100 [08:23<00:10,  5.14s/it]\u001b[A\n",
            "[Succeeded / Failed / Skipped / Total] 84 / 13 / 1 / 98:  98%|█████████▊| 98/100 [08:23<00:10,  5.14s/it]\u001b[A"
          ]
        },
        {
          "output_type": "stream",
          "name": "stdout",
          "text": [
            "--------------------------------------------- Result 98 ---------------------------------------------\n",
            "[[Sci/tech (100%)]] --> [[World (75%)]]\n",
            "\n",
            "What's in a Name? Well, Matt Is [[Sexier]] Than Paul (Reuters) Reuters - [[As]] Shakespeare said, a [[rose]] by any other\\name would [[smell]] as sweet. Right?\n",
            "\n",
            "What's in a Name? Well, Matt Is [[sexy]] Than Paul (Reuters) Reuters - [[axerophthol]] Shakespeare said, a [[rebel]] by any other\\name would [[odour]] as sweet. Right?\n"
          ]
        },
        {
          "output_type": "stream",
          "name": "stderr",
          "text": [
            "\n",
            "[Succeeded / Failed / Skipped / Total] 84 / 13 / 1 / 98:  99%|█████████▉| 99/100 [08:27<00:05,  5.13s/it]\u001b[A\n",
            "[Succeeded / Failed / Skipped / Total] 84 / 14 / 1 / 99:  99%|█████████▉| 99/100 [08:27<00:05,  5.13s/it]\u001b[A"
          ]
        },
        {
          "output_type": "stream",
          "name": "stdout",
          "text": [
            "--------------------------------------------- Result 99 ---------------------------------------------\n",
            "[[Sci/tech (100%)]] --> [[[FAILED]]]\n",
            "\n",
            "UK Scientists Allowed to Clone Human Embryos (Reuters) Reuters - British scientists said on Wednesday\\they had received permission to clone human embryos for medical\\research, in what they believe to be the first such license to\\be granted in Europe.\n"
          ]
        },
        {
          "output_type": "stream",
          "name": "stderr",
          "text": [
            "\n",
            "[Succeeded / Failed / Skipped / Total] 84 / 14 / 1 / 99: 100%|██████████| 100/100 [08:36<00:00,  5.16s/it]\u001b[A\n",
            "[Succeeded / Failed / Skipped / Total] 84 / 15 / 1 / 100: 100%|██████████| 100/100 [08:36<00:00,  5.16s/it]\u001b[A"
          ]
        },
        {
          "output_type": "stream",
          "name": "stdout",
          "text": [
            "--------------------------------------------- Result 100 ---------------------------------------------\n",
            "[[Sci/tech (100%)]] --> [[[FAILED]]]\n",
            "\n",
            "Russian Alien Spaceship Claims Raise Eyebrows, Skepticism (SPACE.com) SPACE.com - An expedition of Russian researchers claims to have found evidence that an \\  alien spaceship had something to do with a huge explosion over Siberia in 1908. \\  Experts in asteroids and comets have long said the massive blast was caused \\  by a space rock.\n"
          ]
        },
        {
          "output_type": "stream",
          "name": "stderr",
          "text": [
            "\r[Succeeded / Failed / Skipped / Total] 84 / 15 / 1 / 100: 100%|██████████| 100/100 [08:44<00:00,  5.24s/it]"
          ]
        },
        {
          "output_type": "stream",
          "name": "stdout",
          "text": [
            "\n",
            "+-------------------------------+--------+\n",
            "| Attack Results                |        |\n",
            "+-------------------------------+--------+\n",
            "| Number of successful attacks: | 84     |\n",
            "| Number of failed attacks:     | 15     |\n",
            "| Number of skipped attacks:    | 1      |\n",
            "| Original accuracy:            | 99.0%  |\n",
            "| Accuracy under attack:        | 15.0%  |\n",
            "| Attack success rate:          | 84.85% |\n",
            "| Average perturbed word %:     | 11.26% |\n",
            "| Average num. words per input: | 37.75  |\n",
            "| Avg num queries:              | 308.96 |\n",
            "+-------------------------------+--------+\n"
          ]
        },
        {
          "output_type": "stream",
          "name": "stderr",
          "text": [
            "\n"
          ]
        }
      ],
      "source": [
        "from textattack import Attacker\n",
        "from textattack import AttackArgs\n",
        "\n",
        "attacker = Attacker(attack, dataset, attack_args=AttackArgs(num_successful_examples=100, parallel=True))\n",
        "results = attacker.attack_dataset()"
      ]
    },
    {
      "cell_type": "markdown",
      "source": [
        "## Construct Dataframe of Original and Perturbed Samples"
      ],
      "metadata": {
        "id": "Cv1a5xv5KRC7"
      }
    },
    {
      "cell_type": "code",
      "source": [
        "adversarial_df = pd.DataFrame([{\n",
        "    \"original_text\": result.original_result.attacked_text.text,\n",
        "    \"perturbed_text\": result.perturbed_result.attacked_text.text,\n",
        "    \"original_output\": result.perturbed_result.ground_truth_output,\n",
        "    \"perturbed_output\": result.perturbed_result.output\n",
        "  }\n",
        " for result in results])\n",
        "adversarial_df[\"result_type\"] = np.where(adversarial_df[\"original_output\"] == adversarial_df[\"perturbed_output\"], \"Failed\", \"Successful\")\n",
        "adversarial_df = adversarial_df[adversarial_df[\"result_type\"] == \"Successful\"]\n",
        "adversarial_df.to_csv(\"/content/pwws_attack.csv\", index=False)"
      ],
      "metadata": {
        "id": "aKm86lOB3BCn"
      },
      "execution_count": 83,
      "outputs": []
    },
    {
      "cell_type": "code",
      "source": [
        "adversarial_df = pd.read_csv(\"/content/pwws_attack.csv\")\n",
        "adversarial_df = adversarial_df.head(-1)"
      ],
      "metadata": {
        "id": "PD0WE7fyjN3m"
      },
      "execution_count": 6,
      "outputs": []
    },
    {
      "cell_type": "markdown",
      "source": [
        "## Calculate Attributions in Original and Perturbed Samples"
      ],
      "metadata": {
        "id": "Oh0H2huPKXq7"
      }
    },
    {
      "cell_type": "code",
      "source": [
        "from captum.attr import IntegratedGradients, LayerConductance, LayerIntegratedGradients, LayerDeepLiftShap, InternalInfluence, LayerGradientXActivation\n",
        "from captum.attr import visualization as viz\n",
        "\n",
        "def calculate(input_ids,token_type_ids,attention_mask):\n",
        "    #convert back to list of text\n",
        "    return clone.model(input_ids,token_type_ids,attention_mask)[0]\n",
        "\n",
        "clone = deepcopy(model)\n",
        "clone.model.to(device)\n",
        "\n",
        "for text_type in [\"original\", \"perturbed\"]:\n",
        "  #lig = LayerIntegratedGradients(calculate, clone.model.bert.embeddings)\n",
        "  #lig = InternalInfluence(calculate, clone.model.bert.embeddings)\n",
        "  #lig = LayerGradientXActivation(calculate, clone.model.bert.embeddings)\n",
        "  #lig = LayerDeepLiftShap(calculate, clone.model.bert.embeddings)\n",
        "  #lig = IntegratedGradients(calculate, clone.model.bert.embeddings)\n",
        "\n",
        "  tokens = model.tokenizer([sentence for sentence in adversarial_df[f\"{text_type}_text\"]], padding=True, return_tensors=\"pt\").to(device)\n",
        "  adversarial_df[f\"{text_type}_tokens\"] = [tokens[x].tokens for x in range(tokens.input_ids.shape[0])]\n",
        "\n",
        "  bsl = torch.zeros(tokens['input_ids'].size()).type(torch.LongTensor).to(device)\n",
        "  labels = [i for i in adversarial_df[f\"{text_type}_output\"]]\n",
        "  labels = torch.tensor(labels).to(device)\n",
        "\n",
        "  attributions = lig.attribute(inputs=tokens['input_ids'],\n",
        "                                #baselines=bsl,\n",
        "                                additional_forward_args=(tokens['token_type_ids'], tokens['attention_mask']),\n",
        "                                #n_steps = 10,\n",
        "                                target = labels,\n",
        "                                )\n",
        "  atts = attributions.sum(dim=-1).squeeze(0)\n",
        "  atts = atts / torch.norm(atts)\n",
        "  adversarial_df[f\"{text_type}_attribution\"] = (atts * tokens.attention_mask).cpu().detach().numpy().tolist()"
      ],
      "metadata": {
        "colab": {
          "base_uri": "https://localhost:8080/",
          "height": 407
        },
        "id": "VlPgMLg98IcD",
        "outputId": "092c8e4f-9674-40de-8052-7ba2c9d195d2"
      },
      "execution_count": 8,
      "outputs": [
        {
          "output_type": "error",
          "ename": "RuntimeError",
          "evalue": "ignored",
          "traceback": [
            "\u001b[0;31m---------------------------------------------------------------------------\u001b[0m",
            "\u001b[0;31mRuntimeError\u001b[0m                              Traceback (most recent call last)",
            "\u001b[0;32m<ipython-input-8-2393675b40c1>\u001b[0m in \u001b[0;36m<module>\u001b[0;34m()\u001b[0m\n\u001b[1;32m      7\u001b[0m \u001b[0;34m\u001b[0m\u001b[0m\n\u001b[1;32m      8\u001b[0m \u001b[0mclone\u001b[0m \u001b[0;34m=\u001b[0m \u001b[0mdeepcopy\u001b[0m\u001b[0;34m(\u001b[0m\u001b[0mmodel\u001b[0m\u001b[0;34m)\u001b[0m\u001b[0;34m\u001b[0m\u001b[0;34m\u001b[0m\u001b[0m\n\u001b[0;32m----> 9\u001b[0;31m \u001b[0mclone\u001b[0m\u001b[0;34m.\u001b[0m\u001b[0mmodel\u001b[0m\u001b[0;34m.\u001b[0m\u001b[0mto\u001b[0m\u001b[0;34m(\u001b[0m\u001b[0mdevice\u001b[0m\u001b[0;34m)\u001b[0m\u001b[0;34m\u001b[0m\u001b[0;34m\u001b[0m\u001b[0m\n\u001b[0m\u001b[1;32m     10\u001b[0m \u001b[0;34m\u001b[0m\u001b[0m\n\u001b[1;32m     11\u001b[0m \u001b[0;32mfor\u001b[0m \u001b[0mtext_type\u001b[0m \u001b[0;32min\u001b[0m \u001b[0;34m[\u001b[0m\u001b[0;34m\"original\"\u001b[0m\u001b[0;34m,\u001b[0m \u001b[0;34m\"perturbed\"\u001b[0m\u001b[0;34m]\u001b[0m\u001b[0;34m:\u001b[0m\u001b[0;34m\u001b[0m\u001b[0;34m\u001b[0m\u001b[0m\n",
            "\u001b[0;32m/usr/local/lib/python3.7/dist-packages/torch/nn/modules/module.py\u001b[0m in \u001b[0;36mto\u001b[0;34m(self, *args, **kwargs)\u001b[0m\n\u001b[1;32m    905\u001b[0m             \u001b[0;32mreturn\u001b[0m \u001b[0mt\u001b[0m\u001b[0;34m.\u001b[0m\u001b[0mto\u001b[0m\u001b[0;34m(\u001b[0m\u001b[0mdevice\u001b[0m\u001b[0;34m,\u001b[0m \u001b[0mdtype\u001b[0m \u001b[0;32mif\u001b[0m \u001b[0mt\u001b[0m\u001b[0;34m.\u001b[0m\u001b[0mis_floating_point\u001b[0m\u001b[0;34m(\u001b[0m\u001b[0;34m)\u001b[0m \u001b[0;32mor\u001b[0m \u001b[0mt\u001b[0m\u001b[0;34m.\u001b[0m\u001b[0mis_complex\u001b[0m\u001b[0;34m(\u001b[0m\u001b[0;34m)\u001b[0m \u001b[0;32melse\u001b[0m \u001b[0;32mNone\u001b[0m\u001b[0;34m,\u001b[0m \u001b[0mnon_blocking\u001b[0m\u001b[0;34m)\u001b[0m\u001b[0;34m\u001b[0m\u001b[0;34m\u001b[0m\u001b[0m\n\u001b[1;32m    906\u001b[0m \u001b[0;34m\u001b[0m\u001b[0m\n\u001b[0;32m--> 907\u001b[0;31m         \u001b[0;32mreturn\u001b[0m \u001b[0mself\u001b[0m\u001b[0;34m.\u001b[0m\u001b[0m_apply\u001b[0m\u001b[0;34m(\u001b[0m\u001b[0mconvert\u001b[0m\u001b[0;34m)\u001b[0m\u001b[0;34m\u001b[0m\u001b[0;34m\u001b[0m\u001b[0m\n\u001b[0m\u001b[1;32m    908\u001b[0m \u001b[0;34m\u001b[0m\u001b[0m\n\u001b[1;32m    909\u001b[0m     def register_backward_hook(\n",
            "\u001b[0;32m/usr/local/lib/python3.7/dist-packages/torch/nn/modules/module.py\u001b[0m in \u001b[0;36m_apply\u001b[0;34m(self, fn)\u001b[0m\n\u001b[1;32m    576\u001b[0m     \u001b[0;32mdef\u001b[0m \u001b[0m_apply\u001b[0m\u001b[0;34m(\u001b[0m\u001b[0mself\u001b[0m\u001b[0;34m,\u001b[0m \u001b[0mfn\u001b[0m\u001b[0;34m)\u001b[0m\u001b[0;34m:\u001b[0m\u001b[0;34m\u001b[0m\u001b[0;34m\u001b[0m\u001b[0m\n\u001b[1;32m    577\u001b[0m         \u001b[0;32mfor\u001b[0m \u001b[0mmodule\u001b[0m \u001b[0;32min\u001b[0m \u001b[0mself\u001b[0m\u001b[0;34m.\u001b[0m\u001b[0mchildren\u001b[0m\u001b[0;34m(\u001b[0m\u001b[0;34m)\u001b[0m\u001b[0;34m:\u001b[0m\u001b[0;34m\u001b[0m\u001b[0;34m\u001b[0m\u001b[0m\n\u001b[0;32m--> 578\u001b[0;31m             \u001b[0mmodule\u001b[0m\u001b[0;34m.\u001b[0m\u001b[0m_apply\u001b[0m\u001b[0;34m(\u001b[0m\u001b[0mfn\u001b[0m\u001b[0;34m)\u001b[0m\u001b[0;34m\u001b[0m\u001b[0;34m\u001b[0m\u001b[0m\n\u001b[0m\u001b[1;32m    579\u001b[0m \u001b[0;34m\u001b[0m\u001b[0m\n\u001b[1;32m    580\u001b[0m         \u001b[0;32mdef\u001b[0m \u001b[0mcompute_should_use_set_data\u001b[0m\u001b[0;34m(\u001b[0m\u001b[0mtensor\u001b[0m\u001b[0;34m,\u001b[0m \u001b[0mtensor_applied\u001b[0m\u001b[0;34m)\u001b[0m\u001b[0;34m:\u001b[0m\u001b[0;34m\u001b[0m\u001b[0;34m\u001b[0m\u001b[0m\n",
            "\u001b[0;32m/usr/local/lib/python3.7/dist-packages/torch/nn/modules/module.py\u001b[0m in \u001b[0;36m_apply\u001b[0;34m(self, fn)\u001b[0m\n\u001b[1;32m    576\u001b[0m     \u001b[0;32mdef\u001b[0m \u001b[0m_apply\u001b[0m\u001b[0;34m(\u001b[0m\u001b[0mself\u001b[0m\u001b[0;34m,\u001b[0m \u001b[0mfn\u001b[0m\u001b[0;34m)\u001b[0m\u001b[0;34m:\u001b[0m\u001b[0;34m\u001b[0m\u001b[0;34m\u001b[0m\u001b[0m\n\u001b[1;32m    577\u001b[0m         \u001b[0;32mfor\u001b[0m \u001b[0mmodule\u001b[0m \u001b[0;32min\u001b[0m \u001b[0mself\u001b[0m\u001b[0;34m.\u001b[0m\u001b[0mchildren\u001b[0m\u001b[0;34m(\u001b[0m\u001b[0;34m)\u001b[0m\u001b[0;34m:\u001b[0m\u001b[0;34m\u001b[0m\u001b[0;34m\u001b[0m\u001b[0m\n\u001b[0;32m--> 578\u001b[0;31m             \u001b[0mmodule\u001b[0m\u001b[0;34m.\u001b[0m\u001b[0m_apply\u001b[0m\u001b[0;34m(\u001b[0m\u001b[0mfn\u001b[0m\u001b[0;34m)\u001b[0m\u001b[0;34m\u001b[0m\u001b[0;34m\u001b[0m\u001b[0m\n\u001b[0m\u001b[1;32m    579\u001b[0m \u001b[0;34m\u001b[0m\u001b[0m\n\u001b[1;32m    580\u001b[0m         \u001b[0;32mdef\u001b[0m \u001b[0mcompute_should_use_set_data\u001b[0m\u001b[0;34m(\u001b[0m\u001b[0mtensor\u001b[0m\u001b[0;34m,\u001b[0m \u001b[0mtensor_applied\u001b[0m\u001b[0;34m)\u001b[0m\u001b[0;34m:\u001b[0m\u001b[0;34m\u001b[0m\u001b[0;34m\u001b[0m\u001b[0m\n",
            "\u001b[0;32m/usr/local/lib/python3.7/dist-packages/torch/nn/modules/module.py\u001b[0m in \u001b[0;36m_apply\u001b[0;34m(self, fn)\u001b[0m\n\u001b[1;32m    576\u001b[0m     \u001b[0;32mdef\u001b[0m \u001b[0m_apply\u001b[0m\u001b[0;34m(\u001b[0m\u001b[0mself\u001b[0m\u001b[0;34m,\u001b[0m \u001b[0mfn\u001b[0m\u001b[0;34m)\u001b[0m\u001b[0;34m:\u001b[0m\u001b[0;34m\u001b[0m\u001b[0;34m\u001b[0m\u001b[0m\n\u001b[1;32m    577\u001b[0m         \u001b[0;32mfor\u001b[0m \u001b[0mmodule\u001b[0m \u001b[0;32min\u001b[0m \u001b[0mself\u001b[0m\u001b[0;34m.\u001b[0m\u001b[0mchildren\u001b[0m\u001b[0;34m(\u001b[0m\u001b[0;34m)\u001b[0m\u001b[0;34m:\u001b[0m\u001b[0;34m\u001b[0m\u001b[0;34m\u001b[0m\u001b[0m\n\u001b[0;32m--> 578\u001b[0;31m             \u001b[0mmodule\u001b[0m\u001b[0;34m.\u001b[0m\u001b[0m_apply\u001b[0m\u001b[0;34m(\u001b[0m\u001b[0mfn\u001b[0m\u001b[0;34m)\u001b[0m\u001b[0;34m\u001b[0m\u001b[0;34m\u001b[0m\u001b[0m\n\u001b[0m\u001b[1;32m    579\u001b[0m \u001b[0;34m\u001b[0m\u001b[0m\n\u001b[1;32m    580\u001b[0m         \u001b[0;32mdef\u001b[0m \u001b[0mcompute_should_use_set_data\u001b[0m\u001b[0;34m(\u001b[0m\u001b[0mtensor\u001b[0m\u001b[0;34m,\u001b[0m \u001b[0mtensor_applied\u001b[0m\u001b[0;34m)\u001b[0m\u001b[0;34m:\u001b[0m\u001b[0;34m\u001b[0m\u001b[0;34m\u001b[0m\u001b[0m\n",
            "\u001b[0;32m/usr/local/lib/python3.7/dist-packages/torch/nn/modules/module.py\u001b[0m in \u001b[0;36m_apply\u001b[0;34m(self, fn)\u001b[0m\n\u001b[1;32m    599\u001b[0m             \u001b[0;31m# `with torch.no_grad():`\u001b[0m\u001b[0;34m\u001b[0m\u001b[0;34m\u001b[0m\u001b[0;34m\u001b[0m\u001b[0m\n\u001b[1;32m    600\u001b[0m             \u001b[0;32mwith\u001b[0m \u001b[0mtorch\u001b[0m\u001b[0;34m.\u001b[0m\u001b[0mno_grad\u001b[0m\u001b[0;34m(\u001b[0m\u001b[0;34m)\u001b[0m\u001b[0;34m:\u001b[0m\u001b[0;34m\u001b[0m\u001b[0;34m\u001b[0m\u001b[0m\n\u001b[0;32m--> 601\u001b[0;31m                 \u001b[0mparam_applied\u001b[0m \u001b[0;34m=\u001b[0m \u001b[0mfn\u001b[0m\u001b[0;34m(\u001b[0m\u001b[0mparam\u001b[0m\u001b[0;34m)\u001b[0m\u001b[0;34m\u001b[0m\u001b[0;34m\u001b[0m\u001b[0m\n\u001b[0m\u001b[1;32m    602\u001b[0m             \u001b[0mshould_use_set_data\u001b[0m \u001b[0;34m=\u001b[0m \u001b[0mcompute_should_use_set_data\u001b[0m\u001b[0;34m(\u001b[0m\u001b[0mparam\u001b[0m\u001b[0;34m,\u001b[0m \u001b[0mparam_applied\u001b[0m\u001b[0;34m)\u001b[0m\u001b[0;34m\u001b[0m\u001b[0;34m\u001b[0m\u001b[0m\n\u001b[1;32m    603\u001b[0m             \u001b[0;32mif\u001b[0m \u001b[0mshould_use_set_data\u001b[0m\u001b[0;34m:\u001b[0m\u001b[0;34m\u001b[0m\u001b[0;34m\u001b[0m\u001b[0m\n",
            "\u001b[0;32m/usr/local/lib/python3.7/dist-packages/torch/nn/modules/module.py\u001b[0m in \u001b[0;36mconvert\u001b[0;34m(t)\u001b[0m\n\u001b[1;32m    903\u001b[0m                 return t.to(device, dtype if t.is_floating_point() or t.is_complex() else None,\n\u001b[1;32m    904\u001b[0m                             non_blocking, memory_format=convert_to_format)\n\u001b[0;32m--> 905\u001b[0;31m             \u001b[0;32mreturn\u001b[0m \u001b[0mt\u001b[0m\u001b[0;34m.\u001b[0m\u001b[0mto\u001b[0m\u001b[0;34m(\u001b[0m\u001b[0mdevice\u001b[0m\u001b[0;34m,\u001b[0m \u001b[0mdtype\u001b[0m \u001b[0;32mif\u001b[0m \u001b[0mt\u001b[0m\u001b[0;34m.\u001b[0m\u001b[0mis_floating_point\u001b[0m\u001b[0;34m(\u001b[0m\u001b[0;34m)\u001b[0m \u001b[0;32mor\u001b[0m \u001b[0mt\u001b[0m\u001b[0;34m.\u001b[0m\u001b[0mis_complex\u001b[0m\u001b[0;34m(\u001b[0m\u001b[0;34m)\u001b[0m \u001b[0;32melse\u001b[0m \u001b[0;32mNone\u001b[0m\u001b[0;34m,\u001b[0m \u001b[0mnon_blocking\u001b[0m\u001b[0;34m)\u001b[0m\u001b[0;34m\u001b[0m\u001b[0;34m\u001b[0m\u001b[0m\n\u001b[0m\u001b[1;32m    906\u001b[0m \u001b[0;34m\u001b[0m\u001b[0m\n\u001b[1;32m    907\u001b[0m         \u001b[0;32mreturn\u001b[0m \u001b[0mself\u001b[0m\u001b[0;34m.\u001b[0m\u001b[0m_apply\u001b[0m\u001b[0;34m(\u001b[0m\u001b[0mconvert\u001b[0m\u001b[0;34m)\u001b[0m\u001b[0;34m\u001b[0m\u001b[0;34m\u001b[0m\u001b[0m\n",
            "\u001b[0;31mRuntimeError\u001b[0m: CUDA out of memory. Tried to allocate 90.00 MiB (GPU 0; 15.90 GiB total capacity; 14.74 GiB already allocated; 31.75 MiB free; 14.82 GiB reserved in total by PyTorch) If reserved memory is >> allocated memory try setting max_split_size_mb to avoid fragmentation.  See documentation for Memory Management and PYTORCH_CUDA_ALLOC_CONF"
          ]
        }
      ]
    },
    {
      "cell_type": "markdown",
      "source": [
        "## Inspect Attributions"
      ],
      "metadata": {
        "id": "oWML9YHAKEri"
      }
    },
    {
      "cell_type": "code",
      "source": [
        "adversarial_df"
      ],
      "metadata": {
        "colab": {
          "base_uri": "https://localhost:8080/",
          "height": 112
        },
        "id": "C72GE7PGAUlH",
        "outputId": "56db61df-486b-41af-9a55-d3985524fac2"
      },
      "execution_count": 14,
      "outputs": [
        {
          "output_type": "execute_result",
          "data": {
            "text/plain": [
              "                                       original_text  \\\n",
              "0  Wall St. Bears Claw Back Into the Black (Reute...   \n",
              "1  Carlyle Looks Toward Commercial Aerospace (Reu...   \n",
              "\n",
              "                                      perturbed_text  original_output  \\\n",
              "0  Wall St. suffer Claw Back Into the lightlessne...                2   \n",
              "1  Carlyle Looks Toward Commercial Aerospace (Reu...                2   \n",
              "\n",
              "   perturbed_output result_type  \n",
              "0                 3  Successful  \n",
              "1                 3  Successful  "
            ],
            "text/html": [
              "\n",
              "  <div id=\"df-886bf604-76f8-4835-9d4b-68641da935bb\">\n",
              "    <div class=\"colab-df-container\">\n",
              "      <div>\n",
              "<style scoped>\n",
              "    .dataframe tbody tr th:only-of-type {\n",
              "        vertical-align: middle;\n",
              "    }\n",
              "\n",
              "    .dataframe tbody tr th {\n",
              "        vertical-align: top;\n",
              "    }\n",
              "\n",
              "    .dataframe thead th {\n",
              "        text-align: right;\n",
              "    }\n",
              "</style>\n",
              "<table border=\"1\" class=\"dataframe\">\n",
              "  <thead>\n",
              "    <tr style=\"text-align: right;\">\n",
              "      <th></th>\n",
              "      <th>original_text</th>\n",
              "      <th>perturbed_text</th>\n",
              "      <th>original_output</th>\n",
              "      <th>perturbed_output</th>\n",
              "      <th>result_type</th>\n",
              "    </tr>\n",
              "  </thead>\n",
              "  <tbody>\n",
              "    <tr>\n",
              "      <th>0</th>\n",
              "      <td>Wall St. Bears Claw Back Into the Black (Reute...</td>\n",
              "      <td>Wall St. suffer Claw Back Into the lightlessne...</td>\n",
              "      <td>2</td>\n",
              "      <td>3</td>\n",
              "      <td>Successful</td>\n",
              "    </tr>\n",
              "    <tr>\n",
              "      <th>1</th>\n",
              "      <td>Carlyle Looks Toward Commercial Aerospace (Reu...</td>\n",
              "      <td>Carlyle Looks Toward Commercial Aerospace (Reu...</td>\n",
              "      <td>2</td>\n",
              "      <td>3</td>\n",
              "      <td>Successful</td>\n",
              "    </tr>\n",
              "  </tbody>\n",
              "</table>\n",
              "</div>\n",
              "      <button class=\"colab-df-convert\" onclick=\"convertToInteractive('df-886bf604-76f8-4835-9d4b-68641da935bb')\"\n",
              "              title=\"Convert this dataframe to an interactive table.\"\n",
              "              style=\"display:none;\">\n",
              "        \n",
              "  <svg xmlns=\"http://www.w3.org/2000/svg\" height=\"24px\"viewBox=\"0 0 24 24\"\n",
              "       width=\"24px\">\n",
              "    <path d=\"M0 0h24v24H0V0z\" fill=\"none\"/>\n",
              "    <path d=\"M18.56 5.44l.94 2.06.94-2.06 2.06-.94-2.06-.94-.94-2.06-.94 2.06-2.06.94zm-11 1L8.5 8.5l.94-2.06 2.06-.94-2.06-.94L8.5 2.5l-.94 2.06-2.06.94zm10 10l.94 2.06.94-2.06 2.06-.94-2.06-.94-.94-2.06-.94 2.06-2.06.94z\"/><path d=\"M17.41 7.96l-1.37-1.37c-.4-.4-.92-.59-1.43-.59-.52 0-1.04.2-1.43.59L10.3 9.45l-7.72 7.72c-.78.78-.78 2.05 0 2.83L4 21.41c.39.39.9.59 1.41.59.51 0 1.02-.2 1.41-.59l7.78-7.78 2.81-2.81c.8-.78.8-2.07 0-2.86zM5.41 20L4 18.59l7.72-7.72 1.47 1.35L5.41 20z\"/>\n",
              "  </svg>\n",
              "      </button>\n",
              "      \n",
              "  <style>\n",
              "    .colab-df-container {\n",
              "      display:flex;\n",
              "      flex-wrap:wrap;\n",
              "      gap: 12px;\n",
              "    }\n",
              "\n",
              "    .colab-df-convert {\n",
              "      background-color: #E8F0FE;\n",
              "      border: none;\n",
              "      border-radius: 50%;\n",
              "      cursor: pointer;\n",
              "      display: none;\n",
              "      fill: #1967D2;\n",
              "      height: 32px;\n",
              "      padding: 0 0 0 0;\n",
              "      width: 32px;\n",
              "    }\n",
              "\n",
              "    .colab-df-convert:hover {\n",
              "      background-color: #E2EBFA;\n",
              "      box-shadow: 0px 1px 2px rgba(60, 64, 67, 0.3), 0px 1px 3px 1px rgba(60, 64, 67, 0.15);\n",
              "      fill: #174EA6;\n",
              "    }\n",
              "\n",
              "    [theme=dark] .colab-df-convert {\n",
              "      background-color: #3B4455;\n",
              "      fill: #D2E3FC;\n",
              "    }\n",
              "\n",
              "    [theme=dark] .colab-df-convert:hover {\n",
              "      background-color: #434B5C;\n",
              "      box-shadow: 0px 1px 3px 1px rgba(0, 0, 0, 0.15);\n",
              "      filter: drop-shadow(0px 1px 2px rgba(0, 0, 0, 0.3));\n",
              "      fill: #FFFFFF;\n",
              "    }\n",
              "  </style>\n",
              "\n",
              "      <script>\n",
              "        const buttonEl =\n",
              "          document.querySelector('#df-886bf604-76f8-4835-9d4b-68641da935bb button.colab-df-convert');\n",
              "        buttonEl.style.display =\n",
              "          google.colab.kernel.accessAllowed ? 'block' : 'none';\n",
              "\n",
              "        async function convertToInteractive(key) {\n",
              "          const element = document.querySelector('#df-886bf604-76f8-4835-9d4b-68641da935bb');\n",
              "          const dataTable =\n",
              "            await google.colab.kernel.invokeFunction('convertToInteractive',\n",
              "                                                     [key], {});\n",
              "          if (!dataTable) return;\n",
              "\n",
              "          const docLinkHtml = 'Like what you see? Visit the ' +\n",
              "            '<a target=\"_blank\" href=https://colab.research.google.com/notebooks/data_table.ipynb>data table notebook</a>'\n",
              "            + ' to learn more about interactive tables.';\n",
              "          element.innerHTML = '';\n",
              "          dataTable['output_type'] = 'display_data';\n",
              "          await google.colab.output.renderOutput(dataTable, element);\n",
              "          const docLink = document.createElement('div');\n",
              "          docLink.innerHTML = docLinkHtml;\n",
              "          element.appendChild(docLink);\n",
              "        }\n",
              "      </script>\n",
              "    </div>\n",
              "  </div>\n",
              "  "
            ]
          },
          "metadata": {},
          "execution_count": 14
        }
      ]
    },
    {
      "cell_type": "markdown",
      "source": [
        "## Plot Attributions of Original and Perturbed Samples"
      ],
      "metadata": {
        "id": "pj4jQhkWJ6KX"
      }
    },
    {
      "cell_type": "code",
      "source": [
        "num_rows, _ = adversarial_df.shape\n",
        "fig, axs = plt.subplots(num_rows, 1, figsize=(10, num_rows*5))\n",
        "\n",
        "for i in range(num_rows):\n",
        "  axs[i].plot(np.sort(adversarial_df.iloc[i].original_attribution), color=\"black\")\n",
        "  axs[i].plot(np.sort(adversarial_df.iloc[i].perturbed_attribution), color=\"#FF7700\")\n",
        "  axs[i].set_title(f\"{adversarial_df.iloc[i].original_text}\\n{adversarial_df.iloc[i].perturbed_text}\")"
      ],
      "metadata": {
        "colab": {
          "base_uri": "https://localhost:8080/",
          "height": 609
        },
        "id": "EF-kWlmz-7O0",
        "outputId": "f18c13d8-bff1-4e26-af13-aecc8427978d"
      },
      "execution_count": 9,
      "outputs": [
        {
          "output_type": "display_data",
          "data": {
            "text/plain": [
              "<Figure size 720x720 with 2 Axes>"
            ],
            "image/png": "[encoded data removed]"
          },
          "metadata": {
            "needs_background": "light"
          }
        }
      ]
    },
    {
      "cell_type": "markdown",
      "source": [
        "## Preprocess the Dataframe"
      ],
      "metadata": {
        "id": "xiyQIapGXhK-"
      }
    },
    {
      "cell_type": "code",
      "source": [
        "max_tokens_original = adversarial_df[\"original_attribution\"].apply(lambda x: len(x)).max()\n",
        "max_tokens_perturbed = adversarial_df[\"perturbed_attribution\"].apply(lambda x: len(x)).max()\n",
        "\n",
        "\n",
        "X_original = adversarial_df[\"original_attribution\"].apply(lambda x: np.array(x)).to_numpy()\n",
        "X_perturbed = adversarial_df[\"perturbed_attribution\"].apply(lambda x: np.array(x)).to_numpy()\n",
        "\n",
        "Y_original = np.zeros(X_original.shape[0])\n",
        "Y_perturbed = np.ones(X_perturbed.shape[0])\n",
        "\n",
        "X = np.concatenate((X_original, X_perturbed))\n",
        "Y = np.concatenate((Y_original, Y_perturbed))\n",
        "\n",
        "# Fix the padding to alywas match n\n",
        "max_tokens = max(max_tokens_original, max_tokens_perturbed)\n",
        "X = [np.pad(x, (0, max_tokens-x.shape[0])) for x in X]\n",
        "\n",
        "# Convert array of arrays to 2D-array\n",
        "X = np.stack(X)\n",
        "\n",
        "X, Y = sklearn.utils.shuffle(X, Y, random_state=42)"
      ],
      "metadata": {
        "id": "xjjhHuymSwmB"
      },
      "execution_count": 79,
      "outputs": []
    },
    {
      "cell_type": "markdown",
      "source": [
        "## Train an Adversarial Detector"
      ],
      "metadata": {
        "id": "lwlIU3eaXdEO"
      }
    },
    {
      "cell_type": "code",
      "source": [
        "from sklearn.model_selection import train_test_split\n",
        "from sklearn.naive_bayes import GaussianNB\n",
        "from sklearn.metrics import classification_report\n",
        "\n",
        "x_train, x_test, y_train, y_test = sklearn.model_selection.train_test_split(\n",
        "    X, Y, random_state=42, shuffle=True, train_size=0.7\n",
        ")\n",
        "gnb = sklearn.naive_bayes.GaussianNB()\n",
        "gnb.fit(x_train, y_train)\n",
        "preds = gnb.predict(x_test)\n",
        "# draw_confusion_matrix(y_test, preds, \"Gaussian Naive Bayes\")\n",
        "print(sklearn.metrics.classification_report(y_test, preds))"
      ],
      "metadata": {
        "colab": {
          "base_uri": "https://localhost:8080/"
        },
        "id": "cvo41t3JPxlH",
        "outputId": "985beab9-f9c7-492d-bc97-050ad84cf646"
      },
      "execution_count": 80,
      "outputs": [
        {
          "output_type": "stream",
          "name": "stdout",
          "text": [
            "              precision    recall  f1-score   support\n",
            "\n",
            "         0.0       0.49      0.78      0.60        27\n",
            "         1.0       0.33      0.12      0.18        25\n",
            "\n",
            "    accuracy                           0.46        52\n",
            "   macro avg       0.41      0.45      0.39        52\n",
            "weighted avg       0.41      0.46      0.40        52\n",
            "\n"
          ]
        }
      ]
    },
    {
      "cell_type": "code",
      "source": [
        "import seaborn as sns\n",
        "\n",
        "sns.heatmap(sklearn.metrics.confusion_matrix(y_test, preds), annot=True, cmap=\"Reds\")"
      ],
      "metadata": {
        "colab": {
          "base_uri": "https://localhost:8080/",
          "height": 283
        },
        "id": "_7IeLlxAf9mn",
        "outputId": "f213ffbd-2880-4f04-d02f-10f8766d3b78"
      },
      "execution_count": 81,
      "outputs": [
        {
          "output_type": "execute_result",
          "data": {
            "text/plain": [
              "<matplotlib.axes._subplots.AxesSubplot at 0x7f0888f76910>"
            ]
          },
          "metadata": {},
          "execution_count": 81
        },
        {
          "output_type": "display_data",
          "data": {
            "text/plain": [
              "<Figure size 432x288 with 2 Axes>"
            ],
            "image/png": "[encoded data removed]"
          },
          "metadata": {
            "needs_background": "light"
          }
        }
      ]
    }
  ],
  "metadata": {
    "accelerator": "GPU",
    "colab": {
      "collapsed_sections": [],
      "name": "Example_5_Explain_BERT.ipynb",
      "provenance": [],
      "machine_shape": "hm"
    },
    "kernelspec": {
      "display_name": "Python 3 (ipykernel)",
      "language": "python",
      "name": "python3"
    },
    "language_info": {
      "codemirror_mode": {
        "name": "ipython",
        "version": 3
      },
      "file_extension": ".py",
      "mimetype": "text/x-python",
      "name": "python",
      "nbconvert_exporter": "python",
      "pygments_lexer": "ipython3",
      "version": "3.7.9"
    }
  },
  "nbformat": 4,
  "nbformat_minor": 0
}
