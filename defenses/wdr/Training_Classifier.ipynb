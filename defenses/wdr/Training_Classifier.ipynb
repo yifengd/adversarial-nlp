{
  "cells": [
    {
      "cell_type": "code",
      "source": [
        "!pip install transformers >> /dev/null"
      ],
      "metadata": {
        "id": "qoKKd0WsqpU8"
      },
      "execution_count": 1,
      "outputs": []
    },
    {
      "cell_type": "markdown",
      "metadata": {
        "id": "FKRSbmu4Hmag"
      },
      "source": [
        "# Training classifier\n",
        "\n",
        "This script can be used to train the classifier on original and adversarial samples."
      ]
    },
    {
      "cell_type": "code",
      "execution_count": 2,
      "metadata": {
        "id": "XAxbz_6GqSkr"
      },
      "outputs": [],
      "source": [
        "import numpy as np\n",
        "import torch\n",
        "from torch.utils.data import Dataset, DataLoader\n",
        "import pandas as pd\n",
        "import os\n",
        "import time\n",
        "import importlib\n",
        "from copy import copy\n",
        "\n",
        "device = torch.device('cuda' if torch.cuda.is_available() else 'cpu')"
      ]
    },
    {
      "cell_type": "code",
      "source": [
        "from google.colab import drive\n",
        "drive.mount('/content/drive')"
      ],
      "metadata": {
        "id": "94JcqwW7qUjQ",
        "outputId": "38b14dbf-e46a-4125-c202-32fbf9f3c447",
        "colab": {
          "base_uri": "https://localhost:8080/"
        }
      },
      "execution_count": 3,
      "outputs": [
        {
          "output_type": "stream",
          "name": "stdout",
          "text": [
            "Mounted at /content/drive\n"
          ]
        }
      ]
    },
    {
      "cell_type": "markdown",
      "metadata": {
        "id": "CvP1fooCfR7D"
      },
      "source": [
        "# Loading and transforming data into logits differences\n",
        "\n",
        "The first step is transforming our dataframe into logits differences for each original and adversarial sentence. For this, it is required to execute the model for each sentence with substitutions as explained in the paper."
      ]
    },
    {
      "cell_type": "code",
      "execution_count": 4,
      "metadata": {
        "id": "m-5rqMHqfR7D",
        "outputId": "3e31ffb5-227b-48ac-d612-69e3ba493de5",
        "colab": {
          "base_uri": "https://localhost:8080/"
        }
      },
      "outputs": [
        {
          "output_type": "stream",
          "name": "stdout",
          "text": [
            "ag-news_100_styleadv_distilbert.csv\n",
            "ag-news_1000_styleadv_distilbert.csv\n",
            "imdb_test_100_styleadv_distilbert.csv\n",
            "imdb_train_200_styleadv_distilbert.csv\n",
            "imdb_train_1000_styleadv_distilbert.csv\n",
            "Older attacks\n",
            "sst2_test_100_styleadv_distilbert.csv\n",
            "sst2_train_2000_styleadv_distilbert.csv\n",
            "sst2_val_100_styleadv_distilbert.csv\n",
            "sst2_val_styleadv_distilbert.csv\n"
          ]
        }
      ],
      "source": [
        "SAMPLES_PATH = '/content/drive/MyDrive/AdversarialXAI/Adversarial Samples'\n",
        "\n",
        "# Print available setups for testing\n",
        "for i in os.listdir(SAMPLES_PATH):\n",
        "    if not i.startswith('.'): # Don't print system files\n",
        "        print(i)"
      ]
    },
    {
      "cell_type": "code",
      "execution_count": 5,
      "metadata": {
        "id": "x7lVq4pAfR7E"
      },
      "outputs": [],
      "source": [
        "# Select the configuration for training\n",
        "test_config = 'sst2_train_2000_styleadv_distilbert.csv' # or 'agnews_pwws_distilbert.csv'"
      ]
    },
    {
      "cell_type": "code",
      "execution_count": 11,
      "metadata": {
        "id": "n3Iqx5dFfR7E",
        "outputId": "2fd172b1-63da-4cb6-91b5-2fda549cd33a",
        "colab": {
          "base_uri": "https://localhost:8080/"
        }
      },
      "outputs": [
        {
          "output_type": "stream",
          "name": "stdout",
          "text": [
            "Model architecture: distilbert\n",
            "Dataset: SST-2\n"
          ]
        }
      ],
      "source": [
        "# Obtain model from test config\n",
        "model_arch = test_config.replace(\".csv\", \"\").split('_')[-1]\n",
        "# dataset = test_config.split('_')[0]\n",
        "dataset = \"SST-2\"\n",
        "print(\"Model architecture:\", model_arch)\n",
        "print(\"Dataset:\", dataset)"
      ]
    },
    {
      "cell_type": "code",
      "execution_count": 12,
      "metadata": {
        "id": "t4Q51W0ofR7F"
      },
      "outputs": [],
      "source": [
        "def load_textattack_local_model(model_arch, dataset):\n",
        "    \n",
        "    def load_module_from_file(file_path):\n",
        "        \"\"\"Uses ``importlib`` to dynamically open a file and load an object from\n",
        "        it.\"\"\"\n",
        "        temp_module_name = f\"temp_{time.time()}\"\n",
        "\n",
        "        spec = importlib.util.spec_from_file_location(temp_module_name, file_path)\n",
        "        module = importlib.util.module_from_spec(spec)\n",
        "        spec.loader.exec_module(module)\n",
        "        return module\n",
        "    \n",
        "    m = load_module_from_file(f'../{model_arch}_{dataset}_textattack.py')\n",
        "    model = getattr(m, 'model')\n",
        "    \n",
        "    return model, None"
      ]
    },
    {
      "cell_type": "code",
      "execution_count": 13,
      "metadata": {
        "id": "90TzS-60fR7F"
      },
      "outputs": [],
      "source": [
        "def load_hugging_face_model(model_arch, dataset):\n",
        "    # Import the model used for generating the adversarial samples.\n",
        "    # Correctly, set up imports, model and tokenizer depending on the model you generated the samples on.\n",
        "    \n",
        "    if model_arch == 'distilbert':\n",
        "        from transformers import DistilBertConfig as config, DistilBertTokenizer as tokenizer, AutoModelForSequenceClassification as auto_model\n",
        "    elif model_arch == 'bert':\n",
        "        from transformers import BertConfig as config, BertTokenizer as tokenizer, AutoModelForSequenceClassification as auto_model\n",
        "    \n",
        "    device = torch.device('cuda' if torch.cuda.is_available() else 'cpu')\n",
        "    tokenizer = tokenizer.from_pretrained(f\"textattack/{model_arch}-base-uncased-{dataset}\")\n",
        "    model = auto_model.from_pretrained(f\"textattack/{model_arch}-base-uncased-{dataset}\").to(device)\n",
        "    \n",
        "    return model, tokenizer"
      ]
    },
    {
      "cell_type": "code",
      "execution_count": 14,
      "metadata": {
        "id": "iujKfMatfR7G",
        "outputId": "838ccf3a-a7bd-4b90-99f9-cfea3937d2da",
        "colab": {
          "base_uri": "https://localhost:8080/",
          "height": 177,
          "referenced_widgets": [
            "7c4c18f66aa34888bcf48fbabc4af00c",
            "7745dae308f94827aca22949206a3dfe",
            "f12be93c069141b3b80401f858e73a40",
            "3e6eeef6fbbf4a96ab885236ee3f2454",
            "4257a964dfe040abb8a9863d972192f4",
            "3efab255cec940b5aa583e1b1257972c",
            "dd80448270fa471d8708f6707675fb77",
            "7168e1c77ff244e8b336feb7947aef63",
            "ed31385327534fe7ae1635e1e10153bf",
            "e44c270e1afd4ff8955ef1aa69921557",
            "acd9e32b71244ab5a2238e58987e849c",
            "8d9100d3ae4c49e5a5ad38018b4a7441",
            "06090f4245f04ae899b81fc3f8c6c98e",
            "6be950f3a69241c88fc7abfec6697483",
            "8578526fd53d482186ab3f4937b834b1",
            "877da4e3b8b24f4080ec95a36193da3c",
            "47362e7503184e9b80417eb84951b77b",
            "9ffada67fc9d4259ad0e524440d9370c",
            "31571591431f4fd690c77cbd8a53a4d7",
            "ed77502bccc645c5a563498eef3b0678",
            "4f7e9385cfcf41d3a0f611703e0f927d",
            "be976df232ee4e85bd576f2927b3913c",
            "307cc21330b445148e621e4aced6e4ea",
            "5267bbb23a054b09b7f4c85e1e897456",
            "5faa7e2e87ff463bb0168953770f2578",
            "da6f74fd7a6444d48a6066c8a1a60bee",
            "a614fd66db4e485faa2ef9334f9f016f",
            "180c080267ef42b3b68c25ca96b7be64",
            "448fbb1338a14b34abdc924968e9f917",
            "10582fc6bec24488b906fa9635337a79",
            "cbc93f537806494488f6de0f6fa7fd88",
            "0069aa9c1ac546b196cfcc88fdea5b2d",
            "4f8dc5c23d0f4ac080d2b1cf00d1894a",
            "211163aa1875405fafd85616bfadf2c6",
            "9667d6be2d464121aa197c9fd7ed8148",
            "a4171f305eda42828fcb20aebd589740",
            "804429d59fc144c09a18423c3731aabc",
            "82532d44040345d4aac03533a1315c5c",
            "79de77d8e8804fc78f3ef3c7641269df",
            "5096fc52e8054d548e0c9845cc4a13b4",
            "039a2271188146f29c50a544a00463dd",
            "9c038970b763416b88f5004f0786735d",
            "7ecba0231ca448b4a05b9d3b33cdf8b3",
            "d44f3c795803466ea2f47d0ed4ed490a",
            "9ec2129032d54534b931f022b52f45ac",
            "6ade5139a8084972aae83b48adff32ff",
            "d91d2a6e830f422d9095b96d57e0a1a6",
            "b8355feed2094d239f9053ac4e79a2ab",
            "227ba63023fe44dcb9060fc00f3ea2b7",
            "bf07498c15b14d918e2904220d95e28c",
            "ed93f7e80dc442f4b763e9c69a57e61c",
            "b0faa69ddca74ebe81e23e75b920b9c0",
            "75b68d05ec0b47e489aaa5490263b770",
            "8ca0c58997d643b2ace817808a9555fd",
            "4e2c90fc51b6423a9c3599471c7668b5"
          ]
        }
      },
      "outputs": [
        {
          "output_type": "display_data",
          "data": {
            "text/plain": [
              "Downloading:   0%|          | 0.00/226k [00:00<?, ?B/s]"
            ],
            "application/vnd.jupyter.widget-view+json": {
              "version_major": 2,
              "version_minor": 0,
              "model_id": "7c4c18f66aa34888bcf48fbabc4af00c"
            }
          },
          "metadata": {}
        },
        {
          "output_type": "display_data",
          "data": {
            "text/plain": [
              "Downloading:   0%|          | 0.00/112 [00:00<?, ?B/s]"
            ],
            "application/vnd.jupyter.widget-view+json": {
              "version_major": 2,
              "version_minor": 0,
              "model_id": "8d9100d3ae4c49e5a5ad38018b4a7441"
            }
          },
          "metadata": {}
        },
        {
          "output_type": "display_data",
          "data": {
            "text/plain": [
              "Downloading:   0%|          | 0.00/48.0 [00:00<?, ?B/s]"
            ],
            "application/vnd.jupyter.widget-view+json": {
              "version_major": 2,
              "version_minor": 0,
              "model_id": "307cc21330b445148e621e4aced6e4ea"
            }
          },
          "metadata": {}
        },
        {
          "output_type": "display_data",
          "data": {
            "text/plain": [
              "Downloading:   0%|          | 0.00/486 [00:00<?, ?B/s]"
            ],
            "application/vnd.jupyter.widget-view+json": {
              "version_major": 2,
              "version_minor": 0,
              "model_id": "211163aa1875405fafd85616bfadf2c6"
            }
          },
          "metadata": {}
        },
        {
          "output_type": "display_data",
          "data": {
            "text/plain": [
              "Downloading:   0%|          | 0.00/255M [00:00<?, ?B/s]"
            ],
            "application/vnd.jupyter.widget-view+json": {
              "version_major": 2,
              "version_minor": 0,
              "model_id": "9ec2129032d54534b931f022b52f45ac"
            }
          },
          "metadata": {}
        }
      ],
      "source": [
        "# Models available in hugging-face are executed differently from LSTM and CNN. Choose automatically the configuration and load model + tokenizer.\n",
        "textattack_local_models = ['lstm', 'cnn']\n",
        "\n",
        "if model_arch in textattack_local_models:\n",
        "    hugging_face_model = False\n",
        "    model, tokenizer = load_textattack_local_model(model_arch, dataset)\n",
        "\n",
        "else:\n",
        "    hugging_face_model = True\n",
        "    model, tokenizer = load_hugging_face_model(model_arch, dataset)"
      ]
    },
    {
      "cell_type": "markdown",
      "metadata": {
        "id": "k1XxOsu_4EgE"
      },
      "source": [
        "# Loading data\n",
        "\n",
        "Read into a dataframe your original and adversarial samples."
      ]
    },
    {
      "cell_type": "code",
      "execution_count": 15,
      "metadata": {
        "id": "twkc6DQIfR7G",
        "outputId": "b058d972-408c-4b94-b95c-c1a3fb667364",
        "colab": {
          "base_uri": "https://localhost:8080/"
        }
      },
      "outputs": [
        {
          "output_type": "execute_result",
          "data": {
            "text/plain": [
              "(1145, 3)"
            ]
          },
          "metadata": {},
          "execution_count": 15
        }
      ],
      "source": [
        "# Read the desired csv file previously generated\n",
        "df = pd.read_csv(f'{SAMPLES_PATH}/{test_config}', index_col=0)\n",
        "df.shape"
      ]
    },
    {
      "cell_type": "code",
      "execution_count": 16,
      "metadata": {
        "id": "h3snuVjzfR7H"
      },
      "outputs": [],
      "source": [
        "# Select first entries. Only 3000 will be used but we leave room for false adversarial sentences that will be filtered out later and test set. We reduce size because computations are expensive.\n",
        "# In real setup, the whole file was considered and fixed train and test sets were produced.\n",
        "df = df.head(7000)"
      ]
    },
    {
      "cell_type": "code",
      "execution_count": 17,
      "metadata": {
        "id": "y87VzvT1fR7H"
      },
      "outputs": [],
      "source": [
        "# Create batches of non-adversarial sentences\n",
        "# For big models such as BERT, we must divide our input in smaller batches.\n",
        "n = 256 # Size of each batch.\n",
        "batches = [list(df.original_text.values)[i:i + n] for i in range(0, len(df.original_text.values), n)]"
      ]
    },
    {
      "cell_type": "code",
      "execution_count": 21,
      "metadata": {
        "id": "xgB0p7VxqENf",
        "outputId": "0e78bd1e-d27f-496b-8e7d-626afdb34271",
        "colab": {
          "base_uri": "https://localhost:8080/",
          "height": 37
        }
      },
      "outputs": [
        {
          "output_type": "execute_result",
          "data": {
            "text/plain": [
              "' elegant visual sense  '"
            ],
            "application/vnd.google.colaboratory.intrinsic+json": {
              "type": "string"
            }
          },
          "metadata": {},
          "execution_count": 21
        }
      ],
      "source": [
        "batches[0][0]"
      ]
    },
    {
      "cell_type": "code",
      "execution_count": 22,
      "metadata": {
        "id": "U9w_oE8-fR7H"
      },
      "outputs": [],
      "source": [
        "# Generate predictions for all non-adversarial sentences in our dataset\n",
        "outputs = []\n",
        "\n",
        "if hugging_face_model is True: # Use tokenizer and hugging face pipeline\n",
        "    for b in batches: \n",
        "        input = tokenizer(b, return_tensors=\"pt\", padding=True, truncation=True).to(device)\n",
        "        with torch.no_grad():\n",
        "            output = model(**input)\n",
        "            outputs.append(output.logits.cpu().numpy())\n",
        "            del input\n",
        "            torch.cuda.empty_cache()\n",
        "\n",
        "else: # Use local model by simply predicting without tokenization\n",
        "    for b in batches: \n",
        "        output = model(b)\n",
        "        outputs.append(output)"
      ]
    },
    {
      "cell_type": "code",
      "execution_count": 23,
      "metadata": {
        "id": "frRXf0P9fR7I"
      },
      "outputs": [],
      "source": [
        "# Obtain non-adversarial predictions\n",
        "outputs_flatten = [item for sublist in outputs for item in sublist]\n",
        "predictions = [np.argmax(i) for i in outputs_flatten]\n",
        "\n",
        "# Include prediction for these classes in our DataFrame\n",
        "df['original_class_predicted'] = predictions"
      ]
    },
    {
      "cell_type": "code",
      "execution_count": 24,
      "metadata": {
        "id": "wqDSHW_nfR7I"
      },
      "outputs": [],
      "source": [
        "# Repeat process for adversarial sentences\n",
        "n = 256\n",
        "batches = [list(df.adversarial_text.values)[i:i + n] for i in range(0, len(df.adversarial_text.values), n)]"
      ]
    },
    {
      "cell_type": "code",
      "execution_count": 25,
      "metadata": {
        "id": "nrnkZkTdfR7J"
      },
      "outputs": [],
      "source": [
        "# Generate predictions for all non-adversarial sentences in our dataset\n",
        "outputs = []\n",
        "\n",
        "if hugging_face_model is True: # Use tokenizer and hugging face pipeline\n",
        "    for b in batches: \n",
        "        input = tokenizer(b, return_tensors=\"pt\", padding=True, truncation=True).to(device)\n",
        "        with torch.no_grad():\n",
        "            output = model(**input)\n",
        "            outputs.append(output.logits.cpu().numpy())\n",
        "            del input\n",
        "            torch.cuda.empty_cache()\n",
        "\n",
        "else: # Use local model by simply predicting without tokenization\n",
        "    for b in batches: \n",
        "        output = model(b)\n",
        "        outputs.append(output)"
      ]
    },
    {
      "cell_type": "code",
      "execution_count": 26,
      "metadata": {
        "id": "h1vAsWe9fR7J"
      },
      "outputs": [],
      "source": [
        "# Obtain adversarial predictions\n",
        "outputs_flatten = [item for sublist in outputs for item in sublist]\n",
        "predictions = [np.argmax(i) for i in outputs_flatten]\n",
        "\n",
        "# Include prediction for these classes in our DataFrame\n",
        "df['adversarial_class_predicted'] = predictions"
      ]
    },
    {
      "cell_type": "code",
      "execution_count": 27,
      "metadata": {
        "id": "YCUrHP-4fR7J"
      },
      "outputs": [],
      "source": [
        "# Select only those sentences for which there was actually a change in the prediction\n",
        "correct = df[(df['original_class_predicted'] != df['adversarial_class_predicted'])]"
      ]
    },
    {
      "cell_type": "code",
      "execution_count": 28,
      "metadata": {
        "id": "Kzz81OGvfR7J",
        "outputId": "ada4adbe-0bbe-4956-9d32-c9a9bbe6ffa5",
        "colab": {
          "base_uri": "https://localhost:8080/"
        }
      },
      "outputs": [
        {
          "output_type": "execute_result",
          "data": {
            "text/plain": [
              "819"
            ]
          },
          "metadata": {},
          "execution_count": 28
        }
      ],
      "source": [
        "# Update dataframe and keep only adversarial samples\n",
        "df = correct\n",
        "len(df)"
      ]
    },
    {
      "cell_type": "markdown",
      "metadata": {
        "id": "INb_NMpLfR7K"
      },
      "source": [
        "# Obtain logits\n",
        "Once we have the predictions and actually adversarial sentences, we generate the logits differences"
      ]
    },
    {
      "cell_type": "code",
      "execution_count": 29,
      "metadata": {
        "id": "-FiJMYa7fR7L"
      },
      "outputs": [],
      "source": [
        "original_samples = df.original_text.values\n",
        "adversarial_samples = df.adversarial_text.values"
      ]
    },
    {
      "cell_type": "code",
      "execution_count": 30,
      "metadata": {
        "id": "PF7zyw_MfR7L"
      },
      "outputs": [],
      "source": [
        "# Concatenate all original samples and their predictions\n",
        "x = np.concatenate((original_samples, adversarial_samples))\n",
        "y = np.concatenate((np.zeros(len(original_samples)), np.ones(len(adversarial_samples))))"
      ]
    },
    {
      "cell_type": "code",
      "execution_count": 31,
      "metadata": {
        "id": "rVzO4b6MfR7L"
      },
      "outputs": [],
      "source": [
        "def obtain_logits(samples, batch_size, model, tokenizer):\n",
        "    \"\"\"\n",
        "    For given samples and model, compute prediction logits.\n",
        "    Input data is splitted in batches.\n",
        "    \"\"\"\n",
        "    batches = [samples[i:i + batch_size] for i in range(0, len(samples), batch_size)]\n",
        "    logits = []\n",
        "\n",
        "    for i, b in enumerate(batches):\n",
        "        print(\"{}/{}\".format(i+1, len(batches)))\n",
        "        if hugging_face_model:\n",
        "            with torch.no_grad():\n",
        "                input = tokenizer(list(b), return_tensors=\"pt\", padding=True, truncation=True).to(device)\n",
        "                logits.append(model(**input).logits.cpu().numpy())\n",
        "        else:\n",
        "            logits.append(model(b))\n",
        "\n",
        "    return logits"
      ]
    },
    {
      "cell_type": "code",
      "execution_count": 32,
      "metadata": {
        "id": "OQ229UFNfR7L",
        "outputId": "86910709-b578-4266-c8c4-9d76eba21a1e",
        "colab": {
          "base_uri": "https://localhost:8080/"
        }
      },
      "outputs": [
        {
          "output_type": "stream",
          "name": "stdout",
          "text": [
            "1/3\n",
            "2/3\n",
            "3/3\n"
          ]
        }
      ],
      "source": [
        "# Compute logits for original sentences\n",
        "batch_size = 350\n",
        "original_logits = obtain_logits(original_samples, batch_size, model, tokenizer)\n",
        "original_logits = np.concatenate(original_logits).reshape(-1, original_logits[0].shape[1])"
      ]
    },
    {
      "cell_type": "code",
      "execution_count": 33,
      "metadata": {
        "id": "WTj7PW_2fR7M"
      },
      "outputs": [],
      "source": [
        "torch.cuda.empty_cache()"
      ]
    },
    {
      "cell_type": "code",
      "execution_count": 34,
      "metadata": {
        "id": "xG4vLDpifR7M",
        "outputId": "22932e5f-896e-4aac-cc0b-80e9280239ea",
        "colab": {
          "base_uri": "https://localhost:8080/"
        }
      },
      "outputs": [
        {
          "output_type": "stream",
          "name": "stdout",
          "text": [
            "1/3\n",
            "2/3\n",
            "3/3\n"
          ]
        }
      ],
      "source": [
        "# Compute logits for adversarial sentences\n",
        "batch_size = 350\n",
        "adversarial_logits = obtain_logits(adversarial_samples, batch_size, model, tokenizer)\n",
        "adversarial_logits = np.concatenate(adversarial_logits).reshape(-1, adversarial_logits[0].shape[1])"
      ]
    },
    {
      "cell_type": "code",
      "execution_count": 35,
      "metadata": {
        "id": "c638-0iafR7M"
      },
      "outputs": [],
      "source": [
        "torch.cuda.empty_cache()"
      ]
    },
    {
      "cell_type": "code",
      "execution_count": 36,
      "metadata": {
        "id": "ywMSEETffR7M"
      },
      "outputs": [],
      "source": [
        "# Concatenate all logits\n",
        "logits = np.concatenate((original_logits, adversarial_logits))"
      ]
    },
    {
      "cell_type": "code",
      "execution_count": 37,
      "metadata": {
        "id": "rnSx8bUufR7M"
      },
      "outputs": [],
      "source": [
        "# Shuffle data\n",
        "import random\n",
        "c = list(zip(x, y, logits))\n",
        "random.shuffle(c)\n",
        "x, y, logits = zip(*c)"
      ]
    },
    {
      "cell_type": "markdown",
      "metadata": {
        "id": "Q4TaXtSZfR7N"
      },
      "source": [
        "## Computing logits difference\n",
        "\n",
        "This is a key step implemented. The main idea is:\n",
        "* For each sentence, replace each word by the `[UNK]` token and compute prediction logits\n",
        "* Using these logits, we can easily compute the saliency of the word as presented in the report.\n",
        "* Then, we sort words by descending saliency.\n",
        "* Finally, compute logits difference for each replacement. This difference is computed as `Logit from class predicted for the whole sentence - Highest remaining logit`\n",
        "\n",
        "More details on these derivations are found in the paper."
      ]
    },
    {
      "cell_type": "code",
      "execution_count": 38,
      "metadata": {
        "id": "_8ScyI0afR7N"
      },
      "outputs": [],
      "source": [
        "def compute_logits_difference(x, logits, y, model, tokenizer, idx, max_sentence_size=512):\n",
        "    n_classes = len(logits[idx])\n",
        "    predicted_class = np.argmax(logits[idx]) # Predicted class for whole sentence using previously computed logits\n",
        "    class_logit = logits[idx][predicted_class] # Store this origianl prediction logit\n",
        "\n",
        "    split_sentence = x[idx].split(' ')[:max_sentence_size] # The tokenizer will only consider 512 words so we avoid computing innecessary logits\n",
        "\n",
        "    new_sentences = []\n",
        "\n",
        "    # Here, we replace each word by [UNK] and generate all sentences to consider\n",
        "    for i, word in enumerate(split_sentence):\n",
        "        new_sentence = copy(split_sentence)\n",
        "        new_sentence[i] = '[UNK]'\n",
        "        new_sentence = ' '.join(new_sentence)\n",
        "        new_sentences.append(new_sentence)\n",
        "\n",
        "    # We cannot run more than 350 predictions simultaneously because of resources.\n",
        "    # Split in batches if necessary.\n",
        "    # Compute logits for all replacements.\n",
        "    if len(new_sentences) > 200:\n",
        "        logits = []\n",
        "        batches = [new_sentences[i:i + 200] for i in range(0, len(new_sentences), 200)]\n",
        "        for b in batches:\n",
        "            if hugging_face_model: # Use hugging face predictions\n",
        "                batch = tokenizer(b, return_tensors=\"pt\", padding=True, truncation=True).to(device)\n",
        "                with torch.no_grad():\n",
        "                    logits.append(model(**batch).logits)\n",
        "            else:\n",
        "                logits.append(model(b).to(device))\n",
        "      \n",
        "        if hugging_face_model:\n",
        "            logits = torch.cat(logits)\n",
        "        else:\n",
        "            logits = np.concatenate( logits, axis=0 )\n",
        "            logits = torch.Tensor(logits)\n",
        "    \n",
        "    else: # There's no need to split in batches\n",
        "        if hugging_face_model:\n",
        "            batch = tokenizer(new_sentences, return_tensors=\"pt\", padding=True, truncation=True).to(device)\n",
        "            with torch.no_grad():\n",
        "                logits = model(**batch).logits\n",
        "            del batch\n",
        "        else:\n",
        "            logits = model(new_sentences)\n",
        "            logits = torch.Tensor(logits)\n",
        "\n",
        "\n",
        "    # Compute saliency\n",
        "    saliency = (class_logit - logits[:,predicted_class]).reshape(-1, 1)\n",
        "\n",
        "    # Append to logits for sorting\n",
        "    data = torch.cat((logits, saliency), 1)\n",
        "\n",
        "    # Sort by descending saliency\n",
        "    data = torch.stack(sorted(data, key=lambda a: a[n_classes], reverse=True))\n",
        "\n",
        "    # Remove saliency\n",
        "    data = data[:, :n_classes]\n",
        "\n",
        "    # Fix order: originallly predicted class, other classes\n",
        "    order = [predicted_class] + [i for i in range(n_classes) if i!=predicted_class]\n",
        "    data = torch.index_select(data, 1, torch.LongTensor(order).to(device))\n",
        "\n",
        "    # Compute difference between predicted class (always first column) and higher remaining logit\n",
        "    data = data[:, :1].flatten() - torch.max(data[:, 1:], dim=1).values.flatten()\n",
        "\n",
        "    del saliency\n",
        "    torch.cuda.empty_cache()\n",
        "\n",
        "    # Return only logits difference\n",
        "    return data.reshape(-1, 1), torch.Tensor([y[idx]]).to(device)"
      ]
    },
    {
      "cell_type": "code",
      "execution_count": 39,
      "metadata": {
        "id": "8dQxs9ETfR7N"
      },
      "outputs": [],
      "source": [
        "def compute_logits_difference_padding(x, logits, y, model, tokenizer, idx, target_size=512):\n",
        "    \"\"\"\n",
        "    This function provides a wrapper for compute_logits_difference and includes padding to computations.\n",
        "    \"\"\"\n",
        "    data, y = compute_logits_difference(x, logits, y, model, tokenizer, idx, target_size)\n",
        "    data_size = min(512, data.shape[0])\n",
        "    target = torch.zeros(target_size, 1).to(device)\n",
        "    target[:data_size, :] = data\n",
        "\n",
        "    return target, y"
      ]
    },
    {
      "cell_type": "code",
      "execution_count": 40,
      "metadata": {
        "id": "WBrFnu75fR7O"
      },
      "outputs": [],
      "source": [
        "from torch.utils.data import Dataset, DataLoader\n",
        "import sys\n",
        "from torch.autograd import Variable\n",
        "\n",
        "class Text(Dataset):\n",
        "    \"\"\"\n",
        "    Dataloader following torch details. Each time we get an item, we will compute\n",
        "    the logits difference.\n",
        "    \"\"\"\n",
        "    def __init__(self, x , logits, y, model, tokenizer, train=True, max_sentence_size=512):\n",
        "        self.logits = logits\n",
        "        self.y = y\n",
        "        self.x = x\n",
        "        self.model = model\n",
        "        self.tokenizer = tokenizer\n",
        "        self.max_sentence_size = max_sentence_size\n",
        "\n",
        "    def __len__(self):\n",
        "        return len(self.x)\n",
        "\n",
        "    def __getitem__(self, idx):\n",
        "        data, y = compute_logits_difference_padding(self.x, self.logits, self.y, self.model, self.tokenizer, idx, self.max_sentence_size)\n",
        "        data = data[:, :1].unsqueeze(0)\n",
        "\n",
        "        return data, y, self.x[idx]"
      ]
    },
    {
      "cell_type": "code",
      "execution_count": 41,
      "metadata": {
        "id": "UbwMfB4XfR7O"
      },
      "outputs": [],
      "source": [
        "# Create the dataloader\n",
        "train_ds = Text(x, logits, y, model, tokenizer)\n",
        "train_loader = DataLoader(dataset=train_ds, batch_size=256, shuffle=True)"
      ]
    },
    {
      "cell_type": "code",
      "execution_count": 42,
      "metadata": {
        "id": "d7YUtzPZfR7O"
      },
      "outputs": [],
      "source": [
        "# Define the target DataFrame to structure our data.\n",
        "# It has a column for each input dimension (up to 512) and \n",
        "# it also includes whether it is adversarial or not (y_label) and the sentence from which the logits where extracted\n",
        "\n",
        "data_train = pd.DataFrame(columns=[i for i in range(512)]+['y_label', 'sentence'])"
      ]
    },
    {
      "cell_type": "code",
      "execution_count": 43,
      "metadata": {
        "id": "QTtHK3nnfR7P",
        "outputId": "017c3af1-98c2-4773-b37a-82c1b12b3f8c",
        "colab": {
          "base_uri": "https://localhost:8080/"
        }
      },
      "outputs": [
        {
          "output_type": "stream",
          "name": "stdout",
          "text": [
            "0/7 - 0.0\n",
            "\n",
            "1/7 - 0.14285714285714285\n",
            "\n",
            "2/7 - 0.2857142857142857\n",
            "\n",
            "3/7 - 0.42857142857142855\n",
            "\n",
            "4/7 - 0.5714285714285714\n",
            "\n",
            "5/7 - 0.7142857142857143\n",
            "\n",
            "6/7 - 0.8571428571428571\n",
            "\n"
          ]
        }
      ],
      "source": [
        "# Generate logits difference by running the loader.\n",
        "for i, (data, y_label, sentence) in enumerate(train_loader):\n",
        "    print(\"{}/{} - {}\\n\".format(i, len(train_loader), i/len(train_loader)))\n",
        "    for v in range(len(data)):\n",
        "        # Structure data and include in dataframe\n",
        "        row = np.append(data[v].cpu().numpy().reshape(1,-1), np.array([y_label[v].item(), sentence[v]]))\n",
        "        data_train = data_train.append(pd.DataFrame([row], columns=list(data_train)), ignore_index=True)"
      ]
    },
    {
      "cell_type": "code",
      "execution_count": 44,
      "metadata": {
        "id": "rfCAOvbHfR7Z"
      },
      "outputs": [],
      "source": [
        "# Divide train and test set\n",
        "data_val = data_train.tail(500)\n",
        "data_train = data_train.head(len(data_train) - 500)"
      ]
    },
    {
      "cell_type": "code",
      "source": [
        "data_val"
      ],
      "metadata": {
        "id": "xd3KbYbb2agO",
        "outputId": "416228bf-fcb6-460e-e232-012e247ff15e",
        "colab": {
          "base_uri": "https://localhost:8080/",
          "height": 993
        }
      },
      "execution_count": 46,
      "outputs": [
        {
          "output_type": "execute_result",
          "data": {
            "text/plain": [
              "               0           1           2           3           4           5  \\\n",
              "1138  -2.5543594  -2.4296393  -2.0611975  -2.0121424  -1.8929825  -1.7806756   \n",
              "1139   -1.740807  -1.5947955  -1.5947955  -1.2072495         0.0         0.0   \n",
              "1140   -1.681556  -1.4492722  -1.4232447  -1.1799037  -1.1677325  -1.0518537   \n",
              "1141   1.6356189   2.0202174   2.0202174    2.140953   2.3801475   2.4930122   \n",
              "1142   -1.831772  -1.7577351  -1.6872373  -1.6196697  -1.5094011  -1.5014576   \n",
              "...          ...         ...         ...         ...         ...         ...   \n",
              "1633  -3.3794556  -1.7554896  -1.8633707  -1.6896597  -1.5068119  -1.1115537   \n",
              "1634   -1.789659  -1.6812778  -1.5571246  -1.6128192  -1.3652455  -1.4056649   \n",
              "1635    2.053001    2.053001   2.0191245   2.1678433   2.1922665    2.418484   \n",
              "1636  -2.4142985   -2.199759  -1.9736496  -1.8492492  -1.6874405  -1.1178086   \n",
              "1637   1.2068245   1.3502762   1.5632126   1.7024252    1.766751   2.0024376   \n",
              "\n",
              "                6            7            8            9  ...  504  505  506  \\\n",
              "1138   -1.7481143    -1.234637  -0.74040353  -0.74040353  ...  0.0  0.0  0.0   \n",
              "1139          0.0          0.0          0.0          0.0  ...  0.0  0.0  0.0   \n",
              "1140  -0.89583135   -0.9814467   -0.9577352  -0.79393816  ...  0.0  0.0  0.0   \n",
              "1141    2.5397382    2.7310271     2.867543          0.0  ...  0.0  0.0  0.0   \n",
              "1142   -1.3286413   -1.3365813   -1.3000245   -1.3098385  ...  0.0  0.0  0.0   \n",
              "...           ...          ...          ...          ...  ...  ...  ...  ...   \n",
              "1633          0.0          0.0          0.0          0.0  ...  0.0  0.0  0.0   \n",
              "1634   -1.3491616   -1.0515186    -1.037323   -0.5703132  ...  0.0  0.0  0.0   \n",
              "1635    2.3998134    2.4460135    2.4782102    2.4935744  ...  0.0  0.0  0.0   \n",
              "1636  -0.81908005  -0.27169663  -0.11158829          0.0  ...  0.0  0.0  0.0   \n",
              "1637    1.9994154    2.0286388     2.028667     2.136106  ...  0.0  0.0  0.0   \n",
              "\n",
              "      507  508  509  510  511 y_label  \\\n",
              "1138  0.0  0.0  0.0  0.0  0.0     0.0   \n",
              "1139  0.0  0.0  0.0  0.0  0.0     0.0   \n",
              "1140  0.0  0.0  0.0  0.0  0.0     0.0   \n",
              "1141  0.0  0.0  0.0  0.0  0.0     0.0   \n",
              "1142  0.0  0.0  0.0  0.0  0.0     0.0   \n",
              "...   ...  ...  ...  ...  ...     ...   \n",
              "1633  0.0  0.0  0.0  0.0  0.0     1.0   \n",
              "1634  0.0  0.0  0.0  0.0  0.0     1.0   \n",
              "1635  0.0  0.0  0.0  0.0  0.0     0.0   \n",
              "1636  0.0  0.0  0.0  0.0  0.0     1.0   \n",
              "1637  0.0  0.0  0.0  0.0  0.0     1.0   \n",
              "\n",
              "                                               sentence  \n",
              "1138   an absorbing and unsettling psychological dra...  \n",
              "1139                                       pleasuring    \n",
              "1140   will give you goosebumps as its uncanny tale ...  \n",
              "1141              too predictable and far too cliched    \n",
              "1142   the filmmakers want nothing else than to show...  \n",
              "...                                                 ...  \n",
              "1633                    the script's endless attack...   \n",
              "1634   the film's dramatic overload of women's despa...  \n",
              "1635   the worst kind of mythologizing , the kind th...  \n",
              "1636           as a non-stop warning to keep attention   \n",
              "1637   and so you feel alive, you feel alive, what t...  \n",
              "\n",
              "[500 rows x 514 columns]"
            ],
            "text/html": [
              "\n",
              "  <div id=\"df-7e8f33a2-5a43-4b15-bff5-ab447e0a2bc5\">\n",
              "    <div class=\"colab-df-container\">\n",
              "      <div>\n",
              "<style scoped>\n",
              "    .dataframe tbody tr th:only-of-type {\n",
              "        vertical-align: middle;\n",
              "    }\n",
              "\n",
              "    .dataframe tbody tr th {\n",
              "        vertical-align: top;\n",
              "    }\n",
              "\n",
              "    .dataframe thead th {\n",
              "        text-align: right;\n",
              "    }\n",
              "</style>\n",
              "<table border=\"1\" class=\"dataframe\">\n",
              "  <thead>\n",
              "    <tr style=\"text-align: right;\">\n",
              "      <th></th>\n",
              "      <th>0</th>\n",
              "      <th>1</th>\n",
              "      <th>2</th>\n",
              "      <th>3</th>\n",
              "      <th>4</th>\n",
              "      <th>5</th>\n",
              "      <th>6</th>\n",
              "      <th>7</th>\n",
              "      <th>8</th>\n",
              "      <th>9</th>\n",
              "      <th>...</th>\n",
              "      <th>504</th>\n",
              "      <th>505</th>\n",
              "      <th>506</th>\n",
              "      <th>507</th>\n",
              "      <th>508</th>\n",
              "      <th>509</th>\n",
              "      <th>510</th>\n",
              "      <th>511</th>\n",
              "      <th>y_label</th>\n",
              "      <th>sentence</th>\n",
              "    </tr>\n",
              "  </thead>\n",
              "  <tbody>\n",
              "    <tr>\n",
              "      <th>1138</th>\n",
              "      <td>-2.5543594</td>\n",
              "      <td>-2.4296393</td>\n",
              "      <td>-2.0611975</td>\n",
              "      <td>-2.0121424</td>\n",
              "      <td>-1.8929825</td>\n",
              "      <td>-1.7806756</td>\n",
              "      <td>-1.7481143</td>\n",
              "      <td>-1.234637</td>\n",
              "      <td>-0.74040353</td>\n",
              "      <td>-0.74040353</td>\n",
              "      <td>...</td>\n",
              "      <td>0.0</td>\n",
              "      <td>0.0</td>\n",
              "      <td>0.0</td>\n",
              "      <td>0.0</td>\n",
              "      <td>0.0</td>\n",
              "      <td>0.0</td>\n",
              "      <td>0.0</td>\n",
              "      <td>0.0</td>\n",
              "      <td>0.0</td>\n",
              "      <td>an absorbing and unsettling psychological dra...</td>\n",
              "    </tr>\n",
              "    <tr>\n",
              "      <th>1139</th>\n",
              "      <td>-1.740807</td>\n",
              "      <td>-1.5947955</td>\n",
              "      <td>-1.5947955</td>\n",
              "      <td>-1.2072495</td>\n",
              "      <td>0.0</td>\n",
              "      <td>0.0</td>\n",
              "      <td>0.0</td>\n",
              "      <td>0.0</td>\n",
              "      <td>0.0</td>\n",
              "      <td>0.0</td>\n",
              "      <td>...</td>\n",
              "      <td>0.0</td>\n",
              "      <td>0.0</td>\n",
              "      <td>0.0</td>\n",
              "      <td>0.0</td>\n",
              "      <td>0.0</td>\n",
              "      <td>0.0</td>\n",
              "      <td>0.0</td>\n",
              "      <td>0.0</td>\n",
              "      <td>0.0</td>\n",
              "      <td>pleasuring</td>\n",
              "    </tr>\n",
              "    <tr>\n",
              "      <th>1140</th>\n",
              "      <td>-1.681556</td>\n",
              "      <td>-1.4492722</td>\n",
              "      <td>-1.4232447</td>\n",
              "      <td>-1.1799037</td>\n",
              "      <td>-1.1677325</td>\n",
              "      <td>-1.0518537</td>\n",
              "      <td>-0.89583135</td>\n",
              "      <td>-0.9814467</td>\n",
              "      <td>-0.9577352</td>\n",
              "      <td>-0.79393816</td>\n",
              "      <td>...</td>\n",
              "      <td>0.0</td>\n",
              "      <td>0.0</td>\n",
              "      <td>0.0</td>\n",
              "      <td>0.0</td>\n",
              "      <td>0.0</td>\n",
              "      <td>0.0</td>\n",
              "      <td>0.0</td>\n",
              "      <td>0.0</td>\n",
              "      <td>0.0</td>\n",
              "      <td>will give you goosebumps as its uncanny tale ...</td>\n",
              "    </tr>\n",
              "    <tr>\n",
              "      <th>1141</th>\n",
              "      <td>1.6356189</td>\n",
              "      <td>2.0202174</td>\n",
              "      <td>2.0202174</td>\n",
              "      <td>2.140953</td>\n",
              "      <td>2.3801475</td>\n",
              "      <td>2.4930122</td>\n",
              "      <td>2.5397382</td>\n",
              "      <td>2.7310271</td>\n",
              "      <td>2.867543</td>\n",
              "      <td>0.0</td>\n",
              "      <td>...</td>\n",
              "      <td>0.0</td>\n",
              "      <td>0.0</td>\n",
              "      <td>0.0</td>\n",
              "      <td>0.0</td>\n",
              "      <td>0.0</td>\n",
              "      <td>0.0</td>\n",
              "      <td>0.0</td>\n",
              "      <td>0.0</td>\n",
              "      <td>0.0</td>\n",
              "      <td>too predictable and far too cliched</td>\n",
              "    </tr>\n",
              "    <tr>\n",
              "      <th>1142</th>\n",
              "      <td>-1.831772</td>\n",
              "      <td>-1.7577351</td>\n",
              "      <td>-1.6872373</td>\n",
              "      <td>-1.6196697</td>\n",
              "      <td>-1.5094011</td>\n",
              "      <td>-1.5014576</td>\n",
              "      <td>-1.3286413</td>\n",
              "      <td>-1.3365813</td>\n",
              "      <td>-1.3000245</td>\n",
              "      <td>-1.3098385</td>\n",
              "      <td>...</td>\n",
              "      <td>0.0</td>\n",
              "      <td>0.0</td>\n",
              "      <td>0.0</td>\n",
              "      <td>0.0</td>\n",
              "      <td>0.0</td>\n",
              "      <td>0.0</td>\n",
              "      <td>0.0</td>\n",
              "      <td>0.0</td>\n",
              "      <td>0.0</td>\n",
              "      <td>the filmmakers want nothing else than to show...</td>\n",
              "    </tr>\n",
              "    <tr>\n",
              "      <th>...</th>\n",
              "      <td>...</td>\n",
              "      <td>...</td>\n",
              "      <td>...</td>\n",
              "      <td>...</td>\n",
              "      <td>...</td>\n",
              "      <td>...</td>\n",
              "      <td>...</td>\n",
              "      <td>...</td>\n",
              "      <td>...</td>\n",
              "      <td>...</td>\n",
              "      <td>...</td>\n",
              "      <td>...</td>\n",
              "      <td>...</td>\n",
              "      <td>...</td>\n",
              "      <td>...</td>\n",
              "      <td>...</td>\n",
              "      <td>...</td>\n",
              "      <td>...</td>\n",
              "      <td>...</td>\n",
              "      <td>...</td>\n",
              "      <td>...</td>\n",
              "    </tr>\n",
              "    <tr>\n",
              "      <th>1633</th>\n",
              "      <td>-3.3794556</td>\n",
              "      <td>-1.7554896</td>\n",
              "      <td>-1.8633707</td>\n",
              "      <td>-1.6896597</td>\n",
              "      <td>-1.5068119</td>\n",
              "      <td>-1.1115537</td>\n",
              "      <td>0.0</td>\n",
              "      <td>0.0</td>\n",
              "      <td>0.0</td>\n",
              "      <td>0.0</td>\n",
              "      <td>...</td>\n",
              "      <td>0.0</td>\n",
              "      <td>0.0</td>\n",
              "      <td>0.0</td>\n",
              "      <td>0.0</td>\n",
              "      <td>0.0</td>\n",
              "      <td>0.0</td>\n",
              "      <td>0.0</td>\n",
              "      <td>0.0</td>\n",
              "      <td>1.0</td>\n",
              "      <td>the script's endless attack...</td>\n",
              "    </tr>\n",
              "    <tr>\n",
              "      <th>1634</th>\n",
              "      <td>-1.789659</td>\n",
              "      <td>-1.6812778</td>\n",
              "      <td>-1.5571246</td>\n",
              "      <td>-1.6128192</td>\n",
              "      <td>-1.3652455</td>\n",
              "      <td>-1.4056649</td>\n",
              "      <td>-1.3491616</td>\n",
              "      <td>-1.0515186</td>\n",
              "      <td>-1.037323</td>\n",
              "      <td>-0.5703132</td>\n",
              "      <td>...</td>\n",
              "      <td>0.0</td>\n",
              "      <td>0.0</td>\n",
              "      <td>0.0</td>\n",
              "      <td>0.0</td>\n",
              "      <td>0.0</td>\n",
              "      <td>0.0</td>\n",
              "      <td>0.0</td>\n",
              "      <td>0.0</td>\n",
              "      <td>1.0</td>\n",
              "      <td>the film's dramatic overload of women's despa...</td>\n",
              "    </tr>\n",
              "    <tr>\n",
              "      <th>1635</th>\n",
              "      <td>2.053001</td>\n",
              "      <td>2.053001</td>\n",
              "      <td>2.0191245</td>\n",
              "      <td>2.1678433</td>\n",
              "      <td>2.1922665</td>\n",
              "      <td>2.418484</td>\n",
              "      <td>2.3998134</td>\n",
              "      <td>2.4460135</td>\n",
              "      <td>2.4782102</td>\n",
              "      <td>2.4935744</td>\n",
              "      <td>...</td>\n",
              "      <td>0.0</td>\n",
              "      <td>0.0</td>\n",
              "      <td>0.0</td>\n",
              "      <td>0.0</td>\n",
              "      <td>0.0</td>\n",
              "      <td>0.0</td>\n",
              "      <td>0.0</td>\n",
              "      <td>0.0</td>\n",
              "      <td>0.0</td>\n",
              "      <td>the worst kind of mythologizing , the kind th...</td>\n",
              "    </tr>\n",
              "    <tr>\n",
              "      <th>1636</th>\n",
              "      <td>-2.4142985</td>\n",
              "      <td>-2.199759</td>\n",
              "      <td>-1.9736496</td>\n",
              "      <td>-1.8492492</td>\n",
              "      <td>-1.6874405</td>\n",
              "      <td>-1.1178086</td>\n",
              "      <td>-0.81908005</td>\n",
              "      <td>-0.27169663</td>\n",
              "      <td>-0.11158829</td>\n",
              "      <td>0.0</td>\n",
              "      <td>...</td>\n",
              "      <td>0.0</td>\n",
              "      <td>0.0</td>\n",
              "      <td>0.0</td>\n",
              "      <td>0.0</td>\n",
              "      <td>0.0</td>\n",
              "      <td>0.0</td>\n",
              "      <td>0.0</td>\n",
              "      <td>0.0</td>\n",
              "      <td>1.0</td>\n",
              "      <td>as a non-stop warning to keep attention</td>\n",
              "    </tr>\n",
              "    <tr>\n",
              "      <th>1637</th>\n",
              "      <td>1.2068245</td>\n",
              "      <td>1.3502762</td>\n",
              "      <td>1.5632126</td>\n",
              "      <td>1.7024252</td>\n",
              "      <td>1.766751</td>\n",
              "      <td>2.0024376</td>\n",
              "      <td>1.9994154</td>\n",
              "      <td>2.0286388</td>\n",
              "      <td>2.028667</td>\n",
              "      <td>2.136106</td>\n",
              "      <td>...</td>\n",
              "      <td>0.0</td>\n",
              "      <td>0.0</td>\n",
              "      <td>0.0</td>\n",
              "      <td>0.0</td>\n",
              "      <td>0.0</td>\n",
              "      <td>0.0</td>\n",
              "      <td>0.0</td>\n",
              "      <td>0.0</td>\n",
              "      <td>1.0</td>\n",
              "      <td>and so you feel alive, you feel alive, what t...</td>\n",
              "    </tr>\n",
              "  </tbody>\n",
              "</table>\n",
              "<p>500 rows × 514 columns</p>\n",
              "</div>\n",
              "      <button class=\"colab-df-convert\" onclick=\"convertToInteractive('df-7e8f33a2-5a43-4b15-bff5-ab447e0a2bc5')\"\n",
              "              title=\"Convert this dataframe to an interactive table.\"\n",
              "              style=\"display:none;\">\n",
              "        \n",
              "  <svg xmlns=\"http://www.w3.org/2000/svg\" height=\"24px\"viewBox=\"0 0 24 24\"\n",
              "       width=\"24px\">\n",
              "    <path d=\"M0 0h24v24H0V0z\" fill=\"none\"/>\n",
              "    <path d=\"M18.56 5.44l.94 2.06.94-2.06 2.06-.94-2.06-.94-.94-2.06-.94 2.06-2.06.94zm-11 1L8.5 8.5l.94-2.06 2.06-.94-2.06-.94L8.5 2.5l-.94 2.06-2.06.94zm10 10l.94 2.06.94-2.06 2.06-.94-2.06-.94-.94-2.06-.94 2.06-2.06.94z\"/><path d=\"M17.41 7.96l-1.37-1.37c-.4-.4-.92-.59-1.43-.59-.52 0-1.04.2-1.43.59L10.3 9.45l-7.72 7.72c-.78.78-.78 2.05 0 2.83L4 21.41c.39.39.9.59 1.41.59.51 0 1.02-.2 1.41-.59l7.78-7.78 2.81-2.81c.8-.78.8-2.07 0-2.86zM5.41 20L4 18.59l7.72-7.72 1.47 1.35L5.41 20z\"/>\n",
              "  </svg>\n",
              "      </button>\n",
              "      \n",
              "  <style>\n",
              "    .colab-df-container {\n",
              "      display:flex;\n",
              "      flex-wrap:wrap;\n",
              "      gap: 12px;\n",
              "    }\n",
              "\n",
              "    .colab-df-convert {\n",
              "      background-color: #E8F0FE;\n",
              "      border: none;\n",
              "      border-radius: 50%;\n",
              "      cursor: pointer;\n",
              "      display: none;\n",
              "      fill: #1967D2;\n",
              "      height: 32px;\n",
              "      padding: 0 0 0 0;\n",
              "      width: 32px;\n",
              "    }\n",
              "\n",
              "    .colab-df-convert:hover {\n",
              "      background-color: #E2EBFA;\n",
              "      box-shadow: 0px 1px 2px rgba(60, 64, 67, 0.3), 0px 1px 3px 1px rgba(60, 64, 67, 0.15);\n",
              "      fill: #174EA6;\n",
              "    }\n",
              "\n",
              "    [theme=dark] .colab-df-convert {\n",
              "      background-color: #3B4455;\n",
              "      fill: #D2E3FC;\n",
              "    }\n",
              "\n",
              "    [theme=dark] .colab-df-convert:hover {\n",
              "      background-color: #434B5C;\n",
              "      box-shadow: 0px 1px 3px 1px rgba(0, 0, 0, 0.15);\n",
              "      filter: drop-shadow(0px 1px 2px rgba(0, 0, 0, 0.3));\n",
              "      fill: #FFFFFF;\n",
              "    }\n",
              "  </style>\n",
              "\n",
              "      <script>\n",
              "        const buttonEl =\n",
              "          document.querySelector('#df-7e8f33a2-5a43-4b15-bff5-ab447e0a2bc5 button.colab-df-convert');\n",
              "        buttonEl.style.display =\n",
              "          google.colab.kernel.accessAllowed ? 'block' : 'none';\n",
              "\n",
              "        async function convertToInteractive(key) {\n",
              "          const element = document.querySelector('#df-7e8f33a2-5a43-4b15-bff5-ab447e0a2bc5');\n",
              "          const dataTable =\n",
              "            await google.colab.kernel.invokeFunction('convertToInteractive',\n",
              "                                                     [key], {});\n",
              "          if (!dataTable) return;\n",
              "\n",
              "          const docLinkHtml = 'Like what you see? Visit the ' +\n",
              "            '<a target=\"_blank\" href=https://colab.research.google.com/notebooks/data_table.ipynb>data table notebook</a>'\n",
              "            + ' to learn more about interactive tables.';\n",
              "          element.innerHTML = '';\n",
              "          dataTable['output_type'] = 'display_data';\n",
              "          await google.colab.output.renderOutput(dataTable, element);\n",
              "          const docLink = document.createElement('div');\n",
              "          docLink.innerHTML = docLinkHtml;\n",
              "          element.appendChild(docLink);\n",
              "        }\n",
              "      </script>\n",
              "    </div>\n",
              "  </div>\n",
              "  "
            ]
          },
          "metadata": {},
          "execution_count": 46
        }
      ]
    },
    {
      "cell_type": "code",
      "source": [
        "y = data_train['y_label'].values\n",
        "x = data_train.drop(columns=['y_label', 'sentence']).values"
      ],
      "metadata": {
        "id": "hiG9h-j-3o2s"
      },
      "execution_count": 47,
      "outputs": []
    },
    {
      "cell_type": "code",
      "source": [
        "y_test = data_val['y_label'].values\n",
        "x_test = data_val.drop(columns=['y_label', 'sentence']).values"
      ],
      "metadata": {
        "id": "MpFNLyWV3pWV"
      },
      "execution_count": 48,
      "outputs": []
    },
    {
      "cell_type": "markdown",
      "metadata": {
        "id": "q3WCIbfDGoqG"
      },
      "source": [
        "# Model training and comparison\n",
        "\n",
        "We train different models and compare their performance."
      ]
    },
    {
      "cell_type": "markdown",
      "metadata": {
        "id": "2ftPvIuxmBlS"
      },
      "source": [
        "### Random forest"
      ]
    },
    {
      "cell_type": "code",
      "execution_count": 49,
      "metadata": {
        "colab": {
          "base_uri": "https://localhost:8080/"
        },
        "id": "TJE-47xY2u_F",
        "outputId": "c6291bc9-d107-424b-f9eb-06a79faece3e"
      },
      "outputs": [
        {
          "output_type": "execute_result",
          "data": {
            "text/plain": [
              "RandomForestClassifier(min_samples_leaf=2, min_samples_split=10,\n",
              "                       n_estimators=1600)"
            ]
          },
          "metadata": {},
          "execution_count": 49
        }
      ],
      "source": [
        "from sklearn.ensemble import RandomForestClassifier\n",
        "\n",
        "# Create the model using best parameters found\n",
        "model = RandomForestClassifier(n_estimators=1600,\n",
        "                               min_samples_split=10,\n",
        "                               min_samples_leaf=2,\n",
        "                               max_features='auto',\n",
        "                               max_depth=None, \n",
        "                               bootstrap = True)\n",
        "# Fit on training data\n",
        "model.fit(x, y)"
      ]
    },
    {
      "cell_type": "code",
      "execution_count": 50,
      "metadata": {
        "id": "9Zgrj0u_3PNM"
      },
      "outputs": [],
      "source": [
        "# Actual class predictions\n",
        "rf_predictions = model.predict(x_test)"
      ]
    },
    {
      "cell_type": "code",
      "execution_count": 51,
      "metadata": {
        "colab": {
          "base_uri": "https://localhost:8080/"
        },
        "id": "0163kTVX3Sjo",
        "outputId": "d3d6fae7-28c4-4042-ace7-21928dd32b30"
      },
      "outputs": [
        {
          "output_type": "execute_result",
          "data": {
            "text/plain": [
              "0.688"
            ]
          },
          "metadata": {},
          "execution_count": 51
        }
      ],
      "source": [
        "np.sum(rf_predictions==y_test)/len(y_test)"
      ]
    },
    {
      "cell_type": "code",
      "execution_count": 52,
      "metadata": {
        "colab": {
          "base_uri": "https://localhost:8080/"
        },
        "id": "ZuD9VPNdAxh5",
        "outputId": "1d8f8867-326a-4477-c4c3-5766bec446e5"
      },
      "outputs": [
        {
          "output_type": "stream",
          "name": "stdout",
          "text": [
            "              precision    recall  f1-score   support\n",
            "\n",
            "         0.0      0.670     0.765     0.714       255\n",
            "         1.0      0.713     0.608     0.656       245\n",
            "\n",
            "    accuracy                          0.688       500\n",
            "   macro avg      0.692     0.686     0.685       500\n",
            "weighted avg      0.691     0.688     0.686       500\n",
            "\n",
            "[[195  60]\n",
            " [ 96 149]]\n"
          ]
        }
      ],
      "source": [
        "from sklearn.metrics import classification_report, confusion_matrix\n",
        "print(classification_report(y_test, rf_predictions, digits=3))\n",
        "print(confusion_matrix(y_test, rf_predictions))"
      ]
    },
    {
      "cell_type": "markdown",
      "metadata": {
        "id": "ji70i7tT4Z4B"
      },
      "source": [
        "### XGBoost\n",
        "\n",
        "Best performing model. Hyperparamter tuning done with Dataiku."
      ]
    },
    {
      "cell_type": "code",
      "execution_count": 53,
      "metadata": {
        "id": "rDNzQp9d4PP0"
      },
      "outputs": [],
      "source": [
        "import xgboost as xgb"
      ]
    },
    {
      "cell_type": "code",
      "execution_count": 54,
      "metadata": {
        "id": "xyIrUTHJ4i8p"
      },
      "outputs": [],
      "source": [
        "xgb_classifier = xgb.XGBClassifier(\n",
        "                    max_depth=3,\n",
        "                    learning_rate=0.34281802,\n",
        "                    gamma=0.6770816,\n",
        "                    min_child_weight=2.5520658,\n",
        "                    max_delta_step=0.71469694,\n",
        "                    subsample=0.61460966,\n",
        "                    colsample_bytree=0.73929816,\n",
        "                    colsample_bylevel=0.87191725,\n",
        "                    reg_alpha=0.9064181,\n",
        "                    reg_lambda=0.5686102,\n",
        "                    n_estimators=29,\n",
        "                    silent=0,\n",
        "                    nthread=4,\n",
        "                    scale_pos_weight=1.0,\n",
        "                    base_score=0.5,\n",
        "                    missing=None,\n",
        "                  )"
      ]
    },
    {
      "cell_type": "code",
      "execution_count": 55,
      "metadata": {
        "colab": {
          "base_uri": "https://localhost:8080/"
        },
        "id": "jFRBurXZ4ohr",
        "outputId": "3f7a697a-0b47-43d8-f453-dde7f6948b2f"
      },
      "outputs": [
        {
          "output_type": "execute_result",
          "data": {
            "text/plain": [
              "XGBClassifier(colsample_bylevel=0.87191725, colsample_bytree=0.73929816,\n",
              "              gamma=0.6770816, learning_rate=0.34281802,\n",
              "              max_delta_step=0.71469694, min_child_weight=2.5520658,\n",
              "              n_estimators=29, nthread=4, reg_alpha=0.9064181,\n",
              "              reg_lambda=0.5686102, scale_pos_weight=1.0, silent=0,\n",
              "              subsample=0.61460966)"
            ]
          },
          "metadata": {},
          "execution_count": 55
        }
      ],
      "source": [
        "xgb_classifier.fit(x, y)"
      ]
    },
    {
      "cell_type": "code",
      "execution_count": 56,
      "metadata": {
        "id": "tfqAluu-4qik"
      },
      "outputs": [],
      "source": [
        "xgb_predictions = xgb_classifier.predict(x_test)"
      ]
    },
    {
      "cell_type": "code",
      "execution_count": 57,
      "metadata": {
        "colab": {
          "base_uri": "https://localhost:8080/"
        },
        "id": "Wla48ARQA8Ff",
        "outputId": "53964e96-ae12-4b98-8e36-9443a8e697e6"
      },
      "outputs": [
        {
          "output_type": "stream",
          "name": "stdout",
          "text": [
            "              precision    recall  f1-score   support\n",
            "\n",
            "         0.0      0.687     0.757     0.720       255\n",
            "         1.0      0.717     0.641     0.677       245\n",
            "\n",
            "    accuracy                          0.700       500\n",
            "   macro avg      0.702     0.699     0.698       500\n",
            "weighted avg      0.702     0.700     0.699       500\n",
            "\n",
            "[[193  62]\n",
            " [ 88 157]]\n"
          ]
        }
      ],
      "source": [
        "print(classification_report(y_test, xgb_predictions, digits=3))\n",
        "print(confusion_matrix(y_test, xgb_predictions))"
      ]
    },
    {
      "cell_type": "code",
      "source": [
        "import pickle\n",
        "pickle.dump(xgb_classifier, open(\"/content/drive/MyDrive/AdversarialXAI/Classifiers/WDR/sst2_styleadv_2000_classifier.pickle\", \"wb\"))"
      ],
      "metadata": {
        "id": "rWwjYk7q4TnE"
      },
      "execution_count": 58,
      "outputs": []
    },
    {
      "cell_type": "code",
      "source": [
        "xgb_classifier.save_model(\"/content/drive/MyDrive/AdversarialXAI/Classifiers/WDR/sst2_styleadv_2000_classifier.json\")"
      ],
      "metadata": {
        "id": "Hcdvf-_65iki"
      },
      "execution_count": 59,
      "outputs": []
    },
    {
      "cell_type": "code",
      "source": [
        "# temp = pickle.load(open(\"/content/drive/MyDrive/AdversarialXAI/Classifiers/WDR/imdb_styleadv_100_classifier.pickle\", 'rb'))"
      ],
      "metadata": {
        "id": "MOVWX55753Zn"
      },
      "execution_count": null,
      "outputs": []
    },
    {
      "cell_type": "code",
      "source": [
        "# print(classification_report(y_test, temp.predict(x_test), digits=3))"
      ],
      "metadata": {
        "id": "sXeR-pzo5_1_",
        "outputId": "a4140051-0069-417d-d836-cf60b4b27199",
        "colab": {
          "base_uri": "https://localhost:8080/"
        }
      },
      "execution_count": null,
      "outputs": [
        {
          "output_type": "stream",
          "name": "stdout",
          "text": [
            "              precision    recall  f1-score   support\n",
            "\n",
            "         0.0      1.000     1.000     1.000        52\n",
            "         1.0      1.000     1.000     1.000        47\n",
            "\n",
            "    accuracy                          1.000        99\n",
            "   macro avg      1.000     1.000     1.000        99\n",
            "weighted avg      1.000     1.000     1.000        99\n",
            "\n"
          ]
        }
      ]
    },
    {
      "cell_type": "markdown",
      "metadata": {
        "id": "_7WrC0LE493U"
      },
      "source": [
        "### AdaBoost classifier"
      ]
    },
    {
      "cell_type": "code",
      "execution_count": 60,
      "metadata": {
        "id": "706A1Vqd43Qf"
      },
      "outputs": [],
      "source": [
        "from sklearn.ensemble import AdaBoostClassifier"
      ]
    },
    {
      "cell_type": "code",
      "execution_count": 61,
      "metadata": {
        "id": "o-Yl5c-A5BSu"
      },
      "outputs": [],
      "source": [
        "abc = AdaBoostClassifier()"
      ]
    },
    {
      "cell_type": "code",
      "execution_count": 62,
      "metadata": {
        "colab": {
          "base_uri": "https://localhost:8080/"
        },
        "id": "IoE3Ku7x5Fic",
        "outputId": "f3e786c9-1d9a-4b0c-e505-b60cc74a08a9"
      },
      "outputs": [
        {
          "output_type": "execute_result",
          "data": {
            "text/plain": [
              "AdaBoostClassifier()"
            ]
          },
          "metadata": {},
          "execution_count": 62
        }
      ],
      "source": [
        "abc.fit(x, y)"
      ]
    },
    {
      "cell_type": "code",
      "execution_count": 63,
      "metadata": {
        "id": "nxBWTfvA5Snt"
      },
      "outputs": [],
      "source": [
        "abc_predictions = abc.predict(x_test)"
      ]
    },
    {
      "cell_type": "code",
      "execution_count": 64,
      "metadata": {
        "colab": {
          "base_uri": "https://localhost:8080/"
        },
        "id": "LvMmHP8X5WD9",
        "outputId": "82702f88-e403-4df8-b2d9-a38882637154"
      },
      "outputs": [
        {
          "output_type": "execute_result",
          "data": {
            "text/plain": [
              "0.69"
            ]
          },
          "metadata": {},
          "execution_count": 64
        }
      ],
      "source": [
        "np.sum(abc_predictions==y_test)/len(y_test)"
      ]
    },
    {
      "cell_type": "code",
      "execution_count": 65,
      "metadata": {
        "colab": {
          "base_uri": "https://localhost:8080/"
        },
        "id": "RbDTgEtUBfWB",
        "outputId": "84b3fb4f-f6df-4631-e745-df0e077fda6f"
      },
      "outputs": [
        {
          "output_type": "stream",
          "name": "stdout",
          "text": [
            "              precision    recall  f1-score   support\n",
            "\n",
            "         0.0      0.687     0.722     0.704       255\n",
            "         1.0      0.694     0.657     0.675       245\n",
            "\n",
            "    accuracy                          0.690       500\n",
            "   macro avg      0.690     0.689     0.689       500\n",
            "weighted avg      0.690     0.690     0.690       500\n",
            "\n",
            "[[184  71]\n",
            " [ 84 161]]\n"
          ]
        }
      ],
      "source": [
        "print(classification_report(y_test, abc_predictions, digits=3))\n",
        "print(confusion_matrix(y_test, abc_predictions))"
      ]
    },
    {
      "cell_type": "markdown",
      "metadata": {
        "id": "FnN-pUktttZ_"
      },
      "source": [
        "### LightGBM"
      ]
    },
    {
      "cell_type": "code",
      "execution_count": 66,
      "metadata": {
        "id": "hTtL5YVVtvEV"
      },
      "outputs": [],
      "source": [
        "import lightgbm as lgb"
      ]
    },
    {
      "cell_type": "code",
      "execution_count": 67,
      "metadata": {
        "id": "NlfaoFqptxLJ"
      },
      "outputs": [],
      "source": [
        "parameters = {\n",
        "    'objective': 'binary',\n",
        "    'application': 'binary',\n",
        "    'metric': ['binary_logloss'],\n",
        "    'num_leaves': 35,\n",
        "    'learning_rate': 0.13,\n",
        "    'verbose': 1\n",
        "}"
      ]
    },
    {
      "cell_type": "code",
      "execution_count": 68,
      "metadata": {
        "id": "ClFNYu-OuVWM"
      },
      "outputs": [],
      "source": [
        "train_data = lgb.Dataset(x, label=y)\n",
        "test_data = lgb.Dataset(x_test, label=y_test)"
      ]
    },
    {
      "cell_type": "code",
      "execution_count": 69,
      "metadata": {
        "colab": {
          "base_uri": "https://localhost:8080/"
        },
        "id": "AqhNtf00uKwP",
        "outputId": "ea694807-3181-4f4e-f9d8-adcd4c582c95"
      },
      "outputs": [
        {
          "output_type": "stream",
          "name": "stdout",
          "text": [
            "[1]\tvalid_0's binary_logloss: 0.671299\n",
            "[2]\tvalid_0's binary_logloss: 0.655841\n",
            "[3]\tvalid_0's binary_logloss: 0.644149\n",
            "[4]\tvalid_0's binary_logloss: 0.632359\n",
            "[5]\tvalid_0's binary_logloss: 0.623285\n",
            "[6]\tvalid_0's binary_logloss: 0.618108\n",
            "[7]\tvalid_0's binary_logloss: 0.61095\n",
            "[8]\tvalid_0's binary_logloss: 0.608082\n",
            "[9]\tvalid_0's binary_logloss: 0.603904\n",
            "[10]\tvalid_0's binary_logloss: 0.601307\n",
            "[11]\tvalid_0's binary_logloss: 0.601045\n",
            "[12]\tvalid_0's binary_logloss: 0.602447\n",
            "[13]\tvalid_0's binary_logloss: 0.603493\n",
            "[14]\tvalid_0's binary_logloss: 0.607188\n",
            "[15]\tvalid_0's binary_logloss: 0.607804\n",
            "[16]\tvalid_0's binary_logloss: 0.607892\n",
            "[17]\tvalid_0's binary_logloss: 0.607006\n",
            "[18]\tvalid_0's binary_logloss: 0.608199\n",
            "[19]\tvalid_0's binary_logloss: 0.609164\n",
            "[20]\tvalid_0's binary_logloss: 0.606762\n",
            "[21]\tvalid_0's binary_logloss: 0.608778\n",
            "[22]\tvalid_0's binary_logloss: 0.607538\n",
            "[23]\tvalid_0's binary_logloss: 0.606718\n",
            "[24]\tvalid_0's binary_logloss: 0.609543\n",
            "[25]\tvalid_0's binary_logloss: 0.610107\n",
            "[26]\tvalid_0's binary_logloss: 0.610622\n",
            "[27]\tvalid_0's binary_logloss: 0.61026\n",
            "[28]\tvalid_0's binary_logloss: 0.612598\n",
            "[29]\tvalid_0's binary_logloss: 0.614747\n",
            "[30]\tvalid_0's binary_logloss: 0.616816\n",
            "[31]\tvalid_0's binary_logloss: 0.618511\n",
            "[32]\tvalid_0's binary_logloss: 0.618548\n",
            "[33]\tvalid_0's binary_logloss: 0.620627\n",
            "[34]\tvalid_0's binary_logloss: 0.623071\n",
            "[35]\tvalid_0's binary_logloss: 0.62738\n",
            "[36]\tvalid_0's binary_logloss: 0.628152\n",
            "[37]\tvalid_0's binary_logloss: 0.630116\n",
            "[38]\tvalid_0's binary_logloss: 0.63375\n",
            "[39]\tvalid_0's binary_logloss: 0.635046\n",
            "[40]\tvalid_0's binary_logloss: 0.638262\n",
            "[41]\tvalid_0's binary_logloss: 0.640677\n",
            "[42]\tvalid_0's binary_logloss: 0.641213\n",
            "[43]\tvalid_0's binary_logloss: 0.646015\n",
            "[44]\tvalid_0's binary_logloss: 0.649219\n",
            "[45]\tvalid_0's binary_logloss: 0.653103\n",
            "[46]\tvalid_0's binary_logloss: 0.654943\n",
            "[47]\tvalid_0's binary_logloss: 0.657984\n",
            "[48]\tvalid_0's binary_logloss: 0.65835\n",
            "[49]\tvalid_0's binary_logloss: 0.659936\n",
            "[50]\tvalid_0's binary_logloss: 0.662755\n",
            "[51]\tvalid_0's binary_logloss: 0.664415\n",
            "[52]\tvalid_0's binary_logloss: 0.66426\n",
            "[53]\tvalid_0's binary_logloss: 0.666768\n",
            "[54]\tvalid_0's binary_logloss: 0.668844\n",
            "[55]\tvalid_0's binary_logloss: 0.670152\n",
            "[56]\tvalid_0's binary_logloss: 0.672929\n",
            "[57]\tvalid_0's binary_logloss: 0.67453\n",
            "[58]\tvalid_0's binary_logloss: 0.675529\n",
            "[59]\tvalid_0's binary_logloss: 0.677685\n",
            "[60]\tvalid_0's binary_logloss: 0.679552\n",
            "[61]\tvalid_0's binary_logloss: 0.681911\n",
            "[62]\tvalid_0's binary_logloss: 0.680976\n",
            "[63]\tvalid_0's binary_logloss: 0.684725\n",
            "[64]\tvalid_0's binary_logloss: 0.685877\n",
            "[65]\tvalid_0's binary_logloss: 0.688141\n",
            "[66]\tvalid_0's binary_logloss: 0.690081\n",
            "[67]\tvalid_0's binary_logloss: 0.690363\n",
            "[68]\tvalid_0's binary_logloss: 0.691802\n",
            "[69]\tvalid_0's binary_logloss: 0.695478\n",
            "[70]\tvalid_0's binary_logloss: 0.697055\n",
            "[71]\tvalid_0's binary_logloss: 0.699036\n",
            "[72]\tvalid_0's binary_logloss: 0.703383\n",
            "[73]\tvalid_0's binary_logloss: 0.704696\n",
            "[74]\tvalid_0's binary_logloss: 0.706431\n",
            "[75]\tvalid_0's binary_logloss: 0.707677\n",
            "[76]\tvalid_0's binary_logloss: 0.708114\n",
            "[77]\tvalid_0's binary_logloss: 0.709579\n",
            "[78]\tvalid_0's binary_logloss: 0.712155\n",
            "[79]\tvalid_0's binary_logloss: 0.712322\n",
            "[80]\tvalid_0's binary_logloss: 0.713674\n",
            "[81]\tvalid_0's binary_logloss: 0.717094\n",
            "[82]\tvalid_0's binary_logloss: 0.718375\n",
            "[83]\tvalid_0's binary_logloss: 0.720767\n",
            "[84]\tvalid_0's binary_logloss: 0.721078\n",
            "[85]\tvalid_0's binary_logloss: 0.722951\n",
            "[86]\tvalid_0's binary_logloss: 0.722438\n",
            "[87]\tvalid_0's binary_logloss: 0.726257\n",
            "[88]\tvalid_0's binary_logloss: 0.728737\n",
            "[89]\tvalid_0's binary_logloss: 0.730529\n",
            "[90]\tvalid_0's binary_logloss: 0.733438\n",
            "[91]\tvalid_0's binary_logloss: 0.734659\n",
            "[92]\tvalid_0's binary_logloss: 0.734814\n",
            "[93]\tvalid_0's binary_logloss: 0.736103\n",
            "[94]\tvalid_0's binary_logloss: 0.737787\n",
            "[95]\tvalid_0's binary_logloss: 0.739835\n",
            "[96]\tvalid_0's binary_logloss: 0.741176\n",
            "[97]\tvalid_0's binary_logloss: 0.740765\n",
            "[98]\tvalid_0's binary_logloss: 0.742824\n",
            "[99]\tvalid_0's binary_logloss: 0.745666\n",
            "[100]\tvalid_0's binary_logloss: 0.748476\n",
            "[101]\tvalid_0's binary_logloss: 0.749244\n",
            "[102]\tvalid_0's binary_logloss: 0.751175\n",
            "[103]\tvalid_0's binary_logloss: 0.754036\n",
            "[104]\tvalid_0's binary_logloss: 0.754729\n",
            "[105]\tvalid_0's binary_logloss: 0.75823\n",
            "[106]\tvalid_0's binary_logloss: 0.757983\n",
            "[107]\tvalid_0's binary_logloss: 0.759995\n",
            "[108]\tvalid_0's binary_logloss: 0.7617\n",
            "[109]\tvalid_0's binary_logloss: 0.763064\n",
            "[110]\tvalid_0's binary_logloss: 0.766613\n",
            "[111]\tvalid_0's binary_logloss: 0.769797\n",
            "[112]\tvalid_0's binary_logloss: 0.771365\n",
            "[113]\tvalid_0's binary_logloss: 0.770622\n",
            "[114]\tvalid_0's binary_logloss: 0.772801\n",
            "[115]\tvalid_0's binary_logloss: 0.775396\n",
            "[116]\tvalid_0's binary_logloss: 0.777715\n",
            "[117]\tvalid_0's binary_logloss: 0.778544\n",
            "[118]\tvalid_0's binary_logloss: 0.781877\n",
            "[119]\tvalid_0's binary_logloss: 0.783474\n",
            "[120]\tvalid_0's binary_logloss: 0.783762\n",
            "[121]\tvalid_0's binary_logloss: 0.786687\n",
            "[122]\tvalid_0's binary_logloss: 0.787464\n",
            "[123]\tvalid_0's binary_logloss: 0.789805\n",
            "[124]\tvalid_0's binary_logloss: 0.792294\n",
            "[125]\tvalid_0's binary_logloss: 0.793076\n",
            "[126]\tvalid_0's binary_logloss: 0.795806\n",
            "[127]\tvalid_0's binary_logloss: 0.79826\n",
            "[128]\tvalid_0's binary_logloss: 0.798616\n",
            "[129]\tvalid_0's binary_logloss: 0.800743\n",
            "[130]\tvalid_0's binary_logloss: 0.800317\n",
            "[131]\tvalid_0's binary_logloss: 0.801172\n",
            "[132]\tvalid_0's binary_logloss: 0.802695\n",
            "[133]\tvalid_0's binary_logloss: 0.803685\n",
            "[134]\tvalid_0's binary_logloss: 0.803701\n",
            "[135]\tvalid_0's binary_logloss: 0.80382\n",
            "[136]\tvalid_0's binary_logloss: 0.805919\n",
            "[137]\tvalid_0's binary_logloss: 0.80664\n",
            "[138]\tvalid_0's binary_logloss: 0.809413\n",
            "[139]\tvalid_0's binary_logloss: 0.809025\n",
            "[140]\tvalid_0's binary_logloss: 0.811177\n",
            "[141]\tvalid_0's binary_logloss: 0.811439\n",
            "[142]\tvalid_0's binary_logloss: 0.812866\n",
            "[143]\tvalid_0's binary_logloss: 0.814023\n",
            "[144]\tvalid_0's binary_logloss: 0.816637\n",
            "[145]\tvalid_0's binary_logloss: 0.821968\n",
            "[146]\tvalid_0's binary_logloss: 0.823409\n",
            "[147]\tvalid_0's binary_logloss: 0.824983\n",
            "[148]\tvalid_0's binary_logloss: 0.827664\n",
            "[149]\tvalid_0's binary_logloss: 0.829331\n",
            "[150]\tvalid_0's binary_logloss: 0.832551\n",
            "[151]\tvalid_0's binary_logloss: 0.834241\n",
            "[152]\tvalid_0's binary_logloss: 0.834293\n",
            "[153]\tvalid_0's binary_logloss: 0.836707\n",
            "[154]\tvalid_0's binary_logloss: 0.84098\n",
            "[155]\tvalid_0's binary_logloss: 0.843987\n",
            "[156]\tvalid_0's binary_logloss: 0.845133\n",
            "[157]\tvalid_0's binary_logloss: 0.847543\n",
            "[158]\tvalid_0's binary_logloss: 0.850231\n",
            "[159]\tvalid_0's binary_logloss: 0.852506\n",
            "[160]\tvalid_0's binary_logloss: 0.854776\n",
            "[161]\tvalid_0's binary_logloss: 0.855952\n",
            "[162]\tvalid_0's binary_logloss: 0.859174\n",
            "[163]\tvalid_0's binary_logloss: 0.861187\n",
            "[164]\tvalid_0's binary_logloss: 0.864424\n",
            "[165]\tvalid_0's binary_logloss: 0.868757\n",
            "[166]\tvalid_0's binary_logloss: 0.868699\n",
            "[167]\tvalid_0's binary_logloss: 0.869626\n",
            "[168]\tvalid_0's binary_logloss: 0.871778\n",
            "[169]\tvalid_0's binary_logloss: 0.872479\n",
            "[170]\tvalid_0's binary_logloss: 0.872601\n",
            "[171]\tvalid_0's binary_logloss: 0.871077\n",
            "[172]\tvalid_0's binary_logloss: 0.874107\n",
            "[173]\tvalid_0's binary_logloss: 0.875791\n",
            "[174]\tvalid_0's binary_logloss: 0.87721\n",
            "[175]\tvalid_0's binary_logloss: 0.878691\n",
            "[176]\tvalid_0's binary_logloss: 0.880498\n",
            "[177]\tvalid_0's binary_logloss: 0.88173\n",
            "[178]\tvalid_0's binary_logloss: 0.881707\n",
            "[179]\tvalid_0's binary_logloss: 0.885501\n",
            "[180]\tvalid_0's binary_logloss: 0.887866\n",
            "[181]\tvalid_0's binary_logloss: 0.890304\n",
            "[182]\tvalid_0's binary_logloss: 0.892909\n",
            "[183]\tvalid_0's binary_logloss: 0.893654\n",
            "[184]\tvalid_0's binary_logloss: 0.896705\n",
            "[185]\tvalid_0's binary_logloss: 0.897802\n",
            "[186]\tvalid_0's binary_logloss: 0.898364\n",
            "[187]\tvalid_0's binary_logloss: 0.899327\n",
            "[188]\tvalid_0's binary_logloss: 0.899644\n",
            "[189]\tvalid_0's binary_logloss: 0.899815\n",
            "[190]\tvalid_0's binary_logloss: 0.900681\n",
            "[191]\tvalid_0's binary_logloss: 0.902237\n",
            "[192]\tvalid_0's binary_logloss: 0.903734\n",
            "[193]\tvalid_0's binary_logloss: 0.904192\n",
            "[194]\tvalid_0's binary_logloss: 0.906264\n",
            "[195]\tvalid_0's binary_logloss: 0.906613\n",
            "[196]\tvalid_0's binary_logloss: 0.90908\n",
            "[197]\tvalid_0's binary_logloss: 0.911776\n",
            "[198]\tvalid_0's binary_logloss: 0.91408\n",
            "[199]\tvalid_0's binary_logloss: 0.9182\n",
            "[200]\tvalid_0's binary_logloss: 0.918141\n",
            "[201]\tvalid_0's binary_logloss: 0.922029\n",
            "[202]\tvalid_0's binary_logloss: 0.921934\n",
            "[203]\tvalid_0's binary_logloss: 0.92388\n",
            "[204]\tvalid_0's binary_logloss: 0.925918\n",
            "[205]\tvalid_0's binary_logloss: 0.925946\n",
            "[206]\tvalid_0's binary_logloss: 0.926586\n",
            "[207]\tvalid_0's binary_logloss: 0.927626\n",
            "[208]\tvalid_0's binary_logloss: 0.926724\n",
            "[209]\tvalid_0's binary_logloss: 0.930061\n",
            "[210]\tvalid_0's binary_logloss: 0.93082\n",
            "[211]\tvalid_0's binary_logloss: 0.932409\n",
            "[212]\tvalid_0's binary_logloss: 0.934109\n",
            "[213]\tvalid_0's binary_logloss: 0.936211\n",
            "[214]\tvalid_0's binary_logloss: 0.938837\n",
            "[215]\tvalid_0's binary_logloss: 0.938746\n",
            "[216]\tvalid_0's binary_logloss: 0.938917\n",
            "[217]\tvalid_0's binary_logloss: 0.939188\n",
            "[218]\tvalid_0's binary_logloss: 0.940384\n",
            "[219]\tvalid_0's binary_logloss: 0.942395\n",
            "[220]\tvalid_0's binary_logloss: 0.94504\n",
            "[221]\tvalid_0's binary_logloss: 0.946395\n",
            "[222]\tvalid_0's binary_logloss: 0.945625\n",
            "[223]\tvalid_0's binary_logloss: 0.947266\n",
            "[224]\tvalid_0's binary_logloss: 0.948816\n",
            "[225]\tvalid_0's binary_logloss: 0.950065\n",
            "[226]\tvalid_0's binary_logloss: 0.951269\n",
            "[227]\tvalid_0's binary_logloss: 0.95495\n",
            "[228]\tvalid_0's binary_logloss: 0.956487\n",
            "[229]\tvalid_0's binary_logloss: 0.956754\n",
            "[230]\tvalid_0's binary_logloss: 0.959535\n",
            "[231]\tvalid_0's binary_logloss: 0.960818\n",
            "[232]\tvalid_0's binary_logloss: 0.964344\n",
            "[233]\tvalid_0's binary_logloss: 0.968031\n",
            "[234]\tvalid_0's binary_logloss: 0.9696\n",
            "[235]\tvalid_0's binary_logloss: 0.970959\n",
            "[236]\tvalid_0's binary_logloss: 0.974142\n",
            "[237]\tvalid_0's binary_logloss: 0.97442\n",
            "[238]\tvalid_0's binary_logloss: 0.976103\n",
            "[239]\tvalid_0's binary_logloss: 0.976676\n",
            "[240]\tvalid_0's binary_logloss: 0.980108\n",
            "[241]\tvalid_0's binary_logloss: 0.982712\n",
            "[242]\tvalid_0's binary_logloss: 0.984872\n",
            "[243]\tvalid_0's binary_logloss: 0.985935\n",
            "[244]\tvalid_0's binary_logloss: 0.989275\n",
            "[245]\tvalid_0's binary_logloss: 0.991534\n",
            "[246]\tvalid_0's binary_logloss: 0.992607\n",
            "[247]\tvalid_0's binary_logloss: 0.995353\n",
            "[248]\tvalid_0's binary_logloss: 0.997649\n",
            "[249]\tvalid_0's binary_logloss: 0.997727\n",
            "[250]\tvalid_0's binary_logloss: 0.99824\n",
            "[251]\tvalid_0's binary_logloss: 0.998706\n",
            "[252]\tvalid_0's binary_logloss: 1.00027\n",
            "[253]\tvalid_0's binary_logloss: 1.0034\n",
            "[254]\tvalid_0's binary_logloss: 1.00424\n",
            "[255]\tvalid_0's binary_logloss: 1.00733\n",
            "[256]\tvalid_0's binary_logloss: 1.00767\n",
            "[257]\tvalid_0's binary_logloss: 1.00948\n",
            "[258]\tvalid_0's binary_logloss: 1.012\n",
            "[259]\tvalid_0's binary_logloss: 1.01283\n",
            "[260]\tvalid_0's binary_logloss: 1.01359\n",
            "[261]\tvalid_0's binary_logloss: 1.01676\n",
            "[262]\tvalid_0's binary_logloss: 1.01796\n",
            "[263]\tvalid_0's binary_logloss: 1.0184\n",
            "[264]\tvalid_0's binary_logloss: 1.02136\n",
            "[265]\tvalid_0's binary_logloss: 1.0216\n",
            "[266]\tvalid_0's binary_logloss: 1.02173\n",
            "[267]\tvalid_0's binary_logloss: 1.02291\n",
            "[268]\tvalid_0's binary_logloss: 1.02446\n",
            "[269]\tvalid_0's binary_logloss: 1.02821\n",
            "[270]\tvalid_0's binary_logloss: 1.03103\n",
            "[271]\tvalid_0's binary_logloss: 1.03218\n",
            "[272]\tvalid_0's binary_logloss: 1.03641\n",
            "[273]\tvalid_0's binary_logloss: 1.0387\n",
            "[274]\tvalid_0's binary_logloss: 1.04084\n",
            "[275]\tvalid_0's binary_logloss: 1.04165\n",
            "[276]\tvalid_0's binary_logloss: 1.04379\n",
            "[277]\tvalid_0's binary_logloss: 1.04627\n",
            "[278]\tvalid_0's binary_logloss: 1.04732\n",
            "[279]\tvalid_0's binary_logloss: 1.04748\n",
            "[280]\tvalid_0's binary_logloss: 1.04865\n",
            "[281]\tvalid_0's binary_logloss: 1.05096\n",
            "[282]\tvalid_0's binary_logloss: 1.05399\n",
            "[283]\tvalid_0's binary_logloss: 1.05604\n",
            "[284]\tvalid_0's binary_logloss: 1.0586\n",
            "[285]\tvalid_0's binary_logloss: 1.06\n",
            "[286]\tvalid_0's binary_logloss: 1.06236\n",
            "[287]\tvalid_0's binary_logloss: 1.06523\n",
            "[288]\tvalid_0's binary_logloss: 1.06653\n",
            "[289]\tvalid_0's binary_logloss: 1.06703\n",
            "[290]\tvalid_0's binary_logloss: 1.06742\n",
            "[291]\tvalid_0's binary_logloss: 1.0717\n",
            "[292]\tvalid_0's binary_logloss: 1.07246\n",
            "[293]\tvalid_0's binary_logloss: 1.07304\n",
            "[294]\tvalid_0's binary_logloss: 1.07647\n",
            "[295]\tvalid_0's binary_logloss: 1.07904\n",
            "[296]\tvalid_0's binary_logloss: 1.07832\n",
            "[297]\tvalid_0's binary_logloss: 1.07976\n",
            "[298]\tvalid_0's binary_logloss: 1.08173\n",
            "[299]\tvalid_0's binary_logloss: 1.08482\n",
            "[300]\tvalid_0's binary_logloss: 1.08646\n"
          ]
        }
      ],
      "source": [
        "lgbm_classifier = lgb.train(parameters,\n",
        "                       train_data,\n",
        "                       valid_sets=test_data,\n",
        "                       num_boost_round=300)"
      ]
    },
    {
      "cell_type": "code",
      "execution_count": 70,
      "metadata": {
        "id": "W78pbOqTuvGh"
      },
      "outputs": [],
      "source": [
        "y_hat = lgbm_classifier.predict(x_test)"
      ]
    },
    {
      "cell_type": "code",
      "execution_count": 71,
      "metadata": {
        "colab": {
          "base_uri": "https://localhost:8080/"
        },
        "id": "anci99rWv2ht",
        "outputId": "69960683-fa4a-412b-d45b-0a3b906e0a23"
      },
      "outputs": [
        {
          "output_type": "execute_result",
          "data": {
            "text/plain": [
              "array([1., 0., 1., 1., 1., 0., 1., 1., 1., 1., 0., 1., 1., 0., 0., 1., 0.,\n",
              "       0., 1., 1., 0., 1., 0., 0., 0., 1., 0., 0., 1., 0., 1., 0., 1., 0.,\n",
              "       1., 1., 1., 1., 1., 0., 0., 1., 0., 0., 1., 1., 1., 0., 1., 1., 0.,\n",
              "       0., 0., 0., 1., 0., 0., 0., 0., 0., 1., 1., 0., 0., 1., 1., 1., 0.,\n",
              "       0., 0., 1., 1., 0., 1., 0., 1., 0., 1., 1., 1., 0., 0., 0., 1., 0.,\n",
              "       1., 0., 1., 0., 1., 1., 0., 1., 0., 1., 0., 0., 1., 0., 0., 1., 0.,\n",
              "       0., 0., 0., 1., 1., 0., 0., 1., 0., 0., 1., 0., 1., 1., 1., 0., 0.,\n",
              "       0., 1., 1., 0., 1., 1., 1., 0., 0., 0., 0., 0., 1., 0., 0., 0., 0.,\n",
              "       0., 1., 0., 1., 0., 0., 1., 1., 0., 0., 1., 0., 0., 1., 0., 1., 1.,\n",
              "       1., 1., 1., 1., 1., 0., 0., 1., 0., 1., 0., 1., 0., 1., 0., 1., 1.,\n",
              "       1., 1., 1., 0., 1., 1., 0., 0., 0., 1., 0., 1., 0., 0., 0., 1., 0.,\n",
              "       0., 1., 0., 0., 0., 0., 0., 1., 1., 1., 0., 1., 0., 0., 0., 0., 0.,\n",
              "       0., 1., 0., 0., 0., 0., 0., 1., 1., 1., 1., 1., 1., 1., 1., 1., 0.,\n",
              "       1., 0., 1., 1., 0., 0., 1., 0., 0., 0., 0., 1., 1., 0., 0., 0., 1.,\n",
              "       0., 1., 0., 1., 0., 1., 0., 1., 1., 1., 0., 1., 0., 1., 0., 0., 0.,\n",
              "       0., 1., 1., 0., 1., 0., 1., 0., 0., 1., 1., 0., 0., 1., 0., 0., 0.,\n",
              "       1., 0., 1., 1., 1., 1., 0., 0., 1., 0., 1., 0., 1., 0., 0., 1., 0.,\n",
              "       1., 1., 0., 0., 0., 0., 1., 0., 0., 1., 1., 0., 1., 0., 1., 1., 0.,\n",
              "       0., 0., 0., 0., 0., 1., 1., 0., 1., 1., 1., 1., 0., 0., 0., 1., 0.,\n",
              "       0., 1., 0., 0., 0., 0., 1., 1., 1., 1., 1., 0., 1., 1., 1., 0., 0.,\n",
              "       1., 0., 0., 1., 0., 1., 0., 0., 1., 1., 1., 0., 1., 0., 0., 1., 1.,\n",
              "       0., 0., 1., 1., 0., 0., 0., 0., 1., 1., 1., 0., 1., 0., 0., 1., 0.,\n",
              "       0., 1., 0., 1., 1., 1., 1., 1., 1., 0., 1., 0., 0., 1., 1., 1., 0.,\n",
              "       0., 1., 1., 0., 0., 0., 0., 1., 1., 0., 0., 1., 0., 0., 1., 1., 0.,\n",
              "       0., 0., 0., 1., 1., 0., 0., 0., 0., 0., 1., 0., 0., 1., 0., 0., 1.,\n",
              "       0., 0., 1., 1., 1., 0., 0., 1., 1., 1., 0., 1., 1., 0., 1., 1., 0.,\n",
              "       0., 0., 1., 0., 0., 0., 1., 0., 0., 1., 1., 0., 0., 0., 0., 0., 1.,\n",
              "       0., 1., 0., 0., 1., 1., 1., 0., 0., 0., 0., 1., 0., 1., 1., 0., 0.,\n",
              "       1., 1., 1., 0., 1., 1., 0., 1., 0., 1., 1., 0., 0., 1., 1., 1., 1.,\n",
              "       0., 0., 0., 0., 0., 1., 0.])"
            ]
          },
          "metadata": {},
          "execution_count": 71
        }
      ],
      "source": [
        "y_hat.round()"
      ]
    },
    {
      "cell_type": "code",
      "execution_count": 72,
      "metadata": {
        "colab": {
          "base_uri": "https://localhost:8080/"
        },
        "id": "lbDNWdDnvB8A",
        "outputId": "a20c04c2-65e1-4b16-db68-ab49e81d1928"
      },
      "outputs": [
        {
          "output_type": "execute_result",
          "data": {
            "text/plain": [
              "0.0"
            ]
          },
          "metadata": {},
          "execution_count": 72
        }
      ],
      "source": [
        "np.sum(y_hat.round()==y_test)/len(y_test)"
      ]
    },
    {
      "cell_type": "code",
      "source": [
        "y_test = y_test.astype(np.float)"
      ],
      "metadata": {
        "id": "Qsf04LB_wW34",
        "outputId": "23e703d7-2cb6-4c92-9193-68ee46b08cb9",
        "colab": {
          "base_uri": "https://localhost:8080/"
        }
      },
      "execution_count": 80,
      "outputs": [
        {
          "output_type": "stream",
          "name": "stderr",
          "text": [
            "/usr/local/lib/python3.7/dist-packages/ipykernel_launcher.py:1: DeprecationWarning: `np.float` is a deprecated alias for the builtin `float`. To silence this warning, use `float` by itself. Doing this will not modify any behavior and is safe. If you specifically wanted the numpy scalar type, use `np.float64` here.\n",
            "Deprecated in NumPy 1.20; for more details and guidance: https://numpy.org/devdocs/release/1.20.0-notes.html#deprecations\n",
            "  \"\"\"Entry point for launching an IPython kernel.\n"
          ]
        }
      ]
    },
    {
      "cell_type": "code",
      "execution_count": 81,
      "metadata": {
        "colab": {
          "base_uri": "https://localhost:8080/"
        },
        "id": "ye3J0Xg0Bkko",
        "outputId": "488ac4f4-b0e6-4419-c8b1-aa51179ae1fe"
      },
      "outputs": [
        {
          "output_type": "stream",
          "name": "stdout",
          "text": [
            "              precision    recall  f1-score   support\n",
            "\n",
            "         0.0      0.683     0.710     0.696       255\n",
            "         1.0      0.685     0.657     0.671       245\n",
            "\n",
            "    accuracy                          0.684       500\n",
            "   macro avg      0.684     0.683     0.683       500\n",
            "weighted avg      0.684     0.684     0.684       500\n",
            "\n",
            "[[181  74]\n",
            " [ 84 161]]\n"
          ]
        }
      ],
      "source": [
        "print(classification_report(y_test, y_hat.round(), digits=3))\n",
        "print(confusion_matrix(y_test, y_hat.round()))"
      ]
    },
    {
      "cell_type": "markdown",
      "metadata": {
        "id": "BbkWwRx5BqF4"
      },
      "source": [
        "### SVM"
      ]
    },
    {
      "cell_type": "code",
      "execution_count": 82,
      "metadata": {
        "id": "ogcZnorjBrJ7"
      },
      "outputs": [],
      "source": [
        "from sklearn.svm import SVC\n",
        "svm_clf = SVC(C=9.0622635,\n",
        "          kernel='rbf',\n",
        "          gamma='scale',\n",
        "          coef0=0.0,\n",
        "          tol=0.001,\n",
        "          probability=True,\n",
        "          max_iter=-1)"
      ]
    },
    {
      "cell_type": "code",
      "execution_count": 83,
      "metadata": {
        "colab": {
          "base_uri": "https://localhost:8080/"
        },
        "id": "qSkHyPdfBt5v",
        "outputId": "50964fd0-d7d4-4a1b-b92d-ab1c3eba4232"
      },
      "outputs": [
        {
          "output_type": "execute_result",
          "data": {
            "text/plain": [
              "SVC(C=9.0622635, probability=True)"
            ]
          },
          "metadata": {},
          "execution_count": 83
        }
      ],
      "source": [
        "svm_clf.fit(x, y)"
      ]
    },
    {
      "cell_type": "code",
      "execution_count": 84,
      "metadata": {
        "id": "JZnyduhaBw_Y"
      },
      "outputs": [],
      "source": [
        "svm_pred = svm_clf.predict(x_test)"
      ]
    },
    {
      "cell_type": "code",
      "source": [
        "svm_pred = svm_pred.astype(np.float)"
      ],
      "metadata": {
        "id": "PccsOjyZwys4",
        "outputId": "f9d48b75-91e3-4c58-a792-a55772b6a1b6",
        "colab": {
          "base_uri": "https://localhost:8080/"
        }
      },
      "execution_count": 91,
      "outputs": [
        {
          "output_type": "stream",
          "name": "stderr",
          "text": [
            "/usr/local/lib/python3.7/dist-packages/ipykernel_launcher.py:1: DeprecationWarning: `np.float` is a deprecated alias for the builtin `float`. To silence this warning, use `float` by itself. Doing this will not modify any behavior and is safe. If you specifically wanted the numpy scalar type, use `np.float64` here.\n",
            "Deprecated in NumPy 1.20; for more details and guidance: https://numpy.org/devdocs/release/1.20.0-notes.html#deprecations\n",
            "  \"\"\"Entry point for launching an IPython kernel.\n"
          ]
        }
      ]
    },
    {
      "cell_type": "code",
      "execution_count": 92,
      "metadata": {
        "colab": {
          "base_uri": "https://localhost:8080/"
        },
        "id": "-o_M5fQzCBce",
        "outputId": "c14e568d-0aa7-49dd-93e5-6d294cf0a1b5"
      },
      "outputs": [
        {
          "output_type": "execute_result",
          "data": {
            "text/plain": [
              "0.67"
            ]
          },
          "metadata": {},
          "execution_count": 92
        }
      ],
      "source": [
        "np.sum(svm_pred.round()==y_test)/len(y_test)"
      ]
    },
    {
      "cell_type": "code",
      "execution_count": 93,
      "metadata": {
        "colab": {
          "base_uri": "https://localhost:8080/"
        },
        "id": "eP4a7L3qCEg9",
        "outputId": "c95672ee-de22-453a-b750-f1233052378f"
      },
      "outputs": [
        {
          "output_type": "stream",
          "name": "stdout",
          "text": [
            "              precision    recall  f1-score   support\n",
            "\n",
            "         0.0      0.662     0.722     0.690       255\n",
            "         1.0      0.680     0.616     0.647       245\n",
            "\n",
            "    accuracy                          0.670       500\n",
            "   macro avg      0.671     0.669     0.669       500\n",
            "weighted avg      0.671     0.670     0.669       500\n",
            "\n",
            "[[184  71]\n",
            " [ 94 151]]\n"
          ]
        }
      ],
      "source": [
        "print(classification_report(y_test, svm_pred.round(), digits=3))\n",
        "print(confusion_matrix(y_test, svm_pred.round()))"
      ]
    },
    {
      "cell_type": "markdown",
      "metadata": {
        "id": "ik1vjAYuURo-"
      },
      "source": [
        "### Perceptron NN"
      ]
    },
    {
      "cell_type": "code",
      "execution_count": 94,
      "metadata": {
        "id": "78lnHAv5DDOd"
      },
      "outputs": [],
      "source": [
        "from torch.utils.data import Dataset, DataLoader\n",
        "import sys\n",
        "from torch.autograd import Variable\n",
        "\n",
        "class Text(Dataset):\n",
        "    def __init__(self, x , y):\n",
        "        self.y = y\n",
        "        self.x = x\n",
        "\n",
        "    def __len__(self):\n",
        "        return len(self.x)\n",
        "\n",
        "    def __getitem__(self, idx):\n",
        "        data = torch.tensor(self.x[idx].astype('float32')).to(device)\n",
        "        y = torch.tensor(self.y[idx].astype('float32')).unsqueeze(0).to(device)\n",
        "        return data, y"
      ]
    },
    {
      "cell_type": "code",
      "execution_count": 95,
      "metadata": {
        "id": "93-kIeh_zxW9"
      },
      "outputs": [],
      "source": [
        "train_ds = Text(x, y)\n",
        "train_loader = DataLoader(dataset=train_ds, batch_size=128, shuffle=True)"
      ]
    },
    {
      "cell_type": "code",
      "execution_count": 96,
      "metadata": {
        "id": "1LHY5faTTNB5"
      },
      "outputs": [],
      "source": [
        "import torch.nn as nn\n",
        "import torch.nn.functional as F\n",
        "\n",
        "class BasicModel(nn.Module):\n",
        "    def __init__(self, input_dim, hidden_dim, output_dim):\n",
        "        super(BasicModel, self).__init__()\n",
        "\n",
        "        self.input_dim = input_dim\n",
        "        self.hidden_dim = hidden_dim\n",
        "        self.output_dim  = output_dim\n",
        "\n",
        "        self.fc1 = torch.nn.Linear(self.input_dim, self.hidden_dim)\n",
        "        self.fc2 = torch.nn.Linear(self.hidden_dim, 1)\n",
        "        self.sigmoid = torch.nn.Sigmoid()\n",
        "        \n",
        "    def forward(self, x):\n",
        "        x = x.reshape(x.shape[0], -1)\n",
        "        x = F.relu(self.fc1(x))\n",
        "        x = self.fc2(x)\n",
        "        return self.sigmoid(x)"
      ]
    },
    {
      "cell_type": "code",
      "execution_count": 97,
      "metadata": {
        "id": "wY2qWHdORCRq"
      },
      "outputs": [],
      "source": [
        "basic_classifier = BasicModel(input_dim=512*1, hidden_dim=50, output_dim=1).to(device)\n",
        "c = nn.BCEWithLogitsLoss()\n",
        "optimizer = torch.optim.Adam(basic_classifier.parameters(), lr=0.001)\n",
        "\n",
        "train_loss_history = []\n",
        "val_acc_history = []"
      ]
    },
    {
      "cell_type": "code",
      "execution_count": 104,
      "metadata": {
        "colab": {
          "base_uri": "https://localhost:8080/"
        },
        "id": "8lYCLAPqRMWo",
        "outputId": "7779fd56-ad0f-46b1-ed2f-2e1737501c78"
      },
      "outputs": [
        {
          "output_type": "stream",
          "name": "stdout",
          "text": [
            "Epoch [1/30], Step [2/9], Loss for last 2 batches: 0.6869\n",
            "Epoch [1/30], Step [4/9], Loss for last 2 batches: 0.6543\n",
            "Epoch [1/30], Step [6/9], Loss for last 2 batches: 0.6824\n",
            "Epoch [1/30], Step [8/9], Loss for last 2 batches: 0.6575\n",
            "Epoch [1/30] finished with loss = 0.6684\n",
            "Epoch [2/30], Step [2/9], Loss for last 2 batches: 0.6742\n",
            "Epoch [2/30], Step [4/9], Loss for last 2 batches: 0.6529\n",
            "Epoch [2/30], Step [6/9], Loss for last 2 batches: 0.6850\n",
            "Epoch [2/30], Step [8/9], Loss for last 2 batches: 0.6622\n",
            "Epoch [2/30] finished with loss = 0.6669\n",
            "Epoch [3/30], Step [2/9], Loss for last 2 batches: 0.6553\n",
            "Epoch [3/30], Step [4/9], Loss for last 2 batches: 0.6633\n",
            "Epoch [3/30], Step [6/9], Loss for last 2 batches: 0.6676\n",
            "Epoch [3/30], Step [8/9], Loss for last 2 batches: 0.6748\n",
            "Epoch [3/30] finished with loss = 0.6658\n",
            "Epoch [4/30], Step [2/9], Loss for last 2 batches: 0.6701\n",
            "Epoch [4/30], Step [4/9], Loss for last 2 batches: 0.6656\n",
            "Epoch [4/30], Step [6/9], Loss for last 2 batches: 0.6729\n",
            "Epoch [4/30], Step [8/9], Loss for last 2 batches: 0.6444\n",
            "Epoch [4/30] finished with loss = 0.6646\n",
            "Epoch [5/30], Step [2/9], Loss for last 2 batches: 0.6817\n",
            "Epoch [5/30], Step [4/9], Loss for last 2 batches: 0.6560\n",
            "Epoch [5/30], Step [6/9], Loss for last 2 batches: 0.6500\n",
            "Epoch [5/30], Step [8/9], Loss for last 2 batches: 0.6691\n",
            "Epoch [5/30] finished with loss = 0.6633\n",
            "Epoch [6/30], Step [2/9], Loss for last 2 batches: 0.6523\n",
            "Epoch [6/30], Step [4/9], Loss for last 2 batches: 0.6643\n",
            "Epoch [6/30], Step [6/9], Loss for last 2 batches: 0.6718\n",
            "Epoch [6/30], Step [8/9], Loss for last 2 batches: 0.6580\n",
            "Epoch [6/30] finished with loss = 0.6624\n",
            "Epoch [7/30], Step [2/9], Loss for last 2 batches: 0.6661\n",
            "Epoch [7/30], Step [4/9], Loss for last 2 batches: 0.6716\n",
            "Epoch [7/30], Step [6/9], Loss for last 2 batches: 0.6562\n",
            "Epoch [7/30], Step [8/9], Loss for last 2 batches: 0.6553\n",
            "Epoch [7/30] finished with loss = 0.6614\n",
            "Epoch [8/30], Step [2/9], Loss for last 2 batches: 0.6735\n",
            "Epoch [8/30], Step [4/9], Loss for last 2 batches: 0.6482\n",
            "Epoch [8/30], Step [6/9], Loss for last 2 batches: 0.6678\n",
            "Epoch [8/30], Step [8/9], Loss for last 2 batches: 0.6540\n",
            "Epoch [8/30] finished with loss = 0.6606\n",
            "Epoch [9/30], Step [2/9], Loss for last 2 batches: 0.6585\n",
            "Epoch [9/30], Step [4/9], Loss for last 2 batches: 0.6661\n",
            "Epoch [9/30], Step [6/9], Loss for last 2 batches: 0.6685\n",
            "Epoch [9/30], Step [8/9], Loss for last 2 batches: 0.6534\n",
            "Epoch [9/30] finished with loss = 0.6598\n",
            "Epoch [10/30], Step [2/9], Loss for last 2 batches: 0.6727\n",
            "Epoch [10/30], Step [4/9], Loss for last 2 batches: 0.6667\n",
            "Epoch [10/30], Step [6/9], Loss for last 2 batches: 0.6347\n",
            "Epoch [10/30], Step [8/9], Loss for last 2 batches: 0.6571\n",
            "Epoch [10/30] finished with loss = 0.6595\n",
            "Epoch [11/30], Step [2/9], Loss for last 2 batches: 0.6715\n",
            "Epoch [11/30], Step [4/9], Loss for last 2 batches: 0.6665\n",
            "Epoch [11/30], Step [6/9], Loss for last 2 batches: 0.6520\n",
            "Epoch [11/30], Step [8/9], Loss for last 2 batches: 0.6377\n",
            "Epoch [11/30] finished with loss = 0.6589\n",
            "Epoch [12/30], Step [2/9], Loss for last 2 batches: 0.6788\n",
            "Epoch [12/30], Step [4/9], Loss for last 2 batches: 0.6609\n",
            "Epoch [12/30], Step [6/9], Loss for last 2 batches: 0.6610\n",
            "Epoch [12/30], Step [8/9], Loss for last 2 batches: 0.6395\n",
            "Epoch [12/30] finished with loss = 0.6579\n",
            "Epoch [13/30], Step [2/9], Loss for last 2 batches: 0.6329\n",
            "Epoch [13/30], Step [4/9], Loss for last 2 batches: 0.6580\n",
            "Epoch [13/30], Step [6/9], Loss for last 2 batches: 0.6627\n",
            "Epoch [13/30], Step [8/9], Loss for last 2 batches: 0.6677\n",
            "Epoch [13/30] finished with loss = 0.6580\n",
            "Epoch [14/30], Step [2/9], Loss for last 2 batches: 0.6542\n",
            "Epoch [14/30], Step [4/9], Loss for last 2 batches: 0.6654\n",
            "Epoch [14/30], Step [6/9], Loss for last 2 batches: 0.6604\n",
            "Epoch [14/30], Step [8/9], Loss for last 2 batches: 0.6476\n",
            "Epoch [14/30] finished with loss = 0.6572\n",
            "Epoch [15/30], Step [2/9], Loss for last 2 batches: 0.6608\n",
            "Epoch [15/30], Step [4/9], Loss for last 2 batches: 0.6604\n",
            "Epoch [15/30], Step [6/9], Loss for last 2 batches: 0.6591\n",
            "Epoch [15/30], Step [8/9], Loss for last 2 batches: 0.6334\n",
            "Epoch [15/30] finished with loss = 0.6571\n",
            "Epoch [16/30], Step [2/9], Loss for last 2 batches: 0.6492\n",
            "Epoch [16/30], Step [4/9], Loss for last 2 batches: 0.6542\n",
            "Epoch [16/30], Step [6/9], Loss for last 2 batches: 0.6740\n",
            "Epoch [16/30], Step [8/9], Loss for last 2 batches: 0.6556\n",
            "Epoch [16/30] finished with loss = 0.6562\n",
            "Epoch [17/30], Step [2/9], Loss for last 2 batches: 0.6636\n",
            "Epoch [17/30], Step [4/9], Loss for last 2 batches: 0.6459\n",
            "Epoch [17/30], Step [6/9], Loss for last 2 batches: 0.6589\n",
            "Epoch [17/30], Step [8/9], Loss for last 2 batches: 0.6613\n",
            "Epoch [17/30] finished with loss = 0.6559\n",
            "Epoch [18/30], Step [2/9], Loss for last 2 batches: 0.6619\n",
            "Epoch [18/30], Step [4/9], Loss for last 2 batches: 0.6722\n",
            "Epoch [18/30], Step [6/9], Loss for last 2 batches: 0.6534\n",
            "Epoch [18/30], Step [8/9], Loss for last 2 batches: 0.6354\n",
            "Epoch [18/30] finished with loss = 0.6557\n",
            "Epoch [19/30], Step [2/9], Loss for last 2 batches: 0.6340\n",
            "Epoch [19/30], Step [4/9], Loss for last 2 batches: 0.6568\n",
            "Epoch [19/30], Step [6/9], Loss for last 2 batches: 0.6545\n",
            "Epoch [19/30], Step [8/9], Loss for last 2 batches: 0.6608\n",
            "Epoch [19/30] finished with loss = 0.6557\n",
            "Epoch [20/30], Step [2/9], Loss for last 2 batches: 0.6525\n",
            "Epoch [20/30], Step [4/9], Loss for last 2 batches: 0.6722\n",
            "Epoch [20/30], Step [6/9], Loss for last 2 batches: 0.6604\n",
            "Epoch [20/30], Step [8/9], Loss for last 2 batches: 0.6526\n",
            "Epoch [20/30] finished with loss = 0.6546\n",
            "Epoch [21/30], Step [2/9], Loss for last 2 batches: 0.6366\n",
            "Epoch [21/30], Step [4/9], Loss for last 2 batches: 0.6725\n",
            "Epoch [21/30], Step [6/9], Loss for last 2 batches: 0.6513\n",
            "Epoch [21/30], Step [8/9], Loss for last 2 batches: 0.6652\n",
            "Epoch [21/30] finished with loss = 0.6548\n",
            "Epoch [22/30], Step [2/9], Loss for last 2 batches: 0.6556\n",
            "Epoch [22/30], Step [4/9], Loss for last 2 batches: 0.6550\n",
            "Epoch [22/30], Step [6/9], Loss for last 2 batches: 0.6489\n",
            "Epoch [22/30], Step [8/9], Loss for last 2 batches: 0.6472\n",
            "Epoch [22/30] finished with loss = 0.6547\n",
            "Epoch [23/30], Step [2/9], Loss for last 2 batches: 0.6465\n",
            "Epoch [23/30], Step [4/9], Loss for last 2 batches: 0.6658\n",
            "Epoch [23/30], Step [6/9], Loss for last 2 batches: 0.6481\n",
            "Epoch [23/30], Step [8/9], Loss for last 2 batches: 0.6550\n",
            "Epoch [23/30] finished with loss = 0.6543\n",
            "Epoch [24/30], Step [2/9], Loss for last 2 batches: 0.6338\n",
            "Epoch [24/30], Step [4/9], Loss for last 2 batches: 0.6555\n",
            "Epoch [24/30], Step [6/9], Loss for last 2 batches: 0.6518\n",
            "Epoch [24/30], Step [8/9], Loss for last 2 batches: 0.6598\n",
            "Epoch [24/30] finished with loss = 0.6551\n",
            "Epoch [25/30], Step [2/9], Loss for last 2 batches: 0.6692\n",
            "Epoch [25/30], Step [4/9], Loss for last 2 batches: 0.6574\n",
            "Epoch [25/30], Step [6/9], Loss for last 2 batches: 0.6418\n",
            "Epoch [25/30], Step [8/9], Loss for last 2 batches: 0.6424\n",
            "Epoch [25/30] finished with loss = 0.6541\n",
            "Epoch [26/30], Step [2/9], Loss for last 2 batches: 0.6781\n",
            "Epoch [26/30], Step [4/9], Loss for last 2 batches: 0.6251\n",
            "Epoch [26/30], Step [6/9], Loss for last 2 batches: 0.6594\n",
            "Epoch [26/30], Step [8/9], Loss for last 2 batches: 0.6634\n",
            "Epoch [26/30] finished with loss = 0.6534\n",
            "Epoch [27/30], Step [2/9], Loss for last 2 batches: 0.6548\n",
            "Epoch [27/30], Step [4/9], Loss for last 2 batches: 0.6587\n",
            "Epoch [27/30], Step [6/9], Loss for last 2 batches: 0.6477\n",
            "Epoch [27/30], Step [8/9], Loss for last 2 batches: 0.6455\n",
            "Epoch [27/30] finished with loss = 0.6535\n",
            "Epoch [28/30], Step [2/9], Loss for last 2 batches: 0.6595\n",
            "Epoch [28/30], Step [4/9], Loss for last 2 batches: 0.6635\n",
            "Epoch [28/30], Step [6/9], Loss for last 2 batches: 0.6524\n",
            "Epoch [28/30], Step [8/9], Loss for last 2 batches: 0.6578\n",
            "Epoch [28/30] finished with loss = 0.6527\n",
            "Epoch [29/30], Step [2/9], Loss for last 2 batches: 0.6748\n",
            "Epoch [29/30], Step [4/9], Loss for last 2 batches: 0.6487\n",
            "Epoch [29/30], Step [6/9], Loss for last 2 batches: 0.6312\n",
            "Epoch [29/30], Step [8/9], Loss for last 2 batches: 0.6498\n",
            "Epoch [29/30] finished with loss = 0.6536\n",
            "Epoch [30/30], Step [2/9], Loss for last 2 batches: 0.6584\n",
            "Epoch [30/30], Step [4/9], Loss for last 2 batches: 0.6650\n",
            "Epoch [30/30], Step [6/9], Loss for last 2 batches: 0.6507\n",
            "Epoch [30/30], Step [8/9], Loss for last 2 batches: 0.6409\n",
            "Epoch [30/30] finished with loss = 0.6530\n"
          ]
        }
      ],
      "source": [
        "iter_per_epoch = len(train_loader)\n",
        "num_epochs = 30\n",
        "initial_epoch = 1\n",
        "log_nth = 2\n",
        "storing_frequency = 15\n",
        "checkpoints_path = \"/content/drive/MyDrive/ExplainableAI/Model/Saliency/checkpoints\"\n",
        "\n",
        "for epoch in range(initial_epoch, initial_epoch+num_epochs):\n",
        "    basic_classifier.train()\n",
        "    epoch_losses = []\n",
        "    for i, (data, y_label) in enumerate(train_loader):\n",
        "      optimizer.zero_grad()\n",
        "      out = basic_classifier(data)\n",
        "      loss = c(out, y_label)\n",
        "      epoch_losses.append(loss.item())\n",
        "      loss.backward()\n",
        "      optimizer.step()\n",
        "\n",
        "      if (i+1) % log_nth == 0:        \n",
        "          print ('Epoch [{}/{}], Step [{}/{}], Loss for last {} batches: {:.4f}' \n",
        "                  .format(epoch, num_epochs, i+1, iter_per_epoch, log_nth, np.mean(np.array(epoch_losses[-log_nth:]))))\n",
        "          #print_time()\n",
        "      \n",
        "      if (i+1) % storing_frequency == 0:        \n",
        "          print('Storing with loss for last {} batches = {}'.format(storing_frequency, np.mean(np.array(epoch_losses[-storing_frequency:]))))\n",
        "          #print_time()\n",
        "          #torch.save(basic_classifier.state_dict(), checkpoints_path+\"/final_model_epoch_{}_{}.checkpoint\".format(epoch, i+1))\n",
        "  \n",
        "    # Store after whole epoch\n",
        "    print ('Epoch [{}/{}] finished with loss = {:.4f}'.format(epoch, num_epochs, np.mean(np.array(epoch_losses))))\n",
        "    #torch.save(basic_classifier.state_dict(), checkpoints_path+\"/final_model_epoch_{}.checkpoint\".format(epoch))"
      ]
    },
    {
      "cell_type": "code",
      "execution_count": 105,
      "metadata": {
        "id": "JUN1zRwzDVmm"
      },
      "outputs": [],
      "source": [
        "nn_pred = basic_classifier(torch.tensor(x_test.astype('float32')).to(device))"
      ]
    },
    {
      "cell_type": "code",
      "execution_count": 106,
      "metadata": {
        "id": "nvTcF71WDVmn"
      },
      "outputs": [],
      "source": [
        "nn_pred = nn_pred.flatten().detach().cpu().numpy().round()"
      ]
    },
    {
      "cell_type": "code",
      "execution_count": 107,
      "metadata": {
        "colab": {
          "base_uri": "https://localhost:8080/"
        },
        "id": "iz0OohekDVmo",
        "outputId": "6445cbbb-a416-4439-afb4-c8a9077a7b92"
      },
      "outputs": [
        {
          "output_type": "execute_result",
          "data": {
            "text/plain": [
              "0.658"
            ]
          },
          "metadata": {},
          "execution_count": 107
        }
      ],
      "source": [
        "np.sum(nn_pred==y_test)/len(y_test)"
      ]
    },
    {
      "cell_type": "code",
      "execution_count": 108,
      "metadata": {
        "colab": {
          "base_uri": "https://localhost:8080/"
        },
        "id": "mGgUvOOkDVmp",
        "outputId": "85e826c4-ffd6-4b0c-8022-49a2af5ef50a"
      },
      "outputs": [
        {
          "output_type": "stream",
          "name": "stdout",
          "text": [
            "              precision    recall  f1-score   support\n",
            "\n",
            "         0.0      0.611     0.906     0.730       255\n",
            "         1.0      0.803     0.400     0.534       245\n",
            "\n",
            "    accuracy                          0.658       500\n",
            "   macro avg      0.707     0.653     0.632       500\n",
            "weighted avg      0.705     0.658     0.634       500\n",
            "\n",
            "[[231  24]\n",
            " [147  98]]\n"
          ]
        }
      ],
      "source": [
        "print(classification_report(y_test, nn_pred, digits=3))\n",
        "print(confusion_matrix(y_test, nn_pred))"
      ]
    },
    {
      "cell_type": "code",
      "source": [
        ""
      ],
      "metadata": {
        "id": "6gE_q0NlxHnV"
      },
      "execution_count": null,
      "outputs": []
    }
  ],
  "metadata": {
    "accelerator": "GPU",
    "colab": {
      "collapsed_sections": [],
      "machine_shape": "hm",
      "name": "Training_Classifier.ipynb",
      "provenance": []
    },
    "kernelspec": {
      "display_name": "Python 3",
      "language": "python",
      "name": "python3"
    },
    "language_info": {
      "codemirror_mode": {
        "name": "ipython",
        "version": 3
      },
      "file_extension": ".py",
      "mimetype": "text/x-python",
      "name": "python",
      "nbconvert_exporter": "python",
      "pygments_lexer": "ipython3",
      "version": "3.8.5"
    },
    "widgets": {
      "application/vnd.jupyter.widget-state+json": {
        "7c4c18f66aa34888bcf48fbabc4af00c": {
          "model_module": "@jupyter-widgets/controls",
          "model_name": "HBoxModel",
          "model_module_version": "1.5.0",
          "state": {
            "_dom_classes": [],
            "_model_module": "@jupyter-widgets/controls",
            "_model_module_version": "1.5.0",
            "_model_name": "HBoxModel",
            "_view_count": null,
            "_view_module": "@jupyter-widgets/controls",
            "_view_module_version": "1.5.0",
            "_view_name": "HBoxView",
            "box_style": "",
            "children": [
              "IPY_MODEL_7745dae308f94827aca22949206a3dfe",
              "IPY_MODEL_f12be93c069141b3b80401f858e73a40",
              "IPY_MODEL_3e6eeef6fbbf4a96ab885236ee3f2454"
            ],
            "layout": "IPY_MODEL_4257a964dfe040abb8a9863d972192f4"
          }
        },
        "7745dae308f94827aca22949206a3dfe": {
          "model_module": "@jupyter-widgets/controls",
          "model_name": "HTMLModel",
          "model_module_version": "1.5.0",
          "state": {
            "_dom_classes": [],
            "_model_module": "@jupyter-widgets/controls",
            "_model_module_version": "1.5.0",
            "_model_name": "HTMLModel",
            "_view_count": null,
            "_view_module": "@jupyter-widgets/controls",
            "_view_module_version": "1.5.0",
            "_view_name": "HTMLView",
            "description": "",
            "description_tooltip": null,
            "layout": "IPY_MODEL_3efab255cec940b5aa583e1b1257972c",
            "placeholder": "​",
            "style": "IPY_MODEL_dd80448270fa471d8708f6707675fb77",
            "value": "Downloading: 100%"
          }
        },
        "f12be93c069141b3b80401f858e73a40": {
          "model_module": "@jupyter-widgets/controls",
          "model_name": "FloatProgressModel",
          "model_module_version": "1.5.0",
          "state": {
            "_dom_classes": [],
            "_model_module": "@jupyter-widgets/controls",
            "_model_module_version": "1.5.0",
            "_model_name": "FloatProgressModel",
            "_view_count": null,
            "_view_module": "@jupyter-widgets/controls",
            "_view_module_version": "1.5.0",
            "_view_name": "ProgressView",
            "bar_style": "success",
            "description": "",
            "description_tooltip": null,
            "layout": "IPY_MODEL_7168e1c77ff244e8b336feb7947aef63",
            "max": 231508,
            "min": 0,
            "orientation": "horizontal",
            "style": "IPY_MODEL_ed31385327534fe7ae1635e1e10153bf",
            "value": 231508
          }
        },
        "3e6eeef6fbbf4a96ab885236ee3f2454": {
          "model_module": "@jupyter-widgets/controls",
          "model_name": "HTMLModel",
          "model_module_version": "1.5.0",
          "state": {
            "_dom_classes": [],
            "_model_module": "@jupyter-widgets/controls",
            "_model_module_version": "1.5.0",
            "_model_name": "HTMLModel",
            "_view_count": null,
            "_view_module": "@jupyter-widgets/controls",
            "_view_module_version": "1.5.0",
            "_view_name": "HTMLView",
            "description": "",
            "description_tooltip": null,
            "layout": "IPY_MODEL_e44c270e1afd4ff8955ef1aa69921557",
            "placeholder": "​",
            "style": "IPY_MODEL_acd9e32b71244ab5a2238e58987e849c",
            "value": " 226k/226k [00:00&lt;00:00, 344kB/s]"
          }
        },
        "4257a964dfe040abb8a9863d972192f4": {
          "model_module": "@jupyter-widgets/base",
          "model_name": "LayoutModel",
          "model_module_version": "1.2.0",
          "state": {
            "_model_module": "@jupyter-widgets/base",
            "_model_module_version": "1.2.0",
            "_model_name": "LayoutModel",
            "_view_count": null,
            "_view_module": "@jupyter-widgets/base",
            "_view_module_version": "1.2.0",
            "_view_name": "LayoutView",
            "align_content": null,
            "align_items": null,
            "align_self": null,
            "border": null,
            "bottom": null,
            "display": null,
            "flex": null,
            "flex_flow": null,
            "grid_area": null,
            "grid_auto_columns": null,
            "grid_auto_flow": null,
            "grid_auto_rows": null,
            "grid_column": null,
            "grid_gap": null,
            "grid_row": null,
            "grid_template_areas": null,
            "grid_template_columns": null,
            "grid_template_rows": null,
            "height": null,
            "justify_content": null,
            "justify_items": null,
            "left": null,
            "margin": null,
            "max_height": null,
            "max_width": null,
            "min_height": null,
            "min_width": null,
            "object_fit": null,
            "object_position": null,
            "order": null,
            "overflow": null,
            "overflow_x": null,
            "overflow_y": null,
            "padding": null,
            "right": null,
            "top": null,
            "visibility": null,
            "width": null
          }
        },
        "3efab255cec940b5aa583e1b1257972c": {
          "model_module": "@jupyter-widgets/base",
          "model_name": "LayoutModel",
          "model_module_version": "1.2.0",
          "state": {
            "_model_module": "@jupyter-widgets/base",
            "_model_module_version": "1.2.0",
            "_model_name": "LayoutModel",
            "_view_count": null,
            "_view_module": "@jupyter-widgets/base",
            "_view_module_version": "1.2.0",
            "_view_name": "LayoutView",
            "align_content": null,
            "align_items": null,
            "align_self": null,
            "border": null,
            "bottom": null,
            "display": null,
            "flex": null,
            "flex_flow": null,
            "grid_area": null,
            "grid_auto_columns": null,
            "grid_auto_flow": null,
            "grid_auto_rows": null,
            "grid_column": null,
            "grid_gap": null,
            "grid_row": null,
            "grid_template_areas": null,
            "grid_template_columns": null,
            "grid_template_rows": null,
            "height": null,
            "justify_content": null,
            "justify_items": null,
            "left": null,
            "margin": null,
            "max_height": null,
            "max_width": null,
            "min_height": null,
            "min_width": null,
            "object_fit": null,
            "object_position": null,
            "order": null,
            "overflow": null,
            "overflow_x": null,
            "overflow_y": null,
            "padding": null,
            "right": null,
            "top": null,
            "visibility": null,
            "width": null
          }
        },
        "dd80448270fa471d8708f6707675fb77": {
          "model_module": "@jupyter-widgets/controls",
          "model_name": "DescriptionStyleModel",
          "model_module_version": "1.5.0",
          "state": {
            "_model_module": "@jupyter-widgets/controls",
            "_model_module_version": "1.5.0",
            "_model_name": "DescriptionStyleModel",
            "_view_count": null,
            "_view_module": "@jupyter-widgets/base",
            "_view_module_version": "1.2.0",
            "_view_name": "StyleView",
            "description_width": ""
          }
        },
        "7168e1c77ff244e8b336feb7947aef63": {
          "model_module": "@jupyter-widgets/base",
          "model_name": "LayoutModel",
          "model_module_version": "1.2.0",
          "state": {
            "_model_module": "@jupyter-widgets/base",
            "_model_module_version": "1.2.0",
            "_model_name": "LayoutModel",
            "_view_count": null,
            "_view_module": "@jupyter-widgets/base",
            "_view_module_version": "1.2.0",
            "_view_name": "LayoutView",
            "align_content": null,
            "align_items": null,
            "align_self": null,
            "border": null,
            "bottom": null,
            "display": null,
            "flex": null,
            "flex_flow": null,
            "grid_area": null,
            "grid_auto_columns": null,
            "grid_auto_flow": null,
            "grid_auto_rows": null,
            "grid_column": null,
            "grid_gap": null,
            "grid_row": null,
            "grid_template_areas": null,
            "grid_template_columns": null,
            "grid_template_rows": null,
            "height": null,
            "justify_content": null,
            "justify_items": null,
            "left": null,
            "margin": null,
            "max_height": null,
            "max_width": null,
            "min_height": null,
            "min_width": null,
            "object_fit": null,
            "object_position": null,
            "order": null,
            "overflow": null,
            "overflow_x": null,
            "overflow_y": null,
            "padding": null,
            "right": null,
            "top": null,
            "visibility": null,
            "width": null
          }
        },
        "ed31385327534fe7ae1635e1e10153bf": {
          "model_module": "@jupyter-widgets/controls",
          "model_name": "ProgressStyleModel",
          "model_module_version": "1.5.0",
          "state": {
            "_model_module": "@jupyter-widgets/controls",
            "_model_module_version": "1.5.0",
            "_model_name": "ProgressStyleModel",
            "_view_count": null,
            "_view_module": "@jupyter-widgets/base",
            "_view_module_version": "1.2.0",
            "_view_name": "StyleView",
            "bar_color": null,
            "description_width": ""
          }
        },
        "e44c270e1afd4ff8955ef1aa69921557": {
          "model_module": "@jupyter-widgets/base",
          "model_name": "LayoutModel",
          "model_module_version": "1.2.0",
          "state": {
            "_model_module": "@jupyter-widgets/base",
            "_model_module_version": "1.2.0",
            "_model_name": "LayoutModel",
            "_view_count": null,
            "_view_module": "@jupyter-widgets/base",
            "_view_module_version": "1.2.0",
            "_view_name": "LayoutView",
            "align_content": null,
            "align_items": null,
            "align_self": null,
            "border": null,
            "bottom": null,
            "display": null,
            "flex": null,
            "flex_flow": null,
            "grid_area": null,
            "grid_auto_columns": null,
            "grid_auto_flow": null,
            "grid_auto_rows": null,
            "grid_column": null,
            "grid_gap": null,
            "grid_row": null,
            "grid_template_areas": null,
            "grid_template_columns": null,
            "grid_template_rows": null,
            "height": null,
            "justify_content": null,
            "justify_items": null,
            "left": null,
            "margin": null,
            "max_height": null,
            "max_width": null,
            "min_height": null,
            "min_width": null,
            "object_fit": null,
            "object_position": null,
            "order": null,
            "overflow": null,
            "overflow_x": null,
            "overflow_y": null,
            "padding": null,
            "right": null,
            "top": null,
            "visibility": null,
            "width": null
          }
        },
        "acd9e32b71244ab5a2238e58987e849c": {
          "model_module": "@jupyter-widgets/controls",
          "model_name": "DescriptionStyleModel",
          "model_module_version": "1.5.0",
          "state": {
            "_model_module": "@jupyter-widgets/controls",
            "_model_module_version": "1.5.0",
            "_model_name": "DescriptionStyleModel",
            "_view_count": null,
            "_view_module": "@jupyter-widgets/base",
            "_view_module_version": "1.2.0",
            "_view_name": "StyleView",
            "description_width": ""
          }
        },
        "8d9100d3ae4c49e5a5ad38018b4a7441": {
          "model_module": "@jupyter-widgets/controls",
          "model_name": "HBoxModel",
          "model_module_version": "1.5.0",
          "state": {
            "_dom_classes": [],
            "_model_module": "@jupyter-widgets/controls",
            "_model_module_version": "1.5.0",
            "_model_name": "HBoxModel",
            "_view_count": null,
            "_view_module": "@jupyter-widgets/controls",
            "_view_module_version": "1.5.0",
            "_view_name": "HBoxView",
            "box_style": "",
            "children": [
              "IPY_MODEL_06090f4245f04ae899b81fc3f8c6c98e",
              "IPY_MODEL_6be950f3a69241c88fc7abfec6697483",
              "IPY_MODEL_8578526fd53d482186ab3f4937b834b1"
            ],
            "layout": "IPY_MODEL_877da4e3b8b24f4080ec95a36193da3c"
          }
        },
        "06090f4245f04ae899b81fc3f8c6c98e": {
          "model_module": "@jupyter-widgets/controls",
          "model_name": "HTMLModel",
          "model_module_version": "1.5.0",
          "state": {
            "_dom_classes": [],
            "_model_module": "@jupyter-widgets/controls",
            "_model_module_version": "1.5.0",
            "_model_name": "HTMLModel",
            "_view_count": null,
            "_view_module": "@jupyter-widgets/controls",
            "_view_module_version": "1.5.0",
            "_view_name": "HTMLView",
            "description": "",
            "description_tooltip": null,
            "layout": "IPY_MODEL_47362e7503184e9b80417eb84951b77b",
            "placeholder": "​",
            "style": "IPY_MODEL_9ffada67fc9d4259ad0e524440d9370c",
            "value": "Downloading: 100%"
          }
        },
        "6be950f3a69241c88fc7abfec6697483": {
          "model_module": "@jupyter-widgets/controls",
          "model_name": "FloatProgressModel",
          "model_module_version": "1.5.0",
          "state": {
            "_dom_classes": [],
            "_model_module": "@jupyter-widgets/controls",
            "_model_module_version": "1.5.0",
            "_model_name": "FloatProgressModel",
            "_view_count": null,
            "_view_module": "@jupyter-widgets/controls",
            "_view_module_version": "1.5.0",
            "_view_name": "ProgressView",
            "bar_style": "success",
            "description": "",
            "description_tooltip": null,
            "layout": "IPY_MODEL_31571591431f4fd690c77cbd8a53a4d7",
            "max": 112,
            "min": 0,
            "orientation": "horizontal",
            "style": "IPY_MODEL_ed77502bccc645c5a563498eef3b0678",
            "value": 112
          }
        },
        "8578526fd53d482186ab3f4937b834b1": {
          "model_module": "@jupyter-widgets/controls",
          "model_name": "HTMLModel",
          "model_module_version": "1.5.0",
          "state": {
            "_dom_classes": [],
            "_model_module": "@jupyter-widgets/controls",
            "_model_module_version": "1.5.0",
            "_model_name": "HTMLModel",
            "_view_count": null,
            "_view_module": "@jupyter-widgets/controls",
            "_view_module_version": "1.5.0",
            "_view_name": "HTMLView",
            "description": "",
            "description_tooltip": null,
            "layout": "IPY_MODEL_4f7e9385cfcf41d3a0f611703e0f927d",
            "placeholder": "​",
            "style": "IPY_MODEL_be976df232ee4e85bd576f2927b3913c",
            "value": " 112/112 [00:00&lt;00:00, 4.96kB/s]"
          }
        },
        "877da4e3b8b24f4080ec95a36193da3c": {
          "model_module": "@jupyter-widgets/base",
          "model_name": "LayoutModel",
          "model_module_version": "1.2.0",
          "state": {
            "_model_module": "@jupyter-widgets/base",
            "_model_module_version": "1.2.0",
            "_model_name": "LayoutModel",
            "_view_count": null,
            "_view_module": "@jupyter-widgets/base",
            "_view_module_version": "1.2.0",
            "_view_name": "LayoutView",
            "align_content": null,
            "align_items": null,
            "align_self": null,
            "border": null,
            "bottom": null,
            "display": null,
            "flex": null,
            "flex_flow": null,
            "grid_area": null,
            "grid_auto_columns": null,
            "grid_auto_flow": null,
            "grid_auto_rows": null,
            "grid_column": null,
            "grid_gap": null,
            "grid_row": null,
            "grid_template_areas": null,
            "grid_template_columns": null,
            "grid_template_rows": null,
            "height": null,
            "justify_content": null,
            "justify_items": null,
            "left": null,
            "margin": null,
            "max_height": null,
            "max_width": null,
            "min_height": null,
            "min_width": null,
            "object_fit": null,
            "object_position": null,
            "order": null,
            "overflow": null,
            "overflow_x": null,
            "overflow_y": null,
            "padding": null,
            "right": null,
            "top": null,
            "visibility": null,
            "width": null
          }
        },
        "47362e7503184e9b80417eb84951b77b": {
          "model_module": "@jupyter-widgets/base",
          "model_name": "LayoutModel",
          "model_module_version": "1.2.0",
          "state": {
            "_model_module": "@jupyter-widgets/base",
            "_model_module_version": "1.2.0",
            "_model_name": "LayoutModel",
            "_view_count": null,
            "_view_module": "@jupyter-widgets/base",
            "_view_module_version": "1.2.0",
            "_view_name": "LayoutView",
            "align_content": null,
            "align_items": null,
            "align_self": null,
            "border": null,
            "bottom": null,
            "display": null,
            "flex": null,
            "flex_flow": null,
            "grid_area": null,
            "grid_auto_columns": null,
            "grid_auto_flow": null,
            "grid_auto_rows": null,
            "grid_column": null,
            "grid_gap": null,
            "grid_row": null,
            "grid_template_areas": null,
            "grid_template_columns": null,
            "grid_template_rows": null,
            "height": null,
            "justify_content": null,
            "justify_items": null,
            "left": null,
            "margin": null,
            "max_height": null,
            "max_width": null,
            "min_height": null,
            "min_width": null,
            "object_fit": null,
            "object_position": null,
            "order": null,
            "overflow": null,
            "overflow_x": null,
            "overflow_y": null,
            "padding": null,
            "right": null,
            "top": null,
            "visibility": null,
            "width": null
          }
        },
        "9ffada67fc9d4259ad0e524440d9370c": {
          "model_module": "@jupyter-widgets/controls",
          "model_name": "DescriptionStyleModel",
          "model_module_version": "1.5.0",
          "state": {
            "_model_module": "@jupyter-widgets/controls",
            "_model_module_version": "1.5.0",
            "_model_name": "DescriptionStyleModel",
            "_view_count": null,
            "_view_module": "@jupyter-widgets/base",
            "_view_module_version": "1.2.0",
            "_view_name": "StyleView",
            "description_width": ""
          }
        },
        "31571591431f4fd690c77cbd8a53a4d7": {
          "model_module": "@jupyter-widgets/base",
          "model_name": "LayoutModel",
          "model_module_version": "1.2.0",
          "state": {
            "_model_module": "@jupyter-widgets/base",
            "_model_module_version": "1.2.0",
            "_model_name": "LayoutModel",
            "_view_count": null,
            "_view_module": "@jupyter-widgets/base",
            "_view_module_version": "1.2.0",
            "_view_name": "LayoutView",
            "align_content": null,
            "align_items": null,
            "align_self": null,
            "border": null,
            "bottom": null,
            "display": null,
            "flex": null,
            "flex_flow": null,
            "grid_area": null,
            "grid_auto_columns": null,
            "grid_auto_flow": null,
            "grid_auto_rows": null,
            "grid_column": null,
            "grid_gap": null,
            "grid_row": null,
            "grid_template_areas": null,
            "grid_template_columns": null,
            "grid_template_rows": null,
            "height": null,
            "justify_content": null,
            "justify_items": null,
            "left": null,
            "margin": null,
            "max_height": null,
            "max_width": null,
            "min_height": null,
            "min_width": null,
            "object_fit": null,
            "object_position": null,
            "order": null,
            "overflow": null,
            "overflow_x": null,
            "overflow_y": null,
            "padding": null,
            "right": null,
            "top": null,
            "visibility": null,
            "width": null
          }
        },
        "ed77502bccc645c5a563498eef3b0678": {
          "model_module": "@jupyter-widgets/controls",
          "model_name": "ProgressStyleModel",
          "model_module_version": "1.5.0",
          "state": {
            "_model_module": "@jupyter-widgets/controls",
            "_model_module_version": "1.5.0",
            "_model_name": "ProgressStyleModel",
            "_view_count": null,
            "_view_module": "@jupyter-widgets/base",
            "_view_module_version": "1.2.0",
            "_view_name": "StyleView",
            "bar_color": null,
            "description_width": ""
          }
        },
        "4f7e9385cfcf41d3a0f611703e0f927d": {
          "model_module": "@jupyter-widgets/base",
          "model_name": "LayoutModel",
          "model_module_version": "1.2.0",
          "state": {
            "_model_module": "@jupyter-widgets/base",
            "_model_module_version": "1.2.0",
            "_model_name": "LayoutModel",
            "_view_count": null,
            "_view_module": "@jupyter-widgets/base",
            "_view_module_version": "1.2.0",
            "_view_name": "LayoutView",
            "align_content": null,
            "align_items": null,
            "align_self": null,
            "border": null,
            "bottom": null,
            "display": null,
            "flex": null,
            "flex_flow": null,
            "grid_area": null,
            "grid_auto_columns": null,
            "grid_auto_flow": null,
            "grid_auto_rows": null,
            "grid_column": null,
            "grid_gap": null,
            "grid_row": null,
            "grid_template_areas": null,
            "grid_template_columns": null,
            "grid_template_rows": null,
            "height": null,
            "justify_content": null,
            "justify_items": null,
            "left": null,
            "margin": null,
            "max_height": null,
            "max_width": null,
            "min_height": null,
            "min_width": null,
            "object_fit": null,
            "object_position": null,
            "order": null,
            "overflow": null,
            "overflow_x": null,
            "overflow_y": null,
            "padding": null,
            "right": null,
            "top": null,
            "visibility": null,
            "width": null
          }
        },
        "be976df232ee4e85bd576f2927b3913c": {
          "model_module": "@jupyter-widgets/controls",
          "model_name": "DescriptionStyleModel",
          "model_module_version": "1.5.0",
          "state": {
            "_model_module": "@jupyter-widgets/controls",
            "_model_module_version": "1.5.0",
            "_model_name": "DescriptionStyleModel",
            "_view_count": null,
            "_view_module": "@jupyter-widgets/base",
            "_view_module_version": "1.2.0",
            "_view_name": "StyleView",
            "description_width": ""
          }
        },
        "307cc21330b445148e621e4aced6e4ea": {
          "model_module": "@jupyter-widgets/controls",
          "model_name": "HBoxModel",
          "model_module_version": "1.5.0",
          "state": {
            "_dom_classes": [],
            "_model_module": "@jupyter-widgets/controls",
            "_model_module_version": "1.5.0",
            "_model_name": "HBoxModel",
            "_view_count": null,
            "_view_module": "@jupyter-widgets/controls",
            "_view_module_version": "1.5.0",
            "_view_name": "HBoxView",
            "box_style": "",
            "children": [
              "IPY_MODEL_5267bbb23a054b09b7f4c85e1e897456",
              "IPY_MODEL_5faa7e2e87ff463bb0168953770f2578",
              "IPY_MODEL_da6f74fd7a6444d48a6066c8a1a60bee"
            ],
            "layout": "IPY_MODEL_a614fd66db4e485faa2ef9334f9f016f"
          }
        },
        "5267bbb23a054b09b7f4c85e1e897456": {
          "model_module": "@jupyter-widgets/controls",
          "model_name": "HTMLModel",
          "model_module_version": "1.5.0",
          "state": {
            "_dom_classes": [],
            "_model_module": "@jupyter-widgets/controls",
            "_model_module_version": "1.5.0",
            "_model_name": "HTMLModel",
            "_view_count": null,
            "_view_module": "@jupyter-widgets/controls",
            "_view_module_version": "1.5.0",
            "_view_name": "HTMLView",
            "description": "",
            "description_tooltip": null,
            "layout": "IPY_MODEL_180c080267ef42b3b68c25ca96b7be64",
            "placeholder": "​",
            "style": "IPY_MODEL_448fbb1338a14b34abdc924968e9f917",
            "value": "Downloading: 100%"
          }
        },
        "5faa7e2e87ff463bb0168953770f2578": {
          "model_module": "@jupyter-widgets/controls",
          "model_name": "FloatProgressModel",
          "model_module_version": "1.5.0",
          "state": {
            "_dom_classes": [],
            "_model_module": "@jupyter-widgets/controls",
            "_model_module_version": "1.5.0",
            "_model_name": "FloatProgressModel",
            "_view_count": null,
            "_view_module": "@jupyter-widgets/controls",
            "_view_module_version": "1.5.0",
            "_view_name": "ProgressView",
            "bar_style": "success",
            "description": "",
            "description_tooltip": null,
            "layout": "IPY_MODEL_10582fc6bec24488b906fa9635337a79",
            "max": 48,
            "min": 0,
            "orientation": "horizontal",
            "style": "IPY_MODEL_cbc93f537806494488f6de0f6fa7fd88",
            "value": 48
          }
        },
        "da6f74fd7a6444d48a6066c8a1a60bee": {
          "model_module": "@jupyter-widgets/controls",
          "model_name": "HTMLModel",
          "model_module_version": "1.5.0",
          "state": {
            "_dom_classes": [],
            "_model_module": "@jupyter-widgets/controls",
            "_model_module_version": "1.5.0",
            "_model_name": "HTMLModel",
            "_view_count": null,
            "_view_module": "@jupyter-widgets/controls",
            "_view_module_version": "1.5.0",
            "_view_name": "HTMLView",
            "description": "",
            "description_tooltip": null,
            "layout": "IPY_MODEL_0069aa9c1ac546b196cfcc88fdea5b2d",
            "placeholder": "​",
            "style": "IPY_MODEL_4f8dc5c23d0f4ac080d2b1cf00d1894a",
            "value": " 48.0/48.0 [00:00&lt;00:00, 2.02kB/s]"
          }
        },
        "a614fd66db4e485faa2ef9334f9f016f": {
          "model_module": "@jupyter-widgets/base",
          "model_name": "LayoutModel",
          "model_module_version": "1.2.0",
          "state": {
            "_model_module": "@jupyter-widgets/base",
            "_model_module_version": "1.2.0",
            "_model_name": "LayoutModel",
            "_view_count": null,
            "_view_module": "@jupyter-widgets/base",
            "_view_module_version": "1.2.0",
            "_view_name": "LayoutView",
            "align_content": null,
            "align_items": null,
            "align_self": null,
            "border": null,
            "bottom": null,
            "display": null,
            "flex": null,
            "flex_flow": null,
            "grid_area": null,
            "grid_auto_columns": null,
            "grid_auto_flow": null,
            "grid_auto_rows": null,
            "grid_column": null,
            "grid_gap": null,
            "grid_row": null,
            "grid_template_areas": null,
            "grid_template_columns": null,
            "grid_template_rows": null,
            "height": null,
            "justify_content": null,
            "justify_items": null,
            "left": null,
            "margin": null,
            "max_height": null,
            "max_width": null,
            "min_height": null,
            "min_width": null,
            "object_fit": null,
            "object_position": null,
            "order": null,
            "overflow": null,
            "overflow_x": null,
            "overflow_y": null,
            "padding": null,
            "right": null,
            "top": null,
            "visibility": null,
            "width": null
          }
        },
        "180c080267ef42b3b68c25ca96b7be64": {
          "model_module": "@jupyter-widgets/base",
          "model_name": "LayoutModel",
          "model_module_version": "1.2.0",
          "state": {
            "_model_module": "@jupyter-widgets/base",
            "_model_module_version": "1.2.0",
            "_model_name": "LayoutModel",
            "_view_count": null,
            "_view_module": "@jupyter-widgets/base",
            "_view_module_version": "1.2.0",
            "_view_name": "LayoutView",
            "align_content": null,
            "align_items": null,
            "align_self": null,
            "border": null,
            "bottom": null,
            "display": null,
            "flex": null,
            "flex_flow": null,
            "grid_area": null,
            "grid_auto_columns": null,
            "grid_auto_flow": null,
            "grid_auto_rows": null,
            "grid_column": null,
            "grid_gap": null,
            "grid_row": null,
            "grid_template_areas": null,
            "grid_template_columns": null,
            "grid_template_rows": null,
            "height": null,
            "justify_content": null,
            "justify_items": null,
            "left": null,
            "margin": null,
            "max_height": null,
            "max_width": null,
            "min_height": null,
            "min_width": null,
            "object_fit": null,
            "object_position": null,
            "order": null,
            "overflow": null,
            "overflow_x": null,
            "overflow_y": null,
            "padding": null,
            "right": null,
            "top": null,
            "visibility": null,
            "width": null
          }
        },
        "448fbb1338a14b34abdc924968e9f917": {
          "model_module": "@jupyter-widgets/controls",
          "model_name": "DescriptionStyleModel",
          "model_module_version": "1.5.0",
          "state": {
            "_model_module": "@jupyter-widgets/controls",
            "_model_module_version": "1.5.0",
            "_model_name": "DescriptionStyleModel",
            "_view_count": null,
            "_view_module": "@jupyter-widgets/base",
            "_view_module_version": "1.2.0",
            "_view_name": "StyleView",
            "description_width": ""
          }
        },
        "10582fc6bec24488b906fa9635337a79": {
          "model_module": "@jupyter-widgets/base",
          "model_name": "LayoutModel",
          "model_module_version": "1.2.0",
          "state": {
            "_model_module": "@jupyter-widgets/base",
            "_model_module_version": "1.2.0",
            "_model_name": "LayoutModel",
            "_view_count": null,
            "_view_module": "@jupyter-widgets/base",
            "_view_module_version": "1.2.0",
            "_view_name": "LayoutView",
            "align_content": null,
            "align_items": null,
            "align_self": null,
            "border": null,
            "bottom": null,
            "display": null,
            "flex": null,
            "flex_flow": null,
            "grid_area": null,
            "grid_auto_columns": null,
            "grid_auto_flow": null,
            "grid_auto_rows": null,
            "grid_column": null,
            "grid_gap": null,
            "grid_row": null,
            "grid_template_areas": null,
            "grid_template_columns": null,
            "grid_template_rows": null,
            "height": null,
            "justify_content": null,
            "justify_items": null,
            "left": null,
            "margin": null,
            "max_height": null,
            "max_width": null,
            "min_height": null,
            "min_width": null,
            "object_fit": null,
            "object_position": null,
            "order": null,
            "overflow": null,
            "overflow_x": null,
            "overflow_y": null,
            "padding": null,
            "right": null,
            "top": null,
            "visibility": null,
            "width": null
          }
        },
        "cbc93f537806494488f6de0f6fa7fd88": {
          "model_module": "@jupyter-widgets/controls",
          "model_name": "ProgressStyleModel",
          "model_module_version": "1.5.0",
          "state": {
            "_model_module": "@jupyter-widgets/controls",
            "_model_module_version": "1.5.0",
            "_model_name": "ProgressStyleModel",
            "_view_count": null,
            "_view_module": "@jupyter-widgets/base",
            "_view_module_version": "1.2.0",
            "_view_name": "StyleView",
            "bar_color": null,
            "description_width": ""
          }
        },
        "0069aa9c1ac546b196cfcc88fdea5b2d": {
          "model_module": "@jupyter-widgets/base",
          "model_name": "LayoutModel",
          "model_module_version": "1.2.0",
          "state": {
            "_model_module": "@jupyter-widgets/base",
            "_model_module_version": "1.2.0",
            "_model_name": "LayoutModel",
            "_view_count": null,
            "_view_module": "@jupyter-widgets/base",
            "_view_module_version": "1.2.0",
            "_view_name": "LayoutView",
            "align_content": null,
            "align_items": null,
            "align_self": null,
            "border": null,
            "bottom": null,
            "display": null,
            "flex": null,
            "flex_flow": null,
            "grid_area": null,
            "grid_auto_columns": null,
            "grid_auto_flow": null,
            "grid_auto_rows": null,
            "grid_column": null,
            "grid_gap": null,
            "grid_row": null,
            "grid_template_areas": null,
            "grid_template_columns": null,
            "grid_template_rows": null,
            "height": null,
            "justify_content": null,
            "justify_items": null,
            "left": null,
            "margin": null,
            "max_height": null,
            "max_width": null,
            "min_height": null,
            "min_width": null,
            "object_fit": null,
            "object_position": null,
            "order": null,
            "overflow": null,
            "overflow_x": null,
            "overflow_y": null,
            "padding": null,
            "right": null,
            "top": null,
            "visibility": null,
            "width": null
          }
        },
        "4f8dc5c23d0f4ac080d2b1cf00d1894a": {
          "model_module": "@jupyter-widgets/controls",
          "model_name": "DescriptionStyleModel",
          "model_module_version": "1.5.0",
          "state": {
            "_model_module": "@jupyter-widgets/controls",
            "_model_module_version": "1.5.0",
            "_model_name": "DescriptionStyleModel",
            "_view_count": null,
            "_view_module": "@jupyter-widgets/base",
            "_view_module_version": "1.2.0",
            "_view_name": "StyleView",
            "description_width": ""
          }
        },
        "211163aa1875405fafd85616bfadf2c6": {
          "model_module": "@jupyter-widgets/controls",
          "model_name": "HBoxModel",
          "model_module_version": "1.5.0",
          "state": {
            "_dom_classes": [],
            "_model_module": "@jupyter-widgets/controls",
            "_model_module_version": "1.5.0",
            "_model_name": "HBoxModel",
            "_view_count": null,
            "_view_module": "@jupyter-widgets/controls",
            "_view_module_version": "1.5.0",
            "_view_name": "HBoxView",
            "box_style": "",
            "children": [
              "IPY_MODEL_9667d6be2d464121aa197c9fd7ed8148",
              "IPY_MODEL_a4171f305eda42828fcb20aebd589740",
              "IPY_MODEL_804429d59fc144c09a18423c3731aabc"
            ],
            "layout": "IPY_MODEL_82532d44040345d4aac03533a1315c5c"
          }
        },
        "9667d6be2d464121aa197c9fd7ed8148": {
          "model_module": "@jupyter-widgets/controls",
          "model_name": "HTMLModel",
          "model_module_version": "1.5.0",
          "state": {
            "_dom_classes": [],
            "_model_module": "@jupyter-widgets/controls",
            "_model_module_version": "1.5.0",
            "_model_name": "HTMLModel",
            "_view_count": null,
            "_view_module": "@jupyter-widgets/controls",
            "_view_module_version": "1.5.0",
            "_view_name": "HTMLView",
            "description": "",
            "description_tooltip": null,
            "layout": "IPY_MODEL_79de77d8e8804fc78f3ef3c7641269df",
            "placeholder": "​",
            "style": "IPY_MODEL_5096fc52e8054d548e0c9845cc4a13b4",
            "value": "Downloading: 100%"
          }
        },
        "a4171f305eda42828fcb20aebd589740": {
          "model_module": "@jupyter-widgets/controls",
          "model_name": "FloatProgressModel",
          "model_module_version": "1.5.0",
          "state": {
            "_dom_classes": [],
            "_model_module": "@jupyter-widgets/controls",
            "_model_module_version": "1.5.0",
            "_model_name": "FloatProgressModel",
            "_view_count": null,
            "_view_module": "@jupyter-widgets/controls",
            "_view_module_version": "1.5.0",
            "_view_name": "ProgressView",
            "bar_style": "success",
            "description": "",
            "description_tooltip": null,
            "layout": "IPY_MODEL_039a2271188146f29c50a544a00463dd",
            "max": 486,
            "min": 0,
            "orientation": "horizontal",
            "style": "IPY_MODEL_9c038970b763416b88f5004f0786735d",
            "value": 486
          }
        },
        "804429d59fc144c09a18423c3731aabc": {
          "model_module": "@jupyter-widgets/controls",
          "model_name": "HTMLModel",
          "model_module_version": "1.5.0",
          "state": {
            "_dom_classes": [],
            "_model_module": "@jupyter-widgets/controls",
            "_model_module_version": "1.5.0",
            "_model_name": "HTMLModel",
            "_view_count": null,
            "_view_module": "@jupyter-widgets/controls",
            "_view_module_version": "1.5.0",
            "_view_name": "HTMLView",
            "description": "",
            "description_tooltip": null,
            "layout": "IPY_MODEL_7ecba0231ca448b4a05b9d3b33cdf8b3",
            "placeholder": "​",
            "style": "IPY_MODEL_d44f3c795803466ea2f47d0ed4ed490a",
            "value": " 486/486 [00:00&lt;00:00, 17.4kB/s]"
          }
        },
        "82532d44040345d4aac03533a1315c5c": {
          "model_module": "@jupyter-widgets/base",
          "model_name": "LayoutModel",
          "model_module_version": "1.2.0",
          "state": {
            "_model_module": "@jupyter-widgets/base",
            "_model_module_version": "1.2.0",
            "_model_name": "LayoutModel",
            "_view_count": null,
            "_view_module": "@jupyter-widgets/base",
            "_view_module_version": "1.2.0",
            "_view_name": "LayoutView",
            "align_content": null,
            "align_items": null,
            "align_self": null,
            "border": null,
            "bottom": null,
            "display": null,
            "flex": null,
            "flex_flow": null,
            "grid_area": null,
            "grid_auto_columns": null,
            "grid_auto_flow": null,
            "grid_auto_rows": null,
            "grid_column": null,
            "grid_gap": null,
            "grid_row": null,
            "grid_template_areas": null,
            "grid_template_columns": null,
            "grid_template_rows": null,
            "height": null,
            "justify_content": null,
            "justify_items": null,
            "left": null,
            "margin": null,
            "max_height": null,
            "max_width": null,
            "min_height": null,
            "min_width": null,
            "object_fit": null,
            "object_position": null,
            "order": null,
            "overflow": null,
            "overflow_x": null,
            "overflow_y": null,
            "padding": null,
            "right": null,
            "top": null,
            "visibility": null,
            "width": null
          }
        },
        "79de77d8e8804fc78f3ef3c7641269df": {
          "model_module": "@jupyter-widgets/base",
          "model_name": "LayoutModel",
          "model_module_version": "1.2.0",
          "state": {
            "_model_module": "@jupyter-widgets/base",
            "_model_module_version": "1.2.0",
            "_model_name": "LayoutModel",
            "_view_count": null,
            "_view_module": "@jupyter-widgets/base",
            "_view_module_version": "1.2.0",
            "_view_name": "LayoutView",
            "align_content": null,
            "align_items": null,
            "align_self": null,
            "border": null,
            "bottom": null,
            "display": null,
            "flex": null,
            "flex_flow": null,
            "grid_area": null,
            "grid_auto_columns": null,
            "grid_auto_flow": null,
            "grid_auto_rows": null,
            "grid_column": null,
            "grid_gap": null,
            "grid_row": null,
            "grid_template_areas": null,
            "grid_template_columns": null,
            "grid_template_rows": null,
            "height": null,
            "justify_content": null,
            "justify_items": null,
            "left": null,
            "margin": null,
            "max_height": null,
            "max_width": null,
            "min_height": null,
            "min_width": null,
            "object_fit": null,
            "object_position": null,
            "order": null,
            "overflow": null,
            "overflow_x": null,
            "overflow_y": null,
            "padding": null,
            "right": null,
            "top": null,
            "visibility": null,
            "width": null
          }
        },
        "5096fc52e8054d548e0c9845cc4a13b4": {
          "model_module": "@jupyter-widgets/controls",
          "model_name": "DescriptionStyleModel",
          "model_module_version": "1.5.0",
          "state": {
            "_model_module": "@jupyter-widgets/controls",
            "_model_module_version": "1.5.0",
            "_model_name": "DescriptionStyleModel",
            "_view_count": null,
            "_view_module": "@jupyter-widgets/base",
            "_view_module_version": "1.2.0",
            "_view_name": "StyleView",
            "description_width": ""
          }
        },
        "039a2271188146f29c50a544a00463dd": {
          "model_module": "@jupyter-widgets/base",
          "model_name": "LayoutModel",
          "model_module_version": "1.2.0",
          "state": {
            "_model_module": "@jupyter-widgets/base",
            "_model_module_version": "1.2.0",
            "_model_name": "LayoutModel",
            "_view_count": null,
            "_view_module": "@jupyter-widgets/base",
            "_view_module_version": "1.2.0",
            "_view_name": "LayoutView",
            "align_content": null,
            "align_items": null,
            "align_self": null,
            "border": null,
            "bottom": null,
            "display": null,
            "flex": null,
            "flex_flow": null,
            "grid_area": null,
            "grid_auto_columns": null,
            "grid_auto_flow": null,
            "grid_auto_rows": null,
            "grid_column": null,
            "grid_gap": null,
            "grid_row": null,
            "grid_template_areas": null,
            "grid_template_columns": null,
            "grid_template_rows": null,
            "height": null,
            "justify_content": null,
            "justify_items": null,
            "left": null,
            "margin": null,
            "max_height": null,
            "max_width": null,
            "min_height": null,
            "min_width": null,
            "object_fit": null,
            "object_position": null,
            "order": null,
            "overflow": null,
            "overflow_x": null,
            "overflow_y": null,
            "padding": null,
            "right": null,
            "top": null,
            "visibility": null,
            "width": null
          }
        },
        "9c038970b763416b88f5004f0786735d": {
          "model_module": "@jupyter-widgets/controls",
          "model_name": "ProgressStyleModel",
          "model_module_version": "1.5.0",
          "state": {
            "_model_module": "@jupyter-widgets/controls",
            "_model_module_version": "1.5.0",
            "_model_name": "ProgressStyleModel",
            "_view_count": null,
            "_view_module": "@jupyter-widgets/base",
            "_view_module_version": "1.2.0",
            "_view_name": "StyleView",
            "bar_color": null,
            "description_width": ""
          }
        },
        "7ecba0231ca448b4a05b9d3b33cdf8b3": {
          "model_module": "@jupyter-widgets/base",
          "model_name": "LayoutModel",
          "model_module_version": "1.2.0",
          "state": {
            "_model_module": "@jupyter-widgets/base",
            "_model_module_version": "1.2.0",
            "_model_name": "LayoutModel",
            "_view_count": null,
            "_view_module": "@jupyter-widgets/base",
            "_view_module_version": "1.2.0",
            "_view_name": "LayoutView",
            "align_content": null,
            "align_items": null,
            "align_self": null,
            "border": null,
            "bottom": null,
            "display": null,
            "flex": null,
            "flex_flow": null,
            "grid_area": null,
            "grid_auto_columns": null,
            "grid_auto_flow": null,
            "grid_auto_rows": null,
            "grid_column": null,
            "grid_gap": null,
            "grid_row": null,
            "grid_template_areas": null,
            "grid_template_columns": null,
            "grid_template_rows": null,
            "height": null,
            "justify_content": null,
            "justify_items": null,
            "left": null,
            "margin": null,
            "max_height": null,
            "max_width": null,
            "min_height": null,
            "min_width": null,
            "object_fit": null,
            "object_position": null,
            "order": null,
            "overflow": null,
            "overflow_x": null,
            "overflow_y": null,
            "padding": null,
            "right": null,
            "top": null,
            "visibility": null,
            "width": null
          }
        },
        "d44f3c795803466ea2f47d0ed4ed490a": {
          "model_module": "@jupyter-widgets/controls",
          "model_name": "DescriptionStyleModel",
          "model_module_version": "1.5.0",
          "state": {
            "_model_module": "@jupyter-widgets/controls",
            "_model_module_version": "1.5.0",
            "_model_name": "DescriptionStyleModel",
            "_view_count": null,
            "_view_module": "@jupyter-widgets/base",
            "_view_module_version": "1.2.0",
            "_view_name": "StyleView",
            "description_width": ""
          }
        },
        "9ec2129032d54534b931f022b52f45ac": {
          "model_module": "@jupyter-widgets/controls",
          "model_name": "HBoxModel",
          "model_module_version": "1.5.0",
          "state": {
            "_dom_classes": [],
            "_model_module": "@jupyter-widgets/controls",
            "_model_module_version": "1.5.0",
            "_model_name": "HBoxModel",
            "_view_count": null,
            "_view_module": "@jupyter-widgets/controls",
            "_view_module_version": "1.5.0",
            "_view_name": "HBoxView",
            "box_style": "",
            "children": [
              "IPY_MODEL_6ade5139a8084972aae83b48adff32ff",
              "IPY_MODEL_d91d2a6e830f422d9095b96d57e0a1a6",
              "IPY_MODEL_b8355feed2094d239f9053ac4e79a2ab"
            ],
            "layout": "IPY_MODEL_227ba63023fe44dcb9060fc00f3ea2b7"
          }
        },
        "6ade5139a8084972aae83b48adff32ff": {
          "model_module": "@jupyter-widgets/controls",
          "model_name": "HTMLModel",
          "model_module_version": "1.5.0",
          "state": {
            "_dom_classes": [],
            "_model_module": "@jupyter-widgets/controls",
            "_model_module_version": "1.5.0",
            "_model_name": "HTMLModel",
            "_view_count": null,
            "_view_module": "@jupyter-widgets/controls",
            "_view_module_version": "1.5.0",
            "_view_name": "HTMLView",
            "description": "",
            "description_tooltip": null,
            "layout": "IPY_MODEL_bf07498c15b14d918e2904220d95e28c",
            "placeholder": "​",
            "style": "IPY_MODEL_ed93f7e80dc442f4b763e9c69a57e61c",
            "value": "Downloading: 100%"
          }
        },
        "d91d2a6e830f422d9095b96d57e0a1a6": {
          "model_module": "@jupyter-widgets/controls",
          "model_name": "FloatProgressModel",
          "model_module_version": "1.5.0",
          "state": {
            "_dom_classes": [],
            "_model_module": "@jupyter-widgets/controls",
            "_model_module_version": "1.5.0",
            "_model_name": "FloatProgressModel",
            "_view_count": null,
            "_view_module": "@jupyter-widgets/controls",
            "_view_module_version": "1.5.0",
            "_view_name": "ProgressView",
            "bar_style": "success",
            "description": "",
            "description_tooltip": null,
            "layout": "IPY_MODEL_b0faa69ddca74ebe81e23e75b920b9c0",
            "max": 267845150,
            "min": 0,
            "orientation": "horizontal",
            "style": "IPY_MODEL_75b68d05ec0b47e489aaa5490263b770",
            "value": 267845150
          }
        },
        "b8355feed2094d239f9053ac4e79a2ab": {
          "model_module": "@jupyter-widgets/controls",
          "model_name": "HTMLModel",
          "model_module_version": "1.5.0",
          "state": {
            "_dom_classes": [],
            "_model_module": "@jupyter-widgets/controls",
            "_model_module_version": "1.5.0",
            "_model_name": "HTMLModel",
            "_view_count": null,
            "_view_module": "@jupyter-widgets/controls",
            "_view_module_version": "1.5.0",
            "_view_name": "HTMLView",
            "description": "",
            "description_tooltip": null,
            "layout": "IPY_MODEL_8ca0c58997d643b2ace817808a9555fd",
            "placeholder": "​",
            "style": "IPY_MODEL_4e2c90fc51b6423a9c3599471c7668b5",
            "value": " 255M/255M [00:17&lt;00:00, 15.4MB/s]"
          }
        },
        "227ba63023fe44dcb9060fc00f3ea2b7": {
          "model_module": "@jupyter-widgets/base",
          "model_name": "LayoutModel",
          "model_module_version": "1.2.0",
          "state": {
            "_model_module": "@jupyter-widgets/base",
            "_model_module_version": "1.2.0",
            "_model_name": "LayoutModel",
            "_view_count": null,
            "_view_module": "@jupyter-widgets/base",
            "_view_module_version": "1.2.0",
            "_view_name": "LayoutView",
            "align_content": null,
            "align_items": null,
            "align_self": null,
            "border": null,
            "bottom": null,
            "display": null,
            "flex": null,
            "flex_flow": null,
            "grid_area": null,
            "grid_auto_columns": null,
            "grid_auto_flow": null,
            "grid_auto_rows": null,
            "grid_column": null,
            "grid_gap": null,
            "grid_row": null,
            "grid_template_areas": null,
            "grid_template_columns": null,
            "grid_template_rows": null,
            "height": null,
            "justify_content": null,
            "justify_items": null,
            "left": null,
            "margin": null,
            "max_height": null,
            "max_width": null,
            "min_height": null,
            "min_width": null,
            "object_fit": null,
            "object_position": null,
            "order": null,
            "overflow": null,
            "overflow_x": null,
            "overflow_y": null,
            "padding": null,
            "right": null,
            "top": null,
            "visibility": null,
            "width": null
          }
        },
        "bf07498c15b14d918e2904220d95e28c": {
          "model_module": "@jupyter-widgets/base",
          "model_name": "LayoutModel",
          "model_module_version": "1.2.0",
          "state": {
            "_model_module": "@jupyter-widgets/base",
            "_model_module_version": "1.2.0",
            "_model_name": "LayoutModel",
            "_view_count": null,
            "_view_module": "@jupyter-widgets/base",
            "_view_module_version": "1.2.0",
            "_view_name": "LayoutView",
            "align_content": null,
            "align_items": null,
            "align_self": null,
            "border": null,
            "bottom": null,
            "display": null,
            "flex": null,
            "flex_flow": null,
            "grid_area": null,
            "grid_auto_columns": null,
            "grid_auto_flow": null,
            "grid_auto_rows": null,
            "grid_column": null,
            "grid_gap": null,
            "grid_row": null,
            "grid_template_areas": null,
            "grid_template_columns": null,
            "grid_template_rows": null,
            "height": null,
            "justify_content": null,
            "justify_items": null,
            "left": null,
            "margin": null,
            "max_height": null,
            "max_width": null,
            "min_height": null,
            "min_width": null,
            "object_fit": null,
            "object_position": null,
            "order": null,
            "overflow": null,
            "overflow_x": null,
            "overflow_y": null,
            "padding": null,
            "right": null,
            "top": null,
            "visibility": null,
            "width": null
          }
        },
        "ed93f7e80dc442f4b763e9c69a57e61c": {
          "model_module": "@jupyter-widgets/controls",
          "model_name": "DescriptionStyleModel",
          "model_module_version": "1.5.0",
          "state": {
            "_model_module": "@jupyter-widgets/controls",
            "_model_module_version": "1.5.0",
            "_model_name": "DescriptionStyleModel",
            "_view_count": null,
            "_view_module": "@jupyter-widgets/base",
            "_view_module_version": "1.2.0",
            "_view_name": "StyleView",
            "description_width": ""
          }
        },
        "b0faa69ddca74ebe81e23e75b920b9c0": {
          "model_module": "@jupyter-widgets/base",
          "model_name": "LayoutModel",
          "model_module_version": "1.2.0",
          "state": {
            "_model_module": "@jupyter-widgets/base",
            "_model_module_version": "1.2.0",
            "_model_name": "LayoutModel",
            "_view_count": null,
            "_view_module": "@jupyter-widgets/base",
            "_view_module_version": "1.2.0",
            "_view_name": "LayoutView",
            "align_content": null,
            "align_items": null,
            "align_self": null,
            "border": null,
            "bottom": null,
            "display": null,
            "flex": null,
            "flex_flow": null,
            "grid_area": null,
            "grid_auto_columns": null,
            "grid_auto_flow": null,
            "grid_auto_rows": null,
            "grid_column": null,
            "grid_gap": null,
            "grid_row": null,
            "grid_template_areas": null,
            "grid_template_columns": null,
            "grid_template_rows": null,
            "height": null,
            "justify_content": null,
            "justify_items": null,
            "left": null,
            "margin": null,
            "max_height": null,
            "max_width": null,
            "min_height": null,
            "min_width": null,
            "object_fit": null,
            "object_position": null,
            "order": null,
            "overflow": null,
            "overflow_x": null,
            "overflow_y": null,
            "padding": null,
            "right": null,
            "top": null,
            "visibility": null,
            "width": null
          }
        },
        "75b68d05ec0b47e489aaa5490263b770": {
          "model_module": "@jupyter-widgets/controls",
          "model_name": "ProgressStyleModel",
          "model_module_version": "1.5.0",
          "state": {
            "_model_module": "@jupyter-widgets/controls",
            "_model_module_version": "1.5.0",
            "_model_name": "ProgressStyleModel",
            "_view_count": null,
            "_view_module": "@jupyter-widgets/base",
            "_view_module_version": "1.2.0",
            "_view_name": "StyleView",
            "bar_color": null,
            "description_width": ""
          }
        },
        "8ca0c58997d643b2ace817808a9555fd": {
          "model_module": "@jupyter-widgets/base",
          "model_name": "LayoutModel",
          "model_module_version": "1.2.0",
          "state": {
            "_model_module": "@jupyter-widgets/base",
            "_model_module_version": "1.2.0",
            "_model_name": "LayoutModel",
            "_view_count": null,
            "_view_module": "@jupyter-widgets/base",
            "_view_module_version": "1.2.0",
            "_view_name": "LayoutView",
            "align_content": null,
            "align_items": null,
            "align_self": null,
            "border": null,
            "bottom": null,
            "display": null,
            "flex": null,
            "flex_flow": null,
            "grid_area": null,
            "grid_auto_columns": null,
            "grid_auto_flow": null,
            "grid_auto_rows": null,
            "grid_column": null,
            "grid_gap": null,
            "grid_row": null,
            "grid_template_areas": null,
            "grid_template_columns": null,
            "grid_template_rows": null,
            "height": null,
            "justify_content": null,
            "justify_items": null,
            "left": null,
            "margin": null,
            "max_height": null,
            "max_width": null,
            "min_height": null,
            "min_width": null,
            "object_fit": null,
            "object_position": null,
            "order": null,
            "overflow": null,
            "overflow_x": null,
            "overflow_y": null,
            "padding": null,
            "right": null,
            "top": null,
            "visibility": null,
            "width": null
          }
        },
        "4e2c90fc51b6423a9c3599471c7668b5": {
          "model_module": "@jupyter-widgets/controls",
          "model_name": "DescriptionStyleModel",
          "model_module_version": "1.5.0",
          "state": {
            "_model_module": "@jupyter-widgets/controls",
            "_model_module_version": "1.5.0",
            "_model_name": "DescriptionStyleModel",
            "_view_count": null,
            "_view_module": "@jupyter-widgets/base",
            "_view_module_version": "1.2.0",
            "_view_name": "StyleView",
            "description_width": ""
          }
        }
      }
    }
  },
  "nbformat": 4,
  "nbformat_minor": 0
}