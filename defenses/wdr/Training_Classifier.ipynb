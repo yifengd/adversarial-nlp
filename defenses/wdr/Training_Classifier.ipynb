{
  "cells": [
    {
      "cell_type": "code",
      "source": [
        "!pip install transformers >> /dev/null"
      ],
      "metadata": {
        "id": "qoKKd0WsqpU8"
      },
      "execution_count": 9,
      "outputs": []
    },
    {
      "cell_type": "markdown",
      "metadata": {
        "id": "FKRSbmu4Hmag"
      },
      "source": [
        "# Training classifier\n",
        "\n",
        "This script can be used to train the classifier on original and adversarial samples."
      ]
    },
    {
      "cell_type": "code",
      "execution_count": 1,
      "metadata": {
        "id": "XAxbz_6GqSkr"
      },
      "outputs": [],
      "source": [
        "import numpy as np\n",
        "import torch\n",
        "from torch.utils.data import Dataset, DataLoader\n",
        "import pandas as pd\n",
        "import os\n",
        "import time\n",
        "import importlib\n",
        "from copy import copy\n",
        "\n",
        "device = torch.device('cuda' if torch.cuda.is_available() else 'cpu')"
      ]
    },
    {
      "cell_type": "code",
      "source": [
        "from google.colab import drive\n",
        "drive.mount('/content/drive')"
      ],
      "metadata": {
        "id": "94JcqwW7qUjQ",
        "outputId": "a50c05bd-1722-4afe-d27c-3713333f0a88",
        "colab": {
          "base_uri": "https://localhost:8080/"
        }
      },
      "execution_count": 2,
      "outputs": [
        {
          "output_type": "stream",
          "name": "stdout",
          "text": [
            "Mounted at /content/drive\n"
          ]
        }
      ]
    },
    {
      "cell_type": "markdown",
      "metadata": {
        "id": "CvP1fooCfR7D"
      },
      "source": [
        "# Loading and transforming data into logits differences\n",
        "\n",
        "The first step is transforming our dataframe into logits differences for each original and adversarial sentence. For this, it is required to execute the model for each sentence with substitutions as explained in the paper."
      ]
    },
    {
      "cell_type": "code",
      "execution_count": 11,
      "metadata": {
        "id": "m-5rqMHqfR7D",
        "outputId": "8e87ac6d-4613-4a4f-e444-078d1c5cbdef",
        "colab": {
          "base_uri": "https://localhost:8080/"
        }
      },
      "outputs": [
        {
          "output_type": "stream",
          "name": "stdout",
          "text": [
            "ag-news_100_styleadv_distilbert.csv\n",
            "ag-news_1000_styleadv_distilbert.csv\n",
            "imdb_test_100_styleadv_distilbert.csv\n",
            "imdb_train_200_styleadv_distilbert.csv\n",
            "imdb_train_1000_styleadv_distilbert.csv\n"
          ]
        }
      ],
      "source": [
        "SAMPLES_PATH = '/content/drive/MyDrive/AdversarialXAI/Adversarial Samples'\n",
        "\n",
        "# Print available setups for testing\n",
        "for i in os.listdir(SAMPLES_PATH):\n",
        "    if not i.startswith('.'): # Don't print system files\n",
        "        print(i)"
      ]
    },
    {
      "cell_type": "code",
      "execution_count": 4,
      "metadata": {
        "id": "x7lVq4pAfR7E"
      },
      "outputs": [],
      "source": [
        "# Select the configuration for training\n",
        "test_config = 'imdb_train_1000_styleadv_distilbert.csv' # or 'agnews_pwws_distilbert.csv'"
      ]
    },
    {
      "cell_type": "code",
      "execution_count": 5,
      "metadata": {
        "id": "n3Iqx5dFfR7E",
        "outputId": "fbfab206-16cb-4e7e-dd0a-6d81894a97a7",
        "colab": {
          "base_uri": "https://localhost:8080/"
        }
      },
      "outputs": [
        {
          "output_type": "stream",
          "name": "stdout",
          "text": [
            "Model architecture: distilbert\n",
            "Dataset: imdb\n"
          ]
        }
      ],
      "source": [
        "# Obtain model from test config\n",
        "model_arch = test_config.replace(\".csv\", \"\").split('_')[-1]\n",
        "dataset = test_config.split('_')[0]\n",
        "print(\"Model architecture:\", model_arch)\n",
        "print(\"Dataset:\", dataset)"
      ]
    },
    {
      "cell_type": "code",
      "execution_count": 6,
      "metadata": {
        "id": "t4Q51W0ofR7F"
      },
      "outputs": [],
      "source": [
        "def load_textattack_local_model(model_arch, dataset):\n",
        "    \n",
        "    def load_module_from_file(file_path):\n",
        "        \"\"\"Uses ``importlib`` to dynamically open a file and load an object from\n",
        "        it.\"\"\"\n",
        "        temp_module_name = f\"temp_{time.time()}\"\n",
        "\n",
        "        spec = importlib.util.spec_from_file_location(temp_module_name, file_path)\n",
        "        module = importlib.util.module_from_spec(spec)\n",
        "        spec.loader.exec_module(module)\n",
        "        return module\n",
        "    \n",
        "    m = load_module_from_file(f'../{model_arch}_{dataset}_textattack.py')\n",
        "    model = getattr(m, 'model')\n",
        "    \n",
        "    return model, None"
      ]
    },
    {
      "cell_type": "code",
      "execution_count": 7,
      "metadata": {
        "id": "90TzS-60fR7F"
      },
      "outputs": [],
      "source": [
        "def load_hugging_face_model(model_arch, dataset):\n",
        "    # Import the model used for generating the adversarial samples.\n",
        "    # Correctly, set up imports, model and tokenizer depending on the model you generated the samples on.\n",
        "    \n",
        "    if model_arch == 'distilbert':\n",
        "        from transformers import DistilBertConfig as config, DistilBertTokenizer as tokenizer, AutoModelForSequenceClassification as auto_model\n",
        "    elif model_arch == 'bert':\n",
        "        from transformers import BertConfig as config, BertTokenizer as tokenizer, AutoModelForSequenceClassification as auto_model\n",
        "    \n",
        "    device = torch.device('cuda' if torch.cuda.is_available() else 'cpu')\n",
        "    tokenizer = tokenizer.from_pretrained(f\"textattack/{model_arch}-base-uncased-{dataset}\")\n",
        "    model = auto_model.from_pretrained(f\"textattack/{model_arch}-base-uncased-{dataset}\").to(device)\n",
        "    \n",
        "    return model, tokenizer"
      ]
    },
    {
      "cell_type": "code",
      "execution_count": 10,
      "metadata": {
        "id": "iujKfMatfR7G",
        "outputId": "c301d578-3e99-4d4e-d17d-a08fb6bc2edd",
        "colab": {
          "base_uri": "https://localhost:8080/",
          "height": 177,
          "referenced_widgets": [
            "a781257de41a400cade0fa479eb95454",
            "1917a7363f6f45d6bfd391d5d993ea78",
            "444f336d73bb4d97bd8e6e6a994ce3cb",
            "ebb9047910074ae6b83126e98e27bc1b",
            "7cc9d9ab464e4da0a2345afcd044419e",
            "54bda543a4b04f7d9b4bae23e815b533",
            "19989f5e70ab4cc3a21a5e1392b22c26",
            "8819a0cba85e46aaa9021d35c574d8d4",
            "a4d6bf4e9bef455ab0695cbe538dc877",
            "54a4efe9e8d24d10a526c72f76132603",
            "92ee047ba9c643a3959fea5cc12c928a",
            "60c9e3ee0de74aed9b5741dbdeb3070e",
            "e793be1bb4ab4c0eb8ea0b2a64cb8de2",
            "dac5987bb39947c780a6c5c2dd5c4414",
            "f1f97a398eb04afe9f06e175480dd612",
            "bf3788a93964424b8bd4367521a2ab4b",
            "0f3f922f5fb6480facbb6dd44c608007",
            "e8853b2a38c244a6bb7ac419cbb18969",
            "313af5bbf9d04046b5749f5153ed8705",
            "42e7fbc7bf5943c6a1e0207028a7076d",
            "2382ff15cc3544ee81900981f8d79a9e",
            "6219917e419f4366a2cf60332a3261b8",
            "0befcfc8a1344d8ba28db60a7b4d9453",
            "4028aa1ece7141d693554ebd8598046e",
            "d9c2a45d526c4fa98d2014cdd9b1cef5",
            "cef46d6b465d4314a131c838cebcf1e5",
            "2717db16a37447b49aac6bbed5082b35",
            "ff08ca6327d24587a8bf62012a9b03ad",
            "78c774b46c1e4aa2af0cd8171a2aab2e",
            "99bb3a0e497e49529254f586e544885e",
            "d67ebbd879384fb9bee1144be648f222",
            "57aa9c0bbee04e7ba1051a9c5efdac3d",
            "4af54126987b427c9eca8117e8639555",
            "ac76ed9e2f0c47cabffd0364b56ac5f2",
            "471cd246c1bd4f6e8590fa561f0cb93c",
            "f5c7648109aa4a998e5d618a7604a5f3",
            "756eaf26e2524525bc6cd82b23722b23",
            "0265a13c294b46b3a75c899e376b7981",
            "0f2a266875d349b7958be02bc86f3875",
            "fef1352efda145c3945b2136ca55cb68",
            "d4a35c6b38784ed3a7d7724ea348c16c",
            "b0c9c47daff845af9e77e6ba465575fc",
            "54ffe212f65a465a807af1afa85eab5a",
            "a743547bb35c49d5992f0a4f58fc9168",
            "61d854c5e1444b4dacb276379068fdd8",
            "0b933a5eab5a4122aeffecf8ce879f22",
            "e80c6159c29843479a74ea05f036b7a3",
            "f3ae13a95ca04709a2b42b4525347cca",
            "e7b3846ec82d4802920dce29e20fe66a",
            "ef8b89202beb4a5b99549a7188582686",
            "5fa43d4f117e4230831ef9daa224da95",
            "74fc462fe6e24e34a0e1d9f16739fd9f",
            "a9a40272cb694d23aff6c577e1ad44ca",
            "c184f8e9b6924b5c9076c3f11e3f1a70",
            "a825367658c54961a6efb287ed26763b"
          ]
        }
      },
      "outputs": [
        {
          "output_type": "display_data",
          "data": {
            "text/plain": [
              "Downloading:   0%|          | 0.00/226k [00:00<?, ?B/s]"
            ],
            "application/vnd.jupyter.widget-view+json": {
              "version_major": 2,
              "version_minor": 0,
              "model_id": "a781257de41a400cade0fa479eb95454"
            }
          },
          "metadata": {}
        },
        {
          "output_type": "display_data",
          "data": {
            "text/plain": [
              "Downloading:   0%|          | 0.00/112 [00:00<?, ?B/s]"
            ],
            "application/vnd.jupyter.widget-view+json": {
              "version_major": 2,
              "version_minor": 0,
              "model_id": "60c9e3ee0de74aed9b5741dbdeb3070e"
            }
          },
          "metadata": {}
        },
        {
          "output_type": "display_data",
          "data": {
            "text/plain": [
              "Downloading:   0%|          | 0.00/48.0 [00:00<?, ?B/s]"
            ],
            "application/vnd.jupyter.widget-view+json": {
              "version_major": 2,
              "version_minor": 0,
              "model_id": "0befcfc8a1344d8ba28db60a7b4d9453"
            }
          },
          "metadata": {}
        },
        {
          "output_type": "display_data",
          "data": {
            "text/plain": [
              "Downloading:   0%|          | 0.00/485 [00:00<?, ?B/s]"
            ],
            "application/vnd.jupyter.widget-view+json": {
              "version_major": 2,
              "version_minor": 0,
              "model_id": "ac76ed9e2f0c47cabffd0364b56ac5f2"
            }
          },
          "metadata": {}
        },
        {
          "output_type": "display_data",
          "data": {
            "text/plain": [
              "Downloading:   0%|          | 0.00/255M [00:00<?, ?B/s]"
            ],
            "application/vnd.jupyter.widget-view+json": {
              "version_major": 2,
              "version_minor": 0,
              "model_id": "61d854c5e1444b4dacb276379068fdd8"
            }
          },
          "metadata": {}
        }
      ],
      "source": [
        "# Models available in hugging-face are executed differently from LSTM and CNN. Choose automatically the configuration and load model + tokenizer.\n",
        "textattack_local_models = ['lstm', 'cnn']\n",
        "\n",
        "if model_arch in textattack_local_models:\n",
        "    hugging_face_model = False\n",
        "    model, tokenizer = load_textattack_local_model(model_arch, dataset)\n",
        "\n",
        "else:\n",
        "    hugging_face_model = True\n",
        "    model, tokenizer = load_hugging_face_model(model_arch, dataset)"
      ]
    },
    {
      "cell_type": "markdown",
      "metadata": {
        "id": "k1XxOsu_4EgE"
      },
      "source": [
        "# Loading data\n",
        "\n",
        "Read into a dataframe your original and adversarial samples."
      ]
    },
    {
      "cell_type": "code",
      "execution_count": 12,
      "metadata": {
        "id": "twkc6DQIfR7G",
        "outputId": "91367e7c-6422-473d-a49f-027a5899ee40",
        "colab": {
          "base_uri": "https://localhost:8080/"
        }
      },
      "outputs": [
        {
          "output_type": "execute_result",
          "data": {
            "text/plain": [
              "(958, 3)"
            ]
          },
          "metadata": {},
          "execution_count": 12
        }
      ],
      "source": [
        "# Read the desired csv file previously generated\n",
        "df = pd.read_csv(f'{SAMPLES_PATH}/{test_config}', index_col=0)\n",
        "df.shape"
      ]
    },
    {
      "cell_type": "code",
      "execution_count": 13,
      "metadata": {
        "id": "h3snuVjzfR7H"
      },
      "outputs": [],
      "source": [
        "# Select first entries. Only 3000 will be used but we leave room for false adversarial sentences that will be filtered out later and test set. We reduce size because computations are expensive.\n",
        "# In real setup, the whole file was considered and fixed train and test sets were produced.\n",
        "df = df.head(7000)"
      ]
    },
    {
      "cell_type": "code",
      "execution_count": 14,
      "metadata": {
        "id": "y87VzvT1fR7H"
      },
      "outputs": [],
      "source": [
        "# Create batches of non-adversarial sentences\n",
        "# For big models such as BERT, we must divide our input in smaller batches.\n",
        "n = 256 # Size of each batch.\n",
        "batches = [list(df.original_text.values)[i:i + n] for i in range(0, len(df.original_text.values), n)]"
      ]
    },
    {
      "cell_type": "code",
      "execution_count": 15,
      "metadata": {
        "id": "xgB0p7VxqENf",
        "outputId": "23ad4837-20ec-448d-a36d-eacd44dfb159",
        "colab": {
          "base_uri": "https://localhost:8080/",
          "height": 71
        }
      },
      "outputs": [
        {
          "output_type": "execute_result",
          "data": {
            "text/plain": [
              "' If you love cult 70\\'s Sci-fi the way I do, or if you like movies such as \"Repo Man\" or \"Buckaroo Bonzai\" than you\\'re going to love this one. It\\'s a stream of consciousness 70\\'s Sci-fi spectacular, including a 22nd century junkyard and the Earth a million years from now. This movie is pure 70\\'s. Put on Steve Miller\\'s \"Fly Like An Eagle\" or Pink Floyd\\'s \"Dark Side Of The Moon\" and you\\'re ready to go! '"
            ],
            "application/vnd.google.colaboratory.intrinsic+json": {
              "type": "string"
            }
          },
          "metadata": {},
          "execution_count": 15
        }
      ],
      "source": [
        "batches[0][0]"
      ]
    },
    {
      "cell_type": "code",
      "execution_count": 16,
      "metadata": {
        "id": "U9w_oE8-fR7H"
      },
      "outputs": [],
      "source": [
        "# Generate predictions for all non-adversarial sentences in our dataset\n",
        "outputs = []\n",
        "\n",
        "if hugging_face_model is True: # Use tokenizer and hugging face pipeline\n",
        "    for b in batches: \n",
        "        input = tokenizer(b, return_tensors=\"pt\", padding=True, truncation=True).to(device)\n",
        "        with torch.no_grad():\n",
        "            output = model(**input)\n",
        "            outputs.append(output.logits.cpu().numpy())\n",
        "            del input\n",
        "            torch.cuda.empty_cache()\n",
        "\n",
        "else: # Use local model by simply predicting without tokenization\n",
        "    for b in batches: \n",
        "        output = model(b)\n",
        "        outputs.append(output)"
      ]
    },
    {
      "cell_type": "code",
      "execution_count": 17,
      "metadata": {
        "id": "frRXf0P9fR7I"
      },
      "outputs": [],
      "source": [
        "# Obtain non-adversarial predictions\n",
        "outputs_flatten = [item for sublist in outputs for item in sublist]\n",
        "predictions = [np.argmax(i) for i in outputs_flatten]\n",
        "\n",
        "# Include prediction for these classes in our DataFrame\n",
        "df['original_class_predicted'] = predictions"
      ]
    },
    {
      "cell_type": "code",
      "execution_count": 18,
      "metadata": {
        "id": "wqDSHW_nfR7I"
      },
      "outputs": [],
      "source": [
        "# Repeat process for adversarial sentences\n",
        "n = 256\n",
        "batches = [list(df.adversarial_text.values)[i:i + n] for i in range(0, len(df.adversarial_text.values), n)]"
      ]
    },
    {
      "cell_type": "code",
      "execution_count": 19,
      "metadata": {
        "id": "nrnkZkTdfR7J"
      },
      "outputs": [],
      "source": [
        "# Generate predictions for all non-adversarial sentences in our dataset\n",
        "outputs = []\n",
        "\n",
        "if hugging_face_model is True: # Use tokenizer and hugging face pipeline\n",
        "    for b in batches: \n",
        "        input = tokenizer(b, return_tensors=\"pt\", padding=True, truncation=True).to(device)\n",
        "        with torch.no_grad():\n",
        "            output = model(**input)\n",
        "            outputs.append(output.logits.cpu().numpy())\n",
        "            del input\n",
        "            torch.cuda.empty_cache()\n",
        "\n",
        "else: # Use local model by simply predicting without tokenization\n",
        "    for b in batches: \n",
        "        output = model(b)\n",
        "        outputs.append(output)"
      ]
    },
    {
      "cell_type": "code",
      "execution_count": 20,
      "metadata": {
        "id": "h1vAsWe9fR7J"
      },
      "outputs": [],
      "source": [
        "# Obtain adversarial predictions\n",
        "outputs_flatten = [item for sublist in outputs for item in sublist]\n",
        "predictions = [np.argmax(i) for i in outputs_flatten]\n",
        "\n",
        "# Include prediction for these classes in our DataFrame\n",
        "df['adversarial_class_predicted'] = predictions"
      ]
    },
    {
      "cell_type": "code",
      "execution_count": 21,
      "metadata": {
        "id": "YCUrHP-4fR7J"
      },
      "outputs": [],
      "source": [
        "# Select only those sentences for which there was actually a change in the prediction\n",
        "correct = df[(df['original_class_predicted'] != df['adversarial_class_predicted'])]"
      ]
    },
    {
      "cell_type": "code",
      "execution_count": 23,
      "metadata": {
        "id": "Kzz81OGvfR7J",
        "outputId": "5308d62a-0c87-4abc-b0a8-91b11118f18e",
        "colab": {
          "base_uri": "https://localhost:8080/"
        }
      },
      "outputs": [
        {
          "output_type": "execute_result",
          "data": {
            "text/plain": [
              "602"
            ]
          },
          "metadata": {},
          "execution_count": 23
        }
      ],
      "source": [
        "# Update dataframe and keep only adversarial samples\n",
        "df = correct\n",
        "len(df)"
      ]
    },
    {
      "cell_type": "markdown",
      "metadata": {
        "id": "INb_NMpLfR7K"
      },
      "source": [
        "# Obtain logits\n",
        "Once we have the predictions and actually adversarial sentences, we generate the logits differences"
      ]
    },
    {
      "cell_type": "code",
      "execution_count": 24,
      "metadata": {
        "id": "-FiJMYa7fR7L"
      },
      "outputs": [],
      "source": [
        "original_samples = df.original_text.values\n",
        "adversarial_samples = df.adversarial_text.values"
      ]
    },
    {
      "cell_type": "code",
      "execution_count": 25,
      "metadata": {
        "id": "PF7zyw_MfR7L"
      },
      "outputs": [],
      "source": [
        "# Concatenate all original samples and their predictions\n",
        "x = np.concatenate((original_samples, adversarial_samples))\n",
        "y = np.concatenate((np.zeros(len(original_samples)), np.ones(len(adversarial_samples))))"
      ]
    },
    {
      "cell_type": "code",
      "execution_count": 26,
      "metadata": {
        "id": "rVzO4b6MfR7L"
      },
      "outputs": [],
      "source": [
        "def obtain_logits(samples, batch_size, model, tokenizer):\n",
        "    \"\"\"\n",
        "    For given samples and model, compute prediction logits.\n",
        "    Input data is splitted in batches.\n",
        "    \"\"\"\n",
        "    batches = [samples[i:i + batch_size] for i in range(0, len(samples), batch_size)]\n",
        "    logits = []\n",
        "\n",
        "    for i, b in enumerate(batches):\n",
        "        print(\"{}/{}\".format(i+1, len(batches)))\n",
        "        if hugging_face_model:\n",
        "            with torch.no_grad():\n",
        "                input = tokenizer(list(b), return_tensors=\"pt\", padding=True, truncation=True).to(device)\n",
        "                logits.append(model(**input).logits.cpu().numpy())\n",
        "        else:\n",
        "            logits.append(model(b))\n",
        "\n",
        "    return logits"
      ]
    },
    {
      "cell_type": "code",
      "execution_count": 27,
      "metadata": {
        "id": "OQ229UFNfR7L",
        "outputId": "c97c641b-cf14-4d92-ab66-7620d4ff6040",
        "colab": {
          "base_uri": "https://localhost:8080/"
        }
      },
      "outputs": [
        {
          "output_type": "stream",
          "name": "stdout",
          "text": [
            "1/2\n",
            "2/2\n"
          ]
        }
      ],
      "source": [
        "# Compute logits for original sentences\n",
        "batch_size = 350\n",
        "original_logits = obtain_logits(original_samples, batch_size, model, tokenizer)\n",
        "original_logits = np.concatenate(original_logits).reshape(-1, original_logits[0].shape[1])"
      ]
    },
    {
      "cell_type": "code",
      "execution_count": 28,
      "metadata": {
        "id": "WTj7PW_2fR7M"
      },
      "outputs": [],
      "source": [
        "torch.cuda.empty_cache()"
      ]
    },
    {
      "cell_type": "code",
      "execution_count": 29,
      "metadata": {
        "id": "xG4vLDpifR7M",
        "outputId": "d93d2718-7095-461e-ee62-4e92fa377e53",
        "colab": {
          "base_uri": "https://localhost:8080/"
        }
      },
      "outputs": [
        {
          "output_type": "stream",
          "name": "stdout",
          "text": [
            "1/2\n",
            "2/2\n"
          ]
        }
      ],
      "source": [
        "# Compute logits for adversarial sentences\n",
        "batch_size = 350\n",
        "adversarial_logits = obtain_logits(adversarial_samples, batch_size, model, tokenizer)\n",
        "adversarial_logits = np.concatenate(adversarial_logits).reshape(-1, adversarial_logits[0].shape[1])"
      ]
    },
    {
      "cell_type": "code",
      "execution_count": 30,
      "metadata": {
        "id": "c638-0iafR7M"
      },
      "outputs": [],
      "source": [
        "torch.cuda.empty_cache()"
      ]
    },
    {
      "cell_type": "code",
      "execution_count": 31,
      "metadata": {
        "id": "ywMSEETffR7M"
      },
      "outputs": [],
      "source": [
        "# Concatenate all logits\n",
        "logits = np.concatenate((original_logits, adversarial_logits))"
      ]
    },
    {
      "cell_type": "code",
      "execution_count": 32,
      "metadata": {
        "id": "rnSx8bUufR7M"
      },
      "outputs": [],
      "source": [
        "# Shuffle data\n",
        "import random\n",
        "c = list(zip(x, y, logits))\n",
        "random.shuffle(c)\n",
        "x, y, logits = zip(*c)"
      ]
    },
    {
      "cell_type": "markdown",
      "metadata": {
        "id": "Q4TaXtSZfR7N"
      },
      "source": [
        "## Computing logits difference\n",
        "\n",
        "This is a key step implemented. The main idea is:\n",
        "* For each sentence, replace each word by the `[UNK]` token and compute prediction logits\n",
        "* Using these logits, we can easily compute the saliency of the word as presented in the report.\n",
        "* Then, we sort words by descending saliency.\n",
        "* Finally, compute logits difference for each replacement. This difference is computed as `Logit from class predicted for the whole sentence - Highest remaining logit`\n",
        "\n",
        "More details on these derivations are found in the paper."
      ]
    },
    {
      "cell_type": "code",
      "execution_count": 33,
      "metadata": {
        "id": "_8ScyI0afR7N"
      },
      "outputs": [],
      "source": [
        "def compute_logits_difference(x, logits, y, model, tokenizer, idx, max_sentence_size=512):\n",
        "    n_classes = len(logits[idx])\n",
        "    predicted_class = np.argmax(logits[idx]) # Predicted class for whole sentence using previously computed logits\n",
        "    class_logit = logits[idx][predicted_class] # Store this origianl prediction logit\n",
        "\n",
        "    split_sentence = x[idx].split(' ')[:max_sentence_size] # The tokenizer will only consider 512 words so we avoid computing innecessary logits\n",
        "\n",
        "    new_sentences = []\n",
        "\n",
        "    # Here, we replace each word by [UNK] and generate all sentences to consider\n",
        "    for i, word in enumerate(split_sentence):\n",
        "        new_sentence = copy(split_sentence)\n",
        "        new_sentence[i] = '[UNK]'\n",
        "        new_sentence = ' '.join(new_sentence)\n",
        "        new_sentences.append(new_sentence)\n",
        "\n",
        "    # We cannot run more than 350 predictions simultaneously because of resources.\n",
        "    # Split in batches if necessary.\n",
        "    # Compute logits for all replacements.\n",
        "    if len(new_sentences) > 200:\n",
        "        logits = []\n",
        "        batches = [new_sentences[i:i + 200] for i in range(0, len(new_sentences), 200)]\n",
        "        for b in batches:\n",
        "            if hugging_face_model: # Use hugging face predictions\n",
        "                batch = tokenizer(b, return_tensors=\"pt\", padding=True, truncation=True).to(device)\n",
        "                with torch.no_grad():\n",
        "                    logits.append(model(**batch).logits)\n",
        "            else:\n",
        "                logits.append(model(b).to(device))\n",
        "      \n",
        "        if hugging_face_model:\n",
        "            logits = torch.cat(logits)\n",
        "        else:\n",
        "            logits = np.concatenate( logits, axis=0 )\n",
        "            logits = torch.Tensor(logits)\n",
        "    \n",
        "    else: # There's no need to split in batches\n",
        "        if hugging_face_model:\n",
        "            batch = tokenizer(new_sentences, return_tensors=\"pt\", padding=True, truncation=True).to(device)\n",
        "            with torch.no_grad():\n",
        "                logits = model(**batch).logits\n",
        "            del batch\n",
        "        else:\n",
        "            logits = model(new_sentences)\n",
        "            logits = torch.Tensor(logits)\n",
        "\n",
        "\n",
        "    # Compute saliency\n",
        "    saliency = (class_logit - logits[:,predicted_class]).reshape(-1, 1)\n",
        "\n",
        "    # Append to logits for sorting\n",
        "    data = torch.cat((logits, saliency), 1)\n",
        "\n",
        "    # Sort by descending saliency\n",
        "    data = torch.stack(sorted(data, key=lambda a: a[n_classes], reverse=True))\n",
        "\n",
        "    # Remove saliency\n",
        "    data = data[:, :n_classes]\n",
        "\n",
        "    # Fix order: originallly predicted class, other classes\n",
        "    order = [predicted_class] + [i for i in range(n_classes) if i!=predicted_class]\n",
        "    data = torch.index_select(data, 1, torch.LongTensor(order).to(device))\n",
        "\n",
        "    # Compute difference between predicted class (always first column) and higher remaining logit\n",
        "    data = data[:, :1].flatten() - torch.max(data[:, 1:], dim=1).values.flatten()\n",
        "\n",
        "    del saliency\n",
        "    torch.cuda.empty_cache()\n",
        "\n",
        "    # Return only logits difference\n",
        "    return data.reshape(-1, 1), torch.Tensor([y[idx]]).to(device)"
      ]
    },
    {
      "cell_type": "code",
      "execution_count": 34,
      "metadata": {
        "id": "8dQxs9ETfR7N"
      },
      "outputs": [],
      "source": [
        "def compute_logits_difference_padding(x, logits, y, model, tokenizer, idx, target_size=512):\n",
        "    \"\"\"\n",
        "    This function provides a wrapper for compute_logits_difference and includes padding to computations.\n",
        "    \"\"\"\n",
        "    data, y = compute_logits_difference(x, logits, y, model, tokenizer, idx, target_size)\n",
        "    data_size = min(512, data.shape[0])\n",
        "    target = torch.zeros(target_size, 1).to(device)\n",
        "    target[:data_size, :] = data\n",
        "\n",
        "    return target, y"
      ]
    },
    {
      "cell_type": "code",
      "execution_count": 35,
      "metadata": {
        "id": "WBrFnu75fR7O"
      },
      "outputs": [],
      "source": [
        "from torch.utils.data import Dataset, DataLoader\n",
        "import sys\n",
        "from torch.autograd import Variable\n",
        "\n",
        "class Text(Dataset):\n",
        "    \"\"\"\n",
        "    Dataloader following torch details. Each time we get an item, we will compute\n",
        "    the logits difference.\n",
        "    \"\"\"\n",
        "    def __init__(self, x , logits, y, model, tokenizer, train=True, max_sentence_size=512):\n",
        "        self.logits = logits\n",
        "        self.y = y\n",
        "        self.x = x\n",
        "        self.model = model\n",
        "        self.tokenizer = tokenizer\n",
        "        self.max_sentence_size = max_sentence_size\n",
        "\n",
        "    def __len__(self):\n",
        "        return len(self.x)\n",
        "\n",
        "    def __getitem__(self, idx):\n",
        "        data, y = compute_logits_difference_padding(self.x, self.logits, self.y, self.model, self.tokenizer, idx, self.max_sentence_size)\n",
        "        data = data[:, :1].unsqueeze(0)\n",
        "\n",
        "        return data, y, self.x[idx]"
      ]
    },
    {
      "cell_type": "code",
      "execution_count": 36,
      "metadata": {
        "id": "UbwMfB4XfR7O"
      },
      "outputs": [],
      "source": [
        "# Create the dataloader\n",
        "train_ds = Text(x, logits, y, model, tokenizer)\n",
        "train_loader = DataLoader(dataset=train_ds, batch_size=256, shuffle=True)"
      ]
    },
    {
      "cell_type": "code",
      "execution_count": 37,
      "metadata": {
        "id": "d7YUtzPZfR7O"
      },
      "outputs": [],
      "source": [
        "# Define the target DataFrame to structure our data.\n",
        "# It has a column for each input dimension (up to 512) and \n",
        "# it also includes whether it is adversarial or not (y_label) and the sentence from which the logits where extracted\n",
        "\n",
        "data_train = pd.DataFrame(columns=[i for i in range(512)]+['y_label', 'sentence'])"
      ]
    },
    {
      "cell_type": "code",
      "execution_count": 40,
      "metadata": {
        "id": "QTtHK3nnfR7P",
        "outputId": "635b4c6d-b398-4ba4-bf9c-09e5a8e1bf12",
        "colab": {
          "base_uri": "https://localhost:8080/"
        }
      },
      "outputs": [
        {
          "output_type": "stream",
          "name": "stdout",
          "text": [
            "0/5 - 0.0\n",
            "\n",
            "1/5 - 0.2\n",
            "\n",
            "2/5 - 0.4\n",
            "\n",
            "3/5 - 0.6\n",
            "\n",
            "4/5 - 0.8\n",
            "\n"
          ]
        }
      ],
      "source": [
        "# Generate logits difference by running the loader.\n",
        "for i, (data, y_label, sentence) in enumerate(train_loader):\n",
        "    print(\"{}/{} - {}\\n\".format(i, len(train_loader), i/len(train_loader)))\n",
        "    for v in range(len(data)):\n",
        "        # Structure data and include in dataframe\n",
        "        row = np.append(data[v].cpu().numpy().reshape(1,-1), np.array([y_label[v].item(), sentence[v]]))\n",
        "        data_train = data_train.append(pd.DataFrame([row], columns=list(data_train)), ignore_index=True)"
      ]
    },
    {
      "cell_type": "code",
      "execution_count": null,
      "metadata": {
        "id": "rfCAOvbHfR7Z"
      },
      "outputs": [],
      "source": [
        "# Divide train and test set\n",
        "data_test = data_train.tail(len(data_train)-501)\n",
        "data_train = data_train.head(500)"
      ]
    },
    {
      "cell_type": "code",
      "source": [
        "data_test"
      ],
      "metadata": {
        "id": "xd3KbYbb2agO",
        "outputId": "9e5adcd7-bcf8-4446-8e27-eeb9fbcdb933",
        "colab": {
          "base_uri": "https://localhost:8080/",
          "height": 1000
        }
      },
      "execution_count": 46,
      "outputs": [
        {
          "output_type": "execute_result",
          "data": {
            "text/plain": [
              "              0           1            2           3           4           5  \\\n",
              "1      4.590066    4.693219     4.838607   4.9683237   5.0319624    5.151517   \n",
              "2     0.3962196   0.4634242   0.67271006   0.7595707  0.91932046   0.9880669   \n",
              "3     6.8039284   6.8073754     6.815252    6.837593   6.8288383   6.8142085   \n",
              "4    -1.2836598  -0.4001289    0.5285263   0.7745479   0.9919106   1.5789523   \n",
              "5     4.4483576    4.500548     4.587584   4.5866117   4.6730986   4.6625166   \n",
              "..          ...         ...          ...         ...         ...         ...   \n",
              "95    5.7667904    6.564155     6.650666   6.7062907    6.687439    6.728218   \n",
              "96   0.27305487   0.3186863   0.44006592  0.47765747  0.53720194  0.53256446   \n",
              "97  -0.14608648  0.07633425  0.104858935  0.07504178  0.18604732  0.18962945   \n",
              "98     6.537165   6.6296167    6.6432133    6.644365    6.667001   6.6653576   \n",
              "99     5.910303    6.139991     6.170728   6.2759113   6.3009796    6.323767   \n",
              "\n",
              "             6          7           8           9  ...  504  505  506  507  \\\n",
              "1     5.162169  5.1832643   5.2836537    5.347512  ...  0.0  0.0  0.0  0.0   \n",
              "2   0.99146926  1.1668792    1.136728   1.2195418  ...  0.0  0.0  0.0  0.0   \n",
              "3    6.8291492   6.839721    6.829086   6.8297806  ...  0.0  0.0  0.0  0.0   \n",
              "4    1.7448826  1.9021629   2.0690417   2.0943875  ...  0.0  0.0  0.0  0.0   \n",
              "5      4.66636   4.734633   4.7884517   4.7935615  ...  0.0  0.0  0.0  0.0   \n",
              "..         ...        ...         ...         ...  ...  ...  ...  ...  ...   \n",
              "95    6.734296  6.7805886    6.697718   6.7659907  ...  0.0  0.0  0.0  0.0   \n",
              "96  0.68625796  0.5999099   0.7505326   0.7529595  ...  0.0  0.0  0.0  0.0   \n",
              "97   0.1912462  0.2242514  0.20837694  0.29939348  ...  0.0  0.0  0.0  0.0   \n",
              "98   6.6555653  6.6697197    6.664895    6.673421  ...  0.0  0.0  0.0  0.0   \n",
              "99   6.3298798  6.3376803   6.3591375    6.406637  ...  0.0  0.0  0.0  0.0   \n",
              "\n",
              "    508  509  510  511 y_label  \\\n",
              "1   0.0  0.0  0.0  0.0     0.0   \n",
              "2   0.0  0.0  0.0  0.0     1.0   \n",
              "3   0.0  0.0  0.0  0.0     0.0   \n",
              "4   0.0  0.0  0.0  0.0     1.0   \n",
              "5   0.0  0.0  0.0  0.0     0.0   \n",
              "..  ...  ...  ...  ...     ...   \n",
              "95  0.0  0.0  0.0  0.0     0.0   \n",
              "96  0.0  0.0  0.0  0.0     1.0   \n",
              "97  0.0  0.0  0.0  0.0     1.0   \n",
              "98  0.0  0.0  0.0  0.0     0.0   \n",
              "99  0.0  0.0  0.0  0.0     0.0   \n",
              "\n",
              "                                             sentence  \n",
              "1    I like silent films, but this was a little to...  \n",
              "2    it's like Owen Springer, a young doctor, who'...  \n",
              "3    I have to confess right off that I have never...  \n",
              "4     how much of a movie like this is really worth?   \n",
              "5    I love cartoons. They can show things that fi...  \n",
              "..                                                ...  \n",
              "95   Until now, the worst movie I had ever seen wa...  \n",
              "96   as a teenager, I was in high school. It was f...  \n",
              "97   professor Andoheb (George Zucco) is likely to...  \n",
              "98   A family looking for some old roadside attrac...  \n",
              "99   As someone who has read the book, I can say t...  \n",
              "\n",
              "[99 rows x 514 columns]"
            ],
            "text/html": [
              "\n",
              "  <div id=\"df-3d99762c-627c-4a32-9177-a33714ff02c6\">\n",
              "    <div class=\"colab-df-container\">\n",
              "      <div>\n",
              "<style scoped>\n",
              "    .dataframe tbody tr th:only-of-type {\n",
              "        vertical-align: middle;\n",
              "    }\n",
              "\n",
              "    .dataframe tbody tr th {\n",
              "        vertical-align: top;\n",
              "    }\n",
              "\n",
              "    .dataframe thead th {\n",
              "        text-align: right;\n",
              "    }\n",
              "</style>\n",
              "<table border=\"1\" class=\"dataframe\">\n",
              "  <thead>\n",
              "    <tr style=\"text-align: right;\">\n",
              "      <th></th>\n",
              "      <th>0</th>\n",
              "      <th>1</th>\n",
              "      <th>2</th>\n",
              "      <th>3</th>\n",
              "      <th>4</th>\n",
              "      <th>5</th>\n",
              "      <th>6</th>\n",
              "      <th>7</th>\n",
              "      <th>8</th>\n",
              "      <th>9</th>\n",
              "      <th>...</th>\n",
              "      <th>504</th>\n",
              "      <th>505</th>\n",
              "      <th>506</th>\n",
              "      <th>507</th>\n",
              "      <th>508</th>\n",
              "      <th>509</th>\n",
              "      <th>510</th>\n",
              "      <th>511</th>\n",
              "      <th>y_label</th>\n",
              "      <th>sentence</th>\n",
              "    </tr>\n",
              "  </thead>\n",
              "  <tbody>\n",
              "    <tr>\n",
              "      <th>1</th>\n",
              "      <td>4.590066</td>\n",
              "      <td>4.693219</td>\n",
              "      <td>4.838607</td>\n",
              "      <td>4.9683237</td>\n",
              "      <td>5.0319624</td>\n",
              "      <td>5.151517</td>\n",
              "      <td>5.162169</td>\n",
              "      <td>5.1832643</td>\n",
              "      <td>5.2836537</td>\n",
              "      <td>5.347512</td>\n",
              "      <td>...</td>\n",
              "      <td>0.0</td>\n",
              "      <td>0.0</td>\n",
              "      <td>0.0</td>\n",
              "      <td>0.0</td>\n",
              "      <td>0.0</td>\n",
              "      <td>0.0</td>\n",
              "      <td>0.0</td>\n",
              "      <td>0.0</td>\n",
              "      <td>0.0</td>\n",
              "      <td>I like silent films, but this was a little to...</td>\n",
              "    </tr>\n",
              "    <tr>\n",
              "      <th>2</th>\n",
              "      <td>0.3962196</td>\n",
              "      <td>0.4634242</td>\n",
              "      <td>0.67271006</td>\n",
              "      <td>0.7595707</td>\n",
              "      <td>0.91932046</td>\n",
              "      <td>0.9880669</td>\n",
              "      <td>0.99146926</td>\n",
              "      <td>1.1668792</td>\n",
              "      <td>1.136728</td>\n",
              "      <td>1.2195418</td>\n",
              "      <td>...</td>\n",
              "      <td>0.0</td>\n",
              "      <td>0.0</td>\n",
              "      <td>0.0</td>\n",
              "      <td>0.0</td>\n",
              "      <td>0.0</td>\n",
              "      <td>0.0</td>\n",
              "      <td>0.0</td>\n",
              "      <td>0.0</td>\n",
              "      <td>1.0</td>\n",
              "      <td>it's like Owen Springer, a young doctor, who'...</td>\n",
              "    </tr>\n",
              "    <tr>\n",
              "      <th>3</th>\n",
              "      <td>6.8039284</td>\n",
              "      <td>6.8073754</td>\n",
              "      <td>6.815252</td>\n",
              "      <td>6.837593</td>\n",
              "      <td>6.8288383</td>\n",
              "      <td>6.8142085</td>\n",
              "      <td>6.8291492</td>\n",
              "      <td>6.839721</td>\n",
              "      <td>6.829086</td>\n",
              "      <td>6.8297806</td>\n",
              "      <td>...</td>\n",
              "      <td>0.0</td>\n",
              "      <td>0.0</td>\n",
              "      <td>0.0</td>\n",
              "      <td>0.0</td>\n",
              "      <td>0.0</td>\n",
              "      <td>0.0</td>\n",
              "      <td>0.0</td>\n",
              "      <td>0.0</td>\n",
              "      <td>0.0</td>\n",
              "      <td>I have to confess right off that I have never...</td>\n",
              "    </tr>\n",
              "    <tr>\n",
              "      <th>4</th>\n",
              "      <td>-1.2836598</td>\n",
              "      <td>-0.4001289</td>\n",
              "      <td>0.5285263</td>\n",
              "      <td>0.7745479</td>\n",
              "      <td>0.9919106</td>\n",
              "      <td>1.5789523</td>\n",
              "      <td>1.7448826</td>\n",
              "      <td>1.9021629</td>\n",
              "      <td>2.0690417</td>\n",
              "      <td>2.0943875</td>\n",
              "      <td>...</td>\n",
              "      <td>0.0</td>\n",
              "      <td>0.0</td>\n",
              "      <td>0.0</td>\n",
              "      <td>0.0</td>\n",
              "      <td>0.0</td>\n",
              "      <td>0.0</td>\n",
              "      <td>0.0</td>\n",
              "      <td>0.0</td>\n",
              "      <td>1.0</td>\n",
              "      <td>how much of a movie like this is really worth?</td>\n",
              "    </tr>\n",
              "    <tr>\n",
              "      <th>5</th>\n",
              "      <td>4.4483576</td>\n",
              "      <td>4.500548</td>\n",
              "      <td>4.587584</td>\n",
              "      <td>4.5866117</td>\n",
              "      <td>4.6730986</td>\n",
              "      <td>4.6625166</td>\n",
              "      <td>4.66636</td>\n",
              "      <td>4.734633</td>\n",
              "      <td>4.7884517</td>\n",
              "      <td>4.7935615</td>\n",
              "      <td>...</td>\n",
              "      <td>0.0</td>\n",
              "      <td>0.0</td>\n",
              "      <td>0.0</td>\n",
              "      <td>0.0</td>\n",
              "      <td>0.0</td>\n",
              "      <td>0.0</td>\n",
              "      <td>0.0</td>\n",
              "      <td>0.0</td>\n",
              "      <td>0.0</td>\n",
              "      <td>I love cartoons. They can show things that fi...</td>\n",
              "    </tr>\n",
              "    <tr>\n",
              "      <th>...</th>\n",
              "      <td>...</td>\n",
              "      <td>...</td>\n",
              "      <td>...</td>\n",
              "      <td>...</td>\n",
              "      <td>...</td>\n",
              "      <td>...</td>\n",
              "      <td>...</td>\n",
              "      <td>...</td>\n",
              "      <td>...</td>\n",
              "      <td>...</td>\n",
              "      <td>...</td>\n",
              "      <td>...</td>\n",
              "      <td>...</td>\n",
              "      <td>...</td>\n",
              "      <td>...</td>\n",
              "      <td>...</td>\n",
              "      <td>...</td>\n",
              "      <td>...</td>\n",
              "      <td>...</td>\n",
              "      <td>...</td>\n",
              "      <td>...</td>\n",
              "    </tr>\n",
              "    <tr>\n",
              "      <th>95</th>\n",
              "      <td>5.7667904</td>\n",
              "      <td>6.564155</td>\n",
              "      <td>6.650666</td>\n",
              "      <td>6.7062907</td>\n",
              "      <td>6.687439</td>\n",
              "      <td>6.728218</td>\n",
              "      <td>6.734296</td>\n",
              "      <td>6.7805886</td>\n",
              "      <td>6.697718</td>\n",
              "      <td>6.7659907</td>\n",
              "      <td>...</td>\n",
              "      <td>0.0</td>\n",
              "      <td>0.0</td>\n",
              "      <td>0.0</td>\n",
              "      <td>0.0</td>\n",
              "      <td>0.0</td>\n",
              "      <td>0.0</td>\n",
              "      <td>0.0</td>\n",
              "      <td>0.0</td>\n",
              "      <td>0.0</td>\n",
              "      <td>Until now, the worst movie I had ever seen wa...</td>\n",
              "    </tr>\n",
              "    <tr>\n",
              "      <th>96</th>\n",
              "      <td>0.27305487</td>\n",
              "      <td>0.3186863</td>\n",
              "      <td>0.44006592</td>\n",
              "      <td>0.47765747</td>\n",
              "      <td>0.53720194</td>\n",
              "      <td>0.53256446</td>\n",
              "      <td>0.68625796</td>\n",
              "      <td>0.5999099</td>\n",
              "      <td>0.7505326</td>\n",
              "      <td>0.7529595</td>\n",
              "      <td>...</td>\n",
              "      <td>0.0</td>\n",
              "      <td>0.0</td>\n",
              "      <td>0.0</td>\n",
              "      <td>0.0</td>\n",
              "      <td>0.0</td>\n",
              "      <td>0.0</td>\n",
              "      <td>0.0</td>\n",
              "      <td>0.0</td>\n",
              "      <td>1.0</td>\n",
              "      <td>as a teenager, I was in high school. It was f...</td>\n",
              "    </tr>\n",
              "    <tr>\n",
              "      <th>97</th>\n",
              "      <td>-0.14608648</td>\n",
              "      <td>0.07633425</td>\n",
              "      <td>0.104858935</td>\n",
              "      <td>0.07504178</td>\n",
              "      <td>0.18604732</td>\n",
              "      <td>0.18962945</td>\n",
              "      <td>0.1912462</td>\n",
              "      <td>0.2242514</td>\n",
              "      <td>0.20837694</td>\n",
              "      <td>0.29939348</td>\n",
              "      <td>...</td>\n",
              "      <td>0.0</td>\n",
              "      <td>0.0</td>\n",
              "      <td>0.0</td>\n",
              "      <td>0.0</td>\n",
              "      <td>0.0</td>\n",
              "      <td>0.0</td>\n",
              "      <td>0.0</td>\n",
              "      <td>0.0</td>\n",
              "      <td>1.0</td>\n",
              "      <td>professor Andoheb (George Zucco) is likely to...</td>\n",
              "    </tr>\n",
              "    <tr>\n",
              "      <th>98</th>\n",
              "      <td>6.537165</td>\n",
              "      <td>6.6296167</td>\n",
              "      <td>6.6432133</td>\n",
              "      <td>6.644365</td>\n",
              "      <td>6.667001</td>\n",
              "      <td>6.6653576</td>\n",
              "      <td>6.6555653</td>\n",
              "      <td>6.6697197</td>\n",
              "      <td>6.664895</td>\n",
              "      <td>6.673421</td>\n",
              "      <td>...</td>\n",
              "      <td>0.0</td>\n",
              "      <td>0.0</td>\n",
              "      <td>0.0</td>\n",
              "      <td>0.0</td>\n",
              "      <td>0.0</td>\n",
              "      <td>0.0</td>\n",
              "      <td>0.0</td>\n",
              "      <td>0.0</td>\n",
              "      <td>0.0</td>\n",
              "      <td>A family looking for some old roadside attrac...</td>\n",
              "    </tr>\n",
              "    <tr>\n",
              "      <th>99</th>\n",
              "      <td>5.910303</td>\n",
              "      <td>6.139991</td>\n",
              "      <td>6.170728</td>\n",
              "      <td>6.2759113</td>\n",
              "      <td>6.3009796</td>\n",
              "      <td>6.323767</td>\n",
              "      <td>6.3298798</td>\n",
              "      <td>6.3376803</td>\n",
              "      <td>6.3591375</td>\n",
              "      <td>6.406637</td>\n",
              "      <td>...</td>\n",
              "      <td>0.0</td>\n",
              "      <td>0.0</td>\n",
              "      <td>0.0</td>\n",
              "      <td>0.0</td>\n",
              "      <td>0.0</td>\n",
              "      <td>0.0</td>\n",
              "      <td>0.0</td>\n",
              "      <td>0.0</td>\n",
              "      <td>0.0</td>\n",
              "      <td>As someone who has read the book, I can say t...</td>\n",
              "    </tr>\n",
              "  </tbody>\n",
              "</table>\n",
              "<p>99 rows × 514 columns</p>\n",
              "</div>\n",
              "      <button class=\"colab-df-convert\" onclick=\"convertToInteractive('df-3d99762c-627c-4a32-9177-a33714ff02c6')\"\n",
              "              title=\"Convert this dataframe to an interactive table.\"\n",
              "              style=\"display:none;\">\n",
              "        \n",
              "  <svg xmlns=\"http://www.w3.org/2000/svg\" height=\"24px\"viewBox=\"0 0 24 24\"\n",
              "       width=\"24px\">\n",
              "    <path d=\"M0 0h24v24H0V0z\" fill=\"none\"/>\n",
              "    <path d=\"M18.56 5.44l.94 2.06.94-2.06 2.06-.94-2.06-.94-.94-2.06-.94 2.06-2.06.94zm-11 1L8.5 8.5l.94-2.06 2.06-.94-2.06-.94L8.5 2.5l-.94 2.06-2.06.94zm10 10l.94 2.06.94-2.06 2.06-.94-2.06-.94-.94-2.06-.94 2.06-2.06.94z\"/><path d=\"M17.41 7.96l-1.37-1.37c-.4-.4-.92-.59-1.43-.59-.52 0-1.04.2-1.43.59L10.3 9.45l-7.72 7.72c-.78.78-.78 2.05 0 2.83L4 21.41c.39.39.9.59 1.41.59.51 0 1.02-.2 1.41-.59l7.78-7.78 2.81-2.81c.8-.78.8-2.07 0-2.86zM5.41 20L4 18.59l7.72-7.72 1.47 1.35L5.41 20z\"/>\n",
              "  </svg>\n",
              "      </button>\n",
              "      \n",
              "  <style>\n",
              "    .colab-df-container {\n",
              "      display:flex;\n",
              "      flex-wrap:wrap;\n",
              "      gap: 12px;\n",
              "    }\n",
              "\n",
              "    .colab-df-convert {\n",
              "      background-color: #E8F0FE;\n",
              "      border: none;\n",
              "      border-radius: 50%;\n",
              "      cursor: pointer;\n",
              "      display: none;\n",
              "      fill: #1967D2;\n",
              "      height: 32px;\n",
              "      padding: 0 0 0 0;\n",
              "      width: 32px;\n",
              "    }\n",
              "\n",
              "    .colab-df-convert:hover {\n",
              "      background-color: #E2EBFA;\n",
              "      box-shadow: 0px 1px 2px rgba(60, 64, 67, 0.3), 0px 1px 3px 1px rgba(60, 64, 67, 0.15);\n",
              "      fill: #174EA6;\n",
              "    }\n",
              "\n",
              "    [theme=dark] .colab-df-convert {\n",
              "      background-color: #3B4455;\n",
              "      fill: #D2E3FC;\n",
              "    }\n",
              "\n",
              "    [theme=dark] .colab-df-convert:hover {\n",
              "      background-color: #434B5C;\n",
              "      box-shadow: 0px 1px 3px 1px rgba(0, 0, 0, 0.15);\n",
              "      filter: drop-shadow(0px 1px 2px rgba(0, 0, 0, 0.3));\n",
              "      fill: #FFFFFF;\n",
              "    }\n",
              "  </style>\n",
              "\n",
              "      <script>\n",
              "        const buttonEl =\n",
              "          document.querySelector('#df-3d99762c-627c-4a32-9177-a33714ff02c6 button.colab-df-convert');\n",
              "        buttonEl.style.display =\n",
              "          google.colab.kernel.accessAllowed ? 'block' : 'none';\n",
              "\n",
              "        async function convertToInteractive(key) {\n",
              "          const element = document.querySelector('#df-3d99762c-627c-4a32-9177-a33714ff02c6');\n",
              "          const dataTable =\n",
              "            await google.colab.kernel.invokeFunction('convertToInteractive',\n",
              "                                                     [key], {});\n",
              "          if (!dataTable) return;\n",
              "\n",
              "          const docLinkHtml = 'Like what you see? Visit the ' +\n",
              "            '<a target=\"_blank\" href=https://colab.research.google.com/notebooks/data_table.ipynb>data table notebook</a>'\n",
              "            + ' to learn more about interactive tables.';\n",
              "          element.innerHTML = '';\n",
              "          dataTable['output_type'] = 'display_data';\n",
              "          await google.colab.output.renderOutput(dataTable, element);\n",
              "          const docLink = document.createElement('div');\n",
              "          docLink.innerHTML = docLinkHtml;\n",
              "          element.appendChild(docLink);\n",
              "        }\n",
              "      </script>\n",
              "    </div>\n",
              "  </div>\n",
              "  "
            ]
          },
          "metadata": {},
          "execution_count": 46
        }
      ]
    },
    {
      "cell_type": "code",
      "source": [
        "y = data_train['y_label'].values\n",
        "x = data_train.drop(columns=['y_label', 'sentence']).values"
      ],
      "metadata": {
        "id": "hiG9h-j-3o2s"
      },
      "execution_count": 47,
      "outputs": []
    },
    {
      "cell_type": "code",
      "source": [
        "y_test = data_test['y_label'].values\n",
        "x_test = data_test.drop(columns=['y_label', 'sentence']).values"
      ],
      "metadata": {
        "id": "MpFNLyWV3pWV"
      },
      "execution_count": 56,
      "outputs": []
    },
    {
      "cell_type": "markdown",
      "metadata": {
        "id": "q3WCIbfDGoqG"
      },
      "source": [
        "# Model training and comparison\n",
        "\n",
        "We train different models and compare their performance."
      ]
    },
    {
      "cell_type": "markdown",
      "metadata": {
        "id": "2ftPvIuxmBlS"
      },
      "source": [
        "### Random forest"
      ]
    },
    {
      "cell_type": "code",
      "execution_count": 57,
      "metadata": {
        "colab": {
          "base_uri": "https://localhost:8080/"
        },
        "id": "TJE-47xY2u_F",
        "outputId": "5f66ee81-c446-4423-9eb0-ce7e66a36e96"
      },
      "outputs": [
        {
          "output_type": "execute_result",
          "data": {
            "text/plain": [
              "RandomForestClassifier(min_samples_leaf=2, min_samples_split=10,\n",
              "                       n_estimators=1600)"
            ]
          },
          "metadata": {},
          "execution_count": 57
        }
      ],
      "source": [
        "from sklearn.ensemble import RandomForestClassifier\n",
        "\n",
        "# Create the model using best parameters found\n",
        "model = RandomForestClassifier(n_estimators=1600,\n",
        "                               min_samples_split=10,\n",
        "                               min_samples_leaf=2,\n",
        "                               max_features='auto',\n",
        "                               max_depth=None, \n",
        "                               bootstrap = True)\n",
        "# Fit on training data\n",
        "model.fit(x, y)"
      ]
    },
    {
      "cell_type": "code",
      "execution_count": 58,
      "metadata": {
        "id": "9Zgrj0u_3PNM"
      },
      "outputs": [],
      "source": [
        "# Actual class predictions\n",
        "rf_predictions = model.predict(x_test)"
      ]
    },
    {
      "cell_type": "code",
      "execution_count": 59,
      "metadata": {
        "colab": {
          "base_uri": "https://localhost:8080/"
        },
        "id": "0163kTVX3Sjo",
        "outputId": "179374b3-859f-4ef3-fdd4-8b4a6080bb72"
      },
      "outputs": [
        {
          "output_type": "execute_result",
          "data": {
            "text/plain": [
              "0.98989898989899"
            ]
          },
          "metadata": {},
          "execution_count": 59
        }
      ],
      "source": [
        "np.sum(rf_predictions==y_test)/len(y_test)"
      ]
    },
    {
      "cell_type": "code",
      "execution_count": 60,
      "metadata": {
        "colab": {
          "base_uri": "https://localhost:8080/"
        },
        "id": "ZuD9VPNdAxh5",
        "outputId": "538d7516-a270-4679-8da3-aa6169ac6bb7"
      },
      "outputs": [
        {
          "output_type": "stream",
          "name": "stdout",
          "text": [
            "              precision    recall  f1-score   support\n",
            "\n",
            "         0.0      1.000     0.981     0.990        52\n",
            "         1.0      0.979     1.000     0.989        47\n",
            "\n",
            "    accuracy                          0.990        99\n",
            "   macro avg      0.990     0.990     0.990        99\n",
            "weighted avg      0.990     0.990     0.990        99\n",
            "\n",
            "[[51  1]\n",
            " [ 0 47]]\n"
          ]
        }
      ],
      "source": [
        "from sklearn.metrics import classification_report, confusion_matrix\n",
        "print(classification_report(y_test, rf_predictions, digits=3))\n",
        "print(confusion_matrix(y_test, rf_predictions))"
      ]
    },
    {
      "cell_type": "markdown",
      "metadata": {
        "id": "ji70i7tT4Z4B"
      },
      "source": [
        "### XGBoost\n",
        "\n",
        "Best performing model. Hyperparamter tuning done with Dataiku."
      ]
    },
    {
      "cell_type": "code",
      "execution_count": 61,
      "metadata": {
        "id": "rDNzQp9d4PP0"
      },
      "outputs": [],
      "source": [
        "import xgboost as xgb"
      ]
    },
    {
      "cell_type": "code",
      "execution_count": 62,
      "metadata": {
        "id": "xyIrUTHJ4i8p"
      },
      "outputs": [],
      "source": [
        "xgb_classifier = xgb.XGBClassifier(\n",
        "                    max_depth=3,\n",
        "                    learning_rate=0.34281802,\n",
        "                    gamma=0.6770816,\n",
        "                    min_child_weight=2.5520658,\n",
        "                    max_delta_step=0.71469694,\n",
        "                    subsample=0.61460966,\n",
        "                    colsample_bytree=0.73929816,\n",
        "                    colsample_bylevel=0.87191725,\n",
        "                    reg_alpha=0.9064181,\n",
        "                    reg_lambda=0.5686102,\n",
        "                    n_estimators=29,\n",
        "                    silent=0,\n",
        "                    nthread=4,\n",
        "                    scale_pos_weight=1.0,\n",
        "                    base_score=0.5,\n",
        "                    missing=None,\n",
        "                  )"
      ]
    },
    {
      "cell_type": "code",
      "execution_count": 63,
      "metadata": {
        "colab": {
          "base_uri": "https://localhost:8080/"
        },
        "id": "jFRBurXZ4ohr",
        "outputId": "b07505b8-55b1-419e-873a-bcbf9ae608ad"
      },
      "outputs": [
        {
          "output_type": "execute_result",
          "data": {
            "text/plain": [
              "XGBClassifier(colsample_bylevel=0.87191725, colsample_bytree=0.73929816,\n",
              "              gamma=0.6770816, learning_rate=0.34281802,\n",
              "              max_delta_step=0.71469694, min_child_weight=2.5520658,\n",
              "              n_estimators=29, nthread=4, reg_alpha=0.9064181,\n",
              "              reg_lambda=0.5686102, scale_pos_weight=1.0, silent=0,\n",
              "              subsample=0.61460966)"
            ]
          },
          "metadata": {},
          "execution_count": 63
        }
      ],
      "source": [
        "xgb_classifier.fit(x, y)"
      ]
    },
    {
      "cell_type": "code",
      "execution_count": 64,
      "metadata": {
        "id": "tfqAluu-4qik"
      },
      "outputs": [],
      "source": [
        "xgb_predictions = xgb_classifier.predict(x_test)"
      ]
    },
    {
      "cell_type": "code",
      "execution_count": 66,
      "metadata": {
        "colab": {
          "base_uri": "https://localhost:8080/"
        },
        "id": "Wla48ARQA8Ff",
        "outputId": "7c5288f5-46f3-4e8f-ddb3-7a27f32686a3"
      },
      "outputs": [
        {
          "output_type": "stream",
          "name": "stdout",
          "text": [
            "              precision    recall  f1-score   support\n",
            "\n",
            "         0.0      1.000     1.000     1.000        52\n",
            "         1.0      1.000     1.000     1.000        47\n",
            "\n",
            "    accuracy                          1.000        99\n",
            "   macro avg      1.000     1.000     1.000        99\n",
            "weighted avg      1.000     1.000     1.000        99\n",
            "\n",
            "[[52  0]\n",
            " [ 0 47]]\n"
          ]
        }
      ],
      "source": [
        "print(classification_report(y_test, xgb_predictions, digits=3))\n",
        "print(confusion_matrix(y_test, xgb_predictions))"
      ]
    },
    {
      "cell_type": "code",
      "source": [
        "import pickle\n",
        "pickle.dump(xgb_classifier, open(\"/content/drive/MyDrive/AdversarialXAI/Classifiers/WDR/imdb_styleadv_100_classifier.pickle\", \"wb\"))"
      ],
      "metadata": {
        "id": "rWwjYk7q4TnE"
      },
      "execution_count": 67,
      "outputs": []
    },
    {
      "cell_type": "code",
      "source": [
        "xgb_classifier.save_model(\"/content/drive/MyDrive/AdversarialXAI/Classifiers/WDR/imdb_styleadv_100_classifier.json\")"
      ],
      "metadata": {
        "id": "Hcdvf-_65iki"
      },
      "execution_count": 68,
      "outputs": []
    },
    {
      "cell_type": "code",
      "source": [
        "# temp = pickle.load(open(\"/content/drive/MyDrive/AdversarialXAI/Classifiers/WDR/imdb_styleadv_100_classifier.pickle\", 'rb'))"
      ],
      "metadata": {
        "id": "MOVWX55753Zn"
      },
      "execution_count": 69,
      "outputs": []
    },
    {
      "cell_type": "code",
      "source": [
        "# print(classification_report(y_test, temp.predict(x_test), digits=3))"
      ],
      "metadata": {
        "id": "sXeR-pzo5_1_",
        "outputId": "a4140051-0069-417d-d836-cf60b4b27199",
        "colab": {
          "base_uri": "https://localhost:8080/"
        }
      },
      "execution_count": 72,
      "outputs": [
        {
          "output_type": "stream",
          "name": "stdout",
          "text": [
            "              precision    recall  f1-score   support\n",
            "\n",
            "         0.0      1.000     1.000     1.000        52\n",
            "         1.0      1.000     1.000     1.000        47\n",
            "\n",
            "    accuracy                          1.000        99\n",
            "   macro avg      1.000     1.000     1.000        99\n",
            "weighted avg      1.000     1.000     1.000        99\n",
            "\n"
          ]
        }
      ]
    },
    {
      "cell_type": "markdown",
      "metadata": {
        "id": "_7WrC0LE493U"
      },
      "source": [
        "### AdaBoost classifier"
      ]
    },
    {
      "cell_type": "code",
      "execution_count": null,
      "metadata": {
        "id": "706A1Vqd43Qf"
      },
      "outputs": [],
      "source": [
        "from sklearn.ensemble import AdaBoostClassifier"
      ]
    },
    {
      "cell_type": "code",
      "execution_count": null,
      "metadata": {
        "id": "o-Yl5c-A5BSu"
      },
      "outputs": [],
      "source": [
        "abc = AdaBoostClassifier()"
      ]
    },
    {
      "cell_type": "code",
      "execution_count": null,
      "metadata": {
        "colab": {
          "base_uri": "https://localhost:8080/"
        },
        "id": "IoE3Ku7x5Fic",
        "outputId": "be4ef664-a99d-429f-fbc7-70442eaa8362"
      },
      "outputs": [
        {
          "data": {
            "text/plain": [
              "AdaBoostClassifier(algorithm='SAMME.R', base_estimator=None, learning_rate=1.0,\n",
              "                   n_estimators=50, random_state=None)"
            ]
          },
          "execution_count": 65,
          "metadata": {
            "tags": []
          },
          "output_type": "execute_result"
        }
      ],
      "source": [
        "abc.fit(x, y)"
      ]
    },
    {
      "cell_type": "code",
      "execution_count": null,
      "metadata": {
        "id": "nxBWTfvA5Snt"
      },
      "outputs": [],
      "source": [
        "abc_predictions = abc.predict(x_test)"
      ]
    },
    {
      "cell_type": "code",
      "execution_count": null,
      "metadata": {
        "colab": {
          "base_uri": "https://localhost:8080/"
        },
        "id": "LvMmHP8X5WD9",
        "outputId": "766a5870-b977-48e6-8872-9cbb709b9afe"
      },
      "outputs": [
        {
          "data": {
            "text/plain": [
              "0.918"
            ]
          },
          "execution_count": 67,
          "metadata": {
            "tags": []
          },
          "output_type": "execute_result"
        }
      ],
      "source": [
        "np.sum(abc_predictions==y_test)/len(y_test)"
      ]
    },
    {
      "cell_type": "code",
      "execution_count": null,
      "metadata": {
        "colab": {
          "base_uri": "https://localhost:8080/"
        },
        "id": "RbDTgEtUBfWB",
        "outputId": "81011d9b-b3fd-44b8-83ba-8358eac91e9f"
      },
      "outputs": [
        {
          "name": "stdout",
          "output_type": "stream",
          "text": [
            "              precision    recall  f1-score   support\n",
            "\n",
            "         0.0      0.956     0.875     0.914       248\n",
            "         1.0      0.886     0.960     0.922       252\n",
            "\n",
            "    accuracy                          0.918       500\n",
            "   macro avg      0.921     0.918     0.918       500\n",
            "weighted avg      0.921     0.918     0.918       500\n",
            "\n",
            "[[217  31]\n",
            " [ 10 242]]\n"
          ]
        }
      ],
      "source": [
        "print(classification_report(y_test, abc_predictions, digits=3))\n",
        "print(confusion_matrix(y_test, abc_predictions))"
      ]
    },
    {
      "cell_type": "markdown",
      "metadata": {
        "id": "FnN-pUktttZ_"
      },
      "source": [
        "### LightGBM"
      ]
    },
    {
      "cell_type": "code",
      "execution_count": null,
      "metadata": {
        "id": "hTtL5YVVtvEV"
      },
      "outputs": [],
      "source": [
        "import lightgbm as lgb"
      ]
    },
    {
      "cell_type": "code",
      "execution_count": null,
      "metadata": {
        "id": "NlfaoFqptxLJ"
      },
      "outputs": [],
      "source": [
        "parameters = {\n",
        "    'objective': 'binary',\n",
        "    'application': 'binary',\n",
        "    'metric': ['binary_logloss'],\n",
        "    'num_leaves': 35,\n",
        "    'learning_rate': 0.13,\n",
        "    'verbose': 1\n",
        "}"
      ]
    },
    {
      "cell_type": "code",
      "execution_count": null,
      "metadata": {
        "id": "ClFNYu-OuVWM"
      },
      "outputs": [],
      "source": [
        "train_data = lgb.Dataset(x, label=y)\n",
        "test_data = lgb.Dataset(x_test, label=y_test)"
      ]
    },
    {
      "cell_type": "code",
      "execution_count": null,
      "metadata": {
        "colab": {
          "base_uri": "https://localhost:8080/"
        },
        "id": "AqhNtf00uKwP",
        "outputId": "7d9ab187-1558-4e07-e2c5-8d510d90b13b"
      },
      "outputs": [
        {
          "name": "stdout",
          "output_type": "stream",
          "text": [
            "[1]\tvalid_0's binary_logloss: 0.597939\n",
            "[2]\tvalid_0's binary_logloss: 0.525612\n",
            "[3]\tvalid_0's binary_logloss: 0.469367\n",
            "[4]\tvalid_0's binary_logloss: 0.423547\n",
            "[5]\tvalid_0's binary_logloss: 0.387778\n",
            "[6]\tvalid_0's binary_logloss: 0.357721\n",
            "[7]\tvalid_0's binary_logloss: 0.331829\n",
            "[8]\tvalid_0's binary_logloss: 0.310683\n",
            "[9]\tvalid_0's binary_logloss: 0.293977\n",
            "[10]\tvalid_0's binary_logloss: 0.280445\n",
            "[11]\tvalid_0's binary_logloss: 0.268066\n",
            "[12]\tvalid_0's binary_logloss: 0.257237\n",
            "[13]\tvalid_0's binary_logloss: 0.248693\n",
            "[14]\tvalid_0's binary_logloss: 0.241157\n",
            "[15]\tvalid_0's binary_logloss: 0.23551\n",
            "[16]\tvalid_0's binary_logloss: 0.230435\n",
            "[17]\tvalid_0's binary_logloss: 0.22547\n",
            "[18]\tvalid_0's binary_logloss: 0.223468\n",
            "[19]\tvalid_0's binary_logloss: 0.22089\n",
            "[20]\tvalid_0's binary_logloss: 0.219927\n",
            "[21]\tvalid_0's binary_logloss: 0.218465\n",
            "[22]\tvalid_0's binary_logloss: 0.21647\n",
            "[23]\tvalid_0's binary_logloss: 0.214435\n",
            "[24]\tvalid_0's binary_logloss: 0.213436\n",
            "[25]\tvalid_0's binary_logloss: 0.21353\n",
            "[26]\tvalid_0's binary_logloss: 0.214022\n",
            "[27]\tvalid_0's binary_logloss: 0.21455\n",
            "[28]\tvalid_0's binary_logloss: 0.214332\n",
            "[29]\tvalid_0's binary_logloss: 0.213994\n",
            "[30]\tvalid_0's binary_logloss: 0.214365\n",
            "[31]\tvalid_0's binary_logloss: 0.215326\n",
            "[32]\tvalid_0's binary_logloss: 0.2159\n",
            "[33]\tvalid_0's binary_logloss: 0.217941\n",
            "[34]\tvalid_0's binary_logloss: 0.220012\n",
            "[35]\tvalid_0's binary_logloss: 0.221169\n",
            "[36]\tvalid_0's binary_logloss: 0.221901\n",
            "[37]\tvalid_0's binary_logloss: 0.2228\n",
            "[38]\tvalid_0's binary_logloss: 0.224233\n",
            "[39]\tvalid_0's binary_logloss: 0.225725\n",
            "[40]\tvalid_0's binary_logloss: 0.227135\n",
            "[41]\tvalid_0's binary_logloss: 0.227536\n",
            "[42]\tvalid_0's binary_logloss: 0.227412\n",
            "[43]\tvalid_0's binary_logloss: 0.228044\n",
            "[44]\tvalid_0's binary_logloss: 0.228545\n",
            "[45]\tvalid_0's binary_logloss: 0.228542\n",
            "[46]\tvalid_0's binary_logloss: 0.229563\n",
            "[47]\tvalid_0's binary_logloss: 0.230307\n",
            "[48]\tvalid_0's binary_logloss: 0.230962\n",
            "[49]\tvalid_0's binary_logloss: 0.23147\n",
            "[50]\tvalid_0's binary_logloss: 0.232445\n",
            "[51]\tvalid_0's binary_logloss: 0.233729\n",
            "[52]\tvalid_0's binary_logloss: 0.234104\n",
            "[53]\tvalid_0's binary_logloss: 0.235964\n",
            "[54]\tvalid_0's binary_logloss: 0.237279\n",
            "[55]\tvalid_0's binary_logloss: 0.237751\n",
            "[56]\tvalid_0's binary_logloss: 0.237972\n",
            "[57]\tvalid_0's binary_logloss: 0.238326\n",
            "[58]\tvalid_0's binary_logloss: 0.239714\n",
            "[59]\tvalid_0's binary_logloss: 0.24034\n",
            "[60]\tvalid_0's binary_logloss: 0.240946\n",
            "[61]\tvalid_0's binary_logloss: 0.243098\n",
            "[62]\tvalid_0's binary_logloss: 0.24568\n",
            "[63]\tvalid_0's binary_logloss: 0.245631\n",
            "[64]\tvalid_0's binary_logloss: 0.246555\n",
            "[65]\tvalid_0's binary_logloss: 0.24661\n",
            "[66]\tvalid_0's binary_logloss: 0.248235\n",
            "[67]\tvalid_0's binary_logloss: 0.249583\n",
            "[68]\tvalid_0's binary_logloss: 0.250729\n",
            "[69]\tvalid_0's binary_logloss: 0.25111\n",
            "[70]\tvalid_0's binary_logloss: 0.252287\n",
            "[71]\tvalid_0's binary_logloss: 0.252956\n",
            "[72]\tvalid_0's binary_logloss: 0.253684\n",
            "[73]\tvalid_0's binary_logloss: 0.254974\n",
            "[74]\tvalid_0's binary_logloss: 0.257055\n",
            "[75]\tvalid_0's binary_logloss: 0.257503\n",
            "[76]\tvalid_0's binary_logloss: 0.258727\n",
            "[77]\tvalid_0's binary_logloss: 0.258623\n",
            "[78]\tvalid_0's binary_logloss: 0.260144\n",
            "[79]\tvalid_0's binary_logloss: 0.261282\n",
            "[80]\tvalid_0's binary_logloss: 0.262286\n",
            "[81]\tvalid_0's binary_logloss: 0.263384\n",
            "[82]\tvalid_0's binary_logloss: 0.263874\n",
            "[83]\tvalid_0's binary_logloss: 0.264223\n",
            "[84]\tvalid_0's binary_logloss: 0.265304\n",
            "[85]\tvalid_0's binary_logloss: 0.265796\n",
            "[86]\tvalid_0's binary_logloss: 0.267569\n",
            "[87]\tvalid_0's binary_logloss: 0.268912\n",
            "[88]\tvalid_0's binary_logloss: 0.269089\n",
            "[89]\tvalid_0's binary_logloss: 0.270984\n",
            "[90]\tvalid_0's binary_logloss: 0.271197\n",
            "[91]\tvalid_0's binary_logloss: 0.273018\n",
            "[92]\tvalid_0's binary_logloss: 0.274225\n",
            "[93]\tvalid_0's binary_logloss: 0.275077\n",
            "[94]\tvalid_0's binary_logloss: 0.27673\n",
            "[95]\tvalid_0's binary_logloss: 0.277752\n",
            "[96]\tvalid_0's binary_logloss: 0.278937\n",
            "[97]\tvalid_0's binary_logloss: 0.279931\n",
            "[98]\tvalid_0's binary_logloss: 0.281698\n",
            "[99]\tvalid_0's binary_logloss: 0.283304\n",
            "[100]\tvalid_0's binary_logloss: 0.286116\n",
            "[101]\tvalid_0's binary_logloss: 0.285848\n",
            "[102]\tvalid_0's binary_logloss: 0.285932\n",
            "[103]\tvalid_0's binary_logloss: 0.287541\n",
            "[104]\tvalid_0's binary_logloss: 0.289558\n",
            "[105]\tvalid_0's binary_logloss: 0.289793\n",
            "[106]\tvalid_0's binary_logloss: 0.291602\n",
            "[107]\tvalid_0's binary_logloss: 0.291488\n",
            "[108]\tvalid_0's binary_logloss: 0.292978\n",
            "[109]\tvalid_0's binary_logloss: 0.29434\n",
            "[110]\tvalid_0's binary_logloss: 0.296043\n",
            "[111]\tvalid_0's binary_logloss: 0.297743\n",
            "[112]\tvalid_0's binary_logloss: 0.298618\n",
            "[113]\tvalid_0's binary_logloss: 0.300189\n",
            "[114]\tvalid_0's binary_logloss: 0.302157\n",
            "[115]\tvalid_0's binary_logloss: 0.302707\n",
            "[116]\tvalid_0's binary_logloss: 0.304394\n",
            "[117]\tvalid_0's binary_logloss: 0.305014\n",
            "[118]\tvalid_0's binary_logloss: 0.306667\n",
            "[119]\tvalid_0's binary_logloss: 0.307361\n",
            "[120]\tvalid_0's binary_logloss: 0.309253\n",
            "[121]\tvalid_0's binary_logloss: 0.310109\n",
            "[122]\tvalid_0's binary_logloss: 0.311209\n",
            "[123]\tvalid_0's binary_logloss: 0.312531\n",
            "[124]\tvalid_0's binary_logloss: 0.314165\n",
            "[125]\tvalid_0's binary_logloss: 0.315157\n",
            "[126]\tvalid_0's binary_logloss: 0.315586\n",
            "[127]\tvalid_0's binary_logloss: 0.317212\n",
            "[128]\tvalid_0's binary_logloss: 0.317841\n",
            "[129]\tvalid_0's binary_logloss: 0.319013\n",
            "[130]\tvalid_0's binary_logloss: 0.319864\n",
            "[131]\tvalid_0's binary_logloss: 0.321202\n",
            "[132]\tvalid_0's binary_logloss: 0.32139\n",
            "[133]\tvalid_0's binary_logloss: 0.322776\n",
            "[134]\tvalid_0's binary_logloss: 0.323748\n",
            "[135]\tvalid_0's binary_logloss: 0.32327\n",
            "[136]\tvalid_0's binary_logloss: 0.324745\n",
            "[137]\tvalid_0's binary_logloss: 0.324732\n",
            "[138]\tvalid_0's binary_logloss: 0.326681\n",
            "[139]\tvalid_0's binary_logloss: 0.328459\n",
            "[140]\tvalid_0's binary_logloss: 0.329569\n",
            "[141]\tvalid_0's binary_logloss: 0.330331\n",
            "[142]\tvalid_0's binary_logloss: 0.330639\n",
            "[143]\tvalid_0's binary_logloss: 0.332737\n",
            "[144]\tvalid_0's binary_logloss: 0.333735\n",
            "[145]\tvalid_0's binary_logloss: 0.33552\n",
            "[146]\tvalid_0's binary_logloss: 0.337102\n",
            "[147]\tvalid_0's binary_logloss: 0.337981\n",
            "[148]\tvalid_0's binary_logloss: 0.337619\n",
            "[149]\tvalid_0's binary_logloss: 0.338584\n",
            "[150]\tvalid_0's binary_logloss: 0.339682\n",
            "[151]\tvalid_0's binary_logloss: 0.340175\n",
            "[152]\tvalid_0's binary_logloss: 0.342349\n",
            "[153]\tvalid_0's binary_logloss: 0.343471\n",
            "[154]\tvalid_0's binary_logloss: 0.344402\n",
            "[155]\tvalid_0's binary_logloss: 0.346625\n",
            "[156]\tvalid_0's binary_logloss: 0.347953\n",
            "[157]\tvalid_0's binary_logloss: 0.349127\n",
            "[158]\tvalid_0's binary_logloss: 0.350045\n",
            "[159]\tvalid_0's binary_logloss: 0.351787\n",
            "[160]\tvalid_0's binary_logloss: 0.35314\n",
            "[161]\tvalid_0's binary_logloss: 0.354176\n",
            "[162]\tvalid_0's binary_logloss: 0.355748\n",
            "[163]\tvalid_0's binary_logloss: 0.357275\n",
            "[164]\tvalid_0's binary_logloss: 0.358765\n",
            "[165]\tvalid_0's binary_logloss: 0.360803\n",
            "[166]\tvalid_0's binary_logloss: 0.361928\n",
            "[167]\tvalid_0's binary_logloss: 0.364352\n",
            "[168]\tvalid_0's binary_logloss: 0.365028\n",
            "[169]\tvalid_0's binary_logloss: 0.366569\n",
            "[170]\tvalid_0's binary_logloss: 0.366443\n",
            "[171]\tvalid_0's binary_logloss: 0.36648\n",
            "[172]\tvalid_0's binary_logloss: 0.367157\n",
            "[173]\tvalid_0's binary_logloss: 0.368807\n",
            "[174]\tvalid_0's binary_logloss: 0.37052\n",
            "[175]\tvalid_0's binary_logloss: 0.371658\n",
            "[176]\tvalid_0's binary_logloss: 0.371821\n",
            "[177]\tvalid_0's binary_logloss: 0.374335\n",
            "[178]\tvalid_0's binary_logloss: 0.376239\n",
            "[179]\tvalid_0's binary_logloss: 0.37665\n",
            "[180]\tvalid_0's binary_logloss: 0.3769\n",
            "[181]\tvalid_0's binary_logloss: 0.377061\n",
            "[182]\tvalid_0's binary_logloss: 0.378563\n",
            "[183]\tvalid_0's binary_logloss: 0.379002\n",
            "[184]\tvalid_0's binary_logloss: 0.379512\n",
            "[185]\tvalid_0's binary_logloss: 0.381727\n",
            "[186]\tvalid_0's binary_logloss: 0.382914\n",
            "[187]\tvalid_0's binary_logloss: 0.384131\n",
            "[188]\tvalid_0's binary_logloss: 0.387208\n",
            "[189]\tvalid_0's binary_logloss: 0.388376\n",
            "[190]\tvalid_0's binary_logloss: 0.389547\n",
            "[191]\tvalid_0's binary_logloss: 0.390172\n",
            "[192]\tvalid_0's binary_logloss: 0.391797\n",
            "[193]\tvalid_0's binary_logloss: 0.393282\n",
            "[194]\tvalid_0's binary_logloss: 0.394064\n",
            "[195]\tvalid_0's binary_logloss: 0.394255\n",
            "[196]\tvalid_0's binary_logloss: 0.394124\n",
            "[197]\tvalid_0's binary_logloss: 0.396004\n",
            "[198]\tvalid_0's binary_logloss: 0.398291\n",
            "[199]\tvalid_0's binary_logloss: 0.399875\n",
            "[200]\tvalid_0's binary_logloss: 0.401228\n",
            "[201]\tvalid_0's binary_logloss: 0.40183\n",
            "[202]\tvalid_0's binary_logloss: 0.402541\n",
            "[203]\tvalid_0's binary_logloss: 0.403635\n",
            "[204]\tvalid_0's binary_logloss: 0.40358\n",
            "[205]\tvalid_0's binary_logloss: 0.404196\n",
            "[206]\tvalid_0's binary_logloss: 0.406264\n",
            "[207]\tvalid_0's binary_logloss: 0.40748\n",
            "[208]\tvalid_0's binary_logloss: 0.408147\n",
            "[209]\tvalid_0's binary_logloss: 0.410255\n",
            "[210]\tvalid_0's binary_logloss: 0.412155\n",
            "[211]\tvalid_0's binary_logloss: 0.412569\n",
            "[212]\tvalid_0's binary_logloss: 0.413244\n",
            "[213]\tvalid_0's binary_logloss: 0.414225\n",
            "[214]\tvalid_0's binary_logloss: 0.414771\n",
            "[215]\tvalid_0's binary_logloss: 0.41621\n",
            "[216]\tvalid_0's binary_logloss: 0.417202\n",
            "[217]\tvalid_0's binary_logloss: 0.418366\n",
            "[218]\tvalid_0's binary_logloss: 0.418546\n",
            "[219]\tvalid_0's binary_logloss: 0.419096\n",
            "[220]\tvalid_0's binary_logloss: 0.42207\n",
            "[221]\tvalid_0's binary_logloss: 0.424008\n",
            "[222]\tvalid_0's binary_logloss: 0.424899\n",
            "[223]\tvalid_0's binary_logloss: 0.425196\n",
            "[224]\tvalid_0's binary_logloss: 0.42765\n",
            "[225]\tvalid_0's binary_logloss: 0.430378\n",
            "[226]\tvalid_0's binary_logloss: 0.43259\n",
            "[227]\tvalid_0's binary_logloss: 0.434274\n",
            "[228]\tvalid_0's binary_logloss: 0.436001\n",
            "[229]\tvalid_0's binary_logloss: 0.437217\n",
            "[230]\tvalid_0's binary_logloss: 0.439249\n",
            "[231]\tvalid_0's binary_logloss: 0.439986\n",
            "[232]\tvalid_0's binary_logloss: 0.441478\n",
            "[233]\tvalid_0's binary_logloss: 0.442339\n",
            "[234]\tvalid_0's binary_logloss: 0.443367\n",
            "[235]\tvalid_0's binary_logloss: 0.444185\n",
            "[236]\tvalid_0's binary_logloss: 0.446005\n",
            "[237]\tvalid_0's binary_logloss: 0.447037\n",
            "[238]\tvalid_0's binary_logloss: 0.447652\n",
            "[239]\tvalid_0's binary_logloss: 0.44804\n",
            "[240]\tvalid_0's binary_logloss: 0.450095\n",
            "[241]\tvalid_0's binary_logloss: 0.451491\n",
            "[242]\tvalid_0's binary_logloss: 0.453067\n",
            "[243]\tvalid_0's binary_logloss: 0.454223\n",
            "[244]\tvalid_0's binary_logloss: 0.455942\n",
            "[245]\tvalid_0's binary_logloss: 0.457342\n",
            "[246]\tvalid_0's binary_logloss: 0.459146\n",
            "[247]\tvalid_0's binary_logloss: 0.460036\n",
            "[248]\tvalid_0's binary_logloss: 0.462192\n",
            "[249]\tvalid_0's binary_logloss: 0.463151\n",
            "[250]\tvalid_0's binary_logloss: 0.465218\n",
            "[251]\tvalid_0's binary_logloss: 0.466708\n",
            "[252]\tvalid_0's binary_logloss: 0.467443\n",
            "[253]\tvalid_0's binary_logloss: 0.469669\n",
            "[254]\tvalid_0's binary_logloss: 0.471432\n",
            "[255]\tvalid_0's binary_logloss: 0.472225\n",
            "[256]\tvalid_0's binary_logloss: 0.472677\n",
            "[257]\tvalid_0's binary_logloss: 0.474475\n",
            "[258]\tvalid_0's binary_logloss: 0.475008\n",
            "[259]\tvalid_0's binary_logloss: 0.476024\n",
            "[260]\tvalid_0's binary_logloss: 0.478013\n",
            "[261]\tvalid_0's binary_logloss: 0.4797\n",
            "[262]\tvalid_0's binary_logloss: 0.48092\n",
            "[263]\tvalid_0's binary_logloss: 0.481647\n",
            "[264]\tvalid_0's binary_logloss: 0.482885\n",
            "[265]\tvalid_0's binary_logloss: 0.483654\n",
            "[266]\tvalid_0's binary_logloss: 0.484077\n",
            "[267]\tvalid_0's binary_logloss: 0.485454\n",
            "[268]\tvalid_0's binary_logloss: 0.486334\n",
            "[269]\tvalid_0's binary_logloss: 0.488018\n",
            "[270]\tvalid_0's binary_logloss: 0.487909\n",
            "[271]\tvalid_0's binary_logloss: 0.488638\n",
            "[272]\tvalid_0's binary_logloss: 0.489475\n",
            "[273]\tvalid_0's binary_logloss: 0.490018\n",
            "[274]\tvalid_0's binary_logloss: 0.491027\n",
            "[275]\tvalid_0's binary_logloss: 0.492647\n",
            "[276]\tvalid_0's binary_logloss: 0.494941\n",
            "[277]\tvalid_0's binary_logloss: 0.495458\n",
            "[278]\tvalid_0's binary_logloss: 0.497401\n",
            "[279]\tvalid_0's binary_logloss: 0.499041\n",
            "[280]\tvalid_0's binary_logloss: 0.500703\n",
            "[281]\tvalid_0's binary_logloss: 0.503619\n",
            "[282]\tvalid_0's binary_logloss: 0.50474\n",
            "[283]\tvalid_0's binary_logloss: 0.506614\n",
            "[284]\tvalid_0's binary_logloss: 0.507509\n",
            "[285]\tvalid_0's binary_logloss: 0.50648\n",
            "[286]\tvalid_0's binary_logloss: 0.50831\n",
            "[287]\tvalid_0's binary_logloss: 0.509712\n",
            "[288]\tvalid_0's binary_logloss: 0.510637\n",
            "[289]\tvalid_0's binary_logloss: 0.512079\n",
            "[290]\tvalid_0's binary_logloss: 0.514424\n",
            "[291]\tvalid_0's binary_logloss: 0.516105\n",
            "[292]\tvalid_0's binary_logloss: 0.518416\n",
            "[293]\tvalid_0's binary_logloss: 0.519068\n",
            "[294]\tvalid_0's binary_logloss: 0.520845\n",
            "[295]\tvalid_0's binary_logloss: 0.523428\n",
            "[296]\tvalid_0's binary_logloss: 0.525182\n",
            "[297]\tvalid_0's binary_logloss: 0.526087\n",
            "[298]\tvalid_0's binary_logloss: 0.527105\n",
            "[299]\tvalid_0's binary_logloss: 0.529075\n",
            "[300]\tvalid_0's binary_logloss: 0.530392\n"
          ]
        }
      ],
      "source": [
        "lgbm_classifier = lgb.train(parameters,\n",
        "                       train_data,\n",
        "                       valid_sets=test_data,\n",
        "                       num_boost_round=300)"
      ]
    },
    {
      "cell_type": "code",
      "execution_count": null,
      "metadata": {
        "id": "W78pbOqTuvGh"
      },
      "outputs": [],
      "source": [
        "y_hat = lgbm_classifier.predict(x_test)"
      ]
    },
    {
      "cell_type": "code",
      "execution_count": null,
      "metadata": {
        "colab": {
          "base_uri": "https://localhost:8080/"
        },
        "id": "anci99rWv2ht",
        "outputId": "cce80ca7-fd7a-4a4c-b670-150c90ce8faf"
      },
      "outputs": [
        {
          "data": {
            "text/plain": [
              "array([0., 1., 0., 0., 1., 0., 0., 0., 0., 0., 0., 0., 1., 0., 1., 0., 0.,\n",
              "       1., 0., 0., 0., 1., 1., 0., 1., 1., 1., 0., 0., 1., 0., 1., 0., 0.,\n",
              "       1., 0., 1., 1., 1., 0., 0., 1., 1., 1., 0., 1., 0., 0., 1., 0., 1.,\n",
              "       0., 0., 0., 0., 1., 0., 0., 1., 1., 1., 0., 1., 1., 0., 1., 0., 0.,\n",
              "       0., 0., 1., 1., 0., 0., 1., 0., 1., 0., 1., 1., 1., 1., 0., 0., 0.,\n",
              "       0., 0., 1., 0., 1., 0., 1., 0., 1., 0., 0., 0., 0., 1., 1., 1., 1.,\n",
              "       1., 1., 1., 1., 0., 1., 0., 0., 1., 0., 1., 1., 1., 1., 0., 0., 0.,\n",
              "       1., 1., 0., 1., 1., 1., 1., 0., 0., 1., 1., 0., 1., 1., 1., 1., 1.,\n",
              "       0., 1., 0., 1., 1., 0., 1., 1., 1., 0., 0., 1., 0., 0., 0., 0., 1.,\n",
              "       1., 1., 0., 0., 1., 1., 0., 0., 0., 1., 0., 1., 1., 1., 0., 0., 1.,\n",
              "       1., 0., 1., 1., 0., 0., 0., 0., 0., 1., 0., 1., 1., 0., 0., 1., 1.,\n",
              "       0., 1., 0., 0., 0., 0., 0., 1., 0., 0., 1., 1., 1., 1., 0., 1., 0.,\n",
              "       1., 1., 1., 1., 0., 1., 0., 1., 1., 1., 0., 1., 0., 1., 1., 0., 0.,\n",
              "       1., 0., 0., 1., 0., 0., 0., 1., 1., 1., 1., 1., 1., 1., 0., 0., 1.,\n",
              "       1., 1., 1., 0., 0., 1., 0., 1., 1., 0., 1., 0., 1., 0., 0., 0., 0.,\n",
              "       1., 1., 0., 0., 1., 0., 0., 1., 0., 0., 0., 1., 0., 1., 1., 1., 1.,\n",
              "       1., 0., 0., 0., 0., 1., 0., 0., 0., 0., 0., 1., 0., 1., 1., 0., 1.,\n",
              "       0., 1., 1., 0., 0., 1., 1., 1., 0., 1., 1., 1., 1., 0., 0., 1., 1.,\n",
              "       0., 0., 1., 1., 1., 1., 0., 0., 1., 0., 0., 0., 0., 0., 1., 1., 1.,\n",
              "       0., 1., 0., 0., 1., 0., 0., 0., 1., 0., 0., 1., 1., 0., 0., 0., 1.,\n",
              "       0., 1., 1., 0., 0., 1., 0., 0., 1., 1., 0., 1., 1., 1., 1., 0., 0.,\n",
              "       1., 1., 0., 1., 1., 1., 1., 1., 0., 1., 0., 1., 1., 0., 1., 1., 1.,\n",
              "       0., 1., 1., 0., 1., 1., 1., 1., 0., 0., 0., 0., 0., 1., 0., 1., 1.,\n",
              "       1., 0., 1., 0., 1., 1., 0., 1., 0., 1., 1., 1., 1., 1., 0., 0., 0.,\n",
              "       1., 0., 0., 1., 1., 1., 1., 1., 0., 1., 1., 0., 0., 0., 0., 0., 0.,\n",
              "       1., 1., 1., 1., 1., 1., 1., 1., 1., 0., 0., 1., 1., 0., 1., 1., 1.,\n",
              "       0., 0., 1., 0., 0., 1., 1., 1., 0., 1., 1., 1., 1., 0., 1., 0., 0.,\n",
              "       0., 0., 0., 1., 0., 0., 0., 0., 1., 0., 0., 0., 1., 1., 0., 1., 1.,\n",
              "       0., 0., 0., 0., 0., 1., 0., 1., 1., 1., 1., 1., 1., 0., 0., 0., 1.,\n",
              "       1., 0., 1., 1., 1., 1., 0.])"
            ]
          },
          "execution_count": 74,
          "metadata": {
            "tags": []
          },
          "output_type": "execute_result"
        }
      ],
      "source": [
        "y_hat.round()"
      ]
    },
    {
      "cell_type": "code",
      "execution_count": null,
      "metadata": {
        "colab": {
          "base_uri": "https://localhost:8080/"
        },
        "id": "lbDNWdDnvB8A",
        "outputId": "139fb3ca-e7a0-4352-858c-56b6b2fccd7f"
      },
      "outputs": [
        {
          "data": {
            "text/plain": [
              "0.92"
            ]
          },
          "execution_count": 75,
          "metadata": {
            "tags": []
          },
          "output_type": "execute_result"
        }
      ],
      "source": [
        "np.sum(y_hat.round()==y_test)/len(y_test)"
      ]
    },
    {
      "cell_type": "code",
      "execution_count": null,
      "metadata": {
        "colab": {
          "base_uri": "https://localhost:8080/"
        },
        "id": "ye3J0Xg0Bkko",
        "outputId": "ec7a5ce9-7e65-45c5-f720-69cf5ebd5c64"
      },
      "outputs": [
        {
          "name": "stdout",
          "output_type": "stream",
          "text": [
            "              precision    recall  f1-score   support\n",
            "\n",
            "         0.0      0.933     0.903     0.918       248\n",
            "         1.0      0.908     0.937     0.922       252\n",
            "\n",
            "    accuracy                          0.920       500\n",
            "   macro avg      0.921     0.920     0.920       500\n",
            "weighted avg      0.920     0.920     0.920       500\n",
            "\n",
            "[[224  24]\n",
            " [ 16 236]]\n"
          ]
        }
      ],
      "source": [
        "print(classification_report(y_test, y_hat.round(), digits=3))\n",
        "print(confusion_matrix(y_test, y_hat.round()))"
      ]
    },
    {
      "cell_type": "markdown",
      "metadata": {
        "id": "BbkWwRx5BqF4"
      },
      "source": [
        "### SVM"
      ]
    },
    {
      "cell_type": "code",
      "execution_count": null,
      "metadata": {
        "id": "ogcZnorjBrJ7"
      },
      "outputs": [],
      "source": [
        "from sklearn.svm import SVC\n",
        "svm_clf = SVC(C=9.0622635,\n",
        "          kernel='rbf',\n",
        "          gamma='scale',\n",
        "          coef0=0.0,\n",
        "          tol=0.001,\n",
        "          probability=True,\n",
        "          max_iter=-1)"
      ]
    },
    {
      "cell_type": "code",
      "execution_count": null,
      "metadata": {
        "colab": {
          "base_uri": "https://localhost:8080/"
        },
        "id": "qSkHyPdfBt5v",
        "outputId": "dfed202d-0104-4400-fecb-817ed750ea40"
      },
      "outputs": [
        {
          "data": {
            "text/plain": [
              "SVC(C=9.0622635, break_ties=False, cache_size=200, class_weight=None, coef0=0.0,\n",
              "    decision_function_shape='ovr', degree=3, gamma='scale', kernel='rbf',\n",
              "    max_iter=-1, probability=True, random_state=None, shrinking=True, tol=0.001,\n",
              "    verbose=False)"
            ]
          },
          "execution_count": 78,
          "metadata": {
            "tags": []
          },
          "output_type": "execute_result"
        }
      ],
      "source": [
        "svm_clf.fit(x, y)"
      ]
    },
    {
      "cell_type": "code",
      "execution_count": null,
      "metadata": {
        "id": "JZnyduhaBw_Y"
      },
      "outputs": [],
      "source": [
        "svm_pred = svm_clf.predict(x_test)"
      ]
    },
    {
      "cell_type": "code",
      "execution_count": null,
      "metadata": {
        "colab": {
          "base_uri": "https://localhost:8080/"
        },
        "id": "-o_M5fQzCBce",
        "outputId": "daded25a-f6ee-4909-d882-dc5a772c36f9"
      },
      "outputs": [
        {
          "data": {
            "text/plain": [
              "0.92"
            ]
          },
          "execution_count": 80,
          "metadata": {
            "tags": []
          },
          "output_type": "execute_result"
        }
      ],
      "source": [
        "np.sum(svm_pred.round()==y_test)/len(y_test)"
      ]
    },
    {
      "cell_type": "code",
      "execution_count": null,
      "metadata": {
        "colab": {
          "base_uri": "https://localhost:8080/"
        },
        "id": "eP4a7L3qCEg9",
        "outputId": "b90963b5-1abc-46aa-fc1c-aa52d1bc4575"
      },
      "outputs": [
        {
          "name": "stdout",
          "output_type": "stream",
          "text": [
            "              precision    recall  f1-score   support\n",
            "\n",
            "         0.0      0.944     0.891     0.917       248\n",
            "         1.0      0.898     0.948     0.923       252\n",
            "\n",
            "    accuracy                          0.920       500\n",
            "   macro avg      0.921     0.920     0.920       500\n",
            "weighted avg      0.921     0.920     0.920       500\n",
            "\n",
            "[[221  27]\n",
            " [ 13 239]]\n"
          ]
        }
      ],
      "source": [
        "print(classification_report(y_test, svm_pred.round(), digits=3))\n",
        "print(confusion_matrix(y_test, svm_pred.round()))"
      ]
    },
    {
      "cell_type": "markdown",
      "metadata": {
        "id": "ik1vjAYuURo-"
      },
      "source": [
        "### Perceptron NN"
      ]
    },
    {
      "cell_type": "code",
      "execution_count": null,
      "metadata": {
        "id": "78lnHAv5DDOd"
      },
      "outputs": [],
      "source": [
        "from torch.utils.data import Dataset, DataLoader\n",
        "import sys\n",
        "from torch.autograd import Variable\n",
        "\n",
        "class Text(Dataset):\n",
        "    def __init__(self, x , y):\n",
        "        self.y = y\n",
        "        self.x = x\n",
        "\n",
        "    def __len__(self):\n",
        "        return len(self.x)\n",
        "\n",
        "    def __getitem__(self, idx):\n",
        "        data = torch.tensor(self.x[idx].astype('float32')).to(device)\n",
        "        y = torch.tensor(self.y[idx].astype('float32')).unsqueeze(0).to(device)\n",
        "        return data, y"
      ]
    },
    {
      "cell_type": "code",
      "execution_count": null,
      "metadata": {
        "id": "93-kIeh_zxW9"
      },
      "outputs": [],
      "source": [
        "train_ds = Text(x, y)\n",
        "train_loader = DataLoader(dataset=train_ds, batch_size=128, shuffle=True)"
      ]
    },
    {
      "cell_type": "code",
      "execution_count": null,
      "metadata": {
        "id": "1LHY5faTTNB5"
      },
      "outputs": [],
      "source": [
        "import torch.nn as nn\n",
        "import torch.nn.functional as F\n",
        "\n",
        "class BasicModel(nn.Module):\n",
        "    def __init__(self, input_dim, hidden_dim, output_dim):\n",
        "        super(BasicModel, self).__init__()\n",
        "\n",
        "        self.input_dim = input_dim\n",
        "        self.hidden_dim = hidden_dim\n",
        "        self.output_dim  = output_dim\n",
        "\n",
        "        self.fc1 = torch.nn.Linear(self.input_dim, self.hidden_dim)\n",
        "        self.fc2 = torch.nn.Linear(self.hidden_dim, 1)\n",
        "        self.sigmoid = torch.nn.Sigmoid()\n",
        "        \n",
        "    def forward(self, x):\n",
        "        x = x.reshape(x.shape[0], -1)\n",
        "        x = F.relu(self.fc1(x))\n",
        "        x = self.fc2(x)\n",
        "        return self.sigmoid(x)"
      ]
    },
    {
      "cell_type": "code",
      "execution_count": null,
      "metadata": {
        "id": "wY2qWHdORCRq"
      },
      "outputs": [],
      "source": [
        "basic_classifier = BasicModel(input_dim=512*1, hidden_dim=50, output_dim=1).to(device)\n",
        "c = nn.BCEWithLogitsLoss()\n",
        "optimizer = torch.optim.Adam(basic_classifier.parameters(), lr=0.001)\n",
        "\n",
        "train_loss_history = []\n",
        "val_acc_history = []"
      ]
    },
    {
      "cell_type": "code",
      "execution_count": null,
      "metadata": {
        "colab": {
          "base_uri": "https://localhost:8080/"
        },
        "id": "8lYCLAPqRMWo",
        "outputId": "0b1fa66d-c3c7-4f1a-f8fd-3265aa32acdb"
      },
      "outputs": [
        {
          "name": "stdout",
          "output_type": "stream",
          "text": [
            "Epoch [1/3], Step [2/32], Loss for last 2 batches: 0.6663\n",
            "Epoch [1/3], Step [4/32], Loss for last 2 batches: 0.6241\n",
            "Epoch [1/3], Step [6/32], Loss for last 2 batches: 0.6275\n",
            "Epoch [1/3], Step [8/32], Loss for last 2 batches: 0.6386\n",
            "Epoch [1/3], Step [10/32], Loss for last 2 batches: 0.6317\n",
            "Epoch [1/3], Step [12/32], Loss for last 2 batches: 0.6243\n",
            "Epoch [1/3], Step [14/32], Loss for last 2 batches: 0.6200\n",
            "Storing with loss for last 15 batches = 0.6331382433573405\n",
            "Epoch [1/3], Step [16/32], Loss for last 2 batches: 0.6284\n",
            "Epoch [1/3], Step [18/32], Loss for last 2 batches: 0.6207\n",
            "Epoch [1/3], Step [20/32], Loss for last 2 batches: 0.6145\n",
            "Epoch [1/3], Step [22/32], Loss for last 2 batches: 0.6066\n",
            "Epoch [1/3], Step [24/32], Loss for last 2 batches: 0.6115\n",
            "Epoch [1/3], Step [26/32], Loss for last 2 batches: 0.6225\n",
            "Epoch [1/3], Step [28/32], Loss for last 2 batches: 0.5810\n",
            "Epoch [1/3], Step [30/32], Loss for last 2 batches: 0.5960\n",
            "Storing with loss for last 15 batches = 0.6086814324061076\n",
            "Epoch [1/3], Step [32/32], Loss for last 2 batches: 0.5956\n",
            "Epoch [1/3] finished with loss = 0.6193\n",
            "Epoch [2/3], Step [2/32], Loss for last 2 batches: 0.5861\n",
            "Epoch [2/3], Step [4/32], Loss for last 2 batches: 0.6064\n",
            "Epoch [2/3], Step [6/32], Loss for last 2 batches: 0.5946\n",
            "Epoch [2/3], Step [8/32], Loss for last 2 batches: 0.5928\n",
            "Epoch [2/3], Step [10/32], Loss for last 2 batches: 0.5976\n",
            "Epoch [2/3], Step [12/32], Loss for last 2 batches: 0.5854\n",
            "Epoch [2/3], Step [14/32], Loss for last 2 batches: 0.5636\n",
            "Storing with loss for last 15 batches = 0.5882914900779724\n",
            "Epoch [2/3], Step [16/32], Loss for last 2 batches: 0.5743\n",
            "Epoch [2/3], Step [18/32], Loss for last 2 batches: 0.5655\n",
            "Epoch [2/3], Step [20/32], Loss for last 2 batches: 0.5989\n",
            "Epoch [2/3], Step [22/32], Loss for last 2 batches: 0.5449\n",
            "Epoch [2/3], Step [24/32], Loss for last 2 batches: 0.5792\n",
            "Epoch [2/3], Step [26/32], Loss for last 2 batches: 0.5756\n",
            "Epoch [2/3], Step [28/32], Loss for last 2 batches: 0.5650\n",
            "Epoch [2/3], Step [30/32], Loss for last 2 batches: 0.5735\n",
            "Storing with loss for last 15 batches = 0.5721512317657471\n",
            "Epoch [2/3], Step [32/32], Loss for last 2 batches: 0.5595\n",
            "Epoch [2/3] finished with loss = 0.5789\n",
            "Epoch [3/3], Step [2/32], Loss for last 2 batches: 0.5870\n",
            "Epoch [3/3], Step [4/32], Loss for last 2 batches: 0.5725\n",
            "Epoch [3/3], Step [6/32], Loss for last 2 batches: 0.5680\n",
            "Epoch [3/3], Step [8/32], Loss for last 2 batches: 0.5577\n",
            "Epoch [3/3], Step [10/32], Loss for last 2 batches: 0.5718\n",
            "Epoch [3/3], Step [12/32], Loss for last 2 batches: 0.5712\n",
            "Epoch [3/3], Step [14/32], Loss for last 2 batches: 0.5594\n",
            "Storing with loss for last 15 batches = 0.5688205560048422\n",
            "Epoch [3/3], Step [16/32], Loss for last 2 batches: 0.5661\n",
            "Epoch [3/3], Step [18/32], Loss for last 2 batches: 0.5396\n",
            "Epoch [3/3], Step [20/32], Loss for last 2 batches: 0.5597\n",
            "Epoch [3/3], Step [22/32], Loss for last 2 batches: 0.5714\n",
            "Epoch [3/3], Step [24/32], Loss for last 2 batches: 0.5674\n",
            "Epoch [3/3], Step [26/32], Loss for last 2 batches: 0.5935\n",
            "Epoch [3/3], Step [28/32], Loss for last 2 batches: 0.5570\n",
            "Epoch [3/3], Step [30/32], Loss for last 2 batches: 0.5656\n",
            "Storing with loss for last 15 batches = 0.5655714631080627\n",
            "Epoch [3/3], Step [32/32], Loss for last 2 batches: 0.5758\n",
            "Epoch [3/3] finished with loss = 0.5677\n"
          ]
        }
      ],
      "source": [
        "iter_per_epoch = len(train_loader)\n",
        "num_epochs = 3\n",
        "initial_epoch = 1\n",
        "log_nth = 2\n",
        "storing_frequency = 15\n",
        "checkpoints_path = \"/content/drive/MyDrive/ExplainableAI/Model/Saliency/checkpoints\"\n",
        "\n",
        "for epoch in range(initial_epoch, initial_epoch+num_epochs):\n",
        "    basic_classifier.train()\n",
        "    epoch_losses = []\n",
        "    for i, (data, y_label) in enumerate(train_loader):\n",
        "      optimizer.zero_grad()\n",
        "      out = basic_classifier(data)\n",
        "      loss = c(out, y_label)\n",
        "      epoch_losses.append(loss.item())\n",
        "      loss.backward()\n",
        "      optimizer.step()\n",
        "\n",
        "      if (i+1) % log_nth == 0:        \n",
        "          print ('Epoch [{}/{}], Step [{}/{}], Loss for last {} batches: {:.4f}' \n",
        "                  .format(epoch, num_epochs, i+1, iter_per_epoch, log_nth, np.mean(np.array(epoch_losses[-log_nth:]))))\n",
        "          #print_time()\n",
        "      \n",
        "      if (i+1) % storing_frequency == 0:        \n",
        "          print('Storing with loss for last {} batches = {}'.format(storing_frequency, np.mean(np.array(epoch_losses[-storing_frequency:]))))\n",
        "          #print_time()\n",
        "          #torch.save(basic_classifier.state_dict(), checkpoints_path+\"/final_model_epoch_{}_{}.checkpoint\".format(epoch, i+1))\n",
        "  \n",
        "    # Store after whole epoch\n",
        "    print ('Epoch [{}/{}] finished with loss = {:.4f}'.format(epoch, num_epochs, np.mean(np.array(epoch_losses))))\n",
        "    #torch.save(basic_classifier.state_dict(), checkpoints_path+\"/final_model_epoch_{}.checkpoint\".format(epoch))"
      ]
    },
    {
      "cell_type": "code",
      "execution_count": null,
      "metadata": {
        "id": "JUN1zRwzDVmm"
      },
      "outputs": [],
      "source": [
        "nn_pred = basic_classifier(torch.tensor(x_test.astype('float32')).to(device))"
      ]
    },
    {
      "cell_type": "code",
      "execution_count": null,
      "metadata": {
        "id": "nvTcF71WDVmn"
      },
      "outputs": [],
      "source": [
        "nn_pred = nn_pred.flatten().detach().cpu().numpy().round()"
      ]
    },
    {
      "cell_type": "code",
      "execution_count": null,
      "metadata": {
        "colab": {
          "base_uri": "https://localhost:8080/"
        },
        "id": "iz0OohekDVmo",
        "outputId": "c8f116e4-8553-4f37-960b-d94893013789"
      },
      "outputs": [
        {
          "data": {
            "text/plain": [
              "0.904"
            ]
          },
          "execution_count": 89,
          "metadata": {
            "tags": []
          },
          "output_type": "execute_result"
        }
      ],
      "source": [
        "np.sum(nn_pred==y_test)/len(y_test)"
      ]
    },
    {
      "cell_type": "code",
      "execution_count": null,
      "metadata": {
        "colab": {
          "base_uri": "https://localhost:8080/"
        },
        "id": "mGgUvOOkDVmp",
        "outputId": "615a6c93-8a71-41a5-efac-48747d1a0df2"
      },
      "outputs": [
        {
          "name": "stdout",
          "output_type": "stream",
          "text": [
            "              precision    recall  f1-score   support\n",
            "\n",
            "         0.0      0.885     0.927     0.906       248\n",
            "         1.0      0.925     0.881     0.902       252\n",
            "\n",
            "    accuracy                          0.904       500\n",
            "   macro avg      0.905     0.904     0.904       500\n",
            "weighted avg      0.905     0.904     0.904       500\n",
            "\n",
            "[[230  18]\n",
            " [ 30 222]]\n"
          ]
        }
      ],
      "source": [
        "print(classification_report(y_test, nn_pred, digits=3))\n",
        "print(confusion_matrix(y_test, nn_pred))"
      ]
    }
  ],
  "metadata": {
    "accelerator": "GPU",
    "colab": {
      "collapsed_sections": [],
      "machine_shape": "hm",
      "name": "Training_Classifier.ipynb",
      "provenance": []
    },
    "kernelspec": {
      "display_name": "Python 3",
      "language": "python",
      "name": "python3"
    },
    "language_info": {
      "codemirror_mode": {
        "name": "ipython",
        "version": 3
      },
      "file_extension": ".py",
      "mimetype": "text/x-python",
      "name": "python",
      "nbconvert_exporter": "python",
      "pygments_lexer": "ipython3",
      "version": "3.8.5"
    },
    "widgets": {
      "application/vnd.jupyter.widget-state+json": {
        "a781257de41a400cade0fa479eb95454": {
          "model_module": "@jupyter-widgets/controls",
          "model_name": "HBoxModel",
          "model_module_version": "1.5.0",
          "state": {
            "_dom_classes": [],
            "_model_module": "@jupyter-widgets/controls",
            "_model_module_version": "1.5.0",
            "_model_name": "HBoxModel",
            "_view_count": null,
            "_view_module": "@jupyter-widgets/controls",
            "_view_module_version": "1.5.0",
            "_view_name": "HBoxView",
            "box_style": "",
            "children": [
              "IPY_MODEL_1917a7363f6f45d6bfd391d5d993ea78",
              "IPY_MODEL_444f336d73bb4d97bd8e6e6a994ce3cb",
              "IPY_MODEL_ebb9047910074ae6b83126e98e27bc1b"
            ],
            "layout": "IPY_MODEL_7cc9d9ab464e4da0a2345afcd044419e"
          }
        },
        "1917a7363f6f45d6bfd391d5d993ea78": {
          "model_module": "@jupyter-widgets/controls",
          "model_name": "HTMLModel",
          "model_module_version": "1.5.0",
          "state": {
            "_dom_classes": [],
            "_model_module": "@jupyter-widgets/controls",
            "_model_module_version": "1.5.0",
            "_model_name": "HTMLModel",
            "_view_count": null,
            "_view_module": "@jupyter-widgets/controls",
            "_view_module_version": "1.5.0",
            "_view_name": "HTMLView",
            "description": "",
            "description_tooltip": null,
            "layout": "IPY_MODEL_54bda543a4b04f7d9b4bae23e815b533",
            "placeholder": "​",
            "style": "IPY_MODEL_19989f5e70ab4cc3a21a5e1392b22c26",
            "value": "Downloading: 100%"
          }
        },
        "444f336d73bb4d97bd8e6e6a994ce3cb": {
          "model_module": "@jupyter-widgets/controls",
          "model_name": "FloatProgressModel",
          "model_module_version": "1.5.0",
          "state": {
            "_dom_classes": [],
            "_model_module": "@jupyter-widgets/controls",
            "_model_module_version": "1.5.0",
            "_model_name": "FloatProgressModel",
            "_view_count": null,
            "_view_module": "@jupyter-widgets/controls",
            "_view_module_version": "1.5.0",
            "_view_name": "ProgressView",
            "bar_style": "success",
            "description": "",
            "description_tooltip": null,
            "layout": "IPY_MODEL_8819a0cba85e46aaa9021d35c574d8d4",
            "max": 231508,
            "min": 0,
            "orientation": "horizontal",
            "style": "IPY_MODEL_a4d6bf4e9bef455ab0695cbe538dc877",
            "value": 231508
          }
        },
        "ebb9047910074ae6b83126e98e27bc1b": {
          "model_module": "@jupyter-widgets/controls",
          "model_name": "HTMLModel",
          "model_module_version": "1.5.0",
          "state": {
            "_dom_classes": [],
            "_model_module": "@jupyter-widgets/controls",
            "_model_module_version": "1.5.0",
            "_model_name": "HTMLModel",
            "_view_count": null,
            "_view_module": "@jupyter-widgets/controls",
            "_view_module_version": "1.5.0",
            "_view_name": "HTMLView",
            "description": "",
            "description_tooltip": null,
            "layout": "IPY_MODEL_54a4efe9e8d24d10a526c72f76132603",
            "placeholder": "​",
            "style": "IPY_MODEL_92ee047ba9c643a3959fea5cc12c928a",
            "value": " 226k/226k [00:00&lt;00:00, 6.46kB/s]"
          }
        },
        "7cc9d9ab464e4da0a2345afcd044419e": {
          "model_module": "@jupyter-widgets/base",
          "model_name": "LayoutModel",
          "model_module_version": "1.2.0",
          "state": {
            "_model_module": "@jupyter-widgets/base",
            "_model_module_version": "1.2.0",
            "_model_name": "LayoutModel",
            "_view_count": null,
            "_view_module": "@jupyter-widgets/base",
            "_view_module_version": "1.2.0",
            "_view_name": "LayoutView",
            "align_content": null,
            "align_items": null,
            "align_self": null,
            "border": null,
            "bottom": null,
            "display": null,
            "flex": null,
            "flex_flow": null,
            "grid_area": null,
            "grid_auto_columns": null,
            "grid_auto_flow": null,
            "grid_auto_rows": null,
            "grid_column": null,
            "grid_gap": null,
            "grid_row": null,
            "grid_template_areas": null,
            "grid_template_columns": null,
            "grid_template_rows": null,
            "height": null,
            "justify_content": null,
            "justify_items": null,
            "left": null,
            "margin": null,
            "max_height": null,
            "max_width": null,
            "min_height": null,
            "min_width": null,
            "object_fit": null,
            "object_position": null,
            "order": null,
            "overflow": null,
            "overflow_x": null,
            "overflow_y": null,
            "padding": null,
            "right": null,
            "top": null,
            "visibility": null,
            "width": null
          }
        },
        "54bda543a4b04f7d9b4bae23e815b533": {
          "model_module": "@jupyter-widgets/base",
          "model_name": "LayoutModel",
          "model_module_version": "1.2.0",
          "state": {
            "_model_module": "@jupyter-widgets/base",
            "_model_module_version": "1.2.0",
            "_model_name": "LayoutModel",
            "_view_count": null,
            "_view_module": "@jupyter-widgets/base",
            "_view_module_version": "1.2.0",
            "_view_name": "LayoutView",
            "align_content": null,
            "align_items": null,
            "align_self": null,
            "border": null,
            "bottom": null,
            "display": null,
            "flex": null,
            "flex_flow": null,
            "grid_area": null,
            "grid_auto_columns": null,
            "grid_auto_flow": null,
            "grid_auto_rows": null,
            "grid_column": null,
            "grid_gap": null,
            "grid_row": null,
            "grid_template_areas": null,
            "grid_template_columns": null,
            "grid_template_rows": null,
            "height": null,
            "justify_content": null,
            "justify_items": null,
            "left": null,
            "margin": null,
            "max_height": null,
            "max_width": null,
            "min_height": null,
            "min_width": null,
            "object_fit": null,
            "object_position": null,
            "order": null,
            "overflow": null,
            "overflow_x": null,
            "overflow_y": null,
            "padding": null,
            "right": null,
            "top": null,
            "visibility": null,
            "width": null
          }
        },
        "19989f5e70ab4cc3a21a5e1392b22c26": {
          "model_module": "@jupyter-widgets/controls",
          "model_name": "DescriptionStyleModel",
          "model_module_version": "1.5.0",
          "state": {
            "_model_module": "@jupyter-widgets/controls",
            "_model_module_version": "1.5.0",
            "_model_name": "DescriptionStyleModel",
            "_view_count": null,
            "_view_module": "@jupyter-widgets/base",
            "_view_module_version": "1.2.0",
            "_view_name": "StyleView",
            "description_width": ""
          }
        },
        "8819a0cba85e46aaa9021d35c574d8d4": {
          "model_module": "@jupyter-widgets/base",
          "model_name": "LayoutModel",
          "model_module_version": "1.2.0",
          "state": {
            "_model_module": "@jupyter-widgets/base",
            "_model_module_version": "1.2.0",
            "_model_name": "LayoutModel",
            "_view_count": null,
            "_view_module": "@jupyter-widgets/base",
            "_view_module_version": "1.2.0",
            "_view_name": "LayoutView",
            "align_content": null,
            "align_items": null,
            "align_self": null,
            "border": null,
            "bottom": null,
            "display": null,
            "flex": null,
            "flex_flow": null,
            "grid_area": null,
            "grid_auto_columns": null,
            "grid_auto_flow": null,
            "grid_auto_rows": null,
            "grid_column": null,
            "grid_gap": null,
            "grid_row": null,
            "grid_template_areas": null,
            "grid_template_columns": null,
            "grid_template_rows": null,
            "height": null,
            "justify_content": null,
            "justify_items": null,
            "left": null,
            "margin": null,
            "max_height": null,
            "max_width": null,
            "min_height": null,
            "min_width": null,
            "object_fit": null,
            "object_position": null,
            "order": null,
            "overflow": null,
            "overflow_x": null,
            "overflow_y": null,
            "padding": null,
            "right": null,
            "top": null,
            "visibility": null,
            "width": null
          }
        },
        "a4d6bf4e9bef455ab0695cbe538dc877": {
          "model_module": "@jupyter-widgets/controls",
          "model_name": "ProgressStyleModel",
          "model_module_version": "1.5.0",
          "state": {
            "_model_module": "@jupyter-widgets/controls",
            "_model_module_version": "1.5.0",
            "_model_name": "ProgressStyleModel",
            "_view_count": null,
            "_view_module": "@jupyter-widgets/base",
            "_view_module_version": "1.2.0",
            "_view_name": "StyleView",
            "bar_color": null,
            "description_width": ""
          }
        },
        "54a4efe9e8d24d10a526c72f76132603": {
          "model_module": "@jupyter-widgets/base",
          "model_name": "LayoutModel",
          "model_module_version": "1.2.0",
          "state": {
            "_model_module": "@jupyter-widgets/base",
            "_model_module_version": "1.2.0",
            "_model_name": "LayoutModel",
            "_view_count": null,
            "_view_module": "@jupyter-widgets/base",
            "_view_module_version": "1.2.0",
            "_view_name": "LayoutView",
            "align_content": null,
            "align_items": null,
            "align_self": null,
            "border": null,
            "bottom": null,
            "display": null,
            "flex": null,
            "flex_flow": null,
            "grid_area": null,
            "grid_auto_columns": null,
            "grid_auto_flow": null,
            "grid_auto_rows": null,
            "grid_column": null,
            "grid_gap": null,
            "grid_row": null,
            "grid_template_areas": null,
            "grid_template_columns": null,
            "grid_template_rows": null,
            "height": null,
            "justify_content": null,
            "justify_items": null,
            "left": null,
            "margin": null,
            "max_height": null,
            "max_width": null,
            "min_height": null,
            "min_width": null,
            "object_fit": null,
            "object_position": null,
            "order": null,
            "overflow": null,
            "overflow_x": null,
            "overflow_y": null,
            "padding": null,
            "right": null,
            "top": null,
            "visibility": null,
            "width": null
          }
        },
        "92ee047ba9c643a3959fea5cc12c928a": {
          "model_module": "@jupyter-widgets/controls",
          "model_name": "DescriptionStyleModel",
          "model_module_version": "1.5.0",
          "state": {
            "_model_module": "@jupyter-widgets/controls",
            "_model_module_version": "1.5.0",
            "_model_name": "DescriptionStyleModel",
            "_view_count": null,
            "_view_module": "@jupyter-widgets/base",
            "_view_module_version": "1.2.0",
            "_view_name": "StyleView",
            "description_width": ""
          }
        },
        "60c9e3ee0de74aed9b5741dbdeb3070e": {
          "model_module": "@jupyter-widgets/controls",
          "model_name": "HBoxModel",
          "model_module_version": "1.5.0",
          "state": {
            "_dom_classes": [],
            "_model_module": "@jupyter-widgets/controls",
            "_model_module_version": "1.5.0",
            "_model_name": "HBoxModel",
            "_view_count": null,
            "_view_module": "@jupyter-widgets/controls",
            "_view_module_version": "1.5.0",
            "_view_name": "HBoxView",
            "box_style": "",
            "children": [
              "IPY_MODEL_e793be1bb4ab4c0eb8ea0b2a64cb8de2",
              "IPY_MODEL_dac5987bb39947c780a6c5c2dd5c4414",
              "IPY_MODEL_f1f97a398eb04afe9f06e175480dd612"
            ],
            "layout": "IPY_MODEL_bf3788a93964424b8bd4367521a2ab4b"
          }
        },
        "e793be1bb4ab4c0eb8ea0b2a64cb8de2": {
          "model_module": "@jupyter-widgets/controls",
          "model_name": "HTMLModel",
          "model_module_version": "1.5.0",
          "state": {
            "_dom_classes": [],
            "_model_module": "@jupyter-widgets/controls",
            "_model_module_version": "1.5.0",
            "_model_name": "HTMLModel",
            "_view_count": null,
            "_view_module": "@jupyter-widgets/controls",
            "_view_module_version": "1.5.0",
            "_view_name": "HTMLView",
            "description": "",
            "description_tooltip": null,
            "layout": "IPY_MODEL_0f3f922f5fb6480facbb6dd44c608007",
            "placeholder": "​",
            "style": "IPY_MODEL_e8853b2a38c244a6bb7ac419cbb18969",
            "value": "Downloading: 100%"
          }
        },
        "dac5987bb39947c780a6c5c2dd5c4414": {
          "model_module": "@jupyter-widgets/controls",
          "model_name": "FloatProgressModel",
          "model_module_version": "1.5.0",
          "state": {
            "_dom_classes": [],
            "_model_module": "@jupyter-widgets/controls",
            "_model_module_version": "1.5.0",
            "_model_name": "FloatProgressModel",
            "_view_count": null,
            "_view_module": "@jupyter-widgets/controls",
            "_view_module_version": "1.5.0",
            "_view_name": "ProgressView",
            "bar_style": "success",
            "description": "",
            "description_tooltip": null,
            "layout": "IPY_MODEL_313af5bbf9d04046b5749f5153ed8705",
            "max": 112,
            "min": 0,
            "orientation": "horizontal",
            "style": "IPY_MODEL_42e7fbc7bf5943c6a1e0207028a7076d",
            "value": 112
          }
        },
        "f1f97a398eb04afe9f06e175480dd612": {
          "model_module": "@jupyter-widgets/controls",
          "model_name": "HTMLModel",
          "model_module_version": "1.5.0",
          "state": {
            "_dom_classes": [],
            "_model_module": "@jupyter-widgets/controls",
            "_model_module_version": "1.5.0",
            "_model_name": "HTMLModel",
            "_view_count": null,
            "_view_module": "@jupyter-widgets/controls",
            "_view_module_version": "1.5.0",
            "_view_name": "HTMLView",
            "description": "",
            "description_tooltip": null,
            "layout": "IPY_MODEL_2382ff15cc3544ee81900981f8d79a9e",
            "placeholder": "​",
            "style": "IPY_MODEL_6219917e419f4366a2cf60332a3261b8",
            "value": " 112/112 [00:00&lt;00:00, 1.08kB/s]"
          }
        },
        "bf3788a93964424b8bd4367521a2ab4b": {
          "model_module": "@jupyter-widgets/base",
          "model_name": "LayoutModel",
          "model_module_version": "1.2.0",
          "state": {
            "_model_module": "@jupyter-widgets/base",
            "_model_module_version": "1.2.0",
            "_model_name": "LayoutModel",
            "_view_count": null,
            "_view_module": "@jupyter-widgets/base",
            "_view_module_version": "1.2.0",
            "_view_name": "LayoutView",
            "align_content": null,
            "align_items": null,
            "align_self": null,
            "border": null,
            "bottom": null,
            "display": null,
            "flex": null,
            "flex_flow": null,
            "grid_area": null,
            "grid_auto_columns": null,
            "grid_auto_flow": null,
            "grid_auto_rows": null,
            "grid_column": null,
            "grid_gap": null,
            "grid_row": null,
            "grid_template_areas": null,
            "grid_template_columns": null,
            "grid_template_rows": null,
            "height": null,
            "justify_content": null,
            "justify_items": null,
            "left": null,
            "margin": null,
            "max_height": null,
            "max_width": null,
            "min_height": null,
            "min_width": null,
            "object_fit": null,
            "object_position": null,
            "order": null,
            "overflow": null,
            "overflow_x": null,
            "overflow_y": null,
            "padding": null,
            "right": null,
            "top": null,
            "visibility": null,
            "width": null
          }
        },
        "0f3f922f5fb6480facbb6dd44c608007": {
          "model_module": "@jupyter-widgets/base",
          "model_name": "LayoutModel",
          "model_module_version": "1.2.0",
          "state": {
            "_model_module": "@jupyter-widgets/base",
            "_model_module_version": "1.2.0",
            "_model_name": "LayoutModel",
            "_view_count": null,
            "_view_module": "@jupyter-widgets/base",
            "_view_module_version": "1.2.0",
            "_view_name": "LayoutView",
            "align_content": null,
            "align_items": null,
            "align_self": null,
            "border": null,
            "bottom": null,
            "display": null,
            "flex": null,
            "flex_flow": null,
            "grid_area": null,
            "grid_auto_columns": null,
            "grid_auto_flow": null,
            "grid_auto_rows": null,
            "grid_column": null,
            "grid_gap": null,
            "grid_row": null,
            "grid_template_areas": null,
            "grid_template_columns": null,
            "grid_template_rows": null,
            "height": null,
            "justify_content": null,
            "justify_items": null,
            "left": null,
            "margin": null,
            "max_height": null,
            "max_width": null,
            "min_height": null,
            "min_width": null,
            "object_fit": null,
            "object_position": null,
            "order": null,
            "overflow": null,
            "overflow_x": null,
            "overflow_y": null,
            "padding": null,
            "right": null,
            "top": null,
            "visibility": null,
            "width": null
          }
        },
        "e8853b2a38c244a6bb7ac419cbb18969": {
          "model_module": "@jupyter-widgets/controls",
          "model_name": "DescriptionStyleModel",
          "model_module_version": "1.5.0",
          "state": {
            "_model_module": "@jupyter-widgets/controls",
            "_model_module_version": "1.5.0",
            "_model_name": "DescriptionStyleModel",
            "_view_count": null,
            "_view_module": "@jupyter-widgets/base",
            "_view_module_version": "1.2.0",
            "_view_name": "StyleView",
            "description_width": ""
          }
        },
        "313af5bbf9d04046b5749f5153ed8705": {
          "model_module": "@jupyter-widgets/base",
          "model_name": "LayoutModel",
          "model_module_version": "1.2.0",
          "state": {
            "_model_module": "@jupyter-widgets/base",
            "_model_module_version": "1.2.0",
            "_model_name": "LayoutModel",
            "_view_count": null,
            "_view_module": "@jupyter-widgets/base",
            "_view_module_version": "1.2.0",
            "_view_name": "LayoutView",
            "align_content": null,
            "align_items": null,
            "align_self": null,
            "border": null,
            "bottom": null,
            "display": null,
            "flex": null,
            "flex_flow": null,
            "grid_area": null,
            "grid_auto_columns": null,
            "grid_auto_flow": null,
            "grid_auto_rows": null,
            "grid_column": null,
            "grid_gap": null,
            "grid_row": null,
            "grid_template_areas": null,
            "grid_template_columns": null,
            "grid_template_rows": null,
            "height": null,
            "justify_content": null,
            "justify_items": null,
            "left": null,
            "margin": null,
            "max_height": null,
            "max_width": null,
            "min_height": null,
            "min_width": null,
            "object_fit": null,
            "object_position": null,
            "order": null,
            "overflow": null,
            "overflow_x": null,
            "overflow_y": null,
            "padding": null,
            "right": null,
            "top": null,
            "visibility": null,
            "width": null
          }
        },
        "42e7fbc7bf5943c6a1e0207028a7076d": {
          "model_module": "@jupyter-widgets/controls",
          "model_name": "ProgressStyleModel",
          "model_module_version": "1.5.0",
          "state": {
            "_model_module": "@jupyter-widgets/controls",
            "_model_module_version": "1.5.0",
            "_model_name": "ProgressStyleModel",
            "_view_count": null,
            "_view_module": "@jupyter-widgets/base",
            "_view_module_version": "1.2.0",
            "_view_name": "StyleView",
            "bar_color": null,
            "description_width": ""
          }
        },
        "2382ff15cc3544ee81900981f8d79a9e": {
          "model_module": "@jupyter-widgets/base",
          "model_name": "LayoutModel",
          "model_module_version": "1.2.0",
          "state": {
            "_model_module": "@jupyter-widgets/base",
            "_model_module_version": "1.2.0",
            "_model_name": "LayoutModel",
            "_view_count": null,
            "_view_module": "@jupyter-widgets/base",
            "_view_module_version": "1.2.0",
            "_view_name": "LayoutView",
            "align_content": null,
            "align_items": null,
            "align_self": null,
            "border": null,
            "bottom": null,
            "display": null,
            "flex": null,
            "flex_flow": null,
            "grid_area": null,
            "grid_auto_columns": null,
            "grid_auto_flow": null,
            "grid_auto_rows": null,
            "grid_column": null,
            "grid_gap": null,
            "grid_row": null,
            "grid_template_areas": null,
            "grid_template_columns": null,
            "grid_template_rows": null,
            "height": null,
            "justify_content": null,
            "justify_items": null,
            "left": null,
            "margin": null,
            "max_height": null,
            "max_width": null,
            "min_height": null,
            "min_width": null,
            "object_fit": null,
            "object_position": null,
            "order": null,
            "overflow": null,
            "overflow_x": null,
            "overflow_y": null,
            "padding": null,
            "right": null,
            "top": null,
            "visibility": null,
            "width": null
          }
        },
        "6219917e419f4366a2cf60332a3261b8": {
          "model_module": "@jupyter-widgets/controls",
          "model_name": "DescriptionStyleModel",
          "model_module_version": "1.5.0",
          "state": {
            "_model_module": "@jupyter-widgets/controls",
            "_model_module_version": "1.5.0",
            "_model_name": "DescriptionStyleModel",
            "_view_count": null,
            "_view_module": "@jupyter-widgets/base",
            "_view_module_version": "1.2.0",
            "_view_name": "StyleView",
            "description_width": ""
          }
        },
        "0befcfc8a1344d8ba28db60a7b4d9453": {
          "model_module": "@jupyter-widgets/controls",
          "model_name": "HBoxModel",
          "model_module_version": "1.5.0",
          "state": {
            "_dom_classes": [],
            "_model_module": "@jupyter-widgets/controls",
            "_model_module_version": "1.5.0",
            "_model_name": "HBoxModel",
            "_view_count": null,
            "_view_module": "@jupyter-widgets/controls",
            "_view_module_version": "1.5.0",
            "_view_name": "HBoxView",
            "box_style": "",
            "children": [
              "IPY_MODEL_4028aa1ece7141d693554ebd8598046e",
              "IPY_MODEL_d9c2a45d526c4fa98d2014cdd9b1cef5",
              "IPY_MODEL_cef46d6b465d4314a131c838cebcf1e5"
            ],
            "layout": "IPY_MODEL_2717db16a37447b49aac6bbed5082b35"
          }
        },
        "4028aa1ece7141d693554ebd8598046e": {
          "model_module": "@jupyter-widgets/controls",
          "model_name": "HTMLModel",
          "model_module_version": "1.5.0",
          "state": {
            "_dom_classes": [],
            "_model_module": "@jupyter-widgets/controls",
            "_model_module_version": "1.5.0",
            "_model_name": "HTMLModel",
            "_view_count": null,
            "_view_module": "@jupyter-widgets/controls",
            "_view_module_version": "1.5.0",
            "_view_name": "HTMLView",
            "description": "",
            "description_tooltip": null,
            "layout": "IPY_MODEL_ff08ca6327d24587a8bf62012a9b03ad",
            "placeholder": "​",
            "style": "IPY_MODEL_78c774b46c1e4aa2af0cd8171a2aab2e",
            "value": "Downloading: 100%"
          }
        },
        "d9c2a45d526c4fa98d2014cdd9b1cef5": {
          "model_module": "@jupyter-widgets/controls",
          "model_name": "FloatProgressModel",
          "model_module_version": "1.5.0",
          "state": {
            "_dom_classes": [],
            "_model_module": "@jupyter-widgets/controls",
            "_model_module_version": "1.5.0",
            "_model_name": "FloatProgressModel",
            "_view_count": null,
            "_view_module": "@jupyter-widgets/controls",
            "_view_module_version": "1.5.0",
            "_view_name": "ProgressView",
            "bar_style": "success",
            "description": "",
            "description_tooltip": null,
            "layout": "IPY_MODEL_99bb3a0e497e49529254f586e544885e",
            "max": 48,
            "min": 0,
            "orientation": "horizontal",
            "style": "IPY_MODEL_d67ebbd879384fb9bee1144be648f222",
            "value": 48
          }
        },
        "cef46d6b465d4314a131c838cebcf1e5": {
          "model_module": "@jupyter-widgets/controls",
          "model_name": "HTMLModel",
          "model_module_version": "1.5.0",
          "state": {
            "_dom_classes": [],
            "_model_module": "@jupyter-widgets/controls",
            "_model_module_version": "1.5.0",
            "_model_name": "HTMLModel",
            "_view_count": null,
            "_view_module": "@jupyter-widgets/controls",
            "_view_module_version": "1.5.0",
            "_view_name": "HTMLView",
            "description": "",
            "description_tooltip": null,
            "layout": "IPY_MODEL_57aa9c0bbee04e7ba1051a9c5efdac3d",
            "placeholder": "​",
            "style": "IPY_MODEL_4af54126987b427c9eca8117e8639555",
            "value": " 48.0/48.0 [00:00&lt;00:00, 355B/s]"
          }
        },
        "2717db16a37447b49aac6bbed5082b35": {
          "model_module": "@jupyter-widgets/base",
          "model_name": "LayoutModel",
          "model_module_version": "1.2.0",
          "state": {
            "_model_module": "@jupyter-widgets/base",
            "_model_module_version": "1.2.0",
            "_model_name": "LayoutModel",
            "_view_count": null,
            "_view_module": "@jupyter-widgets/base",
            "_view_module_version": "1.2.0",
            "_view_name": "LayoutView",
            "align_content": null,
            "align_items": null,
            "align_self": null,
            "border": null,
            "bottom": null,
            "display": null,
            "flex": null,
            "flex_flow": null,
            "grid_area": null,
            "grid_auto_columns": null,
            "grid_auto_flow": null,
            "grid_auto_rows": null,
            "grid_column": null,
            "grid_gap": null,
            "grid_row": null,
            "grid_template_areas": null,
            "grid_template_columns": null,
            "grid_template_rows": null,
            "height": null,
            "justify_content": null,
            "justify_items": null,
            "left": null,
            "margin": null,
            "max_height": null,
            "max_width": null,
            "min_height": null,
            "min_width": null,
            "object_fit": null,
            "object_position": null,
            "order": null,
            "overflow": null,
            "overflow_x": null,
            "overflow_y": null,
            "padding": null,
            "right": null,
            "top": null,
            "visibility": null,
            "width": null
          }
        },
        "ff08ca6327d24587a8bf62012a9b03ad": {
          "model_module": "@jupyter-widgets/base",
          "model_name": "LayoutModel",
          "model_module_version": "1.2.0",
          "state": {
            "_model_module": "@jupyter-widgets/base",
            "_model_module_version": "1.2.0",
            "_model_name": "LayoutModel",
            "_view_count": null,
            "_view_module": "@jupyter-widgets/base",
            "_view_module_version": "1.2.0",
            "_view_name": "LayoutView",
            "align_content": null,
            "align_items": null,
            "align_self": null,
            "border": null,
            "bottom": null,
            "display": null,
            "flex": null,
            "flex_flow": null,
            "grid_area": null,
            "grid_auto_columns": null,
            "grid_auto_flow": null,
            "grid_auto_rows": null,
            "grid_column": null,
            "grid_gap": null,
            "grid_row": null,
            "grid_template_areas": null,
            "grid_template_columns": null,
            "grid_template_rows": null,
            "height": null,
            "justify_content": null,
            "justify_items": null,
            "left": null,
            "margin": null,
            "max_height": null,
            "max_width": null,
            "min_height": null,
            "min_width": null,
            "object_fit": null,
            "object_position": null,
            "order": null,
            "overflow": null,
            "overflow_x": null,
            "overflow_y": null,
            "padding": null,
            "right": null,
            "top": null,
            "visibility": null,
            "width": null
          }
        },
        "78c774b46c1e4aa2af0cd8171a2aab2e": {
          "model_module": "@jupyter-widgets/controls",
          "model_name": "DescriptionStyleModel",
          "model_module_version": "1.5.0",
          "state": {
            "_model_module": "@jupyter-widgets/controls",
            "_model_module_version": "1.5.0",
            "_model_name": "DescriptionStyleModel",
            "_view_count": null,
            "_view_module": "@jupyter-widgets/base",
            "_view_module_version": "1.2.0",
            "_view_name": "StyleView",
            "description_width": ""
          }
        },
        "99bb3a0e497e49529254f586e544885e": {
          "model_module": "@jupyter-widgets/base",
          "model_name": "LayoutModel",
          "model_module_version": "1.2.0",
          "state": {
            "_model_module": "@jupyter-widgets/base",
            "_model_module_version": "1.2.0",
            "_model_name": "LayoutModel",
            "_view_count": null,
            "_view_module": "@jupyter-widgets/base",
            "_view_module_version": "1.2.0",
            "_view_name": "LayoutView",
            "align_content": null,
            "align_items": null,
            "align_self": null,
            "border": null,
            "bottom": null,
            "display": null,
            "flex": null,
            "flex_flow": null,
            "grid_area": null,
            "grid_auto_columns": null,
            "grid_auto_flow": null,
            "grid_auto_rows": null,
            "grid_column": null,
            "grid_gap": null,
            "grid_row": null,
            "grid_template_areas": null,
            "grid_template_columns": null,
            "grid_template_rows": null,
            "height": null,
            "justify_content": null,
            "justify_items": null,
            "left": null,
            "margin": null,
            "max_height": null,
            "max_width": null,
            "min_height": null,
            "min_width": null,
            "object_fit": null,
            "object_position": null,
            "order": null,
            "overflow": null,
            "overflow_x": null,
            "overflow_y": null,
            "padding": null,
            "right": null,
            "top": null,
            "visibility": null,
            "width": null
          }
        },
        "d67ebbd879384fb9bee1144be648f222": {
          "model_module": "@jupyter-widgets/controls",
          "model_name": "ProgressStyleModel",
          "model_module_version": "1.5.0",
          "state": {
            "_model_module": "@jupyter-widgets/controls",
            "_model_module_version": "1.5.0",
            "_model_name": "ProgressStyleModel",
            "_view_count": null,
            "_view_module": "@jupyter-widgets/base",
            "_view_module_version": "1.2.0",
            "_view_name": "StyleView",
            "bar_color": null,
            "description_width": ""
          }
        },
        "57aa9c0bbee04e7ba1051a9c5efdac3d": {
          "model_module": "@jupyter-widgets/base",
          "model_name": "LayoutModel",
          "model_module_version": "1.2.0",
          "state": {
            "_model_module": "@jupyter-widgets/base",
            "_model_module_version": "1.2.0",
            "_model_name": "LayoutModel",
            "_view_count": null,
            "_view_module": "@jupyter-widgets/base",
            "_view_module_version": "1.2.0",
            "_view_name": "LayoutView",
            "align_content": null,
            "align_items": null,
            "align_self": null,
            "border": null,
            "bottom": null,
            "display": null,
            "flex": null,
            "flex_flow": null,
            "grid_area": null,
            "grid_auto_columns": null,
            "grid_auto_flow": null,
            "grid_auto_rows": null,
            "grid_column": null,
            "grid_gap": null,
            "grid_row": null,
            "grid_template_areas": null,
            "grid_template_columns": null,
            "grid_template_rows": null,
            "height": null,
            "justify_content": null,
            "justify_items": null,
            "left": null,
            "margin": null,
            "max_height": null,
            "max_width": null,
            "min_height": null,
            "min_width": null,
            "object_fit": null,
            "object_position": null,
            "order": null,
            "overflow": null,
            "overflow_x": null,
            "overflow_y": null,
            "padding": null,
            "right": null,
            "top": null,
            "visibility": null,
            "width": null
          }
        },
        "4af54126987b427c9eca8117e8639555": {
          "model_module": "@jupyter-widgets/controls",
          "model_name": "DescriptionStyleModel",
          "model_module_version": "1.5.0",
          "state": {
            "_model_module": "@jupyter-widgets/controls",
            "_model_module_version": "1.5.0",
            "_model_name": "DescriptionStyleModel",
            "_view_count": null,
            "_view_module": "@jupyter-widgets/base",
            "_view_module_version": "1.2.0",
            "_view_name": "StyleView",
            "description_width": ""
          }
        },
        "ac76ed9e2f0c47cabffd0364b56ac5f2": {
          "model_module": "@jupyter-widgets/controls",
          "model_name": "HBoxModel",
          "model_module_version": "1.5.0",
          "state": {
            "_dom_classes": [],
            "_model_module": "@jupyter-widgets/controls",
            "_model_module_version": "1.5.0",
            "_model_name": "HBoxModel",
            "_view_count": null,
            "_view_module": "@jupyter-widgets/controls",
            "_view_module_version": "1.5.0",
            "_view_name": "HBoxView",
            "box_style": "",
            "children": [
              "IPY_MODEL_471cd246c1bd4f6e8590fa561f0cb93c",
              "IPY_MODEL_f5c7648109aa4a998e5d618a7604a5f3",
              "IPY_MODEL_756eaf26e2524525bc6cd82b23722b23"
            ],
            "layout": "IPY_MODEL_0265a13c294b46b3a75c899e376b7981"
          }
        },
        "471cd246c1bd4f6e8590fa561f0cb93c": {
          "model_module": "@jupyter-widgets/controls",
          "model_name": "HTMLModel",
          "model_module_version": "1.5.0",
          "state": {
            "_dom_classes": [],
            "_model_module": "@jupyter-widgets/controls",
            "_model_module_version": "1.5.0",
            "_model_name": "HTMLModel",
            "_view_count": null,
            "_view_module": "@jupyter-widgets/controls",
            "_view_module_version": "1.5.0",
            "_view_name": "HTMLView",
            "description": "",
            "description_tooltip": null,
            "layout": "IPY_MODEL_0f2a266875d349b7958be02bc86f3875",
            "placeholder": "​",
            "style": "IPY_MODEL_fef1352efda145c3945b2136ca55cb68",
            "value": "Downloading: 100%"
          }
        },
        "f5c7648109aa4a998e5d618a7604a5f3": {
          "model_module": "@jupyter-widgets/controls",
          "model_name": "FloatProgressModel",
          "model_module_version": "1.5.0",
          "state": {
            "_dom_classes": [],
            "_model_module": "@jupyter-widgets/controls",
            "_model_module_version": "1.5.0",
            "_model_name": "FloatProgressModel",
            "_view_count": null,
            "_view_module": "@jupyter-widgets/controls",
            "_view_module_version": "1.5.0",
            "_view_name": "ProgressView",
            "bar_style": "success",
            "description": "",
            "description_tooltip": null,
            "layout": "IPY_MODEL_d4a35c6b38784ed3a7d7724ea348c16c",
            "max": 485,
            "min": 0,
            "orientation": "horizontal",
            "style": "IPY_MODEL_b0c9c47daff845af9e77e6ba465575fc",
            "value": 485
          }
        },
        "756eaf26e2524525bc6cd82b23722b23": {
          "model_module": "@jupyter-widgets/controls",
          "model_name": "HTMLModel",
          "model_module_version": "1.5.0",
          "state": {
            "_dom_classes": [],
            "_model_module": "@jupyter-widgets/controls",
            "_model_module_version": "1.5.0",
            "_model_name": "HTMLModel",
            "_view_count": null,
            "_view_module": "@jupyter-widgets/controls",
            "_view_module_version": "1.5.0",
            "_view_name": "HTMLView",
            "description": "",
            "description_tooltip": null,
            "layout": "IPY_MODEL_54ffe212f65a465a807af1afa85eab5a",
            "placeholder": "​",
            "style": "IPY_MODEL_a743547bb35c49d5992f0a4f58fc9168",
            "value": " 485/485 [00:00&lt;00:00, 4.22kB/s]"
          }
        },
        "0265a13c294b46b3a75c899e376b7981": {
          "model_module": "@jupyter-widgets/base",
          "model_name": "LayoutModel",
          "model_module_version": "1.2.0",
          "state": {
            "_model_module": "@jupyter-widgets/base",
            "_model_module_version": "1.2.0",
            "_model_name": "LayoutModel",
            "_view_count": null,
            "_view_module": "@jupyter-widgets/base",
            "_view_module_version": "1.2.0",
            "_view_name": "LayoutView",
            "align_content": null,
            "align_items": null,
            "align_self": null,
            "border": null,
            "bottom": null,
            "display": null,
            "flex": null,
            "flex_flow": null,
            "grid_area": null,
            "grid_auto_columns": null,
            "grid_auto_flow": null,
            "grid_auto_rows": null,
            "grid_column": null,
            "grid_gap": null,
            "grid_row": null,
            "grid_template_areas": null,
            "grid_template_columns": null,
            "grid_template_rows": null,
            "height": null,
            "justify_content": null,
            "justify_items": null,
            "left": null,
            "margin": null,
            "max_height": null,
            "max_width": null,
            "min_height": null,
            "min_width": null,
            "object_fit": null,
            "object_position": null,
            "order": null,
            "overflow": null,
            "overflow_x": null,
            "overflow_y": null,
            "padding": null,
            "right": null,
            "top": null,
            "visibility": null,
            "width": null
          }
        },
        "0f2a266875d349b7958be02bc86f3875": {
          "model_module": "@jupyter-widgets/base",
          "model_name": "LayoutModel",
          "model_module_version": "1.2.0",
          "state": {
            "_model_module": "@jupyter-widgets/base",
            "_model_module_version": "1.2.0",
            "_model_name": "LayoutModel",
            "_view_count": null,
            "_view_module": "@jupyter-widgets/base",
            "_view_module_version": "1.2.0",
            "_view_name": "LayoutView",
            "align_content": null,
            "align_items": null,
            "align_self": null,
            "border": null,
            "bottom": null,
            "display": null,
            "flex": null,
            "flex_flow": null,
            "grid_area": null,
            "grid_auto_columns": null,
            "grid_auto_flow": null,
            "grid_auto_rows": null,
            "grid_column": null,
            "grid_gap": null,
            "grid_row": null,
            "grid_template_areas": null,
            "grid_template_columns": null,
            "grid_template_rows": null,
            "height": null,
            "justify_content": null,
            "justify_items": null,
            "left": null,
            "margin": null,
            "max_height": null,
            "max_width": null,
            "min_height": null,
            "min_width": null,
            "object_fit": null,
            "object_position": null,
            "order": null,
            "overflow": null,
            "overflow_x": null,
            "overflow_y": null,
            "padding": null,
            "right": null,
            "top": null,
            "visibility": null,
            "width": null
          }
        },
        "fef1352efda145c3945b2136ca55cb68": {
          "model_module": "@jupyter-widgets/controls",
          "model_name": "DescriptionStyleModel",
          "model_module_version": "1.5.0",
          "state": {
            "_model_module": "@jupyter-widgets/controls",
            "_model_module_version": "1.5.0",
            "_model_name": "DescriptionStyleModel",
            "_view_count": null,
            "_view_module": "@jupyter-widgets/base",
            "_view_module_version": "1.2.0",
            "_view_name": "StyleView",
            "description_width": ""
          }
        },
        "d4a35c6b38784ed3a7d7724ea348c16c": {
          "model_module": "@jupyter-widgets/base",
          "model_name": "LayoutModel",
          "model_module_version": "1.2.0",
          "state": {
            "_model_module": "@jupyter-widgets/base",
            "_model_module_version": "1.2.0",
            "_model_name": "LayoutModel",
            "_view_count": null,
            "_view_module": "@jupyter-widgets/base",
            "_view_module_version": "1.2.0",
            "_view_name": "LayoutView",
            "align_content": null,
            "align_items": null,
            "align_self": null,
            "border": null,
            "bottom": null,
            "display": null,
            "flex": null,
            "flex_flow": null,
            "grid_area": null,
            "grid_auto_columns": null,
            "grid_auto_flow": null,
            "grid_auto_rows": null,
            "grid_column": null,
            "grid_gap": null,
            "grid_row": null,
            "grid_template_areas": null,
            "grid_template_columns": null,
            "grid_template_rows": null,
            "height": null,
            "justify_content": null,
            "justify_items": null,
            "left": null,
            "margin": null,
            "max_height": null,
            "max_width": null,
            "min_height": null,
            "min_width": null,
            "object_fit": null,
            "object_position": null,
            "order": null,
            "overflow": null,
            "overflow_x": null,
            "overflow_y": null,
            "padding": null,
            "right": null,
            "top": null,
            "visibility": null,
            "width": null
          }
        },
        "b0c9c47daff845af9e77e6ba465575fc": {
          "model_module": "@jupyter-widgets/controls",
          "model_name": "ProgressStyleModel",
          "model_module_version": "1.5.0",
          "state": {
            "_model_module": "@jupyter-widgets/controls",
            "_model_module_version": "1.5.0",
            "_model_name": "ProgressStyleModel",
            "_view_count": null,
            "_view_module": "@jupyter-widgets/base",
            "_view_module_version": "1.2.0",
            "_view_name": "StyleView",
            "bar_color": null,
            "description_width": ""
          }
        },
        "54ffe212f65a465a807af1afa85eab5a": {
          "model_module": "@jupyter-widgets/base",
          "model_name": "LayoutModel",
          "model_module_version": "1.2.0",
          "state": {
            "_model_module": "@jupyter-widgets/base",
            "_model_module_version": "1.2.0",
            "_model_name": "LayoutModel",
            "_view_count": null,
            "_view_module": "@jupyter-widgets/base",
            "_view_module_version": "1.2.0",
            "_view_name": "LayoutView",
            "align_content": null,
            "align_items": null,
            "align_self": null,
            "border": null,
            "bottom": null,
            "display": null,
            "flex": null,
            "flex_flow": null,
            "grid_area": null,
            "grid_auto_columns": null,
            "grid_auto_flow": null,
            "grid_auto_rows": null,
            "grid_column": null,
            "grid_gap": null,
            "grid_row": null,
            "grid_template_areas": null,
            "grid_template_columns": null,
            "grid_template_rows": null,
            "height": null,
            "justify_content": null,
            "justify_items": null,
            "left": null,
            "margin": null,
            "max_height": null,
            "max_width": null,
            "min_height": null,
            "min_width": null,
            "object_fit": null,
            "object_position": null,
            "order": null,
            "overflow": null,
            "overflow_x": null,
            "overflow_y": null,
            "padding": null,
            "right": null,
            "top": null,
            "visibility": null,
            "width": null
          }
        },
        "a743547bb35c49d5992f0a4f58fc9168": {
          "model_module": "@jupyter-widgets/controls",
          "model_name": "DescriptionStyleModel",
          "model_module_version": "1.5.0",
          "state": {
            "_model_module": "@jupyter-widgets/controls",
            "_model_module_version": "1.5.0",
            "_model_name": "DescriptionStyleModel",
            "_view_count": null,
            "_view_module": "@jupyter-widgets/base",
            "_view_module_version": "1.2.0",
            "_view_name": "StyleView",
            "description_width": ""
          }
        },
        "61d854c5e1444b4dacb276379068fdd8": {
          "model_module": "@jupyter-widgets/controls",
          "model_name": "HBoxModel",
          "model_module_version": "1.5.0",
          "state": {
            "_dom_classes": [],
            "_model_module": "@jupyter-widgets/controls",
            "_model_module_version": "1.5.0",
            "_model_name": "HBoxModel",
            "_view_count": null,
            "_view_module": "@jupyter-widgets/controls",
            "_view_module_version": "1.5.0",
            "_view_name": "HBoxView",
            "box_style": "",
            "children": [
              "IPY_MODEL_0b933a5eab5a4122aeffecf8ce879f22",
              "IPY_MODEL_e80c6159c29843479a74ea05f036b7a3",
              "IPY_MODEL_f3ae13a95ca04709a2b42b4525347cca"
            ],
            "layout": "IPY_MODEL_e7b3846ec82d4802920dce29e20fe66a"
          }
        },
        "0b933a5eab5a4122aeffecf8ce879f22": {
          "model_module": "@jupyter-widgets/controls",
          "model_name": "HTMLModel",
          "model_module_version": "1.5.0",
          "state": {
            "_dom_classes": [],
            "_model_module": "@jupyter-widgets/controls",
            "_model_module_version": "1.5.0",
            "_model_name": "HTMLModel",
            "_view_count": null,
            "_view_module": "@jupyter-widgets/controls",
            "_view_module_version": "1.5.0",
            "_view_name": "HTMLView",
            "description": "",
            "description_tooltip": null,
            "layout": "IPY_MODEL_ef8b89202beb4a5b99549a7188582686",
            "placeholder": "​",
            "style": "IPY_MODEL_5fa43d4f117e4230831ef9daa224da95",
            "value": "Downloading: 100%"
          }
        },
        "e80c6159c29843479a74ea05f036b7a3": {
          "model_module": "@jupyter-widgets/controls",
          "model_name": "FloatProgressModel",
          "model_module_version": "1.5.0",
          "state": {
            "_dom_classes": [],
            "_model_module": "@jupyter-widgets/controls",
            "_model_module_version": "1.5.0",
            "_model_name": "FloatProgressModel",
            "_view_count": null,
            "_view_module": "@jupyter-widgets/controls",
            "_view_module_version": "1.5.0",
            "_view_name": "ProgressView",
            "bar_style": "success",
            "description": "",
            "description_tooltip": null,
            "layout": "IPY_MODEL_74fc462fe6e24e34a0e1d9f16739fd9f",
            "max": 267845150,
            "min": 0,
            "orientation": "horizontal",
            "style": "IPY_MODEL_a9a40272cb694d23aff6c577e1ad44ca",
            "value": 267845150
          }
        },
        "f3ae13a95ca04709a2b42b4525347cca": {
          "model_module": "@jupyter-widgets/controls",
          "model_name": "HTMLModel",
          "model_module_version": "1.5.0",
          "state": {
            "_dom_classes": [],
            "_model_module": "@jupyter-widgets/controls",
            "_model_module_version": "1.5.0",
            "_model_name": "HTMLModel",
            "_view_count": null,
            "_view_module": "@jupyter-widgets/controls",
            "_view_module_version": "1.5.0",
            "_view_name": "HTMLView",
            "description": "",
            "description_tooltip": null,
            "layout": "IPY_MODEL_c184f8e9b6924b5c9076c3f11e3f1a70",
            "placeholder": "​",
            "style": "IPY_MODEL_a825367658c54961a6efb287ed26763b",
            "value": " 255M/255M [00:11&lt;00:00, 22.9MB/s]"
          }
        },
        "e7b3846ec82d4802920dce29e20fe66a": {
          "model_module": "@jupyter-widgets/base",
          "model_name": "LayoutModel",
          "model_module_version": "1.2.0",
          "state": {
            "_model_module": "@jupyter-widgets/base",
            "_model_module_version": "1.2.0",
            "_model_name": "LayoutModel",
            "_view_count": null,
            "_view_module": "@jupyter-widgets/base",
            "_view_module_version": "1.2.0",
            "_view_name": "LayoutView",
            "align_content": null,
            "align_items": null,
            "align_self": null,
            "border": null,
            "bottom": null,
            "display": null,
            "flex": null,
            "flex_flow": null,
            "grid_area": null,
            "grid_auto_columns": null,
            "grid_auto_flow": null,
            "grid_auto_rows": null,
            "grid_column": null,
            "grid_gap": null,
            "grid_row": null,
            "grid_template_areas": null,
            "grid_template_columns": null,
            "grid_template_rows": null,
            "height": null,
            "justify_content": null,
            "justify_items": null,
            "left": null,
            "margin": null,
            "max_height": null,
            "max_width": null,
            "min_height": null,
            "min_width": null,
            "object_fit": null,
            "object_position": null,
            "order": null,
            "overflow": null,
            "overflow_x": null,
            "overflow_y": null,
            "padding": null,
            "right": null,
            "top": null,
            "visibility": null,
            "width": null
          }
        },
        "ef8b89202beb4a5b99549a7188582686": {
          "model_module": "@jupyter-widgets/base",
          "model_name": "LayoutModel",
          "model_module_version": "1.2.0",
          "state": {
            "_model_module": "@jupyter-widgets/base",
            "_model_module_version": "1.2.0",
            "_model_name": "LayoutModel",
            "_view_count": null,
            "_view_module": "@jupyter-widgets/base",
            "_view_module_version": "1.2.0",
            "_view_name": "LayoutView",
            "align_content": null,
            "align_items": null,
            "align_self": null,
            "border": null,
            "bottom": null,
            "display": null,
            "flex": null,
            "flex_flow": null,
            "grid_area": null,
            "grid_auto_columns": null,
            "grid_auto_flow": null,
            "grid_auto_rows": null,
            "grid_column": null,
            "grid_gap": null,
            "grid_row": null,
            "grid_template_areas": null,
            "grid_template_columns": null,
            "grid_template_rows": null,
            "height": null,
            "justify_content": null,
            "justify_items": null,
            "left": null,
            "margin": null,
            "max_height": null,
            "max_width": null,
            "min_height": null,
            "min_width": null,
            "object_fit": null,
            "object_position": null,
            "order": null,
            "overflow": null,
            "overflow_x": null,
            "overflow_y": null,
            "padding": null,
            "right": null,
            "top": null,
            "visibility": null,
            "width": null
          }
        },
        "5fa43d4f117e4230831ef9daa224da95": {
          "model_module": "@jupyter-widgets/controls",
          "model_name": "DescriptionStyleModel",
          "model_module_version": "1.5.0",
          "state": {
            "_model_module": "@jupyter-widgets/controls",
            "_model_module_version": "1.5.0",
            "_model_name": "DescriptionStyleModel",
            "_view_count": null,
            "_view_module": "@jupyter-widgets/base",
            "_view_module_version": "1.2.0",
            "_view_name": "StyleView",
            "description_width": ""
          }
        },
        "74fc462fe6e24e34a0e1d9f16739fd9f": {
          "model_module": "@jupyter-widgets/base",
          "model_name": "LayoutModel",
          "model_module_version": "1.2.0",
          "state": {
            "_model_module": "@jupyter-widgets/base",
            "_model_module_version": "1.2.0",
            "_model_name": "LayoutModel",
            "_view_count": null,
            "_view_module": "@jupyter-widgets/base",
            "_view_module_version": "1.2.0",
            "_view_name": "LayoutView",
            "align_content": null,
            "align_items": null,
            "align_self": null,
            "border": null,
            "bottom": null,
            "display": null,
            "flex": null,
            "flex_flow": null,
            "grid_area": null,
            "grid_auto_columns": null,
            "grid_auto_flow": null,
            "grid_auto_rows": null,
            "grid_column": null,
            "grid_gap": null,
            "grid_row": null,
            "grid_template_areas": null,
            "grid_template_columns": null,
            "grid_template_rows": null,
            "height": null,
            "justify_content": null,
            "justify_items": null,
            "left": null,
            "margin": null,
            "max_height": null,
            "max_width": null,
            "min_height": null,
            "min_width": null,
            "object_fit": null,
            "object_position": null,
            "order": null,
            "overflow": null,
            "overflow_x": null,
            "overflow_y": null,
            "padding": null,
            "right": null,
            "top": null,
            "visibility": null,
            "width": null
          }
        },
        "a9a40272cb694d23aff6c577e1ad44ca": {
          "model_module": "@jupyter-widgets/controls",
          "model_name": "ProgressStyleModel",
          "model_module_version": "1.5.0",
          "state": {
            "_model_module": "@jupyter-widgets/controls",
            "_model_module_version": "1.5.0",
            "_model_name": "ProgressStyleModel",
            "_view_count": null,
            "_view_module": "@jupyter-widgets/base",
            "_view_module_version": "1.2.0",
            "_view_name": "StyleView",
            "bar_color": null,
            "description_width": ""
          }
        },
        "c184f8e9b6924b5c9076c3f11e3f1a70": {
          "model_module": "@jupyter-widgets/base",
          "model_name": "LayoutModel",
          "model_module_version": "1.2.0",
          "state": {
            "_model_module": "@jupyter-widgets/base",
            "_model_module_version": "1.2.0",
            "_model_name": "LayoutModel",
            "_view_count": null,
            "_view_module": "@jupyter-widgets/base",
            "_view_module_version": "1.2.0",
            "_view_name": "LayoutView",
            "align_content": null,
            "align_items": null,
            "align_self": null,
            "border": null,
            "bottom": null,
            "display": null,
            "flex": null,
            "flex_flow": null,
            "grid_area": null,
            "grid_auto_columns": null,
            "grid_auto_flow": null,
            "grid_auto_rows": null,
            "grid_column": null,
            "grid_gap": null,
            "grid_row": null,
            "grid_template_areas": null,
            "grid_template_columns": null,
            "grid_template_rows": null,
            "height": null,
            "justify_content": null,
            "justify_items": null,
            "left": null,
            "margin": null,
            "max_height": null,
            "max_width": null,
            "min_height": null,
            "min_width": null,
            "object_fit": null,
            "object_position": null,
            "order": null,
            "overflow": null,
            "overflow_x": null,
            "overflow_y": null,
            "padding": null,
            "right": null,
            "top": null,
            "visibility": null,
            "width": null
          }
        },
        "a825367658c54961a6efb287ed26763b": {
          "model_module": "@jupyter-widgets/controls",
          "model_name": "DescriptionStyleModel",
          "model_module_version": "1.5.0",
          "state": {
            "_model_module": "@jupyter-widgets/controls",
            "_model_module_version": "1.5.0",
            "_model_name": "DescriptionStyleModel",
            "_view_count": null,
            "_view_module": "@jupyter-widgets/base",
            "_view_module_version": "1.2.0",
            "_view_name": "StyleView",
            "description_width": ""
          }
        }
      }
    }
  },
  "nbformat": 4,
  "nbformat_minor": 0
}